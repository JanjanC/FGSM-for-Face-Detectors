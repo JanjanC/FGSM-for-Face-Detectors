{
 "cells": [
  {
   "cell_type": "code",
   "execution_count": null,
   "id": "15c8fd36",
   "metadata": {
    "scrolled": false
   },
   "outputs": [],
   "source": [
    "%load_ext autoreload\n",
    "%autoreload 2\n",
    "\n",
    "import os\n",
    "import time\n",
    "import cv2\n",
    "import torch\n",
    "import numpy as np"
   ]
  },
  {
   "cell_type": "code",
   "execution_count": null,
   "id": "4e89d98f",
   "metadata": {},
   "outputs": [],
   "source": [
    "from scripts.utils import np_to_tesor_img, tensor_to_np_img, save_tensor_img, open_img_as_tensor, display_img"
   ]
  },
  {
   "cell_type": "markdown",
   "id": "d7376ded",
   "metadata": {},
   "source": [
    "## Face Detector Models"
   ]
  },
  {
   "cell_type": "code",
   "execution_count": null,
   "id": "f4aa6149",
   "metadata": {
    "scrolled": true
   },
   "outputs": [],
   "source": [
    "from scripts.face_detectors import MediaPipe, YuNet, YoloFace"
   ]
  },
  {
   "cell_type": "code",
   "execution_count": null,
   "id": "87537d79",
   "metadata": {},
   "outputs": [],
   "source": [
    "mp = MediaPipe()\n",
    "yn = YuNet()\n",
    "yf = YoloFace(conf=0.9)"
   ]
  },
  {
   "cell_type": "markdown",
   "id": "c3477648",
   "metadata": {},
   "source": [
    "## Our Model"
   ]
  },
  {
   "cell_type": "code",
   "execution_count": null,
   "id": "3739291d",
   "metadata": {
    "scrolled": true
   },
   "outputs": [],
   "source": [
    "from scripts.iarm import *\n",
    "iarm = IARM()"
   ]
  },
  {
   "cell_type": "markdown",
   "id": "dff92e19",
   "metadata": {},
   "source": [
    "## Image Feature Extraction"
   ]
  },
  {
   "cell_type": "code",
   "execution_count": null,
   "id": "266919a0-06ad-4f2b-987c-c9fc5825b328",
   "metadata": {
    "scrolled": true
   },
   "outputs": [],
   "source": [
    "from scripts import image_attributes"
   ]
  },
  {
   "cell_type": "code",
   "execution_count": null,
   "id": "be5af1ad",
   "metadata": {},
   "outputs": [],
   "source": [
    "# Settings\n",
    "image_attributes.save_color_images = False\n",
    "image_attributes.save_lbp_images = False\n",
    "image_attributes.save_gradient_images = False"
   ]
  },
  {
   "cell_type": "markdown",
   "id": "f5cd60e3",
   "metadata": {},
   "source": [
    "## FGSM"
   ]
  },
  {
   "cell_type": "markdown",
   "id": "354e3340",
   "metadata": {},
   "source": [
    "Model for feature extraction"
   ]
  },
  {
   "cell_type": "code",
   "execution_count": null,
   "id": "104bd8b3",
   "metadata": {},
   "outputs": [],
   "source": [
    "print(\"CUDA Available: \", torch.cuda.is_available())\n",
    "main_yf = YoloFace()\n",
    "device, model = main_yf.device, main_yf.yf_face_detector\n",
    "model.eval()"
   ]
  },
  {
   "cell_type": "code",
   "execution_count": null,
   "id": "7b600713",
   "metadata": {
    "scrolled": true
   },
   "outputs": [],
   "source": [
    "from scripts import fgsm"
   ]
  },
  {
   "cell_type": "markdown",
   "id": "596fab7d",
   "metadata": {},
   "source": [
    "Sample attack without mask"
   ]
  },
  {
   "cell_type": "code",
   "execution_count": null,
   "id": "ba02a996",
   "metadata": {},
   "outputs": [],
   "source": [
    "input_file = r\"./input/sample1.jpg\""
   ]
  },
  {
   "cell_type": "code",
   "execution_count": null,
   "id": "d68d1803",
   "metadata": {
    "scrolled": true
   },
   "outputs": [],
   "source": [
    "t1 = time.time()\n",
    "\n",
    "input_img = open_img_as_tensor(input_file)\n",
    "feats, grads, bboxes, masks = image_attributes.get_features(input_file)\n",
    "preds = iarm.predict(feats)\n",
    "output_img = fgsm.fgsm_attack(input_img, preds, grads, masks)\n",
    "\n",
    "t2 = time.time()\n",
    "\n",
    "print(\"Our regression model run time:\", t2 - t1)\n",
    "display_img(output_img)"
   ]
  },
  {
   "cell_type": "markdown",
   "id": "8fef5bc7",
   "metadata": {},
   "source": [
    "Sample attack with mask"
   ]
  },
  {
   "cell_type": "code",
   "execution_count": null,
   "id": "6ec1cc36",
   "metadata": {},
   "outputs": [],
   "source": [
    "input_file = r\"./input/sample2.jpg\""
   ]
  },
  {
   "cell_type": "code",
   "execution_count": null,
   "id": "b5e45763",
   "metadata": {},
   "outputs": [],
   "source": [
    "from scripts.facesegmentor import FaceSegementor\n",
    "faceseg = FaceSegementor()\n",
    "\n",
    "t1 = time.time()\n",
    "\n",
    "input_img = open_img_as_tensor(input_file)\n",
    "feats, grads, bboxes, masks = image_attributes.get_features(input_file, face_segmentor=faceseg)\n",
    "preds = iarm.predict(feats)\n",
    "output_img = fgsm.fgsm_attack(input_img, preds, grads, masks)\n",
    "\n",
    "t2 = time.time()\n",
    "\n",
    "print(\"Our regression model run time:\", t2 - t1)\n",
    "display_img(output_img)"
   ]
  },
  {
   "cell_type": "markdown",
   "id": "e66d4335",
   "metadata": {},
   "source": [
    "Compare with binary search"
   ]
  },
  {
   "cell_type": "code",
   "execution_count": null,
   "id": "15c405f4",
   "metadata": {},
   "outputs": [],
   "source": [
    "input_file = r\"./input/sample3.jpg\""
   ]
  },
  {
   "cell_type": "code",
   "execution_count": null,
   "id": "a10ebd33",
   "metadata": {},
   "outputs": [],
   "source": [
    "t1 = time.time()\n",
    "\n",
    "input_img = open_img_as_tensor(input_file)\n",
    "_, grads, bboxes, masks = image_attributes.get_features(input_file)\n",
    "e_mins = []\n",
    "\n",
    "for data_grad, mask, bbox in zip(grads, masks, bboxes):\n",
    "    e_mins.append(fgsm.binary_search(input_img, data_grad, yf, mask, bbox))\n",
    "\n",
    "output_img = fgsm.fgsm_attack(input_img, e_mins, grads, masks)\n",
    "\n",
    "t2 = time.time()\n",
    "\n",
    "print(\"Our regression model run time:\", t2 - t1)\n",
    "display_img(output_img)"
   ]
  },
  {
   "cell_type": "markdown",
   "id": "a064753d",
   "metadata": {},
   "source": [
    "Check if the faces can still be detected"
   ]
  },
  {
   "cell_type": "code",
   "execution_count": null,
   "id": "3f3fcf6a",
   "metadata": {},
   "outputs": [],
   "source": [
    "input_file = r\"./input/sample1.jpg\""
   ]
  },
  {
   "cell_type": "code",
   "execution_count": null,
   "id": "5dd4c70e",
   "metadata": {},
   "outputs": [],
   "source": [
    "input_img = open_img_as_tensor(input_file)\n",
    "feats, grads, bboxes, masks = image_attributes.get_features(input_file)\n",
    "preds = iarm.predict(feats, multiplier=2.5)\n",
    "output_img = fgsm.fgsm_attack(input_img, preds, grads, masks)\n",
    "\n",
    "yf.detect(\"Detected faces:\", output_img)"
   ]
  },
  {
   "cell_type": "code",
   "execution_count": null,
   "id": "5adb5cea",
   "metadata": {},
   "outputs": [],
   "source": [
    "input_file = r\"./input/sample2.jpg\""
   ]
  },
  {
   "cell_type": "code",
   "execution_count": null,
   "id": "01c09c7c",
   "metadata": {},
   "outputs": [],
   "source": [
    "input_img = open_img_as_tensor(input_file)\n",
    "feats, grads, bboxes, masks = image_attributes.get_features(input_file)\n",
    "preds = iarm.predict(feats, multiplier=2.5)\n",
    "output_img = fgsm.fgsm_attack(input_img, preds, grads, masks)\n",
    "\n",
    "yf.detect(\"Detected faces:\", output_img)"
   ]
  },
  {
   "cell_type": "markdown",
   "id": "3896c248",
   "metadata": {},
   "source": [
    "##### ___"
   ]
  }
 ],
 "metadata": {
  "kernelspec": {
   "display_name": "Python 3 (ipykernel)",
   "language": "python",
   "name": "python3"
  },
  "language_info": {
   "codemirror_mode": {
    "name": "ipython",
    "version": 3
   },
   "file_extension": ".py",
   "mimetype": "text/x-python",
   "name": "python",
   "nbconvert_exporter": "python",
   "pygments_lexer": "ipython3",
   "version": "3.10.11"
  }
 },
 "nbformat": 4,
 "nbformat_minor": 5
}
