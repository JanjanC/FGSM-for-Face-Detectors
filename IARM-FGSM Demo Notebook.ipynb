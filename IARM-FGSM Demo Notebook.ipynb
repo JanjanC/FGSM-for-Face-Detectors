{
 "cells": [
  {
   "cell_type": "markdown",
   "metadata": {
    "cell_id": "a852f92699914e198df5106b815978e2",
    "deepnote_cell_type": "markdown"
   },
   "source": [
    "## Preliminaries\n"
   ]
  },
  {
   "cell_type": "markdown",
   "metadata": {
    "cell_id": "c8252421191a4df885094a0e65e3d42d",
    "deepnote_cell_type": "markdown"
   },
   "source": [
    "Import the necessary libraries dependencies.\n"
   ]
  },
  {
   "cell_type": "code",
   "execution_count": null,
   "metadata": {
    "cell_id": "1598bddb4f4b472798b05bb0816f503e",
    "deepnote_cell_type": "code",
    "scrolled": false
   },
   "outputs": [],
   "source": [
    "%load_ext autoreload\n",
    "%autoreload 2\n",
    "\n",
    "import os\n",
    "import time\n",
    "import cv2\n",
    "import torch\n",
    "import numpy as np"
   ]
  },
  {
   "cell_type": "code",
   "execution_count": null,
   "metadata": {
    "cell_id": "6dee9c13bbbf44c280d5684e4535bc6c",
    "deepnote_cell_type": "code"
   },
   "outputs": [],
   "source": [
    "from scripts.utils import np_to_tesor_img, tensor_to_np_img, save_tensor_img, open_img_as_tensor, display_img"
   ]
  },
  {
   "cell_type": "markdown",
   "metadata": {
    "cell_id": "8f4ad1ac1a6b45699a98ac3b881caf27",
    "deepnote_cell_type": "markdown"
   },
   "source": [
    "## Face Detector Models\n"
   ]
  },
  {
   "cell_type": "markdown",
   "metadata": {
    "cell_id": "e7ac3de10b9a42918812a6e350451dad",
    "deepnote_cell_type": "markdown"
   },
   "source": [
    "Import the face detection models of `MediaPipe`, `YuNet`, and `YoloFace` and store all three to their own respective variables.\n"
   ]
  },
  {
   "cell_type": "code",
   "execution_count": null,
   "metadata": {
    "cell_id": "63abb28490ec41ee90854ce74eee15a8",
    "deepnote_cell_type": "code",
    "scrolled": true
   },
   "outputs": [],
   "source": [
    "from scripts.face_detectors import MediaPipe, YuNet, YoloFace"
   ]
  },
  {
   "cell_type": "code",
   "execution_count": null,
   "metadata": {
    "cell_id": "953b27c59ff84470913f12e1f603f0e0",
    "deepnote_cell_type": "code"
   },
   "outputs": [],
   "source": [
    "mp = MediaPipe()\n",
    "yn = YuNet()\n",
    "yf = YoloFace()"
   ]
  },
  {
   "cell_type": "markdown",
   "metadata": {
    "cell_id": "9266398ff9e7459b9d1cf04c2ea2da17",
    "deepnote_cell_type": "markdown"
   },
   "source": [
    "## Our Model\n"
   ]
  },
  {
   "cell_type": "markdown",
   "metadata": {
    "cell_id": "3fd34b72b9384ee1a553e8ca8220f291",
    "deepnote_cell_type": "markdown"
   },
   "source": [
    "Import the `IARM-FGSM` model and store it to a variable.\n"
   ]
  },
  {
   "cell_type": "code",
   "execution_count": null,
   "metadata": {
    "cell_id": "6834509d0b624b4098c0e735457c76cb",
    "deepnote_cell_type": "code",
    "scrolled": true
   },
   "outputs": [],
   "source": [
    "from scripts.iarm import *\n",
    "iarm = IARM()"
   ]
  },
  {
   "cell_type": "markdown",
   "metadata": {
    "cell_id": "8e7445f2714942c69f3ab4cc86a80c91",
    "deepnote_cell_type": "markdown"
   },
   "source": [
    "## Image Feature Extraction\n"
   ]
  },
  {
   "cell_type": "markdown",
   "metadata": {
    "cell_id": "6990e6fbd06947e8b80add0599744748",
    "deepnote_cell_type": "markdown"
   },
   "source": [
    "Import the `image_attributes.py` to get the utilities needed for image feature extraction.\n"
   ]
  },
  {
   "cell_type": "code",
   "execution_count": null,
   "metadata": {
    "cell_id": "79607e12c04340cea319b7910be5e363",
    "deepnote_cell_type": "code",
    "scrolled": true
   },
   "outputs": [],
   "source": [
    "from scripts import image_attributes"
   ]
  },
  {
   "cell_type": "code",
   "execution_count": null,
   "metadata": {
    "cell_id": "bfb4663160d44f12ab8c47e9995fa7b2",
    "deepnote_cell_type": "code"
   },
   "outputs": [],
   "source": [
    "# Settings\n",
    "image_attributes.save_color_images = False\n",
    "image_attributes.save_lbp_images = False\n",
    "image_attributes.save_gradient_images = False"
   ]
  },
  {
   "cell_type": "markdown",
   "metadata": {
    "cell_id": "3dda52b7f2334c3a8861cf2d2210845a",
    "deepnote_cell_type": "markdown"
   },
   "source": [
    "## FGSM\n"
   ]
  },
  {
   "cell_type": "markdown",
   "metadata": {
    "cell_id": "927acb733d00440b8f5c1cbea488d898",
    "deepnote_cell_type": "markdown"
   },
   "source": [
    "Create a YOLO-face model instance to be used for generating the noise perturbation in the FGSM attack.\n"
   ]
  },
  {
   "cell_type": "code",
   "execution_count": null,
   "metadata": {
    "cell_id": "18b4e765a94045499faa8ea87b14be69",
    "deepnote_cell_type": "code"
   },
   "outputs": [],
   "source": [
    "# check if CUDA is enabled or available\n",
    "print(\"CUDA Available: \", torch.cuda.is_available())\n",
    "main_yf = YoloFace()\n",
    "device, model = main_yf.device, main_yf.yf_face_detector\n",
    "model.eval()"
   ]
  },
  {
   "cell_type": "code",
   "execution_count": null,
   "metadata": {
    "cell_id": "c1825ad387f8478da00d7ff8d3d6e9f1",
    "deepnote_cell_type": "code",
    "scrolled": true
   },
   "outputs": [],
   "source": [
    "from scripts import fgsm"
   ]
  },
  {
   "cell_type": "markdown",
   "metadata": {
    "cell_id": "14873fbbc4fa4f36ba9085f89d3d81d3",
    "deepnote_cell_type": "markdown"
   },
   "source": [
    "#### Sample attack without mask\n"
   ]
  },
  {
   "cell_type": "code",
   "execution_count": null,
   "metadata": {
    "cell_id": "3586c69ed4a54250a3b703087e0877ff",
    "deepnote_cell_type": "code"
   },
   "outputs": [],
   "source": [
    "input_file = r\"./input/sample1.jpg\""
   ]
  },
  {
   "cell_type": "code",
   "execution_count": null,
   "metadata": {
    "cell_id": "5b54442f75414a1fba79a41e4ff514fc",
    "deepnote_cell_type": "code",
    "scrolled": true
   },
   "outputs": [],
   "source": [
    "t1 = time.time()\n",
    "\n",
    "input_img = open_img_as_tensor(input_file)\n",
    "feats, grads, bboxes, masks = image_attributes.get_features(input_file)\n",
    "preds = iarm.predict(feats)\n",
    "output_img = fgsm.fgsm_attack(input_img, preds, grads, masks)\n",
    "\n",
    "t2 = time.time()\n",
    "\n",
    "print(\"Our regression model run time:\", t2 - t1)\n",
    "display_img(output_img)"
   ]
  },
  {
   "cell_type": "markdown",
   "metadata": {
    "cell_id": "3f2e579b74114a3f977ec45f2b73dfa7",
    "deepnote_cell_type": "markdown"
   },
   "source": [
    "#### Sample attack with mask\n"
   ]
  },
  {
   "cell_type": "code",
   "execution_count": null,
   "metadata": {
    "cell_id": "f149fcbb751149098195eac048d56c95",
    "deepnote_cell_type": "code"
   },
   "outputs": [],
   "source": [
    "input_file = r\"./input/sample2.jpg\""
   ]
  },
  {
   "cell_type": "code",
   "execution_count": null,
   "metadata": {
    "cell_id": "46772c85db89422b9bf76cd9b30f142b",
    "deepnote_cell_type": "code"
   },
   "outputs": [],
   "source": [
    "from scripts.facesegmentor import FaceSegementor\n",
    "faceseg = FaceSegementor()\n",
    "\n",
    "t1 = time.time()\n",
    "\n",
    "input_img = open_img_as_tensor(input_file)\n",
    "feats, grads, bboxes, masks = image_attributes.get_features(input_file, face_segmentor=faceseg)\n",
    "preds = iarm.predict(feats)\n",
    "output_img = fgsm.fgsm_attack(input_img, preds, grads, masks)\n",
    "\n",
    "t2 = time.time()\n",
    "\n",
    "print(\"Our regression model run time:\", t2 - t1)\n",
    "display_img(output_img)"
   ]
  },
  {
   "cell_type": "markdown",
   "metadata": {
    "cell_id": "c5af60163e6e436aaac90d5906697618",
    "deepnote_cell_type": "markdown"
   },
   "source": [
    "#### Compare with binary search\n"
   ]
  },
  {
   "cell_type": "code",
   "execution_count": null,
   "metadata": {
    "cell_id": "9ceb5b58e5934ce8826923fe20f820cb",
    "deepnote_cell_type": "code"
   },
   "outputs": [],
   "source": [
    "input_file = r\"./input/sample3.jpg\""
   ]
  },
  {
   "cell_type": "code",
   "execution_count": null,
   "metadata": {
    "cell_id": "02ce460a3f1441a3ad95574c30bebb2c",
    "deepnote_cell_type": "code"
   },
   "outputs": [],
   "source": [
    "t1 = time.time()\n",
    "\n",
    "input_img = open_img_as_tensor(input_file)\n",
    "_, grads, bboxes, masks = image_attributes.get_features(input_file)\n",
    "e_mins = []\n",
    "\n",
    "for data_grad, mask, bbox in zip(grads, masks, bboxes):\n",
    "    e_mins.append(fgsm.binary_search(input_img, data_grad, yf, mask, bbox))\n",
    "\n",
    "output_img = fgsm.fgsm_attack(input_img, e_mins, grads, masks)\n",
    "\n",
    "t2 = time.time()\n",
    "\n",
    "print(\"Our regression model run time:\", t2 - t1)\n",
    "display_img(output_img)"
   ]
  },
  {
   "cell_type": "markdown",
   "metadata": {
    "cell_id": "b52c5ca0a742448fb383dab2c62672ec",
    "deepnote_cell_type": "markdown"
   },
   "source": [
    "#### Check if the faces can still be detected\n"
   ]
  },
  {
   "cell_type": "code",
   "execution_count": null,
   "metadata": {
    "cell_id": "e808e7ac6dd548bf822d03b5d85572b7",
    "deepnote_cell_type": "code"
   },
   "outputs": [],
   "source": [
    "input_file = r\"./input/sample1.jpg\""
   ]
  },
  {
   "cell_type": "code",
   "execution_count": null,
   "metadata": {
    "cell_id": "d36c11310a934f6a98caf5c55885be30",
    "deepnote_cell_type": "code"
   },
   "outputs": [],
   "source": [
    "input_img = open_img_as_tensor(input_file)\n",
    "feats, grads, bboxes, masks = image_attributes.get_features(input_file)\n",
    "preds = iarm.predict(feats, multiplier=2.5)\n",
    "output_img = fgsm.fgsm_attack(input_img, preds, grads, masks)\n",
    "\n",
    "print(\"Detected faces:\")\n",
    "yf.detect(output_img)"
   ]
  },
  {
   "cell_type": "code",
   "execution_count": null,
   "metadata": {
    "cell_id": "82e02fbd7e5b4003bbedf3b6a112d1c3",
    "deepnote_cell_type": "code"
   },
   "outputs": [],
   "source": [
    "input_file = r\"./input/sample2.jpg\""
   ]
  },
  {
   "cell_type": "code",
   "execution_count": null,
   "metadata": {
    "cell_id": "9977e7e0296d42fe823c089de65e38dc",
    "deepnote_cell_type": "code"
   },
   "outputs": [],
   "source": [
    "input_img = open_img_as_tensor(input_file)\n",
    "feats, grads, bboxes, masks = image_attributes.get_features(input_file)\n",
    "preds = iarm.predict(feats, multiplier=2.5)\n",
    "output_img = fgsm.fgsm_attack(input_img, preds, grads, masks)\n",
    "\n",
    "print(\"Detected faces:\")\n",
    "yf.detect(output_img)"
   ]
  },
  {
   "cell_type": "markdown",
   "metadata": {
    "cell_id": "34ca5170f85646bea13730fc0528479f",
    "deepnote_cell_type": "markdown"
   },
   "source": [
    "##### \\_\\_\\_\n"
   ]
  },
  {
   "cell_type": "markdown",
   "metadata": {
    "created_in_deepnote_cell": true,
    "deepnote_cell_type": "markdown"
   },
   "source": [
    "<a style='text-decoration:none;line-height:16px;display:flex;color:#5B5B62;padding:10px;justify-content:end;' href='https://deepnote.com?utm_source=created-in-deepnote-cell&projectId=ea4f5838-df37-44b8-866b-b9dc1b4dd46c' target=\"_blank\">\n",
    "<img alt='Created in deepnote.com' style='display:inline;max-height:16px;margin:0px;margin-right:7.5px;' src='data:image/svg+xml;base64,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' > </img>\n",
    "Created in <span style='font-weight:600;margin-left:4px;'>Deepnote</span></a>\n"
   ]
  }
 ],
 "metadata": {
  "deepnote": {},
  "deepnote_execution_queue": [],
  "deepnote_notebook_id": "a002ab384366483a8fb7df732eb86e70",
  "kernelspec": {
   "display_name": "Python 3 (ipykernel)",
   "language": "python",
   "name": "python3"
  },
  "language_info": {
   "codemirror_mode": {
    "name": "ipython",
    "version": 3
   },
   "file_extension": ".py",
   "mimetype": "text/x-python",
   "name": "python",
   "nbconvert_exporter": "python",
   "pygments_lexer": "ipython3",
   "version": "3.9.13"
  }
 },
 "nbformat": 4,
 "nbformat_minor": 1
}
