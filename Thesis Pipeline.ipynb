{
 "cells": [
  {
   "cell_type": "code",
   "execution_count": 1,
   "id": "15c8fd36",
   "metadata": {},
   "outputs": [
    {
     "name": "stderr",
     "output_type": "stream",
     "text": [
      "<frozen importlib._bootstrap>:219: RuntimeWarning: scipy._lib.messagestream.MessageStream size changed, may indicate binary incompatibility. Expected 56 from C header, got 64 from PyObject\n"
     ]
    }
   ],
   "source": [
    "%load_ext autoreload\n",
    "%autoreload 2\n",
    "\n",
    "import os\n",
    "import time\n",
    "import glob\n",
    "import gdown\n",
    "import torch\n",
    "import torch.nn.functional as F\n",
    "import pandas as pd\n",
    "import numpy as np\n",
    "import csv\n",
    "import cv2\n",
    "import itertools\n",
    "import matplotlib.pyplot as plt\n",
    "import skimage.feature as feature\n",
    "import xlwings as xw\n",
    "import torchvision.transforms as transforms\n",
    "\n",
    "import random\n",
    "\n",
    "#libraries for yolo\n",
    "from pytorchyolo.models import load_model\n",
    "from pytorchyolo.utils.transforms import Resize, DEFAULT_TRANSFORMS\n",
    "from pytorchyolo.utils.utils import non_max_suppression\n",
    "from pytorchyolo.utils.loss import compute_loss\n",
    "\n",
    "from matplotlib.ticker import (FormatStrFormatter, AutoMinorLocator, FuncFormatter, )"
   ]
  },
  {
   "cell_type": "code",
   "execution_count": 2,
   "id": "ccd6df4b",
   "metadata": {},
   "outputs": [],
   "source": [
    "def download_weights():\n",
    "    model_file=[\n",
    "        'yolo_face_sthanhng.weights',\n",
    "        'yolo_face_sthanhng.cfg'\n",
    "    ]\n",
    "    \n",
    "    gdrive_url=[\n",
    "        'https://drive.google.com/uc?id=1utquM5TAnfIa1Aq0X9fCvrllHiTWazdD',\n",
    "        'https://drive.google.com/uc?id=1CPUZlYL5ik4d9y6oCyzi0930KgzawI6V'\n",
    "    ]\n",
    "    \n",
    "    cwd=os.getcwd() \n",
    "    if 'weights' in os.listdir(cwd):\n",
    "        for i in range(len(model_file)):\n",
    "            if model_file[i] in os.listdir(os.path.join(cwd, 'weights')):\n",
    "                print(model_file[i] + ':: status : file already exists')\n",
    "            else:\n",
    "                gdown.download(gdrive_url[i],os.path.join(cwd, 'weights', model_file[i]), quiet=False)\n",
    "    else:\n",
    "        os.makedirs(os.path.join(cwd,'weights'))\n",
    "        for i in range(len(model_file)):\n",
    "            gdown.download(gdrive_url[i], os.path.join(cwd, 'weights', model_file[i]), quiet=False)  "
   ]
  },
  {
   "cell_type": "code",
   "execution_count": 3,
   "id": "847df66c",
   "metadata": {
    "scrolled": true
   },
   "outputs": [
    {
     "name": "stdout",
     "output_type": "stream",
     "text": [
      "yolo_face_sthanhng.weights:: status : file already exists\n",
      "yolo_face_sthanhng.cfg:: status : file already exists\n"
     ]
    }
   ],
   "source": [
    "# download the necessary weights for YOLO-Face\n",
    "download_weights()"
   ]
  },
  {
   "cell_type": "markdown",
   "id": "57fd4752",
   "metadata": {},
   "source": [
    "## YOLOFace with FGSM"
   ]
  },
  {
   "cell_type": "code",
   "execution_count": 4,
   "id": "2a22160e",
   "metadata": {},
   "outputs": [
    {
     "name": "stdout",
     "output_type": "stream",
     "text": [
      "CUDA Available:  False\n"
     ]
    }
   ],
   "source": [
    "# Patterned after FGSM tutorial (https://pytorch.org/tutorials/beginner/fgsm_tutorial.html)\n",
    "# Define what device we are using\n",
    "print(\"CUDA Available: \", torch.cuda.is_available())\n",
    "device, model = load_model('./weights/yolo_face_sthanhng.cfg', \"./weights/yolo_face_sthanhng.weights\")\n",
    "\n",
    "# Set the model in evaluation mode. In this case this is for the Dropout layers\n",
    "model.eval()\n",
    "\n",
    "epsilons = [0, .05]\n",
    "use_cuda=True"
   ]
  },
  {
   "cell_type": "code",
   "execution_count": 5,
   "id": "020b4f73",
   "metadata": {
    "scrolled": true
   },
   "outputs": [
    {
     "data": {
      "text/plain": [
       "'\\n# FGSM attack code\\ndef fgsm_attack(image, epsilon, data_grad, x1, y1, x2, y2):\\n    # Collect the element-wise sign of the data gradient\\n    image = image\\n    sign_data_grad = data_grad.sign()\\n    # Create the perturbed image by adjusting each pixel of the input image\\n    perturbed_image = image\\n    perturbed_image[:, :, y1:y2, x1:x2] = perturbed_image[:, :, y1:y2, x1:x2] + epsilon * sign_data_grad[:, :, y1:y2, x1:x2] # apply it only to the face region\\n    # Adding clipping to maintain [0,1] range\\n    perturbed_image = torch.clamp(perturbed_image, 0, 1)\\n    # Return the perturbed image\\n    return perturbed_image\\n'"
      ]
     },
     "execution_count": 5,
     "metadata": {},
     "output_type": "execute_result"
    }
   ],
   "source": [
    "\"\"\"\n",
    "# FGSM attack code\n",
    "def fgsm_attack(image, epsilon, data_grad, x1, y1, x2, y2):\n",
    "    # Collect the element-wise sign of the data gradient\n",
    "    image = image\n",
    "    sign_data_grad = data_grad.sign()\n",
    "    # Create the perturbed image by adjusting each pixel of the input image\n",
    "    perturbed_image = image\n",
    "    perturbed_image[:, :, y1:y2, x1:x2] = perturbed_image[:, :, y1:y2, x1:x2] + epsilon * sign_data_grad[:, :, y1:y2, x1:x2] # apply it only to the face region\n",
    "    # Adding clipping to maintain [0,1] range\n",
    "    perturbed_image = torch.clamp(perturbed_image, 0, 1)\n",
    "    # Return the perturbed image\n",
    "    return perturbed_image\n",
    "\"\"\""
   ]
  },
  {
   "cell_type": "markdown",
   "id": "dff92e19",
   "metadata": {},
   "source": [
    "## Image Feature Extraction"
   ]
  },
  {
   "cell_type": "code",
   "execution_count": 6,
   "id": "266919a0-06ad-4f2b-987c-c9fc5825b328",
   "metadata": {},
   "outputs": [],
   "source": [
    "class LocalBinaryPatterns:\n",
    "  def __init__(self, numPoints, radius):\n",
    "    self.numPoints = numPoints\n",
    "    self.radius = radius\n",
    "\n",
    "  def describe(self, image, eps = 1e-7):\n",
    "    lbp = feature.local_binary_pattern(image, self.numPoints, self.radius, method=\"uniform\")\n",
    "    (hist, _) = np.histogram(lbp.ravel(), bins=np.arange(0, self.numPoints+3), range=(0, self.numPoints + 2))\n",
    "\n",
    "    # Normalize the histogram\n",
    "    hist = hist.astype('float')\n",
    "    hist /= (hist.sum() + eps)\n",
    "\n",
    "    return hist, lbp\n",
    "\n",
    "# From https://medium.com/mlearning-ai/how-to-plot-color-channels-histogram-of-an-image-in-python-using-opencv-40022032e127\n",
    "# Extracts image's color channel\n",
    "def extract_color_channel(path, face_index, image, version):\n",
    "    # BGR Image Color Conversion\n",
    "    image = cv2.cvtColor(image, cv2.COLOR_RGB2BGR)\n",
    "    rgb = cv2.cvtColor(image, cv2.COLOR_BGR2RGB)\n",
    "    hsv = cv2.cvtColor(image, cv2.COLOR_BGR2HSV)\n",
    "    hls = cv2.cvtColor(image, cv2.COLOR_BGR2HLS)\n",
    "    lab = cv2.cvtColor(image, cv2.COLOR_BGR2LAB)\n",
    "    ycrcb = cv2.cvtColor(image, cv2.COLOR_BGR2YCrCb)\n",
    "    \n",
    "    COLOR_PATH = os.path.join(FOLDER_PATH, FOLDER_NAME + '_Colors_' + version)\n",
    "    if not os.path.exists(COLOR_PATH):\n",
    "        os.mkdir(COLOR_PATH)\n",
    "    \n",
    "    cv2.imwrite(os.path.join(COLOR_PATH, os.path.splitext(os.path.basename(path))[0]) + '_RGB_' + version + '_' + str(face_index) + '.png', rgb)\n",
    "    cv2.imwrite(os.path.join(COLOR_PATH, os.path.splitext(os.path.basename(path))[0]) + '_HSV_' + version + '_' + str(face_index) + '.png', hsv)\n",
    "    cv2.imwrite(os.path.join(COLOR_PATH, os.path.splitext(os.path.basename(path))[0]) + '_HSL_' + version + '_' + str(face_index) + '.png', hls)\n",
    "    cv2.imwrite(os.path.join(COLOR_PATH, os.path.splitext(os.path.basename(path))[0]) + '_LAB_' + version + '_' + str(face_index) + '.png', lab)\n",
    "    cv2.imwrite(os.path.join(COLOR_PATH, os.path.splitext(os.path.basename(path))[0]) + '_YCRCB_' + version + '_' + str(face_index) + '.png', ycrcb)\n",
    "\n",
    "#     # RGB Image Histogram\n",
    "#     red_hist = cv2.calcHist([rgb], [0], None, [256], [0, 256])\n",
    "#     green_hist = cv2.calcHist([rgb], [1], None, [256], [0, 256])\n",
    "#     blue_hist = cv2.calcHist([rgb], [2], None, [256], [0, 256])\n",
    "\n",
    "#     # HSV Image Histogram\n",
    "#     hue_hist_HSV = cv2.calcHist([hsv], [0], None, [256], [0, 256])\n",
    "#     saturation_hist_HSV = cv2.calcHist([hsv], [1], None, [256], [0, 256])\n",
    "#     value_hist = cv2.calcHist([hsv], [2], None, [256], [0, 256])\n",
    "\n",
    "#     # HLS Image Histogram\n",
    "#     hue_hist_HLS = cv2.calcHist([hls], [0], None, [256], [0, 256])\n",
    "#     lightness_hist_HLS = cv2.calcHist([hls], [1], None, [256], [0, 256])\n",
    "#     saturation_hist_HLS = cv2.calcHist([hls], [2], None, [256], [0, 256])\n",
    "\n",
    "#     # LAB Image Histogram\n",
    "#     lightness_hist_LAB = cv2.calcHist([lab], [0], None, [256], [0, 256])\n",
    "#     a_hist_LAB = cv2.calcHist([lab], [1], None, [256], [0, 256])\n",
    "#     b_hist_LAB = cv2.calcHist([lab], [2], None, [256], [0, 256])\n",
    "\n",
    "#     # YCrCb Image Histogram\n",
    "#     y_hist = cv2.calcHist([ycrcb], [0], None, [256], [0, 256])\n",
    "#     cr_hist = cv2.calcHist([ycrcb], [1], None, [256], [0, 256])\n",
    "#     cb_hist = cv2.calcHist([ycrcb], [2], None, [256], [0, 256])\n",
    "\n",
    "#     # RGB Image Plot\n",
    "#     plt.subplot(4, 1, 1)\n",
    "#     plt.imshow(rgb)\n",
    "#     plt.title('RGB Image')\n",
    "#     plt.xticks([])\n",
    "#     plt.yticks([])\n",
    "\n",
    "#     plt.subplot(4, 1, 2)\n",
    "#     plt.plot(red_hist, color='r')\n",
    "#     plt.xlim([0, 256])\n",
    "#     plt.ylim([0, 500])\n",
    "#     plt.title('Red Histogram')\n",
    "\n",
    "#     plt.subplot(4, 1, 3)\n",
    "#     plt.plot(green_hist, color='g')\n",
    "#     plt.xlim([0, 256])\n",
    "#     plt.ylim([0, 500])\n",
    "#     plt.title('Green Histogram')\n",
    "\n",
    "#     plt.subplot(4, 1, 4)\n",
    "#     plt.plot(blue_hist, color='b')\n",
    "#     plt.xlim([0, 256])\n",
    "#     plt.ylim([0, 500])\n",
    "#     plt.title('Blue Histogram')\n",
    "\n",
    "#     plt.tight_layout()\n",
    "#     #plt.show()\n",
    "\n",
    "    r, g, b = cv2.split(rgb)\n",
    "    \n",
    "    r *= 255\n",
    "    g *= 255\n",
    "    b *= 255\n",
    "    \n",
    "    RGB_PATH = os.path.join(FOLDER_PATH, FOLDER_NAME + '_RGB_' + version)\n",
    "    if not os.path.exists(RGB_PATH):\n",
    "        os.mkdir(RGB_PATH)\n",
    "    \n",
    "    cv2.imwrite(os.path.join(RGB_PATH, os.path.splitext(os.path.basename(path))[0]) + '_R_RGB_' + version + '_' + str(face_index) + '.png', r)\n",
    "    cv2.imwrite(os.path.join(RGB_PATH, os.path.splitext(os.path.basename(path))[0]) + '_G_RGB_' + version + '_' + str(face_index) + '.png', g)\n",
    "    cv2.imwrite(os.path.join(RGB_PATH, os.path.splitext(os.path.basename(path))[0]) + '_B_RGB_' + version + '_' + str(face_index) + '.png', b)\n",
    "    \n",
    "    r_hist = cv2.calcHist(r, [0], None, [26], [0, 256])\n",
    "    r_hist = r_hist.ravel()\n",
    "    r_hist = r_hist.astype('float')\n",
    "    r_hist /= r_hist.sum()\n",
    "    \n",
    "    g_hist = cv2.calcHist([g], [0], None, [26], [0, 256])\n",
    "    g_hist = g_hist.ravel()\n",
    "    g_hist = g_hist.astype('float')\n",
    "    g_hist /= g_hist.sum()\n",
    "    \n",
    "    b_hist = cv2.calcHist([b], [0], None, [26], [0, 256])\n",
    "    b_hist = b_hist.ravel()\n",
    "    b_hist = b_hist.astype('float')\n",
    "    b_hist /= b_hist.sum()\n",
    "\n",
    "#     # HSV Image Plot\n",
    "#     plt.subplot(4, 1, 1)\n",
    "#     #plt.imshow(hsv)\n",
    "#     plt.title('HSV Image')\n",
    "#     plt.xticks([])\n",
    "#     plt.yticks([])\n",
    "\n",
    "#     plt.subplot(4, 1, 2)\n",
    "#     plt.plot(hue_hist_HSV, color='c')\n",
    "#     plt.xlim([0, 256])\n",
    "#     plt.ylim([0, 2500])\n",
    "#     plt.title('Hue Histogram')\n",
    "\n",
    "#     plt.subplot(4, 1, 3)\n",
    "#     plt.plot(saturation_hist_HSV, color='m')\n",
    "#     plt.xlim([0, 256])\n",
    "#     plt.ylim([0, 1000])\n",
    "#     plt.title('Saturation Histogram')\n",
    "\n",
    "#     plt.subplot(4, 1, 4)\n",
    "#     plt.plot(value_hist, color='y')\n",
    "#     plt.xlim([0, 256])\n",
    "#     plt.ylim([0, 1000])\n",
    "#     plt.title('Value Histogram')\n",
    "\n",
    "#     plt.tight_layout()\n",
    "#     plt.show()\n",
    "    \n",
    "    h, s, v = cv2.split(hsv)\n",
    "    \n",
    "    s *= 255\n",
    "    v *= 255\n",
    "    \n",
    "    HSV_PATH = os.path.join(FOLDER_PATH, FOLDER_NAME + '_HSV_' + version)\n",
    "    if not os.path.exists(HSV_PATH):\n",
    "        os.mkdir(HSV_PATH)\n",
    "    \n",
    "    cv2.imwrite(os.path.join(HSV_PATH, os.path.splitext(os.path.basename(path))[0]) + '_H_HSV_' + version + '_' + str(face_index) + '.png', h)\n",
    "    cv2.imwrite(os.path.join(HSV_PATH, os.path.splitext(os.path.basename(path))[0]) + '_S_HSV_' + version + '_' + str(face_index) + '.png', s)\n",
    "    cv2.imwrite(os.path.join(HSV_PATH, os.path.splitext(os.path.basename(path))[0]) + '_V_HSV_' + version + '_' + str(face_index) + '.png', v)\n",
    "    \n",
    "    h_hist_HSV = cv2.calcHist([h], [0], None, [36], [0, 361])\n",
    "    h_hist_HSV = h_hist_HSV.ravel()\n",
    "    h_hist_HSV = h_hist_HSV.astype('float')\n",
    "    h_hist_HSV /= h_hist_HSV.sum()\n",
    "    \n",
    "    s_hist_HSV = cv2.calcHist([s], [0], None, [26], [0, 256])\n",
    "    s_hist_HSV = s_hist_HSV.ravel()\n",
    "    s_hist_HSV = s_hist_HSV.astype('float')\n",
    "    s_hist_HSV /= s_hist_HSV.sum()\n",
    "    \n",
    "    v_hist_HSV = cv2.calcHist([v], [0], None, [26], [0, 256])\n",
    "    v_hist_HSV = v_hist_HSV.ravel()\n",
    "    v_hist_HSV = v_hist_HSV.astype('float')\n",
    "    v_hist_HSV /= v_hist_HSV.sum()\n",
    "    \n",
    "#     # HLS Image Plot\n",
    "#     plt.subplot(4, 1, 1)\n",
    "#     plt.imshow(hls)\n",
    "#     plt.title('HLS Image')\n",
    "#     plt.xticks([])\n",
    "#     plt.yticks([])\n",
    "\n",
    "#     plt.subplot(4, 1, 2)\n",
    "#     plt.plot(hue_hist_HLS, color='r')\n",
    "#     plt.xlim([0, 256])\n",
    "#     plt.ylim([0, 2500])\n",
    "#     plt.title('Hue Histogram')\n",
    "\n",
    "#     plt.subplot(4, 1, 3)\n",
    "#     plt.plot(lightness_hist_HLS, color='g')\n",
    "#     plt.xlim([0, 256])\n",
    "#     plt.ylim([0, 1000])\n",
    "#     plt.title('Lightness Histogram')\n",
    "\n",
    "#     plt.subplot(4, 1, 4)\n",
    "#     plt.plot(saturation_hist_HLS, color='b')\n",
    "#     plt.xlim([0, 256])\n",
    "#     plt.ylim([0, 1000])\n",
    "#     plt.title('Saturation Histogram')\n",
    "\n",
    "#     plt.tight_layout()\n",
    "#     plt.show()\n",
    "\n",
    "    h, l, s = cv2.split(hls)\n",
    "    \n",
    "    l *= 255\n",
    "    s *= 255\n",
    "    \n",
    "    HSL_PATH = os.path.join(FOLDER_PATH, FOLDER_NAME + '_HSL_' + version)\n",
    "    if not os.path.exists(HSL_PATH):\n",
    "        os.mkdir(HSL_PATH)\n",
    "    \n",
    "    cv2.imwrite(os.path.join(HSL_PATH, os.path.splitext(os.path.basename(path))[0]) + '_H_HSL_' + version + '_' + str(face_index) + '.png', h)\n",
    "    cv2.imwrite(os.path.join(HSL_PATH, os.path.splitext(os.path.basename(path))[0]) + '_S_HSL_' + version + '_' + str(face_index) + '.png', s)\n",
    "    cv2.imwrite(os.path.join(HSL_PATH, os.path.splitext(os.path.basename(path))[0]) + '_L_HSL_' + version + '_' + str(face_index) + '.png', l)\n",
    "    \n",
    "    h_hist_HSL = cv2.calcHist([h], [0], None, [36], [0, 361])\n",
    "    h_hist_HSL = h_hist_HSL.ravel()\n",
    "    h_hist_HSL = h_hist_HSL.astype('float')\n",
    "    h_hist_HSL /= h_hist_HSL.sum()\n",
    "    \n",
    "    l_hist_HSL = cv2.calcHist([l], [0], None, [26], [0, 256])\n",
    "    l_hist_HSL = l_hist_HSL.ravel()\n",
    "    l_hist_HSL = l_hist_HSL.astype('float')\n",
    "    l_hist_HSL /= l_hist_HSL.sum()\n",
    "    \n",
    "    s_hist_HSL = cv2.calcHist([s], [0], None, [26], [0, 256])\n",
    "    s_hist_HSL = s_hist_HSL.ravel()\n",
    "    s_hist_HSL = s_hist_HSL.astype('float')\n",
    "    s_hist_HSL /= s_hist_HSL.sum()\n",
    "    \n",
    "#     # LAB Image Plot\n",
    "#     plt.subplot(4, 1, 1)\n",
    "#     plt.imshow(lab)\n",
    "#     plt.title('LAB Image')\n",
    "#     plt.xticks([])\n",
    "#     plt.yticks([])\n",
    "\n",
    "#     plt.subplot(4, 1, 2)\n",
    "#     plt.plot(lightness_hist_LAB, color='c')\n",
    "#     plt.xlim([0, 256])\n",
    "#     plt.ylim([0, 1000])\n",
    "#     plt.title('Lightness Histogram')\n",
    "\n",
    "#     plt.subplot(4, 1, 3)\n",
    "#     plt.plot(a_hist_LAB, color='m')\n",
    "#     plt.xlim([0, 256])\n",
    "#     plt.ylim([0, 20000])\n",
    "#     plt.title('A Histogram')\n",
    "\n",
    "#     plt.subplot(4, 1, 4)\n",
    "#     plt.plot(b_hist_LAB, color='y')\n",
    "#     plt.xlim([0, 256])\n",
    "#     plt.ylim([0, 20000])\n",
    "#     plt.title('B Histogram')\n",
    "\n",
    "#     plt.tight_layout()\n",
    "#     plt.show()\n",
    "    \n",
    "    l, a, b = cv2.split(lab)\n",
    "    \n",
    "    LAB_PATH = os.path.join(FOLDER_PATH, FOLDER_NAME + '_LAB_' + version)\n",
    "    if not os.path.exists(LAB_PATH):\n",
    "        os.mkdir(LAB_PATH)\n",
    "    \n",
    "    cv2.imwrite(os.path.join(LAB_PATH, os.path.splitext(os.path.basename(path))[0]) + '_L_LAB_' + version + '_' + str(face_index) + '.png', l)\n",
    "    cv2.imwrite(os.path.join(LAB_PATH, os.path.splitext(os.path.basename(path))[0]) + '_A_LAB_' + version + '_' + str(face_index) + '.png', a)\n",
    "    cv2.imwrite(os.path.join(LAB_PATH, os.path.splitext(os.path.basename(path))[0]) + '_B_LAB_' + version + '_' + str(face_index) + '.png', b)\n",
    "    \n",
    "    l_hist_LAB = cv2.calcHist([l], [0], None, [26], [0, 256])\n",
    "    l_hist_LAB = l_hist_LAB.ravel()\n",
    "    l_hist_LAB = l_hist_LAB.astype('float')\n",
    "    l_hist_LAB /= l_hist_LAB.sum()\n",
    "    \n",
    "    a_hist_LAB = cv2.calcHist([a], [0], None, [26], [0, 256])\n",
    "    a_hist_LAB = a_hist_LAB.ravel()\n",
    "    a_hist_LAB = a_hist_LAB.astype('float')\n",
    "    a_hist_LAB /= a_hist_LAB.sum()\n",
    "    \n",
    "    b_hist_LAB = cv2.calcHist([b], [0], None, [26], [0, 256])\n",
    "    b_hist_LAB = b_hist_LAB.ravel()\n",
    "    b_hist_LAB = b_hist_LAB.astype('float')\n",
    "    b_hist_LAB /= b_hist_LAB.sum()\n",
    "    \n",
    "#     # YCrCb Image Plot\n",
    "#     plt.subplot(4, 1, 1)\n",
    "#     plt.imshow(ycrcb)\n",
    "#     plt.title('YCrCb Image')\n",
    "#     plt.xticks([])\n",
    "#     plt.yticks([])\n",
    "\n",
    "#     plt.subplot(4, 1, 2)\n",
    "#     plt.plot(y_hist, color='r')\n",
    "#     plt.xlim([0, 256])\n",
    "#     plt.ylim([0, 1000])\n",
    "#     plt.title('Y Histogram')\n",
    "\n",
    "#     plt.subplot(4, 1, 3)\n",
    "#     plt.plot(cr_hist, color='g')\n",
    "#     plt.xlim([0, 256])\n",
    "#     plt.ylim([0, 20000])\n",
    "#     plt.title('Cr Histogram')\n",
    "\n",
    "#     plt.subplot(4, 1, 4)\n",
    "#     plt.plot(cb_hist, color='b')\n",
    "#     plt.xlim([0, 256])\n",
    "#     plt.ylim([0, 20000])\n",
    "#     plt.title('Cb Histogram')\n",
    "\n",
    "#     plt.tight_layout()\n",
    "#     plt.show()\n",
    "    \n",
    "    y, cr, cb = cv2.split(ycrcb)\n",
    "    \n",
    "    y *= 255\n",
    "    cr *= 255\n",
    "    cb *= 255\n",
    "    \n",
    "    YCRCB_PATH = os.path.join(FOLDER_PATH, FOLDER_NAME + '_YCRCB_' + version)\n",
    "    if not os.path.exists(YCRCB_PATH):\n",
    "        os.mkdir(YCRCB_PATH)\n",
    "    \n",
    "    cv2.imwrite(os.path.join(YCRCB_PATH, os.path.splitext(os.path.basename(path))[0]) + '_Y_YCRCB_' + version + '_' + str(face_index) + '.png', y)\n",
    "    cv2.imwrite(os.path.join(YCRCB_PATH, os.path.splitext(os.path.basename(path))[0]) + '_CR_YCRCB_' + version + '_' + str(face_index) + '.png', cr)\n",
    "    cv2.imwrite(os.path.join(YCRCB_PATH, os.path.splitext(os.path.basename(path))[0]) + '_CB_YCRCB_' + version + '_' + str(face_index) + '.png', cb)\n",
    "    \n",
    "    \n",
    "    y_hist = cv2.calcHist([y], [0], None, [26], [0, 256])\n",
    "    y_hist = y_hist.ravel()\n",
    "    y_hist = y_hist.astype('float')\n",
    "    y_hist /= y_hist.sum()\n",
    "    \n",
    "    cr_hist = cv2.calcHist([cr], [0], None, [26], [0, 256])\n",
    "    cr_hist = cr_hist.ravel()\n",
    "    cr_hist = cr_hist.astype('float')\n",
    "    cr_hist /= cr_hist.sum()\n",
    "    \n",
    "    cb_hist = cv2.calcHist([cb], [0], None, [26], [0, 256])\n",
    "    cb_hist = cb_hist.ravel()\n",
    "    cb_hist = cb_hist.astype('float')\n",
    "    cb_hist /= cb_hist.sum()\n",
    "    \n",
    "    face_index = str(face_index)\n",
    "    # rows = itertools.zip_longest([path], [face_index], r_hist, g_hist, b_hist, h_hist_HSV, s_hist_HSV, v_hist_HSV, h_hist_HSL, s_hist_HSL, l_hist_HSL, l_hist_LAB, a_hist_LAB, b_hist_LAB, y_hist, cr_hist, cb_hist)\n",
    "    \n",
    "    # with open(\"color.csv\", \"a\", newline = \"\") as f:\n",
    "    #     if os.stat(\"color.csv\").st_size == 0:\n",
    "    #         csv.writer(f).writerow([\"Path\", \"Face Index\", \"Red\", \"Green\", \"Blue\", \"Hue_HSV\", \"Saturation_HSV\", \"Value_HSV\", \"Hue_HSL\", \"Saturation_HSL\", \"Lightness_HSL\", \"Lightness_LAB\", \"A_LAB\", \"B_LAB\", \"Y\", \"Cr\", \"Cb\"])\n",
    "    #     csv.writer(f).writerows(rows)\n",
    "    \n",
    "    return r_hist, g_hist, b_hist, h_hist_HSV, s_hist_HSV, v_hist_HSV, h_hist_HSL, s_hist_HSL, l_hist_HSL, l_hist_LAB, a_hist_LAB, b_hist_LAB, y_hist, cr_hist, cb_hist\n",
    "\n",
    "# From https://medium.com/mlearning-ai/color-shape-and-texture-feature-extraction-using-opencv-cb1feb2dbd73\n",
    "# Extracts Local Binary Pattern (Texture) of an image\n",
    "def extract_lbp(path, face_index, image, version):\n",
    "    # reads the input image as a grayscale image\n",
    "    image = cv2.cvtColor(image, cv2.COLOR_RGB2BGR)\n",
    "    gray = cv2.cvtColor(image, cv2.COLOR_BGR2GRAY)\n",
    "\n",
    "    desc = LocalBinaryPatterns(24, 8)\n",
    "    lbp_hist, lbp_img = desc.describe(gray)\n",
    "    \n",
    "    LBP_PATH = os.path.join(FOLDER_PATH, FOLDER_NAME + '_LBP_' + version)\n",
    "    if not os.path.exists(LBP_PATH):\n",
    "        os.mkdir(LBP_PATH)\n",
    "    \n",
    "    cv2.imwrite(os.path.join(LBP_PATH, os.path.splitext(os.path.basename(path))[0]) + '_LBP_' + version + '_' + str(face_index) + '.png', lbp_img)\n",
    "    \n",
    "    # plt.imshow(lbp_img, cmap = plt.get_cmap('gray'))\n",
    "    # plt.show()\n",
    "    # lbp_hist = cv2.calcHist([lbp_img], [0], None, [256], [0, 256])\n",
    "    \n",
    "    # face_index = str(face_index)\n",
    "    # rows = itertools.zip_longest([path], [face_index], lbp_hist)\n",
    "    \n",
    "    # with open(\"lbp.csv\", \"a\", newline = \"\") as f:\n",
    "    #     if os.stat(\"lbp.csv\").st_size == 0:\n",
    "    #         csv.writer(f).writerow([\"Path\", \"Face Index\", \"LBP\"])\n",
    "    #     csv.writer(f).writerows(rows)\n",
    "    \n",
    "    return lbp_hist\n",
    "    \n",
    "# From https://docs.opencv.org/4.x/d2/d2c/tutorial_sobel_derivatives.html and https://gist.github.com/rahit/c078cabc0a48f2570028bff397a9e154\n",
    "def extract_gradients(path, face_index, image, version):\n",
    "    # Uses the Sobel Filter to extract the gradients of an image\n",
    "    # reads the input image, then converts BGR color space to RGB\n",
    "    # img = cv2.cvtColor(image, cv2.COLOR_BGR2RGB)\n",
    "    \n",
    "    # compute the 1st order Sobel derivative in X-direction\n",
    "    sobelx = cv2.Sobel(image, cv2.CV_64F, 1, 0, ksize=5)\n",
    "\n",
    "    # compute the 1st order Sobel derivative in Y-direction\n",
    "    sobely = cv2.Sobel(image, cv2.CV_64F, 0, 1, ksize=5)\n",
    "    \n",
    "    # combine sobelx and sobely to form sobel\n",
    "    sobel = sobelx + sobely\n",
    "    \n",
    "    SOBEL_PATH = os.path.join(FOLDER_PATH, FOLDER_NAME + '_SOBEL_' + version)\n",
    "    if not os.path.exists(SOBEL_PATH):\n",
    "        os.mkdir(SOBEL_PATH)\n",
    "    \n",
    "    cv2.imwrite(os.path.join(SOBEL_PATH, os.path.splitext(os.path.basename(path))[0]) + '_SOBELX_' + version + '_' + str(face_index) + '.png', sobelx)\n",
    "    cv2.imwrite(os.path.join(SOBEL_PATH, os.path.splitext(os.path.basename(path))[0]) + '_SOBELY_' + version + '_' + str(face_index) + '.png', sobely)\n",
    "    cv2.imwrite(os.path.join(SOBEL_PATH, os.path.splitext(os.path.basename(path))[0]) + '_SOBEL_' + version + '_' + str(face_index) + '.png', sobel)\n",
    "\n",
    "    # # display sobelx, sobely, and sobel\n",
    "    # plt.imshow(sobelx, cmap = \"gray\")\n",
    "    # plt.show()\n",
    "    # plt.imshow(sobely, cmap = \"gray\")\n",
    "    # plt.show()\n",
    "    # plt.imshow(sobel, cmap = \"gray\")\n",
    "    # plt.show()\n",
    "    \n",
    "    sobelx_hist = cv2.calcHist([np.float32(sobelx)], [0], None, [26], [0, 256])\n",
    "    sobelx_hist = sobelx_hist.ravel()\n",
    "    sobelx_hist = sobelx_hist.astype('float')\n",
    "    sobelx_hist /= sobelx_hist.sum()\n",
    "    \n",
    "    sobely_hist = cv2.calcHist([np.float32(sobely)], [0], None, [26], [0, 256])\n",
    "    sobely_hist = sobely_hist.ravel()\n",
    "    sobely_hist = sobely_hist.astype('float')\n",
    "    sobely_hist /= sobely_hist.sum()\n",
    "    \n",
    "    sobel_hist = cv2.calcHist([np.float32(sobel)], [0], None, [26], [0, 256])\n",
    "    sobel_hist = sobel_hist.ravel()\n",
    "    sobel_hist = sobel_hist.astype('float')\n",
    "    sobel_hist /= sobel_hist.sum()\n",
    "    \n",
    "    # face_index = str(face_index)\n",
    "    # rows = itertools.zip_longest([path], [face_index], sobelx_hist, sobely_hist, sobel_hist)\n",
    "    \n",
    "    # with open(\"gradient.csv\", \"a\", newline = \"\") as f:\n",
    "    #     if os.stat(\"gradient.csv\").st_size == 0:\n",
    "    #         csv.writer(f).writerow([\"Path\", \"Face Index\", \"Sobel X\", \"Sobel Y\", \"Sobel\"])\n",
    "    #     csv.writer(f).writerows(rows)\n",
    "    \n",
    "    return sobelx_hist, sobely_hist, sobel_hist\n",
    "\n",
    "def extract_image_attributes(row, path, face_index, image, version):\n",
    "    r_hist, g_hist, b_hist, h_hist_HSV, s_hist_HSV, v_hist_HSV, h_hist_HSL, s_hist_HSL, l_hist_HSL, l_hist_LAB, a_hist_LAB, b_hist_LAB, y_hist, cr_hist, cb_hist = extract_color_channel(path, face_index, image, version)\n",
    "    lbp_hist = extract_lbp(path, face_index, image, version)\n",
    "    sobelx_hist, sobely_hist, sobel_hist = extract_gradients(path, face_index, image, version)\n",
    "    \n",
    "    RGB_size = SV_HSV_size = SL_HSL_size = LAB_size = YCRCB_size = 26\n",
    "    \n",
    "    for i in range(0, RGB_size):\n",
    "        row['R_BIN_' + version + '_' + str(i)] = r_hist[i]\n",
    "        \n",
    "    for i in range(0, RGB_size):\n",
    "        row['G_BIN_' + version + '_' + str(i)] = g_hist[i]\n",
    "        \n",
    "    for i in range(0, RGB_size):\n",
    "        row['B_BIN_' + version + '_' + str(i)] = b_hist[i]\n",
    "        \n",
    "    for i in range(0, h_hist_HSV.size):\n",
    "        row['H_HSV_BIN_' + version + '_' + str(i)] = h_hist_HSV[i]\n",
    "        \n",
    "    for i in range(0, SV_HSV_size):\n",
    "        row['S_HSV_BIN_' + version + '_' + str(i)] = s_hist_HSV[i]\n",
    "        \n",
    "    for i in range(0, SV_HSV_size):\n",
    "        row['V_HSV_BIN_' + version + '_' + str(i)] = v_hist_HSV[i]\n",
    "        \n",
    "    for i in range(0, h_hist_HSL.size):\n",
    "        row['H_HSL_BIN_' + version + '_' + str(i)] = h_hist_HSL[i]\n",
    "        \n",
    "    for i in range(0, SL_HSL_size):\n",
    "        row['S_HSL_BIN_' + version + '_' + str(i)] = s_hist_HSL[i]\n",
    "        \n",
    "    for i in range(0, SL_HSL_size):\n",
    "        row['L_HSL_BIN_' + version + '_' + str(i)] = l_hist_HSL[i]\n",
    "        \n",
    "    for i in range(0, LAB_size):\n",
    "        row['L_LAB_BIN_' + version + '_' + str(i)] = l_hist_LAB[i]\n",
    "    \n",
    "    for i in range(0, LAB_size):\n",
    "        row['A_LAB_BIN_' + version + '_' + str(i)] = a_hist_LAB[i]\n",
    "        \n",
    "    for i in range(0, LAB_size):\n",
    "        row['B_LAB_BIN_' + version + '_' + str(i)] = b_hist_LAB[i]\n",
    "        \n",
    "    for i in range(0, YCRCB_size):\n",
    "        row['Y_BIN_' + version + '_' + str(i)] = y_hist[i]\n",
    "        \n",
    "    for i in range(0, YCRCB_size):\n",
    "        row['CR_BIN_' + version + '_' + str(i)] = cr_hist[i]\n",
    "        \n",
    "    for i in range(0, YCRCB_size):\n",
    "        row['CB_BIN_' + version + '_' + str(i)] = cb_hist[i]\n",
    "        \n",
    "    for i in range(0, lbp_hist.size):\n",
    "        row[\"LBP_BIN_\" + version + '_' + str(i)] = lbp_hist[i]\n",
    "        \n",
    "    for i in range(0, sobelx_hist.size):\n",
    "        row[\"SOBELX_BIN_\" + version + '_' + str(i)] = sobelx_hist[i]\n",
    "        \n",
    "    for i in range(0, sobely_hist.size):\n",
    "        row[\"SOBELY_BIN_\" + version + '_' + str(i)] = sobely_hist[i]\n",
    "        \n",
    "    for i in range(0, sobel_hist.size):\n",
    "        row[\"SOBEL_BIN_\" + version + '_' + str(i)] = sobel_hist[i]\n",
    "    \n",
    "    return row"
   ]
  },
  {
   "cell_type": "code",
   "execution_count": 7,
   "id": "7c215245",
   "metadata": {},
   "outputs": [],
   "source": [
    "def detach_cpu(image):\n",
    "    return image.detach().cpu()\n",
    "\n",
    "# convert 1x3x416x416 to 416x416x3\n",
    "def reshape_image(image):\n",
    "    return np.transpose(np.squeeze(image), (1 ,2, 0))\n",
    "\n",
    "# convert 1x3x416x416 tensor to 416x416x3 numpy image\n",
    "def tensor_to_image(image):\n",
    "    return np.transpose(image.detach().cpu().squeeze().numpy(), (1, 2, 0))\n",
    "\n",
    "def save_tensor_as_image(image, path):\n",
    "    save_img = cv2.cvtColor(np.moveaxis((image.detach().numpy() * 255).squeeze(), 0, -1).astype('uint8'), cv2.COLOR_RGB2BGR)\n",
    "    cv2.imwrite(path, save_img)"
   ]
  },
  {
   "cell_type": "code",
   "execution_count": 8,
   "id": "7b600713",
   "metadata": {
    "scrolled": true
   },
   "outputs": [
    {
     "name": "stdout",
     "output_type": "stream",
     "text": [
      "face_detection_yunet_2022mar.onnx:: status : file already exists\n"
     ]
    }
   ],
   "source": [
    "import minepsilon as minE"
   ]
  },
  {
   "cell_type": "code",
   "execution_count": 9,
   "id": "833d8d5c",
   "metadata": {},
   "outputs": [],
   "source": [
    "faces_df = \"\"\n",
    "\n",
    "def load_mask(filename, face_num, target_bbox):\n",
    "    filename = \"restored_mask_\" + os.path.splitext(filename)[0] + \"_\" + str(face_num) + \"_image_final.png\"\n",
    "    mask = cv2.imread(os.path.join(os.getcwd(), RESTORED_MASK_PATH, filename), 0)\n",
    "    \n",
    "    face_row = faces_df.loc[faces_df['filename'] == filename]\n",
    "    padded_dim = (int(face_row[\"x2_pad\"] - face_row[\"x1_pad\"]), int(face_row[\"y2_pad\"] - face_row[\"y1_pad\"]))\n",
    "    target_dim = (int(target_bbox[2] - target_bbox[0]), int(target_bbox[3] - target_bbox[1]))\n",
    "    \n",
    "    #print(dict(zip(*np.unique(mask, return_counts = True)))[255], int(target_dim[0] * target_dim[1] * 0.1))\n",
    "    #print(dict(zip(*np.unique(mask, return_counts = True)))[255] < int(target_dim[0] * target_dim[1] * 0.1))\n",
    "    \n",
    "    if dict(zip(*np.unique(mask, return_counts = True)))[255] < int(target_dim[0] * target_dim[1] * 0.1):\n",
    "        return torch.ones((1, 3, target_dim[1], target_dim[0])), False\n",
    "    \n",
    "    kernel = cv2.getStructuringElement(cv2.MORPH_ELLIPSE, (int(mask.shape[0] * 0.5), int(mask.shape[1] * 0.5)))\n",
    "    mask = cv2.morphologyEx(mask, cv2.MORPH_CLOSE, kernel)\n",
    "    mask = cv2.cvtColor(mask, cv2.COLOR_GRAY2RGB)\n",
    "    mask = transforms.Compose([DEFAULT_TRANSFORMS])((mask, np.zeros((1, 5))))[0].unsqueeze(0)\n",
    "    \n",
    "    #print(os.path.join(os.getcwd(), RESTORED_MASK_PATH, filename))\n",
    "    #print(\"mask size before:\", mask.shape)\n",
    "    \n",
    "    \n",
    "    #print(\"x1, y1, orig shape\")\n",
    "    #print(int(face_row[\"x1_pad\"]), int(face_row[\"y1_pad\"]), int(face_row[\"x2_pad\"]), int(face_row[\"y2_pad\"]))\n",
    "    #print(original_shape)\n",
    "    \n",
    "    #print(\"target shape:\", original_shape)\n",
    "    #print(\"yoloshape:\", int(face_row[\"x2\"] - face_row[\"x1\"]), int(face_row[\"y2\"] - face_row[\"y1\"]))\n",
    "    \n",
    "    current_dim = max(mask.shape)\n",
    "    diff_x, diff_y = abs(padded_dim[0] - current_dim) / 2, abs(padded_dim[1] - current_dim) / 2\n",
    "    #print(\"first diff:\", diff_x, diff_y)\n",
    "    \n",
    "    if diff_y != 0:\n",
    "        mask = mask[..., int(np.floor(diff_y)):-int(np.ceil(diff_y)), :]\n",
    "    if diff_x != 0:\n",
    "        mask = mask[..., int(np.floor(diff_x)):-int(np.ceil(diff_x))]\n",
    "        \n",
    "    #print(mask.shape == padded_dim, mask.shape, padded_dim, target_dim)\n",
    "    \n",
    "    padding = [\n",
    "        int(abs(face_row[\"x1\"] - face_row[\"x1_pad\"])),\n",
    "        int(abs(face_row[\"y1\"] - face_row[\"y1_pad\"])),\n",
    "        int(abs(face_row[\"x2\"] - face_row[\"x2_pad\"])),\n",
    "        int(abs(face_row[\"y2\"] - face_row[\"y2_pad\"]))\n",
    "    ]\n",
    "    \n",
    "    #print(\"padding:\", padding)\n",
    "    \n",
    "    new_dim = padded_dim[0] - padding[0] - padding[2], padded_dim[1] - padding[1] - padding[3]\n",
    "    diff_x, diff_y = (target_dim[0] - new_dim[0]) / 2, (target_dim[1] - new_dim[1]) / 2\n",
    "    #print(\"second diff:\", diff_x, diff_y)\n",
    "    \n",
    "    padding[0] -= int(np.floor(diff_x))\n",
    "    padding[1] -= int(np.floor(diff_y))\n",
    "    padding[2] -= int(np.ceil(diff_x))\n",
    "    padding[3] -= int(np.ceil(diff_y))\n",
    "    \n",
    "    #print(\"mask size after:\", mask.shape)\n",
    "    #print(\"unpadded bbox:\", (face_row[\"x1\"], face_row[\"y1\"], face_row[\"x2\"], face_row[\"y2\"]))\n",
    "    #print(\"adjusted padding:\", padding)\n",
    "    # mask = mask[..., padding[1]:-padding[3], padding[0]:-padding[2]]\n",
    "    \n",
    "    mask = F.pad(input=mask, pad=(-padding[0], -padding[2], -padding[1], -padding[3]), mode='constant', value=0)\n",
    "    \n",
    "    return mask, True"
   ]
  },
  {
   "cell_type": "code",
   "execution_count": 10,
   "id": "9f7c3f61",
   "metadata": {},
   "outputs": [],
   "source": [
    "def pipeline(model, device):\n",
    "    \n",
    "    torch.autograd.set_detect_anomaly(True)\n",
    "    \n",
    "    df = pd.DataFrame() # dataframe storing the dataset\n",
    "    row = {} #the information/columns for a single row in the dataset is stored here\n",
    "    \n",
    "    # Loop over all examples in test set\n",
    "    for path in glob.glob(os.path.join(INPUT_PATH, '*.jpg')):\n",
    "        row['path'] = path\n",
    "        file_basename = os.path.basename(path)\n",
    "        print(file_basename)\n",
    "        \n",
    "        REF_SUBSET = REF_SET[REF_SET['source_file'] == file_basename]\n",
    "        \n",
    "        if len(REF_SUBSET.index) > 0:\n",
    "            model.eval()\n",
    "\n",
    "            model.gradient_mode = False\n",
    "            for yolo_layer in model.yolo_layers:\n",
    "                yolo_layer.gradient_mode = False\n",
    "\n",
    "            # read and transform the image from the path\n",
    "            data = cv2.imread(path)  # read the image\n",
    "            row['source_w'], row['source_h'], _ = data.shape\n",
    "            data = cv2.cvtColor(data, cv2.COLOR_BGR2RGB) #change to rgb\n",
    "            data = transforms.Compose([DEFAULT_TRANSFORMS,Resize(416)])((data, np.zeros((1, 5))))[0].unsqueeze(0) # transform the image\n",
    "            \n",
    "            with torch.no_grad():\n",
    "                # Forward pass the data through the model and call non max suppression\n",
    "                nms, nms_output = non_max_suppression(model(data), 0.5, 0.5) #conf_thres and iou_thres = 0.5\n",
    "\n",
    "            face_list = []\n",
    "            if type(nms_output[0]) is not int:\n",
    "                face_list = nms_output[0]\n",
    "\n",
    "            data = data.to(device)\n",
    "            # Set requires_grad attribute of tensor. Important for Attack\n",
    "            data.requires_grad = True\n",
    "\n",
    "            model.gradient_mode = True\n",
    "            for yolo_layer in model.yolo_layers:\n",
    "                yolo_layer.gradient_mode = True\n",
    "\n",
    "            output = model(data)\n",
    "\n",
    "            # loop through each of the faces in the image\n",
    "            for face_index, face_row in enumerate(face_list): #nms_output[0] because the model is designed to take in several images at a time from the dataloader but we are only loading the image one at a time\n",
    "                if face_index in set(REF_SUBSET['face_index']):\n",
    "\n",
    "                    row['face_index'] = face_index\n",
    "                    print(\"Face\", face_index)\n",
    "\n",
    "                    x, y, w, h = face_row[0], face_row[1], face_row[2], face_row[3]\n",
    "\n",
    "                    factor_x, factor_y, factor_w, factor_h = random.uniform(1, 2), random.uniform(1, 2), random.uniform(1, 2), random.uniform(1, 2)\n",
    "                    normal_x, normal_y, normal_w, normal_h = x / 416, y / 416, w / 416, h / 416\n",
    "\n",
    "                    new_x = normal_x * factor_x if random.choice([True, False]) else normal_x / factor_x\n",
    "                    new_y = normal_y * factor_y if random.choice([True, False]) else normal_y / factor_y\n",
    "                    new_w = normal_w * factor_w if random.choice([True, False]) else normal_w / factor_w\n",
    "                    new_h = normal_h * factor_h if random.choice([True, False]) else normal_h / factor_h\n",
    "\n",
    "                    new_x, new_y, new_w, new_h = max(min(1, new_x), 0), max(min(1, new_y), 0), max(min(1, new_w), 0), max(min(1, new_h), 0)\n",
    "\n",
    "                    target = torch.tensor([[0.0, 0, new_x, new_y, new_w, new_h]])\n",
    "                    target = target.to(device)\n",
    "\n",
    "                    loss, loss_components = compute_loss(output, target, model)\n",
    "\n",
    "                    # cropped image with bounding box\n",
    "                    # getting (x1, y1) upper left, (x2, y2) lower right\n",
    "                    x1 = max(int(np.floor((x - w / 2).detach().cpu().numpy())), 0)\n",
    "                    y1 = max(int(np.floor((y - h / 2).detach().cpu().numpy())), 0)\n",
    "                    x2 = min(int(np.ceil((x + w / 2).detach().cpu().numpy())), 415)\n",
    "                    y2 = min(int(np.ceil((y + h / 2).detach().cpu().numpy())), 415)\n",
    "\n",
    "                    row['x1'], row['y1'], row['x2'], row['y2'] = x1, y1, x2, y2\n",
    "\n",
    "                    cropped_image = detach_cpu(data)[:, :, y1:y2, x1:x2] #get the first dimension, the channels, and crop it\n",
    "                    cropped_image = tensor_to_image(cropped_image) #reshape the image to (w/h, h/w, channel)\n",
    "\n",
    "                    # Zero all existing gradients\n",
    "                    model.zero_grad()\n",
    "                    data.grad = None\n",
    "\n",
    "                    # Calculate gradients of model in backward pass\n",
    "                    loss.backward(retain_graph=True) #TODO: Amos - check if this is correct\n",
    "\n",
    "                    # Collect datagrad\n",
    "                    data_grad = data.grad.data\n",
    "                    #print('Gradient')\n",
    "                    #print(data_grad)\n",
    "                    #print(data_grad.shape)\n",
    "                    #plt.imshow(np.transpose(np.clip(data_grad.squeeze(0).numpy(), 0, 1), (1, 2, 0)))\n",
    "                    #plt.show()\n",
    "\n",
    "                    bbox = (x1, y1, x2, y2)\n",
    "                    mask, used_mask = load_mask(os.path.basename(path), face_index, bbox)\n",
    "                    row['used_mask'] = used_mask\n",
    "\n",
    "\n",
    "                    #TODO: Jay - extract image attributes here\n",
    "                    # extract the image attributes from  the 'cropped_image' variable\n",
    "                    # save the attributes as row['<column name in the dataset>'] = <data> (see examples above for reference)\n",
    "\n",
    "                    row = extract_image_attributes(row, path, face_index, cropped_image * tensor_to_image(mask[0]), \"mask\")\n",
    "                    row = extract_image_attributes(row, path, face_index, cropped_image, \"bbox\")\n",
    "\n",
    "                    whole_mask = np.zeros(data.shape)\n",
    "                    whole_mask[..., y1:y2, x1:x2] = mask\n",
    "                    inverted_mask = np.zeros(data.shape)\n",
    "                    inverted_mask[..., y1:y2, x1:x2] = (1 - whole_mask[..., y1:y2, x1:x2]) if used_mask else whole_mask[..., y1:y2, x1:x2]\n",
    "\n",
    "                    #print(\"bbox dim:\", bbox)\n",
    "                    #print(mask.shape, data[:, :, y1:y2, x1:x2].shape)\n",
    "                    # TODO - Amos - determine the value of epsilon by calling fgsm_attack and changing the value of epsilon (see code below)\n",
    "                    # the value of data(image) and data_grad remains constant diba\n",
    "\n",
    "                    #print(\"Calculating min epsilon for YuNet...\")\n",
    "                    yn_min_e_face = minE.min_model_eps(data.clone().detach(), data_grad.clone().detach(), minE.yn_det_fn, whole_mask, bbox)\n",
    "                    #print(\"Calculating min epsilon for MediaPipe...\")\n",
    "                    mp_min_e_face = minE.min_model_eps(data.clone().detach(), data_grad.clone().detach(), minE.mp_det_fn, whole_mask, bbox)\n",
    "                    #print(\"Calculating min epsilon for YoloFace...\")\n",
    "                    yf_min_e_face = minE.min_model_eps(data.clone().detach(), data_grad.clone().detach(), minE.yf_det_fn, whole_mask, bbox)\n",
    "                    print(\"yn min face:\", yn_min_e_face, \"mp min face:\", mp_min_e_face, \"yf min face:\", yf_min_e_face)\n",
    "\n",
    "                    row['e_face_yn'], row['e_face_mp'], row['e_face_yf'] = yn_min_e_face, mp_min_e_face, yf_min_e_face\n",
    "\n",
    "                    if used_mask:\n",
    "                        yn_min_e_bg = minE.min_model_eps(data.clone().detach(), data_grad.clone().detach(), minE.yn_det_fn, inverted_mask, bbox, background=True)\n",
    "                        mp_min_e_bg = minE.min_model_eps(data.clone().detach(), data_grad.clone().detach(), minE.mp_det_fn, inverted_mask, bbox, background=True)\n",
    "                        yf_min_e_bg = minE.min_model_eps(data.clone().detach(), data_grad.clone().detach(), minE.yf_det_fn, inverted_mask, bbox, background=True)\n",
    "                    else:\n",
    "                        yn_min_e_bg = yn_min_e_face\n",
    "                        mp_min_e_bg = mp_min_e_face\n",
    "                        yf_min_e_bg = yf_min_e_face\n",
    "\n",
    "                    print(\"yn min bg:\", yn_min_e_bg, \"mp min bg:\", mp_min_e_bg, \"yf min bg:\", yf_min_e_bg, \"used mask\" if used_mask else \"did not use mask\")\n",
    "                    row['e_bg_yn'], row['e_bg_mp'], row['e_bg_yf'] = yn_min_e_bg, mp_min_e_bg, yf_min_e_bg\n",
    "\n",
    "                    bbox_mask = np.zeros(data.shape)\n",
    "                    bbox_mask[..., y1:y2, x1:x2] = 1\n",
    "\n",
    "                    if used_mask:\n",
    "                        yn_min_e_bbox = minE.min_model_eps(data.clone().detach(), data_grad.clone().detach(), minE.yn_det_fn, bbox_mask, bbox)\n",
    "                        mp_min_e_bbox = minE.min_model_eps(data.clone().detach(), data_grad.clone().detach(), minE.mp_det_fn, bbox_mask, bbox)\n",
    "                        yf_min_e_bbox = minE.min_model_eps(data.clone().detach(), data_grad.clone().detach(), minE.yf_det_fn, bbox_mask, bbox)\n",
    "                    else:\n",
    "                        yn_min_e_bbox = yn_min_e_face\n",
    "                        mp_min_e_bbox = mp_min_e_face\n",
    "                        yf_min_e_bbox = yf_min_e_face\n",
    "\n",
    "                    print(\"yn min bbox:\", yn_min_e_bbox, \"mp min bbox:\", mp_min_e_bbox, \"yf min bbox:\", yf_min_e_bbox)\n",
    "                    row['e_bbox_yn'], row['e_bbox_mp'], row['e_bbox_yf'] = yn_min_e_bbox, mp_min_e_bbox, yf_min_e_bbox\n",
    "\n",
    "                    large_x1 = max(int(np.floor((x - w).detach().cpu().numpy())), 0)\n",
    "                    large_y1 = max(int(np.floor((y - h).detach().cpu().numpy())), 0)\n",
    "                    large_x2 = min(int(np.ceil((x + w).detach().cpu().numpy())), 415)\n",
    "                    large_y2 = min(int(np.ceil((y + h).detach().cpu().numpy())), 415)\n",
    "\n",
    "                    large_bbox_mask = np.zeros(data.shape)\n",
    "                    large_bbox_mask[..., large_y1:large_y2, large_x1:large_x2] = 1\n",
    "\n",
    "                    yn_min_e_lbbox = minE.min_model_eps(data.clone().detach(), data_grad.clone().detach(), minE.yn_det_fn, large_bbox_mask, bbox)\n",
    "                    mp_min_e_lbbox = minE.min_model_eps(data.clone().detach(), data_grad.clone().detach(), minE.mp_det_fn, large_bbox_mask, bbox)\n",
    "                    yf_min_e_lbbox = minE.min_model_eps(data.clone().detach(), data_grad.clone().detach(), minE.yf_det_fn, large_bbox_mask, bbox)\n",
    "\n",
    "                    print(\"yn min lbbox:\", yn_min_e_lbbox, \"mp min lbbox:\", mp_min_e_lbbox, \"yf min lbbox:\", yf_min_e_lbbox)\n",
    "                    row['e_lbbox_yn'], row['e_lbbox_mp'], row['e_lbbox_yf'] = yn_min_e_lbbox, mp_min_e_lbbox, yf_min_e_lbbox\n",
    "\n",
    "                    cur_filename_base = os.path.join(PERTURBED_OUTS, os.path.splitext(file_basename)[0] + \"_\" + str(face_index))\n",
    "\n",
    "#                     cur_filename =  cur_filename_base + \"_yf_min_e_face.png\"\n",
    "#                     save_tensor_as_image(minE.fgsm_attack(data.clone().detach(), yf_min_e_face, data_grad.clone().detach(), whole_mask), cur_filename)\n",
    "#                     cur_filename =  cur_filename_base + \"_yf_min_e_bg.png\"\n",
    "#                     save_tensor_as_image(minE.fgsm_attack(data.clone().detach(), yf_min_e_bg, data_grad.clone().detach(), inverted_mask), cur_filename)\n",
    "#                     cur_filename =  cur_filename_base + \"_yf_min_e_bbox.png\"\n",
    "#                     save_tensor_as_image(minE.fgsm_attack(data.clone().detach(), yf_min_e_bbox, data_grad.clone().detach(), bbox_mask), cur_filename)\n",
    "#                     cur_filename =  cur_filename_base + \"_yf_min_e_lbbox.png\"\n",
    "#                     save_tensor_as_image(minE.fgsm_attack(data.clone().detach(), yf_min_e_lbbox, data_grad.clone().detach(), large_bbox_mask), cur_filename)\n",
    "\n",
    "\n",
    "        #             cur_filename =  cur_filename_base + \"yn_min_e_face.png\"\n",
    "        #             save_tensor_as_image(minE.fgsm_attack(data.clone().detach(), yn_min_e_face, data_grad.clone().detach(), mask, *bbox), cur_filename)\n",
    "        #             cur_filename =  cur_filename_base + \"mp_min_e_face.png\"\n",
    "        #             save_tensor_as_image(minE.fgsm_attack(data.clone().detach(), mp_min_e_face, data_grad.clone().detach(), mask, *bbox), cur_filename)\n",
    "        #             cur_filename =  cur_filename_base + \"yf_min_e_face.png\"\n",
    "        #             save_tensor_as_image(minE.fgsm_attack(data.clone().detach(), yf_min_e_face, data_grad.clone().detach(), mask, *bbox), cur_filename)\n",
    "        #             cur_filename =  cur_filename_base + \"yn_min_e_bg.png\"\n",
    "        #             save_tensor_as_image(minE.fgsm_attack(data.clone().detach(), yn_min_e_bg, data_grad.clone().detach(), inverted_mask, *bbox), cur_filename)\n",
    "        #             cur_filename =  cur_filename_base + \"mp_min_e_bg.png\"\n",
    "        #             save_tensor_as_image(minE.fgsm_attack(data.clone().detach(), mp_min_e_bg, data_grad.clone().detach(), inverted_mask, *bbox), cur_filename)\n",
    "        #             cur_filename =  cur_filename_base + \"yf_min_e_bg.png\"\n",
    "        #             save_tensor_as_image(minE.fgsm_attack(data.clone().detach(), yf_min_e_bg, data_grad.clone().detach(), inverted_mask, *bbox), cur_filename)\n",
    "\n",
    "                    # Call FGSM Attack\n",
    "\n",
    "                    #perturbed_data = minE.fgsm_attack(data.clone().detach(), yf_min_e, data_grad.clone().detach(), mask, *bbox)\n",
    "                    #perturbed_data = fgsm_attack(data, max(yn_min_e, mp_min_e), data_grad) #data is the input image, epsilon\n",
    "                    #print(\"can detect faces on unperturbed img?\", minE.mp_det_fn(data.detach()))\n",
    "                    #print(f\"can detect faces on perturbed data with e={max(yn_min_e, mp_min_e) - 0.01}?\", minE.mp_det_fn(fgsm_attack(data, max(yn_min_e, mp_min_e) - 0.01, data_grad).detach()))\n",
    "                    #print(f\"can detect faces on perturbed img? with e={max(yn_min_e, mp_min_e) - 0.01}\", minE.mp_det_fn(perturbed_data.detach()))\n",
    "\n",
    "                    df = df.append(row, ignore_index=True) #append the attributes of one face to the dataframe\n",
    "            \n",
    "    df.to_csv(os.path.join(CSV_PATH, FOLDER_NAME + '_features_dataset' + str(int(time.time())) + '.csv'), index=False)  #save to csv"
   ]
  },
  {
   "cell_type": "code",
   "execution_count": 11,
   "id": "c3efbbeb",
   "metadata": {
    "scrolled": true
   },
   "outputs": [
    {
     "name": "stdout",
     "output_type": "stream",
     "text": [
      "Working on img_celeba_94 folder\n",
      "094001.jpg\n",
      "Face 0\n",
      "yn min face: 0.22999999999999995 mp min face: 0.23999999999999996 yf min face: 0.12999999999999998\n",
      "yn min bg: 3.5 mp min bg: 3.5 yf min bg: 3.5 used mask\n",
      "yn min bbox: 0.21499999999999997 mp min bbox: 0.23999999999999996 yf min bbox: 0.13499999999999998\n",
      "yn min lbbox: 0.12999999999999998 mp min lbbox: 0.21999999999999997 yf min lbbox: 0.17999999999999997\n",
      "094002.jpg\n",
      "094003.jpg\n"
     ]
    },
    {
     "name": "stderr",
     "output_type": "stream",
     "text": [
      "C:\\Users\\amosc\\AppData\\Local\\Temp\\ipykernel_1464\\3427317803.py:205: FutureWarning: The frame.append method is deprecated and will be removed from pandas in a future version. Use pandas.concat instead.\n",
      "  df = df.append(row, ignore_index=True) #append the attributes of one face to the dataframe\n"
     ]
    },
    {
     "name": "stdout",
     "output_type": "stream",
     "text": [
      "Face 0\n",
      "yn min face: 0.07500000000000001 mp min face: 0.10999999999999999 yf min face: 0.09\n",
      "yn min bg: 3.5 mp min bg: 3.5 yf min bg: 3.5 used mask\n",
      "yn min bbox: 0.07500000000000001 mp min bbox: 0.10999999999999999 yf min bbox: 0.09\n",
      "yn min lbbox: 0.08499999999999999 mp min lbbox: 0.15 yf min lbbox: 0.07500000000000001\n",
      "094004.jpg\n",
      "094005.jpg\n",
      "094006.jpg\n",
      "094007.jpg\n",
      "094008.jpg\n",
      "094009.jpg\n",
      "094010.jpg\n",
      "094011.jpg\n",
      "094012.jpg\n",
      "094013.jpg\n"
     ]
    },
    {
     "name": "stderr",
     "output_type": "stream",
     "text": [
      "C:\\Users\\amosc\\AppData\\Local\\Temp\\ipykernel_1464\\3427317803.py:205: FutureWarning: The frame.append method is deprecated and will be removed from pandas in a future version. Use pandas.concat instead.\n",
      "  df = df.append(row, ignore_index=True) #append the attributes of one face to the dataframe\n"
     ]
    },
    {
     "name": "stdout",
     "output_type": "stream",
     "text": [
      "Face 0\n",
      "yn min face: 0.13999999999999999 mp min face: 0.305 yf min face: 0.11499999999999999\n",
      "yn min bg: 3.5 mp min bg: 3.5 yf min bg: 3.5 used mask\n",
      "yn min bbox: 0.13999999999999999 mp min bbox: 0.305 yf min bbox: 0.11499999999999999\n",
      "yn min lbbox: 0.10499999999999998 mp min lbbox: 0.15 yf min lbbox: 0.10499999999999998\n",
      "094014.jpg\n",
      "094015.jpg\n",
      "094016.jpg\n",
      "094017.jpg\n",
      "094018.jpg\n",
      "094019.jpg\n",
      "094020.jpg\n",
      "094021.jpg\n",
      "094022.jpg\n",
      "094023.jpg\n",
      "094024.jpg\n",
      "094025.jpg\n",
      "094026.jpg\n",
      "094027.jpg\n"
     ]
    },
    {
     "name": "stderr",
     "output_type": "stream",
     "text": [
      "C:\\Users\\amosc\\AppData\\Local\\Temp\\ipykernel_1464\\3427317803.py:205: FutureWarning: The frame.append method is deprecated and will be removed from pandas in a future version. Use pandas.concat instead.\n",
      "  df = df.append(row, ignore_index=True) #append the attributes of one face to the dataframe\n"
     ]
    },
    {
     "name": "stdout",
     "output_type": "stream",
     "text": [
      "Face 0\n",
      "yn min face: 0.15 mp min face: 0.22999999999999995 yf min face: 0.19999999999999998\n",
      "yn min bg: 3.5 mp min bg: 3.5 yf min bg: 3.5 used mask\n",
      "yn min bbox: 0.15 mp min bbox: 0.22499999999999998 yf min bbox: 0.20499999999999996\n",
      "yn min lbbox: 0.15999999999999998 mp min lbbox: 0.26499999999999996 yf min lbbox: 0.17999999999999997\n",
      "094028.jpg\n",
      "094029.jpg\n",
      "094030.jpg\n",
      "094031.jpg\n"
     ]
    },
    {
     "name": "stderr",
     "output_type": "stream",
     "text": [
      "C:\\Users\\amosc\\AppData\\Local\\Temp\\ipykernel_1464\\3427317803.py:205: FutureWarning: The frame.append method is deprecated and will be removed from pandas in a future version. Use pandas.concat instead.\n",
      "  df = df.append(row, ignore_index=True) #append the attributes of one face to the dataframe\n"
     ]
    },
    {
     "name": "stdout",
     "output_type": "stream",
     "text": [
      "Face 0\n",
      "yn min face: 0.15 mp min face: 0.21999999999999997 yf min face: 0.19999999999999998\n",
      "yn min bg: 3.5 mp min bg: 3.5 yf min bg: 3.5 used mask\n",
      "yn min bbox: 0.15 mp min bbox: 0.21999999999999997 yf min bbox: 0.16999999999999998\n",
      "yn min lbbox: 3.0999999999999974 mp min lbbox: 0.20499999999999996 yf min lbbox: 0.19499999999999998\n",
      "094032.jpg\n"
     ]
    },
    {
     "name": "stderr",
     "output_type": "stream",
     "text": [
      "C:\\Users\\amosc\\AppData\\Local\\Temp\\ipykernel_1464\\3427317803.py:205: FutureWarning: The frame.append method is deprecated and will be removed from pandas in a future version. Use pandas.concat instead.\n",
      "  df = df.append(row, ignore_index=True) #append the attributes of one face to the dataframe\n"
     ]
    },
    {
     "name": "stdout",
     "output_type": "stream",
     "text": [
      "Face 1\n",
      "yn min face: 0.07500000000000001 mp min face: 0 yf min face: 0.05\n",
      "yn min bg: 3.5 mp min bg: 0 yf min bg: 3.5 used mask\n",
      "yn min bbox: 0.07500000000000001 mp min bbox: 0 yf min bbox: 0.05\n",
      "yn min lbbox: 0.07999999999999999 mp min lbbox: 0 yf min lbbox: 0.07\n",
      "094033.jpg\n",
      "094034.jpg\n",
      "094035.jpg\n",
      "094036.jpg\n"
     ]
    },
    {
     "name": "stderr",
     "output_type": "stream",
     "text": [
      "C:\\Users\\amosc\\AppData\\Local\\Temp\\ipykernel_1464\\3427317803.py:205: FutureWarning: The frame.append method is deprecated and will be removed from pandas in a future version. Use pandas.concat instead.\n",
      "  df = df.append(row, ignore_index=True) #append the attributes of one face to the dataframe\n"
     ]
    },
    {
     "name": "stdout",
     "output_type": "stream",
     "text": [
      "Face 0\n",
      "yn min face: 0.10999999999999999 mp min face: 3.0999999999999974 yf min face: 0.12999999999999998\n",
      "yn min bg: 3.5 mp min bg: 3.5 yf min bg: 3.5 used mask\n",
      "yn min bbox: 0.10999999999999999 mp min bbox: 3.0999999999999974 yf min bbox: 0.12999999999999998\n",
      "yn min lbbox: 0.10499999999999998 mp min lbbox: 0.12999999999999998 yf min lbbox: 0.12999999999999998\n",
      "094037.jpg\n",
      "094038.jpg\n",
      "094039.jpg\n",
      "094040.jpg\n",
      "094041.jpg\n",
      "094042.jpg\n",
      "094043.jpg\n"
     ]
    },
    {
     "name": "stderr",
     "output_type": "stream",
     "text": [
      "C:\\Users\\amosc\\AppData\\Local\\Temp\\ipykernel_1464\\3427317803.py:205: FutureWarning: The frame.append method is deprecated and will be removed from pandas in a future version. Use pandas.concat instead.\n",
      "  df = df.append(row, ignore_index=True) #append the attributes of one face to the dataframe\n"
     ]
    },
    {
     "name": "stdout",
     "output_type": "stream",
     "text": [
      "Face 0\n",
      "yn min face: 0.13499999999999998 mp min face: 0.33 yf min face: 0.15999999999999998\n",
      "yn min bg: 3.5 mp min bg: 3.5 yf min bg: 3.5 used mask\n",
      "yn min bbox: 0.145 mp min bbox: 0.35000000000000003 yf min bbox: 0.15499999999999997\n",
      "yn min lbbox: 0.11499999999999999 mp min lbbox: 0.25499999999999995 yf min lbbox: 0.145\n",
      "094044.jpg\n",
      "094045.jpg\n",
      "094046.jpg\n",
      "094047.jpg\n",
      "094048.jpg\n",
      "094049.jpg\n",
      "094050.jpg\n",
      "094051.jpg\n",
      "094052.jpg\n",
      "094053.jpg\n",
      "094054.jpg\n",
      "094055.jpg\n",
      "094056.jpg\n",
      "094057.jpg\n",
      "094058.jpg\n",
      "094059.jpg\n",
      "094060.jpg\n",
      "094061.jpg\n",
      "094062.jpg\n",
      "094063.jpg\n",
      "094064.jpg\n",
      "094065.jpg\n",
      "094066.jpg\n",
      "094067.jpg\n",
      "094068.jpg\n",
      "094069.jpg\n",
      "094070.jpg\n",
      "094071.jpg\n"
     ]
    },
    {
     "name": "stderr",
     "output_type": "stream",
     "text": [
      "C:\\Users\\amosc\\AppData\\Local\\Temp\\ipykernel_1464\\3427317803.py:205: FutureWarning: The frame.append method is deprecated and will be removed from pandas in a future version. Use pandas.concat instead.\n",
      "  df = df.append(row, ignore_index=True) #append the attributes of one face to the dataframe\n"
     ]
    },
    {
     "name": "stdout",
     "output_type": "stream",
     "text": [
      "Face 0\n",
      "yn min face: 0.12999999999999998 mp min face: 0.15999999999999998 yf min face: 0.19999999999999998\n",
      "yn min bg: 3.5 mp min bg: 3.5 yf min bg: 3.5 used mask\n",
      "yn min bbox: 0.12999999999999998 mp min bbox: 0.15999999999999998 yf min bbox: 0.19999999999999998\n",
      "yn min lbbox: 0.18999999999999997 mp min lbbox: 0.20499999999999996 yf min lbbox: 0.175\n",
      "094072.jpg\n"
     ]
    },
    {
     "name": "stderr",
     "output_type": "stream",
     "text": [
      "C:\\Users\\amosc\\AppData\\Local\\Temp\\ipykernel_1464\\3427317803.py:205: FutureWarning: The frame.append method is deprecated and will be removed from pandas in a future version. Use pandas.concat instead.\n",
      "  df = df.append(row, ignore_index=True) #append the attributes of one face to the dataframe\n"
     ]
    },
    {
     "name": "stdout",
     "output_type": "stream",
     "text": [
      "Face 0\n",
      "yn min face: 3.0999999999999974 mp min face: 0.325 yf min face: 0.285\n",
      "yn min bg: 3.5 mp min bg: 3.5 yf min bg: 3.5 used mask\n",
      "yn min bbox: 0.33 mp min bbox: 0.335 yf min bbox: 0.26499999999999996\n",
      "yn min lbbox: 3.0999999999999974 mp min lbbox: 0.25999999999999995 yf min lbbox: 0.23999999999999996\n",
      "094073.jpg\n"
     ]
    },
    {
     "name": "stderr",
     "output_type": "stream",
     "text": [
      "C:\\Users\\amosc\\AppData\\Local\\Temp\\ipykernel_1464\\3427317803.py:205: FutureWarning: The frame.append method is deprecated and will be removed from pandas in a future version. Use pandas.concat instead.\n",
      "  df = df.append(row, ignore_index=True) #append the attributes of one face to the dataframe\n"
     ]
    },
    {
     "name": "stdout",
     "output_type": "stream",
     "text": [
      "Face 0\n",
      "yn min face: 0.23999999999999996 mp min face: 0.20499999999999996 yf min face: 0.15\n",
      "yn min bg: 3.5 mp min bg: 3.5 yf min bg: 3.5 used mask\n",
      "yn min bbox: 0.22499999999999998 mp min bbox: 0.20499999999999996 yf min bbox: 0.15499999999999997\n",
      "yn min lbbox: 0.16499999999999998 mp min lbbox: 0.18499999999999997 yf min lbbox: 0.15\n",
      "094074.jpg\n",
      "094075.jpg\n",
      "094076.jpg\n"
     ]
    },
    {
     "name": "stderr",
     "output_type": "stream",
     "text": [
      "C:\\Users\\amosc\\AppData\\Local\\Temp\\ipykernel_1464\\3427317803.py:205: FutureWarning: The frame.append method is deprecated and will be removed from pandas in a future version. Use pandas.concat instead.\n",
      "  df = df.append(row, ignore_index=True) #append the attributes of one face to the dataframe\n"
     ]
    },
    {
     "name": "stdout",
     "output_type": "stream",
     "text": [
      "Face 0\n",
      "yn min face: 0.13999999999999999 mp min face: 0.22499999999999998 yf min face: 0.23499999999999996\n",
      "yn min bg: 3.5 mp min bg: 3.5 yf min bg: 3.5 used mask\n",
      "yn min bbox: 0.13999999999999999 mp min bbox: 0.21999999999999997 yf min bbox: 0.23499999999999996\n",
      "yn min lbbox: 0.20499999999999996 mp min lbbox: 0.15999999999999998 yf min lbbox: 0.145\n",
      "094077.jpg\n",
      "094078.jpg\n",
      "094079.jpg\n",
      "094080.jpg\n",
      "094081.jpg\n",
      "094082.jpg\n",
      "094083.jpg\n",
      "094084.jpg\n",
      "094085.jpg\n",
      "094086.jpg\n",
      "094087.jpg\n",
      "094088.jpg\n"
     ]
    },
    {
     "name": "stderr",
     "output_type": "stream",
     "text": [
      "C:\\Users\\amosc\\AppData\\Local\\Temp\\ipykernel_1464\\3427317803.py:205: FutureWarning: The frame.append method is deprecated and will be removed from pandas in a future version. Use pandas.concat instead.\n",
      "  df = df.append(row, ignore_index=True) #append the attributes of one face to the dataframe\n"
     ]
    },
    {
     "name": "stdout",
     "output_type": "stream",
     "text": [
      "Face 0\n",
      "yn min face: 3.0999999999999974 mp min face: 0.23499999999999996 yf min face: 0.21499999999999997\n",
      "yn min bg: 3.5 mp min bg: 3.5 yf min bg: 3.5 used mask\n",
      "yn min bbox: 0.20499999999999996 mp min bbox: 0.20999999999999996 yf min bbox: 0.16499999999999998\n",
      "yn min lbbox: 3.0999999999999974 mp min lbbox: 0.24999999999999997 yf min lbbox: 0.13999999999999999\n",
      "094089.jpg\n",
      "094090.jpg\n",
      "094091.jpg\n",
      "094092.jpg\n",
      "094093.jpg\n",
      "094094.jpg\n",
      "094095.jpg\n"
     ]
    },
    {
     "name": "stderr",
     "output_type": "stream",
     "text": [
      "C:\\Users\\amosc\\AppData\\Local\\Temp\\ipykernel_1464\\3427317803.py:205: FutureWarning: The frame.append method is deprecated and will be removed from pandas in a future version. Use pandas.concat instead.\n",
      "  df = df.append(row, ignore_index=True) #append the attributes of one face to the dataframe\n"
     ]
    },
    {
     "name": "stdout",
     "output_type": "stream",
     "text": [
      "Face 0\n",
      "yn min face: 0.13499999999999998 mp min face: 0.18499999999999997 yf min face: 0.23999999999999996\n",
      "yn min bg: 3.5 mp min bg: 3.5 yf min bg: 3.5 used mask\n",
      "yn min bbox: 0.12999999999999998 mp min bbox: 0.18499999999999997 yf min bbox: 0.22999999999999995\n",
      "yn min lbbox: 3.0999999999999974 mp min lbbox: 0.175 yf min lbbox: 0.16999999999999998\n"
     ]
    },
    {
     "name": "stderr",
     "output_type": "stream",
     "text": [
      "C:\\Users\\amosc\\AppData\\Local\\Temp\\ipykernel_1464\\3427317803.py:205: FutureWarning: The frame.append method is deprecated and will be removed from pandas in a future version. Use pandas.concat instead.\n",
      "  df = df.append(row, ignore_index=True) #append the attributes of one face to the dataframe\n"
     ]
    },
    {
     "name": "stdout",
     "output_type": "stream",
     "text": [
      "094096.jpg\n",
      "094097.jpg\n",
      "094098.jpg\n",
      "094099.jpg\n",
      "094100.jpg\n",
      "094101.jpg\n",
      "094102.jpg\n",
      "094103.jpg\n",
      "Face 0\n",
      "yn min face: 0.22499999999999998 mp min face: 0.16499999999999998 yf min face: 0.27499999999999997\n",
      "yn min bg: 3.5 mp min bg: 3.5 yf min bg: 3.5 used mask\n",
      "yn min bbox: 0.22499999999999998 mp min bbox: 0.16499999999999998 yf min bbox: 0.23499999999999996\n",
      "yn min lbbox: 3.0999999999999974 mp min lbbox: 0.15499999999999997 yf min lbbox: 0.16999999999999998\n",
      "094104.jpg\n",
      "094105.jpg\n",
      "094106.jpg\n",
      "094107.jpg\n",
      "094108.jpg\n",
      "094109.jpg\n"
     ]
    },
    {
     "name": "stderr",
     "output_type": "stream",
     "text": [
      "C:\\Users\\amosc\\AppData\\Local\\Temp\\ipykernel_1464\\3427317803.py:205: FutureWarning: The frame.append method is deprecated and will be removed from pandas in a future version. Use pandas.concat instead.\n",
      "  df = df.append(row, ignore_index=True) #append the attributes of one face to the dataframe\n"
     ]
    },
    {
     "name": "stdout",
     "output_type": "stream",
     "text": [
      "Face 0\n",
      "yn min face: 0.16499999999999998 mp min face: 0.20499999999999996 yf min face: 0.47500000000000014\n",
      "yn min bg: 3.5 mp min bg: 3.5 yf min bg: 3.5 used mask\n",
      "yn min bbox: 0.16499999999999998 mp min bbox: 0.20499999999999996 yf min bbox: 0.3\n",
      "yn min lbbox: 0.16499999999999998 mp min lbbox: 0.19499999999999998 yf min lbbox: 0.21499999999999997\n",
      "094110.jpg\n",
      "094111.jpg\n",
      "094112.jpg\n",
      "094113.jpg\n"
     ]
    },
    {
     "name": "stderr",
     "output_type": "stream",
     "text": [
      "C:\\Users\\amosc\\AppData\\Local\\Temp\\ipykernel_1464\\3427317803.py:205: FutureWarning: The frame.append method is deprecated and will be removed from pandas in a future version. Use pandas.concat instead.\n",
      "  df = df.append(row, ignore_index=True) #append the attributes of one face to the dataframe\n"
     ]
    },
    {
     "name": "stdout",
     "output_type": "stream",
     "text": [
      "Face 0\n",
      "yn min face: 0.29 mp min face: 0.20499999999999996 yf min face: 0.27499999999999997\n",
      "yn min bg: 3.5 mp min bg: 3.5 yf min bg: 3.5 used mask\n",
      "yn min bbox: 0.23999999999999996 mp min bbox: 0.20499999999999996 yf min bbox: 0.23999999999999996\n",
      "yn min lbbox: 0.15 mp min lbbox: 0.16499999999999998 yf min lbbox: 0.19999999999999998\n",
      "094114.jpg\n",
      "094115.jpg\n",
      "094116.jpg\n"
     ]
    },
    {
     "name": "stderr",
     "output_type": "stream",
     "text": [
      "C:\\Users\\amosc\\AppData\\Local\\Temp\\ipykernel_1464\\3427317803.py:205: FutureWarning: The frame.append method is deprecated and will be removed from pandas in a future version. Use pandas.concat instead.\n",
      "  df = df.append(row, ignore_index=True) #append the attributes of one face to the dataframe\n"
     ]
    },
    {
     "name": "stdout",
     "output_type": "stream",
     "text": [
      "Face 0\n",
      "yn min face: 0.15999999999999998 mp min face: 0.22499999999999998 yf min face: 0.22999999999999995\n",
      "yn min bg: 3.5 mp min bg: 3.5 yf min bg: 3.5 used mask\n",
      "yn min bbox: 0.16499999999999998 mp min bbox: 0.21999999999999997 yf min bbox: 0.24499999999999997\n",
      "yn min lbbox: 3.0999999999999974 mp min lbbox: 0.19499999999999998 yf min lbbox: 0.18999999999999997\n",
      "094117.jpg\n",
      "094118.jpg\n",
      "094119.jpg\n",
      "094120.jpg\n",
      "094121.jpg\n"
     ]
    },
    {
     "name": "stderr",
     "output_type": "stream",
     "text": [
      "C:\\Users\\amosc\\AppData\\Local\\Temp\\ipykernel_1464\\3427317803.py:205: FutureWarning: The frame.append method is deprecated and will be removed from pandas in a future version. Use pandas.concat instead.\n",
      "  df = df.append(row, ignore_index=True) #append the attributes of one face to the dataframe\n"
     ]
    },
    {
     "name": "stdout",
     "output_type": "stream",
     "text": [
      "Face 0\n",
      "yn min face: 0.065 mp min face: 0.23499999999999996 yf min face: 0.095\n",
      "yn min bg: 3.5 mp min bg: 3.5 yf min bg: 3.5 used mask\n",
      "yn min bbox: 0.065 mp min bbox: 0.23999999999999996 yf min bbox: 0.095\n",
      "yn min lbbox: 0.065 mp min lbbox: 0.16499999999999998 yf min lbbox: 0.1\n",
      "094122.jpg\n",
      "094123.jpg\n",
      "094124.jpg\n",
      "094125.jpg\n",
      "094126.jpg\n"
     ]
    },
    {
     "name": "stderr",
     "output_type": "stream",
     "text": [
      "C:\\Users\\amosc\\AppData\\Local\\Temp\\ipykernel_1464\\3427317803.py:205: FutureWarning: The frame.append method is deprecated and will be removed from pandas in a future version. Use pandas.concat instead.\n",
      "  df = df.append(row, ignore_index=True) #append the attributes of one face to the dataframe\n"
     ]
    },
    {
     "name": "stdout",
     "output_type": "stream",
     "text": [
      "Face 0\n",
      "yn min face: 0.16499999999999998 mp min face: 0.19999999999999998 yf min face: 0.16499999999999998\n",
      "yn min bg: 3.5 mp min bg: 3.5 yf min bg: 3.5 used mask\n",
      "yn min bbox: 0.16999999999999998 mp min bbox: 0.20499999999999996 yf min bbox: 0.175\n",
      "yn min lbbox: 0.16499999999999998 mp min lbbox: 0.20499999999999996 yf min lbbox: 0.15\n",
      "094127.jpg\n",
      "094128.jpg\n",
      "094129.jpg\n"
     ]
    },
    {
     "name": "stderr",
     "output_type": "stream",
     "text": [
      "C:\\Users\\amosc\\AppData\\Local\\Temp\\ipykernel_1464\\3427317803.py:205: FutureWarning: The frame.append method is deprecated and will be removed from pandas in a future version. Use pandas.concat instead.\n",
      "  df = df.append(row, ignore_index=True) #append the attributes of one face to the dataframe\n"
     ]
    },
    {
     "name": "stdout",
     "output_type": "stream",
     "text": [
      "Face 0\n",
      "yn min face: 3.0999999999999974 mp min face: 0.295 yf min face: 0.15\n",
      "yn min bg: 3.5 mp min bg: 3.5 yf min bg: 3.5 used mask\n",
      "yn min bbox: 3.0999999999999974 mp min bbox: 0.20499999999999996 yf min bbox: 0.16999999999999998\n",
      "yn min lbbox: 0.12 mp min lbbox: 0.12999999999999998 yf min lbbox: 0.15499999999999997\n",
      "094130.jpg\n",
      "094131.jpg\n",
      "094132.jpg\n"
     ]
    },
    {
     "name": "stderr",
     "output_type": "stream",
     "text": [
      "C:\\Users\\amosc\\AppData\\Local\\Temp\\ipykernel_1464\\3427317803.py:205: FutureWarning: The frame.append method is deprecated and will be removed from pandas in a future version. Use pandas.concat instead.\n",
      "  df = df.append(row, ignore_index=True) #append the attributes of one face to the dataframe\n"
     ]
    },
    {
     "name": "stdout",
     "output_type": "stream",
     "text": [
      "Face 0\n",
      "yn min face: 0.21499999999999997 mp min face: 0.25499999999999995 yf min face: 0.26499999999999996\n",
      "yn min bg: 3.5 mp min bg: 3.5 yf min bg: 3.5 used mask\n",
      "yn min bbox: 0.20499999999999996 mp min bbox: 0.25499999999999995 yf min bbox: 0.23499999999999996\n",
      "yn min lbbox: 3.0999999999999974 mp min lbbox: 0.23499999999999996 yf min lbbox: 0.17999999999999997\n",
      "094133.jpg\n",
      "094134.jpg\n",
      "094135.jpg\n",
      "094136.jpg\n",
      "094137.jpg\n",
      "094138.jpg\n",
      "094139.jpg\n"
     ]
    },
    {
     "name": "stderr",
     "output_type": "stream",
     "text": [
      "C:\\Users\\amosc\\AppData\\Local\\Temp\\ipykernel_1464\\3427317803.py:205: FutureWarning: The frame.append method is deprecated and will be removed from pandas in a future version. Use pandas.concat instead.\n",
      "  df = df.append(row, ignore_index=True) #append the attributes of one face to the dataframe\n"
     ]
    },
    {
     "name": "stdout",
     "output_type": "stream",
     "text": [
      "Face 0\n",
      "yn min face: 0.6950000000000003 mp min face: 0.20999999999999996 yf min face: 0.285\n",
      "yn min bg: 3.5 mp min bg: 3.5 yf min bg: 3.5 used mask\n",
      "yn min bbox: 0.6700000000000003 mp min bbox: 0.20999999999999996 yf min bbox: 0.26999999999999996\n",
      "yn min lbbox: 3.0999999999999974 mp min lbbox: 0.19999999999999998 yf min lbbox: 0.18499999999999997\n",
      "094140.jpg\n",
      "094141.jpg\n",
      "094142.jpg\n",
      "094143.jpg\n",
      "094144.jpg\n"
     ]
    },
    {
     "name": "stderr",
     "output_type": "stream",
     "text": [
      "C:\\Users\\amosc\\AppData\\Local\\Temp\\ipykernel_1464\\3427317803.py:205: FutureWarning: The frame.append method is deprecated and will be removed from pandas in a future version. Use pandas.concat instead.\n",
      "  df = df.append(row, ignore_index=True) #append the attributes of one face to the dataframe\n"
     ]
    },
    {
     "name": "stdout",
     "output_type": "stream",
     "text": [
      "Face 0\n",
      "yn min face: 0.19499999999999998 mp min face: 0.27499999999999997 yf min face: 0.25499999999999995\n",
      "yn min bg: 3.5 mp min bg: 3.5 yf min bg: 3.5 used mask\n",
      "yn min bbox: 0.19499999999999998 mp min bbox: 0.27499999999999997 yf min bbox: 0.25499999999999995\n",
      "yn min lbbox: 0.19499999999999998 mp min lbbox: 0.23999999999999996 yf min lbbox: 0.20499999999999996\n",
      "094145.jpg\n",
      "094146.jpg\n",
      "094147.jpg\n",
      "094148.jpg\n",
      "094149.jpg\n",
      "094150.jpg\n",
      "094151.jpg\n",
      "094152.jpg\n",
      "094153.jpg\n",
      "094154.jpg\n"
     ]
    },
    {
     "name": "stderr",
     "output_type": "stream",
     "text": [
      "C:\\Users\\amosc\\AppData\\Local\\Temp\\ipykernel_1464\\3427317803.py:205: FutureWarning: The frame.append method is deprecated and will be removed from pandas in a future version. Use pandas.concat instead.\n",
      "  df = df.append(row, ignore_index=True) #append the attributes of one face to the dataframe\n"
     ]
    },
    {
     "name": "stdout",
     "output_type": "stream",
     "text": [
      "Face 0\n",
      "yn min face: 0.16999999999999998 mp min face: 0.19999999999999998 yf min face: 0.19499999999999998\n",
      "yn min bg: 3.5 mp min bg: 3.5 yf min bg: 3.5 used mask\n",
      "yn min bbox: 0.17999999999999997 mp min bbox: 0.19999999999999998 yf min bbox: 0.19499999999999998\n",
      "yn min lbbox: 0.125 mp min lbbox: 0.16499999999999998 yf min lbbox: 0.13999999999999999\n",
      "094155.jpg\n",
      "094156.jpg\n"
     ]
    },
    {
     "name": "stderr",
     "output_type": "stream",
     "text": [
      "C:\\Users\\amosc\\AppData\\Local\\Temp\\ipykernel_1464\\3427317803.py:205: FutureWarning: The frame.append method is deprecated and will be removed from pandas in a future version. Use pandas.concat instead.\n",
      "  df = df.append(row, ignore_index=True) #append the attributes of one face to the dataframe\n"
     ]
    },
    {
     "name": "stdout",
     "output_type": "stream",
     "text": [
      "Face 0\n",
      "yn min face: 0.24499999999999997 mp min face: 0.5300000000000001 yf min face: 0.23499999999999996\n",
      "yn min bg: 3.5 mp min bg: 3.5 yf min bg: 3.5 used mask\n",
      "yn min bbox: 0.24499999999999997 mp min bbox: 0.4950000000000001 yf min bbox: 0.21999999999999997\n",
      "yn min lbbox: 0.18499999999999997 mp min lbbox: 0.18499999999999997 yf min lbbox: 0.18999999999999997\n",
      "094157.jpg\n",
      "094158.jpg\n",
      "094159.jpg\n",
      "094160.jpg\n",
      "094161.jpg\n",
      "094162.jpg\n"
     ]
    },
    {
     "name": "stderr",
     "output_type": "stream",
     "text": [
      "C:\\Users\\amosc\\AppData\\Local\\Temp\\ipykernel_1464\\3427317803.py:205: FutureWarning: The frame.append method is deprecated and will be removed from pandas in a future version. Use pandas.concat instead.\n",
      "  df = df.append(row, ignore_index=True) #append the attributes of one face to the dataframe\n"
     ]
    },
    {
     "name": "stdout",
     "output_type": "stream",
     "text": [
      "Face 0\n",
      "yn min face: 0.19999999999999998 mp min face: 0.34 yf min face: 0.15\n",
      "yn min bg: 3.5 mp min bg: 3.5 yf min bg: 3.5 used mask\n",
      "yn min bbox: 0.19999999999999998 mp min bbox: 0.34 yf min bbox: 0.15\n",
      "yn min lbbox: 0.16999999999999998 mp min lbbox: 0.26999999999999996 yf min lbbox: 0.16499999999999998\n",
      "094163.jpg\n",
      "094164.jpg\n"
     ]
    },
    {
     "name": "stderr",
     "output_type": "stream",
     "text": [
      "C:\\Users\\amosc\\AppData\\Local\\Temp\\ipykernel_1464\\3427317803.py:205: FutureWarning: The frame.append method is deprecated and will be removed from pandas in a future version. Use pandas.concat instead.\n",
      "  df = df.append(row, ignore_index=True) #append the attributes of one face to the dataframe\n"
     ]
    },
    {
     "name": "stdout",
     "output_type": "stream",
     "text": [
      "Face 0\n",
      "yn min face: 3.0999999999999974 mp min face: 3.0999999999999974 yf min face: 0.22499999999999998\n",
      "yn min bg: 3.5 mp min bg: 3.5 yf min bg: 3.5 used mask\n",
      "yn min bbox: 3.0999999999999974 mp min bbox: 3.0999999999999974 yf min bbox: 0.22499999999999998\n",
      "yn min lbbox: 0.12 mp min lbbox: 0.16499999999999998 yf min lbbox: 0.15499999999999997\n",
      "094165.jpg\n",
      "094166.jpg\n",
      "094167.jpg\n"
     ]
    },
    {
     "name": "stderr",
     "output_type": "stream",
     "text": [
      "C:\\Users\\amosc\\AppData\\Local\\Temp\\ipykernel_1464\\3427317803.py:205: FutureWarning: The frame.append method is deprecated and will be removed from pandas in a future version. Use pandas.concat instead.\n",
      "  df = df.append(row, ignore_index=True) #append the attributes of one face to the dataframe\n"
     ]
    },
    {
     "name": "stdout",
     "output_type": "stream",
     "text": [
      "Face 0\n",
      "yn min face: 0.18999999999999997 mp min face: 0.315 yf min face: 0.19999999999999998\n",
      "yn min bg: 3.5 mp min bg: 3.5 yf min bg: 3.5 used mask\n",
      "yn min bbox: 0.18499999999999997 mp min bbox: 0.29 yf min bbox: 0.18999999999999997\n",
      "yn min lbbox: 0.17999999999999997 mp min lbbox: 0.33 yf min lbbox: 0.21999999999999997\n",
      "094168.jpg\n",
      "094169.jpg\n",
      "094170.jpg\n",
      "094171.jpg\n",
      "094172.jpg\n"
     ]
    },
    {
     "name": "stderr",
     "output_type": "stream",
     "text": [
      "C:\\Users\\amosc\\AppData\\Local\\Temp\\ipykernel_1464\\3427317803.py:205: FutureWarning: The frame.append method is deprecated and will be removed from pandas in a future version. Use pandas.concat instead.\n",
      "  df = df.append(row, ignore_index=True) #append the attributes of one face to the dataframe\n"
     ]
    },
    {
     "name": "stdout",
     "output_type": "stream",
     "text": [
      "Face 0\n",
      "yn min face: 0.145 mp min face: 3.0999999999999974 yf min face: 0.15499999999999997\n",
      "yn min bg: 3.5 mp min bg: 3.5 yf min bg: 3.5 used mask\n",
      "yn min bbox: 0.145 mp min bbox: 3.0999999999999974 yf min bbox: 0.15\n",
      "yn min lbbox: 0.12999999999999998 mp min lbbox: 0.21999999999999997 yf min lbbox: 0.12999999999999998\n",
      "094173.jpg\n"
     ]
    },
    {
     "name": "stderr",
     "output_type": "stream",
     "text": [
      "C:\\Users\\amosc\\AppData\\Local\\Temp\\ipykernel_1464\\3427317803.py:205: FutureWarning: The frame.append method is deprecated and will be removed from pandas in a future version. Use pandas.concat instead.\n",
      "  df = df.append(row, ignore_index=True) #append the attributes of one face to the dataframe\n"
     ]
    },
    {
     "name": "stdout",
     "output_type": "stream",
     "text": [
      "Face 0\n",
      "yn min face: 0.15499999999999997 mp min face: 0.21999999999999997 yf min face: 0.23999999999999996\n",
      "yn min bg: 3.5 mp min bg: 3.5 yf min bg: 3.5 used mask\n",
      "yn min bbox: 0.15 mp min bbox: 0.21999999999999997 yf min bbox: 0.22499999999999998\n",
      "yn min lbbox: 0.16999999999999998 mp min lbbox: 0.19499999999999998 yf min lbbox: 0.19499999999999998\n",
      "094174.jpg\n",
      "094175.jpg\n",
      "094176.jpg\n",
      "094177.jpg\n",
      "094178.jpg\n",
      "094179.jpg\n"
     ]
    },
    {
     "name": "stderr",
     "output_type": "stream",
     "text": [
      "C:\\Users\\amosc\\AppData\\Local\\Temp\\ipykernel_1464\\3427317803.py:205: FutureWarning: The frame.append method is deprecated and will be removed from pandas in a future version. Use pandas.concat instead.\n",
      "  df = df.append(row, ignore_index=True) #append the attributes of one face to the dataframe\n"
     ]
    },
    {
     "name": "stdout",
     "output_type": "stream",
     "text": [
      "Face 0\n",
      "yn min face: 3.0999999999999974 mp min face: 3.0999999999999974 yf min face: 0.22499999999999998\n",
      "yn min bg: 3.5 mp min bg: 3.5 yf min bg: 3.5 used mask\n",
      "yn min bbox: 3.0999999999999974 mp min bbox: 3.0999999999999974 yf min bbox: 0.22999999999999995\n",
      "yn min lbbox: 0.19499999999999998 mp min lbbox: 0.24499999999999997 yf min lbbox: 0.21499999999999997\n",
      "094180.jpg\n",
      "094181.jpg\n",
      "094182.jpg\n",
      "094183.jpg\n",
      "094184.jpg\n",
      "094185.jpg\n",
      "094186.jpg\n",
      "094187.jpg\n",
      "094188.jpg\n",
      "094189.jpg\n",
      "094190.jpg\n",
      "094191.jpg\n",
      "094192.jpg\n",
      "094193.jpg\n",
      "094194.jpg\n",
      "094195.jpg\n",
      "094196.jpg\n"
     ]
    },
    {
     "name": "stderr",
     "output_type": "stream",
     "text": [
      "C:\\Users\\amosc\\AppData\\Local\\Temp\\ipykernel_1464\\3427317803.py:205: FutureWarning: The frame.append method is deprecated and will be removed from pandas in a future version. Use pandas.concat instead.\n",
      "  df = df.append(row, ignore_index=True) #append the attributes of one face to the dataframe\n"
     ]
    },
    {
     "name": "stdout",
     "output_type": "stream",
     "text": [
      "Face 0\n",
      "yn min face: 0.065 mp min face: 0.13999999999999999 yf min face: 0.065\n",
      "yn min bg: 3.5 mp min bg: 3.5 yf min bg: 3.5 used mask\n",
      "yn min bbox: 0.065 mp min bbox: 0.13999999999999999 yf min bbox: 0.065\n",
      "yn min lbbox: 0.07 mp min lbbox: 0.15 yf min lbbox: 0.07999999999999999\n",
      "094197.jpg\n",
      "094198.jpg\n",
      "094199.jpg\n",
      "094200.jpg\n",
      "094201.jpg\n",
      "094202.jpg\n",
      "094203.jpg\n",
      "094204.jpg\n",
      "094205.jpg\n",
      "094206.jpg\n",
      "094207.jpg\n",
      "094208.jpg\n"
     ]
    },
    {
     "name": "stderr",
     "output_type": "stream",
     "text": [
      "C:\\Users\\amosc\\AppData\\Local\\Temp\\ipykernel_1464\\3427317803.py:205: FutureWarning: The frame.append method is deprecated and will be removed from pandas in a future version. Use pandas.concat instead.\n",
      "  df = df.append(row, ignore_index=True) #append the attributes of one face to the dataframe\n"
     ]
    },
    {
     "name": "stdout",
     "output_type": "stream",
     "text": [
      "Face 0\n",
      "yn min face: 0.15999999999999998 mp min face: 0.19999999999999998 yf min face: 0.125\n",
      "yn min bg: 3.5 mp min bg: 3.5 yf min bg: 3.5 used mask\n",
      "yn min bbox: 0.15499999999999997 mp min bbox: 0.19999999999999998 yf min bbox: 0.12\n",
      "yn min lbbox: 0.13499999999999998 mp min lbbox: 0.13999999999999999 yf min lbbox: 0.10999999999999999\n"
     ]
    },
    {
     "name": "stderr",
     "output_type": "stream",
     "text": [
      "C:\\Users\\amosc\\AppData\\Local\\Temp\\ipykernel_1464\\3427317803.py:205: FutureWarning: The frame.append method is deprecated and will be removed from pandas in a future version. Use pandas.concat instead.\n",
      "  df = df.append(row, ignore_index=True) #append the attributes of one face to the dataframe\n"
     ]
    },
    {
     "name": "stdout",
     "output_type": "stream",
     "text": [
      "094209.jpg\n",
      "Face 0\n",
      "yn min face: 0.15 mp min face: 0.4400000000000001 yf min face: 0.145\n",
      "yn min bg: 3.5 mp min bg: 3.5 yf min bg: 3.5 used mask\n",
      "yn min bbox: 0.13499999999999998 mp min bbox: 0.36500000000000005 yf min bbox: 0.15499999999999997\n",
      "yn min lbbox: 0.095 mp min lbbox: 0.19999999999999998 yf min lbbox: 0.12999999999999998\n",
      "094210.jpg\n",
      "094211.jpg\n",
      "094212.jpg\n",
      "094213.jpg\n",
      "094214.jpg\n",
      "094215.jpg\n",
      "094216.jpg\n",
      "094217.jpg\n",
      "094218.jpg\n",
      "094219.jpg\n",
      "094220.jpg\n",
      "094221.jpg\n"
     ]
    },
    {
     "name": "stderr",
     "output_type": "stream",
     "text": [
      "C:\\Users\\amosc\\AppData\\Local\\Temp\\ipykernel_1464\\3427317803.py:205: FutureWarning: The frame.append method is deprecated and will be removed from pandas in a future version. Use pandas.concat instead.\n",
      "  df = df.append(row, ignore_index=True) #append the attributes of one face to the dataframe\n"
     ]
    },
    {
     "name": "stdout",
     "output_type": "stream",
     "text": [
      "Face 0\n",
      "yn min face: 0.18499999999999997 mp min face: 0.21499999999999997 yf min face: 0.23999999999999996\n",
      "yn min bg: 3.5 mp min bg: 3.5 yf min bg: 3.5 used mask\n",
      "yn min bbox: 0.18499999999999997 mp min bbox: 0.21499999999999997 yf min bbox: 0.23999999999999996\n",
      "yn min lbbox: 3.0999999999999974 mp min lbbox: 0.25499999999999995 yf min lbbox: 0.18999999999999997\n",
      "094222.jpg\n",
      "094223.jpg\n",
      "094224.jpg\n",
      "094225.jpg\n",
      "094226.jpg\n",
      "094227.jpg\n",
      "094228.jpg\n",
      "094229.jpg\n",
      "094230.jpg\n",
      "094231.jpg\n",
      "094232.jpg\n",
      "094233.jpg\n",
      "094234.jpg\n",
      "094235.jpg\n",
      "094236.jpg\n",
      "094237.jpg\n",
      "094238.jpg\n",
      "094239.jpg\n",
      "094240.jpg\n"
     ]
    },
    {
     "name": "stderr",
     "output_type": "stream",
     "text": [
      "C:\\Users\\amosc\\AppData\\Local\\Temp\\ipykernel_1464\\3427317803.py:205: FutureWarning: The frame.append method is deprecated and will be removed from pandas in a future version. Use pandas.concat instead.\n",
      "  df = df.append(row, ignore_index=True) #append the attributes of one face to the dataframe\n"
     ]
    },
    {
     "name": "stdout",
     "output_type": "stream",
     "text": [
      "Face 0\n",
      "yn min face: 0.10999999999999999 mp min face: 0.18499999999999997 yf min face: 0.11499999999999999\n",
      "yn min bg: 3.5 mp min bg: 3.5 yf min bg: 3.5 used mask\n",
      "yn min bbox: 0.10499999999999998 mp min bbox: 0.19499999999999998 yf min bbox: 0.11499999999999999\n",
      "yn min lbbox: 0.10499999999999998 mp min lbbox: 0.19499999999999998 yf min lbbox: 0.12999999999999998\n",
      "094241.jpg\n",
      "094242.jpg\n",
      "094243.jpg\n",
      "094244.jpg\n",
      "094245.jpg\n"
     ]
    },
    {
     "name": "stderr",
     "output_type": "stream",
     "text": [
      "C:\\Users\\amosc\\AppData\\Local\\Temp\\ipykernel_1464\\3427317803.py:205: FutureWarning: The frame.append method is deprecated and will be removed from pandas in a future version. Use pandas.concat instead.\n",
      "  df = df.append(row, ignore_index=True) #append the attributes of one face to the dataframe\n"
     ]
    },
    {
     "name": "stdout",
     "output_type": "stream",
     "text": [
      "Face 0\n",
      "yn min face: 0.10999999999999999 mp min face: 0.6000000000000002 yf min face: 0.12999999999999998\n",
      "yn min bg: 3.5 mp min bg: 3.5 yf min bg: 3.5 used mask\n",
      "yn min bbox: 0.10999999999999999 mp min bbox: 0.5950000000000002 yf min bbox: 0.12999999999999998\n",
      "yn min lbbox: 0.1 mp min lbbox: 0.21999999999999997 yf min lbbox: 0.13499999999999998\n",
      "094246.jpg\n",
      "094247.jpg\n",
      "094248.jpg\n",
      "094249.jpg\n",
      "094250.jpg\n",
      "094251.jpg\n",
      "094252.jpg\n",
      "094253.jpg\n",
      "094254.jpg\n"
     ]
    },
    {
     "name": "stderr",
     "output_type": "stream",
     "text": [
      "C:\\Users\\amosc\\AppData\\Local\\Temp\\ipykernel_1464\\3427317803.py:205: FutureWarning: The frame.append method is deprecated and will be removed from pandas in a future version. Use pandas.concat instead.\n",
      "  df = df.append(row, ignore_index=True) #append the attributes of one face to the dataframe\n"
     ]
    },
    {
     "name": "stdout",
     "output_type": "stream",
     "text": [
      "Face 0\n",
      "yn min face: 0.26499999999999996 mp min face: 0.17999999999999997 yf min face: 0.25499999999999995\n",
      "yn min bg: 3.5 mp min bg: 3.5 yf min bg: 3.5 used mask\n",
      "yn min bbox: 3.0999999999999974 mp min bbox: 0.17999999999999997 yf min bbox: 0.23999999999999996\n",
      "yn min lbbox: 3.0999999999999974 mp min lbbox: 0.20499999999999996 yf min lbbox: 0.21999999999999997\n",
      "094255.jpg\n",
      "094256.jpg\n",
      "094257.jpg\n",
      "094258.jpg\n"
     ]
    },
    {
     "name": "stderr",
     "output_type": "stream",
     "text": [
      "C:\\Users\\amosc\\AppData\\Local\\Temp\\ipykernel_1464\\3427317803.py:205: FutureWarning: The frame.append method is deprecated and will be removed from pandas in a future version. Use pandas.concat instead.\n",
      "  df = df.append(row, ignore_index=True) #append the attributes of one face to the dataframe\n"
     ]
    },
    {
     "name": "stdout",
     "output_type": "stream",
     "text": [
      "Face 0\n",
      "yn min face: 0.15999999999999998 mp min face: 0.18999999999999997 yf min face: 0.19999999999999998\n",
      "yn min bg: 3.5 mp min bg: 3.5 yf min bg: 3.5 used mask\n",
      "yn min bbox: 0.15999999999999998 mp min bbox: 0.18999999999999997 yf min bbox: 0.19999999999999998\n",
      "yn min lbbox: 3.0999999999999974 mp min lbbox: 0.15 yf min lbbox: 0.16499999999999998\n",
      "094259.jpg\n",
      "094260.jpg\n",
      "094261.jpg\n",
      "094262.jpg\n",
      "094263.jpg\n",
      "094264.jpg\n",
      "094265.jpg\n",
      "094266.jpg\n",
      "094267.jpg\n",
      "094268.jpg\n"
     ]
    },
    {
     "name": "stderr",
     "output_type": "stream",
     "text": [
      "C:\\Users\\amosc\\AppData\\Local\\Temp\\ipykernel_1464\\3427317803.py:205: FutureWarning: The frame.append method is deprecated and will be removed from pandas in a future version. Use pandas.concat instead.\n",
      "  df = df.append(row, ignore_index=True) #append the attributes of one face to the dataframe\n"
     ]
    },
    {
     "name": "stdout",
     "output_type": "stream",
     "text": [
      "Face 0\n",
      "yn min face: 0.38500000000000006 mp min face: 0.12999999999999998 yf min face: 0.37500000000000006\n",
      "yn min bg: 3.5 mp min bg: 3.5 yf min bg: 3.5 used mask\n",
      "yn min bbox: 0.33 mp min bbox: 0.13499999999999998 yf min bbox: 0.23499999999999996\n",
      "yn min lbbox: 0.22999999999999995 mp min lbbox: 0.15 yf min lbbox: 0.15999999999999998\n",
      "094269.jpg\n",
      "094270.jpg\n",
      "094271.jpg\n",
      "094272.jpg\n",
      "094273.jpg\n",
      "094274.jpg\n",
      "094275.jpg\n",
      "094276.jpg\n",
      "094277.jpg\n",
      "094278.jpg\n"
     ]
    },
    {
     "name": "stderr",
     "output_type": "stream",
     "text": [
      "C:\\Users\\amosc\\AppData\\Local\\Temp\\ipykernel_1464\\3427317803.py:205: FutureWarning: The frame.append method is deprecated and will be removed from pandas in a future version. Use pandas.concat instead.\n",
      "  df = df.append(row, ignore_index=True) #append the attributes of one face to the dataframe\n"
     ]
    },
    {
     "name": "stdout",
     "output_type": "stream",
     "text": [
      "Face 0\n",
      "yn min face: 0.125 mp min face: 0.33 yf min face: 0.125\n",
      "yn min bg: 3.5 mp min bg: 3.5 yf min bg: 3.5 used mask\n",
      "yn min bbox: 0.125 mp min bbox: 0.315 yf min bbox: 0.125\n",
      "yn min lbbox: 0.10999999999999999 mp min lbbox: 0.20999999999999996 yf min lbbox: 0.13999999999999999\n",
      "094279.jpg\n",
      "094280.jpg\n",
      "094281.jpg\n",
      "094282.jpg\n"
     ]
    },
    {
     "name": "stderr",
     "output_type": "stream",
     "text": [
      "C:\\Users\\amosc\\AppData\\Local\\Temp\\ipykernel_1464\\3427317803.py:205: FutureWarning: The frame.append method is deprecated and will be removed from pandas in a future version. Use pandas.concat instead.\n",
      "  df = df.append(row, ignore_index=True) #append the attributes of one face to the dataframe\n"
     ]
    },
    {
     "name": "stdout",
     "output_type": "stream",
     "text": [
      "Face 0\n",
      "yn min face: 0.13499999999999998 mp min face: 0.20999999999999996 yf min face: 0.07\n",
      "yn min bg: 3.5 mp min bg: 3.5 yf min bg: 3.5 used mask\n",
      "yn min bbox: 0.13499999999999998 mp min bbox: 0.20999999999999996 yf min bbox: 0.07\n",
      "yn min lbbox: 0.09 mp min lbbox: 0.15 yf min lbbox: 0.07500000000000001\n",
      "094283.jpg\n",
      "094284.jpg\n"
     ]
    },
    {
     "name": "stderr",
     "output_type": "stream",
     "text": [
      "C:\\Users\\amosc\\AppData\\Local\\Temp\\ipykernel_1464\\3427317803.py:205: FutureWarning: The frame.append method is deprecated and will be removed from pandas in a future version. Use pandas.concat instead.\n",
      "  df = df.append(row, ignore_index=True) #append the attributes of one face to the dataframe\n"
     ]
    },
    {
     "name": "stdout",
     "output_type": "stream",
     "text": [
      "Face 0\n",
      "yn min face: 0.20999999999999996 mp min face: 0.22999999999999995 yf min face: 0.125\n",
      "yn min bg: 3.5 mp min bg: 3.5 yf min bg: 3.5 used mask\n",
      "yn min bbox: 0.20999999999999996 mp min bbox: 0.22999999999999995 yf min bbox: 0.125\n",
      "yn min lbbox: 0.15 mp min lbbox: 0.21499999999999997 yf min lbbox: 0.12999999999999998\n",
      "094285.jpg\n",
      "094286.jpg\n",
      "094287.jpg\n",
      "094288.jpg\n",
      "094289.jpg\n",
      "094290.jpg\n",
      "094291.jpg\n",
      "094292.jpg\n",
      "094293.jpg\n",
      "094294.jpg\n",
      "094295.jpg\n"
     ]
    },
    {
     "name": "stderr",
     "output_type": "stream",
     "text": [
      "C:\\Users\\amosc\\AppData\\Local\\Temp\\ipykernel_1464\\3427317803.py:205: FutureWarning: The frame.append method is deprecated and will be removed from pandas in a future version. Use pandas.concat instead.\n",
      "  df = df.append(row, ignore_index=True) #append the attributes of one face to the dataframe\n"
     ]
    },
    {
     "name": "stdout",
     "output_type": "stream",
     "text": [
      "Face 0\n",
      "yn min face: 0.15999999999999998 mp min face: 0.305 yf min face: 0.12999999999999998\n",
      "yn min bg: 3.5 mp min bg: 3.5 yf min bg: 3.5 used mask\n",
      "yn min bbox: 0.16499999999999998 mp min bbox: 0.295 yf min bbox: 0.12999999999999998\n",
      "yn min lbbox: 0.11499999999999999 mp min lbbox: 0.23999999999999996 yf min lbbox: 0.15\n",
      "094296.jpg\n",
      "094297.jpg\n",
      "094298.jpg\n",
      "094299.jpg\n",
      "094300.jpg\n",
      "094301.jpg\n",
      "094302.jpg\n"
     ]
    },
    {
     "name": "stderr",
     "output_type": "stream",
     "text": [
      "C:\\Users\\amosc\\AppData\\Local\\Temp\\ipykernel_1464\\3427317803.py:205: FutureWarning: The frame.append method is deprecated and will be removed from pandas in a future version. Use pandas.concat instead.\n",
      "  df = df.append(row, ignore_index=True) #append the attributes of one face to the dataframe\n"
     ]
    },
    {
     "name": "stdout",
     "output_type": "stream",
     "text": [
      "Face 0\n",
      "yn min face: 0.18499999999999997 mp min face: 3.0999999999999974 yf min face: 0.16499999999999998\n",
      "yn min bg: 3.5 mp min bg: 3.5 yf min bg: 3.5 used mask\n",
      "yn min bbox: 0.17999999999999997 mp min bbox: 3.0999999999999974 yf min bbox: 0.16499999999999998\n",
      "yn min lbbox: 0.15499999999999997 mp min lbbox: 0.21999999999999997 yf min lbbox: 0.15\n",
      "094303.jpg\n"
     ]
    },
    {
     "name": "stderr",
     "output_type": "stream",
     "text": [
      "C:\\Users\\amosc\\AppData\\Local\\Temp\\ipykernel_1464\\3427317803.py:205: FutureWarning: The frame.append method is deprecated and will be removed from pandas in a future version. Use pandas.concat instead.\n",
      "  df = df.append(row, ignore_index=True) #append the attributes of one face to the dataframe\n"
     ]
    },
    {
     "name": "stdout",
     "output_type": "stream",
     "text": [
      "Face 0\n",
      "yn min face: 0.125 mp min face: 0.23999999999999996 yf min face: 0.22999999999999995\n",
      "yn min bg: 3.5 mp min bg: 3.5 yf min bg: 3.5 used mask\n",
      "yn min bbox: 0.125 mp min bbox: 0.24999999999999997 yf min bbox: 0.21999999999999997\n",
      "yn min lbbox: 0.13999999999999999 mp min lbbox: 0.21999999999999997 yf min lbbox: 0.18999999999999997\n",
      "094304.jpg\n",
      "094305.jpg\n",
      "094306.jpg\n",
      "094307.jpg\n",
      "094308.jpg\n",
      "094309.jpg\n",
      "094310.jpg\n",
      "094311.jpg\n",
      "094312.jpg\n",
      "094313.jpg\n",
      "094314.jpg\n",
      "094315.jpg\n",
      "094316.jpg\n",
      "094317.jpg\n",
      "094318.jpg\n",
      "094319.jpg\n",
      "094320.jpg\n",
      "094321.jpg\n",
      "094322.jpg\n"
     ]
    },
    {
     "name": "stderr",
     "output_type": "stream",
     "text": [
      "C:\\Users\\amosc\\AppData\\Local\\Temp\\ipykernel_1464\\3427317803.py:205: FutureWarning: The frame.append method is deprecated and will be removed from pandas in a future version. Use pandas.concat instead.\n",
      "  df = df.append(row, ignore_index=True) #append the attributes of one face to the dataframe\n"
     ]
    },
    {
     "name": "stdout",
     "output_type": "stream",
     "text": [
      "Face 0\n",
      "yn min face: 0.19499999999999998 mp min face: 0.4950000000000001 yf min face: 0.15999999999999998\n",
      "yn min bg: 3.5 mp min bg: 3.5 yf min bg: 3.5 used mask\n",
      "yn min bbox: 0.19499999999999998 mp min bbox: 0.4950000000000001 yf min bbox: 0.15999999999999998\n",
      "yn min lbbox: 0.175 mp min lbbox: 0.19499999999999998 yf min lbbox: 0.15999999999999998\n",
      "094323.jpg\n"
     ]
    },
    {
     "name": "stderr",
     "output_type": "stream",
     "text": [
      "C:\\Users\\amosc\\AppData\\Local\\Temp\\ipykernel_1464\\3427317803.py:205: FutureWarning: The frame.append method is deprecated and will be removed from pandas in a future version. Use pandas.concat instead.\n",
      "  df = df.append(row, ignore_index=True) #append the attributes of one face to the dataframe\n"
     ]
    },
    {
     "name": "stdout",
     "output_type": "stream",
     "text": [
      "Face 0\n",
      "yn min face: 0.11499999999999999 mp min face: 0.17999999999999997 yf min face: 0.004999999999999998\n",
      "yn min bg: 3.5 mp min bg: 3.5 yf min bg: 3.5 used mask\n",
      "yn min bbox: 0.11499999999999999 mp min bbox: 0.17999999999999997 yf min bbox: 0.004999999999999998\n",
      "yn min lbbox: 0.10999999999999999 mp min lbbox: 0.16499999999999998 yf min lbbox: 0.009999999999999998\n",
      "094324.jpg\n",
      "094325.jpg\n",
      "094326.jpg\n",
      "094327.jpg\n",
      "094328.jpg\n"
     ]
    },
    {
     "name": "stderr",
     "output_type": "stream",
     "text": [
      "C:\\Users\\amosc\\AppData\\Local\\Temp\\ipykernel_1464\\3427317803.py:205: FutureWarning: The frame.append method is deprecated and will be removed from pandas in a future version. Use pandas.concat instead.\n",
      "  df = df.append(row, ignore_index=True) #append the attributes of one face to the dataframe\n"
     ]
    },
    {
     "name": "stdout",
     "output_type": "stream",
     "text": [
      "Face 0\n",
      "yn min face: 0.22999999999999995 mp min face: 0.21999999999999997 yf min face: 0.20499999999999996\n",
      "yn min bg: 3.5 mp min bg: 3.5 yf min bg: 3.5 used mask\n",
      "yn min bbox: 0.22999999999999995 mp min bbox: 0.21999999999999997 yf min bbox: 0.20999999999999996\n",
      "yn min lbbox: 0.21499999999999997 mp min lbbox: 0.21499999999999997 yf min lbbox: 0.21499999999999997\n",
      "094329.jpg\n",
      "094330.jpg\n",
      "094331.jpg\n",
      "094332.jpg\n",
      "094333.jpg\n"
     ]
    },
    {
     "name": "stderr",
     "output_type": "stream",
     "text": [
      "C:\\Users\\amosc\\AppData\\Local\\Temp\\ipykernel_1464\\3427317803.py:205: FutureWarning: The frame.append method is deprecated and will be removed from pandas in a future version. Use pandas.concat instead.\n",
      "  df = df.append(row, ignore_index=True) #append the attributes of one face to the dataframe\n"
     ]
    },
    {
     "name": "stdout",
     "output_type": "stream",
     "text": [
      "Face 0\n",
      "yn min face: 0.4200000000000001 mp min face: 0.11499999999999999 yf min face: 0.285\n",
      "yn min bg: 3.5 mp min bg: 3.5 yf min bg: 3.5 used mask\n",
      "yn min bbox: 0.16999999999999998 mp min bbox: 0.10999999999999999 yf min bbox: 0.25499999999999995\n",
      "yn min lbbox: 0.12 mp min lbbox: 0.10999999999999999 yf min lbbox: 0.12999999999999998\n",
      "094334.jpg\n"
     ]
    },
    {
     "name": "stderr",
     "output_type": "stream",
     "text": [
      "C:\\Users\\amosc\\AppData\\Local\\Temp\\ipykernel_1464\\3427317803.py:205: FutureWarning: The frame.append method is deprecated and will be removed from pandas in a future version. Use pandas.concat instead.\n",
      "  df = df.append(row, ignore_index=True) #append the attributes of one face to the dataframe\n"
     ]
    },
    {
     "name": "stdout",
     "output_type": "stream",
     "text": [
      "Face 0\n",
      "yn min face: 0.1 mp min face: 0.145 yf min face: 0.16999999999999998\n",
      "yn min bg: 3.5 mp min bg: 3.5 yf min bg: 3.5 used mask\n",
      "yn min bbox: 0.1 mp min bbox: 0.145 yf min bbox: 0.15999999999999998\n",
      "yn min lbbox: 3.0999999999999974 mp min lbbox: 0.15999999999999998 yf min lbbox: 0.175\n",
      "094335.jpg\n",
      "094336.jpg\n",
      "094337.jpg\n",
      "094338.jpg\n",
      "094339.jpg\n",
      "094340.jpg\n",
      "094341.jpg\n",
      "094342.jpg\n",
      "094343.jpg\n",
      "094344.jpg\n",
      "094345.jpg\n",
      "094346.jpg\n",
      "094347.jpg\n",
      "094348.jpg\n",
      "094349.jpg\n",
      "094350.jpg\n",
      "094351.jpg\n",
      "094352.jpg\n",
      "094353.jpg\n",
      "094354.jpg\n",
      "094355.jpg\n",
      "094356.jpg\n",
      "094357.jpg\n",
      "094358.jpg\n",
      "094359.jpg\n",
      "094360.jpg\n",
      "094361.jpg\n",
      "094362.jpg\n",
      "094363.jpg\n",
      "094364.jpg\n",
      "094365.jpg\n",
      "094366.jpg\n"
     ]
    },
    {
     "name": "stderr",
     "output_type": "stream",
     "text": [
      "C:\\Users\\amosc\\AppData\\Local\\Temp\\ipykernel_1464\\3427317803.py:205: FutureWarning: The frame.append method is deprecated and will be removed from pandas in a future version. Use pandas.concat instead.\n",
      "  df = df.append(row, ignore_index=True) #append the attributes of one face to the dataframe\n"
     ]
    },
    {
     "name": "stdout",
     "output_type": "stream",
     "text": [
      "Face 0\n",
      "yn min face: 0.15 mp min face: 0.23499999999999996 yf min face: 0.21999999999999997\n",
      "yn min bg: 3.5 mp min bg: 3.5 yf min bg: 3.5 used mask\n",
      "yn min bbox: 0.15 mp min bbox: 0.25499999999999995 yf min bbox: 0.21999999999999997\n",
      "yn min lbbox: 0.15999999999999998 mp min lbbox: 0.15499999999999997 yf min lbbox: 0.16499999999999998\n",
      "094367.jpg\n",
      "094368.jpg\n",
      "094369.jpg\n",
      "094370.jpg\n",
      "094371.jpg\n",
      "094372.jpg\n",
      "094373.jpg\n",
      "094374.jpg\n",
      "094375.jpg\n",
      "094376.jpg\n",
      "094377.jpg\n",
      "094378.jpg\n",
      "094379.jpg\n"
     ]
    },
    {
     "name": "stderr",
     "output_type": "stream",
     "text": [
      "C:\\Users\\amosc\\AppData\\Local\\Temp\\ipykernel_1464\\3427317803.py:205: FutureWarning: The frame.append method is deprecated and will be removed from pandas in a future version. Use pandas.concat instead.\n",
      "  df = df.append(row, ignore_index=True) #append the attributes of one face to the dataframe\n"
     ]
    },
    {
     "name": "stdout",
     "output_type": "stream",
     "text": [
      "Face 0\n",
      "yn min face: 3.0999999999999974 mp min face: 0.29 yf min face: 0.22499999999999998\n",
      "yn min bg: 3.5 mp min bg: 3.5 yf min bg: 3.5 used mask\n",
      "yn min bbox: 0.18999999999999997 mp min bbox: 0.285 yf min bbox: 0.21999999999999997\n",
      "yn min lbbox: 3.0999999999999974 mp min lbbox: 0.22499999999999998 yf min lbbox: 0.22999999999999995\n",
      "094380.jpg\n"
     ]
    },
    {
     "name": "stderr",
     "output_type": "stream",
     "text": [
      "C:\\Users\\amosc\\AppData\\Local\\Temp\\ipykernel_1464\\3427317803.py:205: FutureWarning: The frame.append method is deprecated and will be removed from pandas in a future version. Use pandas.concat instead.\n",
      "  df = df.append(row, ignore_index=True) #append the attributes of one face to the dataframe\n"
     ]
    },
    {
     "name": "stdout",
     "output_type": "stream",
     "text": [
      "Face 0\n",
      "yn min face: 0.18499999999999997 mp min face: 0.16499999999999998 yf min face: 0.305\n",
      "yn min bg: 3.5 mp min bg: 3.5 yf min bg: 3.5 used mask\n",
      "yn min bbox: 0.18499999999999997 mp min bbox: 0.16499999999999998 yf min bbox: 0.27499999999999997\n",
      "yn min lbbox: 0.19999999999999998 mp min lbbox: 0.15999999999999998 yf min lbbox: 0.19499999999999998\n",
      "094381.jpg\n",
      "094382.jpg\n",
      "094383.jpg\n",
      "094384.jpg\n",
      "094385.jpg\n",
      "094386.jpg\n",
      "094387.jpg\n"
     ]
    },
    {
     "name": "stderr",
     "output_type": "stream",
     "text": [
      "C:\\Users\\amosc\\AppData\\Local\\Temp\\ipykernel_1464\\3427317803.py:205: FutureWarning: The frame.append method is deprecated and will be removed from pandas in a future version. Use pandas.concat instead.\n",
      "  df = df.append(row, ignore_index=True) #append the attributes of one face to the dataframe\n"
     ]
    },
    {
     "name": "stdout",
     "output_type": "stream",
     "text": [
      "Face 0\n",
      "yn min face: 0.16499999999999998 mp min face: 0.4200000000000001 yf min face: 0.19999999999999998\n",
      "yn min bg: 3.5 mp min bg: 3.5 yf min bg: 3.5 used mask\n",
      "yn min bbox: 0.15 mp min bbox: 0.23499999999999996 yf min bbox: 0.21999999999999997\n",
      "yn min lbbox: 0.15 mp min lbbox: 0.25499999999999995 yf min lbbox: 0.16999999999999998\n",
      "094388.jpg\n",
      "094389.jpg\n",
      "094390.jpg\n",
      "094391.jpg\n",
      "094392.jpg\n",
      "094393.jpg\n",
      "094394.jpg\n",
      "094395.jpg\n",
      "094396.jpg\n",
      "094397.jpg\n",
      "094398.jpg\n",
      "094399.jpg\n",
      "094400.jpg\n",
      "094401.jpg\n",
      "094402.jpg\n",
      "094403.jpg\n"
     ]
    },
    {
     "name": "stderr",
     "output_type": "stream",
     "text": [
      "C:\\Users\\amosc\\AppData\\Local\\Temp\\ipykernel_1464\\3427317803.py:205: FutureWarning: The frame.append method is deprecated and will be removed from pandas in a future version. Use pandas.concat instead.\n",
      "  df = df.append(row, ignore_index=True) #append the attributes of one face to the dataframe\n"
     ]
    },
    {
     "name": "stdout",
     "output_type": "stream",
     "text": [
      "Face 0\n",
      "yn min face: 0.12999999999999998 mp min face: 3.0999999999999974 yf min face: 0.12\n",
      "yn min bg: 3.5 mp min bg: 3.5 yf min bg: 3.5 used mask\n",
      "yn min bbox: 0.12999999999999998 mp min bbox: 3.0999999999999974 yf min bbox: 0.125\n",
      "yn min lbbox: 0.095 mp min lbbox: 0.20499999999999996 yf min lbbox: 0.10499999999999998\n",
      "094404.jpg\n",
      "094405.jpg\n",
      "094406.jpg\n",
      "094407.jpg\n",
      "094408.jpg\n"
     ]
    },
    {
     "name": "stderr",
     "output_type": "stream",
     "text": [
      "C:\\Users\\amosc\\AppData\\Local\\Temp\\ipykernel_1464\\3427317803.py:205: FutureWarning: The frame.append method is deprecated and will be removed from pandas in a future version. Use pandas.concat instead.\n",
      "  df = df.append(row, ignore_index=True) #append the attributes of one face to the dataframe\n"
     ]
    },
    {
     "name": "stdout",
     "output_type": "stream",
     "text": [
      "Face 0\n",
      "yn min face: 0.095 mp min face: 0.16999999999999998 yf min face: 0.07999999999999999\n",
      "yn min bg: 3.5 mp min bg: 3.5 yf min bg: 3.5 used mask\n",
      "yn min bbox: 0.095 mp min bbox: 0.16499999999999998 yf min bbox: 0.07500000000000001\n",
      "yn min lbbox: 0.095 mp min lbbox: 0.12999999999999998 yf min lbbox: 0.07\n",
      "094409.jpg\n",
      "094410.jpg\n",
      "094411.jpg\n",
      "094412.jpg\n",
      "094413.jpg\n",
      "094414.jpg\n",
      "094415.jpg\n"
     ]
    },
    {
     "name": "stderr",
     "output_type": "stream",
     "text": [
      "C:\\Users\\amosc\\AppData\\Local\\Temp\\ipykernel_1464\\3427317803.py:205: FutureWarning: The frame.append method is deprecated and will be removed from pandas in a future version. Use pandas.concat instead.\n",
      "  df = df.append(row, ignore_index=True) #append the attributes of one face to the dataframe\n"
     ]
    },
    {
     "name": "stdout",
     "output_type": "stream",
     "text": [
      "Face 0\n",
      "yn min face: 0.15 mp min face: 0.4250000000000001 yf min face: 0.18499999999999997\n",
      "yn min bg: 3.5 mp min bg: 3.5 yf min bg: 3.5 used mask\n",
      "yn min bbox: 0.15 mp min bbox: 0.4150000000000001 yf min bbox: 0.20499999999999996\n",
      "yn min lbbox: 0.15 mp min lbbox: 0.23999999999999996 yf min lbbox: 0.19999999999999998\n",
      "094416.jpg\n",
      "094417.jpg\n",
      "094418.jpg\n",
      "094419.jpg\n",
      "094420.jpg\n",
      "094421.jpg\n",
      "094422.jpg\n",
      "094423.jpg\n",
      "094424.jpg\n",
      "094425.jpg\n",
      "094426.jpg\n",
      "094427.jpg\n",
      "094428.jpg\n",
      "094429.jpg\n"
     ]
    },
    {
     "name": "stderr",
     "output_type": "stream",
     "text": [
      "C:\\Users\\amosc\\AppData\\Local\\Temp\\ipykernel_1464\\3427317803.py:205: FutureWarning: The frame.append method is deprecated and will be removed from pandas in a future version. Use pandas.concat instead.\n",
      "  df = df.append(row, ignore_index=True) #append the attributes of one face to the dataframe\n"
     ]
    },
    {
     "name": "stdout",
     "output_type": "stream",
     "text": [
      "Face 0\n",
      "yn min face: 0.38500000000000006 mp min face: 0.27499999999999997 yf min face: 0.23999999999999996\n",
      "yn min bg: 3.5 mp min bg: 3.5 yf min bg: 3.5 used mask\n",
      "yn min bbox: 0.38500000000000006 mp min bbox: 0.27499999999999997 yf min bbox: 0.23999999999999996\n",
      "yn min lbbox: 0.3 mp min lbbox: 0.27499999999999997 yf min lbbox: 0.21999999999999997\n",
      "094430.jpg\n",
      "094431.jpg\n"
     ]
    },
    {
     "name": "stderr",
     "output_type": "stream",
     "text": [
      "C:\\Users\\amosc\\AppData\\Local\\Temp\\ipykernel_1464\\3427317803.py:205: FutureWarning: The frame.append method is deprecated and will be removed from pandas in a future version. Use pandas.concat instead.\n",
      "  df = df.append(row, ignore_index=True) #append the attributes of one face to the dataframe\n"
     ]
    },
    {
     "name": "stdout",
     "output_type": "stream",
     "text": [
      "Face 0\n",
      "yn min face: 0.095 mp min face: 0.15 yf min face: 0.17999999999999997\n",
      "yn min bg: 3.5 mp min bg: 3.5 yf min bg: 3.5 used mask\n",
      "yn min bbox: 0.095 mp min bbox: 0.15 yf min bbox: 0.175\n",
      "yn min lbbox: 0.10499999999999998 mp min lbbox: 0.13499999999999998 yf min lbbox: 0.17999999999999997\n",
      "094432.jpg\n",
      "094433.jpg\n",
      "094434.jpg\n",
      "094435.jpg\n",
      "094436.jpg\n",
      "094437.jpg\n",
      "094438.jpg\n"
     ]
    },
    {
     "name": "stderr",
     "output_type": "stream",
     "text": [
      "C:\\Users\\amosc\\AppData\\Local\\Temp\\ipykernel_1464\\3427317803.py:205: FutureWarning: The frame.append method is deprecated and will be removed from pandas in a future version. Use pandas.concat instead.\n",
      "  df = df.append(row, ignore_index=True) #append the attributes of one face to the dataframe\n"
     ]
    },
    {
     "name": "stdout",
     "output_type": "stream",
     "text": [
      "Face 0\n",
      "yn min face: 0.12 mp min face: 0.16999999999999998 yf min face: 0.15499999999999997\n",
      "yn min bg: 3.5 mp min bg: 3.5 yf min bg: 3.5 used mask\n",
      "yn min bbox: 0.12 mp min bbox: 0.16499999999999998 yf min bbox: 0.15\n",
      "yn min lbbox: 0.10999999999999999 mp min lbbox: 0.15 yf min lbbox: 0.15\n",
      "094439.jpg\n",
      "094440.jpg\n",
      "094441.jpg\n"
     ]
    },
    {
     "name": "stderr",
     "output_type": "stream",
     "text": [
      "C:\\Users\\amosc\\AppData\\Local\\Temp\\ipykernel_1464\\3427317803.py:205: FutureWarning: The frame.append method is deprecated and will be removed from pandas in a future version. Use pandas.concat instead.\n",
      "  df = df.append(row, ignore_index=True) #append the attributes of one face to the dataframe\n"
     ]
    },
    {
     "name": "stdout",
     "output_type": "stream",
     "text": [
      "Face 0\n",
      "yn min face: 0.22999999999999995 mp min face: 0.27499999999999997 yf min face: 0.26499999999999996\n",
      "yn min bg: 3.5 mp min bg: 3.5 yf min bg: 3.5 used mask\n",
      "yn min bbox: 0.22499999999999998 mp min bbox: 0.27499999999999997 yf min bbox: 0.26999999999999996\n",
      "yn min lbbox: 0.22499999999999998 mp min lbbox: 0.18499999999999997 yf min lbbox: 0.24999999999999997\n",
      "094442.jpg\n",
      "094443.jpg\n",
      "094444.jpg\n",
      "094445.jpg\n",
      "094446.jpg\n",
      "094447.jpg\n",
      "094448.jpg\n",
      "094449.jpg\n"
     ]
    },
    {
     "name": "stderr",
     "output_type": "stream",
     "text": [
      "C:\\Users\\amosc\\AppData\\Local\\Temp\\ipykernel_1464\\3427317803.py:205: FutureWarning: The frame.append method is deprecated and will be removed from pandas in a future version. Use pandas.concat instead.\n",
      "  df = df.append(row, ignore_index=True) #append the attributes of one face to the dataframe\n"
     ]
    },
    {
     "name": "stdout",
     "output_type": "stream",
     "text": [
      "Face 0\n",
      "yn min face: 0.16499999999999998 mp min face: 0.20499999999999996 yf min face: 0.20999999999999996\n",
      "yn min bg: 3.5 mp min bg: 3.5 yf min bg: 3.5 used mask\n",
      "yn min bbox: 0.16499999999999998 mp min bbox: 0.21499999999999997 yf min bbox: 0.19999999999999998\n",
      "yn min lbbox: 0.16499999999999998 mp min lbbox: 0.21999999999999997 yf min lbbox: 0.19999999999999998\n",
      "094450.jpg\n",
      "094451.jpg\n",
      "094452.jpg\n",
      "094453.jpg\n",
      "094454.jpg\n",
      "094455.jpg\n",
      "094456.jpg\n",
      "094457.jpg\n",
      "094458.jpg\n",
      "094459.jpg\n",
      "094460.jpg\n",
      "094461.jpg\n",
      "094462.jpg\n",
      "094463.jpg\n",
      "094464.jpg\n"
     ]
    },
    {
     "name": "stderr",
     "output_type": "stream",
     "text": [
      "C:\\Users\\amosc\\AppData\\Local\\Temp\\ipykernel_1464\\3427317803.py:205: FutureWarning: The frame.append method is deprecated and will be removed from pandas in a future version. Use pandas.concat instead.\n",
      "  df = df.append(row, ignore_index=True) #append the attributes of one face to the dataframe\n"
     ]
    },
    {
     "name": "stdout",
     "output_type": "stream",
     "text": [
      "Face 0\n",
      "yn min face: 0.175 mp min face: 3.0999999999999974 yf min face: 0.15999999999999998\n",
      "yn min bg: 3.5 mp min bg: 3.5 yf min bg: 3.5 used mask\n",
      "yn min bbox: 0.20999999999999996 mp min bbox: 3.0999999999999974 yf min bbox: 0.16999999999999998\n",
      "yn min lbbox: 0.175 mp min lbbox: 0.315 yf min lbbox: 0.19499999999999998\n",
      "094465.jpg\n",
      "094466.jpg\n",
      "094467.jpg\n"
     ]
    },
    {
     "name": "stderr",
     "output_type": "stream",
     "text": [
      "C:\\Users\\amosc\\AppData\\Local\\Temp\\ipykernel_1464\\3427317803.py:205: FutureWarning: The frame.append method is deprecated and will be removed from pandas in a future version. Use pandas.concat instead.\n",
      "  df = df.append(row, ignore_index=True) #append the attributes of one face to the dataframe\n"
     ]
    },
    {
     "name": "stdout",
     "output_type": "stream",
     "text": [
      "Face 0\n",
      "yn min face: 3.0999999999999974 mp min face: 0.19499999999999998 yf min face: 0.21999999999999997\n",
      "yn min bg: 3.5 mp min bg: 3.5 yf min bg: 3.5 used mask\n",
      "yn min bbox: 3.0999999999999974 mp min bbox: 0.18999999999999997 yf min bbox: 0.20499999999999996\n",
      "yn min lbbox: 0.12999999999999998 mp min lbbox: 0.16499999999999998 yf min lbbox: 0.17999999999999997\n",
      "094468.jpg\n"
     ]
    },
    {
     "name": "stderr",
     "output_type": "stream",
     "text": [
      "C:\\Users\\amosc\\AppData\\Local\\Temp\\ipykernel_1464\\3427317803.py:205: FutureWarning: The frame.append method is deprecated and will be removed from pandas in a future version. Use pandas.concat instead.\n",
      "  df = df.append(row, ignore_index=True) #append the attributes of one face to the dataframe\n"
     ]
    },
    {
     "name": "stdout",
     "output_type": "stream",
     "text": [
      "Face 0\n",
      "yn min face: 0.175 mp min face: 0.19999999999999998 yf min face: 0.36500000000000005\n",
      "yn min bg: 3.5 mp min bg: 3.5 yf min bg: 3.5 used mask\n",
      "yn min bbox: 0.175 mp min bbox: 0.19999999999999998 yf min bbox: 0.35000000000000003\n",
      "yn min lbbox: 3.0999999999999974 mp min lbbox: 0.22499999999999998 yf min lbbox: 0.22999999999999995\n",
      "094469.jpg\n",
      "094470.jpg\n",
      "094471.jpg\n",
      "094472.jpg\n",
      "094473.jpg\n",
      "094474.jpg\n",
      "094475.jpg\n"
     ]
    },
    {
     "name": "stderr",
     "output_type": "stream",
     "text": [
      "C:\\Users\\amosc\\AppData\\Local\\Temp\\ipykernel_1464\\3427317803.py:205: FutureWarning: The frame.append method is deprecated and will be removed from pandas in a future version. Use pandas.concat instead.\n",
      "  df = df.append(row, ignore_index=True) #append the attributes of one face to the dataframe\n"
     ]
    },
    {
     "name": "stdout",
     "output_type": "stream",
     "text": [
      "Face 0\n",
      "yn min face: 0.10999999999999999 mp min face: 0.25499999999999995 yf min face: 0.08499999999999999\n",
      "yn min bg: 3.5 mp min bg: 3.5 yf min bg: 3.5 used mask\n",
      "yn min bbox: 0.10999999999999999 mp min bbox: 0.24999999999999997 yf min bbox: 0.07500000000000001\n",
      "yn min lbbox: 0.10999999999999999 mp min lbbox: 0.16999999999999998 yf min lbbox: 0.07500000000000001\n",
      "094476.jpg\n",
      "094477.jpg\n",
      "094478.jpg\n",
      "094479.jpg\n",
      "094480.jpg\n",
      "094481.jpg\n",
      "094482.jpg\n",
      "094483.jpg\n",
      "094484.jpg\n",
      "094485.jpg\n"
     ]
    },
    {
     "name": "stderr",
     "output_type": "stream",
     "text": [
      "C:\\Users\\amosc\\AppData\\Local\\Temp\\ipykernel_1464\\3427317803.py:205: FutureWarning: The frame.append method is deprecated and will be removed from pandas in a future version. Use pandas.concat instead.\n",
      "  df = df.append(row, ignore_index=True) #append the attributes of one face to the dataframe\n"
     ]
    },
    {
     "name": "stdout",
     "output_type": "stream",
     "text": [
      "Face 0\n",
      "yn min face: 0.21999999999999997 mp min face: 0.18499999999999997 yf min face: 0.25499999999999995\n",
      "yn min bg: 3.5 mp min bg: 3.5 yf min bg: 3.5 used mask\n",
      "yn min bbox: 0.21999999999999997 mp min bbox: 0.18499999999999997 yf min bbox: 0.25499999999999995\n",
      "yn min lbbox: 3.0999999999999974 mp min lbbox: 0.20499999999999996 yf min lbbox: 0.20999999999999996\n",
      "094486.jpg\n"
     ]
    },
    {
     "name": "stderr",
     "output_type": "stream",
     "text": [
      "C:\\Users\\amosc\\AppData\\Local\\Temp\\ipykernel_1464\\3427317803.py:205: FutureWarning: The frame.append method is deprecated and will be removed from pandas in a future version. Use pandas.concat instead.\n",
      "  df = df.append(row, ignore_index=True) #append the attributes of one face to the dataframe\n"
     ]
    },
    {
     "name": "stdout",
     "output_type": "stream",
     "text": [
      "Face 0\n",
      "yn min face: 3.0999999999999974 mp min face: 0.25499999999999995 yf min face: 0.3950000000000001\n",
      "yn min bg: 3.5 mp min bg: 3.5 yf min bg: 3.5 used mask\n",
      "yn min bbox: 3.0999999999999974 mp min bbox: 0.25499999999999995 yf min bbox: 0.37000000000000005\n",
      "yn min lbbox: 3.0999999999999974 mp min lbbox: 0.20499999999999996 yf min lbbox: 0.22999999999999995\n",
      "094487.jpg\n",
      "094488.jpg\n",
      "094489.jpg\n",
      "094490.jpg\n",
      "094491.jpg\n",
      "094492.jpg\n",
      "094493.jpg\n",
      "094494.jpg\n",
      "094495.jpg\n",
      "094496.jpg\n",
      "094497.jpg\n",
      "094498.jpg\n",
      "094499.jpg\n",
      "094500.jpg\n",
      "094501.jpg\n",
      "094502.jpg\n",
      "094503.jpg\n",
      "094504.jpg\n",
      "094505.jpg\n",
      "094506.jpg\n"
     ]
    },
    {
     "name": "stderr",
     "output_type": "stream",
     "text": [
      "C:\\Users\\amosc\\AppData\\Local\\Temp\\ipykernel_1464\\3427317803.py:205: FutureWarning: The frame.append method is deprecated and will be removed from pandas in a future version. Use pandas.concat instead.\n",
      "  df = df.append(row, ignore_index=True) #append the attributes of one face to the dataframe\n"
     ]
    },
    {
     "name": "stdout",
     "output_type": "stream",
     "text": [
      "Face 0\n",
      "yn min face: 0.09 mp min face: 0.8750000000000004 yf min face: 0.1\n",
      "yn min bg: 3.5 mp min bg: 3.5 yf min bg: 3.5 used mask\n",
      "yn min bbox: 0.09 mp min bbox: 3.0999999999999974 yf min bbox: 0.10999999999999999\n",
      "yn min lbbox: 0.07999999999999999 mp min lbbox: 0.16499999999999998 yf min lbbox: 0.10999999999999999\n",
      "094507.jpg\n",
      "094508.jpg\n",
      "094509.jpg\n",
      "094510.jpg\n"
     ]
    },
    {
     "name": "stderr",
     "output_type": "stream",
     "text": [
      "C:\\Users\\amosc\\AppData\\Local\\Temp\\ipykernel_1464\\3427317803.py:205: FutureWarning: The frame.append method is deprecated and will be removed from pandas in a future version. Use pandas.concat instead.\n",
      "  df = df.append(row, ignore_index=True) #append the attributes of one face to the dataframe\n"
     ]
    },
    {
     "name": "stdout",
     "output_type": "stream",
     "text": [
      "Face 0\n",
      "yn min face: 0.32 mp min face: 0.37500000000000006 yf min face: 0.33\n",
      "yn min bg: 3.5 mp min bg: 3.5 yf min bg: 3.5 used mask\n",
      "yn min bbox: 0.3 mp min bbox: 0.34 yf min bbox: 0.35500000000000004\n",
      "yn min lbbox: 3.0999999999999974 mp min lbbox: 0.21999999999999997 yf min lbbox: 0.20499999999999996\n"
     ]
    },
    {
     "name": "stderr",
     "output_type": "stream",
     "text": [
      "C:\\Users\\amosc\\AppData\\Local\\Temp\\ipykernel_1464\\3427317803.py:205: FutureWarning: The frame.append method is deprecated and will be removed from pandas in a future version. Use pandas.concat instead.\n",
      "  df = df.append(row, ignore_index=True) #append the attributes of one face to the dataframe\n"
     ]
    },
    {
     "name": "stdout",
     "output_type": "stream",
     "text": [
      "094511.jpg\n",
      "094512.jpg\n",
      "094513.jpg\n",
      "094514.jpg\n",
      "Face 0\n",
      "yn min face: 0.145 mp min face: 0.20499999999999996 yf min face: 0.13499999999999998\n",
      "yn min bg: 3.5 mp min bg: 3.5 yf min bg: 3.5 used mask\n",
      "yn min bbox: 0.145 mp min bbox: 0.20499999999999996 yf min bbox: 0.13499999999999998\n",
      "yn min lbbox: 0.11499999999999999 mp min lbbox: 0.16999999999999998 yf min lbbox: 0.15499999999999997\n",
      "094515.jpg\n",
      "094516.jpg\n"
     ]
    },
    {
     "name": "stderr",
     "output_type": "stream",
     "text": [
      "C:\\Users\\amosc\\AppData\\Local\\Temp\\ipykernel_1464\\3427317803.py:205: FutureWarning: The frame.append method is deprecated and will be removed from pandas in a future version. Use pandas.concat instead.\n",
      "  df = df.append(row, ignore_index=True) #append the attributes of one face to the dataframe\n"
     ]
    },
    {
     "name": "stdout",
     "output_type": "stream",
     "text": [
      "Face 0\n",
      "yn min face: 0.15 mp min face: 0.16499999999999998 yf min face: 0.23499999999999996\n",
      "yn min bg: 3.5 mp min bg: 3.5 yf min bg: 3.5 used mask\n",
      "yn min bbox: 0.15 mp min bbox: 0.16499999999999998 yf min bbox: 0.23499999999999996\n",
      "yn min lbbox: 0.15 mp min lbbox: 0.15 yf min lbbox: 0.18499999999999997\n",
      "094517.jpg\n",
      "094518.jpg\n",
      "094519.jpg\n",
      "094520.jpg\n",
      "094521.jpg\n",
      "094522.jpg\n",
      "094523.jpg\n",
      "094524.jpg\n",
      "094525.jpg\n",
      "094526.jpg\n",
      "094527.jpg\n",
      "094528.jpg\n",
      "094529.jpg\n"
     ]
    },
    {
     "name": "stderr",
     "output_type": "stream",
     "text": [
      "C:\\Users\\amosc\\AppData\\Local\\Temp\\ipykernel_1464\\3427317803.py:205: FutureWarning: The frame.append method is deprecated and will be removed from pandas in a future version. Use pandas.concat instead.\n",
      "  df = df.append(row, ignore_index=True) #append the attributes of one face to the dataframe\n"
     ]
    },
    {
     "name": "stdout",
     "output_type": "stream",
     "text": [
      "Face 0\n",
      "yn min face: 0.1 mp min face: 0.145 yf min face: 0.10999999999999999\n",
      "yn min bg: 3.5 mp min bg: 3.5 yf min bg: 3.5 used mask\n",
      "yn min bbox: 0.1 mp min bbox: 0.145 yf min bbox: 0.10999999999999999\n",
      "yn min lbbox: 0.10999999999999999 mp min lbbox: 0.12999999999999998 yf min lbbox: 0.095\n",
      "094530.jpg\n",
      "094531.jpg\n",
      "094532.jpg\n",
      "094533.jpg\n",
      "094534.jpg\n",
      "094535.jpg\n",
      "094536.jpg\n",
      "094537.jpg\n",
      "094538.jpg\n",
      "094539.jpg\n",
      "094540.jpg\n",
      "094541.jpg\n",
      "094542.jpg\n",
      "094543.jpg\n",
      "094544.jpg\n",
      "094545.jpg\n",
      "094546.jpg\n"
     ]
    },
    {
     "name": "stderr",
     "output_type": "stream",
     "text": [
      "C:\\Users\\amosc\\AppData\\Local\\Temp\\ipykernel_1464\\3427317803.py:205: FutureWarning: The frame.append method is deprecated and will be removed from pandas in a future version. Use pandas.concat instead.\n",
      "  df = df.append(row, ignore_index=True) #append the attributes of one face to the dataframe\n"
     ]
    },
    {
     "name": "stdout",
     "output_type": "stream",
     "text": [
      "Face 0\n",
      "yn min face: 3.0999999999999974 mp min face: 0.27499999999999997 yf min face: 0.4100000000000001\n",
      "yn min bg: 3.5 mp min bg: 3.5 yf min bg: 3.5 used mask\n",
      "yn min bbox: 0.26499999999999996 mp min bbox: 0.23499999999999996 yf min bbox: 0.33\n",
      "yn min lbbox: 3.0999999999999974 mp min lbbox: 0.21999999999999997 yf min lbbox: 0.20499999999999996\n",
      "094547.jpg\n",
      "094548.jpg\n",
      "094549.jpg\n",
      "094550.jpg\n",
      "094551.jpg\n",
      "094552.jpg\n",
      "094553.jpg\n",
      "094554.jpg\n",
      "094555.jpg\n",
      "094556.jpg\n",
      "094557.jpg\n",
      "094558.jpg\n",
      "094559.jpg\n",
      "094560.jpg\n",
      "094561.jpg\n",
      "094562.jpg\n",
      "094563.jpg\n",
      "094564.jpg\n",
      "094565.jpg\n",
      "094566.jpg\n",
      "094567.jpg\n"
     ]
    },
    {
     "name": "stderr",
     "output_type": "stream",
     "text": [
      "C:\\Users\\amosc\\AppData\\Local\\Temp\\ipykernel_1464\\3427317803.py:205: FutureWarning: The frame.append method is deprecated and will be removed from pandas in a future version. Use pandas.concat instead.\n",
      "  df = df.append(row, ignore_index=True) #append the attributes of one face to the dataframe\n"
     ]
    },
    {
     "name": "stdout",
     "output_type": "stream",
     "text": [
      "Face 0\n",
      "yn min face: 0.19999999999999998 mp min face: 0.25999999999999995 yf min face: 0.18499999999999997\n",
      "yn min bg: 3.5 mp min bg: 3.5 yf min bg: 3.5 used mask\n",
      "yn min bbox: 0.19999999999999998 mp min bbox: 0.25999999999999995 yf min bbox: 0.18499999999999997\n",
      "yn min lbbox: 0.175 mp min lbbox: 0.24499999999999997 yf min lbbox: 0.15499999999999997\n",
      "094568.jpg\n",
      "094569.jpg\n",
      "094570.jpg\n",
      "094571.jpg\n",
      "094572.jpg\n",
      "094573.jpg\n",
      "094574.jpg\n",
      "094575.jpg\n",
      "094576.jpg\n",
      "094577.jpg\n",
      "094578.jpg\n",
      "094579.jpg\n"
     ]
    },
    {
     "name": "stderr",
     "output_type": "stream",
     "text": [
      "C:\\Users\\amosc\\AppData\\Local\\Temp\\ipykernel_1464\\3427317803.py:205: FutureWarning: The frame.append method is deprecated and will be removed from pandas in a future version. Use pandas.concat instead.\n",
      "  df = df.append(row, ignore_index=True) #append the attributes of one face to the dataframe\n"
     ]
    },
    {
     "name": "stdout",
     "output_type": "stream",
     "text": [
      "Face 0\n",
      "yn min face: 0.16499999999999998 mp min face: 0.23999999999999996 yf min face: 0.23499999999999996\n",
      "yn min bg: 3.5 mp min bg: 3.5 yf min bg: 3.5 used mask\n",
      "yn min bbox: 0.16499999999999998 mp min bbox: 0.23999999999999996 yf min bbox: 0.23499999999999996\n",
      "yn min lbbox: 0.13999999999999999 mp min lbbox: 0.15 yf min lbbox: 0.19999999999999998\n",
      "094580.jpg\n",
      "094581.jpg\n",
      "094582.jpg\n",
      "094583.jpg\n",
      "094584.jpg\n"
     ]
    },
    {
     "name": "stderr",
     "output_type": "stream",
     "text": [
      "C:\\Users\\amosc\\AppData\\Local\\Temp\\ipykernel_1464\\3427317803.py:205: FutureWarning: The frame.append method is deprecated and will be removed from pandas in a future version. Use pandas.concat instead.\n",
      "  df = df.append(row, ignore_index=True) #append the attributes of one face to the dataframe\n"
     ]
    },
    {
     "name": "stdout",
     "output_type": "stream",
     "text": [
      "Face 0\n",
      "yn min face: 0.12999999999999998 mp min face: 0.22999999999999995 yf min face: 0.20999999999999996\n",
      "yn min bg: 3.5 mp min bg: 3.5 yf min bg: 3.5 used mask\n",
      "yn min bbox: 0.12999999999999998 mp min bbox: 0.22499999999999998 yf min bbox: 0.20499999999999996\n",
      "yn min lbbox: 3.0999999999999974 mp min lbbox: 0.19999999999999998 yf min lbbox: 0.20999999999999996\n",
      "094585.jpg\n"
     ]
    },
    {
     "name": "stderr",
     "output_type": "stream",
     "text": [
      "C:\\Users\\amosc\\AppData\\Local\\Temp\\ipykernel_1464\\3427317803.py:205: FutureWarning: The frame.append method is deprecated and will be removed from pandas in a future version. Use pandas.concat instead.\n",
      "  df = df.append(row, ignore_index=True) #append the attributes of one face to the dataframe\n"
     ]
    },
    {
     "name": "stdout",
     "output_type": "stream",
     "text": [
      "Face 0\n",
      "yn min face: 0.10999999999999999 mp min face: 0.13499999999999998 yf min face: 0.10999999999999999\n",
      "yn min bg: 3.5 mp min bg: 3.5 yf min bg: 3.5 used mask\n",
      "yn min bbox: 0.095 mp min bbox: 0.125 yf min bbox: 0.08499999999999999\n",
      "yn min lbbox: 0.095 mp min lbbox: 0.145 yf min lbbox: 0.07999999999999999\n",
      "094586.jpg\n",
      "094587.jpg\n",
      "094588.jpg\n",
      "094589.jpg\n",
      "094590.jpg\n",
      "094591.jpg\n"
     ]
    },
    {
     "name": "stderr",
     "output_type": "stream",
     "text": [
      "C:\\Users\\amosc\\AppData\\Local\\Temp\\ipykernel_1464\\3427317803.py:205: FutureWarning: The frame.append method is deprecated and will be removed from pandas in a future version. Use pandas.concat instead.\n",
      "  df = df.append(row, ignore_index=True) #append the attributes of one face to the dataframe\n"
     ]
    },
    {
     "name": "stdout",
     "output_type": "stream",
     "text": [
      "Face 0\n",
      "yn min face: 0.1 mp min face: 0.29 yf min face: 0.12999999999999998\n",
      "yn min bg: 3.5 mp min bg: 3.5 yf min bg: 3.5 used mask\n",
      "yn min bbox: 0.1 mp min bbox: 0.285 yf min bbox: 0.13499999999999998\n",
      "yn min lbbox: 0.095 mp min lbbox: 0.145 yf min lbbox: 0.10999999999999999\n",
      "094592.jpg\n"
     ]
    },
    {
     "name": "stderr",
     "output_type": "stream",
     "text": [
      "C:\\Users\\amosc\\AppData\\Local\\Temp\\ipykernel_1464\\3427317803.py:205: FutureWarning: The frame.append method is deprecated and will be removed from pandas in a future version. Use pandas.concat instead.\n",
      "  df = df.append(row, ignore_index=True) #append the attributes of one face to the dataframe\n"
     ]
    },
    {
     "name": "stdout",
     "output_type": "stream",
     "text": [
      "Face 0\n",
      "yn min face: 0.18999999999999997 mp min face: 0.17999999999999997 yf min face: 0.16499999999999998\n",
      "yn min bg: 3.5 mp min bg: 3.5 yf min bg: 3.5 used mask\n",
      "yn min bbox: 0.16999999999999998 mp min bbox: 0.175 yf min bbox: 0.15999999999999998\n",
      "yn min lbbox: 0.15 mp min lbbox: 0.15 yf min lbbox: 0.145\n",
      "094593.jpg\n",
      "094594.jpg\n",
      "094595.jpg\n"
     ]
    },
    {
     "name": "stderr",
     "output_type": "stream",
     "text": [
      "C:\\Users\\amosc\\AppData\\Local\\Temp\\ipykernel_1464\\3427317803.py:205: FutureWarning: The frame.append method is deprecated and will be removed from pandas in a future version. Use pandas.concat instead.\n",
      "  df = df.append(row, ignore_index=True) #append the attributes of one face to the dataframe\n"
     ]
    },
    {
     "name": "stdout",
     "output_type": "stream",
     "text": [
      "Face 0\n",
      "yn min face: 0.1 mp min face: 0.12999999999999998 yf min face: 0.10999999999999999\n",
      "yn min bg: 3.5 mp min bg: 3.5 yf min bg: 3.5 used mask\n",
      "yn min bbox: 0.1 mp min bbox: 0.12999999999999998 yf min bbox: 0.10999999999999999\n",
      "yn min lbbox: 0.1 mp min lbbox: 0.145 yf min lbbox: 0.095\n",
      "094596.jpg\n",
      "094597.jpg\n",
      "094598.jpg\n",
      "094599.jpg\n",
      "094600.jpg\n",
      "094601.jpg\n",
      "094602.jpg\n",
      "094603.jpg\n",
      "094604.jpg\n",
      "094605.jpg\n",
      "094606.jpg\n",
      "094607.jpg\n",
      "094608.jpg\n",
      "094609.jpg\n",
      "094610.jpg\n",
      "094611.jpg\n"
     ]
    },
    {
     "name": "stderr",
     "output_type": "stream",
     "text": [
      "C:\\Users\\amosc\\AppData\\Local\\Temp\\ipykernel_1464\\3427317803.py:205: FutureWarning: The frame.append method is deprecated and will be removed from pandas in a future version. Use pandas.concat instead.\n",
      "  df = df.append(row, ignore_index=True) #append the attributes of one face to the dataframe\n"
     ]
    },
    {
     "name": "stdout",
     "output_type": "stream",
     "text": [
      "Face 0\n",
      "yn min face: 0.16499999999999998 mp min face: 0.175 yf min face: 0.21499999999999997\n",
      "yn min bg: 3.5 mp min bg: 3.5 yf min bg: 3.5 used mask\n",
      "yn min bbox: 0.16499999999999998 mp min bbox: 0.16999999999999998 yf min bbox: 0.19499999999999998\n",
      "yn min lbbox: 3.0999999999999974 mp min lbbox: 0.19499999999999998 yf min lbbox: 0.24999999999999997\n",
      "094612.jpg\n"
     ]
    },
    {
     "name": "stderr",
     "output_type": "stream",
     "text": [
      "C:\\Users\\amosc\\AppData\\Local\\Temp\\ipykernel_1464\\3427317803.py:205: FutureWarning: The frame.append method is deprecated and will be removed from pandas in a future version. Use pandas.concat instead.\n",
      "  df = df.append(row, ignore_index=True) #append the attributes of one face to the dataframe\n"
     ]
    },
    {
     "name": "stdout",
     "output_type": "stream",
     "text": [
      "Face 0\n",
      "yn min face: 0.11499999999999999 mp min face: 0.23999999999999996 yf min face: 0.19999999999999998\n",
      "yn min bg: 3.5 mp min bg: 3.5 yf min bg: 3.5 used mask\n",
      "yn min bbox: 0.11499999999999999 mp min bbox: 0.22999999999999995 yf min bbox: 0.16499999999999998\n",
      "yn min lbbox: 0.095 mp min lbbox: 0.19499999999999998 yf min lbbox: 0.125\n",
      "094613.jpg\n",
      "094614.jpg\n",
      "094615.jpg\n",
      "094616.jpg\n",
      "094617.jpg\n"
     ]
    },
    {
     "name": "stderr",
     "output_type": "stream",
     "text": [
      "C:\\Users\\amosc\\AppData\\Local\\Temp\\ipykernel_1464\\3427317803.py:205: FutureWarning: The frame.append method is deprecated and will be removed from pandas in a future version. Use pandas.concat instead.\n",
      "  df = df.append(row, ignore_index=True) #append the attributes of one face to the dataframe\n"
     ]
    },
    {
     "name": "stdout",
     "output_type": "stream",
     "text": [
      "Face 0\n",
      "yn min face: 3.0999999999999974 mp min face: 0.295 yf min face: 0.25999999999999995\n",
      "yn min bg: 3.5 mp min bg: 3.5 yf min bg: 3.5 used mask\n",
      "yn min bbox: 3.0999999999999974 mp min bbox: 0.295 yf min bbox: 0.25499999999999995\n",
      "yn min lbbox: 3.0999999999999974 mp min lbbox: 0.24999999999999997 yf min lbbox: 0.19999999999999998\n",
      "094618.jpg\n",
      "094619.jpg\n",
      "094620.jpg\n",
      "094621.jpg\n"
     ]
    },
    {
     "name": "stderr",
     "output_type": "stream",
     "text": [
      "C:\\Users\\amosc\\AppData\\Local\\Temp\\ipykernel_1464\\3427317803.py:205: FutureWarning: The frame.append method is deprecated and will be removed from pandas in a future version. Use pandas.concat instead.\n",
      "  df = df.append(row, ignore_index=True) #append the attributes of one face to the dataframe\n"
     ]
    },
    {
     "name": "stdout",
     "output_type": "stream",
     "text": [
      "Face 0\n",
      "yn min face: 3.0999999999999974 mp min face: 0.18499999999999997 yf min face: 0.29\n",
      "yn min bg: 3.5 mp min bg: 3.5 yf min bg: 3.5 used mask\n",
      "yn min bbox: 3.0999999999999974 mp min bbox: 0.18999999999999997 yf min bbox: 0.27499999999999997\n",
      "yn min lbbox: 3.0999999999999974 mp min lbbox: 0.20499999999999996 yf min lbbox: 0.175\n",
      "094622.jpg\n"
     ]
    },
    {
     "name": "stderr",
     "output_type": "stream",
     "text": [
      "C:\\Users\\amosc\\AppData\\Local\\Temp\\ipykernel_1464\\3427317803.py:205: FutureWarning: The frame.append method is deprecated and will be removed from pandas in a future version. Use pandas.concat instead.\n",
      "  df = df.append(row, ignore_index=True) #append the attributes of one face to the dataframe\n"
     ]
    },
    {
     "name": "stdout",
     "output_type": "stream",
     "text": [
      "Face 0\n",
      "yn min face: 0.11499999999999999 mp min face: 0.21499999999999997 yf min face: 0.16499999999999998\n",
      "yn min bg: 3.5 mp min bg: 3.5 yf min bg: 3.5 used mask\n",
      "yn min bbox: 0.10999999999999999 mp min bbox: 0.20499999999999996 yf min bbox: 0.15999999999999998\n",
      "yn min lbbox: 3.0999999999999974 mp min lbbox: 0.17999999999999997 yf min lbbox: 0.16499999999999998\n",
      "094623.jpg\n",
      "094624.jpg\n",
      "094625.jpg\n",
      "094626.jpg\n",
      "094627.jpg\n",
      "094628.jpg\n",
      "094629.jpg\n",
      "094630.jpg\n",
      "094631.jpg\n",
      "094632.jpg\n",
      "094633.jpg\n",
      "094634.jpg\n",
      "094635.jpg\n",
      "094636.jpg\n",
      "094637.jpg\n",
      "094638.jpg\n",
      "094639.jpg\n",
      "094640.jpg\n"
     ]
    },
    {
     "name": "stderr",
     "output_type": "stream",
     "text": [
      "C:\\Users\\amosc\\AppData\\Local\\Temp\\ipykernel_1464\\3427317803.py:205: FutureWarning: The frame.append method is deprecated and will be removed from pandas in a future version. Use pandas.concat instead.\n",
      "  df = df.append(row, ignore_index=True) #append the attributes of one face to the dataframe\n"
     ]
    },
    {
     "name": "stdout",
     "output_type": "stream",
     "text": [
      "Face 0\n",
      "yn min face: 0.36000000000000004 mp min face: 0.25999999999999995 yf min face: 0.27499999999999997\n",
      "yn min bg: 3.5 mp min bg: 3.5 yf min bg: 3.5 used mask\n",
      "yn min bbox: 0.35500000000000004 mp min bbox: 0.25999999999999995 yf min bbox: 0.27499999999999997\n",
      "yn min lbbox: 3.0999999999999974 mp min lbbox: 0.22999999999999995 yf min lbbox: 0.24999999999999997\n",
      "094641.jpg\n",
      "094642.jpg\n"
     ]
    },
    {
     "name": "stderr",
     "output_type": "stream",
     "text": [
      "C:\\Users\\amosc\\AppData\\Local\\Temp\\ipykernel_1464\\3427317803.py:205: FutureWarning: The frame.append method is deprecated and will be removed from pandas in a future version. Use pandas.concat instead.\n",
      "  df = df.append(row, ignore_index=True) #append the attributes of one face to the dataframe\n"
     ]
    },
    {
     "name": "stdout",
     "output_type": "stream",
     "text": [
      "Face 0\n",
      "yn min face: 3.0999999999999974 mp min face: 0.22999999999999995 yf min face: 0.20499999999999996\n",
      "yn min bg: 3.5 mp min bg: 3.5 yf min bg: 3.5 used mask\n",
      "yn min bbox: 3.0999999999999974 mp min bbox: 0.22999999999999995 yf min bbox: 0.20499999999999996\n",
      "yn min lbbox: 3.0999999999999974 mp min lbbox: 0.19999999999999998 yf min lbbox: 0.13999999999999999\n",
      "094643.jpg\n",
      "094644.jpg\n"
     ]
    },
    {
     "name": "stderr",
     "output_type": "stream",
     "text": [
      "C:\\Users\\amosc\\AppData\\Local\\Temp\\ipykernel_1464\\3427317803.py:205: FutureWarning: The frame.append method is deprecated and will be removed from pandas in a future version. Use pandas.concat instead.\n",
      "  df = df.append(row, ignore_index=True) #append the attributes of one face to the dataframe\n"
     ]
    },
    {
     "name": "stdout",
     "output_type": "stream",
     "text": [
      "Face 0\n",
      "yn min face: 0.15 mp min face: 0.26999999999999996 yf min face: 0.17999999999999997\n",
      "yn min bg: 3.5 mp min bg: 3.5 yf min bg: 3.5 used mask\n",
      "yn min bbox: 0.15 mp min bbox: 0.26999999999999996 yf min bbox: 0.17999999999999997\n",
      "yn min lbbox: 0.125 mp min lbbox: 0.16499999999999998 yf min lbbox: 0.15\n"
     ]
    },
    {
     "name": "stderr",
     "output_type": "stream",
     "text": [
      "C:\\Users\\amosc\\AppData\\Local\\Temp\\ipykernel_1464\\3427317803.py:205: FutureWarning: The frame.append method is deprecated and will be removed from pandas in a future version. Use pandas.concat instead.\n",
      "  df = df.append(row, ignore_index=True) #append the attributes of one face to the dataframe\n"
     ]
    },
    {
     "name": "stdout",
     "output_type": "stream",
     "text": [
      "094645.jpg\n",
      "094646.jpg\n",
      "094647.jpg\n",
      "094648.jpg\n",
      "094649.jpg\n",
      "094650.jpg\n",
      "094651.jpg\n",
      "094652.jpg\n",
      "094653.jpg\n",
      "094654.jpg\n",
      "094655.jpg\n",
      "094656.jpg\n",
      "094657.jpg\n",
      "094658.jpg\n",
      "094659.jpg\n",
      "094660.jpg\n",
      "094661.jpg\n",
      "094662.jpg\n",
      "094663.jpg\n",
      "094664.jpg\n",
      "Face 0\n",
      "yn min face: 0.175 mp min face: 0.36500000000000005 yf min face: 0.21999999999999997\n",
      "yn min bg: 3.5 mp min bg: 3.5 yf min bg: 3.5 used mask\n",
      "yn min bbox: 0.175 mp min bbox: 0.37000000000000005 yf min bbox: 0.22499999999999998\n",
      "yn min lbbox: 0.13499999999999998 mp min lbbox: 0.20499999999999996 yf min lbbox: 0.17999999999999997\n",
      "094665.jpg\n",
      "094666.jpg\n",
      "094667.jpg\n",
      "094668.jpg\n",
      "094669.jpg\n",
      "094670.jpg\n"
     ]
    },
    {
     "name": "stderr",
     "output_type": "stream",
     "text": [
      "C:\\Users\\amosc\\AppData\\Local\\Temp\\ipykernel_1464\\3427317803.py:205: FutureWarning: The frame.append method is deprecated and will be removed from pandas in a future version. Use pandas.concat instead.\n",
      "  df = df.append(row, ignore_index=True) #append the attributes of one face to the dataframe\n"
     ]
    },
    {
     "name": "stdout",
     "output_type": "stream",
     "text": [
      "Face 0\n",
      "yn min face: 0.295 mp min face: 0.15 yf min face: 0.15999999999999998\n",
      "yn min bg: 3.5 mp min bg: 3.5 yf min bg: 3.5 used mask\n",
      "yn min bbox: 3.0999999999999974 mp min bbox: 0.145 yf min bbox: 0.15499999999999997\n",
      "yn min lbbox: 3.0999999999999974 mp min lbbox: 0.13499999999999998 yf min lbbox: 0.125\n",
      "094671.jpg\n",
      "094672.jpg\n",
      "094673.jpg\n",
      "094674.jpg\n",
      "094675.jpg\n",
      "094676.jpg\n"
     ]
    },
    {
     "name": "stderr",
     "output_type": "stream",
     "text": [
      "C:\\Users\\amosc\\AppData\\Local\\Temp\\ipykernel_1464\\3427317803.py:205: FutureWarning: The frame.append method is deprecated and will be removed from pandas in a future version. Use pandas.concat instead.\n",
      "  df = df.append(row, ignore_index=True) #append the attributes of one face to the dataframe\n"
     ]
    },
    {
     "name": "stdout",
     "output_type": "stream",
     "text": [
      "Face 0\n",
      "yn min face: 3.0999999999999974 mp min face: 0.15 yf min face: 0.21499999999999997\n",
      "yn min bg: 3.5 mp min bg: 3.5 yf min bg: 3.5 used mask\n",
      "yn min bbox: 3.0999999999999974 mp min bbox: 0.15 yf min bbox: 0.20999999999999996\n",
      "yn min lbbox: 3.0999999999999974 mp min lbbox: 0.13999999999999999 yf min lbbox: 0.12999999999999998\n",
      "094677.jpg\n",
      "094678.jpg\n",
      "094679.jpg\n",
      "094680.jpg\n",
      "094681.jpg\n",
      "094682.jpg\n",
      "094683.jpg\n",
      "094684.jpg\n",
      "094685.jpg\n",
      "094686.jpg\n"
     ]
    },
    {
     "name": "stderr",
     "output_type": "stream",
     "text": [
      "C:\\Users\\amosc\\AppData\\Local\\Temp\\ipykernel_1464\\3427317803.py:205: FutureWarning: The frame.append method is deprecated and will be removed from pandas in a future version. Use pandas.concat instead.\n",
      "  df = df.append(row, ignore_index=True) #append the attributes of one face to the dataframe\n"
     ]
    },
    {
     "name": "stdout",
     "output_type": "stream",
     "text": [
      "Face 0\n",
      "yn min face: 0.19499999999999998 mp min face: 0.3 yf min face: 0.22499999999999998\n",
      "yn min bg: 3.5 mp min bg: 3.5 yf min bg: 3.5 used mask\n",
      "yn min bbox: 0.18499999999999997 mp min bbox: 0.295 yf min bbox: 0.20999999999999996\n",
      "yn min lbbox: 0.16499999999999998 mp min lbbox: 0.21999999999999997 yf min lbbox: 0.17999999999999997\n",
      "094687.jpg\n",
      "094688.jpg\n",
      "094689.jpg\n",
      "094690.jpg\n",
      "094691.jpg\n",
      "094692.jpg\n",
      "094693.jpg\n",
      "094694.jpg\n",
      "094695.jpg\n",
      "094696.jpg\n",
      "094697.jpg\n",
      "094698.jpg\n",
      "094699.jpg\n",
      "094700.jpg\n",
      "094701.jpg\n",
      "094702.jpg\n"
     ]
    },
    {
     "name": "stderr",
     "output_type": "stream",
     "text": [
      "C:\\Users\\amosc\\AppData\\Local\\Temp\\ipykernel_1464\\3427317803.py:205: FutureWarning: The frame.append method is deprecated and will be removed from pandas in a future version. Use pandas.concat instead.\n",
      "  df = df.append(row, ignore_index=True) #append the attributes of one face to the dataframe\n"
     ]
    },
    {
     "name": "stdout",
     "output_type": "stream",
     "text": [
      "Face 0\n",
      "yn min face: 0.35000000000000003 mp min face: 0.5000000000000001 yf min face: 0.1\n",
      "yn min bg: 3.5 mp min bg: 3.5 yf min bg: 3.5 used mask\n",
      "yn min bbox: 0.38500000000000006 mp min bbox: 0.5100000000000001 yf min bbox: 0.10499999999999998\n",
      "yn min lbbox: 0.12999999999999998 mp min lbbox: 0.21999999999999997 yf min lbbox: 0.15\n",
      "094703.jpg\n",
      "094704.jpg\n"
     ]
    },
    {
     "name": "stderr",
     "output_type": "stream",
     "text": [
      "C:\\Users\\amosc\\AppData\\Local\\Temp\\ipykernel_1464\\3427317803.py:205: FutureWarning: The frame.append method is deprecated and will be removed from pandas in a future version. Use pandas.concat instead.\n",
      "  df = df.append(row, ignore_index=True) #append the attributes of one face to the dataframe\n"
     ]
    },
    {
     "name": "stdout",
     "output_type": "stream",
     "text": [
      "Face 0\n",
      "yn min face: 0.12999999999999998 mp min face: 0.26999999999999996 yf min face: 0.12\n",
      "yn min bg: 3.5 mp min bg: 3.5 yf min bg: 3.5 used mask\n",
      "yn min bbox: 0.10999999999999999 mp min bbox: 0.23999999999999996 yf min bbox: 0.24999999999999997\n",
      "yn min lbbox: 0.10499999999999998 mp min lbbox: 0.18999999999999997 yf min lbbox: 0.125\n",
      "094705.jpg\n"
     ]
    },
    {
     "name": "stderr",
     "output_type": "stream",
     "text": [
      "C:\\Users\\amosc\\AppData\\Local\\Temp\\ipykernel_1464\\3427317803.py:205: FutureWarning: The frame.append method is deprecated and will be removed from pandas in a future version. Use pandas.concat instead.\n",
      "  df = df.append(row, ignore_index=True) #append the attributes of one face to the dataframe\n"
     ]
    },
    {
     "name": "stdout",
     "output_type": "stream",
     "text": [
      "Face 0\n",
      "yn min face: 0.16999999999999998 mp min face: 0.12 yf min face: 0.35000000000000003\n",
      "yn min bg: 3.5 mp min bg: 3.5 yf min bg: 3.5 used mask\n",
      "yn min bbox: 0.13999999999999999 mp min bbox: 0.125 yf min bbox: 0.19999999999999998\n",
      "yn min lbbox: 0.12999999999999998 mp min lbbox: 0.145 yf min lbbox: 0.16999999999999998\n",
      "094706.jpg\n",
      "094707.jpg\n",
      "094708.jpg\n",
      "094709.jpg\n",
      "094710.jpg\n",
      "094711.jpg\n",
      "094712.jpg\n",
      "094713.jpg\n",
      "094714.jpg\n",
      "094715.jpg\n",
      "094716.jpg\n",
      "094717.jpg\n",
      "094718.jpg\n",
      "094719.jpg\n",
      "094720.jpg\n",
      "094721.jpg\n",
      "094722.jpg\n",
      "094723.jpg\n",
      "094724.jpg\n",
      "094725.jpg\n",
      "094726.jpg\n",
      "094727.jpg\n",
      "094728.jpg\n"
     ]
    },
    {
     "name": "stderr",
     "output_type": "stream",
     "text": [
      "C:\\Users\\amosc\\AppData\\Local\\Temp\\ipykernel_1464\\3427317803.py:205: FutureWarning: The frame.append method is deprecated and will be removed from pandas in a future version. Use pandas.concat instead.\n",
      "  df = df.append(row, ignore_index=True) #append the attributes of one face to the dataframe\n"
     ]
    },
    {
     "name": "stdout",
     "output_type": "stream",
     "text": [
      "Face 0\n",
      "yn min face: 3.0999999999999974 mp min face: 0.32 yf min face: 0.26499999999999996\n",
      "yn min bg: 3.5 mp min bg: 3.5 yf min bg: 3.5 used mask\n",
      "yn min bbox: 3.0999999999999974 mp min bbox: 0.31 yf min bbox: 0.25999999999999995\n",
      "yn min lbbox: 3.0999999999999974 mp min lbbox: 0.25499999999999995 yf min lbbox: 0.25499999999999995\n",
      "094729.jpg\n",
      "094730.jpg\n",
      "094731.jpg\n",
      "094732.jpg\n",
      "094733.jpg\n",
      "094734.jpg\n",
      "094735.jpg\n",
      "094736.jpg\n",
      "094737.jpg\n",
      "094738.jpg\n",
      "094739.jpg\n",
      "094740.jpg\n",
      "094741.jpg\n",
      "094742.jpg\n",
      "094743.jpg\n"
     ]
    },
    {
     "name": "stderr",
     "output_type": "stream",
     "text": [
      "C:\\Users\\amosc\\AppData\\Local\\Temp\\ipykernel_1464\\3427317803.py:205: FutureWarning: The frame.append method is deprecated and will be removed from pandas in a future version. Use pandas.concat instead.\n",
      "  df = df.append(row, ignore_index=True) #append the attributes of one face to the dataframe\n"
     ]
    },
    {
     "name": "stdout",
     "output_type": "stream",
     "text": [
      "Face 0\n",
      "yn min face: 0.145 mp min face: 0.23999999999999996 yf min face: 0.23999999999999996\n",
      "yn min bg: 3.5 mp min bg: 3.5 yf min bg: 3.5 used mask\n",
      "yn min bbox: 0.145 mp min bbox: 0.23999999999999996 yf min bbox: 0.23999999999999996\n",
      "yn min lbbox: 0.24999999999999997 mp min lbbox: 0.23499999999999996 yf min lbbox: 0.19499999999999998\n",
      "094744.jpg\n",
      "094745.jpg\n",
      "094746.jpg\n",
      "094747.jpg\n",
      "094748.jpg\n",
      "094749.jpg\n"
     ]
    },
    {
     "name": "stderr",
     "output_type": "stream",
     "text": [
      "C:\\Users\\amosc\\AppData\\Local\\Temp\\ipykernel_1464\\3427317803.py:205: FutureWarning: The frame.append method is deprecated and will be removed from pandas in a future version. Use pandas.concat instead.\n",
      "  df = df.append(row, ignore_index=True) #append the attributes of one face to the dataframe\n"
     ]
    },
    {
     "name": "stdout",
     "output_type": "stream",
     "text": [
      "Face 0\n",
      "yn min face: 0.19999999999999998 mp min face: 0.35000000000000003 yf min face: 0.26999999999999996\n",
      "yn min bg: 3.5 mp min bg: 3.5 yf min bg: 3.5 used mask\n",
      "yn min bbox: 0.19999999999999998 mp min bbox: 0.35000000000000003 yf min bbox: 0.26999999999999996\n",
      "yn min lbbox: 3.0999999999999974 mp min lbbox: 0.22999999999999995 yf min lbbox: 0.23999999999999996\n",
      "094750.jpg\n",
      "094751.jpg\n",
      "094752.jpg\n",
      "094753.jpg\n",
      "094754.jpg\n"
     ]
    },
    {
     "name": "stderr",
     "output_type": "stream",
     "text": [
      "C:\\Users\\amosc\\AppData\\Local\\Temp\\ipykernel_1464\\3427317803.py:205: FutureWarning: The frame.append method is deprecated and will be removed from pandas in a future version. Use pandas.concat instead.\n",
      "  df = df.append(row, ignore_index=True) #append the attributes of one face to the dataframe\n"
     ]
    },
    {
     "name": "stdout",
     "output_type": "stream",
     "text": [
      "Face 0\n",
      "yn min face: 3.0999999999999974 mp min face: 3.0999999999999974 yf min face: 0.4350000000000001\n",
      "yn min bg: 3.5 mp min bg: 3.5 yf min bg: 3.5 used mask\n",
      "yn min bbox: 3.0999999999999974 mp min bbox: 3.0999999999999974 yf min bbox: 0.4050000000000001\n",
      "yn min lbbox: 0.16499999999999998 mp min lbbox: 0.26499999999999996 yf min lbbox: 0.22499999999999998\n",
      "094755.jpg\n",
      "094756.jpg\n",
      "094757.jpg\n",
      "094758.jpg\n",
      "094759.jpg\n",
      "094760.jpg\n",
      "094761.jpg\n",
      "094762.jpg\n",
      "094763.jpg\n"
     ]
    },
    {
     "name": "stderr",
     "output_type": "stream",
     "text": [
      "C:\\Users\\amosc\\AppData\\Local\\Temp\\ipykernel_1464\\3427317803.py:205: FutureWarning: The frame.append method is deprecated and will be removed from pandas in a future version. Use pandas.concat instead.\n",
      "  df = df.append(row, ignore_index=True) #append the attributes of one face to the dataframe\n"
     ]
    },
    {
     "name": "stdout",
     "output_type": "stream",
     "text": [
      "Face 0\n",
      "yn min face: 0.1 mp min face: 0.10999999999999999 yf min face: 0.175\n",
      "yn min bg: 3.5 mp min bg: 3.5 yf min bg: 3.5 used mask\n",
      "yn min bbox: 0.09 mp min bbox: 0.10499999999999998 yf min bbox: 0.15\n",
      "yn min lbbox: 3.0999999999999974 mp min lbbox: 0.10499999999999998 yf min lbbox: 0.16499999999999998\n",
      "094764.jpg\n",
      "094765.jpg\n",
      "094766.jpg\n",
      "094767.jpg\n",
      "094768.jpg\n",
      "094769.jpg\n"
     ]
    },
    {
     "name": "stderr",
     "output_type": "stream",
     "text": [
      "C:\\Users\\amosc\\AppData\\Local\\Temp\\ipykernel_1464\\3427317803.py:205: FutureWarning: The frame.append method is deprecated and will be removed from pandas in a future version. Use pandas.concat instead.\n",
      "  df = df.append(row, ignore_index=True) #append the attributes of one face to the dataframe\n"
     ]
    },
    {
     "name": "stdout",
     "output_type": "stream",
     "text": [
      "Face 0\n",
      "yn min face: 0.15 mp min face: 0.17999999999999997 yf min face: 0.12\n",
      "yn min bg: 3.5 mp min bg: 3.5 yf min bg: 3.5 used mask\n",
      "yn min bbox: 0.15 mp min bbox: 0.18499999999999997 yf min bbox: 0.11499999999999999\n",
      "yn min lbbox: 3.0999999999999974 mp min lbbox: 0.16999999999999998 yf min lbbox: 0.16499999999999998\n",
      "094770.jpg\n",
      "094771.jpg\n",
      "094772.jpg\n",
      "094773.jpg\n",
      "094774.jpg\n",
      "094775.jpg\n",
      "094776.jpg\n",
      "094777.jpg\n",
      "094778.jpg\n",
      "094779.jpg\n",
      "094780.jpg\n",
      "094781.jpg\n",
      "094782.jpg\n",
      "094783.jpg\n"
     ]
    },
    {
     "name": "stderr",
     "output_type": "stream",
     "text": [
      "C:\\Users\\amosc\\AppData\\Local\\Temp\\ipykernel_1464\\3427317803.py:205: FutureWarning: The frame.append method is deprecated and will be removed from pandas in a future version. Use pandas.concat instead.\n",
      "  df = df.append(row, ignore_index=True) #append the attributes of one face to the dataframe\n"
     ]
    },
    {
     "name": "stdout",
     "output_type": "stream",
     "text": [
      "Face 0\n",
      "yn min face: 0.16999999999999998 mp min face: 0.23999999999999996 yf min face: 0.19999999999999998\n",
      "yn min bg: 3.5 mp min bg: 3.5 yf min bg: 3.5 used mask\n",
      "yn min bbox: 0.16999999999999998 mp min bbox: 0.23999999999999996 yf min bbox: 0.19499999999999998\n",
      "yn min lbbox: 0.15 mp min lbbox: 0.17999999999999997 yf min lbbox: 0.17999999999999997\n",
      "094784.jpg\n",
      "094785.jpg\n",
      "094786.jpg\n",
      "094787.jpg\n",
      "094788.jpg\n",
      "094789.jpg\n",
      "094790.jpg\n"
     ]
    },
    {
     "name": "stderr",
     "output_type": "stream",
     "text": [
      "C:\\Users\\amosc\\AppData\\Local\\Temp\\ipykernel_1464\\3427317803.py:205: FutureWarning: The frame.append method is deprecated and will be removed from pandas in a future version. Use pandas.concat instead.\n",
      "  df = df.append(row, ignore_index=True) #append the attributes of one face to the dataframe\n"
     ]
    },
    {
     "name": "stdout",
     "output_type": "stream",
     "text": [
      "Face 0\n",
      "yn min face: 0.20999999999999996 mp min face: 0.21999999999999997 yf min face: 0.25999999999999995\n",
      "yn min bg: 3.5 mp min bg: 3.5 yf min bg: 3.5 used mask\n",
      "yn min bbox: 0.21999999999999997 mp min bbox: 0.21999999999999997 yf min bbox: 0.25999999999999995\n",
      "yn min lbbox: 0.16499999999999998 mp min lbbox: 0.21499999999999997 yf min lbbox: 0.19999999999999998\n",
      "094791.jpg\n",
      "094792.jpg\n",
      "094793.jpg\n",
      "094794.jpg\n"
     ]
    },
    {
     "name": "stderr",
     "output_type": "stream",
     "text": [
      "C:\\Users\\amosc\\AppData\\Local\\Temp\\ipykernel_1464\\3427317803.py:205: FutureWarning: The frame.append method is deprecated and will be removed from pandas in a future version. Use pandas.concat instead.\n",
      "  df = df.append(row, ignore_index=True) #append the attributes of one face to the dataframe\n"
     ]
    },
    {
     "name": "stdout",
     "output_type": "stream",
     "text": [
      "Face 0\n",
      "yn min face: 0.21999999999999997 mp min face: 0.20499999999999996 yf min face: 3.0999999999999974\n",
      "yn min bg: 3.5 mp min bg: 3.5 yf min bg: 3.5 used mask\n",
      "yn min bbox: 0.20499999999999996 mp min bbox: 0.19999999999999998 yf min bbox: 0.6500000000000002\n",
      "yn min lbbox: 3.0999999999999974 mp min lbbox: 0.19499999999999998 yf min lbbox: 0.18499999999999997\n",
      "094795.jpg\n"
     ]
    },
    {
     "name": "stderr",
     "output_type": "stream",
     "text": [
      "C:\\Users\\amosc\\AppData\\Local\\Temp\\ipykernel_1464\\3427317803.py:205: FutureWarning: The frame.append method is deprecated and will be removed from pandas in a future version. Use pandas.concat instead.\n",
      "  df = df.append(row, ignore_index=True) #append the attributes of one face to the dataframe\n"
     ]
    },
    {
     "name": "stdout",
     "output_type": "stream",
     "text": [
      "Face 0\n",
      "yn min face: 3.0999999999999974 mp min face: 3.0999999999999974 yf min face: 3.0999999999999974\n",
      "yn min bg: 3.5 mp min bg: 3.5 yf min bg: 3.5 used mask\n",
      "yn min bbox: 3.0999999999999974 mp min bbox: 0.23999999999999996 yf min bbox: 0.21999999999999997\n",
      "yn min lbbox: 3.0999999999999974 mp min lbbox: 0.21999999999999997 yf min lbbox: 0.15999999999999998\n",
      "094796.jpg\n"
     ]
    },
    {
     "name": "stderr",
     "output_type": "stream",
     "text": [
      "C:\\Users\\amosc\\AppData\\Local\\Temp\\ipykernel_1464\\3427317803.py:205: FutureWarning: The frame.append method is deprecated and will be removed from pandas in a future version. Use pandas.concat instead.\n",
      "  df = df.append(row, ignore_index=True) #append the attributes of one face to the dataframe\n"
     ]
    },
    {
     "name": "stdout",
     "output_type": "stream",
     "text": [
      "Face 0\n",
      "yn min face: 3.0999999999999974 mp min face: 3.0999999999999974 yf min face: 0.22499999999999998\n",
      "yn min bg: 3.5 mp min bg: 3.5 yf min bg: 3.5 used mask\n",
      "yn min bbox: 3.0999999999999974 mp min bbox: 3.0999999999999974 yf min bbox: 0.21999999999999997\n",
      "yn min lbbox: 0.175 mp min lbbox: 0.22499999999999998 yf min lbbox: 0.18499999999999997\n",
      "094797.jpg\n",
      "094798.jpg\n",
      "094799.jpg\n",
      "094800.jpg\n"
     ]
    },
    {
     "name": "stderr",
     "output_type": "stream",
     "text": [
      "C:\\Users\\amosc\\AppData\\Local\\Temp\\ipykernel_1464\\3427317803.py:205: FutureWarning: The frame.append method is deprecated and will be removed from pandas in a future version. Use pandas.concat instead.\n",
      "  df = df.append(row, ignore_index=True) #append the attributes of one face to the dataframe\n"
     ]
    },
    {
     "name": "stdout",
     "output_type": "stream",
     "text": [
      "Face 0\n",
      "yn min face: 0.20499999999999996 mp min face: 0.37500000000000006 yf min face: 0.25999999999999995\n",
      "yn min bg: 3.5 mp min bg: 3.5 yf min bg: 3.5 used mask\n",
      "yn min bbox: 0.21999999999999997 mp min bbox: 0.37000000000000005 yf min bbox: 0.23999999999999996\n",
      "yn min lbbox: 0.4350000000000001 mp min lbbox: 0.26999999999999996 yf min lbbox: 0.20999999999999996\n",
      "094801.jpg\n",
      "094802.jpg\n",
      "094803.jpg\n",
      "094804.jpg\n",
      "094805.jpg\n",
      "094806.jpg\n",
      "094807.jpg\n",
      "094808.jpg\n",
      "094809.jpg\n",
      "094810.jpg\n",
      "094811.jpg\n"
     ]
    },
    {
     "name": "stderr",
     "output_type": "stream",
     "text": [
      "C:\\Users\\amosc\\AppData\\Local\\Temp\\ipykernel_1464\\3427317803.py:205: FutureWarning: The frame.append method is deprecated and will be removed from pandas in a future version. Use pandas.concat instead.\n",
      "  df = df.append(row, ignore_index=True) #append the attributes of one face to the dataframe\n"
     ]
    },
    {
     "name": "stdout",
     "output_type": "stream",
     "text": [
      "Face 0\n",
      "yn min face: 0.12 mp min face: 0.15499999999999997 yf min face: 0.145\n",
      "yn min bg: 3.5 mp min bg: 3.5 yf min bg: 3.5 used mask\n",
      "yn min bbox: 0.12 mp min bbox: 0.15 yf min bbox: 0.15\n",
      "yn min lbbox: 0.11499999999999999 mp min lbbox: 0.13499999999999998 yf min lbbox: 0.15\n",
      "094812.jpg\n",
      "094813.jpg\n",
      "094814.jpg\n",
      "094815.jpg\n",
      "094816.jpg\n",
      "094817.jpg\n"
     ]
    },
    {
     "name": "stderr",
     "output_type": "stream",
     "text": [
      "C:\\Users\\amosc\\AppData\\Local\\Temp\\ipykernel_1464\\3427317803.py:205: FutureWarning: The frame.append method is deprecated and will be removed from pandas in a future version. Use pandas.concat instead.\n",
      "  df = df.append(row, ignore_index=True) #append the attributes of one face to the dataframe\n"
     ]
    },
    {
     "name": "stdout",
     "output_type": "stream",
     "text": [
      "Face 0\n",
      "yn min face: 0.16999999999999998 mp min face: 0.17999999999999997 yf min face: 0.21999999999999997\n",
      "yn min bg: 3.5 mp min bg: 3.5 yf min bg: 3.5 used mask\n",
      "yn min bbox: 0.17999999999999997 mp min bbox: 0.18499999999999997 yf min bbox: 0.21999999999999997\n",
      "yn min lbbox: 3.0999999999999974 mp min lbbox: 0.19999999999999998 yf min lbbox: 0.18499999999999997\n",
      "094818.jpg\n",
      "094819.jpg\n",
      "094820.jpg\n",
      "094821.jpg\n",
      "094822.jpg\n",
      "094823.jpg\n",
      "094824.jpg\n",
      "094825.jpg\n",
      "094826.jpg\n",
      "094827.jpg\n",
      "094828.jpg\n",
      "094829.jpg\n"
     ]
    },
    {
     "name": "stderr",
     "output_type": "stream",
     "text": [
      "C:\\Users\\amosc\\AppData\\Local\\Temp\\ipykernel_1464\\3427317803.py:205: FutureWarning: The frame.append method is deprecated and will be removed from pandas in a future version. Use pandas.concat instead.\n",
      "  df = df.append(row, ignore_index=True) #append the attributes of one face to the dataframe\n"
     ]
    },
    {
     "name": "stdout",
     "output_type": "stream",
     "text": [
      "Face 0\n",
      "yn min face: 3.0999999999999974 mp min face: 0.26499999999999996 yf min face: 0.21999999999999997\n",
      "yn min bg: 3.5 mp min bg: 3.5 yf min bg: 3.5 used mask\n",
      "yn min bbox: 3.0999999999999974 mp min bbox: 0.26499999999999996 yf min bbox: 0.21999999999999997\n",
      "yn min lbbox: 3.0999999999999974 mp min lbbox: 0.22499999999999998 yf min lbbox: 0.19499999999999998\n",
      "094830.jpg\n",
      "094831.jpg\n",
      "094832.jpg\n"
     ]
    },
    {
     "name": "stderr",
     "output_type": "stream",
     "text": [
      "C:\\Users\\amosc\\AppData\\Local\\Temp\\ipykernel_1464\\3427317803.py:205: FutureWarning: The frame.append method is deprecated and will be removed from pandas in a future version. Use pandas.concat instead.\n",
      "  df = df.append(row, ignore_index=True) #append the attributes of one face to the dataframe\n"
     ]
    },
    {
     "name": "stdout",
     "output_type": "stream",
     "text": [
      "Face 0\n",
      "yn min face: 0.175 mp min face: 0.23499999999999996 yf min face: 0.21999999999999997\n",
      "yn min bg: 3.5 mp min bg: 3.5 yf min bg: 3.5 used mask\n",
      "yn min bbox: 0.16499999999999998 mp min bbox: 0.22499999999999998 yf min bbox: 0.19999999999999998\n",
      "yn min lbbox: 0.15 mp min lbbox: 0.20999999999999996 yf min lbbox: 0.17999999999999997\n",
      "094833.jpg\n",
      "094834.jpg\n",
      "094835.jpg\n"
     ]
    },
    {
     "name": "stderr",
     "output_type": "stream",
     "text": [
      "C:\\Users\\amosc\\AppData\\Local\\Temp\\ipykernel_1464\\3427317803.py:205: FutureWarning: The frame.append method is deprecated and will be removed from pandas in a future version. Use pandas.concat instead.\n",
      "  df = df.append(row, ignore_index=True) #append the attributes of one face to the dataframe\n"
     ]
    },
    {
     "name": "stdout",
     "output_type": "stream",
     "text": [
      "Face 0\n",
      "yn min face: 0.15 mp min face: 0.25499999999999995 yf min face: 0.18999999999999997\n",
      "yn min bg: 3.5 mp min bg: 3.5 yf min bg: 3.5 used mask\n",
      "yn min bbox: 0.145 mp min bbox: 0.21999999999999997 yf min bbox: 0.19999999999999998\n",
      "yn min lbbox: 0.12999999999999998 mp min lbbox: 0.13499999999999998 yf min lbbox: 0.18499999999999997\n",
      "094836.jpg\n",
      "094837.jpg\n",
      "094838.jpg\n",
      "094839.jpg\n",
      "094840.jpg\n",
      "094841.jpg\n"
     ]
    },
    {
     "name": "stderr",
     "output_type": "stream",
     "text": [
      "C:\\Users\\amosc\\AppData\\Local\\Temp\\ipykernel_1464\\3427317803.py:205: FutureWarning: The frame.append method is deprecated and will be removed from pandas in a future version. Use pandas.concat instead.\n",
      "  df = df.append(row, ignore_index=True) #append the attributes of one face to the dataframe\n"
     ]
    },
    {
     "name": "stdout",
     "output_type": "stream",
     "text": [
      "Face 0\n",
      "yn min face: 0.125 mp min face: 0.24499999999999997 yf min face: 0.19499999999999998\n",
      "yn min bg: 3.5 mp min bg: 3.5 yf min bg: 3.5 used mask\n",
      "yn min bbox: 0.125 mp min bbox: 0.24999999999999997 yf min bbox: 0.19499999999999998\n",
      "yn min lbbox: 0.305 mp min lbbox: 0.21999999999999997 yf min lbbox: 0.15999999999999998\n",
      "094842.jpg\n",
      "094843.jpg\n",
      "094844.jpg\n"
     ]
    },
    {
     "name": "stderr",
     "output_type": "stream",
     "text": [
      "C:\\Users\\amosc\\AppData\\Local\\Temp\\ipykernel_1464\\3427317803.py:205: FutureWarning: The frame.append method is deprecated and will be removed from pandas in a future version. Use pandas.concat instead.\n",
      "  df = df.append(row, ignore_index=True) #append the attributes of one face to the dataframe\n"
     ]
    },
    {
     "name": "stdout",
     "output_type": "stream",
     "text": [
      "Face 0\n",
      "yn min face: 0.10999999999999999 mp min face: 0.16499999999999998 yf min face: 0.15\n",
      "yn min bg: 3.5 mp min bg: 3.5 yf min bg: 3.5 used mask\n",
      "yn min bbox: 0.10999999999999999 mp min bbox: 0.16499999999999998 yf min bbox: 0.15\n",
      "yn min lbbox: 0.11499999999999999 mp min lbbox: 0.175 yf min lbbox: 0.16499999999999998\n",
      "094845.jpg\n",
      "094846.jpg\n"
     ]
    },
    {
     "name": "stderr",
     "output_type": "stream",
     "text": [
      "C:\\Users\\amosc\\AppData\\Local\\Temp\\ipykernel_1464\\3427317803.py:205: FutureWarning: The frame.append method is deprecated and will be removed from pandas in a future version. Use pandas.concat instead.\n",
      "  df = df.append(row, ignore_index=True) #append the attributes of one face to the dataframe\n"
     ]
    },
    {
     "name": "stdout",
     "output_type": "stream",
     "text": [
      "Face 0\n",
      "yn min face: 0.125 mp min face: 0.20499999999999996 yf min face: 0.12\n",
      "yn min bg: 3.5 mp min bg: 3.5 yf min bg: 3.5 used mask\n",
      "yn min bbox: 0.125 mp min bbox: 0.20499999999999996 yf min bbox: 0.12\n",
      "yn min lbbox: 0.10999999999999999 mp min lbbox: 0.18499999999999997 yf min lbbox: 0.145\n",
      "094847.jpg\n"
     ]
    },
    {
     "name": "stderr",
     "output_type": "stream",
     "text": [
      "C:\\Users\\amosc\\AppData\\Local\\Temp\\ipykernel_1464\\3427317803.py:205: FutureWarning: The frame.append method is deprecated and will be removed from pandas in a future version. Use pandas.concat instead.\n",
      "  df = df.append(row, ignore_index=True) #append the attributes of one face to the dataframe\n"
     ]
    },
    {
     "name": "stdout",
     "output_type": "stream",
     "text": [
      "Face 0\n",
      "yn min face: 0.21499999999999997 mp min face: 0.18999999999999997 yf min face: 0.295\n",
      "yn min bg: 3.5 mp min bg: 3.5 yf min bg: 3.5 used mask\n",
      "yn min bbox: 0.21499999999999997 mp min bbox: 0.18999999999999997 yf min bbox: 0.26999999999999996\n",
      "yn min lbbox: 0.20999999999999996 mp min lbbox: 0.19499999999999998 yf min lbbox: 0.18499999999999997\n",
      "094848.jpg\n",
      "094849.jpg\n",
      "094850.jpg\n",
      "094851.jpg\n",
      "094852.jpg\n"
     ]
    },
    {
     "name": "stderr",
     "output_type": "stream",
     "text": [
      "C:\\Users\\amosc\\AppData\\Local\\Temp\\ipykernel_1464\\3427317803.py:205: FutureWarning: The frame.append method is deprecated and will be removed from pandas in a future version. Use pandas.concat instead.\n",
      "  df = df.append(row, ignore_index=True) #append the attributes of one face to the dataframe\n"
     ]
    },
    {
     "name": "stdout",
     "output_type": "stream",
     "text": [
      "Face 0\n",
      "yn min face: 0.16499999999999998 mp min face: 0.38500000000000006 yf min face: 0.19999999999999998\n",
      "yn min bg: 3.5 mp min bg: 3.5 yf min bg: 3.5 used mask\n",
      "yn min bbox: 0.15499999999999997 mp min bbox: 0.4000000000000001 yf min bbox: 0.19999999999999998\n",
      "yn min lbbox: 0.13499999999999998 mp min lbbox: 0.38500000000000006 yf min lbbox: 0.18499999999999997\n",
      "094853.jpg\n",
      "094854.jpg\n",
      "094855.jpg\n",
      "094856.jpg\n",
      "094857.jpg\n",
      "094858.jpg\n",
      "094859.jpg\n"
     ]
    },
    {
     "name": "stderr",
     "output_type": "stream",
     "text": [
      "C:\\Users\\amosc\\AppData\\Local\\Temp\\ipykernel_1464\\3427317803.py:205: FutureWarning: The frame.append method is deprecated and will be removed from pandas in a future version. Use pandas.concat instead.\n",
      "  df = df.append(row, ignore_index=True) #append the attributes of one face to the dataframe\n"
     ]
    },
    {
     "name": "stdout",
     "output_type": "stream",
     "text": [
      "Face 0\n",
      "yn min face: 0.16499999999999998 mp min face: 0.26999999999999996 yf min face: 0.13499999999999998\n",
      "yn min bg: 3.5 mp min bg: 3.5 yf min bg: 3.5 used mask\n",
      "yn min bbox: 0.15 mp min bbox: 0.27499999999999997 yf min bbox: 0.12999999999999998\n",
      "yn min lbbox: 0.13499999999999998 mp min lbbox: 0.16499999999999998 yf min lbbox: 0.15\n",
      "094860.jpg\n",
      "094861.jpg\n",
      "094862.jpg\n",
      "094863.jpg\n",
      "094864.jpg\n",
      "094865.jpg\n",
      "094866.jpg\n",
      "094867.jpg\n",
      "094868.jpg\n",
      "094869.jpg\n",
      "094870.jpg\n",
      "094871.jpg\n"
     ]
    },
    {
     "name": "stderr",
     "output_type": "stream",
     "text": [
      "C:\\Users\\amosc\\AppData\\Local\\Temp\\ipykernel_1464\\3427317803.py:205: FutureWarning: The frame.append method is deprecated and will be removed from pandas in a future version. Use pandas.concat instead.\n",
      "  df = df.append(row, ignore_index=True) #append the attributes of one face to the dataframe\n"
     ]
    },
    {
     "name": "stdout",
     "output_type": "stream",
     "text": [
      "Face 0\n",
      "yn min face: 0.15 mp min face: 0.18499999999999997 yf min face: 0.19999999999999998\n",
      "yn min bg: 3.5 mp min bg: 3.5 yf min bg: 3.5 used mask\n",
      "yn min bbox: 0.15 mp min bbox: 0.18499999999999997 yf min bbox: 0.19499999999999998\n",
      "yn min lbbox: 3.0999999999999974 mp min lbbox: 0.18499999999999997 yf min lbbox: 0.15\n",
      "094872.jpg\n"
     ]
    },
    {
     "name": "stderr",
     "output_type": "stream",
     "text": [
      "C:\\Users\\amosc\\AppData\\Local\\Temp\\ipykernel_1464\\3427317803.py:205: FutureWarning: The frame.append method is deprecated and will be removed from pandas in a future version. Use pandas.concat instead.\n",
      "  df = df.append(row, ignore_index=True) #append the attributes of one face to the dataframe\n"
     ]
    },
    {
     "name": "stdout",
     "output_type": "stream",
     "text": [
      "Face 0\n",
      "yn min face: 0.15499999999999997 mp min face: 0.18499999999999997 yf min face: 0.12999999999999998\n",
      "yn min bg: 3.5 mp min bg: 3.5 yf min bg: 3.5 used mask\n",
      "yn min bbox: 0.15 mp min bbox: 0.17999999999999997 yf min bbox: 0.13999999999999999\n",
      "yn min lbbox: 0.125 mp min lbbox: 0.16999999999999998 yf min lbbox: 0.16999999999999998\n",
      "094873.jpg\n"
     ]
    },
    {
     "name": "stderr",
     "output_type": "stream",
     "text": [
      "C:\\Users\\amosc\\AppData\\Local\\Temp\\ipykernel_1464\\3427317803.py:205: FutureWarning: The frame.append method is deprecated and will be removed from pandas in a future version. Use pandas.concat instead.\n",
      "  df = df.append(row, ignore_index=True) #append the attributes of one face to the dataframe\n"
     ]
    },
    {
     "name": "stdout",
     "output_type": "stream",
     "text": [
      "Face 0\n",
      "yn min face: 0.12999999999999998 mp min face: 0.24999999999999997 yf min face: 0.23999999999999996\n",
      "yn min bg: 3.5 mp min bg: 3.5 yf min bg: 3.5 used mask\n",
      "yn min bbox: 0.12999999999999998 mp min bbox: 0.23999999999999996 yf min bbox: 0.20999999999999996\n",
      "yn min lbbox: 0.12999999999999998 mp min lbbox: 0.21999999999999997 yf min lbbox: 0.17999999999999997\n",
      "094874.jpg\n",
      "094875.jpg\n",
      "094876.jpg\n",
      "094877.jpg\n",
      "094878.jpg\n",
      "094879.jpg\n",
      "094880.jpg\n",
      "094881.jpg\n"
     ]
    },
    {
     "name": "stderr",
     "output_type": "stream",
     "text": [
      "C:\\Users\\amosc\\AppData\\Local\\Temp\\ipykernel_1464\\3427317803.py:205: FutureWarning: The frame.append method is deprecated and will be removed from pandas in a future version. Use pandas.concat instead.\n",
      "  df = df.append(row, ignore_index=True) #append the attributes of one face to the dataframe\n"
     ]
    },
    {
     "name": "stdout",
     "output_type": "stream",
     "text": [
      "Face 0\n",
      "yn min face: 3.0999999999999974 mp min face: 0.19499999999999998 yf min face: 0.4100000000000001\n",
      "yn min bg: 3.5 mp min bg: 3.5 yf min bg: 3.5 used mask\n",
      "yn min bbox: 3.0999999999999974 mp min bbox: 0.19999999999999998 yf min bbox: 0.36000000000000004\n",
      "yn min lbbox: 3.0999999999999974 mp min lbbox: 0.175 yf min lbbox: 0.25999999999999995\n",
      "094882.jpg\n",
      "094883.jpg\n",
      "094884.jpg\n",
      "094885.jpg\n",
      "094886.jpg\n"
     ]
    },
    {
     "name": "stderr",
     "output_type": "stream",
     "text": [
      "C:\\Users\\amosc\\AppData\\Local\\Temp\\ipykernel_1464\\3427317803.py:205: FutureWarning: The frame.append method is deprecated and will be removed from pandas in a future version. Use pandas.concat instead.\n",
      "  df = df.append(row, ignore_index=True) #append the attributes of one face to the dataframe\n"
     ]
    },
    {
     "name": "stdout",
     "output_type": "stream",
     "text": [
      "Face 0\n",
      "yn min face: 3.0999999999999974 mp min face: 0.145 yf min face: 0.12999999999999998\n",
      "yn min bg: 3.5 mp min bg: 3.5 yf min bg: 3.5 used mask\n",
      "yn min bbox: 0.7300000000000003 mp min bbox: 0.145 yf min bbox: 0.12\n",
      "yn min lbbox: 3.0999999999999974 mp min lbbox: 0.15 yf min lbbox: 0.1\n",
      "094887.jpg\n",
      "094888.jpg\n",
      "094889.jpg\n"
     ]
    },
    {
     "name": "stderr",
     "output_type": "stream",
     "text": [
      "C:\\Users\\amosc\\AppData\\Local\\Temp\\ipykernel_1464\\3427317803.py:205: FutureWarning: The frame.append method is deprecated and will be removed from pandas in a future version. Use pandas.concat instead.\n",
      "  df = df.append(row, ignore_index=True) #append the attributes of one face to the dataframe\n"
     ]
    },
    {
     "name": "stdout",
     "output_type": "stream",
     "text": [
      "Face 0\n",
      "yn min face: 0.15 mp min face: 0.5050000000000001 yf min face: 0.15\n",
      "yn min bg: 3.5 mp min bg: 3.5 yf min bg: 3.5 used mask\n",
      "yn min bbox: 0.15 mp min bbox: 0.5050000000000001 yf min bbox: 0.15\n",
      "yn min lbbox: 0.15 mp min lbbox: 0.295 yf min lbbox: 0.16499999999999998\n",
      "094890.jpg\n",
      "094891.jpg\n"
     ]
    },
    {
     "name": "stderr",
     "output_type": "stream",
     "text": [
      "C:\\Users\\amosc\\AppData\\Local\\Temp\\ipykernel_1464\\3427317803.py:205: FutureWarning: The frame.append method is deprecated and will be removed from pandas in a future version. Use pandas.concat instead.\n",
      "  df = df.append(row, ignore_index=True) #append the attributes of one face to the dataframe\n"
     ]
    },
    {
     "name": "stdout",
     "output_type": "stream",
     "text": [
      "Face 0\n",
      "yn min face: 0.20999999999999996 mp min face: 0.18999999999999997 yf min face: 0.22499999999999998\n",
      "yn min bg: 3.5 mp min bg: 3.5 yf min bg: 3.5 used mask\n",
      "yn min bbox: 0.20999999999999996 mp min bbox: 0.18999999999999997 yf min bbox: 0.22499999999999998\n",
      "yn min lbbox: 0.36000000000000004 mp min lbbox: 0.19499999999999998 yf min lbbox: 0.18999999999999997\n",
      "094892.jpg\n",
      "094893.jpg\n",
      "094894.jpg\n",
      "094895.jpg\n",
      "094896.jpg\n",
      "094897.jpg\n",
      "094898.jpg\n",
      "094899.jpg\n",
      "094900.jpg\n",
      "094901.jpg\n",
      "094902.jpg\n",
      "094903.jpg\n",
      "094904.jpg\n",
      "094905.jpg\n",
      "094906.jpg\n",
      "094907.jpg\n"
     ]
    },
    {
     "name": "stderr",
     "output_type": "stream",
     "text": [
      "C:\\Users\\amosc\\AppData\\Local\\Temp\\ipykernel_1464\\3427317803.py:205: FutureWarning: The frame.append method is deprecated and will be removed from pandas in a future version. Use pandas.concat instead.\n",
      "  df = df.append(row, ignore_index=True) #append the attributes of one face to the dataframe\n"
     ]
    },
    {
     "name": "stdout",
     "output_type": "stream",
     "text": [
      "Face 0\n",
      "yn min face: 0.4850000000000001 mp min face: 0.27999999999999997 yf min face: 0.22499999999999998\n",
      "yn min bg: 3.5 mp min bg: 3.5 yf min bg: 3.5 used mask\n",
      "yn min bbox: 0.4850000000000001 mp min bbox: 0.27999999999999997 yf min bbox: 0.22499999999999998\n",
      "yn min lbbox: 0.23499999999999996 mp min lbbox: 0.22999999999999995 yf min lbbox: 0.19499999999999998\n",
      "094908.jpg\n",
      "094909.jpg\n",
      "094910.jpg\n",
      "094911.jpg\n",
      "094912.jpg\n",
      "094913.jpg\n",
      "094914.jpg\n",
      "094915.jpg\n",
      "094916.jpg\n",
      "094917.jpg\n",
      "094918.jpg\n",
      "094919.jpg\n",
      "094920.jpg\n",
      "094921.jpg\n",
      "094922.jpg\n"
     ]
    },
    {
     "name": "stderr",
     "output_type": "stream",
     "text": [
      "C:\\Users\\amosc\\AppData\\Local\\Temp\\ipykernel_1464\\3427317803.py:205: FutureWarning: The frame.append method is deprecated and will be removed from pandas in a future version. Use pandas.concat instead.\n",
      "  df = df.append(row, ignore_index=True) #append the attributes of one face to the dataframe\n"
     ]
    },
    {
     "name": "stdout",
     "output_type": "stream",
     "text": [
      "Face 0\n",
      "yn min face: 0.18499999999999997 mp min face: 3.0999999999999974 yf min face: 0.175\n",
      "yn min bg: 3.5 mp min bg: 3.5 yf min bg: 3.5 used mask\n",
      "yn min bbox: 0.18499999999999997 mp min bbox: 3.0999999999999974 yf min bbox: 0.16499999999999998\n",
      "yn min lbbox: 0.15 mp min lbbox: 0.19499999999999998 yf min lbbox: 0.15\n",
      "094923.jpg\n",
      "094924.jpg\n",
      "094925.jpg\n"
     ]
    },
    {
     "name": "stderr",
     "output_type": "stream",
     "text": [
      "C:\\Users\\amosc\\AppData\\Local\\Temp\\ipykernel_1464\\3427317803.py:205: FutureWarning: The frame.append method is deprecated and will be removed from pandas in a future version. Use pandas.concat instead.\n",
      "  df = df.append(row, ignore_index=True) #append the attributes of one face to the dataframe\n"
     ]
    },
    {
     "name": "stdout",
     "output_type": "stream",
     "text": [
      "Face 0\n",
      "yn min face: 0.13499999999999998 mp min face: 0.15 yf min face: 0.27499999999999997\n",
      "yn min bg: 3.5 mp min bg: 3.5 yf min bg: 3.5 used mask\n",
      "yn min bbox: 0.13499999999999998 mp min bbox: 0.15499999999999997 yf min bbox: 0.23999999999999996\n",
      "yn min lbbox: 3.0999999999999974 mp min lbbox: 0.15999999999999998 yf min lbbox: 0.21999999999999997\n",
      "094926.jpg\n",
      "094927.jpg\n",
      "094928.jpg\n",
      "094929.jpg\n",
      "094930.jpg\n",
      "094931.jpg\n",
      "094932.jpg\n",
      "094933.jpg\n"
     ]
    },
    {
     "name": "stderr",
     "output_type": "stream",
     "text": [
      "C:\\Users\\amosc\\AppData\\Local\\Temp\\ipykernel_1464\\3427317803.py:205: FutureWarning: The frame.append method is deprecated and will be removed from pandas in a future version. Use pandas.concat instead.\n",
      "  df = df.append(row, ignore_index=True) #append the attributes of one face to the dataframe\n"
     ]
    },
    {
     "name": "stdout",
     "output_type": "stream",
     "text": [
      "Face 0\n",
      "yn min face: 0.20999999999999996 mp min face: 0.25999999999999995 yf min face: 0.20499999999999996\n",
      "yn min bg: 3.5 mp min bg: 3.5 yf min bg: 3.5 used mask\n",
      "yn min bbox: 0.20999999999999996 mp min bbox: 0.25499999999999995 yf min bbox: 0.19999999999999998\n",
      "yn min lbbox: 0.18999999999999997 mp min lbbox: 0.19999999999999998 yf min lbbox: 0.19499999999999998\n",
      "094934.jpg\n",
      "094935.jpg\n",
      "094936.jpg\n",
      "094937.jpg\n",
      "094938.jpg\n",
      "094939.jpg\n",
      "094940.jpg\n",
      "094941.jpg\n"
     ]
    },
    {
     "name": "stderr",
     "output_type": "stream",
     "text": [
      "C:\\Users\\amosc\\AppData\\Local\\Temp\\ipykernel_1464\\3427317803.py:205: FutureWarning: The frame.append method is deprecated and will be removed from pandas in a future version. Use pandas.concat instead.\n",
      "  df = df.append(row, ignore_index=True) #append the attributes of one face to the dataframe\n"
     ]
    },
    {
     "name": "stdout",
     "output_type": "stream",
     "text": [
      "Face 0\n",
      "yn min face: 0.095 mp min face: 0.145 yf min face: 0.16999999999999998\n",
      "yn min bg: 3.5 mp min bg: 3.5 yf min bg: 3.5 used mask\n",
      "yn min bbox: 0.095 mp min bbox: 0.145 yf min bbox: 0.16999999999999998\n",
      "yn min lbbox: 0.12 mp min lbbox: 0.16499999999999998 yf min lbbox: 0.15\n",
      "094942.jpg\n",
      "094943.jpg\n"
     ]
    },
    {
     "name": "stderr",
     "output_type": "stream",
     "text": [
      "C:\\Users\\amosc\\AppData\\Local\\Temp\\ipykernel_1464\\3427317803.py:205: FutureWarning: The frame.append method is deprecated and will be removed from pandas in a future version. Use pandas.concat instead.\n",
      "  df = df.append(row, ignore_index=True) #append the attributes of one face to the dataframe\n"
     ]
    },
    {
     "name": "stdout",
     "output_type": "stream",
     "text": [
      "Face 0\n",
      "yn min face: 0.15 mp min face: 0.15999999999999998 yf min face: 0.23999999999999996\n",
      "yn min bg: 3.5 mp min bg: 3.5 yf min bg: 3.5 used mask\n",
      "yn min bbox: 0.145 mp min bbox: 0.16499999999999998 yf min bbox: 0.21999999999999997\n",
      "yn min lbbox: 3.0999999999999974 mp min lbbox: 0.16999999999999998 yf min lbbox: 0.17999999999999997\n",
      "094944.jpg\n",
      "094945.jpg\n",
      "094946.jpg\n",
      "094947.jpg\n"
     ]
    },
    {
     "name": "stderr",
     "output_type": "stream",
     "text": [
      "C:\\Users\\amosc\\AppData\\Local\\Temp\\ipykernel_1464\\3427317803.py:205: FutureWarning: The frame.append method is deprecated and will be removed from pandas in a future version. Use pandas.concat instead.\n",
      "  df = df.append(row, ignore_index=True) #append the attributes of one face to the dataframe\n"
     ]
    },
    {
     "name": "stdout",
     "output_type": "stream",
     "text": [
      "Face 0\n",
      "yn min face: 0.15499999999999997 mp min face: 0.18499999999999997 yf min face: 0.18499999999999997\n",
      "yn min bg: 3.5 mp min bg: 3.5 yf min bg: 3.5 used mask\n",
      "yn min bbox: 0.15499999999999997 mp min bbox: 0.18499999999999997 yf min bbox: 0.18499999999999997\n",
      "yn min lbbox: 0.15 mp min lbbox: 0.16499999999999998 yf min lbbox: 0.18499999999999997\n",
      "094948.jpg\n",
      "094949.jpg\n",
      "094950.jpg\n",
      "094951.jpg\n",
      "094952.jpg\n",
      "094953.jpg\n",
      "094954.jpg\n"
     ]
    },
    {
     "name": "stderr",
     "output_type": "stream",
     "text": [
      "C:\\Users\\amosc\\AppData\\Local\\Temp\\ipykernel_1464\\3427317803.py:205: FutureWarning: The frame.append method is deprecated and will be removed from pandas in a future version. Use pandas.concat instead.\n",
      "  df = df.append(row, ignore_index=True) #append the attributes of one face to the dataframe\n"
     ]
    },
    {
     "name": "stdout",
     "output_type": "stream",
     "text": [
      "Face 0\n",
      "yn min face: 0.16499999999999998 mp min face: 0.16999999999999998 yf min face: 0.16999999999999998\n",
      "yn min bg: 3.5 mp min bg: 3.5 yf min bg: 3.5 used mask\n",
      "yn min bbox: 0.15 mp min bbox: 0.16999999999999998 yf min bbox: 0.15\n",
      "yn min lbbox: 3.0999999999999974 mp min lbbox: 0.18499999999999997 yf min lbbox: 0.18499999999999997\n",
      "094955.jpg\n",
      "094956.jpg\n",
      "094957.jpg\n",
      "094958.jpg\n",
      "094959.jpg\n",
      "094960.jpg\n"
     ]
    },
    {
     "name": "stderr",
     "output_type": "stream",
     "text": [
      "C:\\Users\\amosc\\AppData\\Local\\Temp\\ipykernel_1464\\3427317803.py:205: FutureWarning: The frame.append method is deprecated and will be removed from pandas in a future version. Use pandas.concat instead.\n",
      "  df = df.append(row, ignore_index=True) #append the attributes of one face to the dataframe\n"
     ]
    },
    {
     "name": "stdout",
     "output_type": "stream",
     "text": [
      "Face 0\n",
      "yn min face: 0.10999999999999999 mp min face: 0.16499999999999998 yf min face: 0.18499999999999997\n",
      "yn min bg: 3.5 mp min bg: 3.5 yf min bg: 3.5 used mask\n",
      "yn min bbox: 0.10999999999999999 mp min bbox: 0.16499999999999998 yf min bbox: 0.18499999999999997\n",
      "yn min lbbox: 0.10499999999999998 mp min lbbox: 0.12999999999999998 yf min lbbox: 0.20499999999999996\n",
      "094961.jpg\n"
     ]
    },
    {
     "name": "stderr",
     "output_type": "stream",
     "text": [
      "C:\\Users\\amosc\\AppData\\Local\\Temp\\ipykernel_1464\\3427317803.py:205: FutureWarning: The frame.append method is deprecated and will be removed from pandas in a future version. Use pandas.concat instead.\n",
      "  df = df.append(row, ignore_index=True) #append the attributes of one face to the dataframe\n"
     ]
    },
    {
     "name": "stdout",
     "output_type": "stream",
     "text": [
      "Face 0\n",
      "yn min face: 0.175 mp min face: 0.16499999999999998 yf min face: 0.21499999999999997\n",
      "yn min bg: 3.5 mp min bg: 3.5 yf min bg: 3.5 used mask\n",
      "yn min bbox: 0.175 mp min bbox: 0.16999999999999998 yf min bbox: 0.20499999999999996\n",
      "yn min lbbox: 0.18499999999999997 mp min lbbox: 0.16999999999999998 yf min lbbox: 0.18499999999999997\n",
      "094962.jpg\n",
      "094963.jpg\n",
      "094964.jpg\n",
      "094965.jpg\n",
      "094966.jpg\n"
     ]
    },
    {
     "name": "stderr",
     "output_type": "stream",
     "text": [
      "C:\\Users\\amosc\\AppData\\Local\\Temp\\ipykernel_1464\\3427317803.py:205: FutureWarning: The frame.append method is deprecated and will be removed from pandas in a future version. Use pandas.concat instead.\n",
      "  df = df.append(row, ignore_index=True) #append the attributes of one face to the dataframe\n"
     ]
    },
    {
     "name": "stdout",
     "output_type": "stream",
     "text": [
      "Face 0\n",
      "yn min face: 0.21999999999999997 mp min face: 0.16499999999999998 yf min face: 0.285\n",
      "yn min bg: 3.5 mp min bg: 3.5 yf min bg: 3.5 used mask\n",
      "yn min bbox: 0.20499999999999996 mp min bbox: 0.15999999999999998 yf min bbox: 0.21999999999999997\n",
      "yn min lbbox: 3.0999999999999974 mp min lbbox: 0.18499999999999997 yf min lbbox: 0.13499999999999998\n",
      "094967.jpg\n",
      "094968.jpg\n",
      "094969.jpg\n",
      "094970.jpg\n",
      "094971.jpg\n",
      "094972.jpg\n",
      "094973.jpg\n"
     ]
    },
    {
     "name": "stderr",
     "output_type": "stream",
     "text": [
      "C:\\Users\\amosc\\AppData\\Local\\Temp\\ipykernel_1464\\3427317803.py:205: FutureWarning: The frame.append method is deprecated and will be removed from pandas in a future version. Use pandas.concat instead.\n",
      "  df = df.append(row, ignore_index=True) #append the attributes of one face to the dataframe\n"
     ]
    },
    {
     "name": "stdout",
     "output_type": "stream",
     "text": [
      "Face 0\n",
      "yn min face: 0.15499999999999997 mp min face: 0.25499999999999995 yf min face: 0.15\n",
      "yn min bg: 3.5 mp min bg: 3.5 yf min bg: 3.5 used mask\n",
      "yn min bbox: 0.16499999999999998 mp min bbox: 0.25499999999999995 yf min bbox: 0.13499999999999998\n",
      "yn min lbbox: 0.10999999999999999 mp min lbbox: 0.23499999999999996 yf min lbbox: 0.125\n",
      "094974.jpg\n",
      "094975.jpg\n",
      "094976.jpg\n",
      "094977.jpg\n",
      "094978.jpg\n",
      "094979.jpg\n"
     ]
    },
    {
     "name": "stderr",
     "output_type": "stream",
     "text": [
      "C:\\Users\\amosc\\AppData\\Local\\Temp\\ipykernel_1464\\3427317803.py:205: FutureWarning: The frame.append method is deprecated and will be removed from pandas in a future version. Use pandas.concat instead.\n",
      "  df = df.append(row, ignore_index=True) #append the attributes of one face to the dataframe\n"
     ]
    },
    {
     "name": "stdout",
     "output_type": "stream",
     "text": [
      "Face 0\n",
      "yn min face: 0.5500000000000002 mp min face: 0.32 yf min face: 0.24499999999999997\n",
      "yn min bg: 3.5 mp min bg: 3.5 yf min bg: 3.5 used mask\n",
      "yn min bbox: 0.6000000000000002 mp min bbox: 0.315 yf min bbox: 0.22499999999999998\n",
      "yn min lbbox: 0.15999999999999998 mp min lbbox: 0.25999999999999995 yf min lbbox: 0.18499999999999997\n",
      "094980.jpg\n",
      "094981.jpg\n"
     ]
    },
    {
     "name": "stderr",
     "output_type": "stream",
     "text": [
      "C:\\Users\\amosc\\AppData\\Local\\Temp\\ipykernel_1464\\3427317803.py:205: FutureWarning: The frame.append method is deprecated and will be removed from pandas in a future version. Use pandas.concat instead.\n",
      "  df = df.append(row, ignore_index=True) #append the attributes of one face to the dataframe\n"
     ]
    },
    {
     "name": "stdout",
     "output_type": "stream",
     "text": [
      "Face 1\n",
      "yn min face: 0.36500000000000005 mp min face: 3.0999999999999974 yf min face: 0.18499999999999997\n",
      "yn min bg: 3.5 mp min bg: 3.5 yf min bg: 3.5 used mask\n",
      "yn min bbox: 0.36500000000000005 mp min bbox: 3.0999999999999974 yf min bbox: 0.18499999999999997\n",
      "yn min lbbox: 0.060000000000000005 mp min lbbox: 0.175 yf min lbbox: 0.175\n",
      "094982.jpg\n",
      "094983.jpg\n",
      "094984.jpg\n",
      "094985.jpg\n",
      "094986.jpg\n",
      "094987.jpg\n",
      "094988.jpg\n",
      "094989.jpg\n",
      "094990.jpg\n",
      "094991.jpg\n",
      "094992.jpg\n",
      "094993.jpg\n",
      "094994.jpg\n",
      "094995.jpg\n",
      "094996.jpg\n",
      "094997.jpg\n",
      "094998.jpg\n",
      "094999.jpg\n",
      "095000.jpg\n"
     ]
    },
    {
     "name": "stderr",
     "output_type": "stream",
     "text": [
      "C:\\Users\\amosc\\AppData\\Local\\Temp\\ipykernel_1464\\3427317803.py:205: FutureWarning: The frame.append method is deprecated and will be removed from pandas in a future version. Use pandas.concat instead.\n",
      "  df = df.append(row, ignore_index=True) #append the attributes of one face to the dataframe\n"
     ]
    },
    {
     "name": "stdout",
     "output_type": "stream",
     "text": [
      "Working on img_celeba_93 folder\n",
      "093001.jpg\n",
      "093002.jpg\n",
      "093003.jpg\n",
      "093004.jpg\n",
      "093005.jpg\n",
      "093006.jpg\n",
      "093007.jpg\n",
      "093008.jpg\n",
      "Face 0\n",
      "yn min face: 3.0999999999999974 mp min face: 0.5050000000000001 yf min face: 0.24999999999999997\n",
      "yn min bg: 3.5 mp min bg: 3.5 yf min bg: 3.5 used mask\n",
      "yn min bbox: 3.0999999999999974 mp min bbox: 0.5050000000000001 yf min bbox: 0.24499999999999997\n",
      "yn min lbbox: 3.0999999999999974 mp min lbbox: 0.35000000000000003 yf min lbbox: 0.22499999999999998\n",
      "093009.jpg\n",
      "093010.jpg\n",
      "093011.jpg\n",
      "093012.jpg\n",
      "093013.jpg\n",
      "093014.jpg\n",
      "093015.jpg\n",
      "093016.jpg\n",
      "093017.jpg\n",
      "093018.jpg\n",
      "093019.jpg\n",
      "093020.jpg\n",
      "093021.jpg\n",
      "093022.jpg\n",
      "093023.jpg\n",
      "093024.jpg\n",
      "093025.jpg\n",
      "093026.jpg\n",
      "093027.jpg\n",
      "093028.jpg\n",
      "093029.jpg\n"
     ]
    },
    {
     "name": "stderr",
     "output_type": "stream",
     "text": [
      "C:\\Users\\amosc\\AppData\\Local\\Temp\\ipykernel_1464\\3427317803.py:205: FutureWarning: The frame.append method is deprecated and will be removed from pandas in a future version. Use pandas.concat instead.\n",
      "  df = df.append(row, ignore_index=True) #append the attributes of one face to the dataframe\n"
     ]
    },
    {
     "name": "stdout",
     "output_type": "stream",
     "text": [
      "Face 0\n",
      "yn min face: 0.18499999999999997 mp min face: 0.21499999999999997 yf min face: 0.3\n",
      "yn min bg: 3.5 mp min bg: 3.5 yf min bg: 3.5 used mask\n",
      "yn min bbox: 0.175 mp min bbox: 0.20999999999999996 yf min bbox: 0.23499999999999996\n",
      "yn min lbbox: 3.0999999999999974 mp min lbbox: 0.20999999999999996 yf min lbbox: 0.24999999999999997\n",
      "093030.jpg\n",
      "093031.jpg\n",
      "093032.jpg\n",
      "093033.jpg\n"
     ]
    },
    {
     "name": "stderr",
     "output_type": "stream",
     "text": [
      "C:\\Users\\amosc\\AppData\\Local\\Temp\\ipykernel_1464\\3427317803.py:205: FutureWarning: The frame.append method is deprecated and will be removed from pandas in a future version. Use pandas.concat instead.\n",
      "  df = df.append(row, ignore_index=True) #append the attributes of one face to the dataframe\n"
     ]
    },
    {
     "name": "stdout",
     "output_type": "stream",
     "text": [
      "Face 0\n",
      "yn min face: 0.25999999999999995 mp min face: 0.35000000000000003 yf min face: 0.27999999999999997\n",
      "yn min bg: 3.5 mp min bg: 3.5 yf min bg: 3.5 used mask\n",
      "yn min bbox: 0.25999999999999995 mp min bbox: 0.34500000000000003 yf min bbox: 0.26999999999999996\n",
      "yn min lbbox: 0.16499999999999998 mp min lbbox: 0.23999999999999996 yf min lbbox: 0.15\n",
      "093034.jpg\n",
      "093035.jpg\n",
      "093036.jpg\n",
      "093037.jpg\n",
      "093038.jpg\n"
     ]
    },
    {
     "name": "stderr",
     "output_type": "stream",
     "text": [
      "C:\\Users\\amosc\\AppData\\Local\\Temp\\ipykernel_1464\\3427317803.py:205: FutureWarning: The frame.append method is deprecated and will be removed from pandas in a future version. Use pandas.concat instead.\n",
      "  df = df.append(row, ignore_index=True) #append the attributes of one face to the dataframe\n"
     ]
    },
    {
     "name": "stdout",
     "output_type": "stream",
     "text": [
      "Face 0\n",
      "yn min face: 0.15 mp min face: 3.0999999999999974 yf min face: 0.20499999999999996\n",
      "yn min bg: 3.5 mp min bg: 3.5 yf min bg: 3.5 used mask\n",
      "yn min bbox: 0.145 mp min bbox: 3.0999999999999974 yf min bbox: 0.18499999999999997\n",
      "yn min lbbox: 0.12999999999999998 mp min lbbox: 0.15 yf min lbbox: 0.12\n",
      "093039.jpg\n",
      "093040.jpg\n",
      "093041.jpg\n",
      "093042.jpg\n",
      "093043.jpg\n",
      "093044.jpg\n",
      "093045.jpg\n"
     ]
    },
    {
     "name": "stderr",
     "output_type": "stream",
     "text": [
      "C:\\Users\\amosc\\AppData\\Local\\Temp\\ipykernel_1464\\3427317803.py:205: FutureWarning: The frame.append method is deprecated and will be removed from pandas in a future version. Use pandas.concat instead.\n",
      "  df = df.append(row, ignore_index=True) #append the attributes of one face to the dataframe\n"
     ]
    },
    {
     "name": "stdout",
     "output_type": "stream",
     "text": [
      "Face 0\n",
      "yn min face: 0.15 mp min face: 0.5750000000000002 yf min face: 0.18499999999999997\n",
      "yn min bg: 3.5 mp min bg: 3.5 yf min bg: 3.5 used mask\n",
      "yn min bbox: 0.145 mp min bbox: 0.5500000000000002 yf min bbox: 0.175\n",
      "yn min lbbox: 0.125 mp min lbbox: 0.22999999999999995 yf min lbbox: 0.15999999999999998\n",
      "093046.jpg\n",
      "093047.jpg\n",
      "093048.jpg\n",
      "093049.jpg\n",
      "093050.jpg\n",
      "093051.jpg\n",
      "093052.jpg\n",
      "093053.jpg\n",
      "093054.jpg\n",
      "093055.jpg\n",
      "093056.jpg\n",
      "093057.jpg\n",
      "093058.jpg\n",
      "093059.jpg\n",
      "093060.jpg\n",
      "093061.jpg\n",
      "093062.jpg\n",
      "093063.jpg\n",
      "093064.jpg\n",
      "093065.jpg\n",
      "093066.jpg\n",
      "093067.jpg\n",
      "093068.jpg\n",
      "093069.jpg\n",
      "093070.jpg\n",
      "093071.jpg\n",
      "093072.jpg\n",
      "093073.jpg\n",
      "093074.jpg\n",
      "093075.jpg\n"
     ]
    },
    {
     "name": "stderr",
     "output_type": "stream",
     "text": [
      "C:\\Users\\amosc\\AppData\\Local\\Temp\\ipykernel_1464\\3427317803.py:205: FutureWarning: The frame.append method is deprecated and will be removed from pandas in a future version. Use pandas.concat instead.\n",
      "  df = df.append(row, ignore_index=True) #append the attributes of one face to the dataframe\n"
     ]
    },
    {
     "name": "stdout",
     "output_type": "stream",
     "text": [
      "Face 0\n",
      "yn min face: 0.11499999999999999 mp min face: 0.16499999999999998 yf min face: 0.1\n",
      "yn min bg: 3.5 mp min bg: 3.5 yf min bg: 3.5 used mask\n",
      "yn min bbox: 0.095 mp min bbox: 0.15499999999999997 yf min bbox: 0.095\n",
      "yn min lbbox: 0.08499999999999999 mp min lbbox: 0.12999999999999998 yf min lbbox: 0.07500000000000001\n",
      "093076.jpg\n",
      "093077.jpg\n",
      "093078.jpg\n",
      "093079.jpg\n",
      "093080.jpg\n",
      "093081.jpg\n",
      "093082.jpg\n",
      "093083.jpg\n"
     ]
    },
    {
     "name": "stderr",
     "output_type": "stream",
     "text": [
      "C:\\Users\\amosc\\AppData\\Local\\Temp\\ipykernel_1464\\3427317803.py:205: FutureWarning: The frame.append method is deprecated and will be removed from pandas in a future version. Use pandas.concat instead.\n",
      "  df = df.append(row, ignore_index=True) #append the attributes of one face to the dataframe\n"
     ]
    },
    {
     "name": "stdout",
     "output_type": "stream",
     "text": [
      "Face 0\n",
      "yn min face: 0.13499999999999998 mp min face: 0.335 yf min face: 0.27499999999999997\n",
      "yn min bg: 3.5 mp min bg: 3.5 yf min bg: 3.5 used mask\n",
      "yn min bbox: 0.32 mp min bbox: 0.23499999999999996 yf min bbox: 0.22999999999999995\n",
      "yn min lbbox: 3.0999999999999974 mp min lbbox: 0.21999999999999997 yf min lbbox: 0.22999999999999995\n",
      "093084.jpg\n",
      "093085.jpg\n",
      "093086.jpg\n",
      "093087.jpg\n",
      "093088.jpg\n",
      "093089.jpg\n",
      "093090.jpg\n",
      "093091.jpg\n",
      "093092.jpg\n",
      "093093.jpg\n",
      "093094.jpg\n",
      "093095.jpg\n",
      "093096.jpg\n",
      "093097.jpg\n",
      "093098.jpg\n",
      "093099.jpg\n",
      "093100.jpg\n"
     ]
    },
    {
     "name": "stderr",
     "output_type": "stream",
     "text": [
      "C:\\Users\\amosc\\AppData\\Local\\Temp\\ipykernel_1464\\3427317803.py:205: FutureWarning: The frame.append method is deprecated and will be removed from pandas in a future version. Use pandas.concat instead.\n",
      "  df = df.append(row, ignore_index=True) #append the attributes of one face to the dataframe\n"
     ]
    },
    {
     "name": "stdout",
     "output_type": "stream",
     "text": [
      "Face 0\n",
      "yn min face: 3.0999999999999974 mp min face: 0.35000000000000003 yf min face: 0.33\n",
      "yn min bg: 3.5 mp min bg: 3.5 yf min bg: 3.5 used mask\n",
      "yn min bbox: 3.0999999999999974 mp min bbox: 0.34 yf min bbox: 0.305\n",
      "yn min lbbox: 0.20499999999999996 mp min lbbox: 0.18499999999999997 yf min lbbox: 0.21999999999999997\n",
      "093101.jpg\n"
     ]
    },
    {
     "name": "stderr",
     "output_type": "stream",
     "text": [
      "C:\\Users\\amosc\\AppData\\Local\\Temp\\ipykernel_1464\\3427317803.py:205: FutureWarning: The frame.append method is deprecated and will be removed from pandas in a future version. Use pandas.concat instead.\n",
      "  df = df.append(row, ignore_index=True) #append the attributes of one face to the dataframe\n"
     ]
    },
    {
     "name": "stdout",
     "output_type": "stream",
     "text": [
      "Face 0\n",
      "yn min face: 0.16999999999999998 mp min face: 0.27499999999999997 yf min face: 0.15999999999999998\n",
      "yn min bg: 3.5 mp min bg: 3.5 yf min bg: 3.5 used mask\n",
      "yn min bbox: 0.15 mp min bbox: 0.285 yf min bbox: 0.15499999999999997\n",
      "yn min lbbox: 0.13499999999999998 mp min lbbox: 0.18499999999999997 yf min lbbox: 0.13999999999999999\n",
      "093102.jpg\n",
      "093103.jpg\n"
     ]
    },
    {
     "name": "stderr",
     "output_type": "stream",
     "text": [
      "C:\\Users\\amosc\\AppData\\Local\\Temp\\ipykernel_1464\\3427317803.py:205: FutureWarning: The frame.append method is deprecated and will be removed from pandas in a future version. Use pandas.concat instead.\n",
      "  df = df.append(row, ignore_index=True) #append the attributes of one face to the dataframe\n"
     ]
    },
    {
     "name": "stdout",
     "output_type": "stream",
     "text": [
      "Face 0\n",
      "yn min face: 0.4000000000000001 mp min face: 0.4200000000000001 yf min face: 0.145\n",
      "yn min bg: 3.5 mp min bg: 3.5 yf min bg: 3.5 used mask\n",
      "yn min bbox: 0.4000000000000001 mp min bbox: 0.4150000000000001 yf min bbox: 0.145\n",
      "yn min lbbox: 3.0999999999999974 mp min lbbox: 0.25999999999999995 yf min lbbox: 0.16499999999999998\n",
      "093104.jpg\n",
      "093105.jpg\n",
      "093106.jpg\n",
      "093107.jpg\n",
      "093108.jpg\n",
      "093109.jpg\n"
     ]
    },
    {
     "name": "stderr",
     "output_type": "stream",
     "text": [
      "C:\\Users\\amosc\\AppData\\Local\\Temp\\ipykernel_1464\\3427317803.py:205: FutureWarning: The frame.append method is deprecated and will be removed from pandas in a future version. Use pandas.concat instead.\n",
      "  df = df.append(row, ignore_index=True) #append the attributes of one face to the dataframe\n"
     ]
    },
    {
     "name": "stdout",
     "output_type": "stream",
     "text": [
      "Face 0\n",
      "yn min face: 0.125 mp min face: 0.5200000000000001 yf min face: 0.10999999999999999\n",
      "yn min bg: 3.5 mp min bg: 3.5 yf min bg: 3.5 used mask\n",
      "yn min bbox: 0.125 mp min bbox: 0.47500000000000014 yf min bbox: 0.10999999999999999\n",
      "yn min lbbox: 0.12 mp min lbbox: 0.19999999999999998 yf min lbbox: 0.125\n",
      "093110.jpg\n",
      "093111.jpg\n",
      "093112.jpg\n",
      "093113.jpg\n"
     ]
    },
    {
     "name": "stderr",
     "output_type": "stream",
     "text": [
      "C:\\Users\\amosc\\AppData\\Local\\Temp\\ipykernel_1464\\3427317803.py:205: FutureWarning: The frame.append method is deprecated and will be removed from pandas in a future version. Use pandas.concat instead.\n",
      "  df = df.append(row, ignore_index=True) #append the attributes of one face to the dataframe\n"
     ]
    },
    {
     "name": "stdout",
     "output_type": "stream",
     "text": [
      "Face 0\n",
      "yn min face: 0.15499999999999997 mp min face: 0.19499999999999998 yf min face: 0.25499999999999995\n",
      "yn min bg: 3.5 mp min bg: 3.5 yf min bg: 3.5 used mask\n",
      "yn min bbox: 0.15499999999999997 mp min bbox: 0.19999999999999998 yf min bbox: 0.23999999999999996\n",
      "yn min lbbox: 0.295 mp min lbbox: 0.19499999999999998 yf min lbbox: 0.18499999999999997\n"
     ]
    },
    {
     "name": "stderr",
     "output_type": "stream",
     "text": [
      "C:\\Users\\amosc\\AppData\\Local\\Temp\\ipykernel_1464\\3427317803.py:205: FutureWarning: The frame.append method is deprecated and will be removed from pandas in a future version. Use pandas.concat instead.\n",
      "  df = df.append(row, ignore_index=True) #append the attributes of one face to the dataframe\n"
     ]
    },
    {
     "name": "stdout",
     "output_type": "stream",
     "text": [
      "093114.jpg\n",
      "093115.jpg\n",
      "Face 0\n",
      "yn min face: 0.21499999999999997 mp min face: 0.19999999999999998 yf min face: 0.26499999999999996\n",
      "yn min bg: 3.5 mp min bg: 3.5 yf min bg: 3.5 used mask\n",
      "yn min bbox: 0.21499999999999997 mp min bbox: 0.19999999999999998 yf min bbox: 0.26499999999999996\n",
      "yn min lbbox: 0.21999999999999997 mp min lbbox: 0.17999999999999997 yf min lbbox: 0.22999999999999995\n",
      "093116.jpg\n",
      "093117.jpg\n",
      "093118.jpg\n",
      "093119.jpg\n",
      "093120.jpg\n",
      "093121.jpg\n",
      "093122.jpg\n",
      "093123.jpg\n",
      "093124.jpg\n",
      "093125.jpg\n",
      "093126.jpg\n",
      "093127.jpg\n",
      "093128.jpg\n",
      "093129.jpg\n",
      "093130.jpg\n",
      "093131.jpg\n",
      "093132.jpg\n",
      "093133.jpg\n",
      "093134.jpg\n",
      "093135.jpg\n",
      "093136.jpg\n",
      "093137.jpg\n",
      "093138.jpg\n",
      "093139.jpg\n",
      "093140.jpg\n",
      "093141.jpg\n",
      "093142.jpg\n",
      "093143.jpg\n",
      "093144.jpg\n",
      "093145.jpg\n",
      "093146.jpg\n",
      "093147.jpg\n",
      "093148.jpg\n",
      "093149.jpg\n",
      "093150.jpg\n",
      "093151.jpg\n"
     ]
    },
    {
     "name": "stderr",
     "output_type": "stream",
     "text": [
      "C:\\Users\\amosc\\AppData\\Local\\Temp\\ipykernel_1464\\3427317803.py:205: FutureWarning: The frame.append method is deprecated and will be removed from pandas in a future version. Use pandas.concat instead.\n",
      "  df = df.append(row, ignore_index=True) #append the attributes of one face to the dataframe\n"
     ]
    },
    {
     "name": "stdout",
     "output_type": "stream",
     "text": [
      "093152.jpg\n",
      "093153.jpg\n",
      "093154.jpg\n",
      "093155.jpg\n",
      "093156.jpg\n",
      "093157.jpg\n",
      "093158.jpg\n",
      "093159.jpg\n",
      "093160.jpg\n",
      "093161.jpg\n",
      "Face 0\n",
      "yn min face: 0.12999999999999998 mp min face: 0.4000000000000001 yf min face: 0.12999999999999998\n",
      "yn min bg: 3.5 mp min bg: 3.5 yf min bg: 3.5 used mask\n",
      "yn min bbox: 0.11499999999999999 mp min bbox: 0.10999999999999999 yf min bbox: 0.12\n",
      "yn min lbbox: 0.11499999999999999 mp min lbbox: 0.12999999999999998 yf min lbbox: 0.125\n",
      "093162.jpg\n",
      "093163.jpg\n",
      "093164.jpg\n"
     ]
    },
    {
     "name": "stderr",
     "output_type": "stream",
     "text": [
      "C:\\Users\\amosc\\AppData\\Local\\Temp\\ipykernel_1464\\3427317803.py:205: FutureWarning: The frame.append method is deprecated and will be removed from pandas in a future version. Use pandas.concat instead.\n",
      "  df = df.append(row, ignore_index=True) #append the attributes of one face to the dataframe\n"
     ]
    },
    {
     "name": "stdout",
     "output_type": "stream",
     "text": [
      "Face 0\n",
      "yn min face: 0.13999999999999999 mp min face: 0.15999999999999998 yf min face: 0.12999999999999998\n",
      "yn min bg: 3.5 mp min bg: 3.5 yf min bg: 3.5 used mask\n",
      "yn min bbox: 0.13999999999999999 mp min bbox: 0.16499999999999998 yf min bbox: 0.13499999999999998\n",
      "yn min lbbox: 0.145 mp min lbbox: 0.16499999999999998 yf min lbbox: 0.095\n",
      "093165.jpg\n",
      "093166.jpg\n",
      "093167.jpg\n",
      "093168.jpg\n",
      "093169.jpg\n",
      "093170.jpg\n",
      "093171.jpg\n"
     ]
    },
    {
     "name": "stderr",
     "output_type": "stream",
     "text": [
      "C:\\Users\\amosc\\AppData\\Local\\Temp\\ipykernel_1464\\3427317803.py:205: FutureWarning: The frame.append method is deprecated and will be removed from pandas in a future version. Use pandas.concat instead.\n",
      "  df = df.append(row, ignore_index=True) #append the attributes of one face to the dataframe\n"
     ]
    },
    {
     "name": "stdout",
     "output_type": "stream",
     "text": [
      "Face 0\n",
      "yn min face: 3.0999999999999974 mp min face: 0.24499999999999997 yf min face: 0.315\n",
      "yn min bg: 3.5 mp min bg: 3.5 yf min bg: 3.5 used mask\n",
      "yn min bbox: 3.0999999999999974 mp min bbox: 0.24499999999999997 yf min bbox: 0.29\n",
      "yn min lbbox: 3.0999999999999974 mp min lbbox: 0.25499999999999995 yf min lbbox: 0.24999999999999997\n",
      "Face 1\n"
     ]
    },
    {
     "name": "stderr",
     "output_type": "stream",
     "text": [
      "C:\\Users\\amosc\\AppData\\Local\\Temp\\ipykernel_1464\\3427317803.py:205: FutureWarning: The frame.append method is deprecated and will be removed from pandas in a future version. Use pandas.concat instead.\n",
      "  df = df.append(row, ignore_index=True) #append the attributes of one face to the dataframe\n"
     ]
    },
    {
     "name": "stdout",
     "output_type": "stream",
     "text": [
      "yn min face: 3.0999999999999974 mp min face: 3.0999999999999974 yf min face: 0.35000000000000003\n",
      "yn min bg: 3.5 mp min bg: 3.5 yf min bg: 3.5 used mask\n",
      "yn min bbox: 3.0999999999999974 mp min bbox: 3.0999999999999974 yf min bbox: 0.35000000000000003\n",
      "yn min lbbox: 0.27499999999999997 mp min lbbox: 0.19499999999999998 yf min lbbox: 0.27499999999999997\n",
      "093172.jpg\n"
     ]
    },
    {
     "name": "stderr",
     "output_type": "stream",
     "text": [
      "C:\\Users\\amosc\\AppData\\Local\\Temp\\ipykernel_1464\\3427317803.py:205: FutureWarning: The frame.append method is deprecated and will be removed from pandas in a future version. Use pandas.concat instead.\n",
      "  df = df.append(row, ignore_index=True) #append the attributes of one face to the dataframe\n"
     ]
    },
    {
     "name": "stdout",
     "output_type": "stream",
     "text": [
      "Face 0\n",
      "yn min face: 0.6650000000000003 mp min face: 0.295 yf min face: 0.285\n",
      "yn min bg: 3.5 mp min bg: 3.5 yf min bg: 3.5 used mask\n",
      "yn min bbox: 0.6150000000000002 mp min bbox: 0.285 yf min bbox: 0.25499999999999995\n",
      "yn min lbbox: 0.16499999999999998 mp min lbbox: 0.19999999999999998 yf min lbbox: 0.17999999999999997\n",
      "093173.jpg\n"
     ]
    },
    {
     "name": "stderr",
     "output_type": "stream",
     "text": [
      "C:\\Users\\amosc\\AppData\\Local\\Temp\\ipykernel_1464\\3427317803.py:205: FutureWarning: The frame.append method is deprecated and will be removed from pandas in a future version. Use pandas.concat instead.\n",
      "  df = df.append(row, ignore_index=True) #append the attributes of one face to the dataframe\n"
     ]
    },
    {
     "name": "stdout",
     "output_type": "stream",
     "text": [
      "Face 0\n",
      "yn min face: 3.0999999999999974 mp min face: 3.0999999999999974 yf min face: 0.25499999999999995\n",
      "yn min bg: 3.5 mp min bg: 3.5 yf min bg: 3.5 used mask\n",
      "yn min bbox: 0.17999999999999997 mp min bbox: 0.20999999999999996 yf min bbox: 0.22499999999999998\n",
      "yn min lbbox: 3.0999999999999974 mp min lbbox: 0.22999999999999995 yf min lbbox: 0.19999999999999998\n",
      "093174.jpg\n"
     ]
    },
    {
     "name": "stderr",
     "output_type": "stream",
     "text": [
      "C:\\Users\\amosc\\AppData\\Local\\Temp\\ipykernel_1464\\3427317803.py:205: FutureWarning: The frame.append method is deprecated and will be removed from pandas in a future version. Use pandas.concat instead.\n",
      "  df = df.append(row, ignore_index=True) #append the attributes of one face to the dataframe\n"
     ]
    },
    {
     "name": "stdout",
     "output_type": "stream",
     "text": [
      "Face 0\n",
      "yn min face: 0.07 mp min face: 0.11499999999999999 yf min face: 0.10499999999999998\n",
      "yn min bg: 3.5 mp min bg: 3.5 yf min bg: 3.5 used mask\n",
      "yn min bbox: 0.07 mp min bbox: 0.11499999999999999 yf min bbox: 0.10499999999999998\n",
      "yn min lbbox: 3.0999999999999974 mp min lbbox: 0.12999999999999998 yf min lbbox: 0.07500000000000001\n",
      "093175.jpg\n",
      "093176.jpg\n",
      "093177.jpg\n",
      "093178.jpg\n"
     ]
    },
    {
     "name": "stderr",
     "output_type": "stream",
     "text": [
      "C:\\Users\\amosc\\AppData\\Local\\Temp\\ipykernel_1464\\3427317803.py:205: FutureWarning: The frame.append method is deprecated and will be removed from pandas in a future version. Use pandas.concat instead.\n",
      "  df = df.append(row, ignore_index=True) #append the attributes of one face to the dataframe\n"
     ]
    },
    {
     "name": "stdout",
     "output_type": "stream",
     "text": [
      "Face 0\n",
      "yn min face: 0.15 mp min face: 0.15999999999999998 yf min face: 0.18999999999999997\n",
      "yn min bg: 3.5 mp min bg: 3.5 yf min bg: 3.5 used mask\n",
      "yn min bbox: 0.15 mp min bbox: 0.15499999999999997 yf min bbox: 0.18999999999999997\n",
      "yn min lbbox: 0.13499999999999998 mp min lbbox: 0.15999999999999998 yf min lbbox: 0.16499999999999998\n",
      "093179.jpg\n",
      "093180.jpg\n",
      "093181.jpg\n",
      "093182.jpg\n"
     ]
    },
    {
     "name": "stderr",
     "output_type": "stream",
     "text": [
      "C:\\Users\\amosc\\AppData\\Local\\Temp\\ipykernel_1464\\3427317803.py:205: FutureWarning: The frame.append method is deprecated and will be removed from pandas in a future version. Use pandas.concat instead.\n",
      "  df = df.append(row, ignore_index=True) #append the attributes of one face to the dataframe\n"
     ]
    },
    {
     "name": "stdout",
     "output_type": "stream",
     "text": [
      "Face 0\n",
      "yn min face: 0.20499999999999996 mp min face: 0.295 yf min face: 0.15999999999999998\n",
      "yn min bg: 3.5 mp min bg: 3.5 yf min bg: 3.5 used mask\n",
      "yn min bbox: 0.15499999999999997 mp min bbox: 0.12999999999999998 yf min bbox: 0.15\n",
      "yn min lbbox: 0.15 mp min lbbox: 0.12999999999999998 yf min lbbox: 0.13499999999999998\n",
      "093183.jpg\n",
      "093184.jpg\n",
      "093185.jpg\n"
     ]
    },
    {
     "name": "stderr",
     "output_type": "stream",
     "text": [
      "C:\\Users\\amosc\\AppData\\Local\\Temp\\ipykernel_1464\\3427317803.py:205: FutureWarning: The frame.append method is deprecated and will be removed from pandas in a future version. Use pandas.concat instead.\n",
      "  df = df.append(row, ignore_index=True) #append the attributes of one face to the dataframe\n"
     ]
    },
    {
     "name": "stdout",
     "output_type": "stream",
     "text": [
      "Face 0\n",
      "yn min face: 0.22499999999999998 mp min face: 0.26499999999999996 yf min face: 0.23999999999999996\n",
      "yn min bg: 3.5 mp min bg: 3.5 yf min bg: 3.5 used mask\n",
      "yn min bbox: 0.22499999999999998 mp min bbox: 0.25999999999999995 yf min bbox: 0.20499999999999996\n",
      "yn min lbbox: 0.15 mp min lbbox: 0.25499999999999995 yf min lbbox: 0.24499999999999997\n",
      "093186.jpg\n",
      "093187.jpg\n"
     ]
    },
    {
     "name": "stderr",
     "output_type": "stream",
     "text": [
      "C:\\Users\\amosc\\AppData\\Local\\Temp\\ipykernel_1464\\3427317803.py:205: FutureWarning: The frame.append method is deprecated and will be removed from pandas in a future version. Use pandas.concat instead.\n",
      "  df = df.append(row, ignore_index=True) #append the attributes of one face to the dataframe\n"
     ]
    },
    {
     "name": "stdout",
     "output_type": "stream",
     "text": [
      "Face 0\n",
      "yn min face: 0.12 mp min face: 0.5100000000000001 yf min face: 0.07500000000000001\n",
      "yn min bg: 3.5 mp min bg: 3.5 yf min bg: 3.5 used mask\n",
      "yn min bbox: 0.12 mp min bbox: 0.5200000000000001 yf min bbox: 0.07500000000000001\n",
      "yn min lbbox: 0.12 mp min lbbox: 0.19499999999999998 yf min lbbox: 0.065\n",
      "093188.jpg\n",
      "093189.jpg\n"
     ]
    },
    {
     "name": "stderr",
     "output_type": "stream",
     "text": [
      "C:\\Users\\amosc\\AppData\\Local\\Temp\\ipykernel_1464\\3427317803.py:205: FutureWarning: The frame.append method is deprecated and will be removed from pandas in a future version. Use pandas.concat instead.\n",
      "  df = df.append(row, ignore_index=True) #append the attributes of one face to the dataframe\n"
     ]
    },
    {
     "name": "stdout",
     "output_type": "stream",
     "text": [
      "Face 0\n",
      "yn min face: 0.10999999999999999 mp min face: 0.175 yf min face: 0.15\n",
      "yn min bg: 3.5 mp min bg: 3.5 yf min bg: 3.5 used mask\n",
      "yn min bbox: 0.10999999999999999 mp min bbox: 0.175 yf min bbox: 0.15\n",
      "yn min lbbox: 0.095 mp min lbbox: 0.19499999999999998 yf min lbbox: 0.15\n",
      "093190.jpg\n",
      "093191.jpg\n",
      "093192.jpg\n",
      "093193.jpg\n"
     ]
    },
    {
     "name": "stderr",
     "output_type": "stream",
     "text": [
      "C:\\Users\\amosc\\AppData\\Local\\Temp\\ipykernel_1464\\3427317803.py:205: FutureWarning: The frame.append method is deprecated and will be removed from pandas in a future version. Use pandas.concat instead.\n",
      "  df = df.append(row, ignore_index=True) #append the attributes of one face to the dataframe\n"
     ]
    },
    {
     "name": "stdout",
     "output_type": "stream",
     "text": [
      "Face 0\n",
      "yn min face: 0.6400000000000002 mp min face: 0.23999999999999996 yf min face: 0.26999999999999996\n",
      "yn min bg: 3.5 mp min bg: 3.5 yf min bg: 3.5 used mask\n",
      "yn min bbox: 0.6150000000000002 mp min bbox: 0.23999999999999996 yf min bbox: 0.23999999999999996\n",
      "yn min lbbox: 3.0999999999999974 mp min lbbox: 0.23999999999999996 yf min lbbox: 0.20499999999999996\n",
      "093194.jpg\n",
      "093195.jpg\n",
      "093196.jpg\n",
      "093197.jpg\n",
      "093198.jpg\n",
      "093199.jpg\n",
      "093200.jpg\n",
      "093201.jpg\n",
      "093202.jpg\n",
      "093203.jpg\n"
     ]
    },
    {
     "name": "stderr",
     "output_type": "stream",
     "text": [
      "C:\\Users\\amosc\\AppData\\Local\\Temp\\ipykernel_1464\\3427317803.py:205: FutureWarning: The frame.append method is deprecated and will be removed from pandas in a future version. Use pandas.concat instead.\n",
      "  df = df.append(row, ignore_index=True) #append the attributes of one face to the dataframe\n"
     ]
    },
    {
     "name": "stdout",
     "output_type": "stream",
     "text": [
      "Face 0\n",
      "yn min face: 0.22499999999999998 mp min face: 0.21999999999999997 yf min face: 0.25999999999999995\n",
      "yn min bg: 3.5 mp min bg: 3.5 yf min bg: 3.5 used mask\n",
      "yn min bbox: 0.22499999999999998 mp min bbox: 0.21999999999999997 yf min bbox: 0.25999999999999995\n",
      "yn min lbbox: 3.0999999999999974 mp min lbbox: 0.18999999999999997 yf min lbbox: 0.23999999999999996\n",
      "093204.jpg\n",
      "093205.jpg\n",
      "093206.jpg\n",
      "093207.jpg\n",
      "093208.jpg\n"
     ]
    },
    {
     "name": "stderr",
     "output_type": "stream",
     "text": [
      "C:\\Users\\amosc\\AppData\\Local\\Temp\\ipykernel_1464\\3427317803.py:205: FutureWarning: The frame.append method is deprecated and will be removed from pandas in a future version. Use pandas.concat instead.\n",
      "  df = df.append(row, ignore_index=True) #append the attributes of one face to the dataframe\n"
     ]
    },
    {
     "name": "stdout",
     "output_type": "stream",
     "text": [
      "Face 0\n",
      "yn min face: 0.10999999999999999 mp min face: 0.175 yf min face: 0.12\n",
      "yn min bg: 3.5 mp min bg: 3.5 yf min bg: 3.5 used mask\n",
      "yn min bbox: 0.12 mp min bbox: 0.17999999999999997 yf min bbox: 0.125\n",
      "yn min lbbox: 3.0999999999999974 mp min lbbox: 0.20499999999999996 yf min lbbox: 0.04000000000000001\n",
      "093209.jpg\n",
      "093210.jpg\n",
      "093211.jpg\n"
     ]
    },
    {
     "name": "stderr",
     "output_type": "stream",
     "text": [
      "C:\\Users\\amosc\\AppData\\Local\\Temp\\ipykernel_1464\\3427317803.py:205: FutureWarning: The frame.append method is deprecated and will be removed from pandas in a future version. Use pandas.concat instead.\n",
      "  df = df.append(row, ignore_index=True) #append the attributes of one face to the dataframe\n"
     ]
    },
    {
     "name": "stdout",
     "output_type": "stream",
     "text": [
      "Face 0\n",
      "yn min face: 0.15999999999999998 mp min face: 0.18999999999999997 yf min face: 0.23499999999999996\n",
      "yn min bg: 3.5 mp min bg: 3.5 yf min bg: 3.5 used mask\n",
      "yn min bbox: 0.15 mp min bbox: 0.18499999999999997 yf min bbox: 0.19499999999999998\n",
      "yn min lbbox: 3.0999999999999974 mp min lbbox: 0.18499999999999997 yf min lbbox: 0.19499999999999998\n",
      "093212.jpg\n",
      "093213.jpg\n",
      "093214.jpg\n",
      "093215.jpg\n",
      "093216.jpg\n"
     ]
    },
    {
     "name": "stderr",
     "output_type": "stream",
     "text": [
      "C:\\Users\\amosc\\AppData\\Local\\Temp\\ipykernel_1464\\3427317803.py:205: FutureWarning: The frame.append method is deprecated and will be removed from pandas in a future version. Use pandas.concat instead.\n",
      "  df = df.append(row, ignore_index=True) #append the attributes of one face to the dataframe\n"
     ]
    },
    {
     "name": "stdout",
     "output_type": "stream",
     "text": [
      "Face 0\n",
      "yn min face: 0.13999999999999999 mp min face: 0.16499999999999998 yf min face: 0.19999999999999998\n",
      "yn min bg: 3.5 mp min bg: 3.5 yf min bg: 3.5 used mask\n",
      "yn min bbox: 0.13999999999999999 mp min bbox: 0.16499999999999998 yf min bbox: 0.19999999999999998\n",
      "yn min lbbox: 3.0999999999999974 mp min lbbox: 0.16499999999999998 yf min lbbox: 0.25499999999999995\n",
      "093217.jpg\n",
      "093218.jpg\n",
      "093219.jpg\n",
      "093220.jpg\n"
     ]
    },
    {
     "name": "stderr",
     "output_type": "stream",
     "text": [
      "C:\\Users\\amosc\\AppData\\Local\\Temp\\ipykernel_1464\\3427317803.py:205: FutureWarning: The frame.append method is deprecated and will be removed from pandas in a future version. Use pandas.concat instead.\n",
      "  df = df.append(row, ignore_index=True) #append the attributes of one face to the dataframe\n"
     ]
    },
    {
     "name": "stdout",
     "output_type": "stream",
     "text": [
      "Face 0\n",
      "yn min face: 0.12999999999999998 mp min face: 0.16999999999999998 yf min face: 0.1\n",
      "yn min bg: 3.5 mp min bg: 3.5 yf min bg: 3.5 used mask\n",
      "yn min bbox: 0.12999999999999998 mp min bbox: 0.16999999999999998 yf min bbox: 0.1\n",
      "yn min lbbox: 0.12999999999999998 mp min lbbox: 0.16499999999999998 yf min lbbox: 0.10499999999999998\n",
      "093221.jpg\n",
      "093222.jpg\n",
      "093223.jpg\n",
      "093224.jpg\n",
      "093225.jpg\n",
      "093226.jpg\n",
      "093227.jpg\n",
      "093228.jpg\n"
     ]
    },
    {
     "name": "stderr",
     "output_type": "stream",
     "text": [
      "C:\\Users\\amosc\\AppData\\Local\\Temp\\ipykernel_1464\\3427317803.py:205: FutureWarning: The frame.append method is deprecated and will be removed from pandas in a future version. Use pandas.concat instead.\n",
      "  df = df.append(row, ignore_index=True) #append the attributes of one face to the dataframe\n"
     ]
    },
    {
     "name": "stdout",
     "output_type": "stream",
     "text": [
      "Face 0\n",
      "yn min face: 0.15 mp min face: 0.23999999999999996 yf min face: 0.16999999999999998\n",
      "yn min bg: 3.5 mp min bg: 3.5 yf min bg: 3.5 used mask\n",
      "yn min bbox: 0.15 mp min bbox: 0.23999999999999996 yf min bbox: 0.16999999999999998\n",
      "yn min lbbox: 0.13499999999999998 mp min lbbox: 0.18999999999999997 yf min lbbox: 0.15499999999999997\n"
     ]
    },
    {
     "name": "stderr",
     "output_type": "stream",
     "text": [
      "C:\\Users\\amosc\\AppData\\Local\\Temp\\ipykernel_1464\\3427317803.py:205: FutureWarning: The frame.append method is deprecated and will be removed from pandas in a future version. Use pandas.concat instead.\n",
      "  df = df.append(row, ignore_index=True) #append the attributes of one face to the dataframe\n"
     ]
    },
    {
     "name": "stdout",
     "output_type": "stream",
     "text": [
      "093229.jpg\n",
      "093230.jpg\n",
      "093231.jpg\n",
      "093232.jpg\n",
      "093233.jpg\n",
      "093234.jpg\n",
      "093235.jpg\n",
      "093236.jpg\n",
      "093237.jpg\n",
      "093238.jpg\n",
      "093239.jpg\n",
      "093240.jpg\n",
      "093241.jpg\n",
      "093242.jpg\n",
      "093243.jpg\n",
      "Face 0\n",
      "yn min face: 0.10999999999999999 mp min face: 0.27499999999999997 yf min face: 0.10499999999999998\n",
      "yn min bg: 3.5 mp min bg: 3.5 yf min bg: 3.5 used mask\n",
      "yn min bbox: 0.10999999999999999 mp min bbox: 0.27499999999999997 yf min bbox: 0.10499999999999998\n",
      "yn min lbbox: 0.10999999999999999 mp min lbbox: 0.19999999999999998 yf min lbbox: 0.12999999999999998\n",
      "093244.jpg\n",
      "093245.jpg\n",
      "093246.jpg\n",
      "093247.jpg\n",
      "093248.jpg\n"
     ]
    },
    {
     "name": "stderr",
     "output_type": "stream",
     "text": [
      "C:\\Users\\amosc\\AppData\\Local\\Temp\\ipykernel_1464\\3427317803.py:205: FutureWarning: The frame.append method is deprecated and will be removed from pandas in a future version. Use pandas.concat instead.\n",
      "  df = df.append(row, ignore_index=True) #append the attributes of one face to the dataframe\n"
     ]
    },
    {
     "name": "stdout",
     "output_type": "stream",
     "text": [
      "Face 0\n",
      "yn min face: 0.36500000000000005 mp min face: 0.6350000000000002 yf min face: 0.19499999999999998\n",
      "yn min bg: 3.5 mp min bg: 3.5 yf min bg: 3.5 used mask\n",
      "yn min bbox: 0.35500000000000004 mp min bbox: 0.6300000000000002 yf min bbox: 0.18999999999999997\n",
      "yn min lbbox: 0.175 mp min lbbox: 0.23999999999999996 yf min lbbox: 0.18499999999999997\n",
      "093249.jpg\n",
      "093250.jpg\n",
      "093251.jpg\n",
      "093252.jpg\n",
      "093253.jpg\n",
      "093254.jpg\n",
      "093255.jpg\n",
      "093256.jpg\n",
      "093257.jpg\n",
      "093258.jpg\n"
     ]
    },
    {
     "name": "stderr",
     "output_type": "stream",
     "text": [
      "C:\\Users\\amosc\\AppData\\Local\\Temp\\ipykernel_1464\\3427317803.py:205: FutureWarning: The frame.append method is deprecated and will be removed from pandas in a future version. Use pandas.concat instead.\n",
      "  df = df.append(row, ignore_index=True) #append the attributes of one face to the dataframe\n"
     ]
    },
    {
     "name": "stdout",
     "output_type": "stream",
     "text": [
      "Face 0\n",
      "yn min face: 0.25999999999999995 mp min face: 0.6450000000000002 yf min face: 0.22499999999999998\n",
      "yn min bg: 3.5 mp min bg: 3.5 yf min bg: 3.5 used mask\n",
      "yn min bbox: 0.22999999999999995 mp min bbox: 0.6700000000000003 yf min bbox: 0.22499999999999998\n",
      "yn min lbbox: 0.16499999999999998 mp min lbbox: 0.26499999999999996 yf min lbbox: 0.18499999999999997\n",
      "093259.jpg\n",
      "093260.jpg\n",
      "093261.jpg\n",
      "093262.jpg\n",
      "093263.jpg\n",
      "093264.jpg\n",
      "093265.jpg\n",
      "093266.jpg\n",
      "093267.jpg\n",
      "093268.jpg\n"
     ]
    },
    {
     "name": "stderr",
     "output_type": "stream",
     "text": [
      "C:\\Users\\amosc\\AppData\\Local\\Temp\\ipykernel_1464\\3427317803.py:205: FutureWarning: The frame.append method is deprecated and will be removed from pandas in a future version. Use pandas.concat instead.\n",
      "  df = df.append(row, ignore_index=True) #append the attributes of one face to the dataframe\n"
     ]
    },
    {
     "name": "stdout",
     "output_type": "stream",
     "text": [
      "Face 0\n",
      "yn min face: 3.0999999999999974 mp min face: 0.21999999999999997 yf min face: 0.20999999999999996\n",
      "yn min bg: 3.5 mp min bg: 3.5 yf min bg: 3.5 used mask\n",
      "yn min bbox: 3.0999999999999974 mp min bbox: 0.21499999999999997 yf min bbox: 0.20999999999999996\n",
      "yn min lbbox: 0.18499999999999997 mp min lbbox: 0.20999999999999996 yf min lbbox: 0.15999999999999998\n",
      "093269.jpg\n",
      "093270.jpg\n",
      "093271.jpg\n",
      "093272.jpg\n",
      "093273.jpg\n"
     ]
    },
    {
     "name": "stderr",
     "output_type": "stream",
     "text": [
      "C:\\Users\\amosc\\AppData\\Local\\Temp\\ipykernel_1464\\3427317803.py:205: FutureWarning: The frame.append method is deprecated and will be removed from pandas in a future version. Use pandas.concat instead.\n",
      "  df = df.append(row, ignore_index=True) #append the attributes of one face to the dataframe\n"
     ]
    },
    {
     "name": "stdout",
     "output_type": "stream",
     "text": [
      "Face 0\n",
      "yn min face: 0.12 mp min face: 0.18499999999999997 yf min face: 0.35500000000000004\n",
      "yn min bg: 3.5 mp min bg: 3.5 yf min bg: 3.5 used mask\n",
      "yn min bbox: 0.11499999999999999 mp min bbox: 0.17999999999999997 yf min bbox: 0.20999999999999996\n",
      "yn min lbbox: 3.0999999999999974 mp min lbbox: 0.175 yf min lbbox: 0.21999999999999997\n",
      "093274.jpg\n",
      "093275.jpg\n",
      "093276.jpg\n",
      "093277.jpg\n",
      "093278.jpg\n",
      "093279.jpg\n",
      "093280.jpg\n",
      "093281.jpg\n",
      "093282.jpg\n",
      "093283.jpg\n",
      "093284.jpg\n",
      "093285.jpg\n",
      "093286.jpg\n",
      "093287.jpg\n",
      "093288.jpg\n",
      "093289.jpg\n",
      "093290.jpg\n",
      "093291.jpg\n",
      "093292.jpg\n",
      "093293.jpg\n"
     ]
    },
    {
     "name": "stderr",
     "output_type": "stream",
     "text": [
      "C:\\Users\\amosc\\AppData\\Local\\Temp\\ipykernel_1464\\3427317803.py:205: FutureWarning: The frame.append method is deprecated and will be removed from pandas in a future version. Use pandas.concat instead.\n",
      "  df = df.append(row, ignore_index=True) #append the attributes of one face to the dataframe\n"
     ]
    },
    {
     "name": "stdout",
     "output_type": "stream",
     "text": [
      "Face 0\n",
      "yn min face: 0.295 mp min face: 0.18499999999999997 yf min face: 0.20499999999999996\n",
      "yn min bg: 3.5 mp min bg: 3.5 yf min bg: 3.5 used mask\n",
      "yn min bbox: 0.29 mp min bbox: 0.175 yf min bbox: 0.19999999999999998\n",
      "yn min lbbox: 0.12999999999999998 mp min lbbox: 0.20499999999999996 yf min lbbox: 0.15999999999999998\n",
      "093294.jpg\n",
      "093295.jpg\n",
      "093296.jpg\n",
      "093297.jpg\n"
     ]
    },
    {
     "name": "stderr",
     "output_type": "stream",
     "text": [
      "C:\\Users\\amosc\\AppData\\Local\\Temp\\ipykernel_1464\\3427317803.py:205: FutureWarning: The frame.append method is deprecated and will be removed from pandas in a future version. Use pandas.concat instead.\n",
      "  df = df.append(row, ignore_index=True) #append the attributes of one face to the dataframe\n"
     ]
    },
    {
     "name": "stdout",
     "output_type": "stream",
     "text": [
      "Face 0\n",
      "yn min face: 0.15 mp min face: 0.18999999999999997 yf min face: 0.20499999999999996\n",
      "yn min bg: 3.5 mp min bg: 3.5 yf min bg: 3.5 used mask\n",
      "yn min bbox: 0.145 mp min bbox: 0.19999999999999998 yf min bbox: 0.19499999999999998\n",
      "yn min lbbox: 3.0999999999999974 mp min lbbox: 0.20999999999999996 yf min lbbox: 0.21499999999999997\n",
      "093298.jpg\n",
      "093299.jpg\n",
      "093300.jpg\n",
      "093301.jpg\n"
     ]
    },
    {
     "name": "stderr",
     "output_type": "stream",
     "text": [
      "C:\\Users\\amosc\\AppData\\Local\\Temp\\ipykernel_1464\\3427317803.py:205: FutureWarning: The frame.append method is deprecated and will be removed from pandas in a future version. Use pandas.concat instead.\n",
      "  df = df.append(row, ignore_index=True) #append the attributes of one face to the dataframe\n"
     ]
    },
    {
     "name": "stdout",
     "output_type": "stream",
     "text": [
      "Face 0\n",
      "yn min face: 0.10499999999999998 mp min face: 0.19999999999999998 yf min face: 0.12999999999999998\n",
      "yn min bg: 3.5 mp min bg: 3.5 yf min bg: 3.5 used mask\n",
      "yn min bbox: 0.10499999999999998 mp min bbox: 0.19999999999999998 yf min bbox: 0.12999999999999998\n",
      "yn min lbbox: 0.1 mp min lbbox: 0.175 yf min lbbox: 0.12\n",
      "093302.jpg\n",
      "093303.jpg\n",
      "093304.jpg\n",
      "093305.jpg\n",
      "093306.jpg\n",
      "093307.jpg\n",
      "093308.jpg\n",
      "093309.jpg\n",
      "093310.jpg\n",
      "093311.jpg\n",
      "093312.jpg\n",
      "093313.jpg\n",
      "093314.jpg\n",
      "093315.jpg\n",
      "093316.jpg\n",
      "093317.jpg\n",
      "093318.jpg\n",
      "093319.jpg\n",
      "093320.jpg\n",
      "093321.jpg\n",
      "093322.jpg\n",
      "093323.jpg\n",
      "093324.jpg\n",
      "093325.jpg\n",
      "093326.jpg\n",
      "093327.jpg\n",
      "093328.jpg\n",
      "093329.jpg\n",
      "093330.jpg\n",
      "093331.jpg\n",
      "093332.jpg\n",
      "093333.jpg\n",
      "093334.jpg\n",
      "093335.jpg\n"
     ]
    },
    {
     "name": "stderr",
     "output_type": "stream",
     "text": [
      "C:\\Users\\amosc\\AppData\\Local\\Temp\\ipykernel_1464\\3427317803.py:205: FutureWarning: The frame.append method is deprecated and will be removed from pandas in a future version. Use pandas.concat instead.\n",
      "  df = df.append(row, ignore_index=True) #append the attributes of one face to the dataframe\n"
     ]
    },
    {
     "name": "stdout",
     "output_type": "stream",
     "text": [
      "Face 0\n",
      "yn min face: 0.19999999999999998 mp min face: 0.27499999999999997 yf min face: 0.36000000000000004\n",
      "yn min bg: 3.5 mp min bg: 3.5 yf min bg: 3.5 used mask\n",
      "yn min bbox: 0.19999999999999998 mp min bbox: 0.27499999999999997 yf min bbox: 0.335\n",
      "yn min lbbox: 3.0999999999999974 mp min lbbox: 0.27499999999999997 yf min lbbox: 0.23999999999999996\n",
      "093336.jpg\n"
     ]
    },
    {
     "name": "stderr",
     "output_type": "stream",
     "text": [
      "C:\\Users\\amosc\\AppData\\Local\\Temp\\ipykernel_1464\\3427317803.py:205: FutureWarning: The frame.append method is deprecated and will be removed from pandas in a future version. Use pandas.concat instead.\n",
      "  df = df.append(row, ignore_index=True) #append the attributes of one face to the dataframe\n"
     ]
    },
    {
     "name": "stdout",
     "output_type": "stream",
     "text": [
      "Face 0\n",
      "yn min face: 0.26499999999999996 mp min face: 0.5450000000000002 yf min face: 0.21999999999999997\n",
      "yn min bg: 3.5 mp min bg: 3.5 yf min bg: 3.5 used mask\n",
      "yn min bbox: 0.26499999999999996 mp min bbox: 0.5450000000000002 yf min bbox: 0.21999999999999997\n",
      "yn min lbbox: 0.16499999999999998 mp min lbbox: 0.23999999999999996 yf min lbbox: 0.19499999999999998\n",
      "093337.jpg\n",
      "093338.jpg\n"
     ]
    },
    {
     "name": "stderr",
     "output_type": "stream",
     "text": [
      "C:\\Users\\amosc\\AppData\\Local\\Temp\\ipykernel_1464\\3427317803.py:205: FutureWarning: The frame.append method is deprecated and will be removed from pandas in a future version. Use pandas.concat instead.\n",
      "  df = df.append(row, ignore_index=True) #append the attributes of one face to the dataframe\n"
     ]
    },
    {
     "name": "stdout",
     "output_type": "stream",
     "text": [
      "Face 0\n",
      "yn min face: 0.145 mp min face: 3.0999999999999974 yf min face: 0.18499999999999997\n",
      "yn min bg: 3.5 mp min bg: 3.5 yf min bg: 3.5 used mask\n",
      "yn min bbox: 0.145 mp min bbox: 3.0999999999999974 yf min bbox: 0.18499999999999997\n",
      "yn min lbbox: 0.21499999999999997 mp min lbbox: 0.21999999999999997 yf min lbbox: 0.16499999999999998\n",
      "093339.jpg\n"
     ]
    },
    {
     "name": "stderr",
     "output_type": "stream",
     "text": [
      "C:\\Users\\amosc\\AppData\\Local\\Temp\\ipykernel_1464\\3427317803.py:205: FutureWarning: The frame.append method is deprecated and will be removed from pandas in a future version. Use pandas.concat instead.\n",
      "  df = df.append(row, ignore_index=True) #append the attributes of one face to the dataframe\n"
     ]
    },
    {
     "name": "stdout",
     "output_type": "stream",
     "text": [
      "Face 0\n",
      "yn min face: 0.32 mp min face: 0.23999999999999996 yf min face: 0.37000000000000005\n",
      "yn min bg: 3.5 mp min bg: 3.5 yf min bg: 3.5 used mask\n",
      "yn min bbox: 0.31 mp min bbox: 0.21999999999999997 yf min bbox: 0.25999999999999995\n",
      "yn min lbbox: 3.0999999999999974 mp min lbbox: 0.18499999999999997 yf min lbbox: 0.16499999999999998\n",
      "093340.jpg\n",
      "093341.jpg\n",
      "093342.jpg\n",
      "093343.jpg\n",
      "093344.jpg\n",
      "093345.jpg\n",
      "093346.jpg\n",
      "093347.jpg\n"
     ]
    },
    {
     "name": "stderr",
     "output_type": "stream",
     "text": [
      "C:\\Users\\amosc\\AppData\\Local\\Temp\\ipykernel_1464\\3427317803.py:205: FutureWarning: The frame.append method is deprecated and will be removed from pandas in a future version. Use pandas.concat instead.\n",
      "  df = df.append(row, ignore_index=True) #append the attributes of one face to the dataframe\n"
     ]
    },
    {
     "name": "stdout",
     "output_type": "stream",
     "text": [
      "Face 0\n",
      "yn min face: 0.13999999999999999 mp min face: 0.22999999999999995 yf min face: 0.23499999999999996\n",
      "yn min bg: 3.5 mp min bg: 3.5 yf min bg: 3.5 used mask\n",
      "yn min bbox: 0.13999999999999999 mp min bbox: 0.22999999999999995 yf min bbox: 0.23499999999999996\n",
      "yn min lbbox: 3.0999999999999974 mp min lbbox: 0.23499999999999996 yf min lbbox: 0.19999999999999998\n",
      "093348.jpg\n",
      "093349.jpg\n",
      "093350.jpg\n",
      "093351.jpg\n",
      "093352.jpg\n"
     ]
    },
    {
     "name": "stderr",
     "output_type": "stream",
     "text": [
      "C:\\Users\\amosc\\AppData\\Local\\Temp\\ipykernel_1464\\3427317803.py:205: FutureWarning: The frame.append method is deprecated and will be removed from pandas in a future version. Use pandas.concat instead.\n",
      "  df = df.append(row, ignore_index=True) #append the attributes of one face to the dataframe\n"
     ]
    },
    {
     "name": "stdout",
     "output_type": "stream",
     "text": [
      "Face 0\n",
      "yn min face: 3.0999999999999974 mp min face: 0.16499999999999998 yf min face: 0.27499999999999997\n",
      "yn min bg: 3.5 mp min bg: 3.5 yf min bg: 3.5 used mask\n",
      "yn min bbox: 3.0999999999999974 mp min bbox: 0.16999999999999998 yf min bbox: 0.23999999999999996\n",
      "yn min lbbox: 3.0999999999999974 mp min lbbox: 0.17999999999999997 yf min lbbox: 0.20499999999999996\n",
      "093353.jpg\n",
      "093354.jpg\n",
      "093355.jpg\n",
      "093356.jpg\n",
      "093357.jpg\n",
      "093358.jpg\n",
      "093359.jpg\n"
     ]
    },
    {
     "name": "stderr",
     "output_type": "stream",
     "text": [
      "C:\\Users\\amosc\\AppData\\Local\\Temp\\ipykernel_1464\\3427317803.py:205: FutureWarning: The frame.append method is deprecated and will be removed from pandas in a future version. Use pandas.concat instead.\n",
      "  df = df.append(row, ignore_index=True) #append the attributes of one face to the dataframe\n"
     ]
    },
    {
     "name": "stdout",
     "output_type": "stream",
     "text": [
      "Face 0\n",
      "yn min face: 0.21999999999999997 mp min face: 0.16499999999999998 yf min face: 0.23499999999999996\n",
      "yn min bg: 3.5 mp min bg: 3.5 yf min bg: 3.5 used mask\n",
      "yn min bbox: 0.21999999999999997 mp min bbox: 0.16499999999999998 yf min bbox: 0.23499999999999996\n",
      "yn min lbbox: 3.0999999999999974 mp min lbbox: 0.21999999999999997 yf min lbbox: 0.18999999999999997\n",
      "093360.jpg\n",
      "093361.jpg\n",
      "093362.jpg\n",
      "093363.jpg\n",
      "093364.jpg\n"
     ]
    },
    {
     "name": "stderr",
     "output_type": "stream",
     "text": [
      "C:\\Users\\amosc\\AppData\\Local\\Temp\\ipykernel_1464\\3427317803.py:205: FutureWarning: The frame.append method is deprecated and will be removed from pandas in a future version. Use pandas.concat instead.\n",
      "  df = df.append(row, ignore_index=True) #append the attributes of one face to the dataframe\n"
     ]
    },
    {
     "name": "stdout",
     "output_type": "stream",
     "text": [
      "Face 0\n",
      "yn min face: 3.0999999999999974 mp min face: 0.22499999999999998 yf min face: 0.25499999999999995\n",
      "yn min bg: 3.5 mp min bg: 3.5 yf min bg: 3.5 used mask\n",
      "yn min bbox: 3.0999999999999974 mp min bbox: 0.22499999999999998 yf min bbox: 0.24999999999999997\n",
      "yn min lbbox: 3.0999999999999974 mp min lbbox: 0.23999999999999996 yf min lbbox: 0.18999999999999997\n",
      "093365.jpg\n",
      "093366.jpg\n",
      "093367.jpg\n",
      "093368.jpg\n",
      "093369.jpg\n",
      "093370.jpg\n",
      "093371.jpg\n"
     ]
    },
    {
     "name": "stderr",
     "output_type": "stream",
     "text": [
      "C:\\Users\\amosc\\AppData\\Local\\Temp\\ipykernel_1464\\3427317803.py:205: FutureWarning: The frame.append method is deprecated and will be removed from pandas in a future version. Use pandas.concat instead.\n",
      "  df = df.append(row, ignore_index=True) #append the attributes of one face to the dataframe\n"
     ]
    },
    {
     "name": "stdout",
     "output_type": "stream",
     "text": [
      "Face 0\n",
      "yn min face: 0.15499999999999997 mp min face: 0.18499999999999997 yf min face: 0.17999999999999997\n",
      "yn min bg: 3.5 mp min bg: 3.5 yf min bg: 3.5 used mask\n",
      "yn min bbox: 0.15 mp min bbox: 0.18999999999999997 yf min bbox: 0.16499999999999998\n",
      "yn min lbbox: 0.13499999999999998 mp min lbbox: 0.19499999999999998 yf min lbbox: 0.145\n",
      "093372.jpg\n"
     ]
    },
    {
     "name": "stderr",
     "output_type": "stream",
     "text": [
      "C:\\Users\\amosc\\AppData\\Local\\Temp\\ipykernel_1464\\3427317803.py:205: FutureWarning: The frame.append method is deprecated and will be removed from pandas in a future version. Use pandas.concat instead.\n",
      "  df = df.append(row, ignore_index=True) #append the attributes of one face to the dataframe\n"
     ]
    },
    {
     "name": "stdout",
     "output_type": "stream",
     "text": [
      "Face 0\n",
      "yn min face: 0.12999999999999998 mp min face: 0.21999999999999997 yf min face: 0.15999999999999998\n",
      "yn min bg: 3.5 mp min bg: 3.5 yf min bg: 3.5 used mask\n",
      "yn min bbox: 0.12999999999999998 mp min bbox: 0.21999999999999997 yf min bbox: 0.15999999999999998\n",
      "yn min lbbox: 0.125 mp min lbbox: 0.19999999999999998 yf min lbbox: 0.15\n",
      "093373.jpg\n",
      "093374.jpg\n",
      "093375.jpg\n",
      "093376.jpg\n",
      "093377.jpg\n",
      "093378.jpg\n",
      "093379.jpg\n",
      "093380.jpg\n"
     ]
    },
    {
     "name": "stderr",
     "output_type": "stream",
     "text": [
      "C:\\Users\\amosc\\AppData\\Local\\Temp\\ipykernel_1464\\3427317803.py:205: FutureWarning: The frame.append method is deprecated and will be removed from pandas in a future version. Use pandas.concat instead.\n",
      "  df = df.append(row, ignore_index=True) #append the attributes of one face to the dataframe\n"
     ]
    },
    {
     "name": "stdout",
     "output_type": "stream",
     "text": [
      "Face 0\n",
      "yn min face: 0.16499999999999998 mp min face: 0.5700000000000002 yf min face: 0.25499999999999995\n",
      "yn min bg: 3.5 mp min bg: 3.5 yf min bg: 3.5 used mask\n",
      "yn min bbox: 0.16999999999999998 mp min bbox: 0.5550000000000002 yf min bbox: 0.25499999999999995\n",
      "yn min lbbox: 0.15 mp min lbbox: 0.27499999999999997 yf min lbbox: 0.23999999999999996\n",
      "093381.jpg\n",
      "093382.jpg\n",
      "093383.jpg\n",
      "093384.jpg\n"
     ]
    },
    {
     "name": "stderr",
     "output_type": "stream",
     "text": [
      "C:\\Users\\amosc\\AppData\\Local\\Temp\\ipykernel_1464\\3427317803.py:205: FutureWarning: The frame.append method is deprecated and will be removed from pandas in a future version. Use pandas.concat instead.\n",
      "  df = df.append(row, ignore_index=True) #append the attributes of one face to the dataframe\n"
     ]
    },
    {
     "name": "stdout",
     "output_type": "stream",
     "text": [
      "Face 0\n",
      "yn min face: 0.10499999999999998 mp min face: 0.18499999999999997 yf min face: 0.175\n",
      "yn min bg: 3.5 mp min bg: 3.5 yf min bg: 3.5 used mask\n",
      "yn min bbox: 0.10499999999999998 mp min bbox: 0.18999999999999997 yf min bbox: 0.15499999999999997\n",
      "yn min lbbox: 0.10499999999999998 mp min lbbox: 0.17999999999999997 yf min lbbox: 0.12999999999999998\n",
      "093385.jpg\n",
      "093386.jpg\n"
     ]
    },
    {
     "name": "stderr",
     "output_type": "stream",
     "text": [
      "C:\\Users\\amosc\\AppData\\Local\\Temp\\ipykernel_1464\\3427317803.py:205: FutureWarning: The frame.append method is deprecated and will be removed from pandas in a future version. Use pandas.concat instead.\n",
      "  df = df.append(row, ignore_index=True) #append the attributes of one face to the dataframe\n"
     ]
    },
    {
     "name": "stdout",
     "output_type": "stream",
     "text": [
      "Face 0\n",
      "yn min face: 0.13499999999999998 mp min face: 0.17999999999999997 yf min face: 0.18499999999999997\n",
      "yn min bg: 3.5 mp min bg: 3.5 yf min bg: 3.5 used mask\n",
      "yn min bbox: 0.13499999999999998 mp min bbox: 0.17999999999999997 yf min bbox: 0.18499999999999997\n",
      "yn min lbbox: 0.15499999999999997 mp min lbbox: 0.19999999999999998 yf min lbbox: 0.17999999999999997\n",
      "093387.jpg\n",
      "093388.jpg\n",
      "093389.jpg\n",
      "093390.jpg\n",
      "093391.jpg\n",
      "093392.jpg\n",
      "093393.jpg\n"
     ]
    },
    {
     "name": "stderr",
     "output_type": "stream",
     "text": [
      "C:\\Users\\amosc\\AppData\\Local\\Temp\\ipykernel_1464\\3427317803.py:205: FutureWarning: The frame.append method is deprecated and will be removed from pandas in a future version. Use pandas.concat instead.\n",
      "  df = df.append(row, ignore_index=True) #append the attributes of one face to the dataframe\n"
     ]
    },
    {
     "name": "stdout",
     "output_type": "stream",
     "text": [
      "Face 0\n",
      "yn min face: 0.12999999999999998 mp min face: 0.16499999999999998 yf min face: 0.175\n",
      "yn min bg: 3.5 mp min bg: 3.5 yf min bg: 3.5 used mask\n",
      "yn min bbox: 0.12999999999999998 mp min bbox: 0.16499999999999998 yf min bbox: 0.175\n",
      "yn min lbbox: 0.15 mp min lbbox: 0.20499999999999996 yf min lbbox: 0.18499999999999997\n",
      "093394.jpg\n",
      "093395.jpg\n",
      "093396.jpg\n",
      "093397.jpg\n"
     ]
    },
    {
     "name": "stderr",
     "output_type": "stream",
     "text": [
      "C:\\Users\\amosc\\AppData\\Local\\Temp\\ipykernel_1464\\3427317803.py:205: FutureWarning: The frame.append method is deprecated and will be removed from pandas in a future version. Use pandas.concat instead.\n",
      "  df = df.append(row, ignore_index=True) #append the attributes of one face to the dataframe\n"
     ]
    },
    {
     "name": "stdout",
     "output_type": "stream",
     "text": [
      "Face 0\n",
      "yn min face: 0.1 mp min face: 0.26499999999999996 yf min face: 0.07999999999999999\n",
      "yn min bg: 3.5 mp min bg: 3.5 yf min bg: 3.5 used mask\n",
      "yn min bbox: 0.1 mp min bbox: 0.26499999999999996 yf min bbox: 0.07999999999999999\n",
      "yn min lbbox: 0.095 mp min lbbox: 0.19499999999999998 yf min lbbox: 0.095\n",
      "093398.jpg\n",
      "093399.jpg\n",
      "093400.jpg\n"
     ]
    },
    {
     "name": "stderr",
     "output_type": "stream",
     "text": [
      "C:\\Users\\amosc\\AppData\\Local\\Temp\\ipykernel_1464\\3427317803.py:205: FutureWarning: The frame.append method is deprecated and will be removed from pandas in a future version. Use pandas.concat instead.\n",
      "  df = df.append(row, ignore_index=True) #append the attributes of one face to the dataframe\n"
     ]
    },
    {
     "name": "stdout",
     "output_type": "stream",
     "text": [
      "Face 0\n",
      "yn min face: 0.22499999999999998 mp min face: 0.25499999999999995 yf min face: 0.19999999999999998\n",
      "yn min bg: 3.5 mp min bg: 3.5 yf min bg: 3.5 used mask\n",
      "yn min bbox: 0.21999999999999997 mp min bbox: 0.25499999999999995 yf min bbox: 0.19499999999999998\n",
      "yn min lbbox: 0.18499999999999997 mp min lbbox: 0.23999999999999996 yf min lbbox: 0.18499999999999997\n",
      "093401.jpg\n",
      "093402.jpg\n",
      "093403.jpg\n",
      "093404.jpg\n",
      "093405.jpg\n",
      "093406.jpg\n",
      "093407.jpg\n",
      "093408.jpg\n",
      "093409.jpg\n",
      "093410.jpg\n"
     ]
    },
    {
     "name": "stderr",
     "output_type": "stream",
     "text": [
      "C:\\Users\\amosc\\AppData\\Local\\Temp\\ipykernel_1464\\3427317803.py:205: FutureWarning: The frame.append method is deprecated and will be removed from pandas in a future version. Use pandas.concat instead.\n",
      "  df = df.append(row, ignore_index=True) #append the attributes of one face to the dataframe\n"
     ]
    },
    {
     "name": "stdout",
     "output_type": "stream",
     "text": [
      "Face 0\n",
      "yn min face: 0.145 mp min face: 0.21499999999999997 yf min face: 0.20499999999999996\n",
      "yn min bg: 3.5 mp min bg: 3.5 yf min bg: 3.5 used mask\n",
      "yn min bbox: 0.15 mp min bbox: 0.21499999999999997 yf min bbox: 0.19499999999999998\n",
      "yn min lbbox: 0.16499999999999998 mp min lbbox: 0.22999999999999995 yf min lbbox: 0.18499999999999997\n"
     ]
    },
    {
     "name": "stderr",
     "output_type": "stream",
     "text": [
      "C:\\Users\\amosc\\AppData\\Local\\Temp\\ipykernel_1464\\3427317803.py:205: FutureWarning: The frame.append method is deprecated and will be removed from pandas in a future version. Use pandas.concat instead.\n",
      "  df = df.append(row, ignore_index=True) #append the attributes of one face to the dataframe\n"
     ]
    },
    {
     "name": "stdout",
     "output_type": "stream",
     "text": [
      "093411.jpg\n",
      "093412.jpg\n",
      "093413.jpg\n",
      "093414.jpg\n",
      "Face 0\n",
      "yn min face: 3.0999999999999974 mp min face: 0.18499999999999997 yf min face: 0.17999999999999997\n",
      "yn min bg: 3.5 mp min bg: 3.5 yf min bg: 3.5 used mask\n",
      "yn min bbox: 3.0999999999999974 mp min bbox: 0.18499999999999997 yf min bbox: 0.175\n",
      "yn min lbbox: 0.15 mp min lbbox: 0.15 yf min lbbox: 0.16499999999999998\n",
      "093415.jpg\n",
      "093416.jpg\n",
      "093417.jpg\n",
      "093418.jpg\n",
      "093419.jpg\n",
      "093420.jpg\n",
      "093421.jpg\n",
      "093422.jpg\n",
      "093423.jpg\n",
      "093424.jpg\n",
      "093425.jpg\n",
      "093426.jpg\n",
      "093427.jpg\n",
      "093428.jpg\n",
      "093429.jpg\n",
      "093430.jpg\n",
      "093431.jpg\n",
      "093432.jpg\n"
     ]
    },
    {
     "name": "stderr",
     "output_type": "stream",
     "text": [
      "C:\\Users\\amosc\\AppData\\Local\\Temp\\ipykernel_1464\\3427317803.py:205: FutureWarning: The frame.append method is deprecated and will be removed from pandas in a future version. Use pandas.concat instead.\n",
      "  df = df.append(row, ignore_index=True) #append the attributes of one face to the dataframe\n"
     ]
    },
    {
     "name": "stdout",
     "output_type": "stream",
     "text": [
      "Face 0\n",
      "yn min face: 0.7300000000000003 mp min face: 0.285 yf min face: 0.29\n",
      "yn min bg: 3.5 mp min bg: 3.5 yf min bg: 3.5 used mask\n",
      "yn min bbox: 0.7300000000000003 mp min bbox: 0.285 yf min bbox: 0.29\n",
      "yn min lbbox: 0.18999999999999997 mp min lbbox: 0.23499999999999996 yf min lbbox: 0.23999999999999996\n",
      "093433.jpg\n",
      "093434.jpg\n",
      "093435.jpg\n",
      "093436.jpg\n",
      "093437.jpg\n",
      "093438.jpg\n",
      "093439.jpg\n",
      "093440.jpg\n",
      "093441.jpg\n"
     ]
    },
    {
     "name": "stderr",
     "output_type": "stream",
     "text": [
      "C:\\Users\\amosc\\AppData\\Local\\Temp\\ipykernel_1464\\3427317803.py:205: FutureWarning: The frame.append method is deprecated and will be removed from pandas in a future version. Use pandas.concat instead.\n",
      "  df = df.append(row, ignore_index=True) #append the attributes of one face to the dataframe\n"
     ]
    },
    {
     "name": "stdout",
     "output_type": "stream",
     "text": [
      "Face 0\n",
      "yn min face: 3.0999999999999974 mp min face: 0.10499999999999998 yf min face: 0.21999999999999997\n",
      "yn min bg: 3.5 mp min bg: 3.5 yf min bg: 3.5 used mask\n",
      "yn min bbox: 3.0999999999999974 mp min bbox: 0.10999999999999999 yf min bbox: 0.15\n",
      "yn min lbbox: 3.0999999999999974 mp min lbbox: 0.11499999999999999 yf min lbbox: 0.095\n",
      "093442.jpg\n",
      "093443.jpg\n",
      "093444.jpg\n",
      "093445.jpg\n",
      "093446.jpg\n",
      "093447.jpg\n",
      "093448.jpg\n",
      "093449.jpg\n",
      "093450.jpg\n"
     ]
    },
    {
     "name": "stderr",
     "output_type": "stream",
     "text": [
      "C:\\Users\\amosc\\AppData\\Local\\Temp\\ipykernel_1464\\3427317803.py:205: FutureWarning: The frame.append method is deprecated and will be removed from pandas in a future version. Use pandas.concat instead.\n",
      "  df = df.append(row, ignore_index=True) #append the attributes of one face to the dataframe\n"
     ]
    },
    {
     "name": "stdout",
     "output_type": "stream",
     "text": [
      "Face 0\n",
      "yn min face: 0.18499999999999997 mp min face: 0.335 yf min face: 0.16499999999999998\n",
      "yn min bg: 3.5 mp min bg: 3.5 yf min bg: 3.5 used mask\n",
      "yn min bbox: 0.16499999999999998 mp min bbox: 0.34500000000000003 yf min bbox: 0.16499999999999998\n",
      "yn min lbbox: 0.15499999999999997 mp min lbbox: 0.25999999999999995 yf min lbbox: 0.16499999999999998\n",
      "093451.jpg\n",
      "093452.jpg\n",
      "093453.jpg\n",
      "093454.jpg\n",
      "093455.jpg\n",
      "093456.jpg\n",
      "093457.jpg\n",
      "093458.jpg\n",
      "093459.jpg\n",
      "093460.jpg\n",
      "093461.jpg\n",
      "093462.jpg\n",
      "093463.jpg\n",
      "093464.jpg\n",
      "093465.jpg\n",
      "093466.jpg\n",
      "093467.jpg\n",
      "093468.jpg\n",
      "093469.jpg\n",
      "093470.jpg\n",
      "093471.jpg\n",
      "093472.jpg\n",
      "093473.jpg\n",
      "093474.jpg\n",
      "093475.jpg\n",
      "093476.jpg\n",
      "093477.jpg\n",
      "093478.jpg\n",
      "093479.jpg\n"
     ]
    },
    {
     "name": "stderr",
     "output_type": "stream",
     "text": [
      "C:\\Users\\amosc\\AppData\\Local\\Temp\\ipykernel_1464\\3427317803.py:205: FutureWarning: The frame.append method is deprecated and will be removed from pandas in a future version. Use pandas.concat instead.\n",
      "  df = df.append(row, ignore_index=True) #append the attributes of one face to the dataframe\n"
     ]
    },
    {
     "name": "stdout",
     "output_type": "stream",
     "text": [
      "093480.jpg\n",
      "093481.jpg\n",
      "093482.jpg\n",
      "093483.jpg\n",
      "093484.jpg\n",
      "093485.jpg\n",
      "093486.jpg\n",
      "Face 0\n",
      "yn min face: 3.0999999999999974 mp min face: 0.25499999999999995 yf min face: 0.38500000000000006\n",
      "yn min bg: 3.5 mp min bg: 3.5 yf min bg: 3.5 used mask\n",
      "yn min bbox: 3.0999999999999974 mp min bbox: 0.31 yf min bbox: 0.3\n",
      "yn min lbbox: 3.0999999999999974 mp min lbbox: 0.21999999999999997 yf min lbbox: 0.19999999999999998\n",
      "093487.jpg\n",
      "093488.jpg\n",
      "093489.jpg\n",
      "093490.jpg\n",
      "093491.jpg\n"
     ]
    },
    {
     "name": "stderr",
     "output_type": "stream",
     "text": [
      "C:\\Users\\amosc\\AppData\\Local\\Temp\\ipykernel_1464\\3427317803.py:205: FutureWarning: The frame.append method is deprecated and will be removed from pandas in a future version. Use pandas.concat instead.\n",
      "  df = df.append(row, ignore_index=True) #append the attributes of one face to the dataframe\n"
     ]
    },
    {
     "name": "stdout",
     "output_type": "stream",
     "text": [
      "Face 0\n",
      "yn min face: 0.16499999999999998 mp min face: 0.21999999999999997 yf min face: 0.15\n",
      "yn min bg: 3.5 mp min bg: 3.5 yf min bg: 3.5 used mask\n",
      "yn min bbox: 0.16499999999999998 mp min bbox: 0.21999999999999997 yf min bbox: 0.15\n",
      "yn min lbbox: 0.145 mp min lbbox: 0.21499999999999997 yf min lbbox: 0.22499999999999998\n",
      "093492.jpg\n",
      "093493.jpg\n",
      "093494.jpg\n",
      "093495.jpg\n",
      "093496.jpg\n",
      "093497.jpg\n",
      "093498.jpg\n",
      "093499.jpg\n",
      "093500.jpg\n",
      "093501.jpg\n",
      "093502.jpg\n",
      "093503.jpg\n",
      "093504.jpg\n",
      "093505.jpg\n",
      "093506.jpg\n",
      "093507.jpg\n"
     ]
    },
    {
     "name": "stderr",
     "output_type": "stream",
     "text": [
      "C:\\Users\\amosc\\AppData\\Local\\Temp\\ipykernel_1464\\3427317803.py:205: FutureWarning: The frame.append method is deprecated and will be removed from pandas in a future version. Use pandas.concat instead.\n",
      "  df = df.append(row, ignore_index=True) #append the attributes of one face to the dataframe\n"
     ]
    },
    {
     "name": "stdout",
     "output_type": "stream",
     "text": [
      "Face 0\n",
      "yn min face: 3.0999999999999974 mp min face: 0.25999999999999995 yf min face: 0.18499999999999997\n",
      "yn min bg: 3.5 mp min bg: 3.5 yf min bg: 3.5 used mask\n",
      "yn min bbox: 3.0999999999999974 mp min bbox: 0.24499999999999997 yf min bbox: 0.175\n",
      "yn min lbbox: 3.0999999999999974 mp min lbbox: 0.23499999999999996 yf min lbbox: 0.15499999999999997\n",
      "093508.jpg\n",
      "093509.jpg\n",
      "093510.jpg\n",
      "093511.jpg\n",
      "093512.jpg\n",
      "093513.jpg\n"
     ]
    },
    {
     "name": "stderr",
     "output_type": "stream",
     "text": [
      "C:\\Users\\amosc\\AppData\\Local\\Temp\\ipykernel_1464\\3427317803.py:205: FutureWarning: The frame.append method is deprecated and will be removed from pandas in a future version. Use pandas.concat instead.\n",
      "  df = df.append(row, ignore_index=True) #append the attributes of one face to the dataframe\n"
     ]
    },
    {
     "name": "stdout",
     "output_type": "stream",
     "text": [
      "Face 0\n",
      "yn min face: 0.21999999999999997 mp min face: 0.25999999999999995 yf min face: 0.20499999999999996\n",
      "yn min bg: 3.5 mp min bg: 3.5 yf min bg: 3.5 used mask\n",
      "yn min bbox: 0.21999999999999997 mp min bbox: 0.25999999999999995 yf min bbox: 0.20499999999999996\n",
      "yn min lbbox: 0.15 mp min lbbox: 0.20499999999999996 yf min lbbox: 0.19499999999999998\n",
      "093514.jpg\n"
     ]
    },
    {
     "name": "stderr",
     "output_type": "stream",
     "text": [
      "C:\\Users\\amosc\\AppData\\Local\\Temp\\ipykernel_1464\\3427317803.py:205: FutureWarning: The frame.append method is deprecated and will be removed from pandas in a future version. Use pandas.concat instead.\n",
      "  df = df.append(row, ignore_index=True) #append the attributes of one face to the dataframe\n"
     ]
    },
    {
     "name": "stdout",
     "output_type": "stream",
     "text": [
      "Face 0\n",
      "yn min face: 0.15 mp min face: 0.23499999999999996 yf min face: 0.23499999999999996\n",
      "yn min bg: 3.5 mp min bg: 3.5 yf min bg: 3.5 used mask\n",
      "yn min bbox: 0.15 mp min bbox: 0.23499999999999996 yf min bbox: 0.23499999999999996\n",
      "yn min lbbox: 3.0999999999999974 mp min lbbox: 0.22499999999999998 yf min lbbox: 0.19999999999999998\n",
      "093515.jpg\n",
      "093516.jpg\n"
     ]
    },
    {
     "name": "stderr",
     "output_type": "stream",
     "text": [
      "C:\\Users\\amosc\\AppData\\Local\\Temp\\ipykernel_1464\\3427317803.py:205: FutureWarning: The frame.append method is deprecated and will be removed from pandas in a future version. Use pandas.concat instead.\n",
      "  df = df.append(row, ignore_index=True) #append the attributes of one face to the dataframe\n"
     ]
    },
    {
     "name": "stdout",
     "output_type": "stream",
     "text": [
      "Face 0\n",
      "yn min face: 0.19499999999999998 mp min face: 0.35000000000000003 yf min face: 0.305\n",
      "yn min bg: 3.5 mp min bg: 3.5 yf min bg: 3.5 used mask\n",
      "yn min bbox: 0.19499999999999998 mp min bbox: 0.35000000000000003 yf min bbox: 0.305\n",
      "yn min lbbox: 3.0999999999999974 mp min lbbox: 0.31 yf min lbbox: 0.24499999999999997\n",
      "093517.jpg\n"
     ]
    },
    {
     "name": "stderr",
     "output_type": "stream",
     "text": [
      "C:\\Users\\amosc\\AppData\\Local\\Temp\\ipykernel_1464\\3427317803.py:205: FutureWarning: The frame.append method is deprecated and will be removed from pandas in a future version. Use pandas.concat instead.\n",
      "  df = df.append(row, ignore_index=True) #append the attributes of one face to the dataframe\n"
     ]
    },
    {
     "name": "stdout",
     "output_type": "stream",
     "text": [
      "Face 0\n",
      "yn min face: 0.15499999999999997 mp min face: 0.175 yf min face: 0.18999999999999997\n",
      "yn min bg: 3.5 mp min bg: 3.5 yf min bg: 3.5 used mask\n",
      "yn min bbox: 0.15499999999999997 mp min bbox: 0.175 yf min bbox: 0.18499999999999997\n",
      "yn min lbbox: 0.13999999999999999 mp min lbbox: 0.16499999999999998 yf min lbbox: 0.16499999999999998\n",
      "093518.jpg\n",
      "093519.jpg\n",
      "093520.jpg\n",
      "093521.jpg\n",
      "093522.jpg\n",
      "093523.jpg\n",
      "093524.jpg\n",
      "093525.jpg\n",
      "093526.jpg\n",
      "093527.jpg\n",
      "093528.jpg\n",
      "093529.jpg\n",
      "093530.jpg\n",
      "093531.jpg\n",
      "093532.jpg\n",
      "093533.jpg\n"
     ]
    },
    {
     "name": "stderr",
     "output_type": "stream",
     "text": [
      "C:\\Users\\amosc\\AppData\\Local\\Temp\\ipykernel_1464\\3427317803.py:205: FutureWarning: The frame.append method is deprecated and will be removed from pandas in a future version. Use pandas.concat instead.\n",
      "  df = df.append(row, ignore_index=True) #append the attributes of one face to the dataframe\n"
     ]
    },
    {
     "name": "stdout",
     "output_type": "stream",
     "text": [
      "Face 0\n",
      "yn min face: 0.26999999999999996 mp min face: 0.20499999999999996 yf min face: 0.24499999999999997\n",
      "yn min bg: 3.5 mp min bg: 3.5 yf min bg: 3.5 used mask\n",
      "yn min bbox: 0.15499999999999997 mp min bbox: 0.19999999999999998 yf min bbox: 0.21999999999999997\n",
      "yn min lbbox: 3.0999999999999974 mp min lbbox: 0.20999999999999996 yf min lbbox: 0.23499999999999996\n",
      "093534.jpg\n",
      "093535.jpg\n",
      "093536.jpg\n",
      "093537.jpg\n",
      "093538.jpg\n",
      "093539.jpg\n",
      "093540.jpg\n",
      "093541.jpg\n",
      "093542.jpg\n",
      "093543.jpg\n",
      "093544.jpg\n",
      "093545.jpg\n",
      "093546.jpg\n"
     ]
    },
    {
     "name": "stderr",
     "output_type": "stream",
     "text": [
      "C:\\Users\\amosc\\AppData\\Local\\Temp\\ipykernel_1464\\3427317803.py:205: FutureWarning: The frame.append method is deprecated and will be removed from pandas in a future version. Use pandas.concat instead.\n",
      "  df = df.append(row, ignore_index=True) #append the attributes of one face to the dataframe\n"
     ]
    },
    {
     "name": "stdout",
     "output_type": "stream",
     "text": [
      "Face 0\n",
      "yn min face: 0.13999999999999999 mp min face: 0.18999999999999997 yf min face: 0.17999999999999997\n",
      "yn min bg: 3.5 mp min bg: 3.5 yf min bg: 3.5 used mask\n",
      "yn min bbox: 0.13999999999999999 mp min bbox: 0.18999999999999997 yf min bbox: 0.17999999999999997\n",
      "yn min lbbox: 0.125 mp min lbbox: 0.19999999999999998 yf min lbbox: 0.16499999999999998\n",
      "093547.jpg\n",
      "093548.jpg\n",
      "093549.jpg\n",
      "093550.jpg\n",
      "093551.jpg\n",
      "093552.jpg\n",
      "093553.jpg\n",
      "093554.jpg\n",
      "093555.jpg\n",
      "093556.jpg\n",
      "093557.jpg\n"
     ]
    },
    {
     "name": "stderr",
     "output_type": "stream",
     "text": [
      "C:\\Users\\amosc\\AppData\\Local\\Temp\\ipykernel_1464\\3427317803.py:205: FutureWarning: The frame.append method is deprecated and will be removed from pandas in a future version. Use pandas.concat instead.\n",
      "  df = df.append(row, ignore_index=True) #append the attributes of one face to the dataframe\n"
     ]
    },
    {
     "name": "stdout",
     "output_type": "stream",
     "text": [
      "Face 0\n",
      "yn min face: 3.0999999999999974 mp min face: 0.22999999999999995 yf min face: 0.21999999999999997\n",
      "yn min bg: 3.5 mp min bg: 3.5 yf min bg: 3.5 used mask\n",
      "yn min bbox: 3.0999999999999974 mp min bbox: 0.22499999999999998 yf min bbox: 0.20499999999999996\n",
      "yn min lbbox: 3.0999999999999974 mp min lbbox: 0.21499999999999997 yf min lbbox: 0.23999999999999996\n",
      "093558.jpg\n",
      "093559.jpg\n",
      "093560.jpg\n",
      "093561.jpg\n",
      "093562.jpg\n",
      "093563.jpg\n",
      "093564.jpg\n"
     ]
    },
    {
     "name": "stderr",
     "output_type": "stream",
     "text": [
      "C:\\Users\\amosc\\AppData\\Local\\Temp\\ipykernel_1464\\3427317803.py:205: FutureWarning: The frame.append method is deprecated and will be removed from pandas in a future version. Use pandas.concat instead.\n",
      "  df = df.append(row, ignore_index=True) #append the attributes of one face to the dataframe\n"
     ]
    },
    {
     "name": "stdout",
     "output_type": "stream",
     "text": [
      "Face 0\n",
      "yn min face: 0.7200000000000003 mp min face: 0.22499999999999998 yf min face: 0.27499999999999997\n",
      "yn min bg: 3.5 mp min bg: 3.5 yf min bg: 3.5 used mask\n",
      "yn min bbox: 3.0999999999999974 mp min bbox: 0.22499999999999998 yf min bbox: 0.26499999999999996\n",
      "yn min lbbox: 3.0999999999999974 mp min lbbox: 0.25999999999999995 yf min lbbox: 0.24499999999999997\n",
      "093565.jpg\n",
      "093566.jpg\n",
      "093567.jpg\n",
      "093568.jpg\n",
      "093569.jpg\n",
      "093570.jpg\n",
      "093571.jpg\n",
      "093572.jpg\n"
     ]
    },
    {
     "name": "stderr",
     "output_type": "stream",
     "text": [
      "C:\\Users\\amosc\\AppData\\Local\\Temp\\ipykernel_1464\\3427317803.py:205: FutureWarning: The frame.append method is deprecated and will be removed from pandas in a future version. Use pandas.concat instead.\n",
      "  df = df.append(row, ignore_index=True) #append the attributes of one face to the dataframe\n"
     ]
    },
    {
     "name": "stdout",
     "output_type": "stream",
     "text": [
      "Face 0\n",
      "yn min face: 3.0999999999999974 mp min face: 0.23999999999999996 yf min face: 0.17999999999999997\n",
      "yn min bg: 3.5 mp min bg: 3.5 yf min bg: 3.5 used mask\n",
      "yn min bbox: 0.7450000000000003 mp min bbox: 0.23999999999999996 yf min bbox: 0.17999999999999997\n",
      "yn min lbbox: 3.0999999999999974 mp min lbbox: 0.23999999999999996 yf min lbbox: 0.22999999999999995\n",
      "093573.jpg\n",
      "093574.jpg\n",
      "093575.jpg\n",
      "093576.jpg\n",
      "093577.jpg\n",
      "093578.jpg\n",
      "093579.jpg\n",
      "093580.jpg\n",
      "093581.jpg\n",
      "093582.jpg\n",
      "093583.jpg\n",
      "093584.jpg\n",
      "093585.jpg\n",
      "093586.jpg\n",
      "093587.jpg\n",
      "093588.jpg\n",
      "093589.jpg\n",
      "093590.jpg\n",
      "093591.jpg\n",
      "093592.jpg\n",
      "093593.jpg\n",
      "093594.jpg\n",
      "093595.jpg\n",
      "093596.jpg\n",
      "093597.jpg\n",
      "093598.jpg\n",
      "093599.jpg\n",
      "093600.jpg\n",
      "093601.jpg\n",
      "093602.jpg\n",
      "093603.jpg\n",
      "093604.jpg\n",
      "093605.jpg\n",
      "093606.jpg\n"
     ]
    },
    {
     "name": "stderr",
     "output_type": "stream",
     "text": [
      "C:\\Users\\amosc\\AppData\\Local\\Temp\\ipykernel_1464\\3427317803.py:205: FutureWarning: The frame.append method is deprecated and will be removed from pandas in a future version. Use pandas.concat instead.\n",
      "  df = df.append(row, ignore_index=True) #append the attributes of one face to the dataframe\n"
     ]
    },
    {
     "name": "stdout",
     "output_type": "stream",
     "text": [
      "Face 0\n",
      "yn min face: 0.125 mp min face: 0.31 yf min face: 0.15\n",
      "yn min bg: 3.5 mp min bg: 3.5 yf min bg: 3.5 used mask\n",
      "yn min bbox: 0.125 mp min bbox: 0.3 yf min bbox: 0.15\n",
      "yn min lbbox: 0.12999999999999998 mp min lbbox: 0.23499999999999996 yf min lbbox: 0.15499999999999997\n",
      "093607.jpg\n",
      "093608.jpg\n",
      "093609.jpg\n"
     ]
    },
    {
     "name": "stderr",
     "output_type": "stream",
     "text": [
      "C:\\Users\\amosc\\AppData\\Local\\Temp\\ipykernel_1464\\3427317803.py:205: FutureWarning: The frame.append method is deprecated and will be removed from pandas in a future version. Use pandas.concat instead.\n",
      "  df = df.append(row, ignore_index=True) #append the attributes of one face to the dataframe\n"
     ]
    },
    {
     "name": "stdout",
     "output_type": "stream",
     "text": [
      "Face 0\n",
      "yn min face: 3.0999999999999974 mp min face: 0.19499999999999998 yf min face: 0.15499999999999997\n",
      "yn min bg: 3.5 mp min bg: 3.5 yf min bg: 3.5 used mask\n",
      "yn min bbox: 3.0999999999999974 mp min bbox: 0.19499999999999998 yf min bbox: 0.15499999999999997\n",
      "yn min lbbox: 0.16499999999999998 mp min lbbox: 0.15999999999999998 yf min lbbox: 0.12999999999999998\n",
      "093610.jpg\n",
      "093611.jpg\n",
      "093612.jpg\n"
     ]
    },
    {
     "name": "stderr",
     "output_type": "stream",
     "text": [
      "C:\\Users\\amosc\\AppData\\Local\\Temp\\ipykernel_1464\\3427317803.py:205: FutureWarning: The frame.append method is deprecated and will be removed from pandas in a future version. Use pandas.concat instead.\n",
      "  df = df.append(row, ignore_index=True) #append the attributes of one face to the dataframe\n"
     ]
    },
    {
     "name": "stdout",
     "output_type": "stream",
     "text": [
      "Face 0\n",
      "yn min face: 0.25999999999999995 mp min face: 0.23999999999999996 yf min face: 0.26499999999999996\n",
      "yn min bg: 3.5 mp min bg: 3.5 yf min bg: 3.5 used mask\n",
      "yn min bbox: 0.26499999999999996 mp min bbox: 0.23999999999999996 yf min bbox: 0.23499999999999996\n",
      "yn min lbbox: 3.0999999999999974 mp min lbbox: 0.19999999999999998 yf min lbbox: 0.16499999999999998\n",
      "093613.jpg\n",
      "093614.jpg\n",
      "093615.jpg\n",
      "093616.jpg\n",
      "093617.jpg\n",
      "093618.jpg\n",
      "093619.jpg\n",
      "093620.jpg\n",
      "093621.jpg\n",
      "093622.jpg\n",
      "093623.jpg\n",
      "093624.jpg\n",
      "093625.jpg\n",
      "093626.jpg\n",
      "093627.jpg\n",
      "093628.jpg\n",
      "093629.jpg\n",
      "093630.jpg\n",
      "093631.jpg\n"
     ]
    },
    {
     "name": "stderr",
     "output_type": "stream",
     "text": [
      "C:\\Users\\amosc\\AppData\\Local\\Temp\\ipykernel_1464\\3427317803.py:205: FutureWarning: The frame.append method is deprecated and will be removed from pandas in a future version. Use pandas.concat instead.\n",
      "  df = df.append(row, ignore_index=True) #append the attributes of one face to the dataframe\n"
     ]
    },
    {
     "name": "stdout",
     "output_type": "stream",
     "text": [
      "Face 0\n",
      "yn min face: 0.13499999999999998 mp min face: 3.0999999999999974 yf min face: 0.13999999999999999\n",
      "yn min bg: 3.5 mp min bg: 3.5 yf min bg: 3.5 used mask\n",
      "yn min bbox: 0.13499999999999998 mp min bbox: 3.0999999999999974 yf min bbox: 0.13999999999999999\n",
      "yn min lbbox: 0.16499999999999998 mp min lbbox: 0.21499999999999997 yf min lbbox: 0.145\n",
      "093632.jpg\n",
      "093633.jpg\n",
      "093634.jpg\n",
      "093635.jpg\n",
      "093636.jpg\n",
      "093637.jpg\n"
     ]
    },
    {
     "name": "stderr",
     "output_type": "stream",
     "text": [
      "C:\\Users\\amosc\\AppData\\Local\\Temp\\ipykernel_1464\\3427317803.py:205: FutureWarning: The frame.append method is deprecated and will be removed from pandas in a future version. Use pandas.concat instead.\n",
      "  df = df.append(row, ignore_index=True) #append the attributes of one face to the dataframe\n"
     ]
    },
    {
     "name": "stdout",
     "output_type": "stream",
     "text": [
      "Face 0\n",
      "yn min face: 3.0999999999999974 mp min face: 0.23999999999999996 yf min face: 0.315\n",
      "yn min bg: 3.5 mp min bg: 3.5 yf min bg: 3.5 used mask\n",
      "yn min bbox: 3.0999999999999974 mp min bbox: 0.23999999999999996 yf min bbox: 0.3\n",
      "yn min lbbox: 3.0999999999999974 mp min lbbox: 0.20499999999999996 yf min lbbox: 0.27499999999999997\n"
     ]
    },
    {
     "name": "stderr",
     "output_type": "stream",
     "text": [
      "C:\\Users\\amosc\\AppData\\Local\\Temp\\ipykernel_1464\\3427317803.py:205: FutureWarning: The frame.append method is deprecated and will be removed from pandas in a future version. Use pandas.concat instead.\n",
      "  df = df.append(row, ignore_index=True) #append the attributes of one face to the dataframe\n"
     ]
    },
    {
     "name": "stdout",
     "output_type": "stream",
     "text": [
      "093638.jpg\n",
      "093639.jpg\n",
      "093640.jpg\n",
      "093641.jpg\n",
      "093642.jpg\n",
      "093643.jpg\n",
      "093644.jpg\n",
      "093645.jpg\n",
      "093646.jpg\n",
      "093647.jpg\n",
      "093648.jpg\n",
      "Face 0\n",
      "yn min face: 0.18999999999999997 mp min face: 0.31 yf min face: 0.27999999999999997\n",
      "yn min bg: 3.5 mp min bg: 3.5 yf min bg: 3.5 used mask\n",
      "yn min bbox: 0.19499999999999998 mp min bbox: 0.31 yf min bbox: 0.27499999999999997\n",
      "yn min lbbox: 3.0999999999999974 mp min lbbox: 0.20499999999999996 yf min lbbox: 0.25999999999999995\n",
      "093649.jpg\n",
      "093650.jpg\n",
      "093651.jpg\n",
      "093652.jpg\n"
     ]
    },
    {
     "name": "stderr",
     "output_type": "stream",
     "text": [
      "C:\\Users\\amosc\\AppData\\Local\\Temp\\ipykernel_1464\\3427317803.py:205: FutureWarning: The frame.append method is deprecated and will be removed from pandas in a future version. Use pandas.concat instead.\n",
      "  df = df.append(row, ignore_index=True) #append the attributes of one face to the dataframe\n"
     ]
    },
    {
     "name": "stdout",
     "output_type": "stream",
     "text": [
      "Face 0\n",
      "yn min face: 0.065 mp min face: 0.07500000000000001 yf min face: 0.03500000000000001\n",
      "yn min bg: 3.5 mp min bg: 3.5 yf min bg: 3.5 used mask\n",
      "yn min bbox: 0.07 mp min bbox: 0.07500000000000001 yf min bbox: 0.03500000000000001\n",
      "yn min lbbox: 3.0999999999999974 mp min lbbox: 0.10499999999999998 yf min lbbox: 0.07500000000000001\n",
      "093653.jpg\n",
      "093654.jpg\n",
      "093655.jpg\n",
      "093656.jpg\n",
      "093657.jpg\n"
     ]
    },
    {
     "name": "stderr",
     "output_type": "stream",
     "text": [
      "C:\\Users\\amosc\\AppData\\Local\\Temp\\ipykernel_1464\\3427317803.py:205: FutureWarning: The frame.append method is deprecated and will be removed from pandas in a future version. Use pandas.concat instead.\n",
      "  df = df.append(row, ignore_index=True) #append the attributes of one face to the dataframe\n"
     ]
    },
    {
     "name": "stdout",
     "output_type": "stream",
     "text": [
      "Face 0\n",
      "yn min face: 0.12 mp min face: 0.15 yf min face: 0.15499999999999997\n",
      "yn min bg: 3.5 mp min bg: 3.5 yf min bg: 3.5 used mask\n",
      "yn min bbox: 0.12 mp min bbox: 0.15 yf min bbox: 0.15\n",
      "yn min lbbox: 3.0999999999999974 mp min lbbox: 0.16499999999999998 yf min lbbox: 0.16499999999999998\n",
      "093658.jpg\n",
      "093659.jpg\n",
      "093660.jpg\n",
      "093661.jpg\n",
      "093662.jpg\n"
     ]
    },
    {
     "name": "stderr",
     "output_type": "stream",
     "text": [
      "C:\\Users\\amosc\\AppData\\Local\\Temp\\ipykernel_1464\\3427317803.py:205: FutureWarning: The frame.append method is deprecated and will be removed from pandas in a future version. Use pandas.concat instead.\n",
      "  df = df.append(row, ignore_index=True) #append the attributes of one face to the dataframe\n"
     ]
    },
    {
     "name": "stdout",
     "output_type": "stream",
     "text": [
      "Face 0\n",
      "yn min face: 0.18499999999999997 mp min face: 0.27499999999999997 yf min face: 0.23999999999999996\n",
      "yn min bg: 3.5 mp min bg: 3.5 yf min bg: 3.5 used mask\n",
      "yn min bbox: 0.16999999999999998 mp min bbox: 0.27999999999999997 yf min bbox: 0.27999999999999997\n",
      "yn min lbbox: 3.0999999999999974 mp min lbbox: 0.24999999999999997 yf min lbbox: 0.175\n",
      "093663.jpg\n",
      "093664.jpg\n",
      "093665.jpg\n",
      "093666.jpg\n",
      "093667.jpg\n",
      "093668.jpg\n",
      "093669.jpg\n",
      "093670.jpg\n",
      "093671.jpg\n"
     ]
    },
    {
     "name": "stderr",
     "output_type": "stream",
     "text": [
      "C:\\Users\\amosc\\AppData\\Local\\Temp\\ipykernel_1464\\3427317803.py:205: FutureWarning: The frame.append method is deprecated and will be removed from pandas in a future version. Use pandas.concat instead.\n",
      "  df = df.append(row, ignore_index=True) #append the attributes of one face to the dataframe\n"
     ]
    },
    {
     "name": "stdout",
     "output_type": "stream",
     "text": [
      "Face 0\n",
      "yn min face: 0.15499999999999997 mp min face: 0.20499999999999996 yf min face: 0.15999999999999998\n",
      "yn min bg: 3.5 mp min bg: 3.5 yf min bg: 3.5 used mask\n",
      "yn min bbox: 0.15499999999999997 mp min bbox: 0.20499999999999996 yf min bbox: 0.15999999999999998\n",
      "yn min lbbox: 0.13499999999999998 mp min lbbox: 0.21499999999999997 yf min lbbox: 0.16499999999999998\n",
      "093672.jpg\n",
      "093673.jpg\n",
      "093674.jpg\n",
      "093675.jpg\n"
     ]
    },
    {
     "name": "stderr",
     "output_type": "stream",
     "text": [
      "C:\\Users\\amosc\\AppData\\Local\\Temp\\ipykernel_1464\\3427317803.py:205: FutureWarning: The frame.append method is deprecated and will be removed from pandas in a future version. Use pandas.concat instead.\n",
      "  df = df.append(row, ignore_index=True) #append the attributes of one face to the dataframe\n"
     ]
    },
    {
     "name": "stdout",
     "output_type": "stream",
     "text": [
      "Face 0\n",
      "yn min face: 0.20499999999999996 mp min face: 0.23999999999999996 yf min face: 0.3\n",
      "yn min bg: 3.5 mp min bg: 3.5 yf min bg: 3.5 used mask\n",
      "yn min bbox: 0.19499999999999998 mp min bbox: 0.22499999999999998 yf min bbox: 0.27499999999999997\n",
      "yn min lbbox: 3.0999999999999974 mp min lbbox: 0.21999999999999997 yf min lbbox: 0.15499999999999997\n",
      "093676.jpg\n",
      "093677.jpg\n",
      "093678.jpg\n",
      "093679.jpg\n",
      "093680.jpg\n",
      "093681.jpg\n",
      "093682.jpg\n",
      "093683.jpg\n",
      "093684.jpg\n",
      "093685.jpg\n",
      "093686.jpg\n",
      "093687.jpg\n",
      "093688.jpg\n",
      "093689.jpg\n",
      "093690.jpg\n",
      "093691.jpg\n",
      "093692.jpg\n",
      "093693.jpg\n"
     ]
    },
    {
     "name": "stderr",
     "output_type": "stream",
     "text": [
      "C:\\Users\\amosc\\AppData\\Local\\Temp\\ipykernel_1464\\3427317803.py:205: FutureWarning: The frame.append method is deprecated and will be removed from pandas in a future version. Use pandas.concat instead.\n",
      "  df = df.append(row, ignore_index=True) #append the attributes of one face to the dataframe\n"
     ]
    },
    {
     "name": "stdout",
     "output_type": "stream",
     "text": [
      "Face 0\n",
      "yn min face: 0.11499999999999999 mp min face: 0.4550000000000001 yf min face: 0.15499999999999997\n",
      "yn min bg: 3.5 mp min bg: 3.5 yf min bg: 3.5 used mask\n",
      "yn min bbox: 0.11499999999999999 mp min bbox: 0.4550000000000001 yf min bbox: 0.15499999999999997\n",
      "yn min lbbox: 0.10499999999999998 mp min lbbox: 0.13499999999999998 yf min lbbox: 0.145\n",
      "093694.jpg\n",
      "093695.jpg\n"
     ]
    },
    {
     "name": "stderr",
     "output_type": "stream",
     "text": [
      "C:\\Users\\amosc\\AppData\\Local\\Temp\\ipykernel_1464\\3427317803.py:205: FutureWarning: The frame.append method is deprecated and will be removed from pandas in a future version. Use pandas.concat instead.\n",
      "  df = df.append(row, ignore_index=True) #append the attributes of one face to the dataframe\n"
     ]
    },
    {
     "name": "stdout",
     "output_type": "stream",
     "text": [
      "Face 0\n",
      "yn min face: 3.0999999999999974 mp min face: 0.17999999999999997 yf min face: 0.20999999999999996\n",
      "yn min bg: 3.5 mp min bg: 3.5 yf min bg: 3.5 used mask\n",
      "yn min bbox: 0.6800000000000003 mp min bbox: 0.17999999999999997 yf min bbox: 0.20999999999999996\n",
      "yn min lbbox: 0.13999999999999999 mp min lbbox: 0.18999999999999997 yf min lbbox: 0.23999999999999996\n",
      "093696.jpg\n",
      "093697.jpg\n",
      "093698.jpg\n",
      "093699.jpg\n",
      "093700.jpg\n"
     ]
    },
    {
     "name": "stderr",
     "output_type": "stream",
     "text": [
      "C:\\Users\\amosc\\AppData\\Local\\Temp\\ipykernel_1464\\3427317803.py:205: FutureWarning: The frame.append method is deprecated and will be removed from pandas in a future version. Use pandas.concat instead.\n",
      "  df = df.append(row, ignore_index=True) #append the attributes of one face to the dataframe\n"
     ]
    },
    {
     "name": "stdout",
     "output_type": "stream",
     "text": [
      "Face 0\n",
      "yn min face: 0.23999999999999996 mp min face: 0.31 yf min face: 0.27499999999999997\n",
      "yn min bg: 3.5 mp min bg: 3.5 yf min bg: 3.5 used mask\n",
      "yn min bbox: 0.21499999999999997 mp min bbox: 0.32 yf min bbox: 0.25999999999999995\n",
      "yn min lbbox: 3.0999999999999974 mp min lbbox: 0.35500000000000004 yf min lbbox: 0.25499999999999995\n",
      "093701.jpg\n",
      "093702.jpg\n"
     ]
    },
    {
     "name": "stderr",
     "output_type": "stream",
     "text": [
      "C:\\Users\\amosc\\AppData\\Local\\Temp\\ipykernel_1464\\3427317803.py:205: FutureWarning: The frame.append method is deprecated and will be removed from pandas in a future version. Use pandas.concat instead.\n",
      "  df = df.append(row, ignore_index=True) #append the attributes of one face to the dataframe\n"
     ]
    },
    {
     "name": "stdout",
     "output_type": "stream",
     "text": [
      "Face 0\n",
      "yn min face: 0.21499999999999997 mp min face: 0.27499999999999997 yf min face: 0.27499999999999997\n",
      "yn min bg: 3.5 mp min bg: 3.5 yf min bg: 3.5 used mask\n",
      "yn min bbox: 0.20499999999999996 mp min bbox: 0.26999999999999996 yf min bbox: 0.26499999999999996\n",
      "yn min lbbox: 3.0999999999999974 mp min lbbox: 0.24999999999999997 yf min lbbox: 0.21999999999999997\n",
      "093703.jpg\n",
      "093704.jpg\n",
      "093705.jpg\n",
      "093706.jpg\n",
      "093707.jpg\n",
      "093708.jpg\n",
      "093709.jpg\n"
     ]
    },
    {
     "name": "stderr",
     "output_type": "stream",
     "text": [
      "C:\\Users\\amosc\\AppData\\Local\\Temp\\ipykernel_1464\\3427317803.py:205: FutureWarning: The frame.append method is deprecated and will be removed from pandas in a future version. Use pandas.concat instead.\n",
      "  df = df.append(row, ignore_index=True) #append the attributes of one face to the dataframe\n"
     ]
    },
    {
     "name": "stdout",
     "output_type": "stream",
     "text": [
      "Face 0\n",
      "yn min face: 0.175 mp min face: 0.21999999999999997 yf min face: 0.25999999999999995\n",
      "yn min bg: 3.5 mp min bg: 3.5 yf min bg: 3.5 used mask\n",
      "yn min bbox: 0.175 mp min bbox: 0.21999999999999997 yf min bbox: 0.25499999999999995\n",
      "yn min lbbox: 3.0999999999999974 mp min lbbox: 0.23499999999999996 yf min lbbox: 0.20499999999999996\n",
      "093710.jpg\n",
      "093711.jpg\n",
      "093712.jpg\n",
      "093713.jpg\n",
      "093714.jpg\n",
      "093715.jpg\n",
      "093716.jpg\n",
      "093717.jpg\n",
      "093718.jpg\n",
      "093719.jpg\n"
     ]
    },
    {
     "name": "stderr",
     "output_type": "stream",
     "text": [
      "C:\\Users\\amosc\\AppData\\Local\\Temp\\ipykernel_1464\\3427317803.py:205: FutureWarning: The frame.append method is deprecated and will be removed from pandas in a future version. Use pandas.concat instead.\n",
      "  df = df.append(row, ignore_index=True) #append the attributes of one face to the dataframe\n"
     ]
    },
    {
     "name": "stdout",
     "output_type": "stream",
     "text": [
      "Face 0\n",
      "yn min face: 0.10999999999999999 mp min face: 0.21499999999999997 yf min face: 0.10999999999999999\n",
      "yn min bg: 3.5 mp min bg: 3.5 yf min bg: 3.5 used mask\n",
      "yn min bbox: 0.10999999999999999 mp min bbox: 0.21499999999999997 yf min bbox: 0.10999999999999999\n",
      "yn min lbbox: 0.10999999999999999 mp min lbbox: 0.21499999999999997 yf min lbbox: 0.10999999999999999\n",
      "093720.jpg\n",
      "093721.jpg\n",
      "093722.jpg\n",
      "093723.jpg\n",
      "093724.jpg\n",
      "093725.jpg\n",
      "093726.jpg\n",
      "093727.jpg\n",
      "093728.jpg\n",
      "093729.jpg\n",
      "093730.jpg\n",
      "093731.jpg\n",
      "093732.jpg\n",
      "093733.jpg\n"
     ]
    },
    {
     "name": "stderr",
     "output_type": "stream",
     "text": [
      "C:\\Users\\amosc\\AppData\\Local\\Temp\\ipykernel_1464\\3427317803.py:205: FutureWarning: The frame.append method is deprecated and will be removed from pandas in a future version. Use pandas.concat instead.\n",
      "  df = df.append(row, ignore_index=True) #append the attributes of one face to the dataframe\n"
     ]
    },
    {
     "name": "stdout",
     "output_type": "stream",
     "text": [
      "Face 0\n",
      "yn min face: 0.10999999999999999 mp min face: 0.21499999999999997 yf min face: 0.13499999999999998\n",
      "yn min bg: 3.5 mp min bg: 3.5 yf min bg: 3.5 used mask\n",
      "yn min bbox: 0.10999999999999999 mp min bbox: 0.21499999999999997 yf min bbox: 0.13499999999999998\n",
      "yn min lbbox: 0.10999999999999999 mp min lbbox: 0.21999999999999997 yf min lbbox: 0.145\n",
      "093734.jpg\n",
      "093735.jpg\n",
      "093736.jpg\n",
      "093737.jpg\n",
      "093738.jpg\n",
      "093739.jpg\n",
      "093740.jpg\n",
      "093741.jpg\n"
     ]
    },
    {
     "name": "stderr",
     "output_type": "stream",
     "text": [
      "C:\\Users\\amosc\\AppData\\Local\\Temp\\ipykernel_1464\\3427317803.py:205: FutureWarning: The frame.append method is deprecated and will be removed from pandas in a future version. Use pandas.concat instead.\n",
      "  df = df.append(row, ignore_index=True) #append the attributes of one face to the dataframe\n"
     ]
    },
    {
     "name": "stdout",
     "output_type": "stream",
     "text": [
      "Face 1\n",
      "yn min face: 0.05 mp min face: 0 yf min face: 0.015\n",
      "yn min bg: 3.5 mp min bg: 0 yf min bg: 3.5 used mask\n",
      "yn min bbox: 0.04000000000000001 mp min bbox: 0 yf min bbox: 0.02\n",
      "yn min lbbox: 0.04000000000000001 mp min lbbox: 0 yf min lbbox: 0.02\n",
      "093742.jpg\n",
      "093743.jpg\n",
      "093744.jpg\n",
      "093745.jpg\n",
      "093746.jpg\n",
      "093747.jpg\n",
      "093748.jpg\n",
      "093749.jpg\n",
      "093750.jpg\n",
      "093751.jpg\n",
      "093752.jpg\n",
      "093753.jpg\n",
      "093754.jpg\n",
      "093755.jpg\n",
      "093756.jpg\n",
      "093757.jpg\n",
      "093758.jpg\n",
      "093759.jpg\n",
      "093760.jpg\n",
      "093761.jpg\n",
      "093762.jpg\n",
      "093763.jpg\n",
      "093764.jpg\n",
      "093765.jpg\n",
      "093766.jpg\n",
      "093767.jpg\n"
     ]
    },
    {
     "name": "stderr",
     "output_type": "stream",
     "text": [
      "C:\\Users\\amosc\\AppData\\Local\\Temp\\ipykernel_1464\\3427317803.py:205: FutureWarning: The frame.append method is deprecated and will be removed from pandas in a future version. Use pandas.concat instead.\n",
      "  df = df.append(row, ignore_index=True) #append the attributes of one face to the dataframe\n"
     ]
    },
    {
     "name": "stdout",
     "output_type": "stream",
     "text": [
      "Face 0\n",
      "yn min face: 0.16499999999999998 mp min face: 0.15499999999999997 yf min face: 0.19999999999999998\n",
      "yn min bg: 3.5 mp min bg: 3.5 yf min bg: 3.5 used mask\n",
      "yn min bbox: 0.15999999999999998 mp min bbox: 0.15999999999999998 yf min bbox: 0.17999999999999997\n",
      "yn min lbbox: 0.15999999999999998 mp min lbbox: 0.175 yf min lbbox: 0.15499999999999997\n",
      "093768.jpg\n",
      "093769.jpg\n",
      "093770.jpg\n",
      "093771.jpg\n",
      "093772.jpg\n",
      "093773.jpg\n",
      "093774.jpg\n",
      "093775.jpg\n",
      "093776.jpg\n"
     ]
    },
    {
     "name": "stderr",
     "output_type": "stream",
     "text": [
      "C:\\Users\\amosc\\AppData\\Local\\Temp\\ipykernel_1464\\3427317803.py:205: FutureWarning: The frame.append method is deprecated and will be removed from pandas in a future version. Use pandas.concat instead.\n",
      "  df = df.append(row, ignore_index=True) #append the attributes of one face to the dataframe\n"
     ]
    },
    {
     "name": "stdout",
     "output_type": "stream",
     "text": [
      "Face 0\n",
      "yn min face: 0.23499999999999996 mp min face: 0.16499999999999998 yf min face: 0.21999999999999997\n",
      "yn min bg: 3.5 mp min bg: 3.5 yf min bg: 3.5 used mask\n",
      "yn min bbox: 0.23499999999999996 mp min bbox: 0.16499999999999998 yf min bbox: 0.21999999999999997\n",
      "yn min lbbox: 0.23999999999999996 mp min lbbox: 0.17999999999999997 yf min lbbox: 0.13499999999999998\n",
      "093777.jpg\n",
      "093778.jpg\n",
      "093779.jpg\n",
      "093780.jpg\n",
      "093781.jpg\n",
      "093782.jpg\n",
      "093783.jpg\n",
      "093784.jpg\n",
      "093785.jpg\n",
      "093786.jpg\n",
      "093787.jpg\n",
      "093788.jpg\n",
      "093789.jpg\n",
      "093790.jpg\n",
      "093791.jpg\n",
      "093792.jpg\n",
      "093793.jpg\n",
      "093794.jpg\n",
      "093795.jpg\n",
      "093796.jpg\n",
      "093797.jpg\n",
      "093798.jpg\n"
     ]
    },
    {
     "name": "stderr",
     "output_type": "stream",
     "text": [
      "C:\\Users\\amosc\\AppData\\Local\\Temp\\ipykernel_1464\\3427317803.py:205: FutureWarning: The frame.append method is deprecated and will be removed from pandas in a future version. Use pandas.concat instead.\n",
      "  df = df.append(row, ignore_index=True) #append the attributes of one face to the dataframe\n"
     ]
    },
    {
     "name": "stdout",
     "output_type": "stream",
     "text": [
      "Face 0\n",
      "yn min face: 0.095 mp min face: 0.07999999999999999 yf min face: 0.145\n",
      "yn min bg: 3.5 mp min bg: 3.5 yf min bg: 3.5 used mask\n",
      "yn min bbox: 0.09 mp min bbox: 0.07500000000000001 yf min bbox: 0.12999999999999998\n",
      "yn min lbbox: 0.095 mp min lbbox: 0.05500000000000001 yf min lbbox: 0.13499999999999998\n",
      "093799.jpg\n"
     ]
    },
    {
     "name": "stderr",
     "output_type": "stream",
     "text": [
      "C:\\Users\\amosc\\AppData\\Local\\Temp\\ipykernel_1464\\3427317803.py:205: FutureWarning: The frame.append method is deprecated and will be removed from pandas in a future version. Use pandas.concat instead.\n",
      "  df = df.append(row, ignore_index=True) #append the attributes of one face to the dataframe\n"
     ]
    },
    {
     "name": "stdout",
     "output_type": "stream",
     "text": [
      "Face 0\n",
      "yn min face: 0.21999999999999997 mp min face: 0.12999999999999998 yf min face: 0.145\n",
      "yn min bg: 3.5 mp min bg: 3.5 yf min bg: 3.5 used mask\n",
      "yn min bbox: 0.21499999999999997 mp min bbox: 0.12999999999999998 yf min bbox: 0.13999999999999999\n",
      "yn min lbbox: 0.10999999999999999 mp min lbbox: 0.13499999999999998 yf min lbbox: 0.12\n",
      "093800.jpg\n",
      "093801.jpg\n",
      "093802.jpg\n",
      "093803.jpg\n",
      "093804.jpg\n",
      "093805.jpg\n",
      "093806.jpg\n",
      "093807.jpg\n",
      "093808.jpg\n",
      "093809.jpg\n",
      "093810.jpg\n",
      "093811.jpg\n",
      "093812.jpg\n"
     ]
    },
    {
     "name": "stderr",
     "output_type": "stream",
     "text": [
      "C:\\Users\\amosc\\AppData\\Local\\Temp\\ipykernel_1464\\3427317803.py:205: FutureWarning: The frame.append method is deprecated and will be removed from pandas in a future version. Use pandas.concat instead.\n",
      "  df = df.append(row, ignore_index=True) #append the attributes of one face to the dataframe\n"
     ]
    },
    {
     "name": "stdout",
     "output_type": "stream",
     "text": [
      "Face 0\n",
      "yn min face: 0.26999999999999996 mp min face: 0.17999999999999997 yf min face: 0.24499999999999997\n",
      "yn min bg: 3.5 mp min bg: 3.5 yf min bg: 3.5 used mask\n",
      "yn min bbox: 0.26999999999999996 mp min bbox: 0.17999999999999997 yf min bbox: 0.24499999999999997\n",
      "yn min lbbox: 3.0999999999999974 mp min lbbox: 0.17999999999999997 yf min lbbox: 0.23499999999999996\n",
      "093813.jpg\n",
      "093814.jpg\n",
      "093815.jpg\n",
      "093816.jpg\n",
      "093817.jpg\n",
      "093818.jpg\n",
      "093819.jpg\n",
      "093820.jpg\n",
      "093821.jpg\n",
      "093822.jpg\n",
      "093823.jpg\n",
      "093824.jpg\n",
      "093825.jpg\n",
      "093826.jpg\n",
      "093827.jpg\n",
      "093828.jpg\n",
      "093829.jpg\n"
     ]
    },
    {
     "name": "stderr",
     "output_type": "stream",
     "text": [
      "C:\\Users\\amosc\\AppData\\Local\\Temp\\ipykernel_1464\\3427317803.py:205: FutureWarning: The frame.append method is deprecated and will be removed from pandas in a future version. Use pandas.concat instead.\n",
      "  df = df.append(row, ignore_index=True) #append the attributes of one face to the dataframe\n"
     ]
    },
    {
     "name": "stdout",
     "output_type": "stream",
     "text": [
      "Face 0\n",
      "yn min face: 0.16499999999999998 mp min face: 0.22999999999999995 yf min face: 0.24999999999999997\n",
      "yn min bg: 3.5 mp min bg: 3.5 yf min bg: 3.5 used mask\n",
      "yn min bbox: 0.16499999999999998 mp min bbox: 0.23499999999999996 yf min bbox: 0.23999999999999996\n",
      "yn min lbbox: 0.16499999999999998 mp min lbbox: 0.19499999999999998 yf min lbbox: 0.22499999999999998\n",
      "093830.jpg\n",
      "093831.jpg\n",
      "093832.jpg\n",
      "093833.jpg\n",
      "093834.jpg\n",
      "093835.jpg\n",
      "093836.jpg\n",
      "093837.jpg\n",
      "093838.jpg\n"
     ]
    },
    {
     "name": "stderr",
     "output_type": "stream",
     "text": [
      "C:\\Users\\amosc\\AppData\\Local\\Temp\\ipykernel_1464\\3427317803.py:205: FutureWarning: The frame.append method is deprecated and will be removed from pandas in a future version. Use pandas.concat instead.\n",
      "  df = df.append(row, ignore_index=True) #append the attributes of one face to the dataframe\n"
     ]
    },
    {
     "name": "stdout",
     "output_type": "stream",
     "text": [
      "Face 0\n",
      "yn min face: 0.22499999999999998 mp min face: 0.4100000000000001 yf min face: 0.295\n",
      "yn min bg: 3.5 mp min bg: 3.5 yf min bg: 3.5 used mask\n",
      "yn min bbox: 0.22499999999999998 mp min bbox: 0.4250000000000001 yf min bbox: 0.285\n",
      "yn min lbbox: 3.0999999999999974 mp min lbbox: 0.24499999999999997 yf min lbbox: 0.22999999999999995\n",
      "093839.jpg\n",
      "093840.jpg\n",
      "093841.jpg\n",
      "093842.jpg\n",
      "093843.jpg\n"
     ]
    },
    {
     "name": "stderr",
     "output_type": "stream",
     "text": [
      "C:\\Users\\amosc\\AppData\\Local\\Temp\\ipykernel_1464\\3427317803.py:205: FutureWarning: The frame.append method is deprecated and will be removed from pandas in a future version. Use pandas.concat instead.\n",
      "  df = df.append(row, ignore_index=True) #append the attributes of one face to the dataframe\n"
     ]
    },
    {
     "name": "stdout",
     "output_type": "stream",
     "text": [
      "Face 0\n",
      "yn min face: 0.6850000000000003 mp min face: 0.6650000000000003 yf min face: 0.29\n",
      "yn min bg: 3.5 mp min bg: 3.5 yf min bg: 3.5 used mask\n",
      "yn min bbox: 0.6900000000000003 mp min bbox: 0.6350000000000002 yf min bbox: 0.29\n",
      "yn min lbbox: 3.0999999999999974 mp min lbbox: 0.295 yf min lbbox: 0.22999999999999995\n",
      "093844.jpg\n",
      "093845.jpg\n",
      "093846.jpg\n",
      "093847.jpg\n",
      "093848.jpg\n",
      "093849.jpg\n",
      "093850.jpg\n",
      "093851.jpg\n",
      "093852.jpg\n",
      "093853.jpg\n",
      "093854.jpg\n",
      "093855.jpg\n",
      "093856.jpg\n",
      "093857.jpg\n",
      "093858.jpg\n"
     ]
    },
    {
     "name": "stderr",
     "output_type": "stream",
     "text": [
      "C:\\Users\\amosc\\AppData\\Local\\Temp\\ipykernel_1464\\3427317803.py:205: FutureWarning: The frame.append method is deprecated and will be removed from pandas in a future version. Use pandas.concat instead.\n",
      "  df = df.append(row, ignore_index=True) #append the attributes of one face to the dataframe\n"
     ]
    },
    {
     "name": "stdout",
     "output_type": "stream",
     "text": [
      "Face 0\n",
      "yn min face: 0.16499999999999998 mp min face: 0.32 yf min face: 0.23999999999999996\n",
      "yn min bg: 3.5 mp min bg: 3.5 yf min bg: 3.5 used mask\n",
      "yn min bbox: 0.16499999999999998 mp min bbox: 0.32 yf min bbox: 0.23999999999999996\n",
      "yn min lbbox: 0.19999999999999998 mp min lbbox: 0.21999999999999997 yf min lbbox: 0.16499999999999998\n",
      "093859.jpg\n"
     ]
    },
    {
     "name": "stderr",
     "output_type": "stream",
     "text": [
      "C:\\Users\\amosc\\AppData\\Local\\Temp\\ipykernel_1464\\3427317803.py:205: FutureWarning: The frame.append method is deprecated and will be removed from pandas in a future version. Use pandas.concat instead.\n",
      "  df = df.append(row, ignore_index=True) #append the attributes of one face to the dataframe\n"
     ]
    },
    {
     "name": "stdout",
     "output_type": "stream",
     "text": [
      "Face 0\n",
      "yn min face: 0.10499999999999998 mp min face: 0.175 yf min face: 0.13999999999999999\n",
      "yn min bg: 3.5 mp min bg: 3.5 yf min bg: 3.5 used mask\n",
      "yn min bbox: 0.10499999999999998 mp min bbox: 0.16999999999999998 yf min bbox: 0.13999999999999999\n",
      "yn min lbbox: 0.10499999999999998 mp min lbbox: 0.13999999999999999 yf min lbbox: 0.15\n",
      "093860.jpg\n"
     ]
    },
    {
     "name": "stderr",
     "output_type": "stream",
     "text": [
      "C:\\Users\\amosc\\AppData\\Local\\Temp\\ipykernel_1464\\3427317803.py:205: FutureWarning: The frame.append method is deprecated and will be removed from pandas in a future version. Use pandas.concat instead.\n",
      "  df = df.append(row, ignore_index=True) #append the attributes of one face to the dataframe\n"
     ]
    },
    {
     "name": "stdout",
     "output_type": "stream",
     "text": [
      "Face 0\n",
      "yn min face: 0.13999999999999999 mp min face: 0.175 yf min face: 0.325\n",
      "yn min bg: 3.5 mp min bg: 3.5 yf min bg: 3.5 used mask\n",
      "yn min bbox: 0.13499999999999998 mp min bbox: 0.175 yf min bbox: 0.24499999999999997\n",
      "yn min lbbox: 3.0999999999999974 mp min lbbox: 0.18499999999999997 yf min lbbox: 0.17999999999999997\n",
      "093861.jpg\n",
      "093862.jpg\n",
      "093863.jpg\n",
      "093864.jpg\n",
      "093865.jpg\n",
      "093866.jpg\n",
      "093867.jpg\n",
      "093868.jpg\n"
     ]
    },
    {
     "name": "stderr",
     "output_type": "stream",
     "text": [
      "C:\\Users\\amosc\\AppData\\Local\\Temp\\ipykernel_1464\\3427317803.py:205: FutureWarning: The frame.append method is deprecated and will be removed from pandas in a future version. Use pandas.concat instead.\n",
      "  df = df.append(row, ignore_index=True) #append the attributes of one face to the dataframe\n"
     ]
    },
    {
     "name": "stdout",
     "output_type": "stream",
     "text": [
      "Face 0\n",
      "yn min face: 0.20999999999999996 mp min face: 0.23999999999999996 yf min face: 0.19499999999999998\n",
      "yn min bg: 3.5 mp min bg: 3.5 yf min bg: 3.5 used mask\n",
      "yn min bbox: 0.175 mp min bbox: 0.24499999999999997 yf min bbox: 0.18999999999999997\n",
      "yn min lbbox: 3.0999999999999974 mp min lbbox: 0.20499999999999996 yf min lbbox: 0.15999999999999998\n",
      "093869.jpg\n",
      "093870.jpg\n",
      "093871.jpg\n",
      "093872.jpg\n",
      "093873.jpg\n",
      "093874.jpg\n",
      "093875.jpg\n",
      "093876.jpg\n",
      "093877.jpg\n",
      "093878.jpg\n",
      "093879.jpg\n",
      "093880.jpg\n",
      "093881.jpg\n",
      "093882.jpg\n",
      "093883.jpg\n",
      "093884.jpg\n",
      "093885.jpg\n"
     ]
    },
    {
     "name": "stderr",
     "output_type": "stream",
     "text": [
      "C:\\Users\\amosc\\AppData\\Local\\Temp\\ipykernel_1464\\3427317803.py:205: FutureWarning: The frame.append method is deprecated and will be removed from pandas in a future version. Use pandas.concat instead.\n",
      "  df = df.append(row, ignore_index=True) #append the attributes of one face to the dataframe\n"
     ]
    },
    {
     "name": "stdout",
     "output_type": "stream",
     "text": [
      "Face 0\n",
      "yn min face: 0.12 mp min face: 0.4800000000000001 yf min face: 0.10999999999999999\n",
      "yn min bg: 3.5 mp min bg: 3.5 yf min bg: 3.5 used mask\n",
      "yn min bbox: 0.12 mp min bbox: 0.4800000000000001 yf min bbox: 0.10999999999999999\n",
      "yn min lbbox: 0.11499999999999999 mp min lbbox: 0.145 yf min lbbox: 0.125\n"
     ]
    },
    {
     "name": "stderr",
     "output_type": "stream",
     "text": [
      "C:\\Users\\amosc\\AppData\\Local\\Temp\\ipykernel_1464\\3427317803.py:205: FutureWarning: The frame.append method is deprecated and will be removed from pandas in a future version. Use pandas.concat instead.\n",
      "  df = df.append(row, ignore_index=True) #append the attributes of one face to the dataframe\n"
     ]
    },
    {
     "name": "stdout",
     "output_type": "stream",
     "text": [
      "093886.jpg\n",
      "093887.jpg\n",
      "093888.jpg\n",
      "093889.jpg\n",
      "093890.jpg\n",
      "093891.jpg\n",
      "093892.jpg\n",
      "093893.jpg\n",
      "093894.jpg\n",
      "Face 0\n",
      "yn min face: 0.16499999999999998 mp min face: 0.26999999999999996 yf min face: 0.16999999999999998\n",
      "yn min bg: 3.5 mp min bg: 3.5 yf min bg: 3.5 used mask\n",
      "yn min bbox: 0.16499999999999998 mp min bbox: 0.26999999999999996 yf min bbox: 0.16999999999999998\n",
      "yn min lbbox: 0.16499999999999998 mp min lbbox: 0.19999999999999998 yf min lbbox: 0.15499999999999997\n",
      "093895.jpg\n",
      "093896.jpg\n",
      "093897.jpg\n",
      "093898.jpg\n",
      "093899.jpg\n"
     ]
    },
    {
     "name": "stderr",
     "output_type": "stream",
     "text": [
      "C:\\Users\\amosc\\AppData\\Local\\Temp\\ipykernel_1464\\3427317803.py:205: FutureWarning: The frame.append method is deprecated and will be removed from pandas in a future version. Use pandas.concat instead.\n",
      "  df = df.append(row, ignore_index=True) #append the attributes of one face to the dataframe\n"
     ]
    },
    {
     "name": "stdout",
     "output_type": "stream",
     "text": [
      "Face 0\n",
      "yn min face: 0.16499999999999998 mp min face: 0.23999999999999996 yf min face: 0.4050000000000001\n",
      "yn min bg: 3.5 mp min bg: 3.5 yf min bg: 3.5 used mask\n",
      "yn min bbox: 0.16499999999999998 mp min bbox: 0.23999999999999996 yf min bbox: 0.29\n",
      "yn min lbbox: 3.0999999999999974 mp min lbbox: 0.22999999999999995 yf min lbbox: 0.27499999999999997\n",
      "093900.jpg\n",
      "093901.jpg\n",
      "093902.jpg\n",
      "093903.jpg\n",
      "093904.jpg\n",
      "093905.jpg\n",
      "093906.jpg\n",
      "093907.jpg\n",
      "093908.jpg\n",
      "093909.jpg\n",
      "093910.jpg\n",
      "093911.jpg\n",
      "093912.jpg\n",
      "093913.jpg\n",
      "093914.jpg\n",
      "093915.jpg\n",
      "093916.jpg\n",
      "093917.jpg\n",
      "093918.jpg\n",
      "093919.jpg\n",
      "093920.jpg\n",
      "093921.jpg\n",
      "093922.jpg\n",
      "093923.jpg\n",
      "093924.jpg\n",
      "093925.jpg\n",
      "093926.jpg\n",
      "093927.jpg\n"
     ]
    },
    {
     "name": "stderr",
     "output_type": "stream",
     "text": [
      "C:\\Users\\amosc\\AppData\\Local\\Temp\\ipykernel_1464\\3427317803.py:205: FutureWarning: The frame.append method is deprecated and will be removed from pandas in a future version. Use pandas.concat instead.\n",
      "  df = df.append(row, ignore_index=True) #append the attributes of one face to the dataframe\n"
     ]
    },
    {
     "name": "stdout",
     "output_type": "stream",
     "text": [
      "Face 0\n",
      "yn min face: 0.15 mp min face: 0.4100000000000001 yf min face: 0.10999999999999999\n",
      "yn min bg: 3.5 mp min bg: 3.5 yf min bg: 3.5 used mask\n",
      "yn min bbox: 0.15 mp min bbox: 0.35500000000000004 yf min bbox: 0.10999999999999999\n",
      "yn min lbbox: 0.12999999999999998 mp min lbbox: 0.19499999999999998 yf min lbbox: 0.12999999999999998\n",
      "093928.jpg\n",
      "093929.jpg\n",
      "093930.jpg\n",
      "093931.jpg\n",
      "093932.jpg\n",
      "093933.jpg\n",
      "093934.jpg\n",
      "093935.jpg\n",
      "093936.jpg\n",
      "093937.jpg\n",
      "093938.jpg\n",
      "093939.jpg\n",
      "093940.jpg\n",
      "093941.jpg\n",
      "093942.jpg\n",
      "093943.jpg\n"
     ]
    },
    {
     "name": "stderr",
     "output_type": "stream",
     "text": [
      "C:\\Users\\amosc\\AppData\\Local\\Temp\\ipykernel_1464\\3427317803.py:205: FutureWarning: The frame.append method is deprecated and will be removed from pandas in a future version. Use pandas.concat instead.\n",
      "  df = df.append(row, ignore_index=True) #append the attributes of one face to the dataframe\n"
     ]
    },
    {
     "name": "stdout",
     "output_type": "stream",
     "text": [
      "Face 0\n",
      "yn min face: 0.12999999999999998 mp min face: 0.7500000000000003 yf min face: 0.13499999999999998\n",
      "yn min bg: 3.5 mp min bg: 3.5 yf min bg: 3.5 used mask\n",
      "yn min bbox: 0.125 mp min bbox: 0.5700000000000002 yf min bbox: 0.145\n",
      "yn min lbbox: 0.10999999999999999 mp min lbbox: 0.16999999999999998 yf min lbbox: 0.16999999999999998\n",
      "093944.jpg\n",
      "093945.jpg\n",
      "093946.jpg\n",
      "093947.jpg\n",
      "093948.jpg\n",
      "093949.jpg\n",
      "093950.jpg\n",
      "093951.jpg\n",
      "093952.jpg\n",
      "093953.jpg\n",
      "093954.jpg\n",
      "093955.jpg\n",
      "093956.jpg\n"
     ]
    },
    {
     "name": "stderr",
     "output_type": "stream",
     "text": [
      "C:\\Users\\amosc\\AppData\\Local\\Temp\\ipykernel_1464\\3427317803.py:205: FutureWarning: The frame.append method is deprecated and will be removed from pandas in a future version. Use pandas.concat instead.\n",
      "  df = df.append(row, ignore_index=True) #append the attributes of one face to the dataframe\n"
     ]
    },
    {
     "name": "stdout",
     "output_type": "stream",
     "text": [
      "Face 0\n",
      "yn min face: 0.11499999999999999 mp min face: 0.29 yf min face: 0.24999999999999997\n",
      "yn min bg: 3.5 mp min bg: 3.5 yf min bg: 3.5 used mask\n",
      "yn min bbox: 0.11499999999999999 mp min bbox: 0.26999999999999996 yf min bbox: 0.17999999999999997\n",
      "yn min lbbox: 0.1 mp min lbbox: 0.175 yf min lbbox: 0.125\n",
      "093957.jpg\n",
      "093958.jpg\n",
      "093959.jpg\n",
      "093960.jpg\n",
      "093961.jpg\n",
      "093962.jpg\n",
      "093963.jpg\n",
      "093964.jpg\n",
      "093965.jpg\n",
      "093966.jpg\n",
      "093967.jpg\n",
      "093968.jpg\n"
     ]
    },
    {
     "name": "stderr",
     "output_type": "stream",
     "text": [
      "C:\\Users\\amosc\\AppData\\Local\\Temp\\ipykernel_1464\\3427317803.py:205: FutureWarning: The frame.append method is deprecated and will be removed from pandas in a future version. Use pandas.concat instead.\n",
      "  df = df.append(row, ignore_index=True) #append the attributes of one face to the dataframe\n"
     ]
    },
    {
     "name": "stdout",
     "output_type": "stream",
     "text": [
      "Face 0\n",
      "yn min face: 0.10999999999999999 mp min face: 0.15999999999999998 yf min face: 0.24499999999999997\n",
      "yn min bg: 3.5 mp min bg: 3.5 yf min bg: 3.5 used mask\n",
      "yn min bbox: 0.10999999999999999 mp min bbox: 0.15999999999999998 yf min bbox: 0.23499999999999996\n",
      "yn min lbbox: 0.9900000000000004 mp min lbbox: 0.16499999999999998 yf min lbbox: 0.15\n",
      "093969.jpg\n",
      "093970.jpg\n"
     ]
    },
    {
     "name": "stderr",
     "output_type": "stream",
     "text": [
      "C:\\Users\\amosc\\AppData\\Local\\Temp\\ipykernel_1464\\3427317803.py:205: FutureWarning: The frame.append method is deprecated and will be removed from pandas in a future version. Use pandas.concat instead.\n",
      "  df = df.append(row, ignore_index=True) #append the attributes of one face to the dataframe\n"
     ]
    },
    {
     "name": "stdout",
     "output_type": "stream",
     "text": [
      "Face 0\n",
      "yn min face: 0.21499999999999997 mp min face: 0.32 yf min face: 0.285\n",
      "yn min bg: 3.5 mp min bg: 3.5 yf min bg: 3.5 used mask\n",
      "yn min bbox: 0.21499999999999997 mp min bbox: 0.33 yf min bbox: 0.26499999999999996\n",
      "yn min lbbox: 3.0999999999999974 mp min lbbox: 0.25999999999999995 yf min lbbox: 0.16499999999999998\n",
      "093971.jpg\n"
     ]
    },
    {
     "name": "stderr",
     "output_type": "stream",
     "text": [
      "C:\\Users\\amosc\\AppData\\Local\\Temp\\ipykernel_1464\\3427317803.py:205: FutureWarning: The frame.append method is deprecated and will be removed from pandas in a future version. Use pandas.concat instead.\n",
      "  df = df.append(row, ignore_index=True) #append the attributes of one face to the dataframe\n"
     ]
    },
    {
     "name": "stdout",
     "output_type": "stream",
     "text": [
      "Face 0\n",
      "yn min face: 0.19499999999999998 mp min face: 0.03500000000000001 yf min face: 0.15999999999999998\n",
      "yn min bg: 3.5 mp min bg: 0.1599999999999997 yf min bg: 3.5 used mask\n",
      "yn min bbox: 0.19999999999999998 mp min bbox: 0.03000000000000001 yf min bbox: 0.15\n",
      "yn min lbbox: 0.18499999999999997 mp min lbbox: 0.03000000000000001 yf min lbbox: 0.16499999999999998\n",
      "093972.jpg\n",
      "093973.jpg\n",
      "093974.jpg\n",
      "093975.jpg\n",
      "093976.jpg\n",
      "093977.jpg\n",
      "093978.jpg\n",
      "093979.jpg\n",
      "093980.jpg\n",
      "093981.jpg\n",
      "093982.jpg\n",
      "093983.jpg\n",
      "093984.jpg\n",
      "093985.jpg\n",
      "093986.jpg\n",
      "093987.jpg\n",
      "093988.jpg\n",
      "093989.jpg\n"
     ]
    },
    {
     "name": "stderr",
     "output_type": "stream",
     "text": [
      "C:\\Users\\amosc\\AppData\\Local\\Temp\\ipykernel_1464\\3427317803.py:205: FutureWarning: The frame.append method is deprecated and will be removed from pandas in a future version. Use pandas.concat instead.\n",
      "  df = df.append(row, ignore_index=True) #append the attributes of one face to the dataframe\n"
     ]
    },
    {
     "name": "stdout",
     "output_type": "stream",
     "text": [
      "Face 0\n",
      "yn min face: 0.15 mp min face: 0.13499999999999998 yf min face: 0.16999999999999998\n",
      "yn min bg: 3.5 mp min bg: 3.5 yf min bg: 3.5 used mask\n",
      "yn min bbox: 0.15 mp min bbox: 0.13499999999999998 yf min bbox: 0.16499999999999998\n",
      "yn min lbbox: 3.0999999999999974 mp min lbbox: 0.13499999999999998 yf min lbbox: 0.15999999999999998\n",
      "093990.jpg\n"
     ]
    },
    {
     "name": "stderr",
     "output_type": "stream",
     "text": [
      "C:\\Users\\amosc\\AppData\\Local\\Temp\\ipykernel_1464\\3427317803.py:205: FutureWarning: The frame.append method is deprecated and will be removed from pandas in a future version. Use pandas.concat instead.\n",
      "  df = df.append(row, ignore_index=True) #append the attributes of one face to the dataframe\n"
     ]
    },
    {
     "name": "stdout",
     "output_type": "stream",
     "text": [
      "Face 0\n",
      "yn min face: 0.15999999999999998 mp min face: 0.13999999999999999 yf min face: 0.16499999999999998\n",
      "yn min bg: 3.5 mp min bg: 3.5 yf min bg: 3.5 used mask\n",
      "yn min bbox: 0.25999999999999995 mp min bbox: 0.13999999999999999 yf min bbox: 0.16499999999999998\n",
      "yn min lbbox: 0.12 mp min lbbox: 0.13499999999999998 yf min lbbox: 0.12\n",
      "093991.jpg\n",
      "093992.jpg\n",
      "093993.jpg\n"
     ]
    },
    {
     "name": "stderr",
     "output_type": "stream",
     "text": [
      "C:\\Users\\amosc\\AppData\\Local\\Temp\\ipykernel_1464\\3427317803.py:205: FutureWarning: The frame.append method is deprecated and will be removed from pandas in a future version. Use pandas.concat instead.\n",
      "  df = df.append(row, ignore_index=True) #append the attributes of one face to the dataframe\n"
     ]
    },
    {
     "name": "stdout",
     "output_type": "stream",
     "text": [
      "Face 0\n",
      "yn min face: 0.16499999999999998 mp min face: 0.25499999999999995 yf min face: 0.23999999999999996\n",
      "yn min bg: 3.5 mp min bg: 3.5 yf min bg: 3.5 used mask\n",
      "yn min bbox: 0.13999999999999999 mp min bbox: 0.21499999999999997 yf min bbox: 0.18499999999999997\n",
      "yn min lbbox: 0.12999999999999998 mp min lbbox: 0.18499999999999997 yf min lbbox: 0.15499999999999997\n",
      "093994.jpg\n",
      "093995.jpg\n",
      "093996.jpg\n",
      "093997.jpg\n",
      "093998.jpg\n",
      "093999.jpg\n",
      "094000.jpg\n"
     ]
    },
    {
     "name": "stderr",
     "output_type": "stream",
     "text": [
      "C:\\Users\\amosc\\AppData\\Local\\Temp\\ipykernel_1464\\3427317803.py:205: FutureWarning: The frame.append method is deprecated and will be removed from pandas in a future version. Use pandas.concat instead.\n",
      "  df = df.append(row, ignore_index=True) #append the attributes of one face to the dataframe\n"
     ]
    }
   ],
   "source": [
    "folders = []\n",
    "fails = []\n",
    "folders = [\"img_celeba_94\", \"img_celeba_93\"]\n",
    "OUTPUT_FOLDER = os.path.join(os.getcwd(), \"faceseg-outs\")\n",
    "\n",
    "REF_SET = pd.read_csv(os.path.join(os.getcwd(), 'reference_dataset.csv'), index_col=0)\n",
    "REF_SET.reset_index()\n",
    "REF_SET.head()\n",
    "\n",
    "for FOLDER_NAME in folders:\n",
    "    INPUT_PATH = os.path.join(os.getcwd(), 'images', FOLDER_NAME)\n",
    "    FOLDER_PATH = os.path.join(OUTPUT_FOLDER, FOLDER_NAME)\n",
    "    CSV_PATH = os.path.join(FOLDER_PATH, FOLDER_NAME + '_CSV')\n",
    "    RESTORED_MASK_PATH = os.path.join(FOLDER_PATH, FOLDER_NAME + '_restored_mask')\n",
    "    PERTURBED_OUTS = os.path.join(FOLDER_PATH, FOLDER_NAME + \"_perturbed_outs\")\n",
    "    \n",
    "    if not os.path.exists(PERTURBED_OUTS):\n",
    "        os.mkdir(PERTURBED_OUTS)\n",
    "    \n",
    "    CSV_FILE = \"\"\n",
    "    for file in os.listdir(CSV_PATH):\n",
    "        if \"dataset_pixels\" in file and file.endswith(\".csv\"):\n",
    "            CSV_FILE = os.path.join(os.getcwd(), CSV_PATH, file)\n",
    "            \n",
    "    faces_df = pd.read_csv(CSV_FILE)\n",
    "    faces_df.loc[:, [\"x1\", \"y1\", \"x2\", \"y2\", \"x1_pad\", \"y1_pad\", \"x2_pad\", \"y2_pad\"]] = faces_df.loc[:, [\"x1\", \"y1\", \"x2\", \"y2\", \"x1_pad\", \"y1_pad\", \"x2_pad\", \"y2_pad\"]].clip(lower = 0)\n",
    "    \n",
    "    #print(CSV_FILE)\n",
    "    #raise ex\n",
    "    print(\"Working on\", FOLDER_NAME, \"folder\")\n",
    "    try:\n",
    "        pipeline(model, device)\n",
    "    except:\n",
    "        fails += FOLDER_NAME\n",
    "        print(\"An exception occurred\")"
   ]
  },
  {
   "cell_type": "code",
   "execution_count": 12,
   "id": "1e8e404e",
   "metadata": {},
   "outputs": [],
   "source": [
    "# from torchview import draw_graph\n",
    "# path = 'E:\\\\Documents\\\\GitHub\\\\THS-ST1\\\\images\\\\Test\\\\girl.jpg'\n",
    "\n",
    "#device, model = load_model('./weights/yolo_face_sthanhng.cfg', \"./weights/yolo_face_sthanhng.weights\")\n",
    "\n",
    "# model.eval()\n",
    "# model.gradient_mode = True\n",
    "# for yolo_layer in model.yolo_layers:\n",
    "#     yolo_layer.gradient_mode = True\n",
    "\n",
    "# # model_graph = draw_graph(model, input_size=(1, 3, 416, 416), device='meta', save_graph=True, mode='train', filename='train_graph')\n",
    "# # model_graph.visual_graph\n",
    "# data = cv2.imread(path)  # read the image\n",
    "# # print(data)\n",
    "# data = cv2.cvtColor(data, cv2.COLOR_BGR2RGB) #change to rgb\n",
    "# data = transforms.Compose([DEFAULT_TRANSFORMS,Resize(416)])((data, np.zeros((1, 5))))[0].unsqueeze(0) # transform the image\n",
    "# output1 = model(data)\n",
    "# output2 = model(data)\n",
    "# target = torch.tensor([[0.0, 0.0, 0.5, 0.5, 0.5, 0.5]])\n",
    "# target = target.to(device)\n",
    "# print(target.shape)\n",
    "# output = model(data)\n",
    "# for x in output:\n",
    "#     print(x.shape)\n",
    "\n",
    "# model.gradient_mode = False\n",
    "# for yolo_layer in model.yolo_layers:\n",
    "#     yolo_layer.gradient_mode = False\n",
    "\n",
    "# output = model(data)\n",
    "# print(output.shape)\n",
    "# # compute_loss(output, target, model)\n",
    "# # print(output.shape)\n",
    "\n",
    "# # for i, yolo_layer in enumerate(model.yolo_layers):\n",
    "# #     yolo_layer.gradient_mode = True\n",
    "# #     print(yolo_layer.gradient_mode)"
   ]
  },
  {
   "cell_type": "markdown",
   "id": "3896c248",
   "metadata": {},
   "source": [
    "##### ___"
   ]
  }
 ],
 "metadata": {
  "kernelspec": {
   "display_name": "Python 3 (ipykernel)",
   "language": "python",
   "name": "python3"
  },
  "language_info": {
   "codemirror_mode": {
    "name": "ipython",
    "version": 3
   },
   "file_extension": ".py",
   "mimetype": "text/x-python",
   "name": "python",
   "nbconvert_exporter": "python",
   "pygments_lexer": "ipython3",
   "version": "3.8.16"
  }
 },
 "nbformat": 4,
 "nbformat_minor": 5
}
