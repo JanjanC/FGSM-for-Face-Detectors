{
 "cells": [
  {
   "cell_type": "code",
   "execution_count": null,
   "id": "bdfa6365",
   "metadata": {},
   "outputs": [],
   "source": [
    "import os\n",
    "import glob\n",
    "import pandas as pd"
   ]
  },
  {
   "cell_type": "code",
   "execution_count": null,
   "id": "32109a3b",
   "metadata": {},
   "outputs": [],
   "source": [
    "#csv path is the folder containing the csv\n",
    "csv_path = os.path.join(os.getcwd(), 'CSV', '*.csv')\n",
    "# an altenative way to do it is shown below\n",
    "# csv_path = 'E:\\\\Documents\\\\Thesis\\\\CSV'\n",
    "csv_list = glob.glob(csv_path)\n",
    "df = pd.concat(map(pd.read_csv, csv_list), ignore_index=True)\n",
    "df.to_csv('compiled_features_dataset.csv', index=False)"
   ]
  },
  {
   "cell_type": "code",
   "execution_count": null,
   "id": "b960fcd9",
   "metadata": {},
   "outputs": [],
   "source": [
    "df = pd.read_csv('compiled_features_dataset.csv')"
   ]
  },
  {
   "cell_type": "code",
   "execution_count": null,
   "id": "aa397a1d",
   "metadata": {},
   "outputs": [],
   "source": [
    "for column_name in df.columns:\n",
    "    print(column_name)"
   ]
  },
  {
   "cell_type": "code",
   "execution_count": null,
   "id": "8ecd9195",
   "metadata": {},
   "outputs": [],
   "source": []
  }
 ],
 "metadata": {
  "kernelspec": {
   "display_name": "Python 3 (ipykernel)",
   "language": "python",
   "name": "python3"
  },
  "language_info": {
   "codemirror_mode": {
    "name": "ipython",
    "version": 3
   },
   "file_extension": ".py",
   "mimetype": "text/x-python",
   "name": "python",
   "nbconvert_exporter": "python",
   "pygments_lexer": "ipython3",
   "version": "3.9.13"
  }
 },
 "nbformat": 4,
 "nbformat_minor": 5
}
