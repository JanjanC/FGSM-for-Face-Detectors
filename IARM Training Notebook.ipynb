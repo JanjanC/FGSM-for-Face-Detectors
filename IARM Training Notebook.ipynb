{
 "cells": [
  {
   "cell_type": "markdown",
   "metadata": {
    "cell_id": "57f17d3047124b7698140548882d414c",
    "deepnote_cell_type": "markdown"
   },
   "source": [
    "## Preliminaries\n"
   ]
  },
  {
   "cell_type": "markdown",
   "metadata": {
    "cell_id": "5aa62a7688de47899271ff0ad5018892",
    "deepnote_cell_type": "markdown"
   },
   "source": [
    "This section imports the necessary library dependencies and sets the configurations for the randomizing seed value and number of cross-fold validation to be utilized.\n"
   ]
  },
  {
   "cell_type": "code",
   "execution_count": null,
   "metadata": {
    "cell_id": "ed67a11a927246378767589c6eb90214",
    "deepnote_cell_type": "code"
   },
   "outputs": [],
   "source": [
    "import numpy as np\n",
    "import pandas as pd\n",
    "import os\n",
    "import joblib"
   ]
  },
  {
   "cell_type": "code",
   "execution_count": null,
   "metadata": {
    "cell_id": "61c9f55c7acb4e33923c752f7ff09910",
    "deepnote_cell_type": "code",
    "deepnote_to_be_reexecuted": false,
    "execution_millis": 520,
    "execution_start": 1692022371906,
    "source_hash": null
   },
   "outputs": [],
   "source": [
    "# set the randomizing seed value\n",
    "random_state = 100\n",
    "# set the number for the cross-fold validation\n",
    "cv_folds = 5\n",
    "\n",
    "if not os.path.isdir(\"model_dumps\"):\n",
    "    os.makedirs(\"model_dumps\")"
   ]
  },
  {
   "cell_type": "markdown",
   "metadata": {
    "cell_id": "ca7be12e7f9946469560d038c8665570",
    "deepnote_cell_type": "markdown"
   },
   "source": [
    "The cell below downloads our existing dataset.\n"
   ]
  },
  {
   "cell_type": "code",
   "execution_count": null,
   "metadata": {
    "cell_id": "501916fd38fc4cb3a3debb4042e1a153",
    "deepnote_cell_type": "code"
   },
   "outputs": [],
   "source": [
    "from scripts.utils import download_weight\n",
    "download_weight(\"./min_epsilon_dataset.csv\", \"https://drive.google.com/uc?export=download&id=14qjnVqEqE0pqzsYsjuHIQCGW7emyVazu\")"
   ]
  },
  {
   "cell_type": "markdown",
   "metadata": {
    "cell_id": "1dea86815fda4203b60ede5060aeabec",
    "deepnote_cell_type": "markdown"
   },
   "source": [
    "This notebook trains and saves the weights of IARM. To load new weights, create an instance of an IARM object and set the weight location using the parameter `weight_loc`.\n"
   ]
  },
  {
   "cell_type": "markdown",
   "metadata": {
    "cell_id": "aad7bc7330b04e52aca591fb80c08ed3",
    "deepnote_cell_type": "markdown"
   },
   "source": [
    "## Data Loading\n"
   ]
  },
  {
   "cell_type": "markdown",
   "metadata": {
    "cell_id": "bc58d546f6b44c4a833d43821a754408",
    "deepnote_cell_type": "markdown"
   },
   "source": [
    "This reads and stores the downloaded csv file to a variable.\n"
   ]
  },
  {
   "cell_type": "code",
   "execution_count": null,
   "metadata": {
    "cell_id": "08858b30f2fc4ad5aeefd5a534430182",
    "deepnote_cell_type": "code",
    "scrolled": true
   },
   "outputs": [],
   "source": [
    "# set the file name of the csv file that will be used for training here\n",
    "CSV_FILENAME = \"min_epsilon_dataset.csv\"\n",
    "df_features = pd.read_csv(CSV_FILENAME)\n",
    "df_features.head()"
   ]
  },
  {
   "cell_type": "markdown",
   "metadata": {
    "cell_id": "41ba205e5d1b4daab133a4d62bf74720",
    "deepnote_cell_type": "markdown",
    "deepnote_to_be_reexecuted": false,
    "execution_millis": 15,
    "execution_start": 1692022487906,
    "source_hash": "8f5eae80"
   },
   "source": [
    "## Feature Transformation\n"
   ]
  },
  {
   "cell_type": "markdown",
   "metadata": {
    "cell_id": "f15309806c8e43cfbe9d1b5024bd0860",
    "deepnote_cell_type": "markdown"
   },
   "source": [
    "The cells below `string` datatypes into `numeric` numeric datatypes.\n"
   ]
  },
  {
   "cell_type": "code",
   "execution_count": null,
   "metadata": {
    "cell_id": "00614ad7c48a47e49b64d5fd6825858d",
    "deepnote_cell_type": "code",
    "deepnote_to_be_reexecuted": false,
    "execution_millis": 1313,
    "execution_start": 1692021979703,
    "source_hash": null
   },
   "outputs": [],
   "source": [
    "from sklearn.preprocessing import LabelEncoder\n",
    "from sklearn.model_selection import train_test_split"
   ]
  },
  {
   "cell_type": "code",
   "execution_count": null,
   "metadata": {
    "cell_id": "160908e261a64f3c9d753184fabcee79",
    "deepnote_cell_type": "code"
   },
   "outputs": [],
   "source": [
    "encoder = LabelEncoder()\n",
    "categorical_columns = df_features.select_dtypes(include=[bool, object]).columns\n",
    "encoded_columns = df_features[categorical_columns].apply(encoder.fit_transform)\n",
    "encoded_columns"
   ]
  },
  {
   "cell_type": "code",
   "execution_count": null,
   "metadata": {
    "cell_id": "7096ae474024458e9d09b705e1b703d5",
    "deepnote_cell_type": "code"
   },
   "outputs": [],
   "source": [
    "df_encoded_features = df_features.copy()\n",
    "df_encoded_features[categorical_columns] = encoded_columns\n",
    "df_encoded_features"
   ]
  },
  {
   "cell_type": "markdown",
   "metadata": {
    "cell_id": "2703e96d2cea449aa9f7accc0870fedc",
    "deepnote_cell_type": "markdown",
    "deepnote_to_be_reexecuted": false,
    "execution_millis": 85,
    "execution_start": 1692022530810,
    "source_hash": "9ff9888f"
   },
   "source": [
    "## Features and Labels\n"
   ]
  },
  {
   "cell_type": "markdown",
   "metadata": {
    "cell_id": "7b785de557804a73a132d7b20780fc66",
    "deepnote_cell_type": "markdown"
   },
   "source": [
    "Split into X (features) and Y (labels).\n"
   ]
  },
  {
   "cell_type": "code",
   "execution_count": null,
   "metadata": {
    "cell_id": "41121194920b4f07a532f869e21b731b",
    "deepnote_cell_type": "code"
   },
   "outputs": [],
   "source": [
    "feat_regions = [\"bbox\", \"mask\"]\n",
    "non_color_features = [\"w\", \"h\", \"x\", \"y\", \"obj_score\", \"class_score\"]\n",
    "\n",
    "color_channels = {\n",
    "    \"RGB\": (\"R_BIN_\", \"G_BIN_\", \"B_BIN_\"),\n",
    "    \"HSV\": (\"H_HSV_BIN_\", \"S_HSV_BIN_\", \"V_HSV_BIN_\"),\n",
    "    \"HSL\": (\"H_HSL_BIN_\", \"S_HSL_BIN_\", \"L_HSL_BIN_\"),\n",
    "    \"LAB\": (\"L_LAB_BIN_\", \"A_LAB_BIN_\", \"B_LAB_BIN_\"),\n",
    "    \"YCBCR\": (\"Y_BIN_\", \"CR_BIN_\", \"CB_BIN_\"),\n",
    "}\n",
    "\n",
    "label_regions = [\"lbbox\", \"bbox\", \"face\"]"
   ]
  },
  {
   "cell_type": "code",
   "execution_count": null,
   "metadata": {
    "cell_id": "534bcd88866c4d669099be28aa7debb1",
    "deepnote_cell_type": "code"
   },
   "outputs": [],
   "source": [
    "# this function generates the list of features with its corresponding bins given the configuration of color_space, region, label_model, and label_region.\n",
    "def get_features_and_label(color_space, region, label_model=\"yf\", label_region=None):\n",
    "    if label_region is None:\n",
    "        label_region = region if region != \"mask\" else \"face\"\n",
    "        \n",
    "    features = list(non_color_features)\n",
    "    for color_channel in color_channels[color_space]: \n",
    "        features += [color_channel + region + \"_\" + str(i) for i in range(26)]\n",
    "    features += [\"LBP_BIN_\" + region + \"_\" + str(i) for i in range(26)]\n",
    "    features += [\"SOBELX_BIN_\" + region + \"_\" + str(i) for i in range(20)]\n",
    "    features += [\"SOBELY_BIN_\" + region + \"_\" + str(i) for i in range(20)]\n",
    "    features += [\"SOBEL_BIN_\" + region + \"_\" + str(i) for i in range(20)]\n",
    "    \n",
    "    return features, \"e_\" + label_region + \"_\" + label_model"
   ]
  },
  {
   "cell_type": "markdown",
   "metadata": {
    "cell_id": "e0cf4959f4ac45dab2888270b72d4892",
    "deepnote_cell_type": "markdown"
   },
   "source": [
    "## Base Models\n"
   ]
  },
  {
   "cell_type": "markdown",
   "metadata": {
    "cell_id": "3fc71aa1e78848f0bff67e92cb094593",
    "deepnote_cell_type": "markdown"
   },
   "source": [
    "### Model Evaluation Functions\n"
   ]
  },
  {
   "cell_type": "markdown",
   "metadata": {
    "cell_id": "a1129e3a9b514b07a063ef8066acc054",
    "deepnote_cell_type": "markdown"
   },
   "source": [
    "This imports the regression models to be considered (i.e. `RandomForestRegressor`, `SVR`, and `MLPRegressor`).\n"
   ]
  },
  {
   "cell_type": "code",
   "execution_count": null,
   "metadata": {
    "cell_id": "dbc9d0654a73400ca7f6acea105b6736",
    "deepnote_cell_type": "code"
   },
   "outputs": [],
   "source": [
    "from sklearn.ensemble import RandomForestRegressor\n",
    "from sklearn.svm import SVR\n",
    "from sklearn.neural_network import MLPRegressor\n",
    "from sklearn.metrics import make_scorer"
   ]
  },
  {
   "cell_type": "markdown",
   "metadata": {
    "cell_id": "76e4d610ea104a9198ef0a8fc76e6458",
    "deepnote_cell_type": "markdown"
   },
   "source": [
    "The function is the definition for computing the root mean squared error function defined as $\\sqrt{\\bar{(\\hat{y}-y)^2}}$\n"
   ]
  },
  {
   "cell_type": "code",
   "execution_count": null,
   "metadata": {
    "cell_id": "3be1af6458c045cb88527c2d95a23700",
    "deepnote_cell_type": "code"
   },
   "outputs": [],
   "source": [
    "def rmse(actual, predictions):\n",
    "    return np.sqrt(np.mean(np.square(predictions - actual)))"
   ]
  },
  {
   "cell_type": "markdown",
   "metadata": {
    "cell_id": "f401f71b5d8643ba9b8c91f7f82613cb",
    "deepnote_cell_type": "markdown"
   },
   "source": [
    "The function is the definition for computing the mean absolute error function defined as $\\bar{|\\hat{y}-y|}$\n"
   ]
  },
  {
   "cell_type": "code",
   "execution_count": null,
   "metadata": {
    "cell_id": "f24c651f0c5d44e5868303a703dde401",
    "deepnote_cell_type": "code"
   },
   "outputs": [],
   "source": [
    "def mae(actual, predictions):\n",
    "    return np.mean(np.abs(predictions - actual))"
   ]
  },
  {
   "cell_type": "markdown",
   "metadata": {
    "cell_id": "97186e9ad30444d5905ac3f687928750",
    "deepnote_cell_type": "markdown"
   },
   "source": [
    "The function is the definition for computing the mean positive error (MPE). The mean positive error is defined as the average error while disregarding underpredictions.\n"
   ]
  },
  {
   "cell_type": "code",
   "execution_count": null,
   "metadata": {
    "cell_id": "dbbb6be6a76c4bf4807888494fbbc840",
    "deepnote_cell_type": "code"
   },
   "outputs": [],
   "source": [
    "def positive_error(actual, pred):\n",
    "    total = 0\n",
    "    count = 0\n",
    "    for a,b in zip(pred, actual):\n",
    "        if a > b:\n",
    "            total += a - b\n",
    "            count += 1\n",
    "    if count == 0:\n",
    "        return 0\n",
    "    return total / count"
   ]
  },
  {
   "cell_type": "markdown",
   "metadata": {
    "cell_id": "ff01ec83122a40b5b0658d178a8d9c35",
    "deepnote_cell_type": "markdown"
   },
   "source": [
    "The function is the definition for computing the concealment ratio (CR) which denotes the count of successfully predicted concealed faces over the entire count of actual concealed faces.\n"
   ]
  },
  {
   "cell_type": "code",
   "execution_count": null,
   "metadata": {
    "cell_id": "f43ac7232d2c4c63be5a22dd01cd1c34",
    "deepnote_cell_type": "code"
   },
   "outputs": [],
   "source": [
    "def concealment_ratio(actual, pred):\n",
    "    count = 0\n",
    "    for a, b in zip(pred, actual):\n",
    "        if a >= b:\n",
    "            count+= 1\n",
    "            \n",
    "    return count / len(actual)"
   ]
  },
  {
   "cell_type": "markdown",
   "metadata": {
    "cell_id": "968d2e21f75f47e7bdf11413d5faadcd",
    "deepnote_cell_type": "markdown"
   },
   "source": [
    "The function defines a custom scorer using MPE and CR as its evaluation metrics. It is used when comparing different models trained with different hyperparameters. It has a penalty value which is used to balance whether MPE or CR is given more priority when scoring.\n"
   ]
  },
  {
   "cell_type": "code",
   "execution_count": null,
   "metadata": {
    "cell_id": "5694179c2a0a49f789f0db2f562191ea",
    "deepnote_cell_type": "code"
   },
   "outputs": [],
   "source": [
    "def custom_scorer(y_true, y_pred, penalty=1):\n",
    "    pmae = positive_error(y_true, y_pred)\n",
    "    concealment = concealment_ratio(y_true, y_pred)\n",
    "    \n",
    "    pmae_target = np.mean(y_train)\n",
    "    \n",
    "    pmae_norm = pmae / pmae_target\n",
    "    \n",
    "    return concealment - (pmae_norm * penalty)\n",
    "    \n",
    "concealment_scorer = make_scorer(custom_scorer, greater_is_better=True)"
   ]
  },
  {
   "cell_type": "markdown",
   "metadata": {
    "cell_id": "e12689cabd104ab5bbcaceead7284464",
    "deepnote_cell_type": "markdown"
   },
   "source": [
    "## Model Training w/ Hyperparameter Tuning + Feature Selection\n"
   ]
  },
  {
   "cell_type": "markdown",
   "metadata": {
    "cell_id": "5387be37643e43f1ad835c3a470a5429",
    "deepnote_cell_type": "text-cell-p",
    "formattedRanges": []
   },
   "source": [
    "Select which labels and which color space attributes to use for training\n"
   ]
  },
  {
   "cell_type": "code",
   "execution_count": null,
   "metadata": {
    "cell_id": "a42bd1c97cd145fd92b41551f1e21361",
    "deepnote_cell_type": "code",
    "deepnote_to_be_reexecuted": false,
    "execution_millis": 131,
    "execution_start": 1692023489487,
    "source_hash": null
   },
   "outputs": [],
   "source": [
    "CHOSEN_COLOR_SPACE = \"HSV\" #<-- pick a colorspace\n",
    "CHOSEN_REGION = \"bbox\" #lbbox next\n",
    "\n",
    "features, _ = get_features_and_label(CHOSEN_COLOR_SPACE, CHOSEN_REGION)\n",
    "label = \"e_face_yf\" #\"e_bbox_mp\"  #<-- pick label\n",
    "\n",
    "X_features =  df_encoded_features.loc[:,  features]\n",
    "y_features = df_encoded_features.loc[:, label].values\n",
    "\n",
    "# train-test split\n",
    "X_train, X_test, y_train, y_test = train_test_split(X_features, y_features, test_size = 0.2, random_state=random_state)"
   ]
  },
  {
   "cell_type": "code",
   "execution_count": null,
   "metadata": {
    "cell_id": "3ce8821eea8c4f9dbf7d5b995d305d5d",
    "deepnote_cell_type": "code"
   },
   "outputs": [],
   "source": [
    "# from sklearn.model_selection import GridSearchCV\n",
    "from sklearn.metrics import accuracy_score\n",
    "from skopt import BayesSearchCV\n",
    "from skopt.space import Real, Categorical, Integer\n",
    "from sklearn.pipeline import Pipeline\n",
    "from sklearn.feature_selection import SelectKBest, f_regression\n",
    "from sklearn.base import clone as clone_model"
   ]
  },
  {
   "cell_type": "markdown",
   "metadata": {
    "cell_id": "3e25af30003d436994840d5169afa1f8",
    "deepnote_cell_type": "markdown"
   },
   "source": [
    "### Random Forest\n"
   ]
  },
  {
   "cell_type": "markdown",
   "metadata": {
    "cell_id": "101416015d564e2196aa5e0d4ee1603f",
    "deepnote_cell_type": "markdown"
   },
   "source": [
    "#### Bayesian Optimization\n"
   ]
  },
  {
   "cell_type": "markdown",
   "metadata": {
    "cell_id": "14bc8207262e44f6b566b6393e3de148",
    "deepnote_cell_type": "markdown"
   },
   "source": [
    "This defines the search space configurations to be used for the `Bayesian Optimization` search for `RandomForestRegressor`.\n"
   ]
  },
  {
   "cell_type": "code",
   "execution_count": null,
   "metadata": {
    "cell_id": "1c72ea95ecb448be8f395d68604573c3",
    "deepnote_cell_type": "code"
   },
   "outputs": [],
   "source": [
    "search_space = {\n",
    "    \"n_estimators\": Integer(100, 350),\n",
    "    \"criterion\": Categorical([\"squared_error\", \"absolute_error\", \"friedman_mse\", \"poisson\"]),\n",
    "    \"max_depth\": Integer(1, 300),\n",
    "    \"min_samples_split\": Integer(2, 32),\n",
    "    \"min_samples_leaf\": Integer(1, 20),\n",
    "    \"max_features\": Categorical([None, \"sqrt\", \"log2\", 0.25, 0.5, 0.75]),\n",
    "    \"max_leaf_nodes\": Integer(50, 300),\n",
    "    \"min_impurity_decrease\": Real(0.0, 2.0),\n",
    "    \"bootstrap\": Categorical([False, True]),\n",
    "    \"ccp_alpha\": Real(0.0, 2.0),\n",
    "}"
   ]
  },
  {
   "cell_type": "markdown",
   "metadata": {
    "cell_id": "6751d79443f94bf39b5efb8d89fada29",
    "deepnote_cell_type": "markdown"
   },
   "source": [
    "This trains a random forest regressor while also performing hyperparameter tuning.\n"
   ]
  },
  {
   "cell_type": "code",
   "execution_count": null,
   "metadata": {
    "cell_id": "9310b3fb2751431e93fd06effd4a46b2",
    "deepnote_cell_type": "code",
    "scrolled": true
   },
   "outputs": [],
   "source": [
    "rfr = RandomForestRegressor()\n",
    "bo_rfr = BayesSearchCV(rfr, search_space, n_iter=50, n_jobs=-1, cv=cv_folds, random_state=random_state, verbose=2, scoring=concealment_scorer)\n",
    "bo_rfr.fit(X_train, y_train)\n",
    "\n",
    "joblib.dump(bo_rfr, \"model_dumps/rfr_tuned_\" + CHOSEN_COLOR_SPACE + \"_\" + CHOSEN_REGION + \"_\" + label + \".pkl\") "
   ]
  },
  {
   "cell_type": "markdown",
   "metadata": {
    "cell_id": "7ca71942bd9e41fb913bb756a5630e9b",
    "deepnote_cell_type": "markdown"
   },
   "source": [
    "This computes for the performance of the trained model using the defined performance metrics.\n"
   ]
  },
  {
   "cell_type": "code",
   "execution_count": null,
   "metadata": {
    "cell_id": "afbe80d29d8a443c9eff7f8eaab71897",
    "deepnote_cell_type": "code"
   },
   "outputs": [],
   "source": [
    "print('Best parameters found:\\n', bo_rfr.best_params_)\n",
    "\n",
    "print('Test')\n",
    "y_pred = bo_rfr.predict(X_test)\n",
    "print(\"RMSE: \", rmse(y_test, y_pred))\n",
    "print(\"MAE: \", mae(y_test, y_pred))\n",
    "print(\"Positive Error\", positive_error(y_test, y_pred))\n",
    "print(\"Concealment Ratio\", concealment_ratio(y_test, y_pred))\n",
    "\n",
    "print('Train')\n",
    "y_pred = bo_rfr.predict(X_train)\n",
    "print(\"RMSE: \", rmse(y_train, y_pred))\n",
    "print(\"MAE: \", mae(y_train, y_pred))\n",
    "print(\"Positive Error\", positive_error(y_train, y_pred))\n",
    "print(\"Concealment Ratio\", concealment_ratio(y_train, y_pred))"
   ]
  },
  {
   "cell_type": "markdown",
   "metadata": {
    "cell_id": "be64f8b158e7481ab1eb14cf7c3af2af",
    "deepnote_cell_type": "markdown"
   },
   "source": [
    "### Feature Selection\n"
   ]
  },
  {
   "cell_type": "markdown",
   "metadata": {
    "cell_id": "57ada99a5b0c48989b2a405f801bf235",
    "deepnote_cell_type": "markdown"
   },
   "source": [
    "The cell below illustrates method for training the model with a subset of the data. It selects the subsets of data to train with by select the top K best features determined using `f_regression` statistical analysis. The value of K is treated as a hyperparameter to be determined by the Bayesian Optimization search.\n"
   ]
  },
  {
   "cell_type": "code",
   "execution_count": null,
   "metadata": {
    "cell_id": "46bedb43a2324250a3a6b673928837d2",
    "deepnote_cell_type": "code"
   },
   "outputs": [],
   "source": [
    "rfr = RandomForestRegressor()\n",
    "pipe = Pipeline([('selector', SelectKBest(f_regression)), ('rfr', rfr)])\n",
    "\n",
    "search_space = {\n",
    "    \"selector__k\": Integer(X_train.shape[1] // 2, X_train.shape[1] - 1),\n",
    "    \"rfr__n_estimators\": Integer(100, 350),\n",
    "    \"rfr__criterion\": Categorical([\"squared_error\", \"absolute_error\", \"friedman_mse\", \"poisson\"]),\n",
    "    \"rfr__max_depth\": Integer(1, 300),\n",
    "    \"rfr__min_samples_split\": Integer(2, 32),\n",
    "    \"rfr__min_samples_leaf\": Integer(1, 20),\n",
    "    \"rfr__max_features\": Categorical([None, \"sqrt\", \"log2\", 0.25, 0.5, 0.75]),\n",
    "    \"rfr__max_leaf_nodes\": Integer(50, 300),\n",
    "    \"rfr__min_impurity_decrease\": Real(0.0, 2.0),\n",
    "    \"rfr__bootstrap\": Categorical([False, True]),\n",
    "    \"rfr__ccp_alpha\": Real(0.0, 2.0),\n",
    "}\n",
    "\n",
    "bo_rfr = BayesSearchCV(pipe, search_space, n_iter=75, n_jobs=-1, cv=cv_folds, random_state=random_state, scoring=concealment_scorer)\n",
    "bo_rfr.fit(X_train, y_train)\n",
    "joblib.dump(bo_rfr, \"model_dumps/rfr_tunedfs_bo_\" + CHOSEN_COLOR_SPACE + \"_\" + CHOSEN_REGION + \"_\" + label + \".pkl\") \n",
    "\n",
    "selected_feat = bo_rfr.best_estimator_.named_steps[\"selector\"].get_support()\n",
    "best_rfr = clone_model(bo_rfr.best_estimator_)\n",
    "best_rfr.fit(X_train, y_train)\n",
    "joblib.dump(best_rfr, \"model_dumps/rfr_tunedfs_\" + CHOSEN_COLOR_SPACE + \"_\" + CHOSEN_REGION + \"_\" + label + \".pkl\") "
   ]
  },
  {
   "cell_type": "markdown",
   "metadata": {
    "cell_id": "c5c48499aaa14b47abd57429889e7a10",
    "deepnote_cell_type": "markdown"
   },
   "source": [
    "This computes for the performance of the trained model using the defined performance metrics.\n"
   ]
  },
  {
   "cell_type": "code",
   "execution_count": null,
   "metadata": {
    "cell_id": "7a9ccd8ab18a401bba10ab87120e8e06",
    "deepnote_cell_type": "code"
   },
   "outputs": [],
   "source": [
    "print('Best params:\\n', bo_rfr.best_params_)\n",
    "print('Best features found:\\n', X_train.columns[selected_feat])\n",
    "\n",
    "print(\"Test\")\n",
    "y_pred = best_rfr.predict(X_test)\n",
    "print(\"RMSE: \", rmse(y_test, y_pred))\n",
    "print(\"MAE: \", mae(y_test, y_pred))\n",
    "print(\"Positive Error\", positive_error(y_test, y_pred))\n",
    "print(\"Concealment Ratio\", concealment_ratio(y_test, y_pred))\n",
    "\n",
    "print(\"Train\")\n",
    "y_pred = best_rfr.predict(X_train)\n",
    "print(\"RMSE: \", rmse(y_train, y_pred))\n",
    "print(\"MAE: \", mae(y_train, y_pred))\n",
    "print(\"Positive Error\", positive_error(y_train, y_pred))\n",
    "print(\"Concealment Ratio\", concealment_ratio(y_train, y_pred))"
   ]
  },
  {
   "cell_type": "markdown",
   "metadata": {
    "cell_id": "140397f397df43cba19100c0d0f37a43",
    "deepnote_cell_type": "markdown"
   },
   "source": [
    "### Support Vector Machine\n"
   ]
  },
  {
   "cell_type": "markdown",
   "metadata": {
    "cell_id": "e5f63f966c5642c695eff29e339f62c5",
    "deepnote_cell_type": "markdown"
   },
   "source": [
    "#### Bayesian Optimization\n"
   ]
  },
  {
   "cell_type": "markdown",
   "metadata": {
    "cell_id": "d9d3604c7947439fad6e8d0fd40e1492",
    "deepnote_cell_type": "markdown"
   },
   "source": [
    "This defines the search space configurations to be used for the `Bayesian Optimization` search for `SVM`.\n"
   ]
  },
  {
   "cell_type": "code",
   "execution_count": null,
   "metadata": {
    "cell_id": "789d3e44e67e4535b000f0362518abc9",
    "deepnote_cell_type": "code"
   },
   "outputs": [],
   "source": [
    "search_space = {\n",
    "    \"kernel\": Categorical([\"linear\", \"poly\", \"rbf\", \"sigmoid\"]),\n",
    "    \"degree\": Integer(3, 20),\n",
    "    \"gamma\": Categorical([\"auto\", \"scale\"]),\n",
    "    \"coef0\": Real(0.0, 5.0),\n",
    "    \"tol\": Real(0.0001, 0.1),\n",
    "    \"C\": Real(0.0001, 1000.0),\n",
    "    \"epsilon\": Real(0.05, .5),\n",
    "    \"shrinking\": Categorical([False, True]),\n",
    "    \"max_iter\": Integer(100, 5000),\n",
    "}"
   ]
  },
  {
   "cell_type": "markdown",
   "metadata": {
    "cell_id": "bf9fa8dc7a0646faa2630433d9852d3c",
    "deepnote_cell_type": "markdown"
   },
   "source": [
    "This trains a support vector machine while also performing hyperparameter tuning.\n"
   ]
  },
  {
   "cell_type": "code",
   "execution_count": null,
   "metadata": {
    "cell_id": "e850ceba1b614f87a63a5e593d37ba2a",
    "deepnote_cell_type": "code",
    "scrolled": true
   },
   "outputs": [],
   "source": [
    "svr = SVR()\n",
    "bo_svr = BayesSearchCV(svr, search_space, n_iter=50, n_jobs=-1, cv=cv_folds, random_state=random_state, verbose=2, scoring=concealment_scorer)\n",
    "bo_svr.fit(X_train, y_train)\n",
    "\n",
    "joblib.dump(bo_svr, \"model_dumps/svr_tuned_\" + CHOSEN_COLOR_SPACE + \"_\" + CHOSEN_REGION + \"_\" + label + \".pkl\") "
   ]
  },
  {
   "cell_type": "code",
   "execution_count": null,
   "metadata": {
    "cell_id": "0557088f12c74282a01ee1f8bcfbda6b",
    "deepnote_cell_type": "code"
   },
   "outputs": [],
   "source": [
    "This computes for the performance of the trained model using the defined performance metrics."
   ]
  },
  {
   "cell_type": "code",
   "execution_count": null,
   "metadata": {
    "cell_id": "78e865c62970448fa8983daec0a1f6ac",
    "deepnote_cell_type": "code"
   },
   "outputs": [],
   "source": [
    "print('Best parameters found:\\n', bo_svr.best_params_)\n",
    "\n",
    "print('Test')\n",
    "y_pred = bo_svr.predict(X_test)\n",
    "print(\"RMSE: \", rmse(y_test, y_pred))\n",
    "print(\"MAE: \", mae(y_test, y_pred))\n",
    "print(\"Positive Error\", positive_error(y_test, y_pred))\n",
    "print(\"Concealment Ratio\", concealment_ratio(y_test, y_pred))\n",
    "\n",
    "print('Train')\n",
    "y_pred = bo_svr.predict(X_train)\n",
    "print(\"RMSE: \", rmse(y_train, y_pred))\n",
    "print(\"MAE: \", mae(y_train, y_pred))\n",
    "print(\"Positive Error\", positive_error(y_train, y_pred))\n",
    "print(\"Concealment Ratio\", concealment_ratio(y_train, y_pred))"
   ]
  },
  {
   "cell_type": "markdown",
   "metadata": {
    "cell_id": "d03a00452b654561a7cf8f01ab0976a7",
    "deepnote_cell_type": "markdown"
   },
   "source": [
    "### Feature Selection\n"
   ]
  },
  {
   "cell_type": "markdown",
   "metadata": {
    "cell_id": "15b3be3daad94189b3b48a66ea37e264",
    "deepnote_cell_type": "markdown"
   },
   "source": [
    "The cell below illustrates method for training the model with a subset of the data. It selects the subsets of data to train with by select the top K best features determined using `f_regression` statistical analysis. The value of K is treated as a hyperparameter to be determined by the Bayesian Optimization search.\n"
   ]
  },
  {
   "cell_type": "code",
   "execution_count": null,
   "metadata": {
    "cell_id": "82f434f7303a4cd0b0848f56b2a01113",
    "deepnote_cell_type": "code"
   },
   "outputs": [],
   "source": [
    "svr = SVR()\n",
    "pipe = Pipeline([('selector', SelectKBest(f_regression)), ('svr', svr)])\n",
    "\n",
    "search_space = {\n",
    "    \"selector__k\": Integer(X_train.shape[1] // 2, X_train.shape[1] - 1),\n",
    "    \"svr__kernel\": Categorical([\"linear\", \"poly\", \"rbf\", \"sigmoid\"]),\n",
    "    \"svr__degree\": Integer(3, 20),\n",
    "    \"svr__gamma\": Categorical([\"auto\", \"scale\"]),\n",
    "    \"svr__coef0\": Real(0.0, 5.0),\n",
    "    \"svr__tol\": Real(0.0001, 0.1),\n",
    "    \"svr__C\": Real(0.0001, 1000.0),\n",
    "    \"svr__epsilon\": Real(0.05, .5),\n",
    "    \"svr__shrinking\": Categorical([False, True]),\n",
    "    \"svr__max_iter\": Integer(100, 5000),\n",
    "}\n",
    "\n",
    "bo_svr = BayesSearchCV(pipe, search_space, n_iter=75, n_jobs=-1, cv=cv_folds, random_state=random_state, scoring=concealment_scorer)\n",
    "bo_svr.fit(X_train, y_train)\n",
    "joblib.dump(bo_svr, \"model_dumps/svr_tunedfs_bo_\" + CHOSEN_COLOR_SPACE + \"_\" + CHOSEN_REGION + \"_\" + label + \".pkl\") \n",
    "\n",
    "selected_feat = bo_svr.best_estimator_.named_steps[\"selector\"].get_support()\n",
    "best_svr = clone_model(bo_svr.best_estimator_)\n",
    "best_svr.fit(X_train, y_train)\n",
    "joblib.dump(best_svr, \"model_dumps/svr_tunedfs_\" + CHOSEN_COLOR_SPACE + \"_\" + CHOSEN_REGION + \"_\" + label + \".pkl\") "
   ]
  },
  {
   "cell_type": "markdown",
   "metadata": {
    "cell_id": "1f58daf36b864285a74416dca8f10fea",
    "deepnote_cell_type": "markdown"
   },
   "source": [
    "This computes for the performance of the trained model using the defined performance metrics.\n"
   ]
  },
  {
   "cell_type": "code",
   "execution_count": null,
   "metadata": {
    "cell_id": "a12d628019894a28a996028dbf7f386d",
    "deepnote_cell_type": "code"
   },
   "outputs": [],
   "source": [
    "print('Best params:\\n', bo_svr.best_params_)\n",
    "print('Best features found:\\n', X_train.columns[selected_feat])\n",
    "\n",
    "print(\"Test\")\n",
    "y_pred = best_svr.predict(X_test)\n",
    "print(\"RMSE: \", rmse(y_test, y_pred))\n",
    "print(\"MAE: \", mae(y_test, y_pred))\n",
    "print(\"Positive Error\", positive_error(y_test, y_pred))\n",
    "print(\"Concealment Ratio\", concealment_ratio(y_test, y_pred))\n",
    "\n",
    "print(\"Train\")\n",
    "y_pred = best_svr.predict(X_train)\n",
    "print(\"RMSE: \", rmse(y_train, y_pred))\n",
    "print(\"MAE: \", mae(y_train, y_pred))\n",
    "print(\"Positive Error\", positive_error(y_train, y_pred))\n",
    "print(\"Concealment Ratio\", concealment_ratio(y_train, y_pred))"
   ]
  },
  {
   "cell_type": "markdown",
   "metadata": {
    "cell_id": "c3ec4311a889404baf13077471157441",
    "deepnote_cell_type": "markdown"
   },
   "source": [
    "### Multilayer Perceptron\n"
   ]
  },
  {
   "cell_type": "markdown",
   "metadata": {
    "cell_id": "5cce697c9d4b428ba733700ede876e9a",
    "deepnote_cell_type": "markdown"
   },
   "source": [
    "#### Bayesian Optimization With No Custom Loss\n"
   ]
  },
  {
   "cell_type": "markdown",
   "metadata": {
    "cell_id": "7053730e0bbe4077894bcdf5f9addfe0",
    "deepnote_cell_type": "markdown"
   },
   "source": [
    "This defines the search space configurations to be used for the `Bayesian Optimization` search for `MLPRegressor`.\n"
   ]
  },
  {
   "cell_type": "code",
   "execution_count": null,
   "metadata": {
    "cell_id": "d12a59f0d8af46ed838b42fb349ad0a0",
    "deepnote_cell_type": "code"
   },
   "outputs": [],
   "source": [
    "hidden_sz = X_train.shape[1] * 2 // 3 + 1\n",
    "search_space = {\n",
    "    \"activation\": Categorical([\"identity\", \"logistic\", \"tanh\", \"relu\"]),\n",
    "    \"solver\": Categorical([\"lbfgs\", \"adam\", \"sgd\"]),\n",
    "    \"alpha\": Real(0.00001, 0.001),\n",
    "    \"learning_rate\": Categorical([\"constant\", \"invscaling\", \"adaptive\"]),\n",
    "    \"learning_rate_init\": Real(0.0005, 0.005),\n",
    "    \"max_iter\": Integer(200, 1000),\n",
    "    \"tol\": Real(0.0001, 0.1),\n",
    "    \"momentum\": Real(0.75, 0.9),\n",
    "    \"nesterovs_momentum\": Categorical([False, True]),\n",
    "    \"early_stopping\": Categorical([False, True]),\n",
    "    \"validation_fraction\": Real(0.1, 0.15),\n",
    "    \"beta_1\": Real(0.75, 0.9),\n",
    "    \"beta_2\": Real(0.85, 0.999),\n",
    "    \"epsilon\": Real(1e-08, 1e-07),\n",
    "    \"max_fun\": Integer(10000, 15000),\n",
    "}"
   ]
  },
  {
   "cell_type": "markdown",
   "metadata": {
    "cell_id": "efdbbce268904bf09f111aaad4aab58b",
    "deepnote_cell_type": "markdown"
   },
   "source": [
    "This trains a multilayer perceptron using the default loss function while also performing hyperparameter tuning.\n"
   ]
  },
  {
   "cell_type": "code",
   "execution_count": null,
   "metadata": {
    "cell_id": "c54b3ae4c6d346e6a359063589db8894",
    "deepnote_cell_type": "code",
    "scrolled": true
   },
   "outputs": [],
   "source": [
    "concealment_scorer = make_scorer(custom_scorer, greater_is_better=True, penalty=1.1578947368421053)\n",
    "mpr = MLPRegressor(random_state=random_state, hidden_layer_sizes=(hidden_sz, hidden_sz * 2 // 3))\n",
    "bo_mpr = BayesSearchCV(mpr, search_space, n_iter=50, n_jobs=-1, cv=cv_folds, random_state=random_state, verbose=2, scoring=concealment_scorer)\n",
    "bo_mpr.fit(X_train, y_train)\n",
    "\n",
    "joblib.dump(bo_mpr, \"model_dumps/no_custom_loss\" + CHOSEN_COLOR_SPACE + \"_\" + CHOSEN_REGION + \"_\" + label + \".pkl\") "
   ]
  },
  {
   "cell_type": "markdown",
   "metadata": {
    "cell_id": "5f075f618adc4c3295457def701c9b1b",
    "deepnote_cell_type": "markdown"
   },
   "source": [
    "This computes for the performance of the trained model using the defined performance metrics.\n"
   ]
  },
  {
   "cell_type": "code",
   "execution_count": null,
   "metadata": {
    "cell_id": "d772310267c74146a10a11c4be6cb878",
    "deepnote_cell_type": "code",
    "scrolled": false
   },
   "outputs": [],
   "source": [
    "print('Best parameters found:\\n', bo_mpr.best_params_)\n",
    "\n",
    "print(\"Test\")\n",
    "y_pred = bo_mpr.predict(X_test)\n",
    "print(\"RMSE\", rmse(y_test, y_pred))\n",
    "print(\"MAE\", mae(y_test, y_pred))\n",
    "print(\"Positive Error\", positive_error(y_test, y_pred))\n",
    "print(\"Concealment Ratio\", concealment_ratio(y_test, y_pred))\n",
    "\n",
    "print(\"Train\")\n",
    "y_pred = bo_mpr.predict(X_train)\n",
    "print(\"RMSE\", rmse(y_train, y_pred))\n",
    "print(\"MAE\", mae(y_train, y_pred))\n",
    "print(\"Positive Error\", positive_error(y_train, y_pred))\n",
    "print(\"Concealment Ratio\", concealment_ratio(y_train, y_pred))"
   ]
  },
  {
   "cell_type": "markdown",
   "metadata": {
    "cell_id": "6f576f63ec2949cf85f6f7115a828cc0",
    "deepnote_cell_type": "markdown"
   },
   "source": [
    "### Feature Selection\n"
   ]
  },
  {
   "cell_type": "markdown",
   "metadata": {
    "cell_id": "34b1acdcd0fb4d7e92cb719111a2dc5d",
    "deepnote_cell_type": "markdown"
   },
   "source": [
    "The cell below illustrates method for training the model with a subset of the data. It selects the subsets of data to train with by select the top K best features determined using `f_regression` statistical analysis. The value of K is treated as a hyperparameter to be determined by the Bayesian Optimization search.\n"
   ]
  },
  {
   "cell_type": "code",
   "execution_count": null,
   "metadata": {
    "cell_id": "7b364521c81742009c007e3f8488dc7a",
    "deepnote_cell_type": "code"
   },
   "outputs": [],
   "source": [
    "mpr = MLPRegressor(random_state=random_state, hidden_layer_sizes=(hidden_sz, hidden_sz * 2 // 3))\n",
    "pipe = Pipeline([('selector', SelectKBest(f_regression)), ('mpr', mpr)])\n",
    "\n",
    "search_space = {\n",
    "    \"selector__k\": Integer(X_train.shape[1] // 2, X_train.shape[1] - 1),\n",
    "    \"mpr__activation\": Categorical([\"identity\", \"logistic\", \"tanh\", \"relu\"]),\n",
    "    \"mpr__solver\": Categorical([\"lbfgs\", \"adam\", \"sgd\"]),\n",
    "    \"mpr__alpha\": Real(0.00001, 0.001),\n",
    "    \"mpr__learning_rate\": Categorical([\"constant\", \"invscaling\", \"adaptive\"]),\n",
    "    \"mpr__learning_rate_init\": Real(0.0005, 0.005),\n",
    "    \"mpr__max_iter\": Integer(200, 1000),\n",
    "    \"mpr__tol\": Real(0.0001, 0.1),\n",
    "    \"mpr__momentum\": Real(0.75, 0.9),\n",
    "    \"mpr__nesterovs_momentum\": Categorical([False, True]),\n",
    "    \"mpr__early_stopping\": Categorical([False, True]),\n",
    "    \"mpr__validation_fraction\": Real(0.1, 0.15),\n",
    "    \"mpr__beta_1\": Real(0.75, 0.9),\n",
    "    \"mpr__beta_2\": Real(0.85, 0.999),\n",
    "    \"mpr__epsilon\": Real(1e-08, 1e-07),\n",
    "    \"mpr__max_fun\": Integer(10000, 15000),\n",
    "}\n",
    "\n",
    "bo_mpr = BayesSearchCV(pipe, search_space, n_iter=76, n_jobs=-1, cv=cv_folds, random_state=random_state, verbose=2, scoring=concealment_scorer)\n",
    "bo_mpr.fit(X_train, y_train)\n",
    "joblib.dump(bo_mpr, \"model_dumps/no_custom_loss_bo_fs\" + CHOSEN_COLOR_SPACE + \"_\" + CHOSEN_REGION + \"_\" + label + \".pkl\") \n",
    "\n",
    "selected_feat = bo_mpr.best_estimator_.named_steps[\"selector\"].get_support()\n",
    "best_mpr = clone_model(bo_mpr.best_estimator_)\n",
    "best_mpr.fit(X_train, y_train)\n",
    "joblib.dump(best_mpr, \"model_dumps/no_custom_loss_fs\" + CHOSEN_COLOR_SPACE + \"_\" + CHOSEN_REGION + \"_\" + label + \".pkl\") "
   ]
  },
  {
   "cell_type": "markdown",
   "metadata": {
    "cell_id": "51800e1c06b34fee866dbbee4bf203c0",
    "deepnote_cell_type": "markdown"
   },
   "source": [
    "This computes for the performance of the trained model using the defined performance metrics.\n"
   ]
  },
  {
   "cell_type": "code",
   "execution_count": null,
   "metadata": {
    "cell_id": "3956ad5f97e249b5af3cc82c92caf9df",
    "deepnote_cell_type": "code"
   },
   "outputs": [],
   "source": [
    "print('Best params:\\n', bo_mpr.best_params_)\n",
    "print('Best features found:\\n', X_train.columns[selected_feat])\n",
    "\n",
    "print(\"Test\")\n",
    "y_pred = best_mpr.predict(X_test)\n",
    "print(\"RMSE: \", rmse(y_test, y_pred))\n",
    "print(\"MAE: \", mae(y_test, y_pred))\n",
    "print(\"Positive Error\", positive_error(y_test, y_pred))\n",
    "print(\"Face Percent\", concealment_ratio(y_test, y_pred))\n",
    "\n",
    "print(\"Train\")\n",
    "y_pred = best_mpr.predict(X_train)\n",
    "print(\"RMSE: \", rmse(y_train, y_pred))\n",
    "print(\"MAE: \", mae(y_train, y_pred))\n",
    "print(\"Positive Error\", positive_error(y_train, y_pred))\n",
    "print(\"Face Percent\", concealment_ratio(y_train, y_pred))"
   ]
  },
  {
   "cell_type": "markdown",
   "metadata": {
    "cell_id": "9dc40a48b69e475a9ca11308466549ca",
    "deepnote_cell_type": "markdown"
   },
   "source": [
    "#### Bayesian Optimization With Custom Loss\n"
   ]
  },
  {
   "cell_type": "markdown",
   "metadata": {
    "cell_id": "68a385e456a347e696036e609e710473",
    "deepnote_cell_type": "markdown"
   },
   "source": [
    "This defines the search space configurations to be used for the `Bayesian Optimization` search for `MLPRegressor`.\n"
   ]
  },
  {
   "cell_type": "code",
   "execution_count": null,
   "metadata": {
    "cell_id": "4a949cd42f0547f58925e84d99a0f2b5",
    "deepnote_cell_type": "code"
   },
   "outputs": [],
   "source": [
    "hidden_sz = X_train.shape[1] * 2 // 3 + 1\n",
    "search_space = {\n",
    "    \"activation\": Categorical([\"identity\", \"logistic\", \"tanh\", \"relu\"]),\n",
    "    \"solver\": Categorical([\"lbfgs\", \"adam\", \"sgd\"]),\n",
    "    \"alpha\": Real(0.00001, 0.001),\n",
    "    \"learning_rate\": Categorical([\"constant\", \"invscaling\", \"adaptive\"]),\n",
    "    \"learning_rate_init\": Real(0.0005, 0.005),\n",
    "    \"max_iter\": Integer(200, 1000),\n",
    "    \"tol\": Real(0.0001, 0.1),\n",
    "    \"momentum\": Real(0.75, 0.9),\n",
    "    \"nesterovs_momentum\": Categorical([False, True]),\n",
    "    \"early_stopping\": Categorical([False, True]),\n",
    "    \"validation_fraction\": Real(0.1, 0.15),\n",
    "    \"beta_1\": Real(0.75, 0.9),\n",
    "    \"beta_2\": Real(0.85, 0.999),\n",
    "    \"epsilon\": Real(1e-08, 1e-07),\n",
    "    \"max_fun\": Integer(10000, 15000),\n",
    "    \"loss_alpha\": Integer(0, 1000),\n",
    "}"
   ]
  },
  {
   "cell_type": "markdown",
   "metadata": {
    "cell_id": "2ae319a36d4a48afa8515df07b456071",
    "deepnote_cell_type": "markdown"
   },
   "source": [
    "This defines the custom loss function to be used for the custom MLP regressor. The custom loss function punishes the loss of underpredictions by multiplying the error with a hyperparameter alpha.\n"
   ]
  },
  {
   "cell_type": "code",
   "execution_count": null,
   "metadata": {
    "cell_id": "d3a53a18d848431ab4cfbb4eb33d77cc",
    "deepnote_cell_type": "code",
    "scrolled": true
   },
   "outputs": [],
   "source": [
    "def custom_loss(y_true, y_pred, alpha=2):\n",
    "    squared_error_sum = 0\n",
    "    for a, b in zip(y_true, y_pred):\n",
    "        if b < a: #underpredict\n",
    "            squared_error_sum += ((a - b) ** 2 ) * alpha #penalize\n",
    "        else: #overpredict or just right\n",
    "            squared_error_sum += ((a - b) ** 2 )\n",
    "    \n",
    "    mse = squared_error_sum / len(y_true)\n",
    "    \n",
    "    rmse = np.sqrt(mse)\n",
    "    \n",
    "    return rmse"
   ]
  },
  {
   "cell_type": "code",
   "execution_count": null,
   "metadata": {
    "cell_id": "ed5d0284e08240b4bdfc657016d97537",
    "deepnote_cell_type": "code"
   },
   "outputs": [],
   "source": [
    "This defines the custom MLP regressor that uses a custom loss function"
   ]
  },
  {
   "cell_type": "code",
   "execution_count": null,
   "metadata": {
    "cell_id": "e74b683664a14c1984388a095814e6d0",
    "deepnote_cell_type": "code",
    "scrolled": true
   },
   "outputs": [],
   "source": [
    "from sklearn.neural_network._base import DERIVATIVES\n",
    "from sklearn.utils.extmath import safe_sparse_dot\n",
    "\n",
    "class CustomMLP(MLPRegressor):\n",
    "    def __init__(self, loss_alpha=2, hidden_layer_sizes=(100,), activation=\"relu\", *, solver=\"adam\", alpha=0.0001, batch_size=\"auto\", learning_rate=\"constant\", learning_rate_init=0.001, power_t=0.5, max_iter=200, shuffle=True, random_state=None, tol=1e-4, verbose=False, warm_start=False, momentum=0.9, nesterovs_momentum=True, early_stopping=False, validation_fraction=0.1, beta_1=0.9, beta_2=0.999, epsilon=1e-8, n_iter_no_change=10, max_fun=15000):\n",
    "        super().__init__(\n",
    "            hidden_layer_sizes=hidden_layer_sizes,\n",
    "            activation=activation,\n",
    "            solver=solver,\n",
    "            alpha=alpha,\n",
    "            batch_size=batch_size,\n",
    "            learning_rate=learning_rate,\n",
    "            learning_rate_init=learning_rate_init,\n",
    "            power_t=power_t,\n",
    "            max_iter=max_iter,\n",
    "            shuffle=shuffle,\n",
    "            random_state=random_state,\n",
    "            tol=tol,\n",
    "            verbose=verbose,\n",
    "            warm_start=warm_start,\n",
    "            momentum=momentum,\n",
    "            nesterovs_momentum=nesterovs_momentum,\n",
    "            early_stopping=early_stopping,\n",
    "            validation_fraction=validation_fraction,\n",
    "            beta_1=beta_1,\n",
    "            beta_2=beta_2,\n",
    "            epsilon=epsilon,\n",
    "            n_iter_no_change=n_iter_no_change,\n",
    "            max_fun=max_fun,\n",
    "        )\n",
    "        self.loss_alpha = loss_alpha\n",
    "    \n",
    "    def _backprop(self, X, y, activations, deltas, coef_grads, intercept_grads):\n",
    "        n_samples = X.shape[0]\n",
    "\n",
    "        # Forward propagate\n",
    "        activations = self._forward_pass(activations)\n",
    "\n",
    "        # Get loss\n",
    "        loss_func_name = \"custom_loss\"\n",
    "        loss = custom_loss(y, activations[-1], alpha=self.loss_alpha)\n",
    "        # Add L2 regularization term to loss\n",
    "        values = 0\n",
    "        for s in self.coefs_:\n",
    "            s = s.ravel()\n",
    "            values += np.dot(s, s)\n",
    "        loss += (0.5 * self.alpha) * values / n_samples\n",
    "\n",
    "        # Backward propagate\n",
    "        last = self.n_layers_ - 2\n",
    "\n",
    "        # The calculation of delta[last] here works with following\n",
    "        # combinations of output activation and loss function:\n",
    "        # sigmoid and binary cross entropy, softmax and categorical cross\n",
    "        # entropy, and identity with squared loss\n",
    "        deltas[last] = activations[-1] - y\n",
    "\n",
    "        # Compute gradient for the last layer\n",
    "        self._compute_loss_grad(\n",
    "            last, n_samples, activations, deltas, coef_grads, intercept_grads\n",
    "        )\n",
    "\n",
    "        inplace_derivative = DERIVATIVES[self.activation]\n",
    "        # Iterate over the hidden layers\n",
    "        for i in range(self.n_layers_ - 2, 0, -1):\n",
    "            deltas[i - 1] = safe_sparse_dot(deltas[i], self.coefs_[i].T)\n",
    "            inplace_derivative(activations[i], deltas[i - 1])\n",
    "\n",
    "            self._compute_loss_grad(\n",
    "                i - 1, n_samples, activations, deltas, coef_grads, intercept_grads\n",
    "            )\n",
    "\n",
    "        return loss, coef_grads, intercept_grads"
   ]
  },
  {
   "cell_type": "markdown",
   "metadata": {
    "cell_id": "5346d5a52a1445359cebfa9154d80dd3",
    "deepnote_cell_type": "markdown"
   },
   "source": [
    "This trains a custom MLP regression that uses a custom MLP function while also performing hyperparameter tuning.\n"
   ]
  },
  {
   "cell_type": "code",
   "execution_count": null,
   "metadata": {
    "cell_id": "fffd1836cdef4e08afe252150752125e",
    "deepnote_cell_type": "code",
    "scrolled": true
   },
   "outputs": [],
   "source": [
    "mpr = CustomMLP(random_state=random_state, hidden_layer_sizes=(hidden_sz, hidden_sz * 2 // 3))\n",
    "bo_mpr = BayesSearchCV(mpr, search_space, n_iter=50, n_jobs=-1, cv=cv_folds, random_state=random_state, verbose=2, scoring=concealment_scorer)\n",
    "bo_mpr.fit(X_train, y_train)\n",
    "\n",
    "joblib.dump(bo_mpr, \"model_dumps/mpr_tuned_\" + CHOSEN_COLOR_SPACE + \"_\" + CHOSEN_REGION + \"_\" + label + \".pkl\") "
   ]
  },
  {
   "cell_type": "code",
   "execution_count": null,
   "metadata": {
    "cell_id": "a3ac80e9bfd54b7482b2cc97dc672c82",
    "deepnote_cell_type": "code"
   },
   "outputs": [],
   "source": [
    "This computes for the performance of the trained model using the defined performance metrics."
   ]
  },
  {
   "cell_type": "code",
   "execution_count": null,
   "metadata": {
    "cell_id": "3ac622048a55487983b89eb143da9c78",
    "deepnote_cell_type": "code",
    "scrolled": false
   },
   "outputs": [],
   "source": [
    "print('Best parameters found:\\n', bo_mpr.best_params_)\n",
    "\n",
    "print(\"Test\")\n",
    "y_pred = bo_mpr.predict(X_test)\n",
    "print(\"RMSE\", rmse(y_test, y_pred))\n",
    "print(\"MAE\", mae(y_test, y_pred))\n",
    "print(\"Positive Error\", positive_error(y_test, y_pred))\n",
    "print(\"Concealment Ratio\", concealment_ratio(y_test, y_pred))\n",
    "\n",
    "print(\"Train\")\n",
    "y_pred = bo_mpr.predict(X_train)\n",
    "print(\"RMSE\", rmse(y_train, y_pred))\n",
    "print(\"MAE\", mae(y_train, y_pred))\n",
    "print(\"Positive Error\", positive_error(y_train, y_pred))\n",
    "print(\"Concealment Ratio\", concealment_ratio(y_train, y_pred))"
   ]
  },
  {
   "cell_type": "markdown",
   "metadata": {
    "cell_id": "dffc2f124f694121a423e152d171b4dd",
    "deepnote_cell_type": "markdown"
   },
   "source": [
    "### Feature Selection\n"
   ]
  },
  {
   "cell_type": "markdown",
   "metadata": {
    "cell_id": "a8793ce7688248daaef178fe622551c7",
    "deepnote_cell_type": "markdown"
   },
   "source": [
    "The cell below illustrates method for training the model with a subset of the data. It selects the subsets of data to train with by select the top K best features determined using `f_regression` statistical analysis. The value of K is treated as a hyperparameter to be determined by the Bayesian Optimization search.\n"
   ]
  },
  {
   "cell_type": "code",
   "execution_count": null,
   "metadata": {
    "cell_id": "d1cac58163a14986b48284dd232018cd",
    "deepnote_cell_type": "code",
    "scrolled": true
   },
   "outputs": [],
   "source": [
    "mpr = CustomMLP(random_state=random_state, hidden_layer_sizes=(hidden_sz, hidden_sz * 2 // 3))\n",
    "pipe = Pipeline([('selector', SelectKBest(f_regression)), ('mpr', mpr)])\n",
    "\n",
    "search_space = {\n",
    "    \"selector__k\": Integer(X_train.shape[1] // 2, X_train.shape[1] - 1),\n",
    "    \"mpr__activation\": Categorical([\"identity\", \"logistic\", \"tanh\", \"relu\"]),\n",
    "    \"mpr__solver\": Categorical([\"lbfgs\", \"adam\", \"sgd\"]),\n",
    "    \"mpr__alpha\": Real(0.00001, 0.001),\n",
    "    \"mpr__learning_rate\": Categorical([\"constant\", \"invscaling\", \"adaptive\"]),\n",
    "    \"mpr__learning_rate_init\": Real(0.0005, 0.005),\n",
    "    \"mpr__max_iter\": Integer(200, 1000),\n",
    "    \"mpr__tol\": Real(0.0001, 0.1),\n",
    "    \"mpr__momentum\": Real(0.75, 0.9),\n",
    "    \"mpr__nesterovs_momentum\": Categorical([False, True]),\n",
    "    \"mpr__early_stopping\": Categorical([False, True]),\n",
    "    \"mpr__validation_fraction\": Real(0.1, 0.15),\n",
    "    \"mpr__beta_1\": Real(0.75, 0.9),\n",
    "    \"mpr__beta_2\": Real(0.85, 0.999),\n",
    "    \"mpr__epsilon\": Real(1e-08, 1e-07),\n",
    "    \"mpr__max_fun\": Integer(10000, 15000),\n",
    "    \"mpr__loss_alpha\": Integer(0, 1000),\n",
    "}\n",
    "\n",
    "bo_mpr = BayesSearchCV(pipe, search_space, n_iter=76, n_jobs=-1, cv=cv_folds, random_state=random_state, verbose=2, scoring=concealment_scorer)\n",
    "bo_mpr.fit(X_train, y_train)\n",
    "joblib.dump(bo_mpr, \"model_dumps/mpr_tunedfs_bo_\" + CHOSEN_COLOR_SPACE + \"_\" + CHOSEN_REGION + \"_\" + label + \".pkl\") \n",
    "\n",
    "selected_feat = bo_mpr.best_estimator_.named_steps[\"selector\"].get_support()\n",
    "best_mpr = clone_model(bo_mpr.best_estimator_)\n",
    "best_mpr.fit(X_train, y_train)\n",
    "joblib.dump(best_mpr, \"model_dumps/mpr_tunedfs_\" + CHOSEN_COLOR_SPACE + \"_\" + CHOSEN_REGION + \"_\" + label + \".pkl\") "
   ]
  },
  {
   "cell_type": "markdown",
   "metadata": {
    "cell_id": "0fbc796d098f41aaa0c50fde2a92ae60",
    "deepnote_cell_type": "markdown"
   },
   "source": [
    "This computes for the performance of the trained model using the defined performance metrics.\n"
   ]
  },
  {
   "cell_type": "code",
   "execution_count": null,
   "metadata": {
    "cell_id": "ff0505f9362c452bb0e3705d02f3d5a5",
    "deepnote_cell_type": "code"
   },
   "outputs": [],
   "source": [
    "print('Best params:\\n', bo_mpr.best_params_)\n",
    "print('Best features found:\\n', X_train.columns[selected_feat])\n",
    "\n",
    "print(\"Test\")\n",
    "y_pred = best_mpr.predict(X_test)\n",
    "print(\"RMSE: \", rmse(y_test, y_pred))\n",
    "print(\"MAE: \", mae(y_test, y_pred))\n",
    "print(\"Positive Error\", positive_error(y_test, y_pred))\n",
    "print(\"Face Percent\", concealment_ratio(y_test, y_pred))\n",
    "\n",
    "print(\"Train\")\n",
    "y_pred = best_mpr.predict(X_train)\n",
    "print(\"RMSE: \", rmse(y_train, y_pred))\n",
    "print(\"MAE: \", mae(y_train, y_pred))\n",
    "print(\"Positive Error\", positive_error(y_train, y_pred))\n",
    "print(\"Face Percent\", concealment_ratio(y_train, y_pred))"
   ]
  },
  {
   "cell_type": "markdown",
   "metadata": {
    "cell_id": "7feed17045e249abb3e9d15d425a5c3b",
    "deepnote_cell_type": "markdown"
   },
   "source": [
    "#\n"
   ]
  },
  {
   "cell_type": "markdown",
   "metadata": {
    "created_in_deepnote_cell": true,
    "deepnote_cell_type": "markdown"
   },
   "source": [
    "<a style='text-decoration:none;line-height:16px;display:flex;color:#5B5B62;padding:10px;justify-content:end;' href='https://deepnote.com?utm_source=created-in-deepnote-cell&projectId=ea4f5838-df37-44b8-866b-b9dc1b4dd46c' target=\"_blank\">\n",
    "<img alt='Created in deepnote.com' style='display:inline;max-height:16px;margin:0px;margin-right:7.5px;' src='data:image/svg+xml;base64,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' > </img>\n",
    "Created in <span style='font-weight:600;margin-left:4px;'>Deepnote</span></a>\n"
   ]
  }
 ],
 "metadata": {
  "deepnote": {},
  "deepnote_execution_queue": [],
  "deepnote_notebook_id": "af79989e76804345b61f4348d882789f",
  "kernelspec": {
   "display_name": "Python 3 (ipykernel)",
   "language": "python",
   "name": "python3"
  },
  "language_info": {
   "codemirror_mode": {
    "name": "ipython",
    "version": 3
   },
   "file_extension": ".py",
   "mimetype": "text/x-python",
   "name": "python",
   "nbconvert_exporter": "python",
   "pygments_lexer": "ipython3",
   "version": "3.9.13"
  }
 },
 "nbformat": 4,
 "nbformat_minor": 1
}
