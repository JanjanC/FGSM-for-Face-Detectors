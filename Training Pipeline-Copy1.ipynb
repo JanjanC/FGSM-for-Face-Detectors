{
 "cells": [
  {
   "cell_type": "code",
   "execution_count": 1,
   "metadata": {},
   "outputs": [],
   "source": [
    "import numpy as np\n",
    "import pandas as pd\n",
    "import os\n",
    "import joblib"
   ]
  },
  {
   "cell_type": "code",
   "execution_count": 2,
   "metadata": {},
   "outputs": [],
   "source": [
    "random_state = 100\n",
    "cv_folds = 5\n",
    "\n",
    "if not os.path.isdir(\"model_dumps\"):\n",
    "    os.makedirs(\"model_dumps\")"
   ]
  },
  {
   "cell_type": "markdown",
   "metadata": {},
   "source": [
    "## Data Loading"
   ]
  },
  {
   "cell_type": "markdown",
   "metadata": {},
   "source": [
    "Set the filename here"
   ]
  },
  {
   "cell_type": "code",
   "execution_count": 3,
   "metadata": {
    "scrolled": true
   },
   "outputs": [
    {
     "data": {
      "text/html": [
       "<div>\n",
       "<style scoped>\n",
       "    .dataframe tbody tr th:only-of-type {\n",
       "        vertical-align: middle;\n",
       "    }\n",
       "\n",
       "    .dataframe tbody tr th {\n",
       "        vertical-align: top;\n",
       "    }\n",
       "\n",
       "    .dataframe thead th {\n",
       "        text-align: right;\n",
       "    }\n",
       "</style>\n",
       "<table border=\"1\" class=\"dataframe\">\n",
       "  <thead>\n",
       "    <tr style=\"text-align: right;\">\n",
       "      <th></th>\n",
       "      <th>Unnamed: 0.1</th>\n",
       "      <th>Unnamed: 0</th>\n",
       "      <th>path</th>\n",
       "      <th>updated_source_h</th>\n",
       "      <th>updated_source_w</th>\n",
       "      <th>face_index</th>\n",
       "      <th>used_mask</th>\n",
       "      <th>R_BIN_mask_0</th>\n",
       "      <th>R_BIN_mask_1</th>\n",
       "      <th>R_BIN_mask_2</th>\n",
       "      <th>...</th>\n",
       "      <th>SOBEL_BIN_bbox_14</th>\n",
       "      <th>SOBEL_BIN_bbox_15</th>\n",
       "      <th>SOBEL_BIN_bbox_16</th>\n",
       "      <th>SOBEL_BIN_bbox_17</th>\n",
       "      <th>SOBEL_BIN_bbox_18</th>\n",
       "      <th>SOBEL_BIN_bbox_19</th>\n",
       "      <th>x</th>\n",
       "      <th>y</th>\n",
       "      <th>w</th>\n",
       "      <th>h</th>\n",
       "    </tr>\n",
       "  </thead>\n",
       "  <tbody>\n",
       "    <tr>\n",
       "      <th>0</th>\n",
       "      <td>0</td>\n",
       "      <td>0</td>\n",
       "      <td>C:\\Users\\jayba\\Documents\\GitHub\\THS-ST1\\images...</td>\n",
       "      <td>683</td>\n",
       "      <td>1024</td>\n",
       "      <td>75</td>\n",
       "      <td>True</td>\n",
       "      <td>0.0</td>\n",
       "      <td>0.000000</td>\n",
       "      <td>0.000000</td>\n",
       "      <td>...</td>\n",
       "      <td>0.0</td>\n",
       "      <td>0.0</td>\n",
       "      <td>0.0</td>\n",
       "      <td>0.0</td>\n",
       "      <td>0.0</td>\n",
       "      <td>0.0</td>\n",
       "      <td>0.824519</td>\n",
       "      <td>0.508413</td>\n",
       "      <td>0.019231</td>\n",
       "      <td>0.021635</td>\n",
       "    </tr>\n",
       "    <tr>\n",
       "      <th>1</th>\n",
       "      <td>1</td>\n",
       "      <td>2</td>\n",
       "      <td>C:\\Users\\jayba\\Documents\\GitHub\\THS-ST1\\images...</td>\n",
       "      <td>768</td>\n",
       "      <td>1024</td>\n",
       "      <td>23</td>\n",
       "      <td>True</td>\n",
       "      <td>0.0</td>\n",
       "      <td>0.000000</td>\n",
       "      <td>0.000000</td>\n",
       "      <td>...</td>\n",
       "      <td>0.0</td>\n",
       "      <td>0.0</td>\n",
       "      <td>0.0</td>\n",
       "      <td>0.0</td>\n",
       "      <td>0.0</td>\n",
       "      <td>0.0</td>\n",
       "      <td>0.284856</td>\n",
       "      <td>0.522837</td>\n",
       "      <td>0.012019</td>\n",
       "      <td>0.016827</td>\n",
       "    </tr>\n",
       "    <tr>\n",
       "      <th>2</th>\n",
       "      <td>2</td>\n",
       "      <td>4</td>\n",
       "      <td>C:\\Users\\jayba\\Documents\\GitHub\\THS-ST1\\images...</td>\n",
       "      <td>768</td>\n",
       "      <td>1024</td>\n",
       "      <td>1</td>\n",
       "      <td>True</td>\n",
       "      <td>0.0</td>\n",
       "      <td>0.000000</td>\n",
       "      <td>0.000000</td>\n",
       "      <td>...</td>\n",
       "      <td>0.0</td>\n",
       "      <td>0.0</td>\n",
       "      <td>0.0</td>\n",
       "      <td>0.0</td>\n",
       "      <td>0.0</td>\n",
       "      <td>0.0</td>\n",
       "      <td>0.918269</td>\n",
       "      <td>0.612981</td>\n",
       "      <td>0.009615</td>\n",
       "      <td>0.014423</td>\n",
       "    </tr>\n",
       "    <tr>\n",
       "      <th>3</th>\n",
       "      <td>3</td>\n",
       "      <td>5</td>\n",
       "      <td>C:\\Users\\jayba\\Documents\\GitHub\\THS-ST1\\images...</td>\n",
       "      <td>683</td>\n",
       "      <td>1024</td>\n",
       "      <td>2</td>\n",
       "      <td>True</td>\n",
       "      <td>0.0</td>\n",
       "      <td>0.000000</td>\n",
       "      <td>0.000000</td>\n",
       "      <td>...</td>\n",
       "      <td>0.0</td>\n",
       "      <td>0.0</td>\n",
       "      <td>0.0</td>\n",
       "      <td>0.0</td>\n",
       "      <td>0.0</td>\n",
       "      <td>0.0</td>\n",
       "      <td>0.602163</td>\n",
       "      <td>0.334135</td>\n",
       "      <td>0.055288</td>\n",
       "      <td>0.072115</td>\n",
       "    </tr>\n",
       "    <tr>\n",
       "      <th>4</th>\n",
       "      <td>4</td>\n",
       "      <td>6</td>\n",
       "      <td>C:\\Users\\jayba\\Documents\\GitHub\\THS-ST1\\images...</td>\n",
       "      <td>632</td>\n",
       "      <td>1024</td>\n",
       "      <td>25</td>\n",
       "      <td>True</td>\n",
       "      <td>0.0</td>\n",
       "      <td>0.166667</td>\n",
       "      <td>0.166667</td>\n",
       "      <td>...</td>\n",
       "      <td>0.0</td>\n",
       "      <td>0.0</td>\n",
       "      <td>0.0</td>\n",
       "      <td>0.0</td>\n",
       "      <td>0.0</td>\n",
       "      <td>0.0</td>\n",
       "      <td>0.335337</td>\n",
       "      <td>0.486779</td>\n",
       "      <td>0.016827</td>\n",
       "      <td>0.021635</td>\n",
       "    </tr>\n",
       "  </tbody>\n",
       "</table>\n",
       "<p>5 rows × 1020 columns</p>\n",
       "</div>"
      ],
      "text/plain": [
       "   Unnamed: 0.1  Unnamed: 0  \\\n",
       "0             0           0   \n",
       "1             1           2   \n",
       "2             2           4   \n",
       "3             3           5   \n",
       "4             4           6   \n",
       "\n",
       "                                                path  updated_source_h  \\\n",
       "0  C:\\Users\\jayba\\Documents\\GitHub\\THS-ST1\\images...               683   \n",
       "1  C:\\Users\\jayba\\Documents\\GitHub\\THS-ST1\\images...               768   \n",
       "2  C:\\Users\\jayba\\Documents\\GitHub\\THS-ST1\\images...               768   \n",
       "3  C:\\Users\\jayba\\Documents\\GitHub\\THS-ST1\\images...               683   \n",
       "4  C:\\Users\\jayba\\Documents\\GitHub\\THS-ST1\\images...               632   \n",
       "\n",
       "   updated_source_w  face_index  used_mask  R_BIN_mask_0  R_BIN_mask_1  \\\n",
       "0              1024          75       True           0.0      0.000000   \n",
       "1              1024          23       True           0.0      0.000000   \n",
       "2              1024           1       True           0.0      0.000000   \n",
       "3              1024           2       True           0.0      0.000000   \n",
       "4              1024          25       True           0.0      0.166667   \n",
       "\n",
       "   R_BIN_mask_2  ...  SOBEL_BIN_bbox_14  SOBEL_BIN_bbox_15  SOBEL_BIN_bbox_16  \\\n",
       "0      0.000000  ...                0.0                0.0                0.0   \n",
       "1      0.000000  ...                0.0                0.0                0.0   \n",
       "2      0.000000  ...                0.0                0.0                0.0   \n",
       "3      0.000000  ...                0.0                0.0                0.0   \n",
       "4      0.166667  ...                0.0                0.0                0.0   \n",
       "\n",
       "   SOBEL_BIN_bbox_17  SOBEL_BIN_bbox_18  SOBEL_BIN_bbox_19         x  \\\n",
       "0                0.0                0.0                0.0  0.824519   \n",
       "1                0.0                0.0                0.0  0.284856   \n",
       "2                0.0                0.0                0.0  0.918269   \n",
       "3                0.0                0.0                0.0  0.602163   \n",
       "4                0.0                0.0                0.0  0.335337   \n",
       "\n",
       "          y         w         h  \n",
       "0  0.508413  0.019231  0.021635  \n",
       "1  0.522837  0.012019  0.016827  \n",
       "2  0.612981  0.009615  0.014423  \n",
       "3  0.334135  0.055288  0.072115  \n",
       "4  0.486779  0.016827  0.021635  \n",
       "\n",
       "[5 rows x 1020 columns]"
      ]
     },
     "execution_count": 3,
     "metadata": {},
     "output_type": "execute_result"
    }
   ],
   "source": [
    "CSV_FILENAME = \"final_eda_features.csv\" #<-- update csv name\n",
    "df_features = pd.read_csv(CSV_FILENAME)\n",
    "df_features.head()"
   ]
  },
  {
   "cell_type": "markdown",
   "metadata": {},
   "source": [
    "```\n",
    "df_features = df_features.drop(columns = ['Unnamed: 0', 'path', 'source_w', 'source_h', 'face_index'])\n",
    "df_features = df_features.loc[df_features[\"e_bbox_yf\"] < 3, :]\n",
    "print(df_features.columns)\n",
    "```"
   ]
  },
  {
   "cell_type": "markdown",
   "metadata": {},
   "source": [
    "Change string types to numeric types"
   ]
  },
  {
   "cell_type": "code",
   "execution_count": 4,
   "metadata": {},
   "outputs": [
    {
     "name": "stderr",
     "output_type": "stream",
     "text": [
      "<frozen importlib._bootstrap>:219: RuntimeWarning: scipy._lib.messagestream.MessageStream size changed, may indicate binary incompatibility. Expected 56 from C header, got 64 from PyObject\n"
     ]
    }
   ],
   "source": [
    "from sklearn.preprocessing import LabelEncoder"
   ]
  },
  {
   "cell_type": "code",
   "execution_count": 5,
   "metadata": {},
   "outputs": [
    {
     "data": {
      "text/html": [
       "<div>\n",
       "<style scoped>\n",
       "    .dataframe tbody tr th:only-of-type {\n",
       "        vertical-align: middle;\n",
       "    }\n",
       "\n",
       "    .dataframe tbody tr th {\n",
       "        vertical-align: top;\n",
       "    }\n",
       "\n",
       "    .dataframe thead th {\n",
       "        text-align: right;\n",
       "    }\n",
       "</style>\n",
       "<table border=\"1\" class=\"dataframe\">\n",
       "  <thead>\n",
       "    <tr style=\"text-align: right;\">\n",
       "      <th></th>\n",
       "      <th>path</th>\n",
       "      <th>used_mask</th>\n",
       "      <th>source_file</th>\n",
       "    </tr>\n",
       "  </thead>\n",
       "  <tbody>\n",
       "    <tr>\n",
       "      <th>0</th>\n",
       "      <td>4300</td>\n",
       "      <td>1</td>\n",
       "      <td>10169</td>\n",
       "    </tr>\n",
       "    <tr>\n",
       "      <th>1</th>\n",
       "      <td>4301</td>\n",
       "      <td>1</td>\n",
       "      <td>10170</td>\n",
       "    </tr>\n",
       "    <tr>\n",
       "      <th>2</th>\n",
       "      <td>4302</td>\n",
       "      <td>1</td>\n",
       "      <td>10171</td>\n",
       "    </tr>\n",
       "    <tr>\n",
       "      <th>3</th>\n",
       "      <td>4303</td>\n",
       "      <td>1</td>\n",
       "      <td>10172</td>\n",
       "    </tr>\n",
       "    <tr>\n",
       "      <th>4</th>\n",
       "      <td>4304</td>\n",
       "      <td>1</td>\n",
       "      <td>10173</td>\n",
       "    </tr>\n",
       "    <tr>\n",
       "      <th>...</th>\n",
       "      <td>...</td>\n",
       "      <td>...</td>\n",
       "      <td>...</td>\n",
       "    </tr>\n",
       "    <tr>\n",
       "      <th>21592</th>\n",
       "      <td>9706</td>\n",
       "      <td>1</td>\n",
       "      <td>1030</td>\n",
       "    </tr>\n",
       "    <tr>\n",
       "      <th>21593</th>\n",
       "      <td>9707</td>\n",
       "      <td>1</td>\n",
       "      <td>1031</td>\n",
       "    </tr>\n",
       "    <tr>\n",
       "      <th>21594</th>\n",
       "      <td>9708</td>\n",
       "      <td>1</td>\n",
       "      <td>1032</td>\n",
       "    </tr>\n",
       "    <tr>\n",
       "      <th>21595</th>\n",
       "      <td>9709</td>\n",
       "      <td>1</td>\n",
       "      <td>1033</td>\n",
       "    </tr>\n",
       "    <tr>\n",
       "      <th>21596</th>\n",
       "      <td>9710</td>\n",
       "      <td>1</td>\n",
       "      <td>1034</td>\n",
       "    </tr>\n",
       "  </tbody>\n",
       "</table>\n",
       "<p>21597 rows × 3 columns</p>\n",
       "</div>"
      ],
      "text/plain": [
       "       path  used_mask  source_file\n",
       "0      4300          1        10169\n",
       "1      4301          1        10170\n",
       "2      4302          1        10171\n",
       "3      4303          1        10172\n",
       "4      4304          1        10173\n",
       "...     ...        ...          ...\n",
       "21592  9706          1         1030\n",
       "21593  9707          1         1031\n",
       "21594  9708          1         1032\n",
       "21595  9709          1         1033\n",
       "21596  9710          1         1034\n",
       "\n",
       "[21597 rows x 3 columns]"
      ]
     },
     "execution_count": 5,
     "metadata": {},
     "output_type": "execute_result"
    }
   ],
   "source": [
    "encoder = LabelEncoder()\n",
    "categorical_columns = df_features.select_dtypes(include=[bool, object]).columns\n",
    "encoded_columns = df_features[categorical_columns].apply(encoder.fit_transform)\n",
    "encoded_columns"
   ]
  },
  {
   "cell_type": "code",
   "execution_count": 6,
   "metadata": {},
   "outputs": [
    {
     "data": {
      "text/html": [
       "<div>\n",
       "<style scoped>\n",
       "    .dataframe tbody tr th:only-of-type {\n",
       "        vertical-align: middle;\n",
       "    }\n",
       "\n",
       "    .dataframe tbody tr th {\n",
       "        vertical-align: top;\n",
       "    }\n",
       "\n",
       "    .dataframe thead th {\n",
       "        text-align: right;\n",
       "    }\n",
       "</style>\n",
       "<table border=\"1\" class=\"dataframe\">\n",
       "  <thead>\n",
       "    <tr style=\"text-align: right;\">\n",
       "      <th></th>\n",
       "      <th>Unnamed: 0.1</th>\n",
       "      <th>Unnamed: 0</th>\n",
       "      <th>path</th>\n",
       "      <th>updated_source_h</th>\n",
       "      <th>updated_source_w</th>\n",
       "      <th>face_index</th>\n",
       "      <th>used_mask</th>\n",
       "      <th>R_BIN_mask_0</th>\n",
       "      <th>R_BIN_mask_1</th>\n",
       "      <th>R_BIN_mask_2</th>\n",
       "      <th>...</th>\n",
       "      <th>SOBEL_BIN_bbox_14</th>\n",
       "      <th>SOBEL_BIN_bbox_15</th>\n",
       "      <th>SOBEL_BIN_bbox_16</th>\n",
       "      <th>SOBEL_BIN_bbox_17</th>\n",
       "      <th>SOBEL_BIN_bbox_18</th>\n",
       "      <th>SOBEL_BIN_bbox_19</th>\n",
       "      <th>x</th>\n",
       "      <th>y</th>\n",
       "      <th>w</th>\n",
       "      <th>h</th>\n",
       "    </tr>\n",
       "  </thead>\n",
       "  <tbody>\n",
       "    <tr>\n",
       "      <th>0</th>\n",
       "      <td>0</td>\n",
       "      <td>0</td>\n",
       "      <td>4300</td>\n",
       "      <td>683</td>\n",
       "      <td>1024</td>\n",
       "      <td>75</td>\n",
       "      <td>1</td>\n",
       "      <td>0.00000</td>\n",
       "      <td>0.000000</td>\n",
       "      <td>0.000000</td>\n",
       "      <td>...</td>\n",
       "      <td>0.0</td>\n",
       "      <td>0.0</td>\n",
       "      <td>0.0</td>\n",
       "      <td>0.0</td>\n",
       "      <td>0.0</td>\n",
       "      <td>0.0</td>\n",
       "      <td>0.824519</td>\n",
       "      <td>0.508413</td>\n",
       "      <td>0.019231</td>\n",
       "      <td>0.021635</td>\n",
       "    </tr>\n",
       "    <tr>\n",
       "      <th>1</th>\n",
       "      <td>1</td>\n",
       "      <td>2</td>\n",
       "      <td>4301</td>\n",
       "      <td>768</td>\n",
       "      <td>1024</td>\n",
       "      <td>23</td>\n",
       "      <td>1</td>\n",
       "      <td>0.00000</td>\n",
       "      <td>0.000000</td>\n",
       "      <td>0.000000</td>\n",
       "      <td>...</td>\n",
       "      <td>0.0</td>\n",
       "      <td>0.0</td>\n",
       "      <td>0.0</td>\n",
       "      <td>0.0</td>\n",
       "      <td>0.0</td>\n",
       "      <td>0.0</td>\n",
       "      <td>0.284856</td>\n",
       "      <td>0.522837</td>\n",
       "      <td>0.012019</td>\n",
       "      <td>0.016827</td>\n",
       "    </tr>\n",
       "    <tr>\n",
       "      <th>2</th>\n",
       "      <td>2</td>\n",
       "      <td>4</td>\n",
       "      <td>4302</td>\n",
       "      <td>768</td>\n",
       "      <td>1024</td>\n",
       "      <td>1</td>\n",
       "      <td>1</td>\n",
       "      <td>0.00000</td>\n",
       "      <td>0.000000</td>\n",
       "      <td>0.000000</td>\n",
       "      <td>...</td>\n",
       "      <td>0.0</td>\n",
       "      <td>0.0</td>\n",
       "      <td>0.0</td>\n",
       "      <td>0.0</td>\n",
       "      <td>0.0</td>\n",
       "      <td>0.0</td>\n",
       "      <td>0.918269</td>\n",
       "      <td>0.612981</td>\n",
       "      <td>0.009615</td>\n",
       "      <td>0.014423</td>\n",
       "    </tr>\n",
       "    <tr>\n",
       "      <th>3</th>\n",
       "      <td>3</td>\n",
       "      <td>5</td>\n",
       "      <td>4303</td>\n",
       "      <td>683</td>\n",
       "      <td>1024</td>\n",
       "      <td>2</td>\n",
       "      <td>1</td>\n",
       "      <td>0.00000</td>\n",
       "      <td>0.000000</td>\n",
       "      <td>0.000000</td>\n",
       "      <td>...</td>\n",
       "      <td>0.0</td>\n",
       "      <td>0.0</td>\n",
       "      <td>0.0</td>\n",
       "      <td>0.0</td>\n",
       "      <td>0.0</td>\n",
       "      <td>0.0</td>\n",
       "      <td>0.602163</td>\n",
       "      <td>0.334135</td>\n",
       "      <td>0.055288</td>\n",
       "      <td>0.072115</td>\n",
       "    </tr>\n",
       "    <tr>\n",
       "      <th>4</th>\n",
       "      <td>4</td>\n",
       "      <td>6</td>\n",
       "      <td>4304</td>\n",
       "      <td>632</td>\n",
       "      <td>1024</td>\n",
       "      <td>25</td>\n",
       "      <td>1</td>\n",
       "      <td>0.00000</td>\n",
       "      <td>0.166667</td>\n",
       "      <td>0.166667</td>\n",
       "      <td>...</td>\n",
       "      <td>0.0</td>\n",
       "      <td>0.0</td>\n",
       "      <td>0.0</td>\n",
       "      <td>0.0</td>\n",
       "      <td>0.0</td>\n",
       "      <td>0.0</td>\n",
       "      <td>0.335337</td>\n",
       "      <td>0.486779</td>\n",
       "      <td>0.016827</td>\n",
       "      <td>0.021635</td>\n",
       "    </tr>\n",
       "    <tr>\n",
       "      <th>...</th>\n",
       "      <td>...</td>\n",
       "      <td>...</td>\n",
       "      <td>...</td>\n",
       "      <td>...</td>\n",
       "      <td>...</td>\n",
       "      <td>...</td>\n",
       "      <td>...</td>\n",
       "      <td>...</td>\n",
       "      <td>...</td>\n",
       "      <td>...</td>\n",
       "      <td>...</td>\n",
       "      <td>...</td>\n",
       "      <td>...</td>\n",
       "      <td>...</td>\n",
       "      <td>...</td>\n",
       "      <td>...</td>\n",
       "      <td>...</td>\n",
       "      <td>...</td>\n",
       "      <td>...</td>\n",
       "      <td>...</td>\n",
       "      <td>...</td>\n",
       "    </tr>\n",
       "    <tr>\n",
       "      <th>21592</th>\n",
       "      <td>21597</td>\n",
       "      <td>27313</td>\n",
       "      <td>9706</td>\n",
       "      <td>233</td>\n",
       "      <td>191</td>\n",
       "      <td>0</td>\n",
       "      <td>1</td>\n",
       "      <td>0.00000</td>\n",
       "      <td>0.000000</td>\n",
       "      <td>0.000000</td>\n",
       "      <td>...</td>\n",
       "      <td>0.0</td>\n",
       "      <td>0.0</td>\n",
       "      <td>0.0</td>\n",
       "      <td>0.0</td>\n",
       "      <td>0.0</td>\n",
       "      <td>0.0</td>\n",
       "      <td>0.519231</td>\n",
       "      <td>0.574519</td>\n",
       "      <td>0.408654</td>\n",
       "      <td>0.663462</td>\n",
       "    </tr>\n",
       "    <tr>\n",
       "      <th>21593</th>\n",
       "      <td>21598</td>\n",
       "      <td>27314</td>\n",
       "      <td>9707</td>\n",
       "      <td>500</td>\n",
       "      <td>366</td>\n",
       "      <td>0</td>\n",
       "      <td>1</td>\n",
       "      <td>0.00000</td>\n",
       "      <td>0.000000</td>\n",
       "      <td>0.000000</td>\n",
       "      <td>...</td>\n",
       "      <td>0.0</td>\n",
       "      <td>0.0</td>\n",
       "      <td>0.0</td>\n",
       "      <td>0.0</td>\n",
       "      <td>0.0</td>\n",
       "      <td>0.0</td>\n",
       "      <td>0.518029</td>\n",
       "      <td>0.554087</td>\n",
       "      <td>0.367788</td>\n",
       "      <td>0.531250</td>\n",
       "    </tr>\n",
       "    <tr>\n",
       "      <th>21594</th>\n",
       "      <td>21599</td>\n",
       "      <td>27315</td>\n",
       "      <td>9708</td>\n",
       "      <td>337</td>\n",
       "      <td>286</td>\n",
       "      <td>0</td>\n",
       "      <td>1</td>\n",
       "      <td>0.22905</td>\n",
       "      <td>0.000000</td>\n",
       "      <td>0.000000</td>\n",
       "      <td>...</td>\n",
       "      <td>0.0</td>\n",
       "      <td>0.0</td>\n",
       "      <td>0.0</td>\n",
       "      <td>0.0</td>\n",
       "      <td>0.0</td>\n",
       "      <td>0.0</td>\n",
       "      <td>0.509615</td>\n",
       "      <td>0.450721</td>\n",
       "      <td>0.432692</td>\n",
       "      <td>0.588942</td>\n",
       "    </tr>\n",
       "    <tr>\n",
       "      <th>21595</th>\n",
       "      <td>21600</td>\n",
       "      <td>27316</td>\n",
       "      <td>9709</td>\n",
       "      <td>235</td>\n",
       "      <td>215</td>\n",
       "      <td>0</td>\n",
       "      <td>1</td>\n",
       "      <td>0.00000</td>\n",
       "      <td>0.000000</td>\n",
       "      <td>0.106667</td>\n",
       "      <td>...</td>\n",
       "      <td>0.0</td>\n",
       "      <td>0.0</td>\n",
       "      <td>0.0</td>\n",
       "      <td>0.0</td>\n",
       "      <td>0.0</td>\n",
       "      <td>0.0</td>\n",
       "      <td>0.474760</td>\n",
       "      <td>0.486779</td>\n",
       "      <td>0.362981</td>\n",
       "      <td>0.507212</td>\n",
       "    </tr>\n",
       "    <tr>\n",
       "      <th>21596</th>\n",
       "      <td>21601</td>\n",
       "      <td>27317</td>\n",
       "      <td>9710</td>\n",
       "      <td>401</td>\n",
       "      <td>360</td>\n",
       "      <td>0</td>\n",
       "      <td>1</td>\n",
       "      <td>0.00000</td>\n",
       "      <td>0.000000</td>\n",
       "      <td>0.000000</td>\n",
       "      <td>...</td>\n",
       "      <td>0.0</td>\n",
       "      <td>0.0</td>\n",
       "      <td>0.0</td>\n",
       "      <td>0.0</td>\n",
       "      <td>0.0</td>\n",
       "      <td>0.0</td>\n",
       "      <td>0.468750</td>\n",
       "      <td>0.432692</td>\n",
       "      <td>0.355769</td>\n",
       "      <td>0.514423</td>\n",
       "    </tr>\n",
       "  </tbody>\n",
       "</table>\n",
       "<p>21597 rows × 1020 columns</p>\n",
       "</div>"
      ],
      "text/plain": [
       "       Unnamed: 0.1  Unnamed: 0  path  updated_source_h  updated_source_w  \\\n",
       "0                 0           0  4300               683              1024   \n",
       "1                 1           2  4301               768              1024   \n",
       "2                 2           4  4302               768              1024   \n",
       "3                 3           5  4303               683              1024   \n",
       "4                 4           6  4304               632              1024   \n",
       "...             ...         ...   ...               ...               ...   \n",
       "21592         21597       27313  9706               233               191   \n",
       "21593         21598       27314  9707               500               366   \n",
       "21594         21599       27315  9708               337               286   \n",
       "21595         21600       27316  9709               235               215   \n",
       "21596         21601       27317  9710               401               360   \n",
       "\n",
       "       face_index  used_mask  R_BIN_mask_0  R_BIN_mask_1  R_BIN_mask_2  ...  \\\n",
       "0              75          1       0.00000      0.000000      0.000000  ...   \n",
       "1              23          1       0.00000      0.000000      0.000000  ...   \n",
       "2               1          1       0.00000      0.000000      0.000000  ...   \n",
       "3               2          1       0.00000      0.000000      0.000000  ...   \n",
       "4              25          1       0.00000      0.166667      0.166667  ...   \n",
       "...           ...        ...           ...           ...           ...  ...   \n",
       "21592           0          1       0.00000      0.000000      0.000000  ...   \n",
       "21593           0          1       0.00000      0.000000      0.000000  ...   \n",
       "21594           0          1       0.22905      0.000000      0.000000  ...   \n",
       "21595           0          1       0.00000      0.000000      0.106667  ...   \n",
       "21596           0          1       0.00000      0.000000      0.000000  ...   \n",
       "\n",
       "       SOBEL_BIN_bbox_14  SOBEL_BIN_bbox_15  SOBEL_BIN_bbox_16  \\\n",
       "0                    0.0                0.0                0.0   \n",
       "1                    0.0                0.0                0.0   \n",
       "2                    0.0                0.0                0.0   \n",
       "3                    0.0                0.0                0.0   \n",
       "4                    0.0                0.0                0.0   \n",
       "...                  ...                ...                ...   \n",
       "21592                0.0                0.0                0.0   \n",
       "21593                0.0                0.0                0.0   \n",
       "21594                0.0                0.0                0.0   \n",
       "21595                0.0                0.0                0.0   \n",
       "21596                0.0                0.0                0.0   \n",
       "\n",
       "       SOBEL_BIN_bbox_17  SOBEL_BIN_bbox_18  SOBEL_BIN_bbox_19         x  \\\n",
       "0                    0.0                0.0                0.0  0.824519   \n",
       "1                    0.0                0.0                0.0  0.284856   \n",
       "2                    0.0                0.0                0.0  0.918269   \n",
       "3                    0.0                0.0                0.0  0.602163   \n",
       "4                    0.0                0.0                0.0  0.335337   \n",
       "...                  ...                ...                ...       ...   \n",
       "21592                0.0                0.0                0.0  0.519231   \n",
       "21593                0.0                0.0                0.0  0.518029   \n",
       "21594                0.0                0.0                0.0  0.509615   \n",
       "21595                0.0                0.0                0.0  0.474760   \n",
       "21596                0.0                0.0                0.0  0.468750   \n",
       "\n",
       "              y         w         h  \n",
       "0      0.508413  0.019231  0.021635  \n",
       "1      0.522837  0.012019  0.016827  \n",
       "2      0.612981  0.009615  0.014423  \n",
       "3      0.334135  0.055288  0.072115  \n",
       "4      0.486779  0.016827  0.021635  \n",
       "...         ...       ...       ...  \n",
       "21592  0.574519  0.408654  0.663462  \n",
       "21593  0.554087  0.367788  0.531250  \n",
       "21594  0.450721  0.432692  0.588942  \n",
       "21595  0.486779  0.362981  0.507212  \n",
       "21596  0.432692  0.355769  0.514423  \n",
       "\n",
       "[21597 rows x 1020 columns]"
      ]
     },
     "execution_count": 6,
     "metadata": {},
     "output_type": "execute_result"
    }
   ],
   "source": [
    "df_encoded_features = df_features.copy()\n",
    "df_encoded_features[categorical_columns] = encoded_columns\n",
    "df_encoded_features"
   ]
  },
  {
   "cell_type": "markdown",
   "metadata": {},
   "source": [
    "Split into X and Y"
   ]
  },
  {
   "cell_type": "code",
   "execution_count": 7,
   "metadata": {},
   "outputs": [],
   "source": [
    "feat_regions = [\"bbox\", \"mask\"]\n",
    "\n",
    "color_channels = {\n",
    "    \"RGB\": (\"R_BIN_\", \"G_BIN_\", \"B_BIN_\"),\n",
    "    \"HSV\": (\"H_HSV_BIN_\", \"S_HSV_BIN_\", \"V_HSV_BIN_\"),\n",
    "    \"HSL\": (\"H_HSL_BIN_\", \"S_HSL_BIN_\", \"L_HSL_BIN_\"),\n",
    "    \"LAB\": (\"L_LAB_BIN_\", \"A_LAB_BIN_\", \"B_LAB_BIN_\"),\n",
    "    \"YCBCR\": (\"Y_BIN_\", \"CR_BIN_\", \"CB_BIN_\"),\n",
    "}\n",
    "\n",
    "#labels = {\"bbox\": \"e_bbox_yf\", \"mask\": \"e_face_yf\"}\n",
    "labels = {\"mask\": \"e_bbox_yf\", \"bbox\": \"e_face_yf\"} #<-- inverted"
   ]
  },
  {
   "cell_type": "code",
   "execution_count": 8,
   "metadata": {},
   "outputs": [],
   "source": [
    "def get_features_and_label(color_space, region):\n",
    "    features = [\"w\", \"h\", \"x\", \"y\"]\n",
    "    for color_channel in color_channels[color_space]: \n",
    "        features += [color_channel + region + \"_\" + str(i) for i in range(26)]\n",
    "    features += [\"LBP_BIN_\" + region + \"_\" + str(i) for i in range(26)]\n",
    "    features += [\"SOBELX_BIN_\" + region + \"_\" + str(i) for i in range(20)]\n",
    "    features += [\"SOBELY_BIN_\" + region + \"_\" + str(i) for i in range(20)]\n",
    "    features += [\"SOBEL_BIN_\" + region + \"_\" + str(i) for i in range(20)]\n",
    "    return features, labels[region]"
   ]
  },
  {
   "cell_type": "code",
   "execution_count": 9,
   "metadata": {},
   "outputs": [],
   "source": [
    "ASSIGNED_COLOR_SPACE = \"HSV\" #<-- pick a colorspace"
   ]
  },
  {
   "cell_type": "code",
   "execution_count": 10,
   "metadata": {},
   "outputs": [],
   "source": [
    "features, label = get_features_and_label(ASSIGNED_COLOR_SPACE, \"mask\")\n",
    "X_features_mask =  df_encoded_features.loc[:,  features]\n",
    "y_features_mask = df_encoded_features.loc[:, label].values  #<-- pick label\n",
    "\n",
    "features, label = get_features_and_label(ASSIGNED_COLOR_SPACE, \"bbox\")\n",
    "X_features_bbox =  df_encoded_features.loc[:,  features]\n",
    "y_features_bbox = df_encoded_features.loc[:, label].values  #<-- pick label"
   ]
  },
  {
   "cell_type": "code",
   "execution_count": 11,
   "metadata": {},
   "outputs": [],
   "source": [
    "from sklearn.model_selection import train_test_split"
   ]
  },
  {
   "cell_type": "code",
   "execution_count": 12,
   "metadata": {},
   "outputs": [
    {
     "name": "stdout",
     "output_type": "stream",
     "text": [
      "Split shapes\n",
      "X_train:  (17277, 168)\n",
      "y_train:  (17277,)\n",
      "X_test:  (4320, 168)\n",
      "y_test:  (4320,)\n"
     ]
    }
   ],
   "source": [
    "X_train_mask, X_test_mask, y_train_mask, y_test_mask = train_test_split(X_features_mask, y_features_mask, test_size = 0.2, random_state=random_state)\n",
    "\n",
    "print(\"Split shapes\")\n",
    "print(\"X_train: \", X_train_mask.shape)\n",
    "print(\"y_train: \", y_train_mask.shape)\n",
    "print(\"X_test: \", X_test_mask.shape)\n",
    "print(\"y_test: \", y_test_mask.shape)"
   ]
  },
  {
   "cell_type": "code",
   "execution_count": 13,
   "metadata": {},
   "outputs": [
    {
     "name": "stdout",
     "output_type": "stream",
     "text": [
      "Split shapes\n",
      "X_train:  (17277, 168)\n",
      "y_train:  (17277,)\n",
      "X_test:  (4320, 168)\n",
      "y_test:  (4320,)\n"
     ]
    }
   ],
   "source": [
    "X_train_bbox, X_test_bbox, y_train_bbox, y_test_bbox = train_test_split(X_features_bbox, y_features_bbox, test_size = 0.2, random_state=random_state)\n",
    "\n",
    "print(\"Split shapes\")\n",
    "print(\"X_train: \", X_train_bbox.shape)\n",
    "print(\"y_train: \", y_train_bbox.shape)\n",
    "print(\"X_test: \", X_test_bbox.shape)\n",
    "print(\"y_test: \", y_test_bbox.shape)"
   ]
  },
  {
   "cell_type": "markdown",
   "metadata": {},
   "source": [
    "## Base Models"
   ]
  },
  {
   "cell_type": "markdown",
   "metadata": {},
   "source": [
    "### Model Evaluation Functions"
   ]
  },
  {
   "cell_type": "code",
   "execution_count": 14,
   "metadata": {},
   "outputs": [],
   "source": [
    "from sklearn.ensemble import RandomForestRegressor\n",
    "from sklearn.svm import SVR\n",
    "from sklearn.neural_network import MLPRegressor"
   ]
  },
  {
   "cell_type": "code",
   "execution_count": 15,
   "metadata": {},
   "outputs": [],
   "source": [
    "def rmse(predictions, actual):\n",
    "    return np.sqrt(np.mean(np.square(predictions - actual)))"
   ]
  },
  {
   "cell_type": "code",
   "execution_count": 16,
   "metadata": {},
   "outputs": [],
   "source": [
    "def mae(predictions, actual):\n",
    "    return np.mean(np.abs(predictions - actual))"
   ]
  },
  {
   "cell_type": "code",
   "execution_count": 14,
   "metadata": {},
   "outputs": [
    {
     "name": "stderr",
     "output_type": "stream",
     "text": [
      "\n",
      "KeyboardInterrupt\n",
      "\n"
     ]
    }
   ],
   "source": [
    "from sklearn.model_selection import cross_validate\n",
    "\n",
    "models = [(RandomForestRegressor, {\"random_state\": random_state}), (SVR, {}), (MLPRegressor, {\"random_state\": random_state})]\n",
    "labels_vers = [{\"bbox\": \"e_bbox_yf\", \"mask\": \"e_face_yf\"}, {\"mask\": \"e_bbox_yf\", \"bbox\": \"e_face_yf\"}]\n",
    "\n",
    "for i in feat_regions:\n",
    "    for j in labels_vers:\n",
    "        global labels\n",
    "        labels = j\n",
    "        features, label = get_features_and_label(ASSIGNED_COLOR_SPACE, i)\n",
    "        X = df_encoded_features.loc[:,  features]\n",
    "        y = df_encoded_features.loc[:, label].values\n",
    "        for model, params in models:\n",
    "            model = model(**params)\n",
    "            scores = cross_validate(model, X, y, cv=cv_folds, scoring=('r2', 'neg_root_mean_squared_error', 'neg_mean_absolute_error'), return_train_score=True)\n",
    "            print(i, labels[i], model)\n",
    "            print('\\tave test r2', np.mean(scores[\"test_r2\"]))\n",
    "            print('\\tave test rmse', np.mean(scores[\"test_neg_root_mean_squared_error\"]))\n",
    "            print('\\tave test mae', np.mean(scores[\"test_neg_mean_absolute_error\"]))\n",
    "            print('\\tave train r2', np.mean(scores[\"train_r2\"]))\n",
    "            print('\\tave train rmse', np.mean(scores[\"train_neg_root_mean_squared_error\"]))\n",
    "            print('\\tave train mae', np.mean(scores[\"train_neg_mean_absolute_error\"]))\n",
    "\n",
    "raise Exception(\"STOP\")"
   ]
  },
  {
   "cell_type": "markdown",
   "metadata": {},
   "source": [
    "### Random Forest"
   ]
  },
  {
   "cell_type": "markdown",
   "metadata": {},
   "source": [
    "Train RF model"
   ]
  },
  {
   "cell_type": "code",
   "execution_count": null,
   "metadata": {},
   "outputs": [],
   "source": [
    "filename = \"model_dumps/rfr_base_mask_\" + ASSIGNED_COLOR_SPACE + \".pkl\"\n",
    "\n",
    "if (os.path.isfile(filename)):\n",
    "    rfr = joblib.load(filename) \n",
    "else:\n",
    "    rfr = RandomForestRegressor(random_state = random_state)\n",
    "    rfr.fit(X_train_mask, y_train_mask)\n",
    "    joblib.dump(rfr, filename) \n",
    "    \n",
    "rfr_pred = rfr.predict(X_test_mask)\n",
    "print(\"RMSE:\", rmse(rfr_pred, y_test_mask))\n",
    "print(\"MAE:\", mae(rfr_pred, y_test_mask))"
   ]
  },
  {
   "cell_type": "code",
   "execution_count": null,
   "metadata": {},
   "outputs": [],
   "source": [
    "filename = \"model_dumps/rfr_base_bbox_\" + ASSIGNED_COLOR_SPACE + \".pkl\"\n",
    "\n",
    "if (os.path.isfile(filename)):\n",
    "    rfr = joblib.load(filename) \n",
    "else:\n",
    "    rfr = RandomForestRegressor(random_state = random_state)\n",
    "    rfr.fit(X_train_bbox, y_train_bbox)\n",
    "    joblib.dump(rfr, filename) \n",
    "    \n",
    "rfr_pred = rfr.predict(X_test_bbox)\n",
    "print(\"RMSE:\", rmse(rfr_pred, y_test_bbox))\n",
    "print(\"MAE:\", mae(rfr_pred, y_test_bbox))"
   ]
  },
  {
   "cell_type": "markdown",
   "metadata": {},
   "source": [
    "### Support Vector Machine"
   ]
  },
  {
   "cell_type": "code",
   "execution_count": null,
   "metadata": {},
   "outputs": [],
   "source": [
    "filename = \"model_dumps/svr_base_mask_\" + ASSIGNED_COLOR_SPACE + \".pkl\"\n",
    "if (os.path.isfile(filename)):\n",
    "    svr = joblib.load(filename) \n",
    "else:\n",
    "    svr = SVR()\n",
    "    svr.fit(X_train_mask, y_train_mask)\n",
    "    joblib.dump(svr, filename) \n",
    "    \n",
    "svr_pred = svr.predict(X_test_mask)\n",
    "print(\"RMSE:\", rmse(svr_pred, y_test_mask))\n",
    "print(\"MAE:\", mae(svr_pred, y_test_mask))"
   ]
  },
  {
   "cell_type": "code",
   "execution_count": null,
   "metadata": {},
   "outputs": [],
   "source": [
    "filename = \"model_dumps/svr_base_bbox_\" + ASSIGNED_COLOR_SPACE + \".pkl\"\n",
    "\n",
    "if (os.path.isfile(filename)):\n",
    "    svr = joblib.load(filename) \n",
    "else:\n",
    "    svr = SVR()\n",
    "    svr.fit(X_train_bbox, y_train_bbox)\n",
    "    joblib.dump(svr, filename)\n",
    "    \n",
    "svr_pred = svr.predict(X_test_bbox)\n",
    "print(\"RMSE:\", rmse(svr_pred, y_test_bbox))\n",
    "print(\"MAE:\", mae(svr_pred, y_test_bbox))"
   ]
  },
  {
   "cell_type": "markdown",
   "metadata": {},
   "source": [
    "### Multilayer Perceptrons\n",
    "\n"
   ]
  },
  {
   "cell_type": "code",
   "execution_count": null,
   "metadata": {},
   "outputs": [],
   "source": [
    "filename = \"model_dumps/mpr_base_mask_\" + ASSIGNED_COLOR_SPACE + \".pkl\"\n",
    "\n",
    "if (os.path.isfile(filename)):\n",
    "    mpr = joblib.load(filename) \n",
    "else:\n",
    "    mpr = MLPRegressor(random_state = random_state)\n",
    "    mpr.fit(X_train_mask, y_train_mask)\n",
    "    joblib.dump(mpr, filename) \n",
    "    \n",
    "mpr_pred = mpr.predict(X_test_mask)\n",
    "print(\"RMSE:\", rmse(mpr_pred, y_test_mask))\n",
    "print(\"MAE:\", mae(mpr_pred, y_test_mask))"
   ]
  },
  {
   "cell_type": "code",
   "execution_count": null,
   "metadata": {},
   "outputs": [],
   "source": [
    "filename = \"model_dumps/mpr_base_bbox_e\" + ASSIGNED_COLOR_SPACE + \".pkl\"\n",
    "\n",
    "if (os.path.isfile(filename)):\n",
    "    mpr = joblib.load(filename) \n",
    "else:\n",
    "    mpr = MLPRegressor(random_state = random_state)\n",
    "    mpr.fit(X_train_bbox, y_train_bbox)\n",
    "    joblib.dump(mpr, filename) \n",
    "\n",
    "mpr_pred = mpr.predict(X_test_bbox)\n",
    "print(\"RMSE:\", rmse(mpr_pred, y_test_bbox))\n",
    "print(\"MAE:\", mae(mpr_pred, y_test_bbox))"
   ]
  },
  {
   "cell_type": "markdown",
   "metadata": {},
   "source": [
    "___"
   ]
  },
  {
   "cell_type": "code",
   "execution_count": null,
   "metadata": {},
   "outputs": [],
   "source": [
    "raise Exception(\"STOP HERE\")"
   ]
  },
  {
   "cell_type": "markdown",
   "metadata": {},
   "source": [
    "## Feature selection and Hyperparameter tuning\n",
    "\n"
   ]
  },
  {
   "cell_type": "code",
   "execution_count": 17,
   "metadata": {},
   "outputs": [],
   "source": [
    "CHOSEN_COLOR_SPACE = \"HSV\" #<-- pick a colorspace\n",
    "CHOSEN_REGION = \"bbox\"\n",
    "\n",
    "features, label = get_features_and_label(CHOSEN_COLOR_SPACE, CHOSEN_REGION)\n",
    "\n",
    "X_features =  df_encoded_features.loc[:,  features]\n",
    "y_features = df_encoded_features.loc[:, label].values #<-- pick label\n",
    "\n",
    "X_train, X_test, y_train, y_test = train_test_split(X_features, y_features, test_size = 0.2, random_state=random_state)"
   ]
  },
  {
   "cell_type": "code",
   "execution_count": 18,
   "metadata": {},
   "outputs": [],
   "source": [
    "# from sklearn.model_selection import GridSearchCV\n",
    "from sklearn.metrics import accuracy_score\n",
    "from skopt import BayesSearchCV\n",
    "from skopt.space import Real, Categorical, Integer\n",
    "from sklearn.pipeline import Pipeline\n",
    "from sklearn.feature_selection import SelectKBest, f_regression\n",
    "from sklearn.base import clone as clone_model"
   ]
  },
  {
   "cell_type": "code",
   "execution_count": 26,
   "metadata": {
    "scrolled": false
   },
   "outputs": [
    {
     "name": "stdout",
     "output_type": "stream",
     "text": [
      "RandomForestRegressor(random_state=100)\n",
      "Test\n",
      "RMSE:  0.06288397111743395\n",
      "MAE:  0.041782030478395064\n",
      "Train\n",
      "RMSE:  0.024251129710043822\n",
      "MAE:  0.015821292325056423\n",
      "SVR()\n",
      "Test\n",
      "RMSE:  0.06715821107292488\n",
      "MAE:  0.04843515171837297\n",
      "Train\n",
      "RMSE:  0.0679002918579933\n",
      "MAE:  0.04889661486263617\n",
      "MLPRegressor(random_state=100)\n",
      "Test\n",
      "RMSE:  0.06332630578147068\n",
      "MAE:  0.04206493978021651\n",
      "Train\n",
      "RMSE:  0.06421700942860206\n",
      "MAE:  0.042568990918430076\n"
     ]
    }
   ],
   "source": [
    "models = [(RandomForestRegressor, {\"random_state\": random_state}), (SVR, {}), (MLPRegressor, {\"random_state\": random_state})]\n",
    "for model, params in models:\n",
    "    model = model(**params)\n",
    "    model.fit(X_train, y_train)\n",
    "    print(model)\n",
    "    print('Test')\n",
    "    y_pred = model.predict(X_test)\n",
    "    print(\"RMSE: \", rmse(y_test, y_pred))\n",
    "    print(\"MAE: \", mae(y_test, y_pred))\n",
    "\n",
    "    print('Train')\n",
    "    y_pred = model.predict(X_train)\n",
    "    print(\"RMSE: \", rmse(y_train, y_pred))\n",
    "    print(\"MAE: \", mae(y_train, y_pred))\n"
   ]
  },
  {
   "cell_type": "markdown",
   "metadata": {},
   "source": [
    "### Random Forest"
   ]
  },
  {
   "cell_type": "markdown",
   "metadata": {},
   "source": [
    "**Grid Search**"
   ]
  },
  {
   "cell_type": "markdown",
   "metadata": {},
   "source": [
    "```\n",
    "param_space = [\n",
    "    {\n",
    "        \"n_estimators\": list(range(100, 351, 50)),\n",
    "        \"criterion\": [\"squared_error\", \"absolute_error\", \"friedman_mse\", \"poisson\"],\n",
    "        \"max_depth\": [None, 1, 10, 30, 80, 150],\n",
    "        \"min_samples_split\": [2, 4, 8, 16, 32],\n",
    "        \"min_samples_leaf\": [1, 5, 10, 20],\n",
    "        \"max_features\": [None, \"sqrt\", \"log2\", 0.25, 0.5, 0.75],\n",
    "        \"max_leaf_nodes\": [None, 50, 100, 300],\n",
    "        \"min_impurity_decrease\": [0.0, 0.5],\n",
    "        \"bootstrap\": [False, True],\n",
    "        \"ccp_alpha\": [0.0, 0.5, 1.0],\n",
    "    }\n",
    "]\n",
    "```"
   ]
  },
  {
   "cell_type": "markdown",
   "metadata": {},
   "source": [
    "```\n",
    "rfr = RandomForestRegressor()\n",
    "gs_rfr = GridSearchCV(rfr, param_space, n_jobs=-1, cv=cv_folds)\n",
    "gs_rfr.fit(X_train, y_train)\n",
    "```"
   ]
  },
  {
   "cell_type": "markdown",
   "metadata": {},
   "source": [
    "```\n",
    "print('Best parameters found:\\n', gs_svr.best_params_)\n",
    "y_pred = gs_rfr.predict(X_val)\n",
    "print(\"Best accuracy: \", rmse(y_val, y_pred))\n",
    "print(classification_report(y_val, y_pred))\n",
    "```"
   ]
  },
  {
   "cell_type": "markdown",
   "metadata": {},
   "source": [
    "**Bayesian Optimization**"
   ]
  },
  {
   "cell_type": "code",
   "execution_count": null,
   "metadata": {},
   "outputs": [],
   "source": [
    "search_space = {\n",
    "    \"n_estimators\": Integer(100, 350),\n",
    "    \"criterion\": Categorical([\"squared_error\", \"absolute_error\", \"friedman_mse\", \"poisson\"]),\n",
    "    \"max_depth\": Integer(1, 300),\n",
    "    \"min_samples_split\": Integer(2, 32),\n",
    "    \"min_samples_leaf\": Integer(1, 20),\n",
    "    \"max_features\": Categorical([None, \"sqrt\", \"log2\", 0.25, 0.5, 0.75]),\n",
    "    \"max_leaf_nodes\": Integer(50, 300),\n",
    "    \"min_impurity_decrease\": Real(0.0, 2.0),\n",
    "    \"bootstrap\": Categorical([False, True]),\n",
    "    \"ccp_alpha\": Real(0.0, 2.0),\n",
    "}"
   ]
  },
  {
   "cell_type": "code",
   "execution_count": null,
   "metadata": {},
   "outputs": [],
   "source": [
    "rfr = RandomForestRegressor()\n",
    "bo_rfr = BayesSearchCV(rfr, search_space, n_iter=50, n_jobs=-1, cv=cv_folds, random_state=random_state, verbose=2)\n",
    "bo_rfr.fit(X_train, y_train)\n",
    "\n",
    "joblib.dump(bo_rfr, \"model_dumps/rfr_tuned_\" + CHOSEN_COLOR_SPACE + \"_\" + CHOSEN_REGION + \".pkl\") "
   ]
  },
  {
   "cell_type": "code",
   "execution_count": null,
   "metadata": {},
   "outputs": [],
   "source": [
    "print('Best parameters found:\\n', bo_rfr.best_params_)\n",
    "\n",
    "print('Test')\n",
    "y_pred = bo_rfr.predict(X_test)\n",
    "print(\"RMSE: \", rmse(y_test, y_pred))\n",
    "print(\"MAE: \", mae(y_test, y_pred))\n",
    "\n",
    "print('Train')\n",
    "y_pred = bo_rfr.predict(X_train)\n",
    "print(\"RMSE: \", rmse(y_train, y_pred))\n",
    "print(\"MAE: \", mae(y_train, y_pred))"
   ]
  },
  {
   "cell_type": "markdown",
   "metadata": {},
   "source": [
    "### Feature Selection"
   ]
  },
  {
   "cell_type": "code",
   "execution_count": null,
   "metadata": {},
   "outputs": [],
   "source": [
    "rfr = RandomForestRegressor()\n",
    "pipe = Pipeline([('selector', SelectKBest(f_regression)), ('rfr', rfr)])\n",
    "\n",
    "search_space = {\n",
    "    \"selector__k\": Integer(X_train.shape[1] // 2, X_train.shape[1] - 1),\n",
    "    \"rfr__n_estimators\": Integer(100, 350),\n",
    "    \"rfr__criterion\": Categorical([\"squared_error\", \"absolute_error\", \"friedman_mse\", \"poisson\"]),\n",
    "    \"rfr__max_depth\": Integer(1, 300),\n",
    "    \"rfr__min_samples_split\": Integer(2, 32),\n",
    "    \"rfr__min_samples_leaf\": Integer(1, 20),\n",
    "    \"rfr__max_features\": Categorical([None, \"sqrt\", \"log2\", 0.25, 0.5, 0.75]),\n",
    "    \"rfr__max_leaf_nodes\": Integer(50, 300),\n",
    "    \"rfr__min_impurity_decrease\": Real(0.0, 2.0),\n",
    "    \"rfr__bootstrap\": Categorical([False, True]),\n",
    "    \"rfr__ccp_alpha\": Real(0.0, 2.0),\n",
    "}\n",
    "\n",
    "bo_rfr = BayesSearchCV(pipe, search_space, n_iter=75, n_jobs=-1, cv=cv_folds, random_state=random_state)\n",
    "bo_rfr.fit(X_train, y_train)\n",
    "joblib.dump(bo_rfr, \"model_dumps/rfr_tunedfs_bo_\" + CHOSEN_COLOR_SPACE + \"_\" + CHOSEN_REGION + \".pkl\") \n",
    "\n",
    "selected_feat = bo_rfr.best_estimator_.named_steps[\"selector\"].get_support()\n",
    "best_rfr = clone_model(bo_rfr.best_estimator_)\n",
    "best_rfr.fit(X_train.loc[:, selected_feat], y_train)\n",
    "joblib.dump(best_rfr, \"model_dumps/rfr_tunedfs_\" + CHOSEN_COLOR_SPACE + \"_\" + CHOSEN_REGION + \".pkl\") "
   ]
  },
  {
   "cell_type": "code",
   "execution_count": null,
   "metadata": {
    "scrolled": true
   },
   "outputs": [],
   "source": [
    "print('Best params:\\n', bo_rfr.best_params_)\n",
    "print('Best features found:\\n', X_train.columns[selected_feat])\n",
    "\n",
    "print(\"Test\")\n",
    "y_pred = best_rfr.predict(X_test.loc[:, selected_feat])\n",
    "print(\"RMSE: \", rmse(y_test, y_pred))\n",
    "print(\"MAE: \", mae(y_test, y_pred))\n",
    "\n",
    "print(\"Train\")\n",
    "y_pred = best_rfr.predict(X_train.loc[:, selected_feat])\n",
    "print(\"RMSE: \", rmse(y_train, y_pred))\n",
    "print(\"MAE: \", mae(y_train, y_pred))"
   ]
  },
  {
   "cell_type": "markdown",
   "metadata": {},
   "source": [
    "### Support Vector Machine"
   ]
  },
  {
   "cell_type": "markdown",
   "metadata": {},
   "source": [
    "**Grid Search**"
   ]
  },
  {
   "cell_type": "markdown",
   "metadata": {},
   "source": [
    "```\n",
    "param_space = [\n",
    "    {\n",
    "        \"kernel\": \"poly\",\n",
    "        \"degree\": [3, 5, 10, 15, 20],\n",
    "        \"gamma\": [\"auto\", \"scale\"],\n",
    "        \"coef0\": [0.0, 2.5, 5.0],\n",
    "        \"tol\": [0.0001, 0.001, 0.01, 0.1],\n",
    "        \"C\": [0.0001, 0.01, 1.0, 100.0, 1000.0],\n",
    "        \"epsilon\": [0.05, 0.1, .5],\n",
    "        \"shrinking\": [False, True],\n",
    "        \"max_iter\": [-1, 100, 500, 1000],\n",
    "    },\n",
    "    {\n",
    "        \"kernel\": \"rbf\",\n",
    "        \"gamma\": [\"auto\", \"scale\"],\n",
    "        \"tol\": [0.0001, 0.001, 0.01, 0.1],\n",
    "        \"C\": [0.0001, 0.01, 1.0, 100.0, 1000.0],\n",
    "        \"epsilon\": [0.05, 0.1, .5],\n",
    "        \"shrinking\": [False, True],\n",
    "        \"max_iter\": [-1, 100, 500, 1000],\n",
    "    },\n",
    "    {\n",
    "        \"kernel\": \"sigmoid\",\n",
    "        \"gamma\": [\"auto\", \"scale\"],\n",
    "        \"coef0\": [0.0, 2.5, 5.0],\n",
    "        \"tol\": [0.0001, 0.001, 0.01, 0.1],\n",
    "        \"C\": [0.0001, 0.01, 1.0, 100.0, 1000.0],\n",
    "        \"epsilon\": [0.05, 0.1, .5],\n",
    "        \"shrinking\": [False, True],\n",
    "        \"max_iter\": [-1, 100, 500, 1000],\n",
    "    },\n",
    "    {\n",
    "        \"kernel\": [\"linear\"],\n",
    "        \"tol\": [0.0001, 0.001, 0.01, 0.1],\n",
    "        \"C\": [0.0001, 0.01, 1.0, 100.0, 1000.0],\n",
    "        \"epsilon\": [0.05, 0.1, .5],\n",
    "        \"shrinking\": [False, True],\n",
    "        \"max_iter\": [-1, 100, 500, 1000],\n",
    "    }\n",
    "]\n",
    "```"
   ]
  },
  {
   "cell_type": "markdown",
   "metadata": {},
   "source": [
    "```\n",
    "svr = SVR()\n",
    "gs_svr = GridSearchCV(svr, param_space, n_jobs=-1, cv=cv_folds)\n",
    "gs_svr.fit(X_train, y_train)\n",
    "```"
   ]
  },
  {
   "cell_type": "markdown",
   "metadata": {},
   "source": [
    "```\n",
    "print('Best parameters found:\\n', gs_svr.best_params_)\n",
    "y_pred = gs_svr.predict(X_val)\n",
    "print(\"Best accuracy: \", rmse(y_val, y_pred))\n",
    "print(classification_report(y_val, y_pred))\n",
    "```"
   ]
  },
  {
   "cell_type": "markdown",
   "metadata": {},
   "source": [
    "**Bayesian Optimization**"
   ]
  },
  {
   "cell_type": "code",
   "execution_count": null,
   "metadata": {},
   "outputs": [],
   "source": [
    "search_space = {\n",
    "    \"kernel\": Categorical([\"linear\", \"poly\", \"rbf\", \"sigmoid\"]),\n",
    "    \"degree\": Integer(3, 20),\n",
    "    \"gamma\": Categorical([\"auto\", \"scale\"]),\n",
    "    \"coef0\": Real(0.0, 5.0),\n",
    "    \"tol\": Real(0.0001, 0.1),\n",
    "    \"C\": Real(0.0001, 1000.0),\n",
    "    \"epsilon\": Real(0.05, .5),\n",
    "    \"shrinking\": Categorical([False, True]),\n",
    "    \"max_iter\": Integer(100, 5000),\n",
    "}"
   ]
  },
  {
   "cell_type": "code",
   "execution_count": null,
   "metadata": {},
   "outputs": [],
   "source": [
    "svr = SVR()\n",
    "bo_svr = BayesSearchCV(svr, search_space, n_iter=50, n_jobs=-1, cv=cv_folds, random_state=random_state, verbose=2)\n",
    "bo_svr.fit(X_train, y_train)\n",
    "\n",
    "joblib.dump(bo_svr, \"model_dumps/svr_tuned_\" + CHOSEN_COLOR_SPACE + \"_\" + CHOSEN_REGION + \".pkl\") "
   ]
  },
  {
   "cell_type": "code",
   "execution_count": null,
   "metadata": {},
   "outputs": [],
   "source": [
    "print('Best parameters found:\\n', bo_svr.best_params_)\n",
    "\n",
    "print('Test')\n",
    "y_pred = bo_svr.predict(X_test)\n",
    "print(\"RMSE: \", rmse(y_test, y_pred))\n",
    "print(\"MAE: \", mae(y_test, y_pred))\n",
    "\n",
    "print('Train')\n",
    "y_pred = bo_svr.predict(X_train)\n",
    "print(\"RMSE: \", rmse(y_train, y_pred))\n",
    "print(\"MAE: \", mae(y_train, y_pred))"
   ]
  },
  {
   "cell_type": "markdown",
   "metadata": {},
   "source": [
    "### Feature Selection"
   ]
  },
  {
   "cell_type": "code",
   "execution_count": null,
   "metadata": {},
   "outputs": [],
   "source": [
    "svr = SVR()\n",
    "pipe = Pipeline([('selector', SelectKBest(f_regression)), ('svr', svr)])\n",
    "\n",
    "search_space = {\n",
    "    \"selector__k\": Integer(X_train.shape[1] // 2, X_train.shape[1] - 1),\n",
    "    \"svr__kernel\": Categorical([\"linear\", \"poly\", \"rbf\", \"sigmoid\"]),\n",
    "    \"svr__degree\": Integer(3, 20),\n",
    "    \"svr__gamma\": Categorical([\"auto\", \"scale\"]),\n",
    "    \"svr__coef0\": Real(0.0, 5.0),\n",
    "    \"svr__tol\": Real(0.0001, 0.1),\n",
    "    \"svr__C\": Real(0.0001, 1000.0),\n",
    "    \"svr__epsilon\": Real(0.05, .5),\n",
    "    \"svr__shrinking\": Categorical([False, True]),\n",
    "    \"svr__max_iter\": Integer(100, 5000),\n",
    "}\n",
    "\n",
    "bo_svr = BayesSearchCV(pipe, search_space, n_iter=75, n_jobs=-1, cv=cv_folds, random_state=random_state)\n",
    "bo_svr.fit(X_train, y_train)\n",
    "joblib.dump(bo_svr, \"model_dumps/svr_tunedfs_bo_\" + CHOSEN_COLOR_SPACE + \"_\" + CHOSEN_REGION + \".pkl\") \n",
    "\n",
    "selected_feat = bo_svr.best_estimator_.named_steps[\"selector\"].get_support()\n",
    "best_svr = clone_model(bo_svr.best_estimator_)\n",
    "best_svr.fit(X_train.loc[:, selected_feat], y_train)\n",
    "joblib.dump(best_svr, \"model_dumps/svr_tunedfs_\" + CHOSEN_COLOR_SPACE + \"_\" + CHOSEN_REGION + \".pkl\") "
   ]
  },
  {
   "cell_type": "code",
   "execution_count": null,
   "metadata": {
    "scrolled": true
   },
   "outputs": [],
   "source": [
    "print('Best params:\\n', bo_svr.best_params_)\n",
    "print('Best features found:\\n', X_train.columns[selected_feat])\n",
    "\n",
    "print(\"Test\")\n",
    "y_pred = best_svr.predict(X_test.loc[:, selected_feat])\n",
    "print(\"RMSE: \", rmse(y_test, y_pred))\n",
    "print(\"MAE: \", mae(y_test, y_pred))\n",
    "\n",
    "print(\"Train\")\n",
    "y_pred = best_svr.predict(X_train.loc[:, selected_feat])\n",
    "print(\"RMSE: \", rmse(y_train, y_pred))\n",
    "print(\"MAE: \", mae(y_train, y_pred))"
   ]
  },
  {
   "cell_type": "markdown",
   "metadata": {},
   "source": [
    "### Multilayer Perceptron"
   ]
  },
  {
   "cell_type": "markdown",
   "metadata": {},
   "source": [
    "**Grid Search**"
   ]
  },
  {
   "cell_type": "markdown",
   "metadata": {},
   "source": [
    "```\n",
    "param_space = [\n",
    "    {\n",
    "        \"solver\": \"lbfgs\",\n",
    "        \"hidden_layer_sizes\": [(100,), (50, 50,), (50, 25, 25,)], # pick better ones\n",
    "        \"activation\": [\"identity\", \"logistic\", \"tanh\", \"relu\"],\n",
    "        \"alpha\": [0.00001, 0.0001, 0.001],\n",
    "        \"max_iter\": [200, 500, 1000],\n",
    "        \"random_state\": random_state,\n",
    "        \"tol\": [0.0001, 0.001, 0.01, 0.1],\n",
    "        \"max_fun\": [10000, 15000],\n",
    "    },\n",
    "    {\n",
    "        \"solver\": \"adam\",\n",
    "        \"hidden_layer_sizes\": [(100,), (50, 50,), (50, 25, 25,)], # pick better ones\n",
    "        \"activation\": [\"identity\", \"logistic\", \"tanh\", \"relu\"],\n",
    "        \"alpha\": [0.00001, 0.0001, 0.001],\n",
    "        \"max_iter\": [200, 500, 1000],\n",
    "        \"random_state\": random_state,\n",
    "        \"tol\": [0.0001, 0.001, 0.01, 0.1],\n",
    "        \"batch_size\": ['auto', n_samples // 5, n_samples // 10],\n",
    "        \"learning_rate_init\": [0.0005, 0.001, 0.005],\n",
    "        \"shuffle\": [False, True],\n",
    "        \"early_stopping\": [False, True],\n",
    "        \"validation_fraction\": [0.1, 0.15],\n",
    "        \"n_iter_no_change\": [10, 15],\n",
    "        # not sure abt these values, should we be changing these?\n",
    "        \"beta_1\": [0.75, 0.9],\n",
    "        \"beta_2\": [0.85, 0.999],\n",
    "        \"epsilon\": [1e-07, 1e-08],\n",
    "    },\n",
    "    {\n",
    "        \"solver\": \"sgd\",\n",
    "        \"hidden_layer_sizes\": [(100,), (50, 50,), (50, 25, 25,)], # pick better ones\n",
    "        \"activation\": [\"identity\", \"logistic\", \"tanh\", \"relu\"],\n",
    "        \"alpha\": [0.00001, 0.0001, 0.001],\n",
    "        \"max_iter\": [200, 500, 1000],\n",
    "        \"random_state\": random_state,\n",
    "        \"tol\": [0.0001, 0.001, 0.01, 0.1],\n",
    "        \"batch_size\": ['auto', n_samples // 5, n_samples // 10],\n",
    "        \"learning_rate_init\": [0.0005, 0.001, 0.005],\n",
    "        \"shuffle\": [False, True],\n",
    "        \"early_stopping\": [False, True],\n",
    "        \"validation_fraction\": [0.1, 0.15],\n",
    "        \"n_iter_no_change\": [10, 15],\n",
    "        \"learning_rate\": [\"constant\", \"invscaling\", \"adaptive\"],\n",
    "        \"momentum\": [0.75, 0.9],\n",
    "        \"nesterovs_momentum\": [False, True],\n",
    "    }\n",
    "]\n",
    "```"
   ]
  },
  {
   "cell_type": "markdown",
   "metadata": {},
   "source": [
    "```\n",
    "mpr = MLPRegressor()\n",
    "gs_mpr = GridSearchCV(mpr, param_space, n_jobs=-1, cv=cv_folds)\n",
    "gs_mpr.fit(X_train, y_train)\n",
    "```"
   ]
  },
  {
   "cell_type": "markdown",
   "metadata": {},
   "source": [
    "```\n",
    "print('Best parameters found:\\n', gs_mpr.best_params_)\n",
    "y_pred = gs_mpr.predict(X_val)\n",
    "print(\"Best accuracy: \", rmse(y_val, y_pred))\n",
    "print(classification_report(y_val, y_pred))\n",
    "```"
   ]
  },
  {
   "cell_type": "markdown",
   "metadata": {},
   "source": [
    "**Bayesian Optimization**"
   ]
  },
  {
   "cell_type": "code",
   "execution_count": null,
   "metadata": {},
   "outputs": [],
   "source": [
    "hidden_sz = X_train.shape[1] * 2 // 3 + 1\n",
    "search_space = {\n",
    "    \"activation\": Categorical([\"identity\", \"logistic\", \"tanh\", \"relu\"]),\n",
    "    \"solver\": Categorical([\"lbfgs\", \"adam\", \"sgd\"]),\n",
    "    \"alpha\": Real(0.00001, 0.001),\n",
    "    \"learning_rate\": Categorical([\"constant\", \"invscaling\", \"adaptive\"]),\n",
    "    \"learning_rate_init\": Real(0.0005, 0.005),\n",
    "    \"max_iter\": Integer(200, 1000),\n",
    "    \"shuffle\": Categorical([False, True]),\n",
    "    \"tol\": Real(0.0001, 0.1),\n",
    "    \"momentum\": Real(0.75, 0.9),\n",
    "    \"nesterovs_momentum\": Categorical([False, True]),\n",
    "    \"early_stopping\": Categorical([False, True]),\n",
    "    \"validation_fraction\": Real(0.1, 0.15),\n",
    "    \"beta_1\": Real(0.75, 0.9),\n",
    "    \"beta_2\": Real(0.85, 0.999),\n",
    "    \"epsilon\": Real(1e-08, 1e-07),\n",
    "    \"n_iter_no_change\": Integer(10, 15),\n",
    "    \"max_fun\": Integer(10000, 15000),\n",
    "}\n",
    "print(hidden_sz)"
   ]
  },
  {
   "cell_type": "code",
   "execution_count": null,
   "metadata": {},
   "outputs": [],
   "source": [
    "mpr = MLPRegressor(random_state=random_state, hidden_layer_sizes=(hidden_sz, hidden_sz * 2 // 3, hidden_sz * 4 // 9))\n",
    "bo_mpr = BayesSearchCV(mpr, search_space, n_iter=50, n_jobs=-1, cv=cv_folds, random_state=random_state, verbose=2)\n",
    "bo_mpr.fit(X_train, y_train)\n",
    "\n",
    "joblib.dump(bo_mpr, \"model_dumps/mpr_tuned_\" + CHOSEN_COLOR_SPACE + \"_\" + CHOSEN_REGION + \".pkl\") "
   ]
  },
  {
   "cell_type": "code",
   "execution_count": null,
   "metadata": {},
   "outputs": [],
   "source": [
    "print('Best parameters found:\\n', bo_mpr.best_params_)\n",
    "\n",
    "print(\"Test\")\n",
    "y_pred = bo_mpr.predict(X_test)\n",
    "print(\"Best accuracy: \", rmse(y_test, y_pred))\n",
    "print(classification_report(y_test, y_pred))\n",
    "\n",
    "print(\"Train\")\n",
    "y_pred = bo_mpr.predict(X_train)\n",
    "print(\"Best accuracy: \", rmse(y_train, y_pred))\n",
    "print(classification_report(y_train, y_pred))"
   ]
  },
  {
   "cell_type": "markdown",
   "metadata": {},
   "source": [
    "### Feature Selection"
   ]
  },
  {
   "cell_type": "code",
   "execution_count": null,
   "metadata": {},
   "outputs": [],
   "source": [
    "mpr = MLPRegressor(random_state=random_state, hidden_layer_sizes=(hidden_sz, hidden_sz * 2 // 3, hidden_sz * 4 // 9))\n",
    "pipe = Pipeline([('selector', SelectKBest(f_regression)), ('mpr', mpr)])\n",
    "\n",
    "search_space = {\n",
    "    \"selector__k\": Integer(X_train.shape[1] // 2, X_train.shape[1] - 1),\n",
    "    \"mpr__activation\": Categorical([\"identity\", \"logistic\", \"tanh\", \"relu\"]),\n",
    "    \"mpr__solver\": Categorical([\"lbfgs\", \"adam\", \"sgd\"]),\n",
    "    \"mpr__alpha\": Real(0.00001, 0.001),\n",
    "    \"mpr__learning_rate\": Categorical([\"constant\", \"invscaling\", \"adaptive\"]),\n",
    "    \"mpr__learning_rate_init\": Real(0.0005, 0.005),\n",
    "    \"mpr__max_iter\": Integer(200, 1000),\n",
    "    \"mpr__shuffle\": Categorical([False, True]),\n",
    "    \"mpr__tol\": Real(0.0001, 0.1),\n",
    "    \"mpr__momentum\": Real(0.75, 0.9),\n",
    "    \"mpr__nesterovs_momentum\": Categorical([False, True]),\n",
    "    \"mpr__early_stopping\": Categorical([False, True]),\n",
    "    \"mpr__validation_fraction\": Real(0.1, 0.15),\n",
    "    \"mpr__beta_1\": Real(0.75, 0.9),\n",
    "    \"mpr__beta_2\": Real(0.85, 0.999),\n",
    "    \"mpr__epsilon\": Real(1e-08, 1e-07),\n",
    "    \"mpr__n_iter_no_change\": Integer(10, 15),\n",
    "    \"mpr__max_fun\": Integer(10000, 15000),\n",
    "}\n",
    "\n",
    "bo_mpr = BayesSearchCV(pipe, search_space, n_iter=76, n_jobs=-1, cv=cv_folds, random_state=random_state)\n",
    "bo_mpr.fit(X_train, y_train)\n",
    "joblib.dump(bo_mpr, \"model_dumps/mpr_tunedfs_bo_\" + CHOSEN_COLOR_SPACE + \"_\" + CHOSEN_REGION + \".pkl\") \n",
    "\n",
    "selected_feat = bo_mpr.best_estimator_.named_steps[\"selector\"].get_support()\n",
    "best_mpr = clone_model(bo_mpr.best_estimator_)\n",
    "best_mpr.fit(X_train.loc[:, selected_feat], y_train)\n",
    "joblib.dump(best_mpr, \"model_dumps/mpr_tunedfs_\" + CHOSEN_COLOR_SPACE + \"_\" + CHOSEN_REGION + \".pkl\") "
   ]
  },
  {
   "cell_type": "code",
   "execution_count": null,
   "metadata": {
    "scrolled": true
   },
   "outputs": [],
   "source": [
    "print('Best params:\\n', bo_mpr.best_params_)\n",
    "print('Best features found:\\n', X_train.columns[selected_feat])\n",
    "\n",
    "print(\"Test\")\n",
    "y_pred = best_mpr.predict(X_test.loc[:, selected_feat])\n",
    "print(\"RMSE: \", rmse(y_test, y_pred))\n",
    "print(\"MAE: \", mae(y_test, y_pred))\n",
    "\n",
    "print(\"Train\")\n",
    "y_pred = best_mpr.predict(X_train.loc[:, selected_feat])\n",
    "print(\"RMSE: \", rmse(y_train, y_pred))\n",
    "print(\"MAE: \", mae(y_train, y_pred))"
   ]
  },
  {
   "cell_type": "code",
   "execution_count": 19,
   "metadata": {},
   "outputs": [],
   "source": [
    "mlp_params = dict([('activation', 'relu'), ('alpha', 0.0006077414104241369), ('beta_1', 0.75), ('beta_2', 0.9174938922030286), ('early_stopping', True), ('epsilon', 1e-08), ('learning_rate', 'invscaling'), ('learning_rate_init', 0.0005), ('max_fun', 10000), ('max_iter', 1000), ('momentum', 0.75), ('n_iter_no_change', 15), ('nesterovs_momentum', True), ('shuffle', False), ('solver', 'adam'), ('tol', 0.0001), ('validation_fraction', 0.15)])\n",
    "use_features = ['w', 'h', 'x', 'y', 'H_HSV_BIN_bbox_0', 'H_HSV_BIN_bbox_2',\n",
    "       'H_HSV_BIN_bbox_7', 'H_HSV_BIN_bbox_9', 'H_HSV_BIN_bbox_10',\n",
    "       'H_HSV_BIN_bbox_12', 'H_HSV_BIN_bbox_13', 'H_HSV_BIN_bbox_14',\n",
    "       'H_HSV_BIN_bbox_18', 'H_HSV_BIN_bbox_22', 'H_HSV_BIN_bbox_24',\n",
    "       'S_HSV_BIN_bbox_2', 'S_HSV_BIN_bbox_3', 'S_HSV_BIN_bbox_7',\n",
    "       'S_HSV_BIN_bbox_8', 'S_HSV_BIN_bbox_9', 'S_HSV_BIN_bbox_10',\n",
    "       'S_HSV_BIN_bbox_11', 'S_HSV_BIN_bbox_15', 'S_HSV_BIN_bbox_16',\n",
    "       'S_HSV_BIN_bbox_17', 'S_HSV_BIN_bbox_18', 'S_HSV_BIN_bbox_19',\n",
    "       'S_HSV_BIN_bbox_20', 'S_HSV_BIN_bbox_21', 'S_HSV_BIN_bbox_22',\n",
    "       'S_HSV_BIN_bbox_23', 'S_HSV_BIN_bbox_24', 'V_HSV_BIN_bbox_2',\n",
    "       'V_HSV_BIN_bbox_3', 'V_HSV_BIN_bbox_4', 'V_HSV_BIN_bbox_5',\n",
    "       'V_HSV_BIN_bbox_6', 'V_HSV_BIN_bbox_7', 'V_HSV_BIN_bbox_8',\n",
    "       'V_HSV_BIN_bbox_9', 'V_HSV_BIN_bbox_10', 'V_HSV_BIN_bbox_11',\n",
    "       'V_HSV_BIN_bbox_12', 'V_HSV_BIN_bbox_13', 'V_HSV_BIN_bbox_14',\n",
    "       'V_HSV_BIN_bbox_15', 'V_HSV_BIN_bbox_16', 'V_HSV_BIN_bbox_17',\n",
    "       'V_HSV_BIN_bbox_19', 'V_HSV_BIN_bbox_20', 'V_HSV_BIN_bbox_21',\n",
    "       'V_HSV_BIN_bbox_22', 'V_HSV_BIN_bbox_23', 'V_HSV_BIN_bbox_24',\n",
    "       'V_HSV_BIN_bbox_25', 'LBP_BIN_bbox_0', 'LBP_BIN_bbox_1',\n",
    "       'LBP_BIN_bbox_2', 'LBP_BIN_bbox_3', 'LBP_BIN_bbox_4', 'LBP_BIN_bbox_5',\n",
    "       'LBP_BIN_bbox_6', 'LBP_BIN_bbox_7', 'LBP_BIN_bbox_8', 'LBP_BIN_bbox_9',\n",
    "       'LBP_BIN_bbox_11', 'LBP_BIN_bbox_12', 'LBP_BIN_bbox_13',\n",
    "       'LBP_BIN_bbox_14', 'LBP_BIN_bbox_15', 'LBP_BIN_bbox_16',\n",
    "       'LBP_BIN_bbox_18', 'LBP_BIN_bbox_20', 'LBP_BIN_bbox_21',\n",
    "       'LBP_BIN_bbox_22', 'LBP_BIN_bbox_23', 'LBP_BIN_bbox_24',\n",
    "       'LBP_BIN_bbox_25', 'SOBELX_BIN_bbox_9', 'SOBELX_BIN_bbox_10',\n",
    "       'SOBELY_BIN_bbox_9', 'SOBELY_BIN_bbox_10', 'SOBEL_BIN_bbox_9',\n",
    "       'SOBEL_BIN_bbox_10']"
   ]
  },
  {
   "cell_type": "markdown",
   "metadata": {},
   "source": [
    "new_mlp = MLPRegressor(random_state=random_state, **mlp_params)\n",
    "\n",
    "search_space = {\n",
    "    \"selector__k\": Integer(1, X_train.shape[1] - 1),\n",
    "    \"layers__sz0\": Integer(1, X_train.shape[1] - 1),\n",
    "    \"layers__sz1\": Integer(1, X_train.shape[1] - 1),\n",
    "    \"layers__sz2\": Integer(1, X_train.shape[1] - 1),\n",
    "    \"layers__sz3\": Integer(1, X_train.shape[1] - 1),\n",
    "    \"layers__d\": Integer(1, 4),\n",
    "}\n",
    "\n",
    "from sklearn.base import BaseEstimator, TransformerMixin\n",
    "class Layers(BaseEstimator, TransformerMixin):\n",
    "    def __init__(self, d=4, *args, **kwargs):\n",
    "        for i in range(d):\n",
    "            if i < len(args):\n",
    "                setattr(self, \"sz\" + str(i), args[i])\n",
    "            else:\n",
    "                setattr(self, \"sz\" + str(i), 1)\n",
    "                \n",
    "        self.set_params(**kwargs)\n",
    "        self.d = d\n",
    "    \n",
    "    def get_params(self, deep=False):\n",
    "        sizes = {\"sz\" + str(i): getattr(self, \"sz\" + str(i)) for i in range(self.d)}\n",
    "        sizes[\"d\"] = self.d\n",
    "        return sizes\n",
    "    \n",
    "    def set_params(self, **parameters):\n",
    "        for parameter, value in parameters.items():\n",
    "            setattr(self, parameter, value)\n",
    "    \n",
    "    def fit(self, X, y=None):\n",
    "        return self\n",
    "\n",
    "    def transform(self, X, y=None):\n",
    "        global new_mlp\n",
    "        new_mlp.set_params(hidden_layer_sizes=tuple(getattr(self, \"sz\" + str(i)) for i in range(self.d)))\n",
    "        return X\n",
    "    \n",
    "pipe = Pipeline([('selector', SelectKBest(f_regression)), ('layers', Layers()), ('mpr', new_mlp)])\n",
    "search = BayesSearchCV(pipe, search_space, n_iter=15, n_jobs=-1, cv=cv_folds, random_state=random_state)"
   ]
  },
  {
   "cell_type": "code",
   "execution_count": 33,
   "metadata": {},
   "outputs": [],
   "source": [
    "new_mlp = MLPRegressor(random_state=random_state, **mlp_params)\n",
    "\n",
    "search_space = {\n",
    "    \"selector__k\": Integer(X_train.shape[1] // 3, X_train.shape[1] - 1),\n",
    "    \"layers__sz\": Integer(1, X_train.shape[1] - 1),\n",
    "    \"layers__d\": Integer(1, 3),\n",
    "}\n",
    "\n",
    "from sklearn.base import BaseEstimator, TransformerMixin\n",
    "class Layers(BaseEstimator, TransformerMixin):\n",
    "    def __init__(self, d=4, sz=100):\n",
    "    def get_params(self, deep=False):\n",
    "        return {\"sz\": self.sz, \"d\": self.d}\n",
    "    \n",
    "    def set_params(self, **parameters):\n",
    "        for parameter, value in parameters.items():\n",
    "            setattr(self, parameter, value)\n",
    "    \n",
    "    def fit(self, X, y=None):\n",
    "        return self\n",
    "\n",
    "    def transform(self, X, y=None):\n",
    "        global new_mlp\n",
    "        new_mlp.set_params(hidden_layer_sizes=tuple(self.sz * 2 // 3 for i in range(self.d)))\n",
    "        return X\n",
    "    \n",
    "pipe = Pipeline([('selector', SelectKBest(f_regression)), ('layers', Layers()), ('mpr', new_mlp)])\n",
    "search = BayesSearchCV(pipe, search_space, n_iter=15, n_jobs=-1, cv=cv_folds, random_state=random_state)"
   ]
  },
  {
   "cell_type": "code",
   "execution_count": 34,
   "metadata": {},
   "outputs": [
    {
     "data": {
      "text/html": [
       "<style>#sk-container-id-2 {color: black;background-color: white;}#sk-container-id-2 pre{padding: 0;}#sk-container-id-2 div.sk-toggleable {background-color: white;}#sk-container-id-2 label.sk-toggleable__label {cursor: pointer;display: block;width: 100%;margin-bottom: 0;padding: 0.3em;box-sizing: border-box;text-align: center;}#sk-container-id-2 label.sk-toggleable__label-arrow:before {content: \"▸\";float: left;margin-right: 0.25em;color: #696969;}#sk-container-id-2 label.sk-toggleable__label-arrow:hover:before {color: black;}#sk-container-id-2 div.sk-estimator:hover label.sk-toggleable__label-arrow:before {color: black;}#sk-container-id-2 div.sk-toggleable__content {max-height: 0;max-width: 0;overflow: hidden;text-align: left;background-color: #f0f8ff;}#sk-container-id-2 div.sk-toggleable__content pre {margin: 0.2em;color: black;border-radius: 0.25em;background-color: #f0f8ff;}#sk-container-id-2 input.sk-toggleable__control:checked~div.sk-toggleable__content {max-height: 200px;max-width: 100%;overflow: auto;}#sk-container-id-2 input.sk-toggleable__control:checked~label.sk-toggleable__label-arrow:before {content: \"▾\";}#sk-container-id-2 div.sk-estimator input.sk-toggleable__control:checked~label.sk-toggleable__label {background-color: #d4ebff;}#sk-container-id-2 div.sk-label input.sk-toggleable__control:checked~label.sk-toggleable__label {background-color: #d4ebff;}#sk-container-id-2 input.sk-hidden--visually {border: 0;clip: rect(1px 1px 1px 1px);clip: rect(1px, 1px, 1px, 1px);height: 1px;margin: -1px;overflow: hidden;padding: 0;position: absolute;width: 1px;}#sk-container-id-2 div.sk-estimator {font-family: monospace;background-color: #f0f8ff;border: 1px dotted black;border-radius: 0.25em;box-sizing: border-box;margin-bottom: 0.5em;}#sk-container-id-2 div.sk-estimator:hover {background-color: #d4ebff;}#sk-container-id-2 div.sk-parallel-item::after {content: \"\";width: 100%;border-bottom: 1px solid gray;flex-grow: 1;}#sk-container-id-2 div.sk-label:hover label.sk-toggleable__label {background-color: #d4ebff;}#sk-container-id-2 div.sk-serial::before {content: \"\";position: absolute;border-left: 1px solid gray;box-sizing: border-box;top: 0;bottom: 0;left: 50%;z-index: 0;}#sk-container-id-2 div.sk-serial {display: flex;flex-direction: column;align-items: center;background-color: white;padding-right: 0.2em;padding-left: 0.2em;position: relative;}#sk-container-id-2 div.sk-item {position: relative;z-index: 1;}#sk-container-id-2 div.sk-parallel {display: flex;align-items: stretch;justify-content: center;background-color: white;position: relative;}#sk-container-id-2 div.sk-item::before, #sk-container-id-2 div.sk-parallel-item::before {content: \"\";position: absolute;border-left: 1px solid gray;box-sizing: border-box;top: 0;bottom: 0;left: 50%;z-index: -1;}#sk-container-id-2 div.sk-parallel-item {display: flex;flex-direction: column;z-index: 1;position: relative;background-color: white;}#sk-container-id-2 div.sk-parallel-item:first-child::after {align-self: flex-end;width: 50%;}#sk-container-id-2 div.sk-parallel-item:last-child::after {align-self: flex-start;width: 50%;}#sk-container-id-2 div.sk-parallel-item:only-child::after {width: 0;}#sk-container-id-2 div.sk-dashed-wrapped {border: 1px dashed gray;margin: 0 0.4em 0.5em 0.4em;box-sizing: border-box;padding-bottom: 0.4em;background-color: white;}#sk-container-id-2 div.sk-label label {font-family: monospace;font-weight: bold;display: inline-block;line-height: 1.2em;}#sk-container-id-2 div.sk-label-container {text-align: center;}#sk-container-id-2 div.sk-container {/* jupyter's `normalize.less` sets `[hidden] { display: none; }` but bootstrap.min.css set `[hidden] { display: none !important; }` so we also need the `!important` here to be able to override the default hidden behavior on the sphinx rendered scikit-learn.org. See: https://github.com/scikit-learn/scikit-learn/issues/21755 */display: inline-block !important;position: relative;}#sk-container-id-2 div.sk-text-repr-fallback {display: none;}</style><div id=\"sk-container-id-2\" class=\"sk-top-container\"><div class=\"sk-text-repr-fallback\"><pre>Pipeline(steps=[(&#x27;selector&#x27;,\n",
       "                 SelectKBest(k=56,\n",
       "                             score_func=&lt;function f_regression at 0x00000228B860C670&gt;)),\n",
       "                (&#x27;layers&#x27;, Layers(d=1, sz=148)),\n",
       "                (&#x27;mpr&#x27;,\n",
       "                 MLPRegressor(alpha=0.0006077414104241369, beta_1=0.75,\n",
       "                              beta_2=0.9174938922030286, early_stopping=True,\n",
       "                              learning_rate=&#x27;invscaling&#x27;,\n",
       "                              learning_rate_init=0.0005, max_fun=10000,\n",
       "                              max_iter=1000, momentum=0.75, n_iter_no_change=15,\n",
       "                              random_state=100, shuffle=False,\n",
       "                              validation_fraction=0.15))])</pre><b>In a Jupyter environment, please rerun this cell to show the HTML representation or trust the notebook. <br />On GitHub, the HTML representation is unable to render, please try loading this page with nbviewer.org.</b></div><div class=\"sk-container\" hidden><div class=\"sk-item sk-dashed-wrapped\"><div class=\"sk-label-container\"><div class=\"sk-label sk-toggleable\"><input class=\"sk-toggleable__control sk-hidden--visually\" id=\"sk-estimator-id-5\" type=\"checkbox\" ><label for=\"sk-estimator-id-5\" class=\"sk-toggleable__label sk-toggleable__label-arrow\">Pipeline</label><div class=\"sk-toggleable__content\"><pre>Pipeline(steps=[(&#x27;selector&#x27;,\n",
       "                 SelectKBest(k=56,\n",
       "                             score_func=&lt;function f_regression at 0x00000228B860C670&gt;)),\n",
       "                (&#x27;layers&#x27;, Layers(d=1, sz=148)),\n",
       "                (&#x27;mpr&#x27;,\n",
       "                 MLPRegressor(alpha=0.0006077414104241369, beta_1=0.75,\n",
       "                              beta_2=0.9174938922030286, early_stopping=True,\n",
       "                              learning_rate=&#x27;invscaling&#x27;,\n",
       "                              learning_rate_init=0.0005, max_fun=10000,\n",
       "                              max_iter=1000, momentum=0.75, n_iter_no_change=15,\n",
       "                              random_state=100, shuffle=False,\n",
       "                              validation_fraction=0.15))])</pre></div></div></div><div class=\"sk-serial\"><div class=\"sk-item\"><div class=\"sk-estimator sk-toggleable\"><input class=\"sk-toggleable__control sk-hidden--visually\" id=\"sk-estimator-id-6\" type=\"checkbox\" ><label for=\"sk-estimator-id-6\" class=\"sk-toggleable__label sk-toggleable__label-arrow\">SelectKBest</label><div class=\"sk-toggleable__content\"><pre>SelectKBest(k=56, score_func=&lt;function f_regression at 0x00000228B860C670&gt;)</pre></div></div></div><div class=\"sk-item\"><div class=\"sk-estimator sk-toggleable\"><input class=\"sk-toggleable__control sk-hidden--visually\" id=\"sk-estimator-id-7\" type=\"checkbox\" ><label for=\"sk-estimator-id-7\" class=\"sk-toggleable__label sk-toggleable__label-arrow\">Layers</label><div class=\"sk-toggleable__content\"><pre>Layers(d=1, sz=148)</pre></div></div></div><div class=\"sk-item\"><div class=\"sk-estimator sk-toggleable\"><input class=\"sk-toggleable__control sk-hidden--visually\" id=\"sk-estimator-id-8\" type=\"checkbox\" ><label for=\"sk-estimator-id-8\" class=\"sk-toggleable__label sk-toggleable__label-arrow\">MLPRegressor</label><div class=\"sk-toggleable__content\"><pre>MLPRegressor(alpha=0.0006077414104241369, beta_1=0.75,\n",
       "             beta_2=0.9174938922030286, early_stopping=True,\n",
       "             learning_rate=&#x27;invscaling&#x27;, learning_rate_init=0.0005,\n",
       "             max_fun=10000, max_iter=1000, momentum=0.75, n_iter_no_change=15,\n",
       "             random_state=100, shuffle=False, validation_fraction=0.15)</pre></div></div></div></div></div></div></div>"
      ],
      "text/plain": [
       "Pipeline(steps=[('selector',\n",
       "                 SelectKBest(k=56,\n",
       "                             score_func=<function f_regression at 0x00000228B860C670>)),\n",
       "                ('layers', Layers(d=1, sz=148)),\n",
       "                ('mpr',\n",
       "                 MLPRegressor(alpha=0.0006077414104241369, beta_1=0.75,\n",
       "                              beta_2=0.9174938922030286, early_stopping=True,\n",
       "                              learning_rate='invscaling',\n",
       "                              learning_rate_init=0.0005, max_fun=10000,\n",
       "                              max_iter=1000, momentum=0.75, n_iter_no_change=15,\n",
       "                              random_state=100, shuffle=False,\n",
       "                              validation_fraction=0.15))])"
      ]
     },
     "execution_count": 34,
     "metadata": {},
     "output_type": "execute_result"
    }
   ],
   "source": [
    "search.fit(X_train, y_train)\n",
    "selected_feat = search.best_estimator_.named_steps[\"selector\"].get_support()\n",
    "best_mpr = clone_model(search.best_estimator_)\n",
    "best_mpr.fit(X_train.loc[:, selected_feat], y_train)"
   ]
  },
  {
   "cell_type": "code",
   "execution_count": 35,
   "metadata": {},
   "outputs": [
    {
     "data": {
      "text/plain": [
       "0.08129015324047521"
      ]
     },
     "execution_count": 35,
     "metadata": {},
     "output_type": "execute_result"
    }
   ],
   "source": [
    "y_train.mean()\n",
    "y_train.std()"
   ]
  },
  {
   "cell_type": "code",
   "execution_count": 36,
   "metadata": {},
   "outputs": [],
   "source": [
    "#pipe.fit(X_train, y_train)\n",
    "#pipe.named_steps[\"selector\"].get_params()\n",
    "#pipe.set_params(**{\"layers__sz\": 1, \"layers__d\": 1})\n",
    "#pipe.named_steps[\"layers\"].get_params()\n",
    "#pipe.get_params()"
   ]
  },
  {
   "cell_type": "code",
   "execution_count": 1,
   "metadata": {
    "scrolled": false
   },
   "outputs": [
    {
     "ename": "NameError",
     "evalue": "name 'best_mpr' is not defined",
     "output_type": "error",
     "traceback": [
      "\u001b[1;31m---------------------------------------------------------------------------\u001b[0m",
      "\u001b[1;31mNameError\u001b[0m                                 Traceback (most recent call last)",
      "Cell \u001b[1;32mIn[1], line 1\u001b[0m\n\u001b[1;32m----> 1\u001b[0m \u001b[43mbest_mpr\u001b[49m\u001b[38;5;241m.\u001b[39mfit(X_train, y_train)\n\u001b[0;32m      2\u001b[0m \u001b[38;5;28mprint\u001b[39m(\u001b[38;5;124m'\u001b[39m\u001b[38;5;124mBest params:\u001b[39m\u001b[38;5;130;01m\\n\u001b[39;00m\u001b[38;5;124m'\u001b[39m, search\u001b[38;5;241m.\u001b[39mbest_params_)\n\u001b[0;32m      3\u001b[0m \u001b[38;5;28mprint\u001b[39m(\u001b[38;5;124m'\u001b[39m\u001b[38;5;124mBest features found:\u001b[39m\u001b[38;5;130;01m\\n\u001b[39;00m\u001b[38;5;124m'\u001b[39m, X_train\u001b[38;5;241m.\u001b[39mcolumns[selected_feat])\n",
      "\u001b[1;31mNameError\u001b[0m: name 'best_mpr' is not defined"
     ]
    }
   ],
   "source": [
    "best_mpr.fit(X_train, y_train)\n",
    "print('Best params:\\n', search.best_params_)\n",
    "print('Best features found:\\n', X_train.columns[selected_feat])\n",
    "\n",
    "print(\"Test\")\n",
    "y_pred = best_mpr.predict(X_test)\n",
    "print(\"RMSE: \", rmse(y_test, y_pred))\n",
    "print(\"MAE: \", mae(y_test, y_pred))\n",
    "\n",
    "print(\"Train\")\n",
    "y_pred = best_mpr.predict(X_train)\n",
    "print(\"RMSE: \", rmse(y_train, y_pred))\n",
    "print(\"MAE: \", mae(y_train, y_pred))"
   ]
  },
  {
   "cell_type": "code",
   "execution_count": 26,
   "metadata": {},
   "outputs": [
    {
     "name": "stdout",
     "output_type": "stream",
     "text": [
      "Test\n"
     ]
    },
    {
     "ename": "ValueError",
     "evalue": "The feature names should match those that were passed during fit.\nFeature names seen at fit time, yet now missing:\n- H_HSV_BIN_bbox_0\n- H_HSV_BIN_bbox_1\n- H_HSV_BIN_bbox_10\n- H_HSV_BIN_bbox_11\n- H_HSV_BIN_bbox_12\n- ...\n",
     "output_type": "error",
     "traceback": [
      "\u001b[1;31m---------------------------------------------------------------------------\u001b[0m",
      "\u001b[1;31mValueError\u001b[0m                                Traceback (most recent call last)",
      "Cell \u001b[1;32mIn[26], line 9\u001b[0m\n\u001b[0;32m      6\u001b[0m joblib\u001b[38;5;241m.\u001b[39mdump(pipe, \u001b[38;5;124m\"\u001b[39m\u001b[38;5;124mbest_model_so_far.pkl\u001b[39m\u001b[38;5;124m\"\u001b[39m)\n\u001b[0;32m      8\u001b[0m \u001b[38;5;28mprint\u001b[39m(\u001b[38;5;124m\"\u001b[39m\u001b[38;5;124mTest\u001b[39m\u001b[38;5;124m\"\u001b[39m)\n\u001b[1;32m----> 9\u001b[0m y_pred \u001b[38;5;241m=\u001b[39m \u001b[43mpipe\u001b[49m\u001b[38;5;241;43m.\u001b[39;49m\u001b[43mpredict\u001b[49m\u001b[43m(\u001b[49m\u001b[43mX_test\u001b[49m\u001b[38;5;241;43m.\u001b[39;49m\u001b[43mloc\u001b[49m\u001b[43m[\u001b[49m\u001b[43m:\u001b[49m\u001b[43m,\u001b[49m\u001b[43m \u001b[49m\u001b[43mselected_feat\u001b[49m\u001b[43m]\u001b[49m\u001b[43m)\u001b[49m\n\u001b[0;32m     10\u001b[0m \u001b[38;5;28mprint\u001b[39m(\u001b[38;5;124m\"\u001b[39m\u001b[38;5;124mRMSE: \u001b[39m\u001b[38;5;124m\"\u001b[39m, rmse(y_test, y_pred))\n\u001b[0;32m     11\u001b[0m \u001b[38;5;28mprint\u001b[39m(\u001b[38;5;124m\"\u001b[39m\u001b[38;5;124mMAE: \u001b[39m\u001b[38;5;124m\"\u001b[39m, mae(y_test, y_pred))\n",
      "File \u001b[1;32mD:\\ProgramData\\conda\\envs\\thesis-pytorch\\lib\\site-packages\\sklearn\\pipeline.py:480\u001b[0m, in \u001b[0;36mPipeline.predict\u001b[1;34m(self, X, **predict_params)\u001b[0m\n\u001b[0;32m    478\u001b[0m Xt \u001b[38;5;241m=\u001b[39m X\n\u001b[0;32m    479\u001b[0m \u001b[38;5;28;01mfor\u001b[39;00m _, name, transform \u001b[38;5;129;01min\u001b[39;00m \u001b[38;5;28mself\u001b[39m\u001b[38;5;241m.\u001b[39m_iter(with_final\u001b[38;5;241m=\u001b[39m\u001b[38;5;28;01mFalse\u001b[39;00m):\n\u001b[1;32m--> 480\u001b[0m     Xt \u001b[38;5;241m=\u001b[39m \u001b[43mtransform\u001b[49m\u001b[38;5;241;43m.\u001b[39;49m\u001b[43mtransform\u001b[49m\u001b[43m(\u001b[49m\u001b[43mXt\u001b[49m\u001b[43m)\u001b[49m\n\u001b[0;32m    481\u001b[0m \u001b[38;5;28;01mreturn\u001b[39;00m \u001b[38;5;28mself\u001b[39m\u001b[38;5;241m.\u001b[39msteps[\u001b[38;5;241m-\u001b[39m\u001b[38;5;241m1\u001b[39m][\u001b[38;5;241m1\u001b[39m]\u001b[38;5;241m.\u001b[39mpredict(Xt, \u001b[38;5;241m*\u001b[39m\u001b[38;5;241m*\u001b[39mpredict_params)\n",
      "File \u001b[1;32mD:\\ProgramData\\conda\\envs\\thesis-pytorch\\lib\\site-packages\\sklearn\\utils\\_set_output.py:142\u001b[0m, in \u001b[0;36m_wrap_method_output.<locals>.wrapped\u001b[1;34m(self, X, *args, **kwargs)\u001b[0m\n\u001b[0;32m    140\u001b[0m \u001b[38;5;129m@wraps\u001b[39m(f)\n\u001b[0;32m    141\u001b[0m \u001b[38;5;28;01mdef\u001b[39;00m \u001b[38;5;21mwrapped\u001b[39m(\u001b[38;5;28mself\u001b[39m, X, \u001b[38;5;241m*\u001b[39margs, \u001b[38;5;241m*\u001b[39m\u001b[38;5;241m*\u001b[39mkwargs):\n\u001b[1;32m--> 142\u001b[0m     data_to_wrap \u001b[38;5;241m=\u001b[39m \u001b[43mf\u001b[49m\u001b[43m(\u001b[49m\u001b[38;5;28;43mself\u001b[39;49m\u001b[43m,\u001b[49m\u001b[43m \u001b[49m\u001b[43mX\u001b[49m\u001b[43m,\u001b[49m\u001b[43m \u001b[49m\u001b[38;5;241;43m*\u001b[39;49m\u001b[43margs\u001b[49m\u001b[43m,\u001b[49m\u001b[43m \u001b[49m\u001b[38;5;241;43m*\u001b[39;49m\u001b[38;5;241;43m*\u001b[39;49m\u001b[43mkwargs\u001b[49m\u001b[43m)\u001b[49m\n\u001b[0;32m    143\u001b[0m     \u001b[38;5;28;01mif\u001b[39;00m \u001b[38;5;28misinstance\u001b[39m(data_to_wrap, \u001b[38;5;28mtuple\u001b[39m):\n\u001b[0;32m    144\u001b[0m         \u001b[38;5;66;03m# only wrap the first output for cross decomposition\u001b[39;00m\n\u001b[0;32m    145\u001b[0m         \u001b[38;5;28;01mreturn\u001b[39;00m (\n\u001b[0;32m    146\u001b[0m             _wrap_data_with_container(method, data_to_wrap[\u001b[38;5;241m0\u001b[39m], X, \u001b[38;5;28mself\u001b[39m),\n\u001b[0;32m    147\u001b[0m             \u001b[38;5;241m*\u001b[39mdata_to_wrap[\u001b[38;5;241m1\u001b[39m:],\n\u001b[0;32m    148\u001b[0m         )\n",
      "File \u001b[1;32mD:\\ProgramData\\conda\\envs\\thesis-pytorch\\lib\\site-packages\\sklearn\\feature_selection\\_base.py:83\u001b[0m, in \u001b[0;36mSelectorMixin.transform\u001b[1;34m(self, X)\u001b[0m\n\u001b[0;32m     69\u001b[0m \u001b[38;5;124;03m\"\"\"Reduce X to the selected features.\u001b[39;00m\n\u001b[0;32m     70\u001b[0m \n\u001b[0;32m     71\u001b[0m \u001b[38;5;124;03mParameters\u001b[39;00m\n\u001b[1;32m   (...)\u001b[0m\n\u001b[0;32m     79\u001b[0m \u001b[38;5;124;03m    The input samples with only the selected features.\u001b[39;00m\n\u001b[0;32m     80\u001b[0m \u001b[38;5;124;03m\"\"\"\u001b[39;00m\n\u001b[0;32m     81\u001b[0m \u001b[38;5;66;03m# note: we use _safe_tags instead of _get_tags because this is a\u001b[39;00m\n\u001b[0;32m     82\u001b[0m \u001b[38;5;66;03m# public Mixin.\u001b[39;00m\n\u001b[1;32m---> 83\u001b[0m X \u001b[38;5;241m=\u001b[39m \u001b[38;5;28;43mself\u001b[39;49m\u001b[38;5;241;43m.\u001b[39;49m\u001b[43m_validate_data\u001b[49m\u001b[43m(\u001b[49m\n\u001b[0;32m     84\u001b[0m \u001b[43m    \u001b[49m\u001b[43mX\u001b[49m\u001b[43m,\u001b[49m\n\u001b[0;32m     85\u001b[0m \u001b[43m    \u001b[49m\u001b[43mdtype\u001b[49m\u001b[38;5;241;43m=\u001b[39;49m\u001b[38;5;28;43;01mNone\u001b[39;49;00m\u001b[43m,\u001b[49m\n\u001b[0;32m     86\u001b[0m \u001b[43m    \u001b[49m\u001b[43maccept_sparse\u001b[49m\u001b[38;5;241;43m=\u001b[39;49m\u001b[38;5;124;43m\"\u001b[39;49m\u001b[38;5;124;43mcsr\u001b[39;49m\u001b[38;5;124;43m\"\u001b[39;49m\u001b[43m,\u001b[49m\n\u001b[0;32m     87\u001b[0m \u001b[43m    \u001b[49m\u001b[43mforce_all_finite\u001b[49m\u001b[38;5;241;43m=\u001b[39;49m\u001b[38;5;129;43;01mnot\u001b[39;49;00m\u001b[43m \u001b[49m\u001b[43m_safe_tags\u001b[49m\u001b[43m(\u001b[49m\u001b[38;5;28;43mself\u001b[39;49m\u001b[43m,\u001b[49m\u001b[43m \u001b[49m\u001b[43mkey\u001b[49m\u001b[38;5;241;43m=\u001b[39;49m\u001b[38;5;124;43m\"\u001b[39;49m\u001b[38;5;124;43mallow_nan\u001b[39;49m\u001b[38;5;124;43m\"\u001b[39;49m\u001b[43m)\u001b[49m\u001b[43m,\u001b[49m\n\u001b[0;32m     88\u001b[0m \u001b[43m    \u001b[49m\u001b[43mreset\u001b[49m\u001b[38;5;241;43m=\u001b[39;49m\u001b[38;5;28;43;01mFalse\u001b[39;49;00m\u001b[43m,\u001b[49m\n\u001b[0;32m     89\u001b[0m \u001b[43m\u001b[49m\u001b[43m)\u001b[49m\n\u001b[0;32m     90\u001b[0m \u001b[38;5;28;01mreturn\u001b[39;00m \u001b[38;5;28mself\u001b[39m\u001b[38;5;241m.\u001b[39m_transform(X)\n",
      "File \u001b[1;32mD:\\ProgramData\\conda\\envs\\thesis-pytorch\\lib\\site-packages\\sklearn\\base.py:529\u001b[0m, in \u001b[0;36mBaseEstimator._validate_data\u001b[1;34m(self, X, y, reset, validate_separately, **check_params)\u001b[0m\n\u001b[0;32m    464\u001b[0m \u001b[38;5;28;01mdef\u001b[39;00m \u001b[38;5;21m_validate_data\u001b[39m(\n\u001b[0;32m    465\u001b[0m     \u001b[38;5;28mself\u001b[39m,\n\u001b[0;32m    466\u001b[0m     X\u001b[38;5;241m=\u001b[39m\u001b[38;5;124m\"\u001b[39m\u001b[38;5;124mno_validation\u001b[39m\u001b[38;5;124m\"\u001b[39m,\n\u001b[1;32m   (...)\u001b[0m\n\u001b[0;32m    470\u001b[0m     \u001b[38;5;241m*\u001b[39m\u001b[38;5;241m*\u001b[39mcheck_params,\n\u001b[0;32m    471\u001b[0m ):\n\u001b[0;32m    472\u001b[0m     \u001b[38;5;124;03m\"\"\"Validate input data and set or check the `n_features_in_` attribute.\u001b[39;00m\n\u001b[0;32m    473\u001b[0m \n\u001b[0;32m    474\u001b[0m \u001b[38;5;124;03m    Parameters\u001b[39;00m\n\u001b[1;32m   (...)\u001b[0m\n\u001b[0;32m    527\u001b[0m \u001b[38;5;124;03m        validated.\u001b[39;00m\n\u001b[0;32m    528\u001b[0m \u001b[38;5;124;03m    \"\"\"\u001b[39;00m\n\u001b[1;32m--> 529\u001b[0m     \u001b[38;5;28;43mself\u001b[39;49m\u001b[38;5;241;43m.\u001b[39;49m\u001b[43m_check_feature_names\u001b[49m\u001b[43m(\u001b[49m\u001b[43mX\u001b[49m\u001b[43m,\u001b[49m\u001b[43m \u001b[49m\u001b[43mreset\u001b[49m\u001b[38;5;241;43m=\u001b[39;49m\u001b[43mreset\u001b[49m\u001b[43m)\u001b[49m\n\u001b[0;32m    531\u001b[0m     \u001b[38;5;28;01mif\u001b[39;00m y \u001b[38;5;129;01mis\u001b[39;00m \u001b[38;5;28;01mNone\u001b[39;00m \u001b[38;5;129;01mand\u001b[39;00m \u001b[38;5;28mself\u001b[39m\u001b[38;5;241m.\u001b[39m_get_tags()[\u001b[38;5;124m\"\u001b[39m\u001b[38;5;124mrequires_y\u001b[39m\u001b[38;5;124m\"\u001b[39m]:\n\u001b[0;32m    532\u001b[0m         \u001b[38;5;28;01mraise\u001b[39;00m \u001b[38;5;167;01mValueError\u001b[39;00m(\n\u001b[0;32m    533\u001b[0m             \u001b[38;5;124mf\u001b[39m\u001b[38;5;124m\"\u001b[39m\u001b[38;5;124mThis \u001b[39m\u001b[38;5;132;01m{\u001b[39;00m\u001b[38;5;28mself\u001b[39m\u001b[38;5;241m.\u001b[39m\u001b[38;5;18m__class__\u001b[39m\u001b[38;5;241m.\u001b[39m\u001b[38;5;18m__name__\u001b[39m\u001b[38;5;132;01m}\u001b[39;00m\u001b[38;5;124m estimator \u001b[39m\u001b[38;5;124m\"\u001b[39m\n\u001b[0;32m    534\u001b[0m             \u001b[38;5;124m\"\u001b[39m\u001b[38;5;124mrequires y to be passed, but the target y is None.\u001b[39m\u001b[38;5;124m\"\u001b[39m\n\u001b[0;32m    535\u001b[0m         )\n",
      "File \u001b[1;32mD:\\ProgramData\\conda\\envs\\thesis-pytorch\\lib\\site-packages\\sklearn\\base.py:462\u001b[0m, in \u001b[0;36mBaseEstimator._check_feature_names\u001b[1;34m(self, X, reset)\u001b[0m\n\u001b[0;32m    457\u001b[0m \u001b[38;5;28;01mif\u001b[39;00m \u001b[38;5;129;01mnot\u001b[39;00m missing_names \u001b[38;5;129;01mand\u001b[39;00m \u001b[38;5;129;01mnot\u001b[39;00m unexpected_names:\n\u001b[0;32m    458\u001b[0m     message \u001b[38;5;241m+\u001b[39m\u001b[38;5;241m=\u001b[39m (\n\u001b[0;32m    459\u001b[0m         \u001b[38;5;124m\"\u001b[39m\u001b[38;5;124mFeature names must be in the same order as they were in fit.\u001b[39m\u001b[38;5;130;01m\\n\u001b[39;00m\u001b[38;5;124m\"\u001b[39m\n\u001b[0;32m    460\u001b[0m     )\n\u001b[1;32m--> 462\u001b[0m \u001b[38;5;28;01mraise\u001b[39;00m \u001b[38;5;167;01mValueError\u001b[39;00m(message)\n",
      "\u001b[1;31mValueError\u001b[0m: The feature names should match those that were passed during fit.\nFeature names seen at fit time, yet now missing:\n- H_HSV_BIN_bbox_0\n- H_HSV_BIN_bbox_1\n- H_HSV_BIN_bbox_10\n- H_HSV_BIN_bbox_11\n- H_HSV_BIN_bbox_12\n- ...\n"
     ]
    }
   ],
   "source": [
    "best_params = dict([('mpr__activation', 'relu'), ('mpr__alpha', 0.0006077414104241369), ('mpr__beta_1', 0.75), ('mpr__beta_2', 0.9174938922030286), ('mpr__early_stopping', True), ('mpr__epsilon', 1e-08), ('mpr__learning_rate', 'invscaling'), ('mpr__learning_rate_init', 0.0005), ('mpr__max_fun', 10000), ('mpr__max_iter', 1000), ('mpr__momentum', 0.75), ('mpr__n_iter_no_change', 15), ('mpr__nesterovs_momentum', True), ('mpr__shuffle', False), ('mpr__solver', 'adam'), ('mpr__tol', 0.0001), ('mpr__validation_fraction', 0.15), ('mpr__hidden_layer_sizes', (78, 78,)), ('selector__k', 75)])\n",
    "\n",
    "pipe = Pipeline([('selector', SelectKBest(f_regression)), ('mpr', MLPRegressor(random_state=random_state))])\n",
    "pipe.set_params(**best_params)\n",
    "pipe.fit(X_train, y_train)\n",
    "joblib.dump(pipe, \"best_model_so_far.pkl\")\n",
    "\n"
   ]
  },
  {
   "cell_type": "code",
   "execution_count": 27,
   "metadata": {},
   "outputs": [
    {
     "name": "stdout",
     "output_type": "stream",
     "text": [
      "Test\n",
      "RMSE:  0.06421086009038143\n",
      "MAE:  0.04411909984089898\n",
      "Train\n",
      "RMSE:  0.06299828271531498\n",
      "MAE:  0.043584044092813176\n"
     ]
    }
   ],
   "source": [
    "print(\"Test\")\n",
    "y_pred = pipe.predict(X_test)\n",
    "print(\"RMSE: \", rmse(y_test, y_pred))\n",
    "print(\"MAE: \", mae(y_test, y_pred))\n",
    "\n",
    "print(\"Train\")\n",
    "y_pred = pipe.predict(X_train)\n",
    "print(\"RMSE: \", rmse(y_train, y_pred))\n",
    "print(\"MAE: \", mae(y_train, y_pred))"
   ]
  },
  {
   "cell_type": "markdown",
   "metadata": {},
   "source": [
    "## Evaluation"
   ]
  },
  {
   "cell_type": "code",
   "execution_count": null,
   "metadata": {},
   "outputs": [],
   "source": []
  },
  {
   "cell_type": "markdown",
   "metadata": {},
   "source": [
    "#"
   ]
  }
 ],
 "metadata": {
  "kernelspec": {
   "display_name": "Python 3 (ipykernel)",
   "language": "python",
   "name": "python3"
  },
  "language_info": {
   "codemirror_mode": {
    "name": "ipython",
    "version": 3
   },
   "file_extension": ".py",
   "mimetype": "text/x-python",
   "name": "python",
   "nbconvert_exporter": "python",
   "pygments_lexer": "ipython3",
   "version": "3.8.16"
  }
 },
 "nbformat": 4,
 "nbformat_minor": 4
}
