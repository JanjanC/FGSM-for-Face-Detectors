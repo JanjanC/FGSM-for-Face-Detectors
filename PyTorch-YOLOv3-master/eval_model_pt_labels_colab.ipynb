{
 "cells": [
  {
   "cell_type": "markdown",
   "metadata": {},
   "source": [
    "### Torch - CUDA"
   ]
  },
  {
   "cell_type": "code",
   "execution_count": null,
   "metadata": {},
   "outputs": [],
   "source": [
    "!conda install pytorch torchvision torchaudio pytorch-cuda=11.7 -c pytorch -c nvidia"
   ]
  },
  {
   "cell_type": "code",
   "execution_count": 4,
   "metadata": {},
   "outputs": [
    {
     "name": "stdout",
     "output_type": "stream",
     "text": [
      "None\n"
     ]
    }
   ],
   "source": [
    "print(torch.version.cuda)"
   ]
  },
  {
   "cell_type": "code",
   "execution_count": 3,
   "metadata": {},
   "outputs": [
    {
     "data": {
      "text/plain": [
       "'NVIDIA GeForce GTX 970'"
      ]
     },
     "execution_count": 3,
     "metadata": {},
     "output_type": "execute_result"
    }
   ],
   "source": [
    "torch.cuda.get_device_name(0)"
   ]
  },
  {
   "cell_type": "code",
   "execution_count": 4,
   "metadata": {
    "scrolled": true
   },
   "outputs": [
    {
     "data": {
      "text/plain": [
       "True"
      ]
     },
     "execution_count": 4,
     "metadata": {},
     "output_type": "execute_result"
    }
   ],
   "source": [
    "torch.cuda.is_available()"
   ]
  },
  {
   "cell_type": "code",
   "execution_count": 2,
   "metadata": {},
   "outputs": [
    {
     "data": {
      "text/plain": [
       "0"
      ]
     },
     "execution_count": 2,
     "metadata": {},
     "output_type": "execute_result"
    }
   ],
   "source": [
    "import torch\n",
    "torch.cuda.current_device()"
   ]
  },
  {
   "cell_type": "code",
   "execution_count": 5,
   "metadata": {},
   "outputs": [
    {
     "name": "stdout",
     "output_type": "stream",
     "text": [
      "Pytorch CUDA Version is  11.6\n"
     ]
    }
   ],
   "source": [
    "print(\"Pytorch CUDA Version is \", torch.version.cuda)"
   ]
  },
  {
   "cell_type": "markdown",
   "metadata": {
    "colab_type": "text",
    "id": "l24_AGXYEv8f",
    "jp-MarkdownHeadingCollapsed": true,
    "tags": []
   },
   "source": [
    "## Downloading datset"
   ]
  },
  {
   "cell_type": "code",
   "execution_count": 10,
   "metadata": {
    "colab": {},
    "colab_type": "code",
    "id": "mVMaMh0h8qz0"
   },
   "outputs": [
    {
     "name": "stderr",
     "output_type": "stream",
     "text": [
      "The syntax of the command is incorrect.\n"
     ]
    }
   ],
   "source": [
    "! wget -c https://www.dropbox.com/s/bc5e9ew17ldlfhx/part_label_test_128p_v2.tar &>/dev/null"
   ]
  },
  {
   "cell_type": "markdown",
   "metadata": {
    "colab_type": "text",
    "id": "1q2NLa4xFzbV",
    "jp-MarkdownHeadingCollapsed": true,
    "tags": []
   },
   "source": [
    "## Downloading the model"
   ]
  },
  {
   "cell_type": "code",
   "execution_count": 2,
   "metadata": {
    "colab": {},
    "colab_type": "code",
    "id": "ZJ5E3urxF3Xm"
   },
   "outputs": [
    {
     "name": "stderr",
     "output_type": "stream",
     "text": [
      "The syntax of the command is incorrect.\n"
     ]
    }
   ],
   "source": [
    "! wget -c https://www.dropbox.com/s/38q1cgxt1qu407h/ptlabel_best_model.pth &>/dev/null"
   ]
  },
  {
   "cell_type": "markdown",
   "metadata": {
    "colab_type": "text",
    "id": "QYFtVhsxE2li",
    "tags": []
   },
   "source": [
    "## Extracting"
   ]
  },
  {
   "cell_type": "code",
   "execution_count": 2,
   "metadata": {
    "colab": {
     "base_uri": "https://localhost:8080/",
     "height": 34
    },
    "colab_type": "code",
    "id": "YyGvnyoI9xkq",
    "outputId": "6ce2f8c9-cffa-46c3-8dc0-5ee0616adcdc",
    "tags": []
   },
   "outputs": [
    {
     "name": "stdout",
     "output_type": "stream",
     "text": [
      "Couldn't find program: 'bash'\n"
     ]
    }
   ],
   "source": [
    "%%bash\n",
    "if [ -z ${TMPDIR} ]; then TMPDIR='/tmp'; else echo \"TMPDIR is set to $TMPDIR\"; fi\n",
    "echo $TMPDIR\n",
    "PT_LABEL=part_label_test_128p_v2.tar\n",
    "mkdir -p $TMPDIR/eval\n",
    "tar -C $TMPDIR/eval -xf $PT_LABEL "
   ]
  },
  {
   "cell_type": "code",
   "execution_count": null,
   "metadata": {
    "colab": {},
    "colab_type": "code",
    "id": "vfy8geSQ_LXV",
    "tags": []
   },
   "outputs": [],
   "source": [
    "#! git clone https://github.com/isi-vista/structure_via_consensus.git"
   ]
  },
  {
   "cell_type": "code",
   "execution_count": null,
   "metadata": {
    "colab": {
     "base_uri": "https://localhost:8080/",
     "height": 306
    },
    "colab_type": "code",
    "collapsed": true,
    "id": "VGyGs8oLG85n",
    "jupyter": {
     "outputs_hidden": true
    },
    "outputId": "f08ebae2-bcff-46e9-a407-8a12bf0acdbb",
    "tags": []
   },
   "outputs": [
    {
     "name": "stdout",
     "output_type": "stream",
     "text": [
      "Archive:  structure_via_consensus-master.zip\n",
      "396b3d4513205c2245610c1e30b45bb2bba861bc\n",
      "   creating: structure_via_consensus-master/\n",
      "  inflating: structure_via_consensus-master/.gitignore  \n",
      "  inflating: structure_via_consensus-master/LICENSE  \n",
      "  inflating: structure_via_consensus-master/README.md  \n",
      "   creating: structure_via_consensus-master/imgs/\n",
      "  inflating: structure_via_consensus-master/imgs/teaser.png  \n",
      "   creating: structure_via_consensus-master/src_release/\n",
      "  inflating: structure_via_consensus-master/src_release/aug2D.py  \n",
      "  inflating: structure_via_consensus-master/src_release/conf_matrix.py  \n",
      "  inflating: structure_via_consensus-master/src_release/data_loader.py  \n",
      "  inflating: structure_via_consensus-master/src_release/data_tools.py  \n",
      "   creating: structure_via_consensus-master/src_release/models/\n",
      "  inflating: structure_via_consensus-master/src_release/models/encoder_decoder_faceoccnet.py  \n",
      "  inflating: structure_via_consensus-master/src_release/part_label_dataset.py  \n",
      "  inflating: structure_via_consensus-master/src_release/torch_utils.py  \n"
     ]
    }
   ],
   "source": [
    "%%bash  \n",
    "wget -c https://www.dropbox.com/s/x055zrg47kmz3x1/structure_via_consensus-master.zip &>/dev/null\n",
    "unzip structure_via_consensus-master.zip\n",
    "cp -r structure_via_consensus-master/src_release/ ."
   ]
  },
  {
   "cell_type": "code",
   "execution_count": null,
   "metadata": {
    "colab": {},
    "colab_type": "code",
    "id": "pFn_CgEvJBgv",
    "tags": []
   },
   "outputs": [],
   "source": [
    "%%bash\n",
    "rm -rf structure_via_consensus-master\n",
    "rm structure_via_consensus-master.zip"
   ]
  },
  {
   "cell_type": "markdown",
   "metadata": {
    "colab_type": "text",
    "id": "WDBSYdZUAUy1",
    "jp-MarkdownHeadingCollapsed": true,
    "tags": []
   },
   "source": [
    "# Define and Load Model"
   ]
  },
  {
   "cell_type": "code",
   "execution_count": 4,
   "metadata": {},
   "outputs": [
    {
     "ename": "SyntaxError",
     "evalue": "invalid syntax (3280090445.py, line 1)",
     "output_type": "error",
     "traceback": [
      "\u001b[1;36m  File \u001b[1;32m\"C:\\Users\\Aaron\\AppData\\Local\\Temp\\ipykernel_4128\\3280090445.py\"\u001b[1;36m, line \u001b[1;32m1\u001b[0m\n\u001b[1;33m    pip install torch\u001b[0m\n\u001b[1;37m        ^\u001b[0m\n\u001b[1;31mSyntaxError\u001b[0m\u001b[1;31m:\u001b[0m invalid syntax\n"
     ]
    }
   ],
   "source": [
    "pip install torch"
   ]
  },
  {
   "cell_type": "code",
   "execution_count": 5,
   "metadata": {},
   "outputs": [
    {
     "name": "stdout",
     "output_type": "stream",
     "text": [
      "Defaulting to user installation because normal site-packages is not writeable\n",
      "Collecting torchvision\n",
      "  Downloading torchvision-0.14.1-cp39-cp39-win_amd64.whl (1.1 MB)\n",
      "     ---------------------------------------- 1.1/1.1 MB 23.0 MB/s eta 0:00:00\n",
      "Requirement already satisfied: pillow!=8.3.*,>=5.3.0 in e:\\programfiles\\anaconda3\\lib\\site-packages (from torchvision) (9.2.0)\n",
      "Requirement already satisfied: requests in e:\\programfiles\\anaconda3\\lib\\site-packages (from torchvision) (2.28.1)\n",
      "Requirement already satisfied: numpy in e:\\programfiles\\anaconda3\\lib\\site-packages (from torchvision) (1.21.5)\n",
      "Requirement already satisfied: typing-extensions in e:\\programfiles\\anaconda3\\lib\\site-packages (from torchvision) (4.3.0)\n",
      "Requirement already satisfied: torch==1.13.1 in c:\\users\\aaron\\appdata\\roaming\\python\\python39\\site-packages (from torchvision) (1.13.1)\n",
      "Requirement already satisfied: idna<4,>=2.5 in e:\\programfiles\\anaconda3\\lib\\site-packages (from requests->torchvision) (3.3)\n",
      "Requirement already satisfied: charset-normalizer<3,>=2 in e:\\programfiles\\anaconda3\\lib\\site-packages (from requests->torchvision) (2.0.4)\n",
      "Requirement already satisfied: certifi>=2017.4.17 in e:\\programfiles\\anaconda3\\lib\\site-packages (from requests->torchvision) (2022.9.14)\n",
      "Requirement already satisfied: urllib3<1.27,>=1.21.1 in e:\\programfiles\\anaconda3\\lib\\site-packages (from requests->torchvision) (1.26.11)\n",
      "Installing collected packages: torchvision\n",
      "Successfully installed torchvision-0.14.1\n",
      "Note: you may need to restart the kernel to use updated packages.\n"
     ]
    }
   ],
   "source": [
    "pip install torchvision"
   ]
  },
  {
   "cell_type": "code",
   "execution_count": 7,
   "metadata": {},
   "outputs": [
    {
     "name": "stdout",
     "output_type": "stream",
     "text": [
      "Defaulting to user installation because normal site-packages is not writeable\n",
      "Collecting torchsummary\n",
      "  Downloading torchsummary-1.5.1-py3-none-any.whl (2.8 kB)\n",
      "Installing collected packages: torchsummary\n",
      "Successfully installed torchsummary-1.5.1\n",
      "Note: you may need to restart the kernel to use updated packages.\n"
     ]
    }
   ],
   "source": [
    "pip install torchsummary"
   ]
  },
  {
   "cell_type": "code",
   "execution_count": 6,
   "metadata": {},
   "outputs": [
    {
     "name": "stdout",
     "output_type": "stream",
     "text": [
      "^C\n"
     ]
    }
   ],
   "source": [
    "!conda install pandas"
   ]
  },
  {
   "cell_type": "markdown",
   "metadata": {},
   "source": [
    "# START OF CODE FOR REAL\n",
    "---"
   ]
  },
  {
   "cell_type": "code",
   "execution_count": 6,
   "metadata": {
    "colab": {},
    "colab_type": "code",
    "id": "qTt8MLn7HTAv"
   },
   "outputs": [],
   "source": [
    "import sys\n",
    "import os\n",
    "import torch\n",
    "import torchvision\n",
    "import numpy as np\n",
    "import pandas as pd\n",
    "sys.path.append('src_release')"
   ]
  },
  {
   "cell_type": "code",
   "execution_count": 7,
   "metadata": {
    "colab": {},
    "colab_type": "code",
    "id": "A-08Cst4HdCH"
   },
   "outputs": [],
   "source": [
    "from data_loader import get_dataloader\n",
    "from models.encoder_decoder_faceoccnet import FaceOccNet \n",
    "from torch_utils import torch_load_weights,evaluation,viz_notebook,plot_confusion_matrix"
   ]
  },
  {
   "cell_type": "markdown",
   "metadata": {
    "tags": []
   },
   "source": [
    "## JPG TO PNG 24-BIT\n",
    "---"
   ]
  },
  {
   "cell_type": "code",
   "execution_count": 8,
   "metadata": {},
   "outputs": [
    {
     "ename": "FileNotFoundError",
     "evalue": "[Errno 2] No such file or directory: 'to_png\\\\couple.jpg'",
     "output_type": "error",
     "traceback": [
      "\u001b[1;31m---------------------------------------------------------------------------\u001b[0m",
      "\u001b[1;31mFileNotFoundError\u001b[0m                         Traceback (most recent call last)",
      "Cell \u001b[1;32mIn[8], line 9\u001b[0m\n\u001b[0;32m      7\u001b[0m \u001b[38;5;66;03m# Convert to png 24-bit\u001b[39;00m\n\u001b[0;32m      8\u001b[0m img_path \u001b[38;5;241m=\u001b[39m path \u001b[38;5;241m+\u001b[39m filename \u001b[38;5;241m+\u001b[39m \u001b[38;5;124m\"\u001b[39m\u001b[38;5;124m.jpg\u001b[39m\u001b[38;5;124m\"\u001b[39m\n\u001b[1;32m----> 9\u001b[0m png \u001b[38;5;241m=\u001b[39m \u001b[43mImage\u001b[49m\u001b[38;5;241;43m.\u001b[39;49m\u001b[43mopen\u001b[49m\u001b[43m(\u001b[49m\u001b[43mimg_path\u001b[49m\u001b[43m)\u001b[49m\n\u001b[0;32m     11\u001b[0m \u001b[38;5;66;03m# Save the png\u001b[39;00m\n\u001b[0;32m     12\u001b[0m png\u001b[38;5;241m.\u001b[39msave(path \u001b[38;5;241m+\u001b[39m filename \u001b[38;5;241m+\u001b[39m \u001b[38;5;124m\"\u001b[39m\u001b[38;5;124m_image_final.png\u001b[39m\u001b[38;5;124m\"\u001b[39m)\n",
      "File \u001b[1;32mE:\\ProgramFiles\\anaconda3\\envs\\pt-gpu\\lib\\site-packages\\PIL\\Image.py:3131\u001b[0m, in \u001b[0;36mopen\u001b[1;34m(fp, mode, formats)\u001b[0m\n\u001b[0;32m   3128\u001b[0m     filename \u001b[38;5;241m=\u001b[39m fp\n\u001b[0;32m   3130\u001b[0m \u001b[38;5;28;01mif\u001b[39;00m filename:\n\u001b[1;32m-> 3131\u001b[0m     fp \u001b[38;5;241m=\u001b[39m \u001b[43mbuiltins\u001b[49m\u001b[38;5;241;43m.\u001b[39;49m\u001b[43mopen\u001b[49m\u001b[43m(\u001b[49m\u001b[43mfilename\u001b[49m\u001b[43m,\u001b[49m\u001b[43m \u001b[49m\u001b[38;5;124;43m\"\u001b[39;49m\u001b[38;5;124;43mrb\u001b[39;49m\u001b[38;5;124;43m\"\u001b[39;49m\u001b[43m)\u001b[49m\n\u001b[0;32m   3132\u001b[0m     exclusive_fp \u001b[38;5;241m=\u001b[39m \u001b[38;5;28;01mTrue\u001b[39;00m\n\u001b[0;32m   3134\u001b[0m \u001b[38;5;28;01mtry\u001b[39;00m:\n",
      "\u001b[1;31mFileNotFoundError\u001b[0m: [Errno 2] No such file or directory: 'to_png\\\\couple.jpg'"
     ]
    }
   ],
   "source": [
    "from PIL import Image\n",
    "import shutil\n",
    "\n",
    "path = \"to_png\\\\\"\n",
    "filename = \"couple\"\n",
    "\n",
    "# Convert to png 24-bit\n",
    "img_path = path + filename + \".jpg\"\n",
    "png = Image.open(img_path)\n",
    "\n",
    "# Save the png\n",
    "png.save(path + filename + \"_image_final.png\")\n",
    "\n",
    "# Create the black _cc_occ_labels and _sp_labels (16 bit pngs)\n",
    "cc_occ_png = filename + \"_cc_occ_labels.png\"\n",
    "sp_png = filename + \"_sp_labels.png\"\n",
    "\n",
    "# black.png is reference image being duplicated\n",
    "shutil.copyfile(\"to_png\\\\black.png\", (\"to_png\\\\\" + cc_occ_png))\n",
    "shutil.copyfile(\"to_png\\\\black.png\", (\"to_png\\\\\" + sp_png))\n",
    "\n",
    "# Delete the original couple.jpg\n",
    "# os.remove(img_path)"
   ]
  },
  {
   "cell_type": "code",
   "execution_count": null,
   "metadata": {},
   "outputs": [],
   "source": []
  },
  {
   "cell_type": "markdown",
   "metadata": {},
   "source": [
    "## FACE SEG MODEL\n",
    "---"
   ]
  },
  {
   "cell_type": "code",
   "execution_count": 9,
   "metadata": {
    "colab": {},
    "colab_type": "code",
    "id": "-SpM-0OSIFD7"
   },
   "outputs": [],
   "source": [
    "load_model_path = (\"./ptlabel_best_model.pth\")\n",
    "eval_path = \"to_png\"\n",
    "model = FaceOccNet(input_channels=3, n_classes=3,is_regularized=True)"
   ]
  },
  {
   "cell_type": "code",
   "execution_count": 10,
   "metadata": {},
   "outputs": [
    {
     "name": "stdout",
     "output_type": "stream",
     "text": [
      "to_png\n"
     ]
    }
   ],
   "source": [
    "print(eval_path)"
   ]
  },
  {
   "cell_type": "code",
   "execution_count": 11,
   "metadata": {
    "colab": {
     "base_uri": "https://localhost:8080/",
     "height": 986
    },
    "colab_type": "code",
    "collapsed": true,
    "id": "dyPJ0b3dJZI0",
    "jupyter": {
     "outputs_hidden": true
    },
    "outputId": "ec81d1b7-4998-4fa2-f7e2-f186d7bf1717",
    "tags": []
   },
   "outputs": [
    {
     "data": {
      "text/plain": [
       "FaceOccNet(\n",
       "  (model_enc): Sequential(\n",
       "    (0): ReflectionPad2d((1, 1, 1, 1))\n",
       "    (1): Conv2d(3, 64, kernel_size=(3, 3), stride=(1, 1))\n",
       "    (2): ELU(alpha=1.0, inplace=True)\n",
       "    (3): ReflectionPad2d((1, 1, 1, 1))\n",
       "    (4): Conv2d(64, 128, kernel_size=(3, 3), stride=(2, 2))\n",
       "    (5): ELU(alpha=1.0, inplace=True)\n",
       "    (6): BatchNorm2d(128, eps=1e-05, momentum=0.1, affine=True, track_running_stats=True)\n",
       "    (7): ReflectionPad2d((1, 1, 1, 1))\n",
       "    (8): Conv2d(128, 128, kernel_size=(3, 3), stride=(1, 1))\n",
       "    (9): ELU(alpha=1.0, inplace=True)\n",
       "    (10): BatchNorm2d(128, eps=1e-05, momentum=0.1, affine=True, track_running_stats=True)\n",
       "    (11): ReflectionPad2d((1, 1, 1, 1))\n",
       "    (12): Conv2d(128, 128, kernel_size=(3, 3), stride=(1, 1))\n",
       "    (13): ELU(alpha=1.0, inplace=True)\n",
       "    (14): BatchNorm2d(128, eps=1e-05, momentum=0.1, affine=True, track_running_stats=True)\n",
       "    (15): ReflectionPad2d((1, 1, 1, 1))\n",
       "    (16): Conv2d(128, 256, kernel_size=(3, 3), stride=(2, 2))\n",
       "    (17): ELU(alpha=1.0, inplace=True)\n",
       "    (18): BatchNorm2d(256, eps=1e-05, momentum=0.1, affine=True, track_running_stats=True)\n",
       "  )\n",
       "  (model_dilation): Sequential(\n",
       "    (0): ReflectionPad2d((4, 4, 4, 4))\n",
       "    (1): Conv2d(256, 256, kernel_size=(3, 3), stride=(1, 1), dilation=(4, 4))\n",
       "    (2): ELU(alpha=1.0, inplace=True)\n",
       "    (3): BatchNorm2d(256, eps=1e-05, momentum=0.1, affine=True, track_running_stats=True)\n",
       "    (4): ReflectionPad2d((3, 3, 3, 3))\n",
       "    (5): Conv2d(256, 256, kernel_size=(3, 3), stride=(1, 1), dilation=(3, 3))\n",
       "    (6): ELU(alpha=1.0, inplace=True)\n",
       "    (7): BatchNorm2d(256, eps=1e-05, momentum=0.1, affine=True, track_running_stats=True)\n",
       "  )\n",
       "  (model_dec): Sequential(\n",
       "    (0): ReflectionPad2d((1, 1, 1, 1))\n",
       "    (1): Conv2d(512, 512, kernel_size=(3, 3), stride=(1, 1))\n",
       "    (2): ELU(alpha=1.0, inplace=True)\n",
       "    (3): BatchNorm2d(512, eps=1e-05, momentum=0.1, affine=True, track_running_stats=True)\n",
       "    (4): PixelShuffle(upscale_factor=2)\n",
       "    (5): ReflectionPad2d((1, 1, 1, 1))\n",
       "    (6): Conv2d(128, 128, kernel_size=(3, 3), stride=(1, 1))\n",
       "    (7): ELU(alpha=1.0, inplace=True)\n",
       "    (8): BatchNorm2d(128, eps=1e-05, momentum=0.1, affine=True, track_running_stats=True)\n",
       "    (9): ReflectionPad2d((1, 1, 1, 1))\n",
       "    (10): Conv2d(128, 128, kernel_size=(3, 3), stride=(1, 1))\n",
       "    (11): ELU(alpha=1.0, inplace=True)\n",
       "    (12): BatchNorm2d(128, eps=1e-05, momentum=0.1, affine=True, track_running_stats=True)\n",
       "    (13): PixelShuffle(upscale_factor=2)\n",
       "    (14): ReflectionPad2d((1, 1, 1, 1))\n",
       "    (15): Conv2d(32, 32, kernel_size=(3, 3), stride=(1, 1))\n",
       "    (16): ELU(alpha=1.0, inplace=True)\n",
       "    (17): ReflectionPad2d((1, 1, 1, 1))\n",
       "    (18): Conv2d(32, 32, kernel_size=(3, 3), stride=(1, 1))\n",
       "    (19): ELU(alpha=1.0, inplace=True)\n",
       "  )\n",
       "  (model_class): Conv2d(32, 3, kernel_size=(3, 3), stride=(1, 1), padding=(1, 1))\n",
       "  (drop): Dropout(p=0.2, inplace=False)\n",
       ")"
      ]
     },
     "execution_count": 11,
     "metadata": {},
     "output_type": "execute_result"
    }
   ],
   "source": [
    "device = torch.device(\"cuda:0\" if torch.cuda.is_available() else \"cpu\")\n",
    "model.to(device)"
   ]
  },
  {
   "cell_type": "code",
   "execution_count": 12,
   "metadata": {
    "colab": {
     "base_uri": "https://localhost:8080/",
     "height": 1000
    },
    "colab_type": "code",
    "collapsed": true,
    "id": "RtNXHYCQJotH",
    "jupyter": {
     "outputs_hidden": true
    },
    "outputId": "5d949172-dd03-4f8e-bd90-90fc55a64d90",
    "tags": []
   },
   "outputs": [
    {
     "name": "stdout",
     "output_type": "stream",
     "text": [
      "[Start] Model\n",
      "FaceOccNet(\n",
      "  (model_enc): Sequential(\n",
      "    (0): ReflectionPad2d((1, 1, 1, 1))\n",
      "    (1): Conv2d(3, 64, kernel_size=(3, 3), stride=(1, 1))\n",
      "    (2): ELU(alpha=1.0, inplace=True)\n",
      "    (3): ReflectionPad2d((1, 1, 1, 1))\n",
      "    (4): Conv2d(64, 128, kernel_size=(3, 3), stride=(2, 2))\n",
      "    (5): ELU(alpha=1.0, inplace=True)\n",
      "    (6): BatchNorm2d(128, eps=1e-05, momentum=0.1, affine=True, track_running_stats=True)\n",
      "    (7): ReflectionPad2d((1, 1, 1, 1))\n",
      "    (8): Conv2d(128, 128, kernel_size=(3, 3), stride=(1, 1))\n",
      "    (9): ELU(alpha=1.0, inplace=True)\n",
      "    (10): BatchNorm2d(128, eps=1e-05, momentum=0.1, affine=True, track_running_stats=True)\n",
      "    (11): ReflectionPad2d((1, 1, 1, 1))\n",
      "    (12): Conv2d(128, 128, kernel_size=(3, 3), stride=(1, 1))\n",
      "    (13): ELU(alpha=1.0, inplace=True)\n",
      "    (14): BatchNorm2d(128, eps=1e-05, momentum=0.1, affine=True, track_running_stats=True)\n",
      "    (15): ReflectionPad2d((1, 1, 1, 1))\n",
      "    (16): Conv2d(128, 256, kernel_size=(3, 3), stride=(2, 2))\n",
      "    (17): ELU(alpha=1.0, inplace=True)\n",
      "    (18): BatchNorm2d(256, eps=1e-05, momentum=0.1, affine=True, track_running_stats=True)\n",
      "  )\n",
      "  (model_dilation): Sequential(\n",
      "    (0): ReflectionPad2d((4, 4, 4, 4))\n",
      "    (1): Conv2d(256, 256, kernel_size=(3, 3), stride=(1, 1), dilation=(4, 4))\n",
      "    (2): ELU(alpha=1.0, inplace=True)\n",
      "    (3): BatchNorm2d(256, eps=1e-05, momentum=0.1, affine=True, track_running_stats=True)\n",
      "    (4): ReflectionPad2d((3, 3, 3, 3))\n",
      "    (5): Conv2d(256, 256, kernel_size=(3, 3), stride=(1, 1), dilation=(3, 3))\n",
      "    (6): ELU(alpha=1.0, inplace=True)\n",
      "    (7): BatchNorm2d(256, eps=1e-05, momentum=0.1, affine=True, track_running_stats=True)\n",
      "  )\n",
      "  (model_dec): Sequential(\n",
      "    (0): ReflectionPad2d((1, 1, 1, 1))\n",
      "    (1): Conv2d(512, 512, kernel_size=(3, 3), stride=(1, 1))\n",
      "    (2): ELU(alpha=1.0, inplace=True)\n",
      "    (3): BatchNorm2d(512, eps=1e-05, momentum=0.1, affine=True, track_running_stats=True)\n",
      "    (4): PixelShuffle(upscale_factor=2)\n",
      "    (5): ReflectionPad2d((1, 1, 1, 1))\n",
      "    (6): Conv2d(128, 128, kernel_size=(3, 3), stride=(1, 1))\n",
      "    (7): ELU(alpha=1.0, inplace=True)\n",
      "    (8): BatchNorm2d(128, eps=1e-05, momentum=0.1, affine=True, track_running_stats=True)\n",
      "    (9): ReflectionPad2d((1, 1, 1, 1))\n",
      "    (10): Conv2d(128, 128, kernel_size=(3, 3), stride=(1, 1))\n",
      "    (11): ELU(alpha=1.0, inplace=True)\n",
      "    (12): BatchNorm2d(128, eps=1e-05, momentum=0.1, affine=True, track_running_stats=True)\n",
      "    (13): PixelShuffle(upscale_factor=2)\n",
      "    (14): ReflectionPad2d((1, 1, 1, 1))\n",
      "    (15): Conv2d(32, 32, kernel_size=(3, 3), stride=(1, 1))\n",
      "    (16): ELU(alpha=1.0, inplace=True)\n",
      "    (17): ReflectionPad2d((1, 1, 1, 1))\n",
      "    (18): Conv2d(32, 32, kernel_size=(3, 3), stride=(1, 1))\n",
      "    (19): ELU(alpha=1.0, inplace=True)\n",
      "  )\n",
      "  (model_class): Conv2d(32, 3, kernel_size=(3, 3), stride=(1, 1), padding=(1, 1))\n",
      "  (drop): Dropout(p=0.2, inplace=False)\n",
      ")\n",
      "[End] Model\n",
      "[Start] Keras viz\n",
      "----------------------------------------------------------------\n",
      "        Layer (type)               Output Shape         Param #\n",
      "================================================================\n",
      "   ReflectionPad2d-1          [-1, 3, 130, 130]               0\n",
      "            Conv2d-2         [-1, 64, 128, 128]           1,792\n",
      "               ELU-3         [-1, 64, 128, 128]               0\n",
      "   ReflectionPad2d-4         [-1, 64, 130, 130]               0\n",
      "            Conv2d-5          [-1, 128, 64, 64]          73,856\n",
      "               ELU-6          [-1, 128, 64, 64]               0\n",
      "       BatchNorm2d-7          [-1, 128, 64, 64]             256\n",
      "   ReflectionPad2d-8          [-1, 128, 66, 66]               0\n",
      "            Conv2d-9          [-1, 128, 64, 64]         147,584\n",
      "              ELU-10          [-1, 128, 64, 64]               0\n",
      "      BatchNorm2d-11          [-1, 128, 64, 64]             256\n",
      "  ReflectionPad2d-12          [-1, 128, 66, 66]               0\n",
      "           Conv2d-13          [-1, 128, 64, 64]         147,584\n",
      "              ELU-14          [-1, 128, 64, 64]               0\n",
      "      BatchNorm2d-15          [-1, 128, 64, 64]             256\n",
      "  ReflectionPad2d-16          [-1, 128, 66, 66]               0\n",
      "           Conv2d-17          [-1, 256, 32, 32]         295,168\n",
      "              ELU-18          [-1, 256, 32, 32]               0\n",
      "      BatchNorm2d-19          [-1, 256, 32, 32]             512\n",
      "  ReflectionPad2d-20          [-1, 256, 40, 40]               0\n",
      "           Conv2d-21          [-1, 256, 32, 32]         590,080\n",
      "              ELU-22          [-1, 256, 32, 32]               0\n",
      "      BatchNorm2d-23          [-1, 256, 32, 32]             512\n",
      "  ReflectionPad2d-24          [-1, 256, 38, 38]               0\n",
      "           Conv2d-25          [-1, 256, 32, 32]         590,080\n",
      "              ELU-26          [-1, 256, 32, 32]               0\n",
      "      BatchNorm2d-27          [-1, 256, 32, 32]             512\n",
      "          Dropout-28          [-1, 512, 32, 32]               0\n",
      "  ReflectionPad2d-29          [-1, 512, 34, 34]               0\n",
      "           Conv2d-30          [-1, 512, 32, 32]       2,359,808\n",
      "              ELU-31          [-1, 512, 32, 32]               0\n",
      "      BatchNorm2d-32          [-1, 512, 32, 32]           1,024\n",
      "     PixelShuffle-33          [-1, 128, 64, 64]               0\n",
      "  ReflectionPad2d-34          [-1, 128, 66, 66]               0\n",
      "           Conv2d-35          [-1, 128, 64, 64]         147,584\n",
      "              ELU-36          [-1, 128, 64, 64]               0\n",
      "      BatchNorm2d-37          [-1, 128, 64, 64]             256\n",
      "  ReflectionPad2d-38          [-1, 128, 66, 66]               0\n",
      "           Conv2d-39          [-1, 128, 64, 64]         147,584\n",
      "              ELU-40          [-1, 128, 64, 64]               0\n",
      "      BatchNorm2d-41          [-1, 128, 64, 64]             256\n",
      "     PixelShuffle-42         [-1, 32, 128, 128]               0\n",
      "  ReflectionPad2d-43         [-1, 32, 130, 130]               0\n",
      "           Conv2d-44         [-1, 32, 128, 128]           9,248\n",
      "              ELU-45         [-1, 32, 128, 128]               0\n",
      "  ReflectionPad2d-46         [-1, 32, 130, 130]               0\n",
      "           Conv2d-47         [-1, 32, 128, 128]           9,248\n",
      "              ELU-48         [-1, 32, 128, 128]               0\n",
      "           Conv2d-49          [-1, 3, 128, 128]             867\n",
      "================================================================\n",
      "Total params: 4,524,323\n",
      "Trainable params: 4,524,323\n",
      "Non-trainable params: 0\n",
      "----------------------------------------------------------------\n",
      "Input size (MB): 0.19\n",
      "Forward/backward pass size (MB): 183.00\n",
      "Params size (MB): 17.26\n",
      "Estimated Total Size (MB): 200.44\n",
      "----------------------------------------------------------------\n",
      "[End] Keras viz\n"
     ]
    }
   ],
   "source": [
    "from torchsummary import summary\n",
    "print('[Start] Model')\n",
    "print(model)\n",
    "print('[End] Model')    \n",
    "print('[Start] Keras viz')\n",
    "summary(model,(3,128,128))\n",
    "print('[End] Keras viz')"
   ]
  },
  {
   "cell_type": "code",
   "execution_count": 13,
   "metadata": {
    "colab": {
     "base_uri": "https://localhost:8080/",
     "height": 34
    },
    "colab_type": "code",
    "id": "B3fb0v3PKJpZ",
    "outputId": "abfd0694-7936-4c21-87ea-6cfaa6bdd72c"
   },
   "outputs": [
    {
     "name": "stdout",
     "output_type": "stream",
     "text": [
      "Loaded model from ./ptlabel_best_model.pth\n"
     ]
    }
   ],
   "source": [
    "# You have to set def load in serialization.py to have its map_location parameter = 'cpu'\n",
    "if os.path.exists(load_model_path) and os.path.isfile(load_model_path):\n",
    "    _, _ = torch_load_weights(model, None, load_model_path, model_only=True)\n",
    "    print(f'Loaded model from {load_model_path}')\n",
    "else:\n",
    "    print(f'The model does not exist in {load_model_path} or is not a file')"
   ]
  },
  {
   "cell_type": "markdown",
   "metadata": {
    "colab_type": "text",
    "id": "XZZmebNzKiV4"
   },
   "source": []
  },
  {
   "cell_type": "markdown",
   "metadata": {
    "colab_type": "text",
    "id": "eh85bA8_Knmf"
   },
   "source": [
    "## Data Loader"
   ]
  },
  {
   "cell_type": "code",
   "execution_count": 28,
   "metadata": {
    "colab": {
     "base_uri": "https://localhost:8080/",
     "height": 51
    },
    "colab_type": "code",
    "id": "UP6RrHx6KmDf",
    "outputId": "206d29d5-6372-40d1-ee57-d666f990be9f"
   },
   "outputs": [
    {
     "name": "stderr",
     "output_type": "stream",
     "text": [
      "2023-02-22 10:38:08,663 - part_label_dataset - INFO - reading the image files...\n",
      "2023-02-22 10:38:08,664 - part_label_dataset - INFO - finished initializing the dataloader 3 files.\n"
     ]
    }
   ],
   "source": [
    "name2class = {'bg':0,'face':1,'hair':2}\n",
    "eval_dataloader = get_dataloader( (eval_path,),\n",
    "                                  batch_size=64,\n",
    "                                  mode='eval', \n",
    "                                  num_workers = 4,\n",
    "                                  n_classes=3,\n",
    "                                  dataset_name='PartLabel')"
   ]
  },
  {
   "cell_type": "code",
   "execution_count": 24,
   "metadata": {
    "scrolled": true,
    "tags": []
   },
   "outputs": [
    {
     "name": "stdout",
     "output_type": "stream",
     "text": [
      "x is:  0\n",
      "ENDENDNENDENDNENDENDENDN\n",
      "y is:  [tensor([[[[-1., -1., -1.,  ..., -1., -1., -1.],\n",
      "          [-1., -1., -1.,  ..., -1., -1., -1.],\n",
      "          [-1., -1., -1.,  ..., -1., -1., -1.],\n",
      "          ...,\n",
      "          [-1., -1., -1.,  ..., -1., -1., -1.],\n",
      "          [-1., -1., -1.,  ..., -1., -1., -1.],\n",
      "          [-1., -1., -1.,  ..., -1., -1., -1.]],\n",
      "\n",
      "         [[-1., -1., -1.,  ..., -1., -1., -1.],\n",
      "          [-1., -1., -1.,  ..., -1., -1., -1.],\n",
      "          [-1., -1., -1.,  ..., -1., -1., -1.],\n",
      "          ...,\n",
      "          [-1., -1., -1.,  ..., -1., -1., -1.],\n",
      "          [-1., -1., -1.,  ..., -1., -1., -1.],\n",
      "          [-1., -1., -1.,  ..., -1., -1., -1.]],\n",
      "\n",
      "         [[-1., -1., -1.,  ..., -1., -1., -1.],\n",
      "          [-1., -1., -1.,  ..., -1., -1., -1.],\n",
      "          [-1., -1., -1.,  ..., -1., -1., -1.],\n",
      "          ...,\n",
      "          [-1., -1., -1.,  ..., -1., -1., -1.],\n",
      "          [-1., -1., -1.,  ..., -1., -1., -1.],\n",
      "          [-1., -1., -1.,  ..., -1., -1., -1.]]],\n",
      "\n",
      "\n",
      "        [[[-1., -1., -1.,  ..., -1., -1., -1.],\n",
      "          [-1., -1., -1.,  ..., -1., -1., -1.],\n",
      "          [-1., -1., -1.,  ..., -1., -1., -1.],\n",
      "          ...,\n",
      "          [-1., -1., -1.,  ..., -1., -1., -1.],\n",
      "          [-1., -1., -1.,  ..., -1., -1., -1.],\n",
      "          [-1., -1., -1.,  ..., -1., -1., -1.]],\n",
      "\n",
      "         [[-1., -1., -1.,  ..., -1., -1., -1.],\n",
      "          [-1., -1., -1.,  ..., -1., -1., -1.],\n",
      "          [-1., -1., -1.,  ..., -1., -1., -1.],\n",
      "          ...,\n",
      "          [-1., -1., -1.,  ..., -1., -1., -1.],\n",
      "          [-1., -1., -1.,  ..., -1., -1., -1.],\n",
      "          [-1., -1., -1.,  ..., -1., -1., -1.]],\n",
      "\n",
      "         [[-1., -1., -1.,  ..., -1., -1., -1.],\n",
      "          [-1., -1., -1.,  ..., -1., -1., -1.],\n",
      "          [-1., -1., -1.,  ..., -1., -1., -1.],\n",
      "          ...,\n",
      "          [-1., -1., -1.,  ..., -1., -1., -1.],\n",
      "          [-1., -1., -1.,  ..., -1., -1., -1.],\n",
      "          [-1., -1., -1.,  ..., -1., -1., -1.]]],\n",
      "\n",
      "\n",
      "        [[[-1., -1., -1.,  ..., -1., -1., -1.],\n",
      "          [-1., -1., -1.,  ..., -1., -1., -1.],\n",
      "          [-1., -1., -1.,  ..., -1., -1., -1.],\n",
      "          ...,\n",
      "          [-1., -1., -1.,  ..., -1., -1., -1.],\n",
      "          [-1., -1., -1.,  ..., -1., -1., -1.],\n",
      "          [-1., -1., -1.,  ..., -1., -1., -1.]],\n",
      "\n",
      "         [[-1., -1., -1.,  ..., -1., -1., -1.],\n",
      "          [-1., -1., -1.,  ..., -1., -1., -1.],\n",
      "          [-1., -1., -1.,  ..., -1., -1., -1.],\n",
      "          ...,\n",
      "          [-1., -1., -1.,  ..., -1., -1., -1.],\n",
      "          [-1., -1., -1.,  ..., -1., -1., -1.],\n",
      "          [-1., -1., -1.,  ..., -1., -1., -1.]],\n",
      "\n",
      "         [[-1., -1., -1.,  ..., -1., -1., -1.],\n",
      "          [-1., -1., -1.,  ..., -1., -1., -1.],\n",
      "          [-1., -1., -1.,  ..., -1., -1., -1.],\n",
      "          ...,\n",
      "          [-1., -1., -1.,  ..., -1., -1., -1.],\n",
      "          [-1., -1., -1.,  ..., -1., -1., -1.],\n",
      "          [-1., -1., -1.,  ..., -1., -1., -1.]]]]), tensor([[[0, 0, 0,  ..., 0, 0, 0],\n",
      "         [0, 0, 0,  ..., 0, 0, 0],\n",
      "         [0, 0, 0,  ..., 0, 0, 0],\n",
      "         ...,\n",
      "         [0, 0, 0,  ..., 0, 0, 0],\n",
      "         [0, 0, 0,  ..., 0, 0, 0],\n",
      "         [0, 0, 0,  ..., 0, 0, 0]],\n",
      "\n",
      "        [[0, 0, 0,  ..., 0, 0, 0],\n",
      "         [0, 0, 0,  ..., 0, 0, 0],\n",
      "         [0, 0, 0,  ..., 0, 0, 0],\n",
      "         ...,\n",
      "         [0, 0, 0,  ..., 0, 0, 0],\n",
      "         [0, 0, 0,  ..., 0, 0, 0],\n",
      "         [0, 0, 0,  ..., 0, 0, 0]],\n",
      "\n",
      "        [[0, 0, 0,  ..., 0, 0, 0],\n",
      "         [0, 0, 0,  ..., 0, 0, 0],\n",
      "         [0, 0, 0,  ..., 0, 0, 0],\n",
      "         ...,\n",
      "         [0, 0, 0,  ..., 0, 0, 0],\n",
      "         [0, 0, 0,  ..., 0, 0, 0],\n",
      "         [0, 0, 0,  ..., 0, 0, 0]]], dtype=torch.uint8), tensor([[[0, 0, 0,  ..., 0, 0, 0],\n",
      "         [0, 0, 0,  ..., 0, 0, 0],\n",
      "         [0, 0, 0,  ..., 0, 0, 0],\n",
      "         ...,\n",
      "         [0, 0, 0,  ..., 0, 0, 0],\n",
      "         [0, 0, 0,  ..., 0, 0, 0],\n",
      "         [0, 0, 0,  ..., 0, 0, 0]],\n",
      "\n",
      "        [[0, 0, 0,  ..., 0, 0, 0],\n",
      "         [0, 0, 0,  ..., 0, 0, 0],\n",
      "         [0, 0, 0,  ..., 0, 0, 0],\n",
      "         ...,\n",
      "         [0, 0, 0,  ..., 0, 0, 0],\n",
      "         [0, 0, 0,  ..., 0, 0, 0],\n",
      "         [0, 0, 0,  ..., 0, 0, 0]],\n",
      "\n",
      "        [[0, 0, 0,  ..., 0, 0, 0],\n",
      "         [0, 0, 0,  ..., 0, 0, 0],\n",
      "         [0, 0, 0,  ..., 0, 0, 0],\n",
      "         ...,\n",
      "         [0, 0, 0,  ..., 0, 0, 0],\n",
      "         [0, 0, 0,  ..., 0, 0, 0],\n",
      "         [0, 0, 0,  ..., 0, 0, 0]]], dtype=torch.int32), ('couple_0_image_final.png', 'couple_1_image_final.png', 'girl_0_image_final.png')]\n"
     ]
    }
   ],
   "source": [
    "import matplotlib.pyplot as plt\n",
    "for x, y in enumerate(eval_dataloader):    \n",
    "    print(\"x is: \", x)\n",
    "    print(\"ENDENDNENDENDNENDENDENDN\")\n",
    "    print(\"y is: \", y)"
   ]
  },
  {
   "cell_type": "markdown",
   "metadata": {
    "colab_type": "text",
    "id": "hv4bbdHzLi8N"
   },
   "source": [
    "# 128 pixel rez"
   ]
  },
  {
   "cell_type": "markdown",
   "metadata": {},
   "source": [
    "### You don't actually need to run this evaluation. This is just for a confusion matrix. Rather, you can jump straight to visualization"
   ]
  },
  {
   "cell_type": "markdown",
   "metadata": {
    "colab_type": "text",
    "id": "_1Zz2pp2LA4P",
    "jp-MarkdownHeadingCollapsed": true,
    "tags": []
   },
   "source": [
    "## Evaluation"
   ]
  },
  {
   "cell_type": "code",
   "execution_count": 10,
   "metadata": {
    "colab": {
     "base_uri": "https://localhost:8080/",
     "height": 539
    },
    "colab_type": "code",
    "collapsed": true,
    "id": "3xKafRWeLB3f",
    "jupyter": {
     "outputs_hidden": true
    },
    "outputId": "048786f0-bd89-4d5f-a82a-1698100127f0",
    "tags": []
   },
   "outputs": [
    {
     "name": "stderr",
     "output_type": "stream",
     "text": [
      "2023-02-13 09:16:57,706 - torch_utils - INFO - -------------------eval------------------\n",
      "eval: 100%|████████████████████████████████████████████████████████████████████████████| 15/15 [01:01<00:00,  4.07s/it]\n",
      "2023-02-13 09:18:10,851 - torch_utils - INFO - eval global_pix_acc_sp:0.968246\n",
      "2023-02-13 09:18:10,852 - torch_utils - INFO - eval global_pix_acc:0.960561\n",
      "2023-02-13 09:18:10,852 - torch_utils - INFO - eval avg_recall:0.932198\n",
      "2023-02-13 09:18:10,853 - torch_utils - INFO - eval----\n",
      "2023-02-13 09:18:10,854 - torch_utils - INFO - eval bg_recall:0.976434\n",
      "2023-02-13 09:18:10,855 - torch_utils - INFO - eval bg_precision:0.980108\n",
      "2023-02-13 09:18:10,855 - torch_utils - INFO - eval bg_iou:0.957460\n",
      "2023-02-13 09:18:10,856 - torch_utils - INFO - eval----\n",
      "2023-02-13 09:18:10,857 - torch_utils - INFO - eval bg_f_measure:0.978268\n",
      "2023-02-13 09:18:10,857 - torch_utils - INFO - eval----\n",
      "2023-02-13 09:18:10,858 - torch_utils - INFO - eval face_recall:0.955247\n",
      "2023-02-13 09:18:10,859 - torch_utils - INFO - eval face_precision:0.946460\n",
      "2023-02-13 09:18:10,859 - torch_utils - INFO - eval face_iou:0.906275\n",
      "2023-02-13 09:18:10,860 - torch_utils - INFO - eval----\n",
      "2023-02-13 09:18:10,861 - torch_utils - INFO - eval face_f_measure:0.950833\n",
      "2023-02-13 09:18:10,861 - torch_utils - INFO - eval----\n",
      "2023-02-13 09:18:10,862 - torch_utils - INFO - eval hair_recall:0.864912\n",
      "2023-02-13 09:18:10,863 - torch_utils - INFO - eval hair_precision:0.860217\n",
      "2023-02-13 09:18:10,864 - torch_utils - INFO - eval hair_iou:0.758332\n",
      "2023-02-13 09:18:10,865 - torch_utils - INFO - eval----\n",
      "2023-02-13 09:18:10,866 - torch_utils - INFO - eval hair_f_measure:0.862558\n",
      "2023-02-13 09:18:10,867 - torch_utils - INFO - eval----\n",
      "2023-02-13 09:18:10,867 - torch_utils - INFO - eval mean_iou:0.874022\n",
      "2023-02-13 09:18:10,868 - torch_utils - INFO - eval err_l1_cc:3.514563\n",
      "2023-02-13 09:18:10,869 - torch_utils - INFO - -----------------eval end.-----------------\n"
     ]
    },
    {
     "data": {
      "text/html": [
       "<div>\n",
       "<style scoped>\n",
       "    .dataframe tbody tr th:only-of-type {\n",
       "        vertical-align: middle;\n",
       "    }\n",
       "\n",
       "    .dataframe tbody tr th {\n",
       "        vertical-align: top;\n",
       "    }\n",
       "\n",
       "    .dataframe thead th {\n",
       "        text-align: right;\n",
       "    }\n",
       "</style>\n",
       "<table border=\"1\" class=\"dataframe\">\n",
       "  <thead>\n",
       "    <tr style=\"text-align: right;\">\n",
       "      <th></th>\n",
       "      <th>pix_acc</th>\n",
       "      <th>spix_acc</th>\n",
       "      <th>bg_recall</th>\n",
       "      <th>bg_precision</th>\n",
       "      <th>bg_IoU</th>\n",
       "      <th>bg_f_measure</th>\n",
       "      <th>face_recall</th>\n",
       "      <th>face_precision</th>\n",
       "      <th>face_IoU</th>\n",
       "      <th>face_f_measure</th>\n",
       "      <th>hair_recall</th>\n",
       "      <th>hair_precision</th>\n",
       "      <th>hair_IoU</th>\n",
       "      <th>hair_f_measure</th>\n",
       "      <th>mean_iou</th>\n",
       "      <th>err_l1_cc</th>\n",
       "    </tr>\n",
       "  </thead>\n",
       "  <tbody>\n",
       "    <tr>\n",
       "      <th>0</th>\n",
       "      <td>0.960561</td>\n",
       "      <td>0.968246</td>\n",
       "      <td>0.976434</td>\n",
       "      <td>0.980108</td>\n",
       "      <td>0.95746</td>\n",
       "      <td>0.978268</td>\n",
       "      <td>0.955247</td>\n",
       "      <td>0.94646</td>\n",
       "      <td>0.906275</td>\n",
       "      <td>0.950833</td>\n",
       "      <td>0.864912</td>\n",
       "      <td>0.860217</td>\n",
       "      <td>0.758332</td>\n",
       "      <td>0.862558</td>\n",
       "      <td>0.874022</td>\n",
       "      <td>3.514563</td>\n",
       "    </tr>\n",
       "  </tbody>\n",
       "</table>\n",
       "</div>"
      ],
      "text/plain": [
       "    pix_acc  spix_acc  bg_recall  bg_precision   bg_IoU  bg_f_measure  \\\n",
       "0  0.960561  0.968246   0.976434      0.980108  0.95746      0.978268   \n",
       "\n",
       "   face_recall  face_precision  face_IoU  face_f_measure  hair_recall  \\\n",
       "0     0.955247         0.94646  0.906275        0.950833     0.864912   \n",
       "\n",
       "   hair_precision  hair_IoU  hair_f_measure  mean_iou  err_l1_cc  \n",
       "0        0.860217  0.758332        0.862558  0.874022   3.514563  "
      ]
     },
     "execution_count": 10,
     "metadata": {},
     "output_type": "execute_result"
    }
   ],
   "source": [
    "conf_matrix_px_128, conf_matrix_super_px_128, result_128 = evaluation(model,eval_dataloader,name2class,is250=False,string_label='eval',n_classes=3,super_px=True)\n",
    "assert conf_matrix_px_128.conf_mat.sum()==128*128*927\n",
    "pd.DataFrame({ k : [v] for k,v in result_128.items()})"
   ]
  },
  {
   "cell_type": "code",
   "execution_count": 11,
   "metadata": {
    "collapsed": true,
    "jupyter": {
     "outputs_hidden": true
    },
    "tags": []
   },
   "outputs": [
    {
     "data": {
      "text/plain": [
       "dict_items([('pix_acc', 0.9605607544076996), ('spix_acc', 0.9682459762722765), ('bg_recall', 0.9764342531896808), ('bg_precision', 0.9801081864180184), ('bg_IoU', 0.957460029224418), ('bg_f_measure', 0.9782677704063071), ('face_recall', 0.955247138823181), ('face_precision', 0.9464602126592612), ('face_IoU', 0.906274897979715), ('face_f_measure', 0.9508333755432568), ('hair_recall', 0.8649120913838765), ('hair_precision', 0.8602170559475735), ('hair_IoU', 0.7583316994432615), ('hair_f_measure', 0.8625581847649918), ('mean_iou', 0.8740222088824648), ('err_l1_cc', 3.5145631067961167)])"
      ]
     },
     "execution_count": 11,
     "metadata": {},
     "output_type": "execute_result"
    }
   ],
   "source": [
    "result_128.items()"
   ]
  },
  {
   "cell_type": "markdown",
   "metadata": {
    "colab_type": "text",
    "id": "1sA1a-LxLRpf",
    "jp-MarkdownHeadingCollapsed": true,
    "tags": []
   },
   "source": [
    "## Plot Confusion Matrix"
   ]
  },
  {
   "cell_type": "code",
   "execution_count": 12,
   "metadata": {
    "colab": {
     "base_uri": "https://localhost:8080/",
     "height": 279
    },
    "colab_type": "code",
    "collapsed": true,
    "id": "-joq-iyBLLr4",
    "jupyter": {
     "outputs_hidden": true
    },
    "outputId": "3cbd463c-ed3f-484d-e6ae-f3c9be2b9e27",
    "tags": []
   },
   "outputs": [
    {
     "data": {
      "image/png": "[encoded data removed]",
      "text/plain": [
       "<Figure size 640x480 with 2 Axes>"
      ]
     },
     "metadata": {},
     "output_type": "display_data"
    }
   ],
   "source": [
    "plot_confusion_matrix(conf_matrix_px_128,name2class)"
   ]
  },
  {
   "cell_type": "markdown",
   "metadata": {
    "colab_type": "text",
    "id": "RxO_nbrwLU8X"
   },
   "source": [
    "## Visualization of 1st batch"
   ]
  },
  {
   "cell_type": "code",
   "execution_count": 29,
   "metadata": {},
   "outputs": [],
   "source": [
    "from tqdm import tqdm as tqdm\n",
    "from skimage import measure\n",
    "import matplotlib.pyplot as plt\n",
    "from data_tools import decode_mask2img,encode_img2mask\n",
    "\n",
    "'''\n",
    "Visualization function for tensorboard and notebook\n",
    "'''\n",
    "def tf_viz_img(mask_tmp,i,pred=True):\n",
    "    if pred:\n",
    "        mask_tmp = torch.argmax(mask_tmp[i], dim=0).numpy().copy()\n",
    "    else:\n",
    "        mask_tmp = mask_tmp[i].numpy().copy()\n",
    "    mask_tmp = decode_mask2img(mask_tmp)\n",
    "    mask_tmp = np.transpose(mask_tmp, (2,0,1))\n",
    "    mask_tmp = mask_tmp / 255.0\n",
    "    return mask_tmp\n",
    "\n",
    "'''\n",
    "Main Visualization function\n",
    "'''\n",
    "def viz_notebook_brew(model,eval_dataloader,device,ibv_stop=-1):\n",
    "    import matplotlib.pyplot as plt\n",
    "    \n",
    "    FOLDER_PATH = '.\\\\images'\n",
    "        \n",
    "    unorm = torchvision.transforms.Compose([ torchvision.transforms.Normalize((-1, -1, -1), (2, 2, 2))])\n",
    "    #batch_val = iter(eval_dataloader).next()\n",
    "    model.eval()\n",
    "    \n",
    "    with torch.no_grad():\n",
    "        for ibv, batch_val in tqdm(enumerate(eval_dataloader),\n",
    "                               desc='viz'):\n",
    "            img, mask_gt, mask_sp, fn = batch_val\n",
    "            pred_mask, _ = model(img.to(device))\n",
    "            pred_mask = pred_mask.cpu()\n",
    "            mask_gt = mask_gt.cpu().data\n",
    "            for b in range(pred_mask.shape[0]):\n",
    "                pred_tmp = tf_viz_img(pred_mask,b,pred=True)\n",
    "                # mask_gt_tmp = tf_viz_img(mask_gt,b,pred=False)\n",
    "                pred_tmp = np.transpose(pred_tmp, (1,2,0))\n",
    "                # mask_gt_tmp = np.transpose(mask_gt_tmp, (1,2,0))\n",
    "                ##plotting\n",
    "                fig = plt.figure()\n",
    "                plt.subplot(1,3,1)\n",
    "                plt.title(f'Image {img[b].shape[2]}')\n",
    "                plt.imshow(np.transpose(unorm(img[b]), (1,2,0)))\n",
    "                plt.axis('off')\n",
    "                print(\"IMAGE FILENAME IS: \" + fn[0])\n",
    "                \n",
    "                # TURN THE BLUE AND GREEN PRED_TMP TO WHITE\n",
    "                # Convert non-black pixels to white\n",
    "                non_black_pixels_mask = np.any(pred_tmp != [0, 0, 0], axis=-1)  \n",
    "                pred_tmp[non_black_pixels_mask] = [1, 1, 1]                                \n",
    "                                \n",
    "                plt.subplot(1,3,2)\n",
    "                plt.title(f'Prediction {pred_tmp.shape[0]}')\n",
    "                plt.imshow(pred_tmp)\n",
    "                plt.axis('off')                                                                                \n",
    "                plt.imsave('IMHEREIMHERE.png', pred_tmp)\n",
    "                #print((pred_tmp))\n",
    "                \n",
    "                # plt.subplot(1,3,3)\n",
    "                # plt.title(f'Ground-Truth {mask_gt_tmp.shape[0]}')\n",
    "                # plt.imshow(mask_gt_tmp)\n",
    "                # plt.axis('off')                                \n",
    "                plt.show()\n",
    "                plt.close(fig)\n",
    "            if ibv_stop == ibv:\n",
    "                break\n",
    "        "
   ]
  },
  {
   "cell_type": "code",
   "execution_count": 30,
   "metadata": {
    "colab": {
     "base_uri": "https://localhost:8080/",
     "height": 1000
    },
    "colab_type": "code",
    "id": "qOzc3cIDLT7j",
    "outputId": "6a04ace5-3fa0-4c6e-c356-99ffe29d0dc6",
    "tags": []
   },
   "outputs": [
    {
     "name": "stderr",
     "output_type": "stream",
     "text": [
      "viz: 0it [00:00, ?it/s]"
     ]
    },
    {
     "name": "stdout",
     "output_type": "stream",
     "text": [
      "IMAGE FILENAME IS: couple_0_image_final.png\n"
     ]
    },
    {
     "data": {
      "image/png": "[encoded data removed]",
      "text/plain": [
       "<Figure size 640x480 with 2 Axes>"
      ]
     },
     "metadata": {},
     "output_type": "display_data"
    },
    {
     "name": "stdout",
     "output_type": "stream",
     "text": [
      "IMAGE FILENAME IS: couple_0_image_final.png\n"
     ]
    },
    {
     "data": {
      "image/png": "[encoded data removed]",
      "text/plain": [
       "<Figure size 640x480 with 2 Axes>"
      ]
     },
     "metadata": {},
     "output_type": "display_data"
    },
    {
     "name": "stdout",
     "output_type": "stream",
     "text": [
      "IMAGE FILENAME IS: couple_0_image_final.png\n"
     ]
    },
    {
     "data": {
      "image/png": "[encoded data removed]",
      "text/plain": [
       "<Figure size 640x480 with 2 Axes>"
      ]
     },
     "metadata": {},
     "output_type": "display_data"
    },
    {
     "name": "stderr",
     "output_type": "stream",
     "text": [
      "viz: 0it [00:03, ?it/s]\n"
     ]
    }
   ],
   "source": [
    "pred_tmp = viz_notebook_brew(model,eval_dataloader,device,ibv_stop=0)"
   ]
  },
  {
   "cell_type": "code",
   "execution_count": 73,
   "metadata": {},
   "outputs": [
    {
     "name": "stdout",
     "output_type": "stream",
     "text": [
      "8387\n"
     ]
    }
   ],
   "source": [
    "# Count the number of pixels\n",
    "sum_pred = pred_tmp.sum(axis=2)\n",
    "\n",
    "total_pixels = 0\n",
    "for pixel_arr in sum_pred:\n",
    "    for pixel in pixel_arr:\n",
    "        if pixel > 0:\n",
    "            total_pixels += 1\n",
    "        \n",
    "print(total_pixels)"
   ]
  },
  {
   "cell_type": "markdown",
   "metadata": {
    "colab_type": "text",
    "id": "L3I_ORCBLZhy",
    "tags": []
   },
   "source": [
    "# 250 pixel rez"
   ]
  },
  {
   "cell_type": "code",
   "execution_count": null,
   "metadata": {
    "colab": {},
    "colab_type": "code",
    "id": "Zm9zeaTJLe9V"
   },
   "outputs": [],
   "source": [
    "%%bash\n",
    "wget -c https://www.dropbox.com/s/ylfyupbxg642tnb/part_label_test_250p_v2.tar &>/dev/null"
   ]
  },
  {
   "cell_type": "code",
   "execution_count": null,
   "metadata": {
    "colab": {
     "base_uri": "https://localhost:8080/",
     "height": 34
    },
    "colab_type": "code",
    "id": "h6VXsyWSL-N6",
    "outputId": "f1318319-6c2b-41cc-f783-0b92f905f20f"
   },
   "outputs": [
    {
     "name": "stdout",
     "output_type": "stream",
     "text": [
      "/tmp\n"
     ]
    }
   ],
   "source": [
    "%%bash\n",
    "if [ -z ${TMPDIR} ]; then TMPDIR='/tmp'; else echo \"TMPDIR is set to $TMPDIR\"; fi\n",
    "echo $TMPDIR\n",
    "PT_LABEL=part_label_test_250p_v2.tar\n",
    "mkdir -p $TMPDIR/eval-250\n",
    "tar -C $TMPDIR/eval-250 -xf $PT_LABEL "
   ]
  },
  {
   "cell_type": "code",
   "execution_count": null,
   "metadata": {
    "colab": {},
    "colab_type": "code",
    "id": "OrCWJEaJMElq"
   },
   "outputs": [],
   "source": [
    "eval_250_path = os.path.join('/tmp','eval-250/part_label_test_250p')"
   ]
  },
  {
   "cell_type": "code",
   "execution_count": null,
   "metadata": {
    "colab": {
     "base_uri": "https://localhost:8080/",
     "height": 68
    },
    "colab_type": "code",
    "id": "Mr2rlGu_MIpr",
    "outputId": "893fc525-3ce6-4af9-aa7a-fd9c4924e784"
   },
   "outputs": [
    {
     "name": "stderr",
     "output_type": "stream",
     "text": [
      "2020-03-18 01:10:06,278 - part_label_dataset - WARNING - We are processing part labels for 250p case!\n",
      "2020-03-18 01:10:06,280 - part_label_dataset - INFO - reading the image files...\n",
      "2020-03-18 01:10:06,297 - part_label_dataset - INFO - finished initializing the dataloader 927 files.\n"
     ]
    }
   ],
   "source": [
    "name2class = {'bg':0,'face':1,'hair':2}\n",
    "eval_dataloader_250 = get_dataloader( (eval_250_path,),\n",
    "                                  batch_size=64,\n",
    "                                  mode='eval', num_workers=0,\n",
    "                                  n_classes=3,\n",
    "                                  dataset_name='PartLabel')"
   ]
  },
  {
   "cell_type": "code",
   "execution_count": null,
   "metadata": {
    "colab": {
     "base_uri": "https://localhost:8080/",
     "height": 510
    },
    "colab_type": "code",
    "id": "Y_uxa7gXMMB7",
    "outputId": "172286ad-0f31-4410-8652-e899c0ba89bb"
   },
   "outputs": [
    {
     "name": "stderr",
     "output_type": "stream",
     "text": [
      "2020-03-18 01:10:17,586 - torch_utils - INFO - -------------------eval------------------\n",
      "eval:   0%|          | 0/15 [00:00<?, ?it/s]/usr/local/lib/python3.6/dist-packages/torch/nn/functional.py:2416: UserWarning: nn.functional.upsample is deprecated. Use nn.functional.interpolate instead.\n",
      "  warnings.warn(\"nn.functional.upsample is deprecated. Use nn.functional.interpolate instead.\")\n",
      "eval: 100%|██████████| 15/15 [05:40<00:00, 19.82s/it]\n",
      "2020-03-18 01:15:57,715 - torch_utils - INFO - eval global_pix_acc_sp:0.967832\n",
      "2020-03-18 01:15:57,716 - torch_utils - INFO - eval global_pix_acc:0.958594\n",
      "2020-03-18 01:15:57,717 - torch_utils - INFO - eval avg_recall:0.929323\n",
      "2020-03-18 01:15:57,718 - torch_utils - INFO - eval----\n",
      "2020-03-18 01:15:57,720 - torch_utils - INFO - eval bg_recall:0.975761\n",
      "2020-03-18 01:15:57,721 - torch_utils - INFO - eval bg_precision:0.978775\n",
      "2020-03-18 01:15:57,722 - torch_utils - INFO - eval bg_iou:0.955542\n",
      "2020-03-18 01:15:57,723 - torch_utils - INFO - eval----\n",
      "2020-03-18 01:15:57,725 - torch_utils - INFO - eval bg_f_measure:0.977266\n",
      "2020-03-18 01:15:57,726 - torch_utils - INFO - eval----\n",
      "2020-03-18 01:15:57,727 - torch_utils - INFO - eval face_recall:0.949184\n",
      "2020-03-18 01:15:57,728 - torch_utils - INFO - eval face_precision:0.945725\n",
      "2020-03-18 01:15:57,729 - torch_utils - INFO - eval face_iou:0.900150\n",
      "2020-03-18 01:15:57,730 - torch_utils - INFO - eval----\n",
      "2020-03-18 01:15:57,731 - torch_utils - INFO - eval face_f_measure:0.947451\n",
      "2020-03-18 01:15:57,732 - torch_utils - INFO - eval----\n",
      "2020-03-18 01:15:57,733 - torch_utils - INFO - eval hair_recall:0.863023\n",
      "2020-03-18 01:15:57,735 - torch_utils - INFO - eval hair_precision:0.851989\n",
      "2020-03-18 01:15:57,736 - torch_utils - INFO - eval hair_iou:0.750502\n",
      "2020-03-18 01:15:57,737 - torch_utils - INFO - eval----\n",
      "2020-03-18 01:15:57,738 - torch_utils - INFO - eval hair_f_measure:0.857471\n",
      "2020-03-18 01:15:57,739 - torch_utils - INFO - eval----\n",
      "2020-03-18 01:15:57,740 - torch_utils - INFO - eval mean_iou:0.868731\n",
      "2020-03-18 01:15:57,741 - torch_utils - INFO - eval err_l1_cc:3.641855\n",
      "2020-03-18 01:15:57,743 - torch_utils - INFO - -----------------eval end.-----------------\n"
     ]
    }
   ],
   "source": [
    "conf_matrix_px_250, conf_matrix_super_px_250, result_250 = evaluation(model,eval_dataloader_250,name2class,is250=True,string_label='eval',n_classes=3,super_px=True)"
   ]
  },
  {
   "cell_type": "markdown",
   "metadata": {
    "colab_type": "text",
    "id": "IMNBojLcMSnA"
   },
   "source": [
    "## Final Result"
   ]
  },
  {
   "cell_type": "code",
   "execution_count": null,
   "metadata": {
    "colab": {
     "base_uri": "https://localhost:8080/",
     "height": 111
    },
    "colab_type": "code",
    "id": "X-wd3JqhMOys",
    "outputId": "b746e8d5-56d1-4ff3-c6f5-1b0a02394124"
   },
   "outputs": [
    {
     "data": {
      "text/html": [
       "<div>\n",
       "<style scoped>\n",
       "    .dataframe tbody tr th:only-of-type {\n",
       "        vertical-align: middle;\n",
       "    }\n",
       "\n",
       "    .dataframe tbody tr th {\n",
       "        vertical-align: top;\n",
       "    }\n",
       "\n",
       "    .dataframe thead th {\n",
       "        text-align: right;\n",
       "    }\n",
       "</style>\n",
       "<table border=\"1\" class=\"dataframe\">\n",
       "  <thead>\n",
       "    <tr style=\"text-align: right;\">\n",
       "      <th></th>\n",
       "      <th>pix_acc</th>\n",
       "      <th>spix_acc</th>\n",
       "      <th>bg_recall</th>\n",
       "      <th>bg_precision</th>\n",
       "      <th>bg_IoU</th>\n",
       "      <th>bg_f_measure</th>\n",
       "      <th>face_recall</th>\n",
       "      <th>face_precision</th>\n",
       "      <th>face_IoU</th>\n",
       "      <th>face_f_measure</th>\n",
       "      <th>hair_recall</th>\n",
       "      <th>hair_precision</th>\n",
       "      <th>hair_IoU</th>\n",
       "      <th>hair_f_measure</th>\n",
       "      <th>mean_iou</th>\n",
       "      <th>err_l1_cc</th>\n",
       "    </tr>\n",
       "  </thead>\n",
       "  <tbody>\n",
       "    <tr>\n",
       "      <th>128p</th>\n",
       "      <td>96.056839</td>\n",
       "      <td>96.802146</td>\n",
       "      <td>97.643728</td>\n",
       "      <td>98.010945</td>\n",
       "      <td>95.746415</td>\n",
       "      <td>97.826992</td>\n",
       "      <td>95.525846</td>\n",
       "      <td>94.646360</td>\n",
       "      <td>90.628819</td>\n",
       "      <td>95.084069</td>\n",
       "      <td>86.495882</td>\n",
       "      <td>86.029339</td>\n",
       "      <td>75.842694</td>\n",
       "      <td>86.261979</td>\n",
       "      <td>87.405976</td>\n",
       "      <td>3.513484</td>\n",
       "    </tr>\n",
       "    <tr>\n",
       "      <th>250p</th>\n",
       "      <td>95.859371</td>\n",
       "      <td>96.783240</td>\n",
       "      <td>97.576120</td>\n",
       "      <td>97.877508</td>\n",
       "      <td>95.554237</td>\n",
       "      <td>97.726582</td>\n",
       "      <td>94.918409</td>\n",
       "      <td>94.572512</td>\n",
       "      <td>90.014987</td>\n",
       "      <td>94.745145</td>\n",
       "      <td>86.302288</td>\n",
       "      <td>85.198947</td>\n",
       "      <td>75.050212</td>\n",
       "      <td>85.747068</td>\n",
       "      <td>86.873145</td>\n",
       "      <td>3.641855</td>\n",
       "    </tr>\n",
       "  </tbody>\n",
       "</table>\n",
       "</div>"
      ],
      "text/plain": [
       "        pix_acc   spix_acc  bg_recall  ...  hair_f_measure   mean_iou  err_l1_cc\n",
       "128p  96.056839  96.802146  97.643728  ...       86.261979  87.405976   3.513484\n",
       "250p  95.859371  96.783240  97.576120  ...       85.747068  86.873145   3.641855\n",
       "\n",
       "[2 rows x 16 columns]"
      ]
     },
     "execution_count": 36,
     "metadata": {
      "tags": []
     },
     "output_type": "execute_result"
    }
   ],
   "source": [
    "result = {}\n",
    "for k,v in result_128.items():\n",
    "    if k != 'err_l1_cc':\n",
    "        result[k] = [v*100,result_250[k]*100]\n",
    "    else:\n",
    "        result[k] = [v,result_250[k]]\n",
    "import pandas as pd\n",
    "pd.DataFrame(result,index=['128p','250p'])"
   ]
  },
  {
   "cell_type": "code",
   "execution_count": null,
   "metadata": {
    "colab": {},
    "colab_type": "code",
    "id": "9AYc8gQSMYEM"
   },
   "outputs": [],
   "source": [
    "assert conf_matrix_px_250.conf_mat.sum()==250*250*927"
   ]
  },
  {
   "cell_type": "markdown",
   "metadata": {
    "colab_type": "text",
    "id": "ElnvOsh2Maow"
   },
   "source": [
    "## Plot Confusion Matrix"
   ]
  },
  {
   "cell_type": "code",
   "execution_count": null,
   "metadata": {
    "colab": {
     "base_uri": "https://localhost:8080/",
     "height": 279
    },
    "colab_type": "code",
    "id": "Niy4Ne7eMcFL",
    "outputId": "92ef8d65-f31c-4d6b-80cb-49ea37814ceb"
   },
   "outputs": [
    {
     "data": {
      "image/png": "[encoded data removed]",
      "text/plain": [
       "<Figure size 432x288 with 2 Axes>"
      ]
     },
     "metadata": {
      "tags": []
     },
     "output_type": "display_data"
    }
   ],
   "source": [
    "plot_confusion_matrix(conf_matrix_px_250,name2class)"
   ]
  },
  {
   "cell_type": "code",
   "execution_count": null,
   "metadata": {
    "colab": {},
    "colab_type": "code",
    "id": "7pNWLBrKMcwr"
   },
   "outputs": [],
   "source": []
  }
 ],
 "metadata": {
  "accelerator": "GPU",
  "colab": {
   "collapsed_sections": [],
   "name": "eval_model_pt_labels.ipynb",
   "provenance": [],
   "toc_visible": true
  },
  "kernelspec": {
   "display_name": "Python 3 (ipykernel)",
   "language": "python",
   "name": "python3"
  },
  "language_info": {
   "codemirror_mode": {
    "name": "ipython",
    "version": 3
   },
   "file_extension": ".py",
   "mimetype": "text/x-python",
   "name": "python",
   "nbconvert_exporter": "python",
   "pygments_lexer": "ipython3",
   "version": "3.10.9"
  }
 },
 "nbformat": 4,
 "nbformat_minor": 4
}
