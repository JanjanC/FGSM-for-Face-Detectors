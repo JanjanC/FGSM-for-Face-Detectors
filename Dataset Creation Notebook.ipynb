{
 "cells": [
  {
   "cell_type": "code",
   "execution_count": null,
   "id": "7fa916e0",
   "metadata": {},
   "outputs": [],
   "source": [
    "import os\n",
    "import torch\n",
    "from tqdm.notebook import tqdm\n",
    "import pandas as pd\n",
    "import glob"
   ]
  },
  {
   "cell_type": "code",
   "execution_count": null,
   "id": "0a1ed5ef",
   "metadata": {},
   "outputs": [],
   "source": [
    "from scripts import fgsm\n",
    "from scripts.utils import open_img_as_tensor\n",
    "from scripts.face_detectors import MediaPipe, YuNet, YoloFace\n",
    "from scripts.facesegmentor import FaceSegementor\n",
    "from scripts import image_attributes"
   ]
  },
  {
   "cell_type": "code",
   "execution_count": null,
   "id": "ba8b59b8",
   "metadata": {},
   "outputs": [],
   "source": [
    "# Settings\n",
    "image_attributes.save_color_images = False\n",
    "image_attributes.save_lbp_images = False\n",
    "image_attributes.save_gradient_images = False"
   ]
  },
  {
   "cell_type": "code",
   "execution_count": null,
   "id": "f5fafc4b",
   "metadata": {},
   "outputs": [],
   "source": [
    "faceseg = FaceSegementor()"
   ]
  },
  {
   "cell_type": "code",
   "execution_count": null,
   "id": "6714a553",
   "metadata": {},
   "outputs": [],
   "source": [
    "yf = YoloFace()\n",
    "yn = YuNet\n",
    "mp = MediaPipe"
   ]
  },
  {
   "cell_type": "code",
   "execution_count": null,
   "id": "6e4e5438",
   "metadata": {},
   "outputs": [],
   "source": [
    "label_regions = [\"bbox\", \"face\"]\n",
    "models = {\n",
    "    \"yf\": YoloFace(),\n",
    "    \"yn\": YuNet(),\n",
    "    \"mp\": MediaPipe()\n",
    "}\n",
    "\n",
    "def get_label(label_model, label_region):\n",
    "    return \"e_\" + label_region + \"_\" + label_model"
   ]
  },
  {
   "cell_type": "markdown",
   "id": "114ebb62",
   "metadata": {},
   "source": [
    "Set the folders containing the images that you will include in the dataset"
   ]
  },
  {
   "cell_type": "code",
   "execution_count": null,
   "id": "4d92088f",
   "metadata": {},
   "outputs": [],
   "source": [
    "folders = [r\"./input\"]"
   ]
  },
  {
   "cell_type": "markdown",
   "id": "cd7a44ad",
   "metadata": {},
   "source": [
    "Create a dataset"
   ]
  },
  {
   "cell_type": "code",
   "execution_count": null,
   "id": "efaf9c57",
   "metadata": {
    "scrolled": true
   },
   "outputs": [],
   "source": [
    "df_dataset = pd.DataFrame()\n",
    "for folder in tqdm(folders, desc=\"All folders progress\"):\n",
    "    for file_path in tqdm(glob.glob(os.path.join(folder, \"*.jpg\")), desc=\"Current folder progress\"):\n",
    "        input_img = open_img_as_tensor(file_path)\n",
    "        feats, grads, bboxes, masks = image_attributes.get_features(file_path, face_segmentor=faceseg)\n",
    "        for label_region in label_regions:\n",
    "            if label_region == \"bbox\":\n",
    "                for i in range(len(masks)):\n",
    "                    bbox_mask = masks[i]\n",
    "                    bbox_mask[..., bboxes[i][1]:bboxes[i][3], bboxes[i][0]:bboxes[i][2]] = 1\n",
    "                    masks[i] = bbox_mask\n",
    "                \n",
    "            for model in models:\n",
    "                e_mins = []\n",
    "                for data_grad, mask, bbox in zip(grads, masks, bboxes):    \n",
    "                    display_img(mask)\n",
    "                    e_mins.append(fgsm.binary_search(input_img, data_grad, models[model], mask, bbox))\n",
    "                label_name = get_label(model, label_region)\n",
    "                feats[label_name] = e_mins\n",
    "    df_dataset = pd.concat([df_dataset, feats], ignore_index=True)"
   ]
  },
  {
   "cell_type": "code",
   "execution_count": null,
   "id": "635b9191",
   "metadata": {},
   "outputs": [],
   "source": [
    "df_dataset.to_csv(\"min_epsilon_dataset.csv\")"
   ]
  },
  {
   "cell_type": "markdown",
   "id": "7b53c37d",
   "metadata": {},
   "source": [
    "___"
   ]
  }
 ],
 "metadata": {
  "kernelspec": {
   "display_name": "Python 3 (ipykernel)",
   "language": "python",
   "name": "python3"
  },
  "language_info": {
   "codemirror_mode": {
    "name": "ipython",
    "version": 3
   },
   "file_extension": ".py",
   "mimetype": "text/x-python",
   "name": "python",
   "nbconvert_exporter": "python",
   "pygments_lexer": "ipython3",
   "version": "3.10.11"
  }
 },
 "nbformat": 4,
 "nbformat_minor": 5
}
