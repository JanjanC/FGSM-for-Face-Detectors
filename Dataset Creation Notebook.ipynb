{
 "cells": [
  {
   "cell_type": "code",
   "execution_count": 1,
   "id": "7fa916e0",
   "metadata": {},
   "outputs": [],
   "source": [
    "import os\n",
    "from tqdm.notebook import tqdm\n",
    "import pandas as pd\n",
    "import glob"
   ]
  },
  {
   "cell_type": "code",
   "execution_count": 2,
   "id": "0a1ed5ef",
   "metadata": {},
   "outputs": [],
   "source": [
    "from scripts import image_attributes"
   ]
  },
  {
   "cell_type": "code",
   "execution_count": 3,
   "id": "ba8b59b8",
   "metadata": {},
   "outputs": [],
   "source": [
    "# Settings\n",
    "image_attributes.save_color_images = False\n",
    "image_attributes.save_lbp_images = False\n",
    "image_attributes.save_gradient_images = False"
   ]
  },
  {
   "cell_type": "markdown",
   "id": "cd7a44ad",
   "metadata": {},
   "source": [
    "Create a dataset"
   ]
  },
  {
   "cell_type": "code",
   "execution_count": 4,
   "id": "efaf9c57",
   "metadata": {
    "scrolled": true
   },
   "outputs": [
    {
     "data": {
      "application/vnd.jupyter.widget-view+json": {
       "model_id": "cf0152da71ec4bcf9fe473d08518a5f2",
       "version_major": 2,
       "version_minor": 0
      },
      "text/plain": [
       "All folders progress:   0%|          | 0/1 [00:00<?, ?it/s]"
      ]
     },
     "metadata": {},
     "output_type": "display_data"
    },
    {
     "data": {
      "application/vnd.jupyter.widget-view+json": {
       "model_id": "c1aae4148f2d4309b432ad6a73ecbef2",
       "version_major": 2,
       "version_minor": 0
      },
      "text/plain": [
       "Current folder progress:   0%|          | 0/3 [00:00<?, ?it/s]"
      ]
     },
     "metadata": {},
     "output_type": "display_data"
    }
   ],
   "source": [
    "df_dataset = pd.DataFrame()\n",
    "folders = [r\"./input\"]\n",
    "for folder in tqdm(folders, desc=\"All folders progress\"):\n",
    "    for file_path in tqdm(glob.glob(os.path.join(folder, \"*.jpg\")), desc=\"Current folder progress\"):\n",
    "        feats, _, _, _ = image_attributes.get_features(file_path)\n",
    "        df_dataset = pd.concat([df_dataset, feats], ignore_index=True)"
   ]
  },
  {
   "cell_type": "code",
   "execution_count": 5,
   "id": "1195a45b",
   "metadata": {},
   "outputs": [
    {
     "data": {
      "text/html": [
       "<div>\n",
       "<style scoped>\n",
       "    .dataframe tbody tr th:only-of-type {\n",
       "        vertical-align: middle;\n",
       "    }\n",
       "\n",
       "    .dataframe tbody tr th {\n",
       "        vertical-align: top;\n",
       "    }\n",
       "\n",
       "    .dataframe thead th {\n",
       "        text-align: right;\n",
       "    }\n",
       "</style>\n",
       "<table border=\"1\" class=\"dataframe\">\n",
       "  <thead>\n",
       "    <tr style=\"text-align: right;\">\n",
       "      <th></th>\n",
       "      <th>path</th>\n",
       "      <th>source_w</th>\n",
       "      <th>source_h</th>\n",
       "      <th>face_index</th>\n",
       "      <th>obj_score</th>\n",
       "      <th>class_score</th>\n",
       "      <th>x1</th>\n",
       "      <th>y1</th>\n",
       "      <th>x2</th>\n",
       "      <th>y2</th>\n",
       "      <th>...</th>\n",
       "      <th>SOBEL_BIN_bbox_16</th>\n",
       "      <th>SOBEL_BIN_bbox_17</th>\n",
       "      <th>SOBEL_BIN_bbox_18</th>\n",
       "      <th>SOBEL_BIN_bbox_19</th>\n",
       "      <th>SOBEL_BIN_bbox_20</th>\n",
       "      <th>SOBEL_BIN_bbox_21</th>\n",
       "      <th>SOBEL_BIN_bbox_22</th>\n",
       "      <th>SOBEL_BIN_bbox_23</th>\n",
       "      <th>SOBEL_BIN_bbox_24</th>\n",
       "      <th>SOBEL_BIN_bbox_25</th>\n",
       "    </tr>\n",
       "  </thead>\n",
       "  <tbody>\n",
       "    <tr>\n",
       "      <th>0</th>\n",
       "      <td>./input\\sample1.jpg</td>\n",
       "      <td>1024</td>\n",
       "      <td>1024</td>\n",
       "      <td>0</td>\n",
       "      <td>0.999962</td>\n",
       "      <td>0.999982</td>\n",
       "      <td>113</td>\n",
       "      <td>77</td>\n",
       "      <td>281</td>\n",
       "      <td>337</td>\n",
       "      <td>...</td>\n",
       "      <td>0.029623</td>\n",
       "      <td>0.028113</td>\n",
       "      <td>0.021226</td>\n",
       "      <td>0.024717</td>\n",
       "      <td>0.023774</td>\n",
       "      <td>0.020377</td>\n",
       "      <td>0.020000</td>\n",
       "      <td>0.019434</td>\n",
       "      <td>0.020094</td>\n",
       "      <td>0.018868</td>\n",
       "    </tr>\n",
       "    <tr>\n",
       "      <th>1</th>\n",
       "      <td>./input\\sample2.jpg</td>\n",
       "      <td>457</td>\n",
       "      <td>450</td>\n",
       "      <td>0</td>\n",
       "      <td>0.999709</td>\n",
       "      <td>0.999919</td>\n",
       "      <td>164</td>\n",
       "      <td>90</td>\n",
       "      <td>291</td>\n",
       "      <td>213</td>\n",
       "      <td>...</td>\n",
       "      <td>0.034372</td>\n",
       "      <td>0.034693</td>\n",
       "      <td>0.040154</td>\n",
       "      <td>0.039190</td>\n",
       "      <td>0.032766</td>\n",
       "      <td>0.031481</td>\n",
       "      <td>0.037906</td>\n",
       "      <td>0.029553</td>\n",
       "      <td>0.026662</td>\n",
       "      <td>0.023129</td>\n",
       "    </tr>\n",
       "    <tr>\n",
       "      <th>2</th>\n",
       "      <td>./input\\sample3.jpg</td>\n",
       "      <td>149</td>\n",
       "      <td>129</td>\n",
       "      <td>0</td>\n",
       "      <td>0.933927</td>\n",
       "      <td>0.997976</td>\n",
       "      <td>124</td>\n",
       "      <td>31</td>\n",
       "      <td>313</td>\n",
       "      <td>415</td>\n",
       "      <td>...</td>\n",
       "      <td>0.022685</td>\n",
       "      <td>0.024389</td>\n",
       "      <td>0.017571</td>\n",
       "      <td>0.036256</td>\n",
       "      <td>0.016653</td>\n",
       "      <td>0.018620</td>\n",
       "      <td>0.014555</td>\n",
       "      <td>0.013867</td>\n",
       "      <td>0.028946</td>\n",
       "      <td>0.009638</td>\n",
       "    </tr>\n",
       "  </tbody>\n",
       "</table>\n",
       "<p>3 rows × 528 columns</p>\n",
       "</div>"
      ],
      "text/plain": [
       "                  path  source_w  source_h  face_index  obj_score  \\\n",
       "0  ./input\\sample1.jpg      1024      1024           0   0.999962   \n",
       "1  ./input\\sample2.jpg       457       450           0   0.999709   \n",
       "2  ./input\\sample3.jpg       149       129           0   0.933927   \n",
       "\n",
       "   class_score   x1  y1   x2   y2  ... SOBEL_BIN_bbox_16 SOBEL_BIN_bbox_17  \\\n",
       "0     0.999982  113  77  281  337  ...          0.029623          0.028113   \n",
       "1     0.999919  164  90  291  213  ...          0.034372          0.034693   \n",
       "2     0.997976  124  31  313  415  ...          0.022685          0.024389   \n",
       "\n",
       "  SOBEL_BIN_bbox_18 SOBEL_BIN_bbox_19  SOBEL_BIN_bbox_20  SOBEL_BIN_bbox_21  \\\n",
       "0          0.021226          0.024717           0.023774           0.020377   \n",
       "1          0.040154          0.039190           0.032766           0.031481   \n",
       "2          0.017571          0.036256           0.016653           0.018620   \n",
       "\n",
       "   SOBEL_BIN_bbox_22  SOBEL_BIN_bbox_23  SOBEL_BIN_bbox_24  SOBEL_BIN_bbox_25  \n",
       "0           0.020000           0.019434           0.020094           0.018868  \n",
       "1           0.037906           0.029553           0.026662           0.023129  \n",
       "2           0.014555           0.013867           0.028946           0.009638  \n",
       "\n",
       "[3 rows x 528 columns]"
      ]
     },
     "execution_count": 5,
     "metadata": {},
     "output_type": "execute_result"
    }
   ],
   "source": [
    "df_dataset"
   ]
  },
  {
   "cell_type": "code",
   "execution_count": 6,
   "id": "635b9191",
   "metadata": {},
   "outputs": [],
   "source": [
    "df_dataset.to_csv(\"min_epsilon_dataset.csv\")"
   ]
  },
  {
   "cell_type": "markdown",
   "id": "7b53c37d",
   "metadata": {},
   "source": [
    "___"
   ]
  }
 ],
 "metadata": {
  "kernelspec": {
   "display_name": "Python 3 (ipykernel)",
   "language": "python",
   "name": "python3"
  },
  "language_info": {
   "codemirror_mode": {
    "name": "ipython",
    "version": 3
   },
   "file_extension": ".py",
   "mimetype": "text/x-python",
   "name": "python",
   "nbconvert_exporter": "python",
   "pygments_lexer": "ipython3",
   "version": "3.10.11"
  }
 },
 "nbformat": 4,
 "nbformat_minor": 5
}
