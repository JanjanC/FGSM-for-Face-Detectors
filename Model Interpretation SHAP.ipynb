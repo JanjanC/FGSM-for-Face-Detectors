{
 "cells": [
  {
   "cell_type": "code",
   "execution_count": null,
   "id": "605b7ba4",
   "metadata": {},
   "outputs": [],
   "source": [
    "import numpy as np\n",
    "import pandas as pd\n",
    "import os\n",
    "import matplotlib.pyplot as plt"
   ]
  },
  {
   "cell_type": "code",
   "execution_count": null,
   "id": "3f456663",
   "metadata": {},
   "outputs": [],
   "source": [
    "# random_state = 100\n",
    "\n",
    "# if not os.path.isdir(\"model_dumps\"):\n",
    "#     os.makedirs(\"model_dumps\")"
   ]
  },
  {
   "cell_type": "markdown",
   "id": "c2bb39b6",
   "metadata": {},
   "source": [
    "## Data Loading"
   ]
  },
  {
   "cell_type": "markdown",
   "id": "5ef4dac4",
   "metadata": {},
   "source": [
    "Set the filename here"
   ]
  },
  {
   "cell_type": "code",
   "execution_count": null,
   "id": "02095299",
   "metadata": {
    "scrolled": true
   },
   "outputs": [],
   "source": [
    "CSV_FILENAME = \"ths-st3 compiled dataset.csv\" #<-- update csv name\n",
    "df_features = pd.read_csv(CSV_FILENAME)\n",
    "df_features.head()"
   ]
  },
  {
   "cell_type": "markdown",
   "id": "8ffd5a69",
   "metadata": {},
   "source": [
    "```\n",
    "df_features = df_features.drop(columns = ['Unnamed: 0', 'path', 'source_w', 'source_h', 'face_index'])\n",
    "df_features = df_features.loc[df_features[\"e_bbox_yf\"] < 3, :]\n",
    "print(df_features.columns)\n",
    "```"
   ]
  },
  {
   "cell_type": "markdown",
   "id": "f9e31460",
   "metadata": {},
   "source": [
    "Change string types to numeric types"
   ]
  },
  {
   "cell_type": "code",
   "execution_count": null,
   "id": "d492d00e",
   "metadata": {},
   "outputs": [],
   "source": [
    "from sklearn.preprocessing import LabelEncoder"
   ]
  },
  {
   "cell_type": "code",
   "execution_count": null,
   "id": "39432f99",
   "metadata": {},
   "outputs": [],
   "source": [
    "encoder = LabelEncoder()\n",
    "categorical_columns = df_features.select_dtypes(include=[bool, object]).columns\n",
    "encoded_columns = df_features[categorical_columns].apply(encoder.fit_transform)\n",
    "encoded_columns"
   ]
  },
  {
   "cell_type": "code",
   "execution_count": null,
   "id": "32502a51",
   "metadata": {},
   "outputs": [],
   "source": [
    "df_encoded_features = df_features.copy()\n",
    "df_encoded_features[categorical_columns] = encoded_columns\n",
    "df_encoded_features"
   ]
  },
  {
   "cell_type": "markdown",
   "id": "3da69f72",
   "metadata": {},
   "source": [
    "Split into X and Y"
   ]
  },
  {
   "cell_type": "code",
   "execution_count": null,
   "id": "7d08d42b",
   "metadata": {},
   "outputs": [],
   "source": [
    "feat_regions = [\"bbox\", \"mask\"]\n",
    "\n",
    "color_channels = {\n",
    "    \"RGB\": (\"R_BIN_\", \"G_BIN_\", \"B_BIN_\"),\n",
    "    \"HSV\": (\"H_HSV_BIN_\", \"S_HSV_BIN_\", \"V_HSV_BIN_\"),\n",
    "    \"HSL\": (\"H_HSL_BIN_\", \"S_HSL_BIN_\", \"L_HSL_BIN_\"),\n",
    "    \"LAB\": (\"L_LAB_BIN_\", \"A_LAB_BIN_\", \"B_LAB_BIN_\"),\n",
    "    \"YCBCR\": (\"Y_BIN_\", \"CR_BIN_\", \"CB_BIN_\"),\n",
    "}\n",
    "\n",
    "#labels = {\"bbox\": \"e_bbox_yf\", \"mask\": \"e_face_yf\"}\n",
    "labels = {\"mask\": \"e_bbox_yf\", \"bbox\": \"e_face_yf\"} #<-- inverted"
   ]
  },
  {
   "cell_type": "code",
   "execution_count": null,
   "id": "2736f54b",
   "metadata": {},
   "outputs": [],
   "source": [
    "def get_features_and_label(color_space, region):\n",
    "    features = [\"w\", \"h\", \"x\", \"y\", \"obj_score\", \"class_score\"]\n",
    "    for color_channel in color_channels[color_space]: \n",
    "        features += [color_channel + region + \"_\" + str(i) for i in range(26)]\n",
    "    features += [\"LBP_BIN_\" + region + \"_\" + str(i) for i in range(26)]\n",
    "    features += [\"SOBELX_BIN_\" + region + \"_\" + str(i) for i in range(20)]\n",
    "    features += [\"SOBELY_BIN_\" + region + \"_\" + str(i) for i in range(20)]\n",
    "    features += [\"SOBEL_BIN_\" + region + \"_\" + str(i) for i in range(20)]\n",
    "    return features, labels[region]"
   ]
  },
  {
   "cell_type": "code",
   "execution_count": null,
   "id": "ff210081",
   "metadata": {},
   "outputs": [],
   "source": [
    "from sklearn.model_selection import train_test_split\n",
    "CHOSEN_COLOR_SPACE = \"HSV\" #<-- pick a colorspace\n",
    "CHOSEN_REGION = \"bbox\"\n",
    "random_state=100\n",
    "\n",
    "features, _ = get_features_and_label(CHOSEN_COLOR_SPACE, CHOSEN_REGION)\n",
    "label = \"e_bbox_yf\"\n",
    "X_features =  df_encoded_features.loc[:,  features]\n",
    "y_features = df_encoded_features.loc[:, label].values #<-- pick label\n",
    "\n",
    "X_train, X_test, y_train, y_test = train_test_split(X_features, y_features, test_size = 0.2, random_state=random_state)"
   ]
  },
  {
   "cell_type": "code",
   "execution_count": null,
   "id": "07845c39",
   "metadata": {},
   "outputs": [],
   "source": [
    "X_features.columns.tolist()"
   ]
  },
  {
   "cell_type": "code",
   "execution_count": null,
   "id": "d1d98ba0",
   "metadata": {
    "scrolled": false
   },
   "outputs": [],
   "source": [
    "features"
   ]
  },
  {
   "cell_type": "markdown",
   "id": "e9d18fd3",
   "metadata": {},
   "source": [
    "## Load Model"
   ]
  },
  {
   "cell_type": "code",
   "execution_count": null,
   "id": "10711e42",
   "metadata": {},
   "outputs": [],
   "source": [
    "# TODO: LOAD MODEL HERE\n",
    "from sklearn.base import clone as clone_model\n",
    "import joblib\n",
    "import sys\n",
    "from custom_mlp import CustomMLP\n",
    "from custom_mlp import custom_scorer\n",
    "\n",
    "model = joblib.load(\"model_dumps/penalty_1.1578947368421053_HSV_bbox_e_face_yf.pkl\")"
   ]
  },
  {
   "cell_type": "code",
   "execution_count": null,
   "id": "7908fb36",
   "metadata": {
    "scrolled": true
   },
   "outputs": [],
   "source": [
    "model"
   ]
  },
  {
   "cell_type": "code",
   "execution_count": null,
   "id": "0c381a7f",
   "metadata": {},
   "outputs": [],
   "source": [
    "def positive_error(actual, pred):\n",
    "    total = 0\n",
    "    count = 0\n",
    "    for a,b in zip(pred, actual):\n",
    "        if a > b:\n",
    "            total += a - b\n",
    "            count += 1\n",
    "    if count == 0:\n",
    "        return 0\n",
    "    return total / count\n",
    "def concealment_ratio(actual, pred):\n",
    "    count = 0\n",
    "    for a, b in zip(pred, actual):\n",
    "        if a >= b:\n",
    "            count+= 1\n",
    "            \n",
    "    return count / len(actual)\n",
    "\n",
    "print(\"Test\")\n",
    "y_pred = model.predict(X_test)\n",
    "print(\"Positive Error\", positive_error(y_test, y_pred))\n",
    "print(\"Face Percent\", concealment_ratio(y_test, y_pred))\n",
    "\n",
    "print(\"Train\")\n",
    "y_pred = model.predict(X_train)\n",
    "print(\"Positive Error\", positive_error(y_train, y_pred))\n",
    "print(\"Face Percent\", concealment_ratio(y_train, y_pred))"
   ]
  },
  {
   "cell_type": "markdown",
   "id": "9a0f7748",
   "metadata": {},
   "source": [
    "## SHAP"
   ]
  },
  {
   "cell_type": "code",
   "execution_count": null,
   "id": "ab64c189",
   "metadata": {},
   "outputs": [],
   "source": [
    "import shap"
   ]
  },
  {
   "cell_type": "code",
   "execution_count": null,
   "id": "61c147e4",
   "metadata": {},
   "outputs": [],
   "source": [
    "explainer = shap.Explainer(model.predict, X_test)\n",
    "shap_values = explainer(X_test)\n",
    "# shap_values = explainer.shap_values(X_test)"
   ]
  },
  {
   "cell_type": "code",
   "execution_count": null,
   "id": "b1c9e6c5",
   "metadata": {},
   "outputs": [],
   "source": [
    "shap_values"
   ]
  },
  {
   "cell_type": "code",
   "execution_count": null,
   "id": "cfe593ae",
   "metadata": {},
   "outputs": [],
   "source": [
    "shap.plots.bar(shap_values,  max_display=200)"
   ]
  },
  {
   "cell_type": "markdown",
   "id": "97d3d341",
   "metadata": {},
   "source": [
    "## Grouped Shap Values"
   ]
  },
  {
   "cell_type": "code",
   "execution_count": null,
   "id": "14a2799d",
   "metadata": {},
   "outputs": [],
   "source": [
    "for i in X_test.columns:\n",
    "    print(i)"
   ]
  },
  {
   "cell_type": "code",
   "execution_count": null,
   "id": "ae900c05",
   "metadata": {},
   "outputs": [],
   "source": [
    "def group_shap_features(color_space, region):\n",
    "    yolo = [\"w\", \"h\", \"x\", \"y\", \"obj_score\", \"class_score\"]\n",
    "    color = []\n",
    "    for color_channel in color_channels[color_space]: \n",
    "        color.append([color_channel + region + \"_\" + str(i) for i in range(26)])\n",
    "    lbp = [\"LBP_BIN_\" + region + \"_\" + str(i) for i in range(26)]\n",
    "    sobel_x = [\"SOBELX_BIN_\" + region + \"_\" + str(i) for i in range(20)]\n",
    "    sobel_y = [\"SOBELY_BIN_\" + region + \"_\" + str(i) for i in range(20)]\n",
    "    sobel = [\"SOBEL_BIN_\" + region + \"_\" + str(i) for i in range(20)]\n",
    "    return (yolo, *color, lbp, sobel_x, sobel_y, sobel)"
   ]
  },
  {
   "cell_type": "code",
   "execution_count": null,
   "id": "d5e66759",
   "metadata": {},
   "outputs": [],
   "source": [
    "groups = {}\n",
    "# groups['XYWH'] = []\n",
    "# groups['LAB_L'] = []\n",
    "# groups['LAB_A'] = []\n",
    "# groups['LAB_B'] = []\n",
    "# groups['LBP'] = []\n",
    "# groups['Sobel_X'] = []\n",
    "# groups['Sobel_Y'] = []\n",
    "# groups['Sobel'] = []\n",
    "\n",
    "groups['XYWH'], groups['Hue'], groups['Saturation'], groups['Value'], groups['LBP'], groups['Sobel X'], groups['Sobel Y'], groups['Sobel'] = group_shap_features(CHOSEN_COLOR_SPACE, CHOSEN_REGION)\n",
    "groups['W'] = groups['XYWH'][0]\n",
    "groups['H'] = groups['XYWH'][1]\n",
    "groups['X'] = groups['XYWH'][2]\n",
    "groups['Y'] = groups['XYWH'][3]\n",
    "groups['Objectness Score'] = groups['XYWH'][4]\n",
    "groups['Class Confidence'] = groups['XYWH'][5]\n",
    "groups.pop('XYWH')"
   ]
  },
  {
   "cell_type": "code",
   "execution_count": null,
   "id": "1249f267",
   "metadata": {},
   "outputs": [],
   "source": [
    "groups"
   ]
  },
  {
   "cell_type": "code",
   "execution_count": null,
   "id": "be01f169",
   "metadata": {},
   "outputs": [],
   "source": [
    "df_data = pd.DataFrame()\n",
    "df_values = pd.DataFrame()\n",
    "for dict_idx, dict_item in groups.items():\n",
    "    counter = 0\n",
    "    dict_item = [dict_item] if isinstance(dict_item, str) else dict_item\n",
    "    for item in dict_item:\n",
    "        counter += 1\n",
    "        idx = X_test.columns.get_loc(item)\n",
    "        if counter == 1:\n",
    "            df_data[dict_idx] = shap_values.data[:, idx]\n",
    "            df_values[dict_idx] = shap_values.values[:, idx]\n",
    "        else:\n",
    "            df_data[dict_idx] += shap_values.data[:, idx]\n",
    "            df_values[dict_idx] += shap_values.values[:, idx]"
   ]
  },
  {
   "cell_type": "code",
   "execution_count": null,
   "id": "5f25ed9e",
   "metadata": {},
   "outputs": [],
   "source": [
    "aggregates = shap.Explanation(df_values.to_numpy(), base_values=shap_values.base_values, data=df_data.to_numpy(), feature_names=df_data.columns.tolist())"
   ]
  },
  {
   "cell_type": "code",
   "execution_count": null,
   "id": "6a2469d0",
   "metadata": {},
   "outputs": [],
   "source": [
    "shap.plots.bar(aggregates, max_display=18)"
   ]
  },
  {
   "cell_type": "markdown",
   "id": "4a8d4c32",
   "metadata": {},
   "source": [
    "## Directional Impact"
   ]
  },
  {
   "cell_type": "code",
   "execution_count": null,
   "id": "2dc8e171",
   "metadata": {},
   "outputs": [],
   "source": [
    "for x, y in enumerate(shap_values.feature_names):\n",
    "    print(x, y)"
   ]
  },
  {
   "cell_type": "code",
   "execution_count": null,
   "id": "84a063b1",
   "metadata": {},
   "outputs": [],
   "source": [
    "feat_names = {}\n",
    "feat_names['XYWH'] = ['W', 'H', 'X', 'Y', \"Objectness Score\", \"Class Confidence\"]\n",
    "feat_names['Hue'] = []\n",
    "feat_names['Saturation'] = []\n",
    "feat_names['Value'] = []\n",
    "feat_names['LBP'] = []\n",
    "feat_names['Sobel X'] = []\n",
    "feat_names['Sobel Y'] = []\n",
    "feat_names['Sobel'] = []\n",
    "\n",
    "for i in range(26):\n",
    "    feat_names['Hue'].append('Hue ' + str(i) )\n",
    "    feat_names['Saturation'].append('Saturation ' + str(i) )\n",
    "    feat_names['Value'].append('Value ' + str(i) )\n",
    "    feat_names['LBP'].append('LBP ' + str(i) )\n",
    "\n",
    "for i in range(20):\n",
    "    feat_names['Sobel X'].append('Sobel X ' + str(i) )\n",
    "    feat_names['Sobel Y'].append('Sobel Y ' + str(i) )\n",
    "    feat_names['Sobel'].append('Sobel ' + str(i) )"
   ]
  },
  {
   "cell_type": "code",
   "execution_count": null,
   "id": "570bf802",
   "metadata": {
    "scrolled": false
   },
   "outputs": [],
   "source": [
    "shap.summary_plot(shap_values[:, 0:6], feature_names=feat_names['XYWH'], max_display=18)\n",
    "shap.summary_plot(shap_values[:, 6:32], feature_names=feat_names['Hue'], max_display=18)\n",
    "shap.summary_plot(shap_values[:, 32:58], feature_names=feat_names['Saturation'], max_display=26)\n",
    "shap.summary_plot(shap_values[:, 58:84], feature_names=feat_names['Value'], max_display=26)\n",
    "shap.summary_plot(shap_values[:, 84:110], feature_names=feat_names['LBP'], max_display=26)\n",
    "shap.summary_plot(shap_values[:, 110:130], feature_names=feat_names['Sobel X'], max_display=20)\n",
    "shap.summary_plot(shap_values[:, 130:150], feature_names=feat_names['Sobel Y'], max_display=20)\n",
    "shap.summary_plot(shap_values[:, 150:170], feature_names=feat_names['Sobel'], max_display=20)"
   ]
  },
  {
   "cell_type": "code",
   "execution_count": null,
   "id": "855baf4e",
   "metadata": {},
   "outputs": [],
   "source": [
    "shap_values[:, 108:128].shape"
   ]
  },
  {
   "cell_type": "code",
   "execution_count": null,
   "id": "da539e3e",
   "metadata": {},
   "outputs": [],
   "source": []
  }
 ],
 "metadata": {
  "kernelspec": {
   "display_name": "venv",
   "language": "python",
   "name": "venv"
  },
  "language_info": {
   "codemirror_mode": {
    "name": "ipython",
    "version": 3
   },
   "file_extension": ".py",
   "mimetype": "text/x-python",
   "name": "python",
   "nbconvert_exporter": "python",
   "pygments_lexer": "ipython3",
   "version": "3.9.13"
  }
 },
 "nbformat": 4,
 "nbformat_minor": 5
}
