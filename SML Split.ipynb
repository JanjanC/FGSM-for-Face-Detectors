{
 "cells": [
  {
   "cell_type": "code",
   "execution_count": 123,
   "id": "36a25e50",
   "metadata": {},
   "outputs": [],
   "source": [
    "import pandas as pd\n",
    "import numpy as np"
   ]
  },
  {
   "cell_type": "code",
   "execution_count": 124,
   "id": "2823cff7",
   "metadata": {},
   "outputs": [],
   "source": [
    "# FILENAME = 'DROPPEDWITHATTRIBUTESNULL_recompiled_features_updated_yunet_pixels_bg_pixels_fixlbbox.csv'\n",
    "FILENAME = 'ths-st3 compiled dataset.csv'\n",
    "df = pd.read_csv(FILENAME)"
   ]
  },
  {
   "cell_type": "code",
   "execution_count": 125,
   "id": "473f0f5d",
   "metadata": {},
   "outputs": [],
   "source": [
    "def calculate_bin_ranges(dataset, num_bins):\n",
    "    sorted_dataset = np.sort(dataset)  # Sort the dataset in ascending order\n",
    "    data_min = sorted_dataset.min()  # Minimum value in the dataset\n",
    "    data_max = sorted_dataset.max()  # Maximum value in the dataset\n",
    "\n",
    "    bin_width = (data_max - data_min) / num_bins  # Calculate the width of each bin\n",
    "\n",
    "    bin_ranges = []  # List to store the ranges of each bin\n",
    "\n",
    "    for i in range(num_bins):\n",
    "        bin_min = data_min + (bin_width * i)  # Calculate the minimum value of the bin\n",
    "        bin_max = bin_min + bin_width  # Calculate the maximum value of the bin\n",
    "        bin_ranges.append((bin_min, bin_max))  # Add the range to the bin_ranges list\n",
    "\n",
    "    return bin_ranges"
   ]
  },
  {
   "cell_type": "code",
   "execution_count": 126,
   "id": "f0ae4700",
   "metadata": {},
   "outputs": [],
   "source": [
    "# df['bbox_area'] = np.log(df['w'] * df['h'])\n",
    "df['bbox_area'] = df['w'] * df['h']"
   ]
  },
  {
   "cell_type": "code",
   "execution_count": 127,
   "id": "6a0ffe13",
   "metadata": {},
   "outputs": [],
   "source": [
    "bin_range = calculate_bin_ranges(df['bbox_area'], 4)"
   ]
  },
  {
   "cell_type": "code",
   "execution_count": 128,
   "id": "2c9d8bab",
   "metadata": {
    "scrolled": true
   },
   "outputs": [
    {
     "data": {
      "text/plain": [
       "<AxesSubplot:>"
      ]
     },
     "execution_count": 128,
     "metadata": {},
     "output_type": "execute_result"
    },
    {
     "data": {
      "image/png": "[encoded data removed]",
      "text/plain": [
       "<Figure size 640x480 with 1 Axes>"
      ]
     },
     "metadata": {},
     "output_type": "display_data"
    }
   ],
   "source": [
    "df['bbox_area'].hist(bins=4)"
   ]
  },
  {
   "cell_type": "code",
   "execution_count": 144,
   "id": "485f3e98",
   "metadata": {},
   "outputs": [],
   "source": [
    "index = 3 #TODO: select an index (0 - small, 1-medium, large-2)"
   ]
  },
  {
   "cell_type": "code",
   "execution_count": 145,
   "id": "e4ccd778",
   "metadata": {},
   "outputs": [],
   "source": [
    "cut_csv = df[(df['bbox_area'] >= bin_range[index][0]) & (df['bbox_area'] <= bin_range[index][1])]"
   ]
  },
  {
   "cell_type": "code",
   "execution_count": 146,
   "id": "27adb83f",
   "metadata": {},
   "outputs": [],
   "source": [
    "cut_csv.to_csv('large_2.csv', index=False)"
   ]
  },
  {
   "cell_type": "code",
   "execution_count": null,
   "id": "eef2f098",
   "metadata": {},
   "outputs": [],
   "source": []
  }
 ],
 "metadata": {
  "kernelspec": {
   "display_name": "Python 3 (ipykernel)",
   "language": "python",
   "name": "python3"
  },
  "language_info": {
   "codemirror_mode": {
    "name": "ipython",
    "version": 3
   },
   "file_extension": ".py",
   "mimetype": "text/x-python",
   "name": "python",
   "nbconvert_exporter": "python",
   "pygments_lexer": "ipython3",
   "version": "3.9.13"
  }
 },
 "nbformat": 4,
 "nbformat_minor": 5
}
