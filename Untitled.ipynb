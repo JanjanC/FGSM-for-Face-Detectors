{
 "cells": [
  {
   "cell_type": "code",
   "execution_count": null,
   "id": "9181ca7a",
   "metadata": {},
   "outputs": [],
   "source": [
    "def tensortonumpy(image):\n",
    "    return image.detech().cpu().numpy()\n",
    "\n",
    "# convert 1x3x416x416 to 416x416x3\n",
    "def reshape_image(image):\n",
    "    return np.transpose(np.squeeze(image), (1 ,2, 0))\n",
    "    "
   ]
  },
  {
   "cell_type": "code",
   "execution_count": null,
   "id": "0957d643",
   "metadata": {},
   "outputs": [],
   "source": [
    "# # FGSM attack code\n",
    "# def fgsm_attack(image, epsilon, data_grad, x1, y1, x2, y2):\n",
    "#     # Collect the element-wise sign of the data gradient\n",
    "#     sign_data_grad = data_grad.sign()\n",
    "#     print('Im in')\n",
    "#     print(sign_data_grad.shape)\n",
    "#     # Create the perturbed image by adjusting each pixel of the input image\n",
    "#     perturbed_image = image\n",
    "#     perturbed_image[:, :, y1:y2, x1:x2] += epsilon * sign_data_grad[:, :, y1:y2, x1:x2] # apply it only to the face region\n",
    "#     # Adding clipping to maintain [0,1] range\n",
    "#     perturbed_image = torch.clamp(perturbed_image, 0, 1)\n",
    "#     # Return the perturbed image\n",
    "#     return perturbed_image"
   ]
  }
 ],
 "metadata": {
  "kernelspec": {
   "display_name": "Python 3 (ipykernel)",
   "language": "python",
   "name": "python3"
  },
  "language_info": {
   "codemirror_mode": {
    "name": "ipython",
    "version": 3
   },
   "file_extension": ".py",
   "mimetype": "text/x-python",
   "name": "python",
   "nbconvert_exporter": "python",
   "pygments_lexer": "ipython3",
   "version": "3.9.13"
  }
 },
 "nbformat": 4,
 "nbformat_minor": 5
}
