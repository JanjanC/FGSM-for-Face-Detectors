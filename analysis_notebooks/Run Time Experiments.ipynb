{
 "cells": [
  {
   "cell_type": "code",
   "execution_count": 1,
   "id": "bc52061d",
   "metadata": {},
   "outputs": [],
   "source": [
    "import numpy as np\n",
    "import pandas as pd\n",
    "import cv2\n",
    "import joblib\n",
    "import time\n",
    "import torchvision.transforms as transforms\n",
    "from generate_perturbation import extract_image_attributes, tensor_to_image, get_features\n",
    "\n",
    "#libraries for yolo\n",
    "import torch\n",
    "from pytorchyolo.models import load_model\n",
    "from pytorchyolo.utils.utils import non_max_suppression\n",
    "from pytorchyolo.utils.transforms import Resize, DEFAULT_TRANSFORMS"
   ]
  },
  {
   "cell_type": "code",
   "execution_count": 2,
   "id": "ba6a90a6",
   "metadata": {},
   "outputs": [],
   "source": [
    "path = r\"E:\\Documents\\GitHub\\THS-ST1\\images\\test\\girl.jpg\"\n",
    "image = cv2.imread(path)\n",
    "image = cv2.cvtColor(image, cv2.COLOR_BGR2RGB)\n",
    "image = transforms.Compose([DEFAULT_TRANSFORMS,Resize(416)])((image, np.zeros((1, 5))))[0].unsqueeze(0) # "
   ]
  },
  {
   "cell_type": "code",
   "execution_count": 3,
   "id": "15e48994",
   "metadata": {},
   "outputs": [],
   "source": [
    "device, model = load_model('./weights/yolo_face_sthanhng.cfg', \"./weights/yolo_face_sthanhng.weights\")\n",
    "model.eval()\n",
    "\n",
    "model.gradient_mode = False\n",
    "for yolo_layer in model.yolo_layers:\n",
    "    yolo_layer.gradient_mode = False"
   ]
  },
  {
   "cell_type": "code",
   "execution_count": 4,
   "id": "6c171bed",
   "metadata": {},
   "outputs": [],
   "source": [
    "with torch.no_grad():\n",
    "    # Forward pass the data through the model and call non max suppression\n",
    "    nms, nms_output = non_max_suppression(model(image), 0.5, 0.5) #conf_thres and iou_thres = 0.5"
   ]
  },
  {
   "cell_type": "code",
   "execution_count": 5,
   "id": "4f301a78",
   "metadata": {
    "scrolled": true
   },
   "outputs": [
    {
     "data": {
      "text/plain": [
       "[tensor([[207.2131, 239.4359, 161.9002, 219.8698,   1.0000,   1.0000]])]"
      ]
     },
     "execution_count": 5,
     "metadata": {},
     "output_type": "execute_result"
    }
   ],
   "source": [
    "nms_output"
   ]
  },
  {
   "cell_type": "code",
   "execution_count": 6,
   "id": "1c6692f6",
   "metadata": {},
   "outputs": [],
   "source": [
    "model = joblib.load(\"models/mpr_tunedfs_bo_LAB_bbox_e_face_yf.pkl\")"
   ]
  },
  {
   "cell_type": "code",
   "execution_count": 7,
   "id": "cfa0c5e9",
   "metadata": {
    "scrolled": true
   },
   "outputs": [
    {
     "name": "stdout",
     "output_type": "stream",
     "text": [
      "N 4\n",
      "Time 0.23321270942687988\n",
      "N 8\n",
      "Time 0.2151954174041748\n",
      "N 16\n",
      "Time 0.4324018955230713\n",
      "N 32\n",
      "Time 0.8474559783935547\n",
      "N 64\n",
      "Time 1.6973741054534912\n",
      "N 128\n",
      "Time 3.3851399421691895\n",
      "N 256\n",
      "Time 6.843582391738892\n",
      "N 512\n",
      "Time 13.506032466888428\n",
      "N 1024\n",
      "Time 26.95420265197754\n",
      "N 2048\n",
      "Time 54.020124197006226\n",
      "N 4096\n",
      "Time 109.4421854019165\n",
      "N 8192\n",
      "Time 221.27109932899475\n"
     ]
    }
   ],
   "source": [
    "n = [4, 8, 16, 32, 64, 128, 256, 512, 1024, 2048, 4096, 8192]\n",
    "\n",
    "time_list = []\n",
    "for times in n:\n",
    "    print(\"N\", times)\n",
    "    timeStart = time.time() #time started\n",
    "    \n",
    "    for i in range(times):\n",
    "        row = {}\n",
    "        x, y, w, h = 207, 239, 161, 219\n",
    "        row['x'], row['y'], row['w'], row['h'] = x, y, w, h\n",
    "\n",
    "        x1 = max(int(np.floor((x - w / 2))), 0)\n",
    "        y1 = max(int(np.floor((y - h / 2))), 0)\n",
    "        x2 = min(int(np.ceil((x + w / 2))), 415)\n",
    "        y2 = min(int(np.ceil((y + h / 2))), 415)\n",
    "\n",
    "        cropped_image = image[:, :, y1:y2, x1:x2] #get the first dimension, the channels, and crop it\n",
    "        cropped_image = tensor_to_image(cropped_image) #reshape the image to (w/h, h/w, channel)\n",
    "\n",
    "        row = extract_image_attributes(row, path, 0, cropped_image, \"bbox\")\n",
    "\n",
    "        row = [row]\n",
    "        df = pd.DataFrame.from_dict(row)\n",
    "        predict_features = get_features(\"LAB\", \"bbox\")\n",
    "        X_features = df.loc[:,  predict_features]\n",
    "        output = model.predict(X_features)\n",
    "    \n",
    "    timeEnd = time.time()\n",
    "    timeTotal = timeEnd - timeStart\n",
    "    \n",
    "    time_list.append(timeTotal)\n",
    "    print(\"Time\", timeTotal)\n",
    "    "
   ]
  },
  {
   "cell_type": "code",
   "execution_count": 8,
   "id": "ed634d86",
   "metadata": {},
   "outputs": [],
   "source": [
    "x, y, w, h = 207, 239, 161, 219\n",
    "\n",
    "x1 = max(int(np.floor((x - w / 2))), 0)\n",
    "y1 = max(int(np.floor((y - h / 2))), 0)\n",
    "x2 = min(int(np.ceil((x + w / 2))), 415)\n",
    "y2 = min(int(np.ceil((y + h / 2))), 415)"
   ]
  },
  {
   "cell_type": "code",
   "execution_count": 10,
   "id": "3dec4051",
   "metadata": {},
   "outputs": [],
   "source": [
    "mask = np.zeros(image.shape)\n",
    "mask[..., y1:y2, x1:x2] = 1"
   ]
  },
  {
   "cell_type": "code",
   "execution_count": 12,
   "id": "27f5ffa9",
   "metadata": {},
   "outputs": [
    {
     "name": "stdout",
     "output_type": "stream",
     "text": [
      "face_detection_yunet_2022mar.onnx:: status : file already exists\n"
     ]
    }
   ],
   "source": [
    "from minepsilon import binary_search, yf_det_fn"
   ]
  },
  {
   "cell_type": "code",
   "execution_count": 13,
   "id": "9575c78e",
   "metadata": {},
   "outputs": [
    {
     "data": {
      "text/plain": [
       "0.8709570312500001"
      ]
     },
     "execution_count": 13,
     "metadata": {},
     "output_type": "execute_result"
    }
   ],
   "source": [
    "binary_search(0, 3, image, image, yf_det_fn, mask, (x1, y1, x2, y2))"
   ]
  },
  {
   "cell_type": "code",
   "execution_count": 15,
   "id": "6c031779",
   "metadata": {
    "scrolled": true
   },
   "outputs": [
    {
     "name": "stdout",
     "output_type": "stream",
     "text": [
      "N 4\n",
      "Time 17.483110189437866\n",
      "N 8\n",
      "Time 35.325663805007935\n",
      "N 16\n",
      "Time 70.07967567443848\n",
      "N 32\n",
      "Time 141.69139075279236\n",
      "N 64\n",
      "Time 285.2648060321808\n",
      "N 128\n",
      "Time 590.7803544998169\n",
      "N 256\n"
     ]
    },
    {
     "ename": "KeyboardInterrupt",
     "evalue": "",
     "output_type": "error",
     "traceback": [
      "\u001b[1;31m---------------------------------------------------------------------------\u001b[0m",
      "\u001b[1;31mKeyboardInterrupt\u001b[0m                         Traceback (most recent call last)",
      "Cell \u001b[1;32mIn [15], line 7\u001b[0m\n\u001b[0;32m      4\u001b[0m timeStart \u001b[38;5;241m=\u001b[39m time\u001b[38;5;241m.\u001b[39mtime() \u001b[38;5;66;03m#time started\u001b[39;00m\n\u001b[0;32m      6\u001b[0m \u001b[38;5;28;01mfor\u001b[39;00m i \u001b[38;5;129;01min\u001b[39;00m \u001b[38;5;28mrange\u001b[39m(times):\n\u001b[1;32m----> 7\u001b[0m     \u001b[43mbinary_search\u001b[49m\u001b[43m(\u001b[49m\u001b[38;5;241;43m0\u001b[39;49m\u001b[43m,\u001b[49m\u001b[43m \u001b[49m\u001b[38;5;241;43m3\u001b[39;49m\u001b[43m,\u001b[49m\u001b[43m \u001b[49m\u001b[43mimage\u001b[49m\u001b[43m,\u001b[49m\u001b[43m \u001b[49m\u001b[43mimage\u001b[49m\u001b[43m,\u001b[49m\u001b[43m \u001b[49m\u001b[43myf_det_fn\u001b[49m\u001b[43m,\u001b[49m\u001b[43m \u001b[49m\u001b[43mmask\u001b[49m\u001b[43m,\u001b[49m\u001b[43m \u001b[49m\u001b[43m(\u001b[49m\u001b[43mx1\u001b[49m\u001b[43m,\u001b[49m\u001b[43m \u001b[49m\u001b[43my1\u001b[49m\u001b[43m,\u001b[49m\u001b[43m \u001b[49m\u001b[43mx2\u001b[49m\u001b[43m,\u001b[49m\u001b[43m \u001b[49m\u001b[43my2\u001b[49m\u001b[43m)\u001b[49m\u001b[43m)\u001b[49m\n\u001b[0;32m      8\u001b[0m timeEnd \u001b[38;5;241m=\u001b[39m time\u001b[38;5;241m.\u001b[39mtime()\n\u001b[0;32m      9\u001b[0m timeTotal \u001b[38;5;241m=\u001b[39m timeEnd \u001b[38;5;241m-\u001b[39m timeStart\n",
      "File \u001b[1;32mE:\\Documents\\GitHub\\THS-ST1\\minepsilon.py:161\u001b[0m, in \u001b[0;36mbinary_search\u001b[1;34m(low, high, image, data_grad, det_fn, mask, bbox, background)\u001b[0m\n\u001b[0;32m    159\u001b[0m mid \u001b[38;5;241m=\u001b[39m (high \u001b[38;5;241m+\u001b[39m low) \u001b[38;5;241m/\u001b[39m \u001b[38;5;241m2\u001b[39m\n\u001b[0;32m    160\u001b[0m perturbed_img \u001b[38;5;241m=\u001b[39m fgsm_attack(image, mid, data_grad, mask)\n\u001b[1;32m--> 161\u001b[0m iou_score \u001b[38;5;241m=\u001b[39m closest_bbox(\u001b[43mdet_fn\u001b[49m\u001b[43m(\u001b[49m\u001b[43mperturbed_img\u001b[49m\u001b[43m)\u001b[49m, bbox)[\u001b[38;5;241m1\u001b[39m]\n\u001b[0;32m    162\u001b[0m \u001b[38;5;28;01mif\u001b[39;00m iou_score \u001b[38;5;241m>\u001b[39m \u001b[38;5;241m0.3\u001b[39m:\n\u001b[0;32m    163\u001b[0m     low \u001b[38;5;241m=\u001b[39m mid \u001b[38;5;241m+\u001b[39m \u001b[38;5;241m0.005\u001b[39m\n",
      "File \u001b[1;32mE:\\Documents\\GitHub\\THS-ST1\\minepsilon.py:219\u001b[0m, in \u001b[0;36myf_det_fn\u001b[1;34m(image, return_boxes)\u001b[0m\n\u001b[0;32m    217\u001b[0m \u001b[38;5;28;01mdef\u001b[39;00m \u001b[38;5;21myf_det_fn\u001b[39m(image, return_boxes \u001b[38;5;241m=\u001b[39m \u001b[38;5;28;01mTrue\u001b[39;00m):\n\u001b[0;32m    218\u001b[0m     image \u001b[38;5;241m=\u001b[39m np\u001b[38;5;241m.\u001b[39mmoveaxis((image\u001b[38;5;241m.\u001b[39mdetach()\u001b[38;5;241m.\u001b[39mnumpy() \u001b[38;5;241m*\u001b[39m \u001b[38;5;241m255\u001b[39m)\u001b[38;5;241m.\u001b[39msqueeze(), \u001b[38;5;241m0\u001b[39m, \u001b[38;5;241m-\u001b[39m\u001b[38;5;241m1\u001b[39m)\u001b[38;5;241m.\u001b[39mastype(\u001b[38;5;124m'\u001b[39m\u001b[38;5;124muint8\u001b[39m\u001b[38;5;124m'\u001b[39m)\n\u001b[1;32m--> 219\u001b[0m     bboxes \u001b[38;5;241m=\u001b[39m \u001b[43mdetect\u001b[49m\u001b[38;5;241;43m.\u001b[39;49m\u001b[43mdetect_image\u001b[49m\u001b[43m(\u001b[49m\u001b[43myf_face_detector\u001b[49m\u001b[43m,\u001b[49m\u001b[43m \u001b[49m\u001b[43mimage\u001b[49m\u001b[43m,\u001b[49m\u001b[43m \u001b[49m\u001b[43mconf_thres\u001b[49m\u001b[38;5;241;43m=\u001b[39;49m\u001b[38;5;241;43m0.5\u001b[39;49m\u001b[43m,\u001b[49m\u001b[43m \u001b[49m\u001b[43mnms_thres\u001b[49m\u001b[38;5;241;43m=\u001b[39;49m\u001b[38;5;241;43m0.5\u001b[39;49m\u001b[43m)\u001b[49m\n\u001b[0;32m    220\u001b[0m     \u001b[38;5;28;01mif\u001b[39;00m \u001b[38;5;129;01mnot\u001b[39;00m return_boxes:\n\u001b[0;32m    221\u001b[0m         \u001b[38;5;28;01mreturn\u001b[39;00m bboxes \u001b[38;5;129;01mis\u001b[39;00m \u001b[38;5;129;01mnot\u001b[39;00m \u001b[38;5;28;01mNone\u001b[39;00m\n",
      "File \u001b[1;32mE:\\Documents\\GitHub\\THS-ST1\\pytorchyolo\\detect.py:94\u001b[0m, in \u001b[0;36mdetect_image\u001b[1;34m(model, image, img_size, conf_thres, nms_thres)\u001b[0m\n\u001b[0;32m     92\u001b[0m     \u001b[38;5;66;03m# Get detections\u001b[39;00m\n\u001b[0;32m     93\u001b[0m     \u001b[38;5;28;01mwith\u001b[39;00m torch\u001b[38;5;241m.\u001b[39mno_grad():\n\u001b[1;32m---> 94\u001b[0m         detections \u001b[38;5;241m=\u001b[39m \u001b[43mmodel\u001b[49m\u001b[43m(\u001b[49m\u001b[43minput_img\u001b[49m\u001b[43m)\u001b[49m\n\u001b[0;32m     95\u001b[0m         detections, _ \u001b[38;5;241m=\u001b[39m non_max_suppression(detections, conf_thres, nms_thres)\n\u001b[0;32m     96\u001b[0m \u001b[38;5;66;03m#         detections = rescale_boxes(detections[0], img_size, image.shape[:2])\u001b[39;00m\n",
      "File \u001b[1;32mE:\\Program Files\\anaconda3\\lib\\site-packages\\torch\\nn\\modules\\module.py:1194\u001b[0m, in \u001b[0;36mModule._call_impl\u001b[1;34m(self, *input, **kwargs)\u001b[0m\n\u001b[0;32m   1190\u001b[0m \u001b[38;5;66;03m# If we don't have any hooks, we want to skip the rest of the logic in\u001b[39;00m\n\u001b[0;32m   1191\u001b[0m \u001b[38;5;66;03m# this function, and just call forward.\u001b[39;00m\n\u001b[0;32m   1192\u001b[0m \u001b[38;5;28;01mif\u001b[39;00m \u001b[38;5;129;01mnot\u001b[39;00m (\u001b[38;5;28mself\u001b[39m\u001b[38;5;241m.\u001b[39m_backward_hooks \u001b[38;5;129;01mor\u001b[39;00m \u001b[38;5;28mself\u001b[39m\u001b[38;5;241m.\u001b[39m_forward_hooks \u001b[38;5;129;01mor\u001b[39;00m \u001b[38;5;28mself\u001b[39m\u001b[38;5;241m.\u001b[39m_forward_pre_hooks \u001b[38;5;129;01mor\u001b[39;00m _global_backward_hooks\n\u001b[0;32m   1193\u001b[0m         \u001b[38;5;129;01mor\u001b[39;00m _global_forward_hooks \u001b[38;5;129;01mor\u001b[39;00m _global_forward_pre_hooks):\n\u001b[1;32m-> 1194\u001b[0m     \u001b[38;5;28;01mreturn\u001b[39;00m forward_call(\u001b[38;5;241m*\u001b[39m\u001b[38;5;28minput\u001b[39m, \u001b[38;5;241m*\u001b[39m\u001b[38;5;241m*\u001b[39mkwargs)\n\u001b[0;32m   1195\u001b[0m \u001b[38;5;66;03m# Do not call functions when jit is used\u001b[39;00m\n\u001b[0;32m   1196\u001b[0m full_backward_hooks, non_full_backward_hooks \u001b[38;5;241m=\u001b[39m [], []\n",
      "File \u001b[1;32mE:\\Documents\\GitHub\\THS-ST1\\pytorchyolo\\models.py:186\u001b[0m, in \u001b[0;36mDarknet.forward\u001b[1;34m(self, x)\u001b[0m\n\u001b[0;32m    184\u001b[0m \u001b[38;5;28;01mfor\u001b[39;00m i, (module_def, module) \u001b[38;5;129;01min\u001b[39;00m \u001b[38;5;28menumerate\u001b[39m(\u001b[38;5;28mzip\u001b[39m(\u001b[38;5;28mself\u001b[39m\u001b[38;5;241m.\u001b[39mmodule_defs, \u001b[38;5;28mself\u001b[39m\u001b[38;5;241m.\u001b[39mmodule_list)):\n\u001b[0;32m    185\u001b[0m     \u001b[38;5;28;01mif\u001b[39;00m module_def[\u001b[38;5;124m\"\u001b[39m\u001b[38;5;124mtype\u001b[39m\u001b[38;5;124m\"\u001b[39m] \u001b[38;5;129;01min\u001b[39;00m [\u001b[38;5;124m\"\u001b[39m\u001b[38;5;124mconvolutional\u001b[39m\u001b[38;5;124m\"\u001b[39m, \u001b[38;5;124m\"\u001b[39m\u001b[38;5;124mupsample\u001b[39m\u001b[38;5;124m\"\u001b[39m, \u001b[38;5;124m\"\u001b[39m\u001b[38;5;124mmaxpool\u001b[39m\u001b[38;5;124m\"\u001b[39m]:\n\u001b[1;32m--> 186\u001b[0m         x \u001b[38;5;241m=\u001b[39m \u001b[43mmodule\u001b[49m\u001b[43m(\u001b[49m\u001b[43mx\u001b[49m\u001b[43m)\u001b[49m\n\u001b[0;32m    187\u001b[0m     \u001b[38;5;28;01melif\u001b[39;00m module_def[\u001b[38;5;124m\"\u001b[39m\u001b[38;5;124mtype\u001b[39m\u001b[38;5;124m\"\u001b[39m] \u001b[38;5;241m==\u001b[39m \u001b[38;5;124m\"\u001b[39m\u001b[38;5;124mroute\u001b[39m\u001b[38;5;124m\"\u001b[39m:\n\u001b[0;32m    188\u001b[0m         combined_outputs \u001b[38;5;241m=\u001b[39m torch\u001b[38;5;241m.\u001b[39mcat([layer_outputs[\u001b[38;5;28mint\u001b[39m(layer_i)] \u001b[38;5;28;01mfor\u001b[39;00m layer_i \u001b[38;5;129;01min\u001b[39;00m module_def[\u001b[38;5;124m\"\u001b[39m\u001b[38;5;124mlayers\u001b[39m\u001b[38;5;124m\"\u001b[39m]\u001b[38;5;241m.\u001b[39msplit(\u001b[38;5;124m\"\u001b[39m\u001b[38;5;124m,\u001b[39m\u001b[38;5;124m\"\u001b[39m)], \u001b[38;5;241m1\u001b[39m)\n",
      "File \u001b[1;32mE:\\Program Files\\anaconda3\\lib\\site-packages\\torch\\nn\\modules\\module.py:1194\u001b[0m, in \u001b[0;36mModule._call_impl\u001b[1;34m(self, *input, **kwargs)\u001b[0m\n\u001b[0;32m   1190\u001b[0m \u001b[38;5;66;03m# If we don't have any hooks, we want to skip the rest of the logic in\u001b[39;00m\n\u001b[0;32m   1191\u001b[0m \u001b[38;5;66;03m# this function, and just call forward.\u001b[39;00m\n\u001b[0;32m   1192\u001b[0m \u001b[38;5;28;01mif\u001b[39;00m \u001b[38;5;129;01mnot\u001b[39;00m (\u001b[38;5;28mself\u001b[39m\u001b[38;5;241m.\u001b[39m_backward_hooks \u001b[38;5;129;01mor\u001b[39;00m \u001b[38;5;28mself\u001b[39m\u001b[38;5;241m.\u001b[39m_forward_hooks \u001b[38;5;129;01mor\u001b[39;00m \u001b[38;5;28mself\u001b[39m\u001b[38;5;241m.\u001b[39m_forward_pre_hooks \u001b[38;5;129;01mor\u001b[39;00m _global_backward_hooks\n\u001b[0;32m   1193\u001b[0m         \u001b[38;5;129;01mor\u001b[39;00m _global_forward_hooks \u001b[38;5;129;01mor\u001b[39;00m _global_forward_pre_hooks):\n\u001b[1;32m-> 1194\u001b[0m     \u001b[38;5;28;01mreturn\u001b[39;00m forward_call(\u001b[38;5;241m*\u001b[39m\u001b[38;5;28minput\u001b[39m, \u001b[38;5;241m*\u001b[39m\u001b[38;5;241m*\u001b[39mkwargs)\n\u001b[0;32m   1195\u001b[0m \u001b[38;5;66;03m# Do not call functions when jit is used\u001b[39;00m\n\u001b[0;32m   1196\u001b[0m full_backward_hooks, non_full_backward_hooks \u001b[38;5;241m=\u001b[39m [], []\n",
      "File \u001b[1;32mE:\\Program Files\\anaconda3\\lib\\site-packages\\torch\\nn\\modules\\container.py:204\u001b[0m, in \u001b[0;36mSequential.forward\u001b[1;34m(self, input)\u001b[0m\n\u001b[0;32m    202\u001b[0m \u001b[38;5;28;01mdef\u001b[39;00m \u001b[38;5;21mforward\u001b[39m(\u001b[38;5;28mself\u001b[39m, \u001b[38;5;28minput\u001b[39m):\n\u001b[0;32m    203\u001b[0m     \u001b[38;5;28;01mfor\u001b[39;00m module \u001b[38;5;129;01min\u001b[39;00m \u001b[38;5;28mself\u001b[39m:\n\u001b[1;32m--> 204\u001b[0m         \u001b[38;5;28minput\u001b[39m \u001b[38;5;241m=\u001b[39m \u001b[43mmodule\u001b[49m\u001b[43m(\u001b[49m\u001b[38;5;28;43minput\u001b[39;49m\u001b[43m)\u001b[49m\n\u001b[0;32m    205\u001b[0m     \u001b[38;5;28;01mreturn\u001b[39;00m \u001b[38;5;28minput\u001b[39m\n",
      "File \u001b[1;32mE:\\Program Files\\anaconda3\\lib\\site-packages\\torch\\nn\\modules\\module.py:1194\u001b[0m, in \u001b[0;36mModule._call_impl\u001b[1;34m(self, *input, **kwargs)\u001b[0m\n\u001b[0;32m   1190\u001b[0m \u001b[38;5;66;03m# If we don't have any hooks, we want to skip the rest of the logic in\u001b[39;00m\n\u001b[0;32m   1191\u001b[0m \u001b[38;5;66;03m# this function, and just call forward.\u001b[39;00m\n\u001b[0;32m   1192\u001b[0m \u001b[38;5;28;01mif\u001b[39;00m \u001b[38;5;129;01mnot\u001b[39;00m (\u001b[38;5;28mself\u001b[39m\u001b[38;5;241m.\u001b[39m_backward_hooks \u001b[38;5;129;01mor\u001b[39;00m \u001b[38;5;28mself\u001b[39m\u001b[38;5;241m.\u001b[39m_forward_hooks \u001b[38;5;129;01mor\u001b[39;00m \u001b[38;5;28mself\u001b[39m\u001b[38;5;241m.\u001b[39m_forward_pre_hooks \u001b[38;5;129;01mor\u001b[39;00m _global_backward_hooks\n\u001b[0;32m   1193\u001b[0m         \u001b[38;5;129;01mor\u001b[39;00m _global_forward_hooks \u001b[38;5;129;01mor\u001b[39;00m _global_forward_pre_hooks):\n\u001b[1;32m-> 1194\u001b[0m     \u001b[38;5;28;01mreturn\u001b[39;00m forward_call(\u001b[38;5;241m*\u001b[39m\u001b[38;5;28minput\u001b[39m, \u001b[38;5;241m*\u001b[39m\u001b[38;5;241m*\u001b[39mkwargs)\n\u001b[0;32m   1195\u001b[0m \u001b[38;5;66;03m# Do not call functions when jit is used\u001b[39;00m\n\u001b[0;32m   1196\u001b[0m full_backward_hooks, non_full_backward_hooks \u001b[38;5;241m=\u001b[39m [], []\n",
      "File \u001b[1;32mE:\\Program Files\\anaconda3\\lib\\site-packages\\torch\\nn\\modules\\activation.py:775\u001b[0m, in \u001b[0;36mLeakyReLU.forward\u001b[1;34m(self, input)\u001b[0m\n\u001b[0;32m    774\u001b[0m \u001b[38;5;28;01mdef\u001b[39;00m \u001b[38;5;21mforward\u001b[39m(\u001b[38;5;28mself\u001b[39m, \u001b[38;5;28minput\u001b[39m: Tensor) \u001b[38;5;241m-\u001b[39m\u001b[38;5;241m>\u001b[39m Tensor:\n\u001b[1;32m--> 775\u001b[0m     \u001b[38;5;28;01mreturn\u001b[39;00m \u001b[43mF\u001b[49m\u001b[38;5;241;43m.\u001b[39;49m\u001b[43mleaky_relu\u001b[49m\u001b[43m(\u001b[49m\u001b[38;5;28;43minput\u001b[39;49m\u001b[43m,\u001b[49m\u001b[43m \u001b[49m\u001b[38;5;28;43mself\u001b[39;49m\u001b[38;5;241;43m.\u001b[39;49m\u001b[43mnegative_slope\u001b[49m\u001b[43m,\u001b[49m\u001b[43m \u001b[49m\u001b[38;5;28;43mself\u001b[39;49m\u001b[38;5;241;43m.\u001b[39;49m\u001b[43minplace\u001b[49m\u001b[43m)\u001b[49m\n",
      "File \u001b[1;32mE:\\Program Files\\anaconda3\\lib\\site-packages\\torch\\nn\\functional.py:1632\u001b[0m, in \u001b[0;36mleaky_relu\u001b[1;34m(input, negative_slope, inplace)\u001b[0m\n\u001b[0;32m   1630\u001b[0m     result \u001b[38;5;241m=\u001b[39m torch\u001b[38;5;241m.\u001b[39m_C\u001b[38;5;241m.\u001b[39m_nn\u001b[38;5;241m.\u001b[39mleaky_relu_(\u001b[38;5;28minput\u001b[39m, negative_slope)\n\u001b[0;32m   1631\u001b[0m \u001b[38;5;28;01melse\u001b[39;00m:\n\u001b[1;32m-> 1632\u001b[0m     result \u001b[38;5;241m=\u001b[39m \u001b[43mtorch\u001b[49m\u001b[38;5;241;43m.\u001b[39;49m\u001b[43m_C\u001b[49m\u001b[38;5;241;43m.\u001b[39;49m\u001b[43m_nn\u001b[49m\u001b[38;5;241;43m.\u001b[39;49m\u001b[43mleaky_relu\u001b[49m\u001b[43m(\u001b[49m\u001b[38;5;28;43minput\u001b[39;49m\u001b[43m,\u001b[49m\u001b[43m \u001b[49m\u001b[43mnegative_slope\u001b[49m\u001b[43m)\u001b[49m\n\u001b[0;32m   1633\u001b[0m \u001b[38;5;28;01mreturn\u001b[39;00m result\n",
      "\u001b[1;31mKeyboardInterrupt\u001b[0m: "
     ]
    }
   ],
   "source": [
    "bin_time_list = []\n",
    "for times in n:\n",
    "    print(\"N\", times)\n",
    "    timeStart = time.time() #time started\n",
    "    \n",
    "    for i in range(times):\n",
    "        binary_search(0, 3, image, image, yf_det_fn, mask, (x1, y1, x2, y2))\n",
    "    timeEnd = time.time()\n",
    "    timeTotal = timeEnd - timeStart\n",
    "    \n",
    "    bin_time_list.append(timeTotal)\n",
    "    print(\"Time\", timeTotal)"
   ]
  },
  {
   "cell_type": "code",
   "execution_count": 32,
   "id": "c1536272",
   "metadata": {},
   "outputs": [],
   "source": [
    "bin_time_list = [17.483110189437866,\n",
    " 35.325663805007935,\n",
    " 70.07967567443848,\n",
    " 141.69139075279236,\n",
    " 285.2648060321808,\n",
    " 590.7803544998169]"
   ]
  },
  {
   "cell_type": "code",
   "execution_count": 33,
   "id": "20316645",
   "metadata": {},
   "outputs": [],
   "source": [
    "calculate_list = bin_time_list\n",
    "for i in range(6, len(time_list)):\n",
    "    factor = time_list[i] / time_list[i - 1]\n",
    "    calculate_list.append(calculate_list[i - 1] * factor)"
   ]
  },
  {
   "cell_type": "code",
   "execution_count": 37,
   "id": "a3badcdd",
   "metadata": {},
   "outputs": [
    {
     "data": {
      "text/plain": [
       "[17.483110189437866,\n",
       " 35.325663805007935,\n",
       " 70.07967567443848,\n",
       " 141.69139075279236,\n",
       " 285.2648060321808,\n",
       " 590.7803544998169,\n",
       " 1194.3535867085684,\n",
       " 2357.0956548287913]"
      ]
     },
     "execution_count": 37,
     "metadata": {},
     "output_type": "execute_result"
    }
   ],
   "source": [
    "calculate_list[:8]"
   ]
  },
  {
   "cell_type": "code",
   "execution_count": 36,
   "id": "6b29da51",
   "metadata": {},
   "outputs": [
    {
     "data": {
      "text/plain": [
       "[0.23321270942687988,\n",
       " 0.2151954174041748,\n",
       " 0.4324018955230713,\n",
       " 0.8474559783935547,\n",
       " 1.6973741054534912,\n",
       " 3.3851399421691895,\n",
       " 6.843582391738892,\n",
       " 13.506032466888428]"
      ]
     },
     "execution_count": 36,
     "metadata": {},
     "output_type": "execute_result"
    }
   ],
   "source": [
    "time_list[:8]"
   ]
  },
  {
   "cell_type": "code",
   "execution_count": 40,
   "id": "dc3a6815",
   "metadata": {},
   "outputs": [],
   "source": [
    "import matplotlib.pyplot as plt"
   ]
  },
  {
   "cell_type": "code",
   "execution_count": 44,
   "id": "2a68728f",
   "metadata": {},
   "outputs": [
    {
     "data": {
      "image/png": "[encoded data removed]",
      "text/plain": [
       "<Figure size 640x480 with 1 Axes>"
      ]
     },
     "metadata": {},
     "output_type": "display_data"
    }
   ],
   "source": [
    "plt.title('Execution Time vs n')\n",
    "plt.xlabel(\"n\")\n",
    "plt.ylabel(\"Execution Time (s)\")\n",
    "plt.plot(n[:8], calculate_list[:8], marker='o', color=\"#A80706\")\n",
    "plt.plot(n[:8], time_list[:8], marker='o', color=\"#003A8C\")\n",
    "plt.show()"
   ]
  },
  {
   "cell_type": "code",
   "execution_count": null,
   "id": "521644a9",
   "metadata": {},
   "outputs": [],
   "source": []
  }
 ],
 "metadata": {
  "kernelspec": {
   "display_name": "Python 3 (ipykernel)",
   "language": "python",
   "name": "python3"
  },
  "language_info": {
   "codemirror_mode": {
    "name": "ipython",
    "version": 3
   },
   "file_extension": ".py",
   "mimetype": "text/x-python",
   "name": "python",
   "nbconvert_exporter": "python",
   "pygments_lexer": "ipython3",
   "version": "3.8.16"
  }
 },
 "nbformat": 4,
 "nbformat_minor": 5
}
