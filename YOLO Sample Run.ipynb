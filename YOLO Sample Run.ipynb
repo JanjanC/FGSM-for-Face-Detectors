{
 "cells": [
  {
   "cell_type": "code",
   "execution_count": 1,
   "id": "12dd7e10",
   "metadata": {},
   "outputs": [
    {
     "name": "stdout",
     "output_type": "stream",
     "text": [
      "[[[217 217 217]\n",
      "  [217 217 217]\n",
      "  [217 217 217]\n",
      "  ...\n",
      "  [241 241 241]\n",
      "  [241 241 241]\n",
      "  [241 241 241]]\n",
      "\n",
      " [[217 217 217]\n",
      "  [217 217 217]\n",
      "  [217 217 217]\n",
      "  ...\n",
      "  [241 241 241]\n",
      "  [241 241 241]\n",
      "  [241 241 241]]\n",
      "\n",
      " [[216 216 216]\n",
      "  [216 216 216]\n",
      "  [216 216 216]\n",
      "  ...\n",
      "  [241 241 241]\n",
      "  [241 241 241]\n",
      "  [241 241 241]]\n",
      "\n",
      " ...\n",
      "\n",
      " [[204 209 218]\n",
      "  [196 201 210]\n",
      "  [188 190 198]\n",
      "  ...\n",
      "  [252 250 250]\n",
      "  [253 251 251]\n",
      "  [253 251 251]]\n",
      "\n",
      " [[206 211 220]\n",
      "  [202 207 216]\n",
      "  [197 199 207]\n",
      "  ...\n",
      "  [252 250 250]\n",
      "  [253 251 251]\n",
      "  [253 251 251]]\n",
      "\n",
      " [[205 210 219]\n",
      "  [206 211 220]\n",
      "  [205 207 215]\n",
      "  ...\n",
      "  [252 250 250]\n",
      "  [253 251 251]\n",
      "  [253 251 251]]]\n",
      "[[ 91.29101    158.21448    187.40686    275.01904      0.99911356\n",
      "    0.        ]\n",
      " [224.90276    137.94994    321.34204    276.4984       0.997505\n",
      "    0.        ]]\n"
     ]
    }
   ],
   "source": [
    "%load_ext autoreload\n",
    "%autoreload 2\n",
    "\n",
    "import cv2\n",
    "from pytorchyolo import detect, models\n",
    "\n",
    "# Load the YOLO model\n",
    "_, model = models.load_model('./weights/yolo_face_sthanhng.cfg', \"./weights/yolo_face_sthanhng.weights\")\n",
    "\n",
    "# Load the image as a numpy array\n",
    "img = cv2.imread(\"./images/couple.jpg\")\n",
    "print(img)\n",
    "# Convert OpenCV bgr to rgb\n",
    "img = cv2.cvtColor(img, cv2.COLOR_BGR2RGB)\n",
    "\n",
    "# Runs the YOLO model on the image \n",
    "boxes = detect.detect_image(model, img)\n",
    "\n",
    "print(boxes)"
   ]
  },
  {
   "cell_type": "code",
   "execution_count": null,
   "id": "e57a175c",
   "metadata": {},
   "outputs": [],
   "source": []
  },
  {
   "cell_type": "code",
   "execution_count": null,
   "id": "35af5145",
   "metadata": {},
   "outputs": [],
   "source": []
  }
 ],
 "metadata": {
  "kernelspec": {
   "display_name": "Python 3 (ipykernel)",
   "language": "python",
   "name": "python3"
  },
  "language_info": {
   "codemirror_mode": {
    "name": "ipython",
    "version": 3
   },
   "file_extension": ".py",
   "mimetype": "text/x-python",
   "name": "python",
   "nbconvert_exporter": "python",
   "pygments_lexer": "ipython3",
   "version": "3.8.16"
  }
 },
 "nbformat": 4,
 "nbformat_minor": 5
}
