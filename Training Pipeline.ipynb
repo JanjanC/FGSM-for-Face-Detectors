{
 "cells": [
  {
   "cell_type": "code",
   "execution_count": 47,
   "metadata": {},
   "outputs": [],
   "source": [
    "import numpy as np\n",
    "import pandas as pd"
   ]
  },
  {
   "cell_type": "code",
   "execution_count": 48,
   "metadata": {},
   "outputs": [],
   "source": [
    "random_state = 100\n",
    "cv_folds = 5"
   ]
  },
  {
   "cell_type": "markdown",
   "metadata": {},
   "source": [
    "## Data Loading"
   ]
  },
  {
   "cell_type": "code",
   "execution_count": 49,
   "metadata": {
    "scrolled": true
   },
   "outputs": [
    {
     "data": {
      "text/html": [
       "<div>\n",
       "<style scoped>\n",
       "    .dataframe tbody tr th:only-of-type {\n",
       "        vertical-align: middle;\n",
       "    }\n",
       "\n",
       "    .dataframe tbody tr th {\n",
       "        vertical-align: top;\n",
       "    }\n",
       "\n",
       "    .dataframe thead th {\n",
       "        text-align: right;\n",
       "    }\n",
       "</style>\n",
       "<table border=\"1\" class=\"dataframe\">\n",
       "  <thead>\n",
       "    <tr style=\"text-align: right;\">\n",
       "      <th></th>\n",
       "      <th>Unnamed: 0</th>\n",
       "      <th>path</th>\n",
       "      <th>source_w</th>\n",
       "      <th>source_h</th>\n",
       "      <th>face_index</th>\n",
       "      <th>x1</th>\n",
       "      <th>y1</th>\n",
       "      <th>x2</th>\n",
       "      <th>y2</th>\n",
       "      <th>used_mask</th>\n",
       "      <th>...</th>\n",
       "      <th>e_face_yf</th>\n",
       "      <th>e_bg_yn</th>\n",
       "      <th>e_bg_mp</th>\n",
       "      <th>e_bg_yf</th>\n",
       "      <th>e_bbox_yn</th>\n",
       "      <th>e_bbox_mp</th>\n",
       "      <th>e_bbox_yf</th>\n",
       "      <th>e_lbbox_yn</th>\n",
       "      <th>e_lbbox_mp</th>\n",
       "      <th>e_lbbox_yf</th>\n",
       "    </tr>\n",
       "  </thead>\n",
       "  <tbody>\n",
       "    <tr>\n",
       "      <th>0</th>\n",
       "      <td>0</td>\n",
       "      <td>C:\\Users\\jayba\\Documents\\GitHub\\THS-ST1\\images...</td>\n",
       "      <td>683</td>\n",
       "      <td>1024</td>\n",
       "      <td>75</td>\n",
       "      <td>339</td>\n",
       "      <td>207</td>\n",
       "      <td>346</td>\n",
       "      <td>215</td>\n",
       "      <td>True</td>\n",
       "      <td>...</td>\n",
       "      <td>0.190</td>\n",
       "      <td>0.0</td>\n",
       "      <td>0.0</td>\n",
       "      <td>3.1</td>\n",
       "      <td>0.0</td>\n",
       "      <td>0.0</td>\n",
       "      <td>0.190</td>\n",
       "      <td>0.00</td>\n",
       "      <td>0.0</td>\n",
       "      <td>0.115</td>\n",
       "    </tr>\n",
       "    <tr>\n",
       "      <th>1</th>\n",
       "      <td>1</td>\n",
       "      <td>C:\\Users\\jayba\\Documents\\GitHub\\THS-ST1\\images...</td>\n",
       "      <td>899</td>\n",
       "      <td>1024</td>\n",
       "      <td>41</td>\n",
       "      <td>200</td>\n",
       "      <td>95</td>\n",
       "      <td>205</td>\n",
       "      <td>102</td>\n",
       "      <td>True</td>\n",
       "      <td>...</td>\n",
       "      <td>0.845</td>\n",
       "      <td>0.0</td>\n",
       "      <td>0.0</td>\n",
       "      <td>3.1</td>\n",
       "      <td>0.0</td>\n",
       "      <td>0.0</td>\n",
       "      <td>0.845</td>\n",
       "      <td>0.00</td>\n",
       "      <td>0.0</td>\n",
       "      <td>3.100</td>\n",
       "    </tr>\n",
       "    <tr>\n",
       "      <th>2</th>\n",
       "      <td>2</td>\n",
       "      <td>C:\\Users\\jayba\\Documents\\GitHub\\THS-ST1\\images...</td>\n",
       "      <td>768</td>\n",
       "      <td>1024</td>\n",
       "      <td>23</td>\n",
       "      <td>116</td>\n",
       "      <td>214</td>\n",
       "      <td>120</td>\n",
       "      <td>220</td>\n",
       "      <td>True</td>\n",
       "      <td>...</td>\n",
       "      <td>0.540</td>\n",
       "      <td>0.0</td>\n",
       "      <td>0.0</td>\n",
       "      <td>3.1</td>\n",
       "      <td>0.0</td>\n",
       "      <td>0.0</td>\n",
       "      <td>0.540</td>\n",
       "      <td>0.00</td>\n",
       "      <td>0.0</td>\n",
       "      <td>0.350</td>\n",
       "    </tr>\n",
       "    <tr>\n",
       "      <th>3</th>\n",
       "      <td>3</td>\n",
       "      <td>C:\\Users\\jayba\\Documents\\GitHub\\THS-ST1\\images...</td>\n",
       "      <td>768</td>\n",
       "      <td>1024</td>\n",
       "      <td>21</td>\n",
       "      <td>149</td>\n",
       "      <td>182</td>\n",
       "      <td>158</td>\n",
       "      <td>191</td>\n",
       "      <td>True</td>\n",
       "      <td>...</td>\n",
       "      <td>0.205</td>\n",
       "      <td>3.1</td>\n",
       "      <td>0.0</td>\n",
       "      <td>3.1</td>\n",
       "      <td>3.1</td>\n",
       "      <td>0.0</td>\n",
       "      <td>0.205</td>\n",
       "      <td>0.53</td>\n",
       "      <td>0.0</td>\n",
       "      <td>0.200</td>\n",
       "    </tr>\n",
       "    <tr>\n",
       "      <th>4</th>\n",
       "      <td>4</td>\n",
       "      <td>C:\\Users\\jayba\\Documents\\GitHub\\THS-ST1\\images...</td>\n",
       "      <td>768</td>\n",
       "      <td>1024</td>\n",
       "      <td>1</td>\n",
       "      <td>380</td>\n",
       "      <td>252</td>\n",
       "      <td>383</td>\n",
       "      <td>257</td>\n",
       "      <td>True</td>\n",
       "      <td>...</td>\n",
       "      <td>0.420</td>\n",
       "      <td>0.0</td>\n",
       "      <td>0.0</td>\n",
       "      <td>3.1</td>\n",
       "      <td>0.0</td>\n",
       "      <td>0.0</td>\n",
       "      <td>0.420</td>\n",
       "      <td>0.00</td>\n",
       "      <td>0.0</td>\n",
       "      <td>0.330</td>\n",
       "    </tr>\n",
       "  </tbody>\n",
       "</table>\n",
       "<p>5 rows × 1050 columns</p>\n",
       "</div>"
      ],
      "text/plain": [
       "   Unnamed: 0                                               path  source_w  \\\n",
       "0           0  C:\\Users\\jayba\\Documents\\GitHub\\THS-ST1\\images...       683   \n",
       "1           1  C:\\Users\\jayba\\Documents\\GitHub\\THS-ST1\\images...       899   \n",
       "2           2  C:\\Users\\jayba\\Documents\\GitHub\\THS-ST1\\images...       768   \n",
       "3           3  C:\\Users\\jayba\\Documents\\GitHub\\THS-ST1\\images...       768   \n",
       "4           4  C:\\Users\\jayba\\Documents\\GitHub\\THS-ST1\\images...       768   \n",
       "\n",
       "   source_h  face_index   x1   y1   x2   y2  used_mask  ...  e_face_yf  \\\n",
       "0      1024          75  339  207  346  215       True  ...      0.190   \n",
       "1      1024          41  200   95  205  102       True  ...      0.845   \n",
       "2      1024          23  116  214  120  220       True  ...      0.540   \n",
       "3      1024          21  149  182  158  191       True  ...      0.205   \n",
       "4      1024           1  380  252  383  257       True  ...      0.420   \n",
       "\n",
       "   e_bg_yn  e_bg_mp  e_bg_yf  e_bbox_yn  e_bbox_mp  e_bbox_yf  e_lbbox_yn  \\\n",
       "0      0.0      0.0      3.1        0.0        0.0      0.190        0.00   \n",
       "1      0.0      0.0      3.1        0.0        0.0      0.845        0.00   \n",
       "2      0.0      0.0      3.1        0.0        0.0      0.540        0.00   \n",
       "3      3.1      0.0      3.1        3.1        0.0      0.205        0.53   \n",
       "4      0.0      0.0      3.1        0.0        0.0      0.420        0.00   \n",
       "\n",
       "   e_lbbox_mp  e_lbbox_yf  \n",
       "0         0.0       0.115  \n",
       "1         0.0       3.100  \n",
       "2         0.0       0.350  \n",
       "3         0.0       0.200  \n",
       "4         0.0       0.330  \n",
       "\n",
       "[5 rows x 1050 columns]"
      ]
     },
     "execution_count": 49,
     "metadata": {},
     "output_type": "execute_result"
    }
   ],
   "source": [
    "df_features = pd.read_csv(\"compiled_features_dataset.csv\")\n",
    "df_features.head()"
   ]
  },
  {
   "cell_type": "code",
   "execution_count": 50,
   "metadata": {
    "scrolled": true
   },
   "outputs": [
    {
     "name": "stdout",
     "output_type": "stream",
     "text": [
      "Index(['Unnamed: 0', 'path', 'source_w', 'source_h', 'face_index', 'x1', 'y1',\n",
      "       'x2', 'y2', 'used_mask',\n",
      "       ...\n",
      "       'e_face_yf', 'e_bg_yn', 'e_bg_mp', 'e_bg_yf', 'e_bbox_yn', 'e_bbox_mp',\n",
      "       'e_bbox_yf', 'e_lbbox_yn', 'e_lbbox_mp', 'e_lbbox_yf'],\n",
      "      dtype='object', length=1050)\n"
     ]
    }
   ],
   "source": [
    "print(df_features.columns)"
   ]
  },
  {
   "cell_type": "code",
   "execution_count": 51,
   "metadata": {},
   "outputs": [
    {
     "name": "stdout",
     "output_type": "stream",
     "text": [
      "Index(['x1', 'y1', 'x2', 'y2', 'used_mask', 'R_BIN_mask_0', 'R_BIN_mask_1',\n",
      "       'R_BIN_mask_2', 'R_BIN_mask_3', 'R_BIN_mask_4',\n",
      "       ...\n",
      "       'e_face_yf', 'e_bg_yn', 'e_bg_mp', 'e_bg_yf', 'e_bbox_yn', 'e_bbox_mp',\n",
      "       'e_bbox_yf', 'e_lbbox_yn', 'e_lbbox_mp', 'e_lbbox_yf'],\n",
      "      dtype='object', length=1045)\n"
     ]
    }
   ],
   "source": [
    "df_features = df_features.drop(columns = ['Unnamed: 0', 'path', 'source_w', 'source_h', 'face_index'])\n",
    "df_features = df_features.loc[df_features[\"e_bbox_yf\"] < 3, :]\n",
    "print(df_features.columns)"
   ]
  },
  {
   "cell_type": "markdown",
   "metadata": {},
   "source": [
    "Change string types to numeric types"
   ]
  },
  {
   "cell_type": "code",
   "execution_count": 52,
   "metadata": {},
   "outputs": [],
   "source": [
    "from sklearn.preprocessing import LabelEncoder"
   ]
  },
  {
   "cell_type": "code",
   "execution_count": 53,
   "metadata": {},
   "outputs": [
    {
     "data": {
      "text/html": [
       "<div>\n",
       "<style scoped>\n",
       "    .dataframe tbody tr th:only-of-type {\n",
       "        vertical-align: middle;\n",
       "    }\n",
       "\n",
       "    .dataframe tbody tr th {\n",
       "        vertical-align: top;\n",
       "    }\n",
       "\n",
       "    .dataframe thead th {\n",
       "        text-align: right;\n",
       "    }\n",
       "</style>\n",
       "<table border=\"1\" class=\"dataframe\">\n",
       "  <thead>\n",
       "    <tr style=\"text-align: right;\">\n",
       "      <th></th>\n",
       "      <th>used_mask</th>\n",
       "    </tr>\n",
       "  </thead>\n",
       "  <tbody>\n",
       "    <tr>\n",
       "      <th>0</th>\n",
       "      <td>1</td>\n",
       "    </tr>\n",
       "    <tr>\n",
       "      <th>1</th>\n",
       "      <td>1</td>\n",
       "    </tr>\n",
       "    <tr>\n",
       "      <th>2</th>\n",
       "      <td>1</td>\n",
       "    </tr>\n",
       "    <tr>\n",
       "      <th>3</th>\n",
       "      <td>1</td>\n",
       "    </tr>\n",
       "    <tr>\n",
       "      <th>4</th>\n",
       "      <td>1</td>\n",
       "    </tr>\n",
       "    <tr>\n",
       "      <th>...</th>\n",
       "      <td>...</td>\n",
       "    </tr>\n",
       "    <tr>\n",
       "      <th>5141</th>\n",
       "      <td>1</td>\n",
       "    </tr>\n",
       "    <tr>\n",
       "      <th>5142</th>\n",
       "      <td>1</td>\n",
       "    </tr>\n",
       "    <tr>\n",
       "      <th>5143</th>\n",
       "      <td>1</td>\n",
       "    </tr>\n",
       "    <tr>\n",
       "      <th>5144</th>\n",
       "      <td>1</td>\n",
       "    </tr>\n",
       "    <tr>\n",
       "      <th>5145</th>\n",
       "      <td>1</td>\n",
       "    </tr>\n",
       "  </tbody>\n",
       "</table>\n",
       "<p>5123 rows × 1 columns</p>\n",
       "</div>"
      ],
      "text/plain": [
       "      used_mask\n",
       "0             1\n",
       "1             1\n",
       "2             1\n",
       "3             1\n",
       "4             1\n",
       "...         ...\n",
       "5141          1\n",
       "5142          1\n",
       "5143          1\n",
       "5144          1\n",
       "5145          1\n",
       "\n",
       "[5123 rows x 1 columns]"
      ]
     },
     "execution_count": 53,
     "metadata": {},
     "output_type": "execute_result"
    }
   ],
   "source": [
    "encoder = LabelEncoder()\n",
    "categorical_columns = df_features.select_dtypes(include=[bool, object]).columns\n",
    "encoded_columns = df_features[categorical_columns].apply(encoder.fit_transform)\n",
    "encoded_columns"
   ]
  },
  {
   "cell_type": "code",
   "execution_count": 54,
   "metadata": {},
   "outputs": [
    {
     "data": {
      "text/html": [
       "<div>\n",
       "<style scoped>\n",
       "    .dataframe tbody tr th:only-of-type {\n",
       "        vertical-align: middle;\n",
       "    }\n",
       "\n",
       "    .dataframe tbody tr th {\n",
       "        vertical-align: top;\n",
       "    }\n",
       "\n",
       "    .dataframe thead th {\n",
       "        text-align: right;\n",
       "    }\n",
       "</style>\n",
       "<table border=\"1\" class=\"dataframe\">\n",
       "  <thead>\n",
       "    <tr style=\"text-align: right;\">\n",
       "      <th></th>\n",
       "      <th>x1</th>\n",
       "      <th>y1</th>\n",
       "      <th>x2</th>\n",
       "      <th>y2</th>\n",
       "      <th>used_mask</th>\n",
       "      <th>R_BIN_mask_0</th>\n",
       "      <th>R_BIN_mask_1</th>\n",
       "      <th>R_BIN_mask_2</th>\n",
       "      <th>R_BIN_mask_3</th>\n",
       "      <th>R_BIN_mask_4</th>\n",
       "      <th>...</th>\n",
       "      <th>e_face_yf</th>\n",
       "      <th>e_bg_yn</th>\n",
       "      <th>e_bg_mp</th>\n",
       "      <th>e_bg_yf</th>\n",
       "      <th>e_bbox_yn</th>\n",
       "      <th>e_bbox_mp</th>\n",
       "      <th>e_bbox_yf</th>\n",
       "      <th>e_lbbox_yn</th>\n",
       "      <th>e_lbbox_mp</th>\n",
       "      <th>e_lbbox_yf</th>\n",
       "    </tr>\n",
       "  </thead>\n",
       "  <tbody>\n",
       "    <tr>\n",
       "      <th>0</th>\n",
       "      <td>339</td>\n",
       "      <td>207</td>\n",
       "      <td>346</td>\n",
       "      <td>215</td>\n",
       "      <td>1</td>\n",
       "      <td>0.00000</td>\n",
       "      <td>0.0</td>\n",
       "      <td>0.000000</td>\n",
       "      <td>0.000000</td>\n",
       "      <td>0.000000</td>\n",
       "      <td>...</td>\n",
       "      <td>0.190</td>\n",
       "      <td>0.0</td>\n",
       "      <td>0.0</td>\n",
       "      <td>3.1</td>\n",
       "      <td>0.000</td>\n",
       "      <td>0.000</td>\n",
       "      <td>0.190</td>\n",
       "      <td>0.00</td>\n",
       "      <td>0.00</td>\n",
       "      <td>0.115</td>\n",
       "    </tr>\n",
       "    <tr>\n",
       "      <th>1</th>\n",
       "      <td>200</td>\n",
       "      <td>95</td>\n",
       "      <td>205</td>\n",
       "      <td>102</td>\n",
       "      <td>1</td>\n",
       "      <td>0.00000</td>\n",
       "      <td>0.0</td>\n",
       "      <td>0.200000</td>\n",
       "      <td>0.000000</td>\n",
       "      <td>0.000000</td>\n",
       "      <td>...</td>\n",
       "      <td>0.845</td>\n",
       "      <td>0.0</td>\n",
       "      <td>0.0</td>\n",
       "      <td>3.1</td>\n",
       "      <td>0.000</td>\n",
       "      <td>0.000</td>\n",
       "      <td>0.845</td>\n",
       "      <td>0.00</td>\n",
       "      <td>0.00</td>\n",
       "      <td>3.100</td>\n",
       "    </tr>\n",
       "    <tr>\n",
       "      <th>2</th>\n",
       "      <td>116</td>\n",
       "      <td>214</td>\n",
       "      <td>120</td>\n",
       "      <td>220</td>\n",
       "      <td>1</td>\n",
       "      <td>0.00000</td>\n",
       "      <td>0.0</td>\n",
       "      <td>0.000000</td>\n",
       "      <td>0.000000</td>\n",
       "      <td>0.000000</td>\n",
       "      <td>...</td>\n",
       "      <td>0.540</td>\n",
       "      <td>0.0</td>\n",
       "      <td>0.0</td>\n",
       "      <td>3.1</td>\n",
       "      <td>0.000</td>\n",
       "      <td>0.000</td>\n",
       "      <td>0.540</td>\n",
       "      <td>0.00</td>\n",
       "      <td>0.00</td>\n",
       "      <td>0.350</td>\n",
       "    </tr>\n",
       "    <tr>\n",
       "      <th>3</th>\n",
       "      <td>149</td>\n",
       "      <td>182</td>\n",
       "      <td>158</td>\n",
       "      <td>191</td>\n",
       "      <td>1</td>\n",
       "      <td>0.00000</td>\n",
       "      <td>0.0</td>\n",
       "      <td>0.000000</td>\n",
       "      <td>0.000000</td>\n",
       "      <td>0.000000</td>\n",
       "      <td>...</td>\n",
       "      <td>0.205</td>\n",
       "      <td>3.1</td>\n",
       "      <td>0.0</td>\n",
       "      <td>3.1</td>\n",
       "      <td>3.100</td>\n",
       "      <td>0.000</td>\n",
       "      <td>0.205</td>\n",
       "      <td>0.53</td>\n",
       "      <td>0.00</td>\n",
       "      <td>0.200</td>\n",
       "    </tr>\n",
       "    <tr>\n",
       "      <th>4</th>\n",
       "      <td>380</td>\n",
       "      <td>252</td>\n",
       "      <td>383</td>\n",
       "      <td>257</td>\n",
       "      <td>1</td>\n",
       "      <td>0.00000</td>\n",
       "      <td>0.0</td>\n",
       "      <td>0.000000</td>\n",
       "      <td>0.000000</td>\n",
       "      <td>0.000000</td>\n",
       "      <td>...</td>\n",
       "      <td>0.420</td>\n",
       "      <td>0.0</td>\n",
       "      <td>0.0</td>\n",
       "      <td>3.1</td>\n",
       "      <td>0.000</td>\n",
       "      <td>0.000</td>\n",
       "      <td>0.420</td>\n",
       "      <td>0.00</td>\n",
       "      <td>0.00</td>\n",
       "      <td>0.330</td>\n",
       "    </tr>\n",
       "    <tr>\n",
       "      <th>...</th>\n",
       "      <td>...</td>\n",
       "      <td>...</td>\n",
       "      <td>...</td>\n",
       "      <td>...</td>\n",
       "      <td>...</td>\n",
       "      <td>...</td>\n",
       "      <td>...</td>\n",
       "      <td>...</td>\n",
       "      <td>...</td>\n",
       "      <td>...</td>\n",
       "      <td>...</td>\n",
       "      <td>...</td>\n",
       "      <td>...</td>\n",
       "      <td>...</td>\n",
       "      <td>...</td>\n",
       "      <td>...</td>\n",
       "      <td>...</td>\n",
       "      <td>...</td>\n",
       "      <td>...</td>\n",
       "      <td>...</td>\n",
       "      <td>...</td>\n",
       "    </tr>\n",
       "    <tr>\n",
       "      <th>5141</th>\n",
       "      <td>131</td>\n",
       "      <td>101</td>\n",
       "      <td>300</td>\n",
       "      <td>376</td>\n",
       "      <td>1</td>\n",
       "      <td>0.00000</td>\n",
       "      <td>0.0</td>\n",
       "      <td>0.000000</td>\n",
       "      <td>0.242604</td>\n",
       "      <td>0.177515</td>\n",
       "      <td>...</td>\n",
       "      <td>0.155</td>\n",
       "      <td>3.5</td>\n",
       "      <td>3.5</td>\n",
       "      <td>3.5</td>\n",
       "      <td>0.455</td>\n",
       "      <td>0.180</td>\n",
       "      <td>0.140</td>\n",
       "      <td>3.10</td>\n",
       "      <td>0.21</td>\n",
       "      <td>0.120</td>\n",
       "    </tr>\n",
       "    <tr>\n",
       "      <th>5142</th>\n",
       "      <td>139</td>\n",
       "      <td>120</td>\n",
       "      <td>291</td>\n",
       "      <td>340</td>\n",
       "      <td>1</td>\n",
       "      <td>0.00000</td>\n",
       "      <td>0.0</td>\n",
       "      <td>0.000000</td>\n",
       "      <td>0.000000</td>\n",
       "      <td>0.000000</td>\n",
       "      <td>...</td>\n",
       "      <td>0.455</td>\n",
       "      <td>3.5</td>\n",
       "      <td>3.5</td>\n",
       "      <td>3.5</td>\n",
       "      <td>0.175</td>\n",
       "      <td>0.240</td>\n",
       "      <td>0.460</td>\n",
       "      <td>3.10</td>\n",
       "      <td>0.24</td>\n",
       "      <td>0.180</td>\n",
       "    </tr>\n",
       "    <tr>\n",
       "      <th>5143</th>\n",
       "      <td>122</td>\n",
       "      <td>65</td>\n",
       "      <td>301</td>\n",
       "      <td>309</td>\n",
       "      <td>1</td>\n",
       "      <td>0.22905</td>\n",
       "      <td>0.0</td>\n",
       "      <td>0.000000</td>\n",
       "      <td>0.000000</td>\n",
       "      <td>0.050279</td>\n",
       "      <td>...</td>\n",
       "      <td>0.265</td>\n",
       "      <td>3.5</td>\n",
       "      <td>3.5</td>\n",
       "      <td>3.5</td>\n",
       "      <td>0.175</td>\n",
       "      <td>0.165</td>\n",
       "      <td>0.220</td>\n",
       "      <td>3.10</td>\n",
       "      <td>0.15</td>\n",
       "      <td>0.130</td>\n",
       "    </tr>\n",
       "    <tr>\n",
       "      <th>5144</th>\n",
       "      <td>122</td>\n",
       "      <td>97</td>\n",
       "      <td>272</td>\n",
       "      <td>307</td>\n",
       "      <td>1</td>\n",
       "      <td>0.00000</td>\n",
       "      <td>0.0</td>\n",
       "      <td>0.106667</td>\n",
       "      <td>0.153333</td>\n",
       "      <td>0.273333</td>\n",
       "      <td>...</td>\n",
       "      <td>0.225</td>\n",
       "      <td>3.5</td>\n",
       "      <td>3.5</td>\n",
       "      <td>3.5</td>\n",
       "      <td>0.175</td>\n",
       "      <td>0.205</td>\n",
       "      <td>0.205</td>\n",
       "      <td>3.10</td>\n",
       "      <td>0.21</td>\n",
       "      <td>0.175</td>\n",
       "    </tr>\n",
       "    <tr>\n",
       "      <th>5145</th>\n",
       "      <td>121</td>\n",
       "      <td>73</td>\n",
       "      <td>268</td>\n",
       "      <td>286</td>\n",
       "      <td>1</td>\n",
       "      <td>0.00000</td>\n",
       "      <td>0.0</td>\n",
       "      <td>0.000000</td>\n",
       "      <td>0.000000</td>\n",
       "      <td>0.000000</td>\n",
       "      <td>...</td>\n",
       "      <td>0.295</td>\n",
       "      <td>3.5</td>\n",
       "      <td>3.5</td>\n",
       "      <td>3.5</td>\n",
       "      <td>0.185</td>\n",
       "      <td>0.165</td>\n",
       "      <td>0.285</td>\n",
       "      <td>3.10</td>\n",
       "      <td>0.16</td>\n",
       "      <td>0.200</td>\n",
       "    </tr>\n",
       "  </tbody>\n",
       "</table>\n",
       "<p>5123 rows × 1045 columns</p>\n",
       "</div>"
      ],
      "text/plain": [
       "       x1   y1   x2   y2  used_mask  R_BIN_mask_0  R_BIN_mask_1  R_BIN_mask_2  \\\n",
       "0     339  207  346  215          1       0.00000           0.0      0.000000   \n",
       "1     200   95  205  102          1       0.00000           0.0      0.200000   \n",
       "2     116  214  120  220          1       0.00000           0.0      0.000000   \n",
       "3     149  182  158  191          1       0.00000           0.0      0.000000   \n",
       "4     380  252  383  257          1       0.00000           0.0      0.000000   \n",
       "...   ...  ...  ...  ...        ...           ...           ...           ...   \n",
       "5141  131  101  300  376          1       0.00000           0.0      0.000000   \n",
       "5142  139  120  291  340          1       0.00000           0.0      0.000000   \n",
       "5143  122   65  301  309          1       0.22905           0.0      0.000000   \n",
       "5144  122   97  272  307          1       0.00000           0.0      0.106667   \n",
       "5145  121   73  268  286          1       0.00000           0.0      0.000000   \n",
       "\n",
       "      R_BIN_mask_3  R_BIN_mask_4  ...  e_face_yf  e_bg_yn  e_bg_mp  e_bg_yf  \\\n",
       "0         0.000000      0.000000  ...      0.190      0.0      0.0      3.1   \n",
       "1         0.000000      0.000000  ...      0.845      0.0      0.0      3.1   \n",
       "2         0.000000      0.000000  ...      0.540      0.0      0.0      3.1   \n",
       "3         0.000000      0.000000  ...      0.205      3.1      0.0      3.1   \n",
       "4         0.000000      0.000000  ...      0.420      0.0      0.0      3.1   \n",
       "...            ...           ...  ...        ...      ...      ...      ...   \n",
       "5141      0.242604      0.177515  ...      0.155      3.5      3.5      3.5   \n",
       "5142      0.000000      0.000000  ...      0.455      3.5      3.5      3.5   \n",
       "5143      0.000000      0.050279  ...      0.265      3.5      3.5      3.5   \n",
       "5144      0.153333      0.273333  ...      0.225      3.5      3.5      3.5   \n",
       "5145      0.000000      0.000000  ...      0.295      3.5      3.5      3.5   \n",
       "\n",
       "      e_bbox_yn  e_bbox_mp  e_bbox_yf  e_lbbox_yn  e_lbbox_mp  e_lbbox_yf  \n",
       "0         0.000      0.000      0.190        0.00        0.00       0.115  \n",
       "1         0.000      0.000      0.845        0.00        0.00       3.100  \n",
       "2         0.000      0.000      0.540        0.00        0.00       0.350  \n",
       "3         3.100      0.000      0.205        0.53        0.00       0.200  \n",
       "4         0.000      0.000      0.420        0.00        0.00       0.330  \n",
       "...         ...        ...        ...         ...         ...         ...  \n",
       "5141      0.455      0.180      0.140        3.10        0.21       0.120  \n",
       "5142      0.175      0.240      0.460        3.10        0.24       0.180  \n",
       "5143      0.175      0.165      0.220        3.10        0.15       0.130  \n",
       "5144      0.175      0.205      0.205        3.10        0.21       0.175  \n",
       "5145      0.185      0.165      0.285        3.10        0.16       0.200  \n",
       "\n",
       "[5123 rows x 1045 columns]"
      ]
     },
     "execution_count": 54,
     "metadata": {},
     "output_type": "execute_result"
    }
   ],
   "source": [
    "df_encoded_features = df_features.copy()\n",
    "df_encoded_features[categorical_columns] = encoded_columns\n",
    "df_encoded_features"
   ]
  },
  {
   "cell_type": "markdown",
   "metadata": {},
   "source": [
    "Split into X and Y"
   ]
  },
  {
   "cell_type": "code",
   "execution_count": 55,
   "metadata": {},
   "outputs": [],
   "source": [
    "features = [\"R_BIN_bbox_\" + str(i) for i in range(26)]\n",
    "features += [\"G_BIN_bbox_\" + str(i) for i in range(26)]\n",
    "features += [\"B_BIN_bbox_\" + str(i) for i in range(26)]\n",
    "features += [\"LBP_BIN_bbox_\" + str(i) for i in range(26)]\n",
    "features += [\"SOBELX_BIN_bbox_\" + str(i) for i in range(26)]\n",
    "features += [\"SOBELY_BIN_bbox_\" + str(i) for i in range(26)]\n",
    "features += [\"SOBEL_BIN_mask_\" + str(i) for i in range(26)]\n",
    "X_features =  df_encoded_features.loc[:,  features]\n",
    "y_features = df_encoded_features.loc[:, \"e_bbox_yf\"].values"
   ]
  },
  {
   "cell_type": "code",
   "execution_count": 56,
   "metadata": {},
   "outputs": [],
   "source": [
    "from sklearn.model_selection import train_test_split"
   ]
  },
  {
   "cell_type": "code",
   "execution_count": 57,
   "metadata": {},
   "outputs": [
    {
     "name": "stdout",
     "output_type": "stream",
     "text": [
      "Split shapes\n",
      "X_train:  (3073, 182)\n",
      "y_train:  (3073,)\n",
      "X_val:  (1025, 182)\n",
      "y_val:  (1025,)\n",
      "X_test:  (1025, 182)\n",
      "y_test:  (1025,)\n"
     ]
    }
   ],
   "source": [
    "# write code here\n",
    "X_train, X_test, y_train, y_test = train_test_split(X_features, y_features, test_size = 0.2, random_state=random_state)\n",
    "X_train, X_val, y_train, y_val  = train_test_split(X_train, y_train, test_size = 0.25, random_state=random_state)\n",
    "\n",
    "print(\"Split shapes\")\n",
    "print(\"X_train: \", X_train.shape)\n",
    "print(\"y_train: \", y_train.shape)\n",
    "print(\"X_val: \", X_val.shape)\n",
    "print(\"y_val: \", y_val.shape)\n",
    "print(\"X_test: \", X_test.shape)\n",
    "print(\"y_test: \", y_test.shape)"
   ]
  },
  {
   "cell_type": "code",
   "execution_count": 58,
   "metadata": {},
   "outputs": [
    {
     "data": {
      "text/plain": [
       "5123"
      ]
     },
     "execution_count": 58,
     "metadata": {},
     "output_type": "execute_result"
    }
   ],
   "source": [
    "n_samples = df_features.shape[0]\n",
    "n_samples"
   ]
  },
  {
   "cell_type": "markdown",
   "metadata": {},
   "source": [
    "## Base Models"
   ]
  },
  {
   "cell_type": "markdown",
   "metadata": {},
   "source": [
    "### Model Evaluation Functions"
   ]
  },
  {
   "cell_type": "code",
   "execution_count": 66,
   "metadata": {},
   "outputs": [],
   "source": [
    "def rmse(predictions, actual):\n",
    "    return np.sqrt(np.mean(np.square(predictions - actual)))"
   ]
  },
  {
   "cell_type": "code",
   "execution_count": 67,
   "metadata": {},
   "outputs": [],
   "source": [
    "def mae(predictions, actual):\n",
    "    return np.mean(np.abs(predictions - actual))"
   ]
  },
  {
   "cell_type": "markdown",
   "metadata": {},
   "source": [
    "### Random Forest"
   ]
  },
  {
   "cell_type": "markdown",
   "metadata": {},
   "source": [
    "Train RF model"
   ]
  },
  {
   "cell_type": "code",
   "execution_count": 17,
   "metadata": {},
   "outputs": [],
   "source": [
    "from sklearn.ensemble import RandomForestRegressor"
   ]
  },
  {
   "cell_type": "code",
   "execution_count": 18,
   "metadata": {},
   "outputs": [
    {
     "data": {
      "text/html": [
       "<style>#sk-container-id-1 {color: black;background-color: white;}#sk-container-id-1 pre{padding: 0;}#sk-container-id-1 div.sk-toggleable {background-color: white;}#sk-container-id-1 label.sk-toggleable__label {cursor: pointer;display: block;width: 100%;margin-bottom: 0;padding: 0.3em;box-sizing: border-box;text-align: center;}#sk-container-id-1 label.sk-toggleable__label-arrow:before {content: \"▸\";float: left;margin-right: 0.25em;color: #696969;}#sk-container-id-1 label.sk-toggleable__label-arrow:hover:before {color: black;}#sk-container-id-1 div.sk-estimator:hover label.sk-toggleable__label-arrow:before {color: black;}#sk-container-id-1 div.sk-toggleable__content {max-height: 0;max-width: 0;overflow: hidden;text-align: left;background-color: #f0f8ff;}#sk-container-id-1 div.sk-toggleable__content pre {margin: 0.2em;color: black;border-radius: 0.25em;background-color: #f0f8ff;}#sk-container-id-1 input.sk-toggleable__control:checked~div.sk-toggleable__content {max-height: 200px;max-width: 100%;overflow: auto;}#sk-container-id-1 input.sk-toggleable__control:checked~label.sk-toggleable__label-arrow:before {content: \"▾\";}#sk-container-id-1 div.sk-estimator input.sk-toggleable__control:checked~label.sk-toggleable__label {background-color: #d4ebff;}#sk-container-id-1 div.sk-label input.sk-toggleable__control:checked~label.sk-toggleable__label {background-color: #d4ebff;}#sk-container-id-1 input.sk-hidden--visually {border: 0;clip: rect(1px 1px 1px 1px);clip: rect(1px, 1px, 1px, 1px);height: 1px;margin: -1px;overflow: hidden;padding: 0;position: absolute;width: 1px;}#sk-container-id-1 div.sk-estimator {font-family: monospace;background-color: #f0f8ff;border: 1px dotted black;border-radius: 0.25em;box-sizing: border-box;margin-bottom: 0.5em;}#sk-container-id-1 div.sk-estimator:hover {background-color: #d4ebff;}#sk-container-id-1 div.sk-parallel-item::after {content: \"\";width: 100%;border-bottom: 1px solid gray;flex-grow: 1;}#sk-container-id-1 div.sk-label:hover label.sk-toggleable__label {background-color: #d4ebff;}#sk-container-id-1 div.sk-serial::before {content: \"\";position: absolute;border-left: 1px solid gray;box-sizing: border-box;top: 0;bottom: 0;left: 50%;z-index: 0;}#sk-container-id-1 div.sk-serial {display: flex;flex-direction: column;align-items: center;background-color: white;padding-right: 0.2em;padding-left: 0.2em;position: relative;}#sk-container-id-1 div.sk-item {position: relative;z-index: 1;}#sk-container-id-1 div.sk-parallel {display: flex;align-items: stretch;justify-content: center;background-color: white;position: relative;}#sk-container-id-1 div.sk-item::before, #sk-container-id-1 div.sk-parallel-item::before {content: \"\";position: absolute;border-left: 1px solid gray;box-sizing: border-box;top: 0;bottom: 0;left: 50%;z-index: -1;}#sk-container-id-1 div.sk-parallel-item {display: flex;flex-direction: column;z-index: 1;position: relative;background-color: white;}#sk-container-id-1 div.sk-parallel-item:first-child::after {align-self: flex-end;width: 50%;}#sk-container-id-1 div.sk-parallel-item:last-child::after {align-self: flex-start;width: 50%;}#sk-container-id-1 div.sk-parallel-item:only-child::after {width: 0;}#sk-container-id-1 div.sk-dashed-wrapped {border: 1px dashed gray;margin: 0 0.4em 0.5em 0.4em;box-sizing: border-box;padding-bottom: 0.4em;background-color: white;}#sk-container-id-1 div.sk-label label {font-family: monospace;font-weight: bold;display: inline-block;line-height: 1.2em;}#sk-container-id-1 div.sk-label-container {text-align: center;}#sk-container-id-1 div.sk-container {/* jupyter's `normalize.less` sets `[hidden] { display: none; }` but bootstrap.min.css set `[hidden] { display: none !important; }` so we also need the `!important` here to be able to override the default hidden behavior on the sphinx rendered scikit-learn.org. See: https://github.com/scikit-learn/scikit-learn/issues/21755 */display: inline-block !important;position: relative;}#sk-container-id-1 div.sk-text-repr-fallback {display: none;}</style><div id=\"sk-container-id-1\" class=\"sk-top-container\"><div class=\"sk-text-repr-fallback\"><pre>RandomForestRegressor(random_state=100)</pre><b>In a Jupyter environment, please rerun this cell to show the HTML representation or trust the notebook. <br />On GitHub, the HTML representation is unable to render, please try loading this page with nbviewer.org.</b></div><div class=\"sk-container\" hidden><div class=\"sk-item\"><div class=\"sk-estimator sk-toggleable\"><input class=\"sk-toggleable__control sk-hidden--visually\" id=\"sk-estimator-id-1\" type=\"checkbox\" checked><label for=\"sk-estimator-id-1\" class=\"sk-toggleable__label sk-toggleable__label-arrow\">RandomForestRegressor</label><div class=\"sk-toggleable__content\"><pre>RandomForestRegressor(random_state=100)</pre></div></div></div></div></div>"
      ],
      "text/plain": [
       "RandomForestRegressor(random_state=100)"
      ]
     },
     "execution_count": 18,
     "metadata": {},
     "output_type": "execute_result"
    }
   ],
   "source": [
    "rfr = RandomForestRegressor(random_state = random_state)\n",
    "rfr.fit(X_train, y_train)"
   ]
  },
  {
   "cell_type": "code",
   "execution_count": 20,
   "metadata": {
    "scrolled": true
   },
   "outputs": [
    {
     "data": {
      "text/plain": [
       "{'bootstrap': True,\n",
       " 'ccp_alpha': 0.0,\n",
       " 'criterion': 'squared_error',\n",
       " 'max_depth': None,\n",
       " 'max_features': 1.0,\n",
       " 'max_leaf_nodes': None,\n",
       " 'max_samples': None,\n",
       " 'min_impurity_decrease': 0.0,\n",
       " 'min_samples_leaf': 1,\n",
       " 'min_samples_split': 2,\n",
       " 'min_weight_fraction_leaf': 0.0,\n",
       " 'n_estimators': 100,\n",
       " 'n_jobs': None,\n",
       " 'oob_score': False,\n",
       " 'random_state': 100,\n",
       " 'verbose': 0,\n",
       " 'warm_start': False}"
      ]
     },
     "execution_count": 20,
     "metadata": {},
     "output_type": "execute_result"
    }
   ],
   "source": [
    "rfr.get_params()"
   ]
  },
  {
   "cell_type": "code",
   "execution_count": 37,
   "metadata": {},
   "outputs": [
    {
     "data": {
      "text/plain": [
       "array([0.17145, 0.16725, 0.11775, ..., 0.15705, 0.202  , 0.15525])"
      ]
     },
     "execution_count": 37,
     "metadata": {},
     "output_type": "execute_result"
    }
   ],
   "source": [
    "rfr_pred = rfr.predict(X_val)\n",
    "rfr_pred"
   ]
  },
  {
   "cell_type": "code",
   "execution_count": 38,
   "metadata": {
    "scrolled": true
   },
   "outputs": [
    {
     "name": "stdout",
     "output_type": "stream",
     "text": [
      "0.068966769711146\n",
      "0.0049999999999999 0.8450000000000004\n"
     ]
    }
   ],
   "source": [
    "print(rmse(rfr_pred, y_val))\n",
    "print(min(y_val), max(y_val))"
   ]
  },
  {
   "cell_type": "code",
   "execution_count": 39,
   "metadata": {},
   "outputs": [
    {
     "name": "stdout",
     "output_type": "stream",
     "text": [
      "STD: 0.0835114491646648\n",
      "Mean: 0.19350731707317065\n"
     ]
    }
   ],
   "source": [
    "print(\"STD:\", np.std(y_val))\n",
    "print(\"Mean:\", np.mean(y_val))"
   ]
  },
  {
   "cell_type": "markdown",
   "metadata": {},
   "source": [
    "### Support Vector Machine"
   ]
  },
  {
   "cell_type": "code",
   "execution_count": 44,
   "metadata": {
    "scrolled": true
   },
   "outputs": [
    {
     "data": {
      "text/html": [
       "<style>#sk-container-id-3 {color: black;background-color: white;}#sk-container-id-3 pre{padding: 0;}#sk-container-id-3 div.sk-toggleable {background-color: white;}#sk-container-id-3 label.sk-toggleable__label {cursor: pointer;display: block;width: 100%;margin-bottom: 0;padding: 0.3em;box-sizing: border-box;text-align: center;}#sk-container-id-3 label.sk-toggleable__label-arrow:before {content: \"▸\";float: left;margin-right: 0.25em;color: #696969;}#sk-container-id-3 label.sk-toggleable__label-arrow:hover:before {color: black;}#sk-container-id-3 div.sk-estimator:hover label.sk-toggleable__label-arrow:before {color: black;}#sk-container-id-3 div.sk-toggleable__content {max-height: 0;max-width: 0;overflow: hidden;text-align: left;background-color: #f0f8ff;}#sk-container-id-3 div.sk-toggleable__content pre {margin: 0.2em;color: black;border-radius: 0.25em;background-color: #f0f8ff;}#sk-container-id-3 input.sk-toggleable__control:checked~div.sk-toggleable__content {max-height: 200px;max-width: 100%;overflow: auto;}#sk-container-id-3 input.sk-toggleable__control:checked~label.sk-toggleable__label-arrow:before {content: \"▾\";}#sk-container-id-3 div.sk-estimator input.sk-toggleable__control:checked~label.sk-toggleable__label {background-color: #d4ebff;}#sk-container-id-3 div.sk-label input.sk-toggleable__control:checked~label.sk-toggleable__label {background-color: #d4ebff;}#sk-container-id-3 input.sk-hidden--visually {border: 0;clip: rect(1px 1px 1px 1px);clip: rect(1px, 1px, 1px, 1px);height: 1px;margin: -1px;overflow: hidden;padding: 0;position: absolute;width: 1px;}#sk-container-id-3 div.sk-estimator {font-family: monospace;background-color: #f0f8ff;border: 1px dotted black;border-radius: 0.25em;box-sizing: border-box;margin-bottom: 0.5em;}#sk-container-id-3 div.sk-estimator:hover {background-color: #d4ebff;}#sk-container-id-3 div.sk-parallel-item::after {content: \"\";width: 100%;border-bottom: 1px solid gray;flex-grow: 1;}#sk-container-id-3 div.sk-label:hover label.sk-toggleable__label {background-color: #d4ebff;}#sk-container-id-3 div.sk-serial::before {content: \"\";position: absolute;border-left: 1px solid gray;box-sizing: border-box;top: 0;bottom: 0;left: 50%;z-index: 0;}#sk-container-id-3 div.sk-serial {display: flex;flex-direction: column;align-items: center;background-color: white;padding-right: 0.2em;padding-left: 0.2em;position: relative;}#sk-container-id-3 div.sk-item {position: relative;z-index: 1;}#sk-container-id-3 div.sk-parallel {display: flex;align-items: stretch;justify-content: center;background-color: white;position: relative;}#sk-container-id-3 div.sk-item::before, #sk-container-id-3 div.sk-parallel-item::before {content: \"\";position: absolute;border-left: 1px solid gray;box-sizing: border-box;top: 0;bottom: 0;left: 50%;z-index: -1;}#sk-container-id-3 div.sk-parallel-item {display: flex;flex-direction: column;z-index: 1;position: relative;background-color: white;}#sk-container-id-3 div.sk-parallel-item:first-child::after {align-self: flex-end;width: 50%;}#sk-container-id-3 div.sk-parallel-item:last-child::after {align-self: flex-start;width: 50%;}#sk-container-id-3 div.sk-parallel-item:only-child::after {width: 0;}#sk-container-id-3 div.sk-dashed-wrapped {border: 1px dashed gray;margin: 0 0.4em 0.5em 0.4em;box-sizing: border-box;padding-bottom: 0.4em;background-color: white;}#sk-container-id-3 div.sk-label label {font-family: monospace;font-weight: bold;display: inline-block;line-height: 1.2em;}#sk-container-id-3 div.sk-label-container {text-align: center;}#sk-container-id-3 div.sk-container {/* jupyter's `normalize.less` sets `[hidden] { display: none; }` but bootstrap.min.css set `[hidden] { display: none !important; }` so we also need the `!important` here to be able to override the default hidden behavior on the sphinx rendered scikit-learn.org. See: https://github.com/scikit-learn/scikit-learn/issues/21755 */display: inline-block !important;position: relative;}#sk-container-id-3 div.sk-text-repr-fallback {display: none;}</style><div id=\"sk-container-id-3\" class=\"sk-top-container\"><div class=\"sk-text-repr-fallback\"><pre>SVR()</pre><b>In a Jupyter environment, please rerun this cell to show the HTML representation or trust the notebook. <br />On GitHub, the HTML representation is unable to render, please try loading this page with nbviewer.org.</b></div><div class=\"sk-container\" hidden><div class=\"sk-item\"><div class=\"sk-estimator sk-toggleable\"><input class=\"sk-toggleable__control sk-hidden--visually\" id=\"sk-estimator-id-5\" type=\"checkbox\" checked><label for=\"sk-estimator-id-5\" class=\"sk-toggleable__label sk-toggleable__label-arrow\">SVR</label><div class=\"sk-toggleable__content\"><pre>SVR()</pre></div></div></div></div></div>"
      ],
      "text/plain": [
       "SVR()"
      ]
     },
     "execution_count": 44,
     "metadata": {},
     "output_type": "execute_result"
    }
   ],
   "source": [
    "from sklearn.svm import SVR\n",
    "svr = SVR()\n",
    "svr.fit(X_train, y_train)"
   ]
  },
  {
   "cell_type": "code",
   "execution_count": null,
   "metadata": {},
   "outputs": [],
   "source": [
    "svr_pred = mlp.predict(X_val)\n",
    "svr_pred"
   ]
  },
  {
   "cell_type": "code",
   "execution_count": null,
   "metadata": {},
   "outputs": [],
   "source": [
    "rmse(svr_pred, y_test)"
   ]
  },
  {
   "cell_type": "markdown",
   "metadata": {},
   "source": [
    "### Multilayer Perceptrons\n",
    "\n"
   ]
  },
  {
   "cell_type": "code",
   "execution_count": 18,
   "metadata": {},
   "outputs": [],
   "source": [
    "from sklearn.neural_network import MLPRegressor"
   ]
  },
  {
   "cell_type": "code",
   "execution_count": 32,
   "metadata": {},
   "outputs": [
    {
     "name": "stderr",
     "output_type": "stream",
     "text": [
      "D:\\ProgramData\\Anaconda3\\lib\\site-packages\\sklearn\\neural_network\\_multilayer_perceptron.py:692: ConvergenceWarning: Stochastic Optimizer: Maximum iterations (200) reached and the optimization hasn't converged yet.\n",
      "  warnings.warn(\n"
     ]
    }
   ],
   "source": [
    "mpr = MLPRegressor(random_state = random_state)\n",
    "mpr.fit(X_train, y_train)"
   ]
  },
  {
   "cell_type": "code",
   "execution_count": 33,
   "metadata": {},
   "outputs": [
    {
     "name": "stdout",
     "output_type": "stream",
     "text": [
      "0.9013333333333333\n"
     ]
    }
   ],
   "source": [
    "mpr_pred = mlp.predict(X_val)\n",
    "mpr_pred"
   ]
  },
  {
   "cell_type": "code",
   "execution_count": null,
   "metadata": {},
   "outputs": [],
   "source": [
    "rmse(mpr_pred, y_test)"
   ]
  },
  {
   "cell_type": "markdown",
   "metadata": {},
   "source": [
    "## Feature selection and Hyperparameter tuning\n",
    "\n"
   ]
  },
  {
   "cell_type": "code",
   "execution_count": 69,
   "metadata": {},
   "outputs": [],
   "source": [
    "from sklearn.model_selection import GridSearchCV\n",
    "from sklearn.metrics import accuracy_score\n",
    "from skopt import BayesSearchCV\n",
    "from skopt.space import Real, Categorical, Integer\n",
    "from sklearn.feature_selection import RFE"
   ]
  },
  {
   "cell_type": "markdown",
   "metadata": {},
   "source": [
    "### Random Forest"
   ]
  },
  {
   "cell_type": "markdown",
   "metadata": {},
   "source": [
    "**Grid Search**"
   ]
  },
  {
   "cell_type": "markdown",
   "metadata": {},
   "source": [
    "```\n",
    "param_space = [\n",
    "    {\n",
    "        \"n_estimators\": list(range(100, 351, 50)),\n",
    "        \"criterion\": [\"squared_error\", \"absolute_error\", \"friedman_mse\", \"poisson\"],\n",
    "        \"max_depth\": [None, 1, 10, 30, 80, 150],\n",
    "        \"min_samples_split\": [2, 4, 8, 16, 32],\n",
    "        \"min_samples_leaf\": [1, 5, 10, 20],\n",
    "        \"max_features\": [None, \"sqrt\", \"log2\", 0.25, 0.5, 0.75],\n",
    "        \"max_leaf_nodes\": [None, 50, 100, 300],\n",
    "        \"min_impurity_decrease\": [0.0, 0.5],\n",
    "        \"bootstrap\": [False, True],\n",
    "        \"ccp_alpha\": [0.0, 0.5, 1.0],\n",
    "    }\n",
    "]\n",
    "```"
   ]
  },
  {
   "cell_type": "markdown",
   "metadata": {},
   "source": [
    "```\n",
    "rfr = RandomForestRegressor()\n",
    "gs_rfr = GridSearchCV(rfr, param_space, n_jobs=-1, cv=cv_folds)\n",
    "gs_rfr.fit(X_train, y_train)\n",
    "```"
   ]
  },
  {
   "cell_type": "markdown",
   "metadata": {},
   "source": [
    "```\n",
    "print('Best parameters found:\\n', gs_svr.best_params_)\n",
    "y_pred = gs_rfr.predict(X_val)\n",
    "print(\"Best accuracy: \", rmse(y_val, y_pred))\n",
    "print(classification_report(y_val, y_pred))\n",
    "```"
   ]
  },
  {
   "cell_type": "markdown",
   "metadata": {},
   "source": [
    "**Bayesian Optimization**"
   ]
  },
  {
   "cell_type": "code",
   "execution_count": 70,
   "metadata": {},
   "outputs": [],
   "source": [
    "search_space = {\n",
    "    \"n_estimators\": Integer(100, 350),\n",
    "    \"criterion\": Categorical([\"squared_error\", \"absolute_error\", \"friedman_mse\", \"poisson\"]),\n",
    "    \"max_depth\": Integer(1, 300),\n",
    "    \"min_samples_split\": Integer(2, 32),\n",
    "    \"min_samples_leaf\": Integer(1, 20),\n",
    "    \"max_features\": Categorical([None, \"sqrt\", \"log2\", 0.25, 0.5, 0.75]),\n",
    "    \"max_leaf_nodes\": Integer(50, 300),\n",
    "    \"min_impurity_decrease\": Real(0.0, 2.0),\n",
    "    \"bootstrap\": Categorical([False, True]),\n",
    "    \"ccp_alpha\": Real(0.0, 2.0),\n",
    "}"
   ]
  },
  {
   "cell_type": "code",
   "execution_count": 71,
   "metadata": {},
   "outputs": [
    {
     "data": {
      "text/html": [
       "<style>#sk-container-id-3 {color: black;background-color: white;}#sk-container-id-3 pre{padding: 0;}#sk-container-id-3 div.sk-toggleable {background-color: white;}#sk-container-id-3 label.sk-toggleable__label {cursor: pointer;display: block;width: 100%;margin-bottom: 0;padding: 0.3em;box-sizing: border-box;text-align: center;}#sk-container-id-3 label.sk-toggleable__label-arrow:before {content: \"▸\";float: left;margin-right: 0.25em;color: #696969;}#sk-container-id-3 label.sk-toggleable__label-arrow:hover:before {color: black;}#sk-container-id-3 div.sk-estimator:hover label.sk-toggleable__label-arrow:before {color: black;}#sk-container-id-3 div.sk-toggleable__content {max-height: 0;max-width: 0;overflow: hidden;text-align: left;background-color: #f0f8ff;}#sk-container-id-3 div.sk-toggleable__content pre {margin: 0.2em;color: black;border-radius: 0.25em;background-color: #f0f8ff;}#sk-container-id-3 input.sk-toggleable__control:checked~div.sk-toggleable__content {max-height: 200px;max-width: 100%;overflow: auto;}#sk-container-id-3 input.sk-toggleable__control:checked~label.sk-toggleable__label-arrow:before {content: \"▾\";}#sk-container-id-3 div.sk-estimator input.sk-toggleable__control:checked~label.sk-toggleable__label {background-color: #d4ebff;}#sk-container-id-3 div.sk-label input.sk-toggleable__control:checked~label.sk-toggleable__label {background-color: #d4ebff;}#sk-container-id-3 input.sk-hidden--visually {border: 0;clip: rect(1px 1px 1px 1px);clip: rect(1px, 1px, 1px, 1px);height: 1px;margin: -1px;overflow: hidden;padding: 0;position: absolute;width: 1px;}#sk-container-id-3 div.sk-estimator {font-family: monospace;background-color: #f0f8ff;border: 1px dotted black;border-radius: 0.25em;box-sizing: border-box;margin-bottom: 0.5em;}#sk-container-id-3 div.sk-estimator:hover {background-color: #d4ebff;}#sk-container-id-3 div.sk-parallel-item::after {content: \"\";width: 100%;border-bottom: 1px solid gray;flex-grow: 1;}#sk-container-id-3 div.sk-label:hover label.sk-toggleable__label {background-color: #d4ebff;}#sk-container-id-3 div.sk-serial::before {content: \"\";position: absolute;border-left: 1px solid gray;box-sizing: border-box;top: 0;bottom: 0;left: 50%;z-index: 0;}#sk-container-id-3 div.sk-serial {display: flex;flex-direction: column;align-items: center;background-color: white;padding-right: 0.2em;padding-left: 0.2em;position: relative;}#sk-container-id-3 div.sk-item {position: relative;z-index: 1;}#sk-container-id-3 div.sk-parallel {display: flex;align-items: stretch;justify-content: center;background-color: white;position: relative;}#sk-container-id-3 div.sk-item::before, #sk-container-id-3 div.sk-parallel-item::before {content: \"\";position: absolute;border-left: 1px solid gray;box-sizing: border-box;top: 0;bottom: 0;left: 50%;z-index: -1;}#sk-container-id-3 div.sk-parallel-item {display: flex;flex-direction: column;z-index: 1;position: relative;background-color: white;}#sk-container-id-3 div.sk-parallel-item:first-child::after {align-self: flex-end;width: 50%;}#sk-container-id-3 div.sk-parallel-item:last-child::after {align-self: flex-start;width: 50%;}#sk-container-id-3 div.sk-parallel-item:only-child::after {width: 0;}#sk-container-id-3 div.sk-dashed-wrapped {border: 1px dashed gray;margin: 0 0.4em 0.5em 0.4em;box-sizing: border-box;padding-bottom: 0.4em;background-color: white;}#sk-container-id-3 div.sk-label label {font-family: monospace;font-weight: bold;display: inline-block;line-height: 1.2em;}#sk-container-id-3 div.sk-label-container {text-align: center;}#sk-container-id-3 div.sk-container {/* jupyter's `normalize.less` sets `[hidden] { display: none; }` but bootstrap.min.css set `[hidden] { display: none !important; }` so we also need the `!important` here to be able to override the default hidden behavior on the sphinx rendered scikit-learn.org. See: https://github.com/scikit-learn/scikit-learn/issues/21755 */display: inline-block !important;position: relative;}#sk-container-id-3 div.sk-text-repr-fallback {display: none;}</style><div id=\"sk-container-id-3\" class=\"sk-top-container\"><div class=\"sk-text-repr-fallback\"><pre>BayesSearchCV(cv=5, estimator=RandomForestRegressor(), n_iter=20, n_jobs=-1,\n",
       "              random_state=100,\n",
       "              search_spaces={&#x27;bootstrap&#x27;: Categorical(categories=(False, True), prior=None),\n",
       "                             &#x27;ccp_alpha&#x27;: Real(low=0.0, high=2.0, prior=&#x27;uniform&#x27;, transform=&#x27;normalize&#x27;),\n",
       "                             &#x27;criterion&#x27;: Categorical(categories=(&#x27;squared_error&#x27;, &#x27;absolute_error&#x27;, &#x27;friedman_mse&#x27;, &#x27;poisson&#x27;), prior=None),\n",
       "                             &#x27;max_...\n",
       "                             &#x27;max_leaf_nodes&#x27;: Integer(low=50, high=300, prior=&#x27;uniform&#x27;, transform=&#x27;normalize&#x27;),\n",
       "                             &#x27;min_impurity_decrease&#x27;: Real(low=0.0, high=2.0, prior=&#x27;uniform&#x27;, transform=&#x27;normalize&#x27;),\n",
       "                             &#x27;min_samples_leaf&#x27;: Integer(low=1, high=20, prior=&#x27;uniform&#x27;, transform=&#x27;normalize&#x27;),\n",
       "                             &#x27;min_samples_split&#x27;: Integer(low=2, high=32, prior=&#x27;uniform&#x27;, transform=&#x27;normalize&#x27;),\n",
       "                             &#x27;n_estimators&#x27;: Integer(low=100, high=350, prior=&#x27;uniform&#x27;, transform=&#x27;normalize&#x27;)})</pre><b>In a Jupyter environment, please rerun this cell to show the HTML representation or trust the notebook. <br />On GitHub, the HTML representation is unable to render, please try loading this page with nbviewer.org.</b></div><div class=\"sk-container\" hidden><div class=\"sk-item sk-dashed-wrapped\"><div class=\"sk-label-container\"><div class=\"sk-label sk-toggleable\"><input class=\"sk-toggleable__control sk-hidden--visually\" id=\"sk-estimator-id-5\" type=\"checkbox\" ><label for=\"sk-estimator-id-5\" class=\"sk-toggleable__label sk-toggleable__label-arrow\">BayesSearchCV</label><div class=\"sk-toggleable__content\"><pre>BayesSearchCV(cv=5, estimator=RandomForestRegressor(), n_iter=20, n_jobs=-1,\n",
       "              random_state=100,\n",
       "              search_spaces={&#x27;bootstrap&#x27;: Categorical(categories=(False, True), prior=None),\n",
       "                             &#x27;ccp_alpha&#x27;: Real(low=0.0, high=2.0, prior=&#x27;uniform&#x27;, transform=&#x27;normalize&#x27;),\n",
       "                             &#x27;criterion&#x27;: Categorical(categories=(&#x27;squared_error&#x27;, &#x27;absolute_error&#x27;, &#x27;friedman_mse&#x27;, &#x27;poisson&#x27;), prior=None),\n",
       "                             &#x27;max_...\n",
       "                             &#x27;max_leaf_nodes&#x27;: Integer(low=50, high=300, prior=&#x27;uniform&#x27;, transform=&#x27;normalize&#x27;),\n",
       "                             &#x27;min_impurity_decrease&#x27;: Real(low=0.0, high=2.0, prior=&#x27;uniform&#x27;, transform=&#x27;normalize&#x27;),\n",
       "                             &#x27;min_samples_leaf&#x27;: Integer(low=1, high=20, prior=&#x27;uniform&#x27;, transform=&#x27;normalize&#x27;),\n",
       "                             &#x27;min_samples_split&#x27;: Integer(low=2, high=32, prior=&#x27;uniform&#x27;, transform=&#x27;normalize&#x27;),\n",
       "                             &#x27;n_estimators&#x27;: Integer(low=100, high=350, prior=&#x27;uniform&#x27;, transform=&#x27;normalize&#x27;)})</pre></div></div></div><div class=\"sk-parallel\"><div class=\"sk-parallel-item\"><div class=\"sk-item\"><div class=\"sk-label-container\"><div class=\"sk-label sk-toggleable\"><input class=\"sk-toggleable__control sk-hidden--visually\" id=\"sk-estimator-id-6\" type=\"checkbox\" ><label for=\"sk-estimator-id-6\" class=\"sk-toggleable__label sk-toggleable__label-arrow\">estimator: RandomForestRegressor</label><div class=\"sk-toggleable__content\"><pre>RandomForestRegressor()</pre></div></div></div><div class=\"sk-serial\"><div class=\"sk-item\"><div class=\"sk-estimator sk-toggleable\"><input class=\"sk-toggleable__control sk-hidden--visually\" id=\"sk-estimator-id-7\" type=\"checkbox\" ><label for=\"sk-estimator-id-7\" class=\"sk-toggleable__label sk-toggleable__label-arrow\">RandomForestRegressor</label><div class=\"sk-toggleable__content\"><pre>RandomForestRegressor()</pre></div></div></div></div></div></div></div></div></div></div>"
      ],
      "text/plain": [
       "BayesSearchCV(cv=5, estimator=RandomForestRegressor(), n_iter=20, n_jobs=-1,\n",
       "              random_state=100,\n",
       "              search_spaces={'bootstrap': Categorical(categories=(False, True), prior=None),\n",
       "                             'ccp_alpha': Real(low=0.0, high=2.0, prior='uniform', transform='normalize'),\n",
       "                             'criterion': Categorical(categories=('squared_error', 'absolute_error', 'friedman_mse', 'poisson'), prior=None),\n",
       "                             'max_...\n",
       "                             'max_leaf_nodes': Integer(low=50, high=300, prior='uniform', transform='normalize'),\n",
       "                             'min_impurity_decrease': Real(low=0.0, high=2.0, prior='uniform', transform='normalize'),\n",
       "                             'min_samples_leaf': Integer(low=1, high=20, prior='uniform', transform='normalize'),\n",
       "                             'min_samples_split': Integer(low=2, high=32, prior='uniform', transform='normalize'),\n",
       "                             'n_estimators': Integer(low=100, high=350, prior='uniform', transform='normalize')})"
      ]
     },
     "execution_count": 71,
     "metadata": {},
     "output_type": "execute_result"
    }
   ],
   "source": [
    "rfr = RandomForestRegressor()\n",
    "bo_rfr = BayesSearchCV(rfr, search_space, n_iter=20, n_jobs=-1, cv=cv_folds, random_state=random_state)\n",
    "bo_rfr.fit(X_train, y_train)"
   ]
  },
  {
   "cell_type": "code",
   "execution_count": 72,
   "metadata": {},
   "outputs": [
    {
     "name": "stdout",
     "output_type": "stream",
     "text": [
      "Best parameters found:\n",
      " OrderedDict([('bootstrap', True), ('ccp_alpha', 1.2863366672065861), ('criterion', 'friedman_mse'), ('max_depth', 186), ('max_features', 0.5), ('max_leaf_nodes', 268), ('min_impurity_decrease', 1.324946323219672), ('min_samples_leaf', 16), ('min_samples_split', 31), ('n_estimators', 188)])\n",
      "RMSE:  0.08351384068981149\n",
      "MAE:  0.05998037552238212\n"
     ]
    }
   ],
   "source": [
    "print('Best parameters found:\\n', bo_rfr.best_params_)\n",
    "y_pred = bo_rfr.predict(X_val)\n",
    "print(\"RMSE: \", rmse(y_val, y_pred))\n",
    "print(\"MAE: \", mae(y_val, y_pred))"
   ]
  },
  {
   "cell_type": "markdown",
   "metadata": {},
   "source": [
    "### Feature Selection"
   ]
  },
  {
   "cell_type": "code",
   "execution_count": 80,
   "metadata": {
    "scrolled": true
   },
   "outputs": [
    {
     "data": {
      "text/plain": [
       "array([92, 91, 90, 89, 88, 87, 86, 85, 84, 83, 82, 81, 80, 79, 78, 77, 76,\n",
       "       75, 74, 73, 72, 71, 70, 69, 68, 67, 66, 65, 64, 63, 62, 61, 60, 59,\n",
       "       58, 57, 56, 55, 54, 53, 52, 51, 50, 49, 48, 47, 46, 45, 44, 43, 42,\n",
       "       41, 40, 39, 38, 37, 36, 35, 34, 33, 32, 31, 30, 29, 28, 27, 26, 25,\n",
       "       24, 23, 22, 21, 20, 19, 18, 17, 16, 15, 14, 13, 12, 11, 10,  9,  8,\n",
       "        7,  6,  5,  4,  3,  2,  1,  1,  1,  1,  1,  1,  1,  1,  1,  1,  1,\n",
       "        1,  1,  1,  1,  1,  1,  1,  1,  1,  1,  1,  1,  1,  1,  1,  1,  1,\n",
       "        1,  1,  1,  1,  1,  1,  1,  1,  1,  1,  1,  1,  1,  1,  1,  1,  1,\n",
       "        1,  1,  1,  1,  1,  1,  1,  1,  1,  1,  1,  1,  1,  1,  1,  1,  1,\n",
       "        1,  1,  1,  1,  1,  1,  1,  1,  1,  1,  1,  1,  1,  1,  1,  1,  1,\n",
       "        1,  1,  1,  1,  1,  1,  1,  1,  1,  1,  1,  1])"
      ]
     },
     "execution_count": 80,
     "metadata": {},
     "output_type": "execute_result"
    }
   ],
   "source": [
    "rfr = RandomForestRegressor(**bo_rfr.best_params_)\n",
    "selector = RFE(rfr, step=1)\n",
    "selector = selector.fit(X_train, y_train)\n",
    "selector.ranking_"
   ]
  },
  {
   "cell_type": "code",
   "execution_count": 88,
   "metadata": {},
   "outputs": [
    {
     "ename": "ValueError",
     "evalue": "The feature names should match those that were passed during fit.\nFeature names unseen at fit time:\n- B_BIN_bbox_0\n- B_BIN_bbox_1\n- B_BIN_bbox_10\n- B_BIN_bbox_11\n- B_BIN_bbox_12\n- ...\n",
     "output_type": "error",
     "traceback": [
      "\u001b[1;31m---------------------------------------------------------------------------\u001b[0m",
      "\u001b[1;31mValueError\u001b[0m                                Traceback (most recent call last)",
      "Cell \u001b[1;32mIn[88], line 4\u001b[0m\n\u001b[0;32m      2\u001b[0m bo_rfr \u001b[38;5;241m=\u001b[39m BayesSearchCV(rfr, search_space, n_iter\u001b[38;5;241m=\u001b[39m\u001b[38;5;241m50\u001b[39m, n_jobs\u001b[38;5;241m=\u001b[39m\u001b[38;5;241m-\u001b[39m\u001b[38;5;241m1\u001b[39m, cv\u001b[38;5;241m=\u001b[39mcv_folds, random_state\u001b[38;5;241m=\u001b[39mrandom_state)\n\u001b[0;32m      3\u001b[0m bo_rfr\u001b[38;5;241m.\u001b[39mfit(X_train\u001b[38;5;241m.\u001b[39mloc[:, selector\u001b[38;5;241m.\u001b[39msupport_], y_train)\n\u001b[1;32m----> 4\u001b[0m y_pred \u001b[38;5;241m=\u001b[39m \u001b[43mbo_rfr\u001b[49m\u001b[38;5;241;43m.\u001b[39;49m\u001b[43mpredict\u001b[49m\u001b[43m(\u001b[49m\u001b[43mX_val\u001b[49m\u001b[43m)\u001b[49m\n\u001b[0;32m      6\u001b[0m \u001b[38;5;28mprint\u001b[39m(\u001b[38;5;124m'\u001b[39m\u001b[38;5;124mBest features found:\u001b[39m\u001b[38;5;130;01m\\n\u001b[39;00m\u001b[38;5;124m'\u001b[39m, X_train\u001b[38;5;241m.\u001b[39mcolumns[selector\u001b[38;5;241m.\u001b[39msupport_])\n\u001b[0;32m      7\u001b[0m \u001b[38;5;28mprint\u001b[39m(\u001b[38;5;124m\"\u001b[39m\u001b[38;5;124mRMSE: \u001b[39m\u001b[38;5;124m\"\u001b[39m, rmse(y_val, y_pred))\n",
      "File \u001b[1;32mD:\\ProgramData\\conda\\envs\\thesis-pytorch\\lib\\site-packages\\sklearn\\model_selection\\_search.py:499\u001b[0m, in \u001b[0;36mBaseSearchCV.predict\u001b[1;34m(self, X)\u001b[0m\n\u001b[0;32m    481\u001b[0m \u001b[38;5;124;03m\"\"\"Call predict on the estimator with the best found parameters.\u001b[39;00m\n\u001b[0;32m    482\u001b[0m \n\u001b[0;32m    483\u001b[0m \u001b[38;5;124;03mOnly available if ``refit=True`` and the underlying estimator supports\u001b[39;00m\n\u001b[1;32m   (...)\u001b[0m\n\u001b[0;32m    496\u001b[0m \u001b[38;5;124;03m    the best found parameters.\u001b[39;00m\n\u001b[0;32m    497\u001b[0m \u001b[38;5;124;03m\"\"\"\u001b[39;00m\n\u001b[0;32m    498\u001b[0m check_is_fitted(\u001b[38;5;28mself\u001b[39m)\n\u001b[1;32m--> 499\u001b[0m \u001b[38;5;28;01mreturn\u001b[39;00m \u001b[38;5;28;43mself\u001b[39;49m\u001b[38;5;241;43m.\u001b[39;49m\u001b[43mbest_estimator_\u001b[49m\u001b[38;5;241;43m.\u001b[39;49m\u001b[43mpredict\u001b[49m\u001b[43m(\u001b[49m\u001b[43mX\u001b[49m\u001b[43m)\u001b[49m\n",
      "File \u001b[1;32mD:\\ProgramData\\conda\\envs\\thesis-pytorch\\lib\\site-packages\\sklearn\\ensemble\\_forest.py:981\u001b[0m, in \u001b[0;36mForestRegressor.predict\u001b[1;34m(self, X)\u001b[0m\n\u001b[0;32m    979\u001b[0m check_is_fitted(\u001b[38;5;28mself\u001b[39m)\n\u001b[0;32m    980\u001b[0m \u001b[38;5;66;03m# Check data\u001b[39;00m\n\u001b[1;32m--> 981\u001b[0m X \u001b[38;5;241m=\u001b[39m \u001b[38;5;28;43mself\u001b[39;49m\u001b[38;5;241;43m.\u001b[39;49m\u001b[43m_validate_X_predict\u001b[49m\u001b[43m(\u001b[49m\u001b[43mX\u001b[49m\u001b[43m)\u001b[49m\n\u001b[0;32m    983\u001b[0m \u001b[38;5;66;03m# Assign chunk of trees to jobs\u001b[39;00m\n\u001b[0;32m    984\u001b[0m n_jobs, _, _ \u001b[38;5;241m=\u001b[39m _partition_estimators(\u001b[38;5;28mself\u001b[39m\u001b[38;5;241m.\u001b[39mn_estimators, \u001b[38;5;28mself\u001b[39m\u001b[38;5;241m.\u001b[39mn_jobs)\n",
      "File \u001b[1;32mD:\\ProgramData\\conda\\envs\\thesis-pytorch\\lib\\site-packages\\sklearn\\ensemble\\_forest.py:602\u001b[0m, in \u001b[0;36mBaseForest._validate_X_predict\u001b[1;34m(self, X)\u001b[0m\n\u001b[0;32m    599\u001b[0m \u001b[38;5;124;03m\"\"\"\u001b[39;00m\n\u001b[0;32m    600\u001b[0m \u001b[38;5;124;03mValidate X whenever one tries to predict, apply, predict_proba.\"\"\"\u001b[39;00m\n\u001b[0;32m    601\u001b[0m check_is_fitted(\u001b[38;5;28mself\u001b[39m)\n\u001b[1;32m--> 602\u001b[0m X \u001b[38;5;241m=\u001b[39m \u001b[38;5;28;43mself\u001b[39;49m\u001b[38;5;241;43m.\u001b[39;49m\u001b[43m_validate_data\u001b[49m\u001b[43m(\u001b[49m\u001b[43mX\u001b[49m\u001b[43m,\u001b[49m\u001b[43m \u001b[49m\u001b[43mdtype\u001b[49m\u001b[38;5;241;43m=\u001b[39;49m\u001b[43mDTYPE\u001b[49m\u001b[43m,\u001b[49m\u001b[43m \u001b[49m\u001b[43maccept_sparse\u001b[49m\u001b[38;5;241;43m=\u001b[39;49m\u001b[38;5;124;43m\"\u001b[39;49m\u001b[38;5;124;43mcsr\u001b[39;49m\u001b[38;5;124;43m\"\u001b[39;49m\u001b[43m,\u001b[49m\u001b[43m \u001b[49m\u001b[43mreset\u001b[49m\u001b[38;5;241;43m=\u001b[39;49m\u001b[38;5;28;43;01mFalse\u001b[39;49;00m\u001b[43m)\u001b[49m\n\u001b[0;32m    603\u001b[0m \u001b[38;5;28;01mif\u001b[39;00m issparse(X) \u001b[38;5;129;01mand\u001b[39;00m (X\u001b[38;5;241m.\u001b[39mindices\u001b[38;5;241m.\u001b[39mdtype \u001b[38;5;241m!=\u001b[39m np\u001b[38;5;241m.\u001b[39mintc \u001b[38;5;129;01mor\u001b[39;00m X\u001b[38;5;241m.\u001b[39mindptr\u001b[38;5;241m.\u001b[39mdtype \u001b[38;5;241m!=\u001b[39m np\u001b[38;5;241m.\u001b[39mintc):\n\u001b[0;32m    604\u001b[0m     \u001b[38;5;28;01mraise\u001b[39;00m \u001b[38;5;167;01mValueError\u001b[39;00m(\u001b[38;5;124m\"\u001b[39m\u001b[38;5;124mNo support for np.int64 index based sparse matrices\u001b[39m\u001b[38;5;124m\"\u001b[39m)\n",
      "File \u001b[1;32mD:\\ProgramData\\conda\\envs\\thesis-pytorch\\lib\\site-packages\\sklearn\\base.py:529\u001b[0m, in \u001b[0;36mBaseEstimator._validate_data\u001b[1;34m(self, X, y, reset, validate_separately, **check_params)\u001b[0m\n\u001b[0;32m    464\u001b[0m \u001b[38;5;28;01mdef\u001b[39;00m \u001b[38;5;21m_validate_data\u001b[39m(\n\u001b[0;32m    465\u001b[0m     \u001b[38;5;28mself\u001b[39m,\n\u001b[0;32m    466\u001b[0m     X\u001b[38;5;241m=\u001b[39m\u001b[38;5;124m\"\u001b[39m\u001b[38;5;124mno_validation\u001b[39m\u001b[38;5;124m\"\u001b[39m,\n\u001b[1;32m   (...)\u001b[0m\n\u001b[0;32m    470\u001b[0m     \u001b[38;5;241m*\u001b[39m\u001b[38;5;241m*\u001b[39mcheck_params,\n\u001b[0;32m    471\u001b[0m ):\n\u001b[0;32m    472\u001b[0m     \u001b[38;5;124;03m\"\"\"Validate input data and set or check the `n_features_in_` attribute.\u001b[39;00m\n\u001b[0;32m    473\u001b[0m \n\u001b[0;32m    474\u001b[0m \u001b[38;5;124;03m    Parameters\u001b[39;00m\n\u001b[1;32m   (...)\u001b[0m\n\u001b[0;32m    527\u001b[0m \u001b[38;5;124;03m        validated.\u001b[39;00m\n\u001b[0;32m    528\u001b[0m \u001b[38;5;124;03m    \"\"\"\u001b[39;00m\n\u001b[1;32m--> 529\u001b[0m     \u001b[38;5;28;43mself\u001b[39;49m\u001b[38;5;241;43m.\u001b[39;49m\u001b[43m_check_feature_names\u001b[49m\u001b[43m(\u001b[49m\u001b[43mX\u001b[49m\u001b[43m,\u001b[49m\u001b[43m \u001b[49m\u001b[43mreset\u001b[49m\u001b[38;5;241;43m=\u001b[39;49m\u001b[43mreset\u001b[49m\u001b[43m)\u001b[49m\n\u001b[0;32m    531\u001b[0m     \u001b[38;5;28;01mif\u001b[39;00m y \u001b[38;5;129;01mis\u001b[39;00m \u001b[38;5;28;01mNone\u001b[39;00m \u001b[38;5;129;01mand\u001b[39;00m \u001b[38;5;28mself\u001b[39m\u001b[38;5;241m.\u001b[39m_get_tags()[\u001b[38;5;124m\"\u001b[39m\u001b[38;5;124mrequires_y\u001b[39m\u001b[38;5;124m\"\u001b[39m]:\n\u001b[0;32m    532\u001b[0m         \u001b[38;5;28;01mraise\u001b[39;00m \u001b[38;5;167;01mValueError\u001b[39;00m(\n\u001b[0;32m    533\u001b[0m             \u001b[38;5;124mf\u001b[39m\u001b[38;5;124m\"\u001b[39m\u001b[38;5;124mThis \u001b[39m\u001b[38;5;132;01m{\u001b[39;00m\u001b[38;5;28mself\u001b[39m\u001b[38;5;241m.\u001b[39m\u001b[38;5;18m__class__\u001b[39m\u001b[38;5;241m.\u001b[39m\u001b[38;5;18m__name__\u001b[39m\u001b[38;5;132;01m}\u001b[39;00m\u001b[38;5;124m estimator \u001b[39m\u001b[38;5;124m\"\u001b[39m\n\u001b[0;32m    534\u001b[0m             \u001b[38;5;124m\"\u001b[39m\u001b[38;5;124mrequires y to be passed, but the target y is None.\u001b[39m\u001b[38;5;124m\"\u001b[39m\n\u001b[0;32m    535\u001b[0m         )\n",
      "File \u001b[1;32mD:\\ProgramData\\conda\\envs\\thesis-pytorch\\lib\\site-packages\\sklearn\\base.py:462\u001b[0m, in \u001b[0;36mBaseEstimator._check_feature_names\u001b[1;34m(self, X, reset)\u001b[0m\n\u001b[0;32m    457\u001b[0m \u001b[38;5;28;01mif\u001b[39;00m \u001b[38;5;129;01mnot\u001b[39;00m missing_names \u001b[38;5;129;01mand\u001b[39;00m \u001b[38;5;129;01mnot\u001b[39;00m unexpected_names:\n\u001b[0;32m    458\u001b[0m     message \u001b[38;5;241m+\u001b[39m\u001b[38;5;241m=\u001b[39m (\n\u001b[0;32m    459\u001b[0m         \u001b[38;5;124m\"\u001b[39m\u001b[38;5;124mFeature names must be in the same order as they were in fit.\u001b[39m\u001b[38;5;130;01m\\n\u001b[39;00m\u001b[38;5;124m\"\u001b[39m\n\u001b[0;32m    460\u001b[0m     )\n\u001b[1;32m--> 462\u001b[0m \u001b[38;5;28;01mraise\u001b[39;00m \u001b[38;5;167;01mValueError\u001b[39;00m(message)\n",
      "\u001b[1;31mValueError\u001b[0m: The feature names should match those that were passed during fit.\nFeature names unseen at fit time:\n- B_BIN_bbox_0\n- B_BIN_bbox_1\n- B_BIN_bbox_10\n- B_BIN_bbox_11\n- B_BIN_bbox_12\n- ...\n"
     ]
    }
   ],
   "source": [
    "rfr = RandomForestRegressor()\n",
    "bo_rfr = BayesSearchCV(rfr, search_space, n_iter=50, n_jobs=-1, cv=cv_folds, random_state=random_state)\n",
    "bo_rfr.fit(X_train.loc[:, selector.support_], y_train)"
   ]
  },
  {
   "cell_type": "code",
   "execution_count": 89,
   "metadata": {
    "scrolled": true
   },
   "outputs": [
    {
     "name": "stdout",
     "output_type": "stream",
     "text": [
      "Best features found:\n",
      " Index(['LBP_BIN_bbox_13', 'LBP_BIN_bbox_14', 'LBP_BIN_bbox_15',\n",
      "       'LBP_BIN_bbox_16', 'LBP_BIN_bbox_17', 'LBP_BIN_bbox_18',\n",
      "       'LBP_BIN_bbox_19', 'LBP_BIN_bbox_20', 'LBP_BIN_bbox_21',\n",
      "       'LBP_BIN_bbox_22', 'LBP_BIN_bbox_23', 'LBP_BIN_bbox_24',\n",
      "       'LBP_BIN_bbox_25', 'SOBELX_BIN_bbox_0', 'SOBELX_BIN_bbox_1',\n",
      "       'SOBELX_BIN_bbox_2', 'SOBELX_BIN_bbox_3', 'SOBELX_BIN_bbox_4',\n",
      "       'SOBELX_BIN_bbox_5', 'SOBELX_BIN_bbox_6', 'SOBELX_BIN_bbox_7',\n",
      "       'SOBELX_BIN_bbox_8', 'SOBELX_BIN_bbox_9', 'SOBELX_BIN_bbox_10',\n",
      "       'SOBELX_BIN_bbox_11', 'SOBELX_BIN_bbox_12', 'SOBELX_BIN_bbox_13',\n",
      "       'SOBELX_BIN_bbox_14', 'SOBELX_BIN_bbox_15', 'SOBELX_BIN_bbox_16',\n",
      "       'SOBELX_BIN_bbox_17', 'SOBELX_BIN_bbox_18', 'SOBELX_BIN_bbox_19',\n",
      "       'SOBELX_BIN_bbox_20', 'SOBELX_BIN_bbox_21', 'SOBELX_BIN_bbox_22',\n",
      "       'SOBELX_BIN_bbox_23', 'SOBELX_BIN_bbox_24', 'SOBELX_BIN_bbox_25',\n",
      "       'SOBELY_BIN_bbox_0', 'SOBELY_BIN_bbox_1', 'SOBELY_BIN_bbox_2',\n",
      "       'SOBELY_BIN_bbox_3', 'SOBELY_BIN_bbox_4', 'SOBELY_BIN_bbox_5',\n",
      "       'SOBELY_BIN_bbox_6', 'SOBELY_BIN_bbox_7', 'SOBELY_BIN_bbox_8',\n",
      "       'SOBELY_BIN_bbox_9', 'SOBELY_BIN_bbox_10', 'SOBELY_BIN_bbox_11',\n",
      "       'SOBELY_BIN_bbox_12', 'SOBELY_BIN_bbox_13', 'SOBELY_BIN_bbox_14',\n",
      "       'SOBELY_BIN_bbox_15', 'SOBELY_BIN_bbox_16', 'SOBELY_BIN_bbox_17',\n",
      "       'SOBELY_BIN_bbox_18', 'SOBELY_BIN_bbox_19', 'SOBELY_BIN_bbox_20',\n",
      "       'SOBELY_BIN_bbox_21', 'SOBELY_BIN_bbox_22', 'SOBELY_BIN_bbox_23',\n",
      "       'SOBELY_BIN_bbox_24', 'SOBELY_BIN_bbox_25', 'SOBEL_BIN_mask_0',\n",
      "       'SOBEL_BIN_mask_1', 'SOBEL_BIN_mask_2', 'SOBEL_BIN_mask_3',\n",
      "       'SOBEL_BIN_mask_4', 'SOBEL_BIN_mask_5', 'SOBEL_BIN_mask_6',\n",
      "       'SOBEL_BIN_mask_7', 'SOBEL_BIN_mask_8', 'SOBEL_BIN_mask_9',\n",
      "       'SOBEL_BIN_mask_10', 'SOBEL_BIN_mask_11', 'SOBEL_BIN_mask_12',\n",
      "       'SOBEL_BIN_mask_13', 'SOBEL_BIN_mask_14', 'SOBEL_BIN_mask_15',\n",
      "       'SOBEL_BIN_mask_16', 'SOBEL_BIN_mask_17', 'SOBEL_BIN_mask_18',\n",
      "       'SOBEL_BIN_mask_19', 'SOBEL_BIN_mask_20', 'SOBEL_BIN_mask_21',\n",
      "       'SOBEL_BIN_mask_22', 'SOBEL_BIN_mask_23', 'SOBEL_BIN_mask_24',\n",
      "       'SOBEL_BIN_mask_25'],\n",
      "      dtype='object')\n",
      "RMSE:  0.08351356809587653\n",
      "MAE:  0.05998157027055942\n"
     ]
    }
   ],
   "source": [
    "y_pred = bo_rfr.predict(X_val.loc[:, selector.support_])\n",
    "\n",
    "print('Best features found:\\n', X_train.columns[selector.support_])\n",
    "print(\"RMSE: \", rmse(y_val, y_pred))\n",
    "print(\"MAE: \", mae(y_val, y_pred))"
   ]
  },
  {
   "cell_type": "markdown",
   "metadata": {},
   "source": [
    "### Support Vector Machine"
   ]
  },
  {
   "cell_type": "markdown",
   "metadata": {},
   "source": [
    "**Grid Search**"
   ]
  },
  {
   "cell_type": "markdown",
   "metadata": {},
   "source": [
    "```\n",
    "param_space = [\n",
    "    {\n",
    "        \"kernel\": \"poly\",\n",
    "        \"degree\": [3, 5, 10, 15, 20],\n",
    "        \"gamma\": [\"auto\", \"scale\"],\n",
    "        \"coef0\": [0.0, 2.5, 5.0],\n",
    "        \"tol\": [0.0001, 0.001, 0.01, 0.1],\n",
    "        \"C\": [0.0001, 0.01, 1.0, 100.0, 1000.0],\n",
    "        \"epsilon\": [0.05, 0.1, .5],\n",
    "        \"shrinking\": [False, True],\n",
    "        \"max_iter\": [-1, 100, 500, 1000],\n",
    "    },\n",
    "    {\n",
    "        \"kernel\": \"rbf\",\n",
    "        \"gamma\": [\"auto\", \"scale\"],\n",
    "        \"tol\": [0.0001, 0.001, 0.01, 0.1],\n",
    "        \"C\": [0.0001, 0.01, 1.0, 100.0, 1000.0],\n",
    "        \"epsilon\": [0.05, 0.1, .5],\n",
    "        \"shrinking\": [False, True],\n",
    "        \"max_iter\": [-1, 100, 500, 1000],\n",
    "    },\n",
    "    {\n",
    "        \"kernel\": \"sigmoid\",\n",
    "        \"gamma\": [\"auto\", \"scale\"],\n",
    "        \"coef0\": [0.0, 2.5, 5.0],\n",
    "        \"tol\": [0.0001, 0.001, 0.01, 0.1],\n",
    "        \"C\": [0.0001, 0.01, 1.0, 100.0, 1000.0],\n",
    "        \"epsilon\": [0.05, 0.1, .5],\n",
    "        \"shrinking\": [False, True],\n",
    "        \"max_iter\": [-1, 100, 500, 1000],\n",
    "    },\n",
    "    {\n",
    "        \"kernel\": [\"linear\"],\n",
    "        \"tol\": [0.0001, 0.001, 0.01, 0.1],\n",
    "        \"C\": [0.0001, 0.01, 1.0, 100.0, 1000.0],\n",
    "        \"epsilon\": [0.05, 0.1, .5],\n",
    "        \"shrinking\": [False, True],\n",
    "        \"max_iter\": [-1, 100, 500, 1000],\n",
    "    }\n",
    "]\n",
    "```"
   ]
  },
  {
   "cell_type": "markdown",
   "metadata": {},
   "source": [
    "```\n",
    "svr = SVR()\n",
    "gs_svr = GridSearchCV(svr, param_space, n_jobs=-1, cv=cv_folds)\n",
    "gs_svr.fit(X_train, y_train)\n",
    "```"
   ]
  },
  {
   "cell_type": "markdown",
   "metadata": {},
   "source": [
    "```\n",
    "print('Best parameters found:\\n', gs_svr.best_params_)\n",
    "y_pred = gs_svr.predict(X_val)\n",
    "print(\"Best accuracy: \", rmse(y_val, y_pred))\n",
    "print(classification_report(y_val, y_pred))\n",
    "```"
   ]
  },
  {
   "cell_type": "markdown",
   "metadata": {},
   "source": [
    "**Bayesian Optimization**"
   ]
  },
  {
   "cell_type": "code",
   "execution_count": 46,
   "metadata": {},
   "outputs": [],
   "source": [
    "search_space = {\n",
    "    \"kernel\": Categorical([\"linear\", \"poly\", \"rbf\", \"sigmoid\"]),\n",
    "    \"degree\": Integer(3, 20),\n",
    "    \"gamma\": Categorical([\"auto\", \"scale\"]),\n",
    "    \"coef0\": Real(0.0, 5.0),\n",
    "    \"tol\": Real(0.0001, 0.1),\n",
    "    \"C\": Real(0.0001, 1000.0),\n",
    "    \"epsilon\": Real(0.05, .5),\n",
    "    \"shrinking\": Categorical([False, True]),\n",
    "    \"max_iter\": Integer(100, 5000),\n",
    "}"
   ]
  },
  {
   "cell_type": "code",
   "execution_count": null,
   "metadata": {},
   "outputs": [],
   "source": [
    "svr = SVR()\n",
    "bo_svr = BayesSearchCV(svr, search_space, n_iter=20, n_jobs=-1, cv=cv_folds, random_state=random_state)\n",
    "bo_svr.fit(X_train, y_train)"
   ]
  },
  {
   "cell_type": "code",
   "execution_count": null,
   "metadata": {},
   "outputs": [],
   "source": [
    "print('Best parameters found:\\n', bo_svr.best_params_)\n",
    "y_pred = bo_svr.predict(X_val)\n",
    "print(\"RMSE: \", rmse(y_val, y_pred))\n",
    "print(\"MAE: \", mae(y_val, y_pred))"
   ]
  },
  {
   "cell_type": "markdown",
   "metadata": {},
   "source": [
    "### Feature Selection"
   ]
  },
  {
   "cell_type": "code",
   "execution_count": 31,
   "metadata": {
    "scrolled": true
   },
   "outputs": [
    {
     "data": {
      "text/plain": [
       "array([17,  1,  1,  1,  1,  8,  4,  1,  1,  1,  1,  1,  1, 12,  1,  6, 20,\n",
       "       10, 22, 19,  1, 11,  1,  1, 25, 28,  1,  1,  1,  1,  1,  1,  1,  1,\n",
       "        1,  1,  1,  1,  1,  1,  1,  1,  1,  1,  1,  1,  2,  1, 18,  1,  3,\n",
       "       21,  1,  1,  1,  1,  1,  1,  1,  1,  5,  1,  1,  1,  1,  1,  1,  1,\n",
       "        9,  1,  1, 15, 14,  1,  1,  1, 13, 24,  1,  1,  1,  1,  1,  1,  1,\n",
       "        1,  1,  1,  1,  7,  1,  1,  1,  1,  1,  1,  1,  1,  1,  1,  1,  1,\n",
       "        1,  1,  1,  1,  1, 26, 30, 60, 53, 42, 57, 71, 68, 40, 43, 44, 46,\n",
       "       48, 45, 54, 50, 58, 62, 63, 64, 67, 72, 66,  1,  1,  1, 23, 31, 74,\n",
       "       56, 65, 41, 70, 69, 61, 73, 52, 59, 49, 55, 51, 38, 47, 36, 39, 33,\n",
       "       34, 35, 37,  1,  1,  1,  1, 16, 27, 29, 32, 75, 76, 77, 78, 79, 80,\n",
       "       81, 82, 83, 84, 85, 86, 87, 88, 89, 90, 91, 92])"
      ]
     },
     "execution_count": 31,
     "metadata": {},
     "output_type": "execute_result"
    }
   ],
   "source": [
    "svr = SVR(**bo_svr.best_params_)\n",
    "selector = RFE(svr, step=1)\n",
    "selector = selector.fit(X_train, y_train)\n",
    "selector.ranking_"
   ]
  },
  {
   "cell_type": "code",
   "execution_count": null,
   "metadata": {},
   "outputs": [],
   "source": [
    "svr = SVR()\n",
    "bo_svr = BayesSearchCV(svr, search_space, n_iter=50, n_jobs=-1, cv=cv_folds, random_state=random_state)\n",
    "bo_svr.fit(X_train.loc[:, selector.support_], y_train)"
   ]
  },
  {
   "cell_type": "code",
   "execution_count": 89,
   "metadata": {
    "scrolled": true
   },
   "outputs": [
    {
     "name": "stdout",
     "output_type": "stream",
     "text": [
      "Best features found:\n",
      " Index(['LBP_BIN_bbox_13', 'LBP_BIN_bbox_14', 'LBP_BIN_bbox_15',\n",
      "       'LBP_BIN_bbox_16', 'LBP_BIN_bbox_17', 'LBP_BIN_bbox_18',\n",
      "       'LBP_BIN_bbox_19', 'LBP_BIN_bbox_20', 'LBP_BIN_bbox_21',\n",
      "       'LBP_BIN_bbox_22', 'LBP_BIN_bbox_23', 'LBP_BIN_bbox_24',\n",
      "       'LBP_BIN_bbox_25', 'SOBELX_BIN_bbox_0', 'SOBELX_BIN_bbox_1',\n",
      "       'SOBELX_BIN_bbox_2', 'SOBELX_BIN_bbox_3', 'SOBELX_BIN_bbox_4',\n",
      "       'SOBELX_BIN_bbox_5', 'SOBELX_BIN_bbox_6', 'SOBELX_BIN_bbox_7',\n",
      "       'SOBELX_BIN_bbox_8', 'SOBELX_BIN_bbox_9', 'SOBELX_BIN_bbox_10',\n",
      "       'SOBELX_BIN_bbox_11', 'SOBELX_BIN_bbox_12', 'SOBELX_BIN_bbox_13',\n",
      "       'SOBELX_BIN_bbox_14', 'SOBELX_BIN_bbox_15', 'SOBELX_BIN_bbox_16',\n",
      "       'SOBELX_BIN_bbox_17', 'SOBELX_BIN_bbox_18', 'SOBELX_BIN_bbox_19',\n",
      "       'SOBELX_BIN_bbox_20', 'SOBELX_BIN_bbox_21', 'SOBELX_BIN_bbox_22',\n",
      "       'SOBELX_BIN_bbox_23', 'SOBELX_BIN_bbox_24', 'SOBELX_BIN_bbox_25',\n",
      "       'SOBELY_BIN_bbox_0', 'SOBELY_BIN_bbox_1', 'SOBELY_BIN_bbox_2',\n",
      "       'SOBELY_BIN_bbox_3', 'SOBELY_BIN_bbox_4', 'SOBELY_BIN_bbox_5',\n",
      "       'SOBELY_BIN_bbox_6', 'SOBELY_BIN_bbox_7', 'SOBELY_BIN_bbox_8',\n",
      "       'SOBELY_BIN_bbox_9', 'SOBELY_BIN_bbox_10', 'SOBELY_BIN_bbox_11',\n",
      "       'SOBELY_BIN_bbox_12', 'SOBELY_BIN_bbox_13', 'SOBELY_BIN_bbox_14',\n",
      "       'SOBELY_BIN_bbox_15', 'SOBELY_BIN_bbox_16', 'SOBELY_BIN_bbox_17',\n",
      "       'SOBELY_BIN_bbox_18', 'SOBELY_BIN_bbox_19', 'SOBELY_BIN_bbox_20',\n",
      "       'SOBELY_BIN_bbox_21', 'SOBELY_BIN_bbox_22', 'SOBELY_BIN_bbox_23',\n",
      "       'SOBELY_BIN_bbox_24', 'SOBELY_BIN_bbox_25', 'SOBEL_BIN_mask_0',\n",
      "       'SOBEL_BIN_mask_1', 'SOBEL_BIN_mask_2', 'SOBEL_BIN_mask_3',\n",
      "       'SOBEL_BIN_mask_4', 'SOBEL_BIN_mask_5', 'SOBEL_BIN_mask_6',\n",
      "       'SOBEL_BIN_mask_7', 'SOBEL_BIN_mask_8', 'SOBEL_BIN_mask_9',\n",
      "       'SOBEL_BIN_mask_10', 'SOBEL_BIN_mask_11', 'SOBEL_BIN_mask_12',\n",
      "       'SOBEL_BIN_mask_13', 'SOBEL_BIN_mask_14', 'SOBEL_BIN_mask_15',\n",
      "       'SOBEL_BIN_mask_16', 'SOBEL_BIN_mask_17', 'SOBEL_BIN_mask_18',\n",
      "       'SOBEL_BIN_mask_19', 'SOBEL_BIN_mask_20', 'SOBEL_BIN_mask_21',\n",
      "       'SOBEL_BIN_mask_22', 'SOBEL_BIN_mask_23', 'SOBEL_BIN_mask_24',\n",
      "       'SOBEL_BIN_mask_25'],\n",
      "      dtype='object')\n",
      "RMSE:  0.08351356809587653\n",
      "MAE:  0.05998157027055942\n"
     ]
    }
   ],
   "source": [
    "y_pred = bo_svr.predict(X_val.loc[:, selector.support_])\n",
    "\n",
    "print('Best features found:\\n', X_train.columns[selector.support_])\n",
    "print(\"RMSE: \", rmse(y_val, y_pred))\n",
    "print(\"MAE: \", mae(y_val, y_pred))"
   ]
  },
  {
   "cell_type": "markdown",
   "metadata": {},
   "source": [
    "### Multilayer Perceptron"
   ]
  },
  {
   "cell_type": "markdown",
   "metadata": {},
   "source": [
    "**Grid Search**"
   ]
  },
  {
   "cell_type": "markdown",
   "metadata": {},
   "source": [
    "```\n",
    "param_space = [\n",
    "    {\n",
    "        \"solver\": \"lbfgs\",\n",
    "        \"hidden_layer_sizes\": [(100,), (50, 50,), (50, 25, 25,)], # pick better ones\n",
    "        \"activation\": [\"identity\", \"logistic\", \"tanh\", \"relu\"],\n",
    "        \"alpha\": [0.00001, 0.0001, 0.001],\n",
    "        \"max_iter\": [200, 500, 1000],\n",
    "        \"random_state\": random_state,\n",
    "        \"tol\": [0.0001, 0.001, 0.01, 0.1],\n",
    "        \"max_fun\": [10000, 15000],\n",
    "    },\n",
    "    {\n",
    "        \"solver\": \"adam\",\n",
    "        \"hidden_layer_sizes\": [(100,), (50, 50,), (50, 25, 25,)], # pick better ones\n",
    "        \"activation\": [\"identity\", \"logistic\", \"tanh\", \"relu\"],\n",
    "        \"alpha\": [0.00001, 0.0001, 0.001],\n",
    "        \"max_iter\": [200, 500, 1000],\n",
    "        \"random_state\": random_state,\n",
    "        \"tol\": [0.0001, 0.001, 0.01, 0.1],\n",
    "        \"batch_size\": ['auto', n_samples // 5, n_samples // 10],\n",
    "        \"learning_rate_init\": [0.0005, 0.001, 0.005],\n",
    "        \"shuffle\": [False, True],\n",
    "        \"early_stopping\": [False, True],\n",
    "        \"validation_fraction\": [0.1, 0.15],\n",
    "        \"n_iter_no_change\": [10, 15],\n",
    "        # not sure abt these values, should we be changing these?\n",
    "        \"beta_1\": [0.75, 0.9],\n",
    "        \"beta_2\": [0.85, 0.999],\n",
    "        \"epsilon\": [1e-07, 1e-08],\n",
    "    },\n",
    "    {\n",
    "        \"solver\": \"sgd\",\n",
    "        \"hidden_layer_sizes\": [(100,), (50, 50,), (50, 25, 25,)], # pick better ones\n",
    "        \"activation\": [\"identity\", \"logistic\", \"tanh\", \"relu\"],\n",
    "        \"alpha\": [0.00001, 0.0001, 0.001],\n",
    "        \"max_iter\": [200, 500, 1000],\n",
    "        \"random_state\": random_state,\n",
    "        \"tol\": [0.0001, 0.001, 0.01, 0.1],\n",
    "        \"batch_size\": ['auto', n_samples // 5, n_samples // 10],\n",
    "        \"learning_rate_init\": [0.0005, 0.001, 0.005],\n",
    "        \"shuffle\": [False, True],\n",
    "        \"early_stopping\": [False, True],\n",
    "        \"validation_fraction\": [0.1, 0.15],\n",
    "        \"n_iter_no_change\": [10, 15],\n",
    "        \"learning_rate\": [\"constant\", \"invscaling\", \"adaptive\"],\n",
    "        \"momentum\": [0.75, 0.9],\n",
    "        \"nesterovs_momentum\": [False, True],\n",
    "    }\n",
    "]\n",
    "```"
   ]
  },
  {
   "cell_type": "markdown",
   "metadata": {},
   "source": [
    "```\n",
    "mpr = MLPRegressor()\n",
    "gs_mpr = GridSearchCV(mpr, param_space, n_jobs=-1, cv=cv_folds)\n",
    "gs_mpr.fit(X_train, y_train)\n",
    "```"
   ]
  },
  {
   "cell_type": "markdown",
   "metadata": {},
   "source": [
    "```\n",
    "print('Best parameters found:\\n', gs_mpr.best_params_)\n",
    "y_pred = gs_mpr.predict(X_val)\n",
    "print(\"Best accuracy: \", rmse(y_val, y_pred))\n",
    "print(classification_report(y_val, y_pred))\n",
    "```"
   ]
  },
  {
   "cell_type": "markdown",
   "metadata": {},
   "source": [
    "**Bayesian Optimization**"
   ]
  },
  {
   "cell_type": "code",
   "execution_count": 20,
   "metadata": {},
   "outputs": [],
   "source": [
    "hidden_sz = X_train.shape[0] * 2 / 3 + 1\n",
    "search_space = {\n",
    "    \"hidden_layer_sizes\": Categorical([(hidden_layers,), (hidden_sz, hidden_sz * 2 / 3,), (hidden_sz, hidden_sz * 2 / 3, hidden_sz * 4 / 9)]),\n",
    "    \"activation\": Categorical([\"identity\", \"logistic\", \"tanh\", \"relu\"]),\n",
    "    \"solver\": Categorical(\"lbfgs\", \"adam\", \"sgd\"),\n",
    "    \"alpha\": Real(0.00001, 0.001)\n",
    "    \"batch_size\": Categorical(['auto', n_samples // 5, n_samples // 10]),\n",
    "    \"learning_rate\": Categorical([\"constant\", \"invscaling\", \"adaptive\"]),\n",
    "    \"learning_rate_init\": Real(0.0005, 0.005),\n",
    "    \"max_iter\": (200, 1000),\n",
    "    \"shuffle\": Categorical([False, True]),\n",
    "    \"random_state\": random_state,\n",
    "    \"tol\": Real(0.0001, 0.1)\n",
    "    \"momentum\": Real(0.75, 0.9),\n",
    "    \"nesterovs_momentum\": Categorical([False, True]),\n",
    "    \"early_stopping\": Categorical([False, True]),\n",
    "    \"validation_fraction\": Real(0.1, 0.15),\n",
    "    \"beta_1\": Real(0.75, 0.9),\n",
    "    \"beta_2\": Real(0.85, 0.999),\n",
    "    \"epsilon\": Real(1e-07, 1e-08),\n",
    "    \"n_iter_no_change\": Integer(10, 15),\n",
    "    \"max_fun\": Integer(10000, 15000),\n",
    "}"
   ]
  },
  {
   "cell_type": "code",
   "execution_count": null,
   "metadata": {},
   "outputs": [],
   "source": [
    "mpr = MLPRegressor()\n",
    "bo_mpr = BayesSearchCV(svr, search_space, n_iter=20, n_jobs=-1, cv=cv_folds)\n",
    "bo_mpr.fit(X_train, y_train)"
   ]
  },
  {
   "cell_type": "code",
   "execution_count": null,
   "metadata": {},
   "outputs": [],
   "source": [
    "print('Best parameters found:\\n', bo_mpr.best_params_)\n",
    "y_pred = bo_mpr.predict(X_val)\n",
    "print(\"Best accuracy: \", rmse(y_val, y_pred))\n",
    "print(classification_report(y_val, y_pred))"
   ]
  },
  {
   "cell_type": "markdown",
   "metadata": {},
   "source": [
    "### Feature Selection"
   ]
  },
  {
   "cell_type": "code",
   "execution_count": 31,
   "metadata": {
    "scrolled": true
   },
   "outputs": [
    {
     "data": {
      "text/plain": [
       "array([17,  1,  1,  1,  1,  8,  4,  1,  1,  1,  1,  1,  1, 12,  1,  6, 20,\n",
       "       10, 22, 19,  1, 11,  1,  1, 25, 28,  1,  1,  1,  1,  1,  1,  1,  1,\n",
       "        1,  1,  1,  1,  1,  1,  1,  1,  1,  1,  1,  1,  2,  1, 18,  1,  3,\n",
       "       21,  1,  1,  1,  1,  1,  1,  1,  1,  5,  1,  1,  1,  1,  1,  1,  1,\n",
       "        9,  1,  1, 15, 14,  1,  1,  1, 13, 24,  1,  1,  1,  1,  1,  1,  1,\n",
       "        1,  1,  1,  1,  7,  1,  1,  1,  1,  1,  1,  1,  1,  1,  1,  1,  1,\n",
       "        1,  1,  1,  1,  1, 26, 30, 60, 53, 42, 57, 71, 68, 40, 43, 44, 46,\n",
       "       48, 45, 54, 50, 58, 62, 63, 64, 67, 72, 66,  1,  1,  1, 23, 31, 74,\n",
       "       56, 65, 41, 70, 69, 61, 73, 52, 59, 49, 55, 51, 38, 47, 36, 39, 33,\n",
       "       34, 35, 37,  1,  1,  1,  1, 16, 27, 29, 32, 75, 76, 77, 78, 79, 80,\n",
       "       81, 82, 83, 84, 85, 86, 87, 88, 89, 90, 91, 92])"
      ]
     },
     "execution_count": 31,
     "metadata": {},
     "output_type": "execute_result"
    }
   ],
   "source": [
    "mpr = MLPRegressor(**bo_mpr.best_params_)\n",
    "selector = RFE(bo_mpr, step=1)\n",
    "selector = selector.fit(X_train, y_train)\n",
    "selector.ranking_"
   ]
  },
  {
   "cell_type": "code",
   "execution_count": null,
   "metadata": {},
   "outputs": [],
   "source": [
    "mpr = MLPRegressor()\n",
    "bo_mpr = BayesSearchCV(mpr, search_space, n_iter=50, n_jobs=-1, cv=cv_folds, random_state=random_state)\n",
    "bo_mpr.fit(X_train.loc[:, selector.support_], y_train)"
   ]
  },
  {
   "cell_type": "code",
   "execution_count": 89,
   "metadata": {
    "scrolled": true
   },
   "outputs": [
    {
     "name": "stdout",
     "output_type": "stream",
     "text": [
      "Best features found:\n",
      " Index(['LBP_BIN_bbox_13', 'LBP_BIN_bbox_14', 'LBP_BIN_bbox_15',\n",
      "       'LBP_BIN_bbox_16', 'LBP_BIN_bbox_17', 'LBP_BIN_bbox_18',\n",
      "       'LBP_BIN_bbox_19', 'LBP_BIN_bbox_20', 'LBP_BIN_bbox_21',\n",
      "       'LBP_BIN_bbox_22', 'LBP_BIN_bbox_23', 'LBP_BIN_bbox_24',\n",
      "       'LBP_BIN_bbox_25', 'SOBELX_BIN_bbox_0', 'SOBELX_BIN_bbox_1',\n",
      "       'SOBELX_BIN_bbox_2', 'SOBELX_BIN_bbox_3', 'SOBELX_BIN_bbox_4',\n",
      "       'SOBELX_BIN_bbox_5', 'SOBELX_BIN_bbox_6', 'SOBELX_BIN_bbox_7',\n",
      "       'SOBELX_BIN_bbox_8', 'SOBELX_BIN_bbox_9', 'SOBELX_BIN_bbox_10',\n",
      "       'SOBELX_BIN_bbox_11', 'SOBELX_BIN_bbox_12', 'SOBELX_BIN_bbox_13',\n",
      "       'SOBELX_BIN_bbox_14', 'SOBELX_BIN_bbox_15', 'SOBELX_BIN_bbox_16',\n",
      "       'SOBELX_BIN_bbox_17', 'SOBELX_BIN_bbox_18', 'SOBELX_BIN_bbox_19',\n",
      "       'SOBELX_BIN_bbox_20', 'SOBELX_BIN_bbox_21', 'SOBELX_BIN_bbox_22',\n",
      "       'SOBELX_BIN_bbox_23', 'SOBELX_BIN_bbox_24', 'SOBELX_BIN_bbox_25',\n",
      "       'SOBELY_BIN_bbox_0', 'SOBELY_BIN_bbox_1', 'SOBELY_BIN_bbox_2',\n",
      "       'SOBELY_BIN_bbox_3', 'SOBELY_BIN_bbox_4', 'SOBELY_BIN_bbox_5',\n",
      "       'SOBELY_BIN_bbox_6', 'SOBELY_BIN_bbox_7', 'SOBELY_BIN_bbox_8',\n",
      "       'SOBELY_BIN_bbox_9', 'SOBELY_BIN_bbox_10', 'SOBELY_BIN_bbox_11',\n",
      "       'SOBELY_BIN_bbox_12', 'SOBELY_BIN_bbox_13', 'SOBELY_BIN_bbox_14',\n",
      "       'SOBELY_BIN_bbox_15', 'SOBELY_BIN_bbox_16', 'SOBELY_BIN_bbox_17',\n",
      "       'SOBELY_BIN_bbox_18', 'SOBELY_BIN_bbox_19', 'SOBELY_BIN_bbox_20',\n",
      "       'SOBELY_BIN_bbox_21', 'SOBELY_BIN_bbox_22', 'SOBELY_BIN_bbox_23',\n",
      "       'SOBELY_BIN_bbox_24', 'SOBELY_BIN_bbox_25', 'SOBEL_BIN_mask_0',\n",
      "       'SOBEL_BIN_mask_1', 'SOBEL_BIN_mask_2', 'SOBEL_BIN_mask_3',\n",
      "       'SOBEL_BIN_mask_4', 'SOBEL_BIN_mask_5', 'SOBEL_BIN_mask_6',\n",
      "       'SOBEL_BIN_mask_7', 'SOBEL_BIN_mask_8', 'SOBEL_BIN_mask_9',\n",
      "       'SOBEL_BIN_mask_10', 'SOBEL_BIN_mask_11', 'SOBEL_BIN_mask_12',\n",
      "       'SOBEL_BIN_mask_13', 'SOBEL_BIN_mask_14', 'SOBEL_BIN_mask_15',\n",
      "       'SOBEL_BIN_mask_16', 'SOBEL_BIN_mask_17', 'SOBEL_BIN_mask_18',\n",
      "       'SOBEL_BIN_mask_19', 'SOBEL_BIN_mask_20', 'SOBEL_BIN_mask_21',\n",
      "       'SOBEL_BIN_mask_22', 'SOBEL_BIN_mask_23', 'SOBEL_BIN_mask_24',\n",
      "       'SOBEL_BIN_mask_25'],\n",
      "      dtype='object')\n",
      "RMSE:  0.08351356809587653\n",
      "MAE:  0.05998157027055942\n"
     ]
    }
   ],
   "source": [
    "y_pred = bo_svr.predict(X_val.loc[:, selector.support_])\n",
    "\n",
    "print('Best features found:\\n', X_train.columns[selector.support_])\n",
    "print(\"RMSE: \", rmse(y_val, y_pred))\n",
    "print(\"MAE: \", mae(y_val, y_pred))"
   ]
  },
  {
   "cell_type": "markdown",
   "metadata": {},
   "source": [
    "## Evaluation"
   ]
  },
  {
   "cell_type": "code",
   "execution_count": null,
   "metadata": {},
   "outputs": [],
   "source": []
  },
  {
   "cell_type": "markdown",
   "metadata": {},
   "source": [
    "#"
   ]
  }
 ],
 "metadata": {
  "kernelspec": {
   "display_name": "Python 3 (ipykernel)",
   "language": "python",
   "name": "python3"
  },
  "language_info": {
   "codemirror_mode": {
    "name": "ipython",
    "version": 3
   },
   "file_extension": ".py",
   "mimetype": "text/x-python",
   "name": "python",
   "nbconvert_exporter": "python",
   "pygments_lexer": "ipython3",
   "version": "3.8.16"
  }
 },
 "nbformat": 4,
 "nbformat_minor": 4
}
