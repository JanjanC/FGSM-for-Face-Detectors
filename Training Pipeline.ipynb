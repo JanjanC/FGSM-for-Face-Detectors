{
 "cells": [
  {
   "cell_type": "code",
   "execution_count": 19,
   "metadata": {},
   "outputs": [],
   "source": [
    "from sklearn.metrics import classification_report, accuracy_score"
   ]
  },
  {
   "cell_type": "markdown",
   "metadata": {},
   "source": [
    "### k\\-Nearest Neighbors \\(k\\-NN\\)\n",
    "\n"
   ]
  },
  {
   "cell_type": "markdown",
   "metadata": {},
   "source": [
    "kNN would be well suited for this task because the number of values in the training data is only in the thousands. Additionally, it does not need to compute the values of the results rapidly. With these reasons and its simplicity, it was chosen as one of the models to use."
   ]
  },
  {
   "cell_type": "code",
   "execution_count": 20,
   "metadata": {},
   "outputs": [],
   "source": [
    "from sklearn.neighbors import KNeighborsClassifier"
   ]
  },
  {
   "cell_type": "code",
   "execution_count": 21,
   "metadata": {},
   "outputs": [],
   "source": [
    "knn = KNeighborsClassifier()\n",
    "knn.fit(X_train, y_train)\n",
    "knn_pred = knn.predict(X_val)"
   ]
  },
  {
   "cell_type": "code",
   "execution_count": 22,
   "metadata": {},
   "outputs": [
    {
     "name": "stdout",
     "output_type": "stream",
     "text": [
      "               precision    recall  f1-score   support\n",
      "\n",
      "   Çerçevelik       0.87      0.93      0.90       195\n",
      "Ürgüp Sivrisi       0.92      0.85      0.88       180\n",
      "\n",
      "     accuracy                           0.89       375\n",
      "    macro avg       0.89      0.89      0.89       375\n",
      " weighted avg       0.89      0.89      0.89       375\n",
      "\n"
     ]
    }
   ],
   "source": [
    "print(classification_report(y_val, knn_pred))"
   ]
  },
  {
   "cell_type": "code",
   "execution_count": 23,
   "metadata": {
    "scrolled": true
   },
   "outputs": [
    {
     "name": "stdout",
     "output_type": "stream",
     "text": [
      "0.8906666666666667\n"
     ]
    }
   ],
   "source": [
    "print(accuracy_score(y_val, knn_pred))"
   ]
  },
  {
   "cell_type": "markdown",
   "metadata": {},
   "source": [
    "### Logistic Regression \\(LR\\)\n",
    "\n"
   ]
  },
  {
   "cell_type": "markdown",
   "metadata": {},
   "source": [
    "For Logistic Regression, we tried out two different ways of implementing a Logistic Regression model which are `SGDClassifier` and `LogisticRegression`.\n"
   ]
  },
  {
   "cell_type": "code",
   "execution_count": 24,
   "metadata": {},
   "outputs": [],
   "source": [
    "from sklearn.linear_model import SGDClassifier\n",
    "from sklearn.linear_model import LogisticRegression"
   ]
  },
  {
   "cell_type": "markdown",
   "metadata": {},
   "source": [
    "In this part, `SGDClassifier` is used with default parameters and a `random_state` of 2."
   ]
  },
  {
   "cell_type": "code",
   "execution_count": 25,
   "metadata": {},
   "outputs": [],
   "source": [
    "sgdc = SGDClassifier(random_state = 2)\n",
    "sgdc.fit(X_train, y_train)\n",
    "sgdc_pred = sgdc.predict(X_val)"
   ]
  },
  {
   "cell_type": "code",
   "execution_count": 26,
   "metadata": {
    "scrolled": true
   },
   "outputs": [
    {
     "name": "stdout",
     "output_type": "stream",
     "text": [
      "               precision    recall  f1-score   support\n",
      "\n",
      "   Çerçevelik       0.88      0.90      0.89       195\n",
      "Ürgüp Sivrisi       0.89      0.86      0.87       180\n",
      "\n",
      "     accuracy                           0.88       375\n",
      "    macro avg       0.88      0.88      0.88       375\n",
      " weighted avg       0.88      0.88      0.88       375\n",
      "\n"
     ]
    }
   ],
   "source": [
    "print(classification_report(y_val, sgdc_pred))"
   ]
  },
  {
   "cell_type": "code",
   "execution_count": 27,
   "metadata": {},
   "outputs": [
    {
     "name": "stdout",
     "output_type": "stream",
     "text": [
      "0.88\n"
     ]
    }
   ],
   "source": [
    "print(accuracy_score(y_val, sgdc_pred))"
   ]
  },
  {
   "cell_type": "markdown",
   "metadata": {},
   "source": [
    "Here, `LogisticRegression` is used also with default parameters and a `random_state` of 2."
   ]
  },
  {
   "cell_type": "code",
   "execution_count": 28,
   "metadata": {},
   "outputs": [],
   "source": [
    "sgd = LogisticRegression(random_state = 2)\n",
    "sgd.fit(X_train, y_train)\n",
    "sgd_pred = sgd.predict(X_val)"
   ]
  },
  {
   "cell_type": "code",
   "execution_count": 29,
   "metadata": {
    "scrolled": true
   },
   "outputs": [
    {
     "name": "stdout",
     "output_type": "stream",
     "text": [
      "               precision    recall  f1-score   support\n",
      "\n",
      "   Çerçevelik       0.88      0.92      0.90       195\n",
      "Ürgüp Sivrisi       0.91      0.87      0.89       180\n",
      "\n",
      "     accuracy                           0.90       375\n",
      "    macro avg       0.90      0.89      0.90       375\n",
      " weighted avg       0.90      0.90      0.90       375\n",
      "\n"
     ]
    }
   ],
   "source": [
    "print(classification_report(y_val, sgd_pred))"
   ]
  },
  {
   "cell_type": "code",
   "execution_count": 30,
   "metadata": {},
   "outputs": [
    {
     "name": "stdout",
     "output_type": "stream",
     "text": [
      "0.896\n"
     ]
    }
   ],
   "source": [
    "print(accuracy_score(y_val, sgd_pred))"
   ]
  },
  {
   "cell_type": "markdown",
   "metadata": {},
   "source": [
    "## <span style='font-size:x-large'>Multilayer Perceptrons \\(MLP\\)</span>\n",
    "\n"
   ]
  },
  {
   "cell_type": "markdown",
   "metadata": {},
   "source": [
    "For Neural Networks, Multilayer Perceptrons or MLP is the specific model used. It is theoretically more powerful than LR. The data has many features where the range of values of the different seed types overlap. MLP might be able to find a pattern using the combination of different features to classify the seeds well despite of these overlaps. MLP is a feedforward neural network algorithm.\n"
   ]
  },
  {
   "cell_type": "code",
   "execution_count": 31,
   "metadata": {},
   "outputs": [],
   "source": [
    "from sklearn.neural_network import MLPClassifier"
   ]
  },
  {
   "cell_type": "code",
   "execution_count": 32,
   "metadata": {},
   "outputs": [
    {
     "name": "stderr",
     "output_type": "stream",
     "text": [
      "D:\\ProgramData\\Anaconda3\\lib\\site-packages\\sklearn\\neural_network\\_multilayer_perceptron.py:692: ConvergenceWarning: Stochastic Optimizer: Maximum iterations (200) reached and the optimization hasn't converged yet.\n",
      "  warnings.warn(\n"
     ]
    }
   ],
   "source": [
    "mlp = MLPClassifier(random_state = 2)\n",
    "mlp.fit(X_train, y_train)\n",
    "mlp_pred = mlp.predict(X_test)"
   ]
  },
  {
   "cell_type": "code",
   "execution_count": 33,
   "metadata": {},
   "outputs": [
    {
     "name": "stdout",
     "output_type": "stream",
     "text": [
      "0.9013333333333333\n"
     ]
    }
   ],
   "source": [
    "print(accuracy_score(y_test, mlp_pred))"
   ]
  },
  {
   "cell_type": "markdown",
   "metadata": {},
   "source": [
    "## Feature selection and Hyperparameter tuning\n",
    "\n"
   ]
  },
  {
   "cell_type": "markdown",
   "metadata": {},
   "source": [
    "In this step, all models will undergo feature selection and hyperparameter tuning to find the best features and hyperparameters that each model will use to produce the highest prediction accuracy.\n"
   ]
  },
  {
   "cell_type": "markdown",
   "metadata": {},
   "source": [
    "### k\\-Nearest Neighbors \\(k\\-NN\\)\n",
    "\n"
   ]
  },
  {
   "cell_type": "markdown",
   "metadata": {},
   "source": [
    "**Hyperparameter tuning using GridSearchCV**"
   ]
  },
  {
   "cell_type": "markdown",
   "metadata": {},
   "source": [
    "Hyperparameter tuning using `GridSearchCV` performs cross validation on all possible combinations of the hyperparameters. In this case, we have 2 variables that we can tune for SKLearn's implementation of kNN: `n_neighbors` and `weights`. The weights of 1 to 20 were chosen as an arbitrary relatively small range. Had these values yielded poor results, the range of values would be adjusted. But, because of their good accuracy scores they were kept.\n"
   ]
  },
  {
   "cell_type": "code",
   "execution_count": 34,
   "metadata": {},
   "outputs": [],
   "source": [
    "hyperparameters = [\n",
    "    {\n",
    "        \"n_neighbors\": list(range(1, 21)),\n",
    "        \"weights\": ['uniform', 'distance']\n",
    "    }\n",
    "]"
   ]
  },
  {
   "cell_type": "code",
   "execution_count": 35,
   "metadata": {},
   "outputs": [
    {
     "data": {
      "text/plain": [
       "GridSearchCV(cv=3, estimator=KNeighborsClassifier(), n_jobs=-1,\n",
       "             param_grid=[{'n_neighbors': [1, 2, 3, 4, 5, 6, 7, 8, 9, 10, 11, 12,\n",
       "                                          13, 14, 15, 16, 17, 18, 19, 20],\n",
       "                          'weights': ['uniform', 'distance']}])"
      ]
     },
     "execution_count": 35,
     "metadata": {},
     "output_type": "execute_result"
    }
   ],
   "source": [
    "from sklearn.model_selection import GridSearchCV\n",
    "knn = KNeighborsClassifier()\n",
    "clf = GridSearchCV(knn, hyperparameters, n_jobs=-1, cv=3)\n",
    "clf.fit(X_train, y_train)"
   ]
  },
  {
   "cell_type": "code",
   "execution_count": 36,
   "metadata": {
    "scrolled": true
   },
   "outputs": [
    {
     "name": "stdout",
     "output_type": "stream",
     "text": [
      "Best parameters found:\n",
      " {'n_neighbors': 19, 'weights': 'uniform'}\n",
      "Best accuracy:  89.60000000000001 %\n",
      "               precision    recall  f1-score   support\n",
      "\n",
      "   Çerçevelik       0.87      0.94      0.90       195\n",
      "Ürgüp Sivrisi       0.93      0.85      0.89       180\n",
      "\n",
      "     accuracy                           0.90       375\n",
      "    macro avg       0.90      0.89      0.90       375\n",
      " weighted avg       0.90      0.90      0.90       375\n",
      "\n"
     ]
    }
   ],
   "source": [
    "print('Best parameters found:\\n', clf.best_params_)\n",
    "y_pred = clf.predict(X_val)\n",
    "print(\"Best accuracy: \", (accuracy_score(y_val, y_pred) * 100), \"%\")\n",
    "print(classification_report(y_val, y_pred))"
   ]
  },
  {
   "cell_type": "markdown",
   "metadata": {},
   "source": [
    "As seen in the results above, the best parameters to use for a kNN model is a `k` value of 19 and a `weights` value of `uniform`.  These settings gave the highest score using cross validation on the train data. It's accuracy on the validation set is 89.6%."
   ]
  },
  {
   "cell_type": "markdown",
   "metadata": {},
   "source": [
    "**Hyperparameter tuning using GridSearchCV and Feature Selection using Univariate Selection (SelectKbest + f_classif)**"
   ]
  },
  {
   "cell_type": "markdown",
   "metadata": {},
   "source": [
    "Univariate feature selection can be done using SKLearn's `SelectKbest` function. Here we pass it the `f_classif` function so that it will calculate the ANOVA F-value of each feature to determine its significance in determining the label. This loop searches for the best combination of parameters for each of the best `k` features where `k` is a number from 1 to 12. It keeps the parameters that yield the best accuracy."
   ]
  },
  {
   "cell_type": "code",
   "execution_count": 37,
   "metadata": {},
   "outputs": [
    {
     "name": "stdout",
     "output_type": "stream",
     "text": [
      "Best grid:  {'n_neighbors': 19, 'weights': 'uniform', 'selected features': array(['Area', 'Perimeter', 'Major_Axis_Length', 'Minor_Axis_Length',\n",
      "       'Convex_Area', 'Eccentricity', 'Solidity', 'Extent', 'Roundness',\n",
      "       'Aspect_Ration', 'Compactness'], dtype=object)}\n",
      "Best accuracy:  89.86666666666666 %\n"
     ]
    }
   ],
   "source": [
    "# Parameter selection\n",
    "\n",
    "from sklearn.feature_selection import SelectKBest\n",
    "from sklearn.feature_selection import f_classif\n",
    "\n",
    "best_score = 0\n",
    "best_grid = None\n",
    "\n",
    "for k in range(1, pumpkin_seeds_df.shape[1]):\n",
    "    kBest = SelectKBest(score_func = f_classif, k = k)\n",
    "    best_features = kBest.fit(X_train, y_train)\n",
    "    only_keep = best_features.get_feature_names_out()\n",
    "\n",
    "    knn = KNeighborsClassifier()\n",
    "    clf = GridSearchCV(knn, hyperparameters, n_jobs=-1, cv=3)\n",
    "    clf.fit(X_train[only_keep], y_train)\n",
    "\n",
    "    pred = clf.predict(X_val[only_keep])\n",
    "    accuracy = accuracy_score(y_val, pred)\n",
    "\n",
    "    if accuracy > best_score:\n",
    "        best_score = accuracy\n",
    "        best_grid = clf.best_params_\n",
    "        best_grid[\"selected features\"] = only_keep\n",
    "\n",
    "print(\"Best grid: \", best_grid)\n",
    "print(\"Best accuracy: \", (best_score * 100), \"%\")"
   ]
  },
  {
   "cell_type": "markdown",
   "metadata": {},
   "source": [
    "The results show that removing the feature `Equiv_Diameter` improves the score by .2%."
   ]
  },
  {
   "cell_type": "markdown",
   "metadata": {},
   "source": [
    "**Earlier Hyperparameter Tuning Method Testing**"
   ]
  },
  {
   "cell_type": "markdown",
   "metadata": {},
   "source": [
    "In this earlier hyperparameter tuning method testing, a `ParameterGrid` is utilized with the separated raw and normalized data as options for hyperparameter tuning. "
   ]
  },
  {
   "cell_type": "markdown",
   "metadata": {},
   "source": [
    "```\n",
    " hyperparameters = [\n",
    "     {\n",
    "         \"normal_data\": [0, 1],\n",
    "         \"n_neighbors\": list(range(1, 21)),\n",
    "         \"weights\": ['uniform', 'distance']\n",
    "     }\n",
    " ]\n",
    " from sklearn.model_selection import ParameterGrid\n",
    " best_score = 0\n",
    "\n",
    " for g in ParameterGrid(hyperparameters):\n",
    "     X_cur_train, y_cur_train = (X_train, y_train)\n",
    "     clf = KNeighborsClassifier()\n",
    "     clf.set_params(n_neighbors = g[\"n_neighbors\"], weights = g[\"weights\"])\n",
    "\n",
    "     clf.fit(X_cur_train, y_cur_train)\n",
    "\n",
    "     pred = clf.predict(X_val)\n",
    "     accuracy = accuracy_score(y_val, pred)\n",
    "\n",
    "     print(g)\n",
    "     print(\"Accuracy:\", accuracy)\n",
    "\n",
    "     if accuracy > best_score:\n",
    "         best_score = accuracy\n",
    "         best_grid = g\n",
    "\n",
    " print(\"Best accuracy: \", best_score, \"%\")\n",
    " print(\"Best grid: \", best_grid)\n",
    "```"
   ]
  },
  {
   "cell_type": "markdown",
   "metadata": {},
   "source": [
    "**Earlier Hyperparameter Tuning and Feature Selection Method Testing**"
   ]
  },
  {
   "cell_type": "markdown",
   "metadata": {},
   "source": [
    "This testing includes hyperparemeter tuning and feature selection. `SelectKBest`, `f_classif`, and `ParameterGrid` were used to perform both methods."
   ]
  },
  {
   "cell_type": "markdown",
   "metadata": {},
   "source": [
    "```\n",
    "# With feature selection (takes a long time to run)\n",
    " hyperparameters = [\n",
    "     {\n",
    "         \"k-features\": list(range(1, pumpkin_seeds_df.shape[1])),\n",
    "         \"n_neighbors\": list(range(1, 21)),\n",
    "         \"weights\": ['uniform', 'distance']\n",
    "     }\n",
    " ]\n",
    "\n",
    " from sklearn.feature_selection import SelectKBest\n",
    " from sklearn.feature_selection import f_classif\n",
    "\n",
    " best_score = 0\n",
    "\n",
    " for g in ParameterGrid(hyperparameters):\n",
    "     X_cur_train, y_cur_train = (X_train, y_train)\n",
    "\n",
    "     test = SelectKBest(score_func = f_classif, k = g[\"k-features\"])\n",
    "     best_features = test.fit(X_cur_train, y_cur_train)\n",
    "     only_keep = best_features.get_feature_names_out()\n",
    "     X_cur_train = X_cur_train[only_keep]\n",
    "\n",
    "\n",
    "     clf = KNeighborsClassifier()\n",
    "     clf.set_params(n_neighbors = g[\"n_neighbors\"], weights = g[\"weights\"])\n",
    "\n",
    "     clf.fit(X_cur_train, y_cur_train)\n",
    "\n",
    "     pred = clf.predict(X_val[only_keep])\n",
    "     accuracy = accuracy_score(y_val, pred)\n",
    "\n",
    "     if accuracy > best_score:\n",
    "         best_score = accuracy\n",
    "         best_grid = g\n",
    "         best_grid[\"selected features\"] = best_features.get_feature_names_out()\n",
    "\n",
    " print(\"Best accuracy: \", best_score, \"%\")\n",
    " print(\"Best grid: \", best_grid)\n",
    "```"
   ]
  },
  {
   "cell_type": "markdown",
   "metadata": {},
   "source": [
    "**Plot of kNN with increasing K value and uniform distance**"
   ]
  },
  {
   "cell_type": "markdown",
   "metadata": {},
   "source": [
    "This code plots the accuracy of a kNN classifier model as the value of `k` increases from 1 to 20."
   ]
  },
  {
   "cell_type": "code",
   "execution_count": 38,
   "metadata": {},
   "outputs": [],
   "source": [
    "accuracy = []\n",
    "\n",
    "for i in range(1,21):\n",
    "    knn = KNeighborsClassifier(n_neighbors=i)\n",
    "    knn.fit(X_train, y_train)\n",
    "    knn_pred = knn.predict(X_val)\n",
    "    acc = accuracy_score(y_val, knn_pred)\n",
    "    accuracy.append(acc)"
   ]
  },
  {
   "cell_type": "code",
   "execution_count": 39,
   "metadata": {},
   "outputs": [
    {
     "data": {
      "image/png": "[encoded data removed]",
      "text/plain": [
       "<Figure size 432x288 with 1 Axes>"
      ]
     },
     "metadata": {
      "needs_background": "light"
     },
     "output_type": "display_data"
    }
   ],
   "source": [
    "plt.plot(range(1,21), accuracy, label = \"Trained on normally distributed data\")\n",
    "plt.legend()\n",
    "plt.grid(True)\n",
    "plt.xlabel('Number of neighbors')\n",
    "plt.ylabel('Accuracy')\n",
    "plt.show()"
   ]
  },
  {
   "cell_type": "code",
   "execution_count": 40,
   "metadata": {},
   "outputs": [
    {
     "name": "stdout",
     "output_type": "stream",
     "text": [
      "Best value of k: 17\n",
      "Best accuracy of k: 90.13%\n"
     ]
    }
   ],
   "source": [
    "print(\"Best value of k:\", accuracy.index(max(accuracy)) + 1)\n",
    "print(\"Best accuracy of k: %.2f%%\" % (max(accuracy) * 100))"
   ]
  },
  {
   "cell_type": "markdown",
   "metadata": {},
   "source": [
    "This graph shows that the the accuracy and the number of neighbors have a positive correlation. Though the results of this visualization seem to indicate that the value of `k` produces better results when it is 17, keep in mind that the earlier parameter search used cross validation. Cross validation makes models less susceptible to overfitting, thus only values from the earlier tuning will be considered."
   ]
  },
  {
   "cell_type": "markdown",
   "metadata": {},
   "source": [
    "### Logistic Regression \\(LR\\)\n",
    "\n"
   ]
  },
  {
   "cell_type": "markdown",
   "metadata": {},
   "source": [
    "**Hyperparameter tuning using GridSearchCV**"
   ]
  },
  {
   "cell_type": "markdown",
   "metadata": {},
   "source": [
    "The first set of hyperparameters have `l2` or `none` as the values for penalty denoting that the model  does not perform any feature selection. The list of solvers chosen here are the ones that are capable of working with a penalty of `l2` and `none`. The values for C are an arbitrary range of values that were tweaked during testing to produce good scores."
   ]
  },
  {
   "cell_type": "code",
   "execution_count": 41,
   "metadata": {},
   "outputs": [],
   "source": [
    "hyperparameters = [\n",
    "    {\n",
    "        \"penalty\": [\"l2\"],\n",
    "        \"solver\": [\"newton-cg\", \"lbfgs\", \"sag\"],\n",
    "        \"C\": [0.001, 0.01, 0.1, 1, 10, 100]\n",
    "    },\n",
    "    {\n",
    "        \"penalty\": [\"none\"],\n",
    "        \"solver\": [\"newton-cg\", \"lbfgs\", \"sag\"],\n",
    "    }\n",
    "]"
   ]
  },
  {
   "cell_type": "code",
   "execution_count": 42,
   "metadata": {
    "scrolled": true
   },
   "outputs": [
    {
     "data": {
      "text/plain": [
       "GridSearchCV(cv=3, estimator=LogisticRegression(max_iter=10000, random_state=2),\n",
       "             n_jobs=-1,\n",
       "             param_grid=[{'C': [0.001, 0.01, 0.1, 1, 10, 100],\n",
       "                          'penalty': ['l2'],\n",
       "                          'solver': ['newton-cg', 'lbfgs', 'sag']},\n",
       "                         {'penalty': ['none'],\n",
       "                          'solver': ['newton-cg', 'lbfgs', 'sag']}])"
      ]
     },
     "execution_count": 42,
     "metadata": {},
     "output_type": "execute_result"
    }
   ],
   "source": [
    "from sklearn.model_selection import GridSearchCV\n",
    "lgr = LogisticRegression(max_iter = 10000, random_state = 2)\n",
    "clf = GridSearchCV(lgr, hyperparameters, n_jobs=-1, cv=3)\n",
    "clf.fit(X_train, y_train)"
   ]
  },
  {
   "cell_type": "code",
   "execution_count": 43,
   "metadata": {},
   "outputs": [
    {
     "name": "stdout",
     "output_type": "stream",
     "text": [
      "Best parameters found:\n",
      " {'C': 10, 'penalty': 'l2', 'solver': 'newton-cg'}\n",
      "Best accuracy:  89.33333333333333 %\n",
      "               precision    recall  f1-score   support\n",
      "\n",
      "   Çerçevelik       0.88      0.92      0.90       195\n",
      "Ürgüp Sivrisi       0.91      0.87      0.89       180\n",
      "\n",
      "     accuracy                           0.89       375\n",
      "    macro avg       0.89      0.89      0.89       375\n",
      " weighted avg       0.89      0.89      0.89       375\n",
      "\n"
     ]
    }
   ],
   "source": [
    "print('Best parameters found:\\n', clf.best_params_)\n",
    "y_pred = clf.predict(X_val)\n",
    "print(\"Best accuracy: \", (accuracy_score(y_val, y_pred) * 100), \"%\")\n",
    "print(classification_report(y_val, y_pred))"
   ]
  },
  {
   "cell_type": "markdown",
   "metadata": {},
   "source": [
    "The parameter search found that the best values for `C`, `penalty`, and `solver` are 10, `l2`, and `newton-cg` respectively. The accuracy of the tuned logistic regression classifier is 89.33% which is lower than the tuned kNN model and the tuned kNN model with feature selection."
   ]
  },
  {
   "cell_type": "markdown",
   "metadata": {},
   "source": [
    "**Hyperparameter tuning using GridSearchCV and Feature Selection using l1 (LASSO) penalty (+ liblinear solver)**"
   ]
  },
  {
   "cell_type": "markdown",
   "metadata": {},
   "source": [
    "In this set of hyperparameters, both penalties `l2` and `l1` are considered to compare if a model that goes through feature selection produces a higher accuracy than a model that does not. Notably, the `l1` penalty or LASSO regression is a form of feature selection because it tends to give sparse data by zeroing out the weight of less important features. `liblinear` is chosen as the only solver because it is the only one that is capable of working with `l1` penalty."
   ]
  },
  {
   "cell_type": "code",
   "execution_count": 44,
   "metadata": {},
   "outputs": [],
   "source": [
    "# With feature selection\n",
    "hyperparameters = [\n",
    "    {\n",
    "        \"penalty\": [\"l1\", \"l2\"],\n",
    "        \"C\": [0.001, 0.01, 0.1, 1, 10, 100]\n",
    "    }\n",
    "]"
   ]
  },
  {
   "cell_type": "code",
   "execution_count": 45,
   "metadata": {},
   "outputs": [
    {
     "data": {
      "text/plain": [
       "GridSearchCV(cv=3,\n",
       "             estimator=LogisticRegression(max_iter=10000, random_state=2,\n",
       "                                          solver='liblinear'),\n",
       "             n_jobs=-1,\n",
       "             param_grid=[{'C': [0.001, 0.01, 0.1, 1, 10, 100],\n",
       "                          'penalty': ['l1', 'l2']}])"
      ]
     },
     "execution_count": 45,
     "metadata": {},
     "output_type": "execute_result"
    }
   ],
   "source": [
    "from sklearn.model_selection import GridSearchCV\n",
    "lgr = LogisticRegression(solver = \"liblinear\", max_iter = 10000, random_state = 2)\n",
    "clf = GridSearchCV(lgr, hyperparameters, n_jobs=-1, cv=3)\n",
    "clf.fit(X_train, y_train)"
   ]
  },
  {
   "cell_type": "code",
   "execution_count": 46,
   "metadata": {},
   "outputs": [
    {
     "data": {
      "text/plain": [
       "array([[ 0.24067727, -0.47855168,  0.43530614, -0.26806807,  1.17349112,\n",
       "        -0.94694144,  1.92508032,  0.69731068,  0.02915466, -0.6167836 ,\n",
       "         0.47332471, -0.55711101]])"
      ]
     },
     "execution_count": 46,
     "metadata": {},
     "output_type": "execute_result"
    }
   ],
   "source": [
    "clf.best_estimator_.coef_"
   ]
  },
  {
   "cell_type": "code",
   "execution_count": 47,
   "metadata": {},
   "outputs": [
    {
     "name": "stdout",
     "output_type": "stream",
     "text": [
      "Best parameters found:\n",
      " {'C': 10, 'penalty': 'l2'}\n",
      "Best accuracy:  0.8933333333333333 %\n",
      "               precision    recall  f1-score   support\n",
      "\n",
      "   Çerçevelik       0.88      0.92      0.90       195\n",
      "Ürgüp Sivrisi       0.91      0.87      0.89       180\n",
      "\n",
      "     accuracy                           0.89       375\n",
      "    macro avg       0.89      0.89      0.89       375\n",
      " weighted avg       0.89      0.89      0.89       375\n",
      "\n"
     ]
    }
   ],
   "source": [
    "print('Best parameters found:\\n', clf.best_params_)\n",
    "y_pred = clf.predict(X_val)\n",
    "print(\"Best accuracy: \", accuracy_score(y_val, y_pred), \"%\")\n",
    "print(classification_report(y_val, y_pred))"
   ]
  },
  {
   "cell_type": "markdown",
   "metadata": {},
   "source": [
    "Here the parameter search found that `l2` penalty is better than `l1` penalty so we can say that performing feature selection through this method does not improve the accuracy."
   ]
  },
  {
   "cell_type": "markdown",
   "metadata": {},
   "source": [
    "**Hyperparameter tuning using GridSearchCV and Feature Selection using Univariate Selection (SelectKbest + f_classif)**"
   ]
  },
  {
   "cell_type": "markdown",
   "metadata": {},
   "source": [
    "Apart from LASSO regression, we can use the same method used earlier on kNN to perform feature selection. Here we will test the best `k` features starting from 5 to 12. Starting the testing with `k = 5` helps reduce the amount of run time."
   ]
  },
  {
   "cell_type": "code",
   "execution_count": 48,
   "metadata": {
    "scrolled": true
   },
   "outputs": [
    {
     "name": "stdout",
     "output_type": "stream",
     "text": [
      "Best grid:  {'C': 10, 'penalty': 'l2', 'solver': 'newton-cg', 'selected features': array(['Area', 'Perimeter', 'Major_Axis_Length', 'Minor_Axis_Length',\n",
      "       'Eccentricity', 'Solidity', 'Extent', 'Roundness', 'Aspect_Ration',\n",
      "       'Compactness'], dtype=object)}\n",
      "Best accuracy:  89.60000000000001 %\n"
     ]
    }
   ],
   "source": [
    "# Parameter selection using SelectKBest\n",
    "hyperparameters = [\n",
    "    {\n",
    "        \"penalty\": [\"l2\"],\n",
    "        \"solver\": [\"newton-cg\", \"lbfgs\", \"sag\"],\n",
    "        \"C\": [0.001, 0.01, 0.1, 1, 10, 100]\n",
    "    },\n",
    "    {\n",
    "        \"penalty\": [\"none\"],\n",
    "        \"solver\": [\"newton-cg\", \"lbfgs\", \"sag\"],\n",
    "    }\n",
    "]\n",
    "\n",
    "from sklearn.feature_selection import SelectKBest\n",
    "from sklearn.feature_selection import f_classif\n",
    "\n",
    "best_score = 0\n",
    "best_grid = None\n",
    "\n",
    "for k in range(5, pumpkin_seeds_df.shape[1]):\n",
    "    kBest = SelectKBest(score_func = f_classif, k = k)\n",
    "    best_features = kBest.fit(X_train, y_train)\n",
    "    only_keep = best_features.get_feature_names_out()\n",
    "\n",
    "    lgr = LogisticRegression(max_iter = 10000, random_state = 2)\n",
    "    clf = GridSearchCV(lgr, hyperparameters, n_jobs=-1, cv=3)\n",
    "    clf.fit(X_train[only_keep], y_train)\n",
    "\n",
    "    pred = clf.predict(X_val[only_keep])\n",
    "    accuracy = accuracy_score(y_val, pred)\n",
    "\n",
    "    if accuracy > best_score:\n",
    "        best_score = accuracy\n",
    "        best_grid = clf.best_params_\n",
    "        best_grid[\"selected features\"] = only_keep\n",
    "\n",
    "print(\"Best grid: \", best_grid)\n",
    "print(\"Best accuracy: \", (best_score * 100), \"%\")"
   ]
  },
  {
   "cell_type": "markdown",
   "metadata": {},
   "source": [
    "Univariate feature selection improves the accuracy of the model by .3%. It removed 2 features: `Equiv_Diameter` and `Convex_Area`. This score matches the score of the kNN model with hyperparameter tuning but is still less than the kNN model with feature selection."
   ]
  },
  {
   "cell_type": "markdown",
   "metadata": {},
   "source": [
    "## <span style='font-size:x-large'>Multilayer Perceptrons \\(MLP\\)</span>\n",
    "\n"
   ]
  },
  {
   "cell_type": "markdown",
   "metadata": {},
   "source": [
    "**Hyperparameter tuning using GridSearchCV**"
   ]
  },
  {
   "cell_type": "markdown",
   "metadata": {},
   "source": [
    "The values for hidden size were chosen by getting the floor of two\\-thirds of the number of features and adding or subtracting 1 \\($\\lfloor n * \\frac{2}{3}\\rfloor \\pm1$ where n is the number of features\\). The numbers for `alpha`, `batch_size`, and `learning_rate_init` are arbitrary numbers that were adjusted over the course of testing to improve accuracy. The solver `adam` and the activation function `relu` were chosen because they are somewhat fast and are just generally good defaults for neural network models.\n"
   ]
  },
  {
   "cell_type": "code",
   "execution_count": 49,
   "metadata": {},
   "outputs": [],
   "source": [
    "hyperparameters = [\n",
    "    {\n",
    "        'alpha': [0.001, 0.01, 0.1],\n",
    "        'hidden_layer_sizes': [(6,), (7,)],\n",
    "        \"batch_size\": [275, 300, 325],\n",
    "        \"learning_rate_init\": [0.01, 0.1, 1]\n",
    "    }\n",
    "]"
   ]
  },
  {
   "cell_type": "code",
   "execution_count": 50,
   "metadata": {},
   "outputs": [
    {
     "data": {
      "text/plain": [
       "GridSearchCV(cv=3, estimator=MLPClassifier(max_iter=10000, random_state=2),\n",
       "             n_jobs=-1,\n",
       "             param_grid=[{'alpha': [0.001, 0.01, 0.1],\n",
       "                          'batch_size': [275, 300, 325],\n",
       "                          'hidden_layer_sizes': [(6,), (7,)],\n",
       "                          'learning_rate_init': [0.01, 0.1, 1]}])"
      ]
     },
     "execution_count": 50,
     "metadata": {},
     "output_type": "execute_result"
    }
   ],
   "source": [
    "from sklearn.model_selection import GridSearchCV\n",
    "mlp = MLPClassifier(solver = 'adam', max_iter = 10000, activation = \"relu\", random_state = 2)\n",
    "clf = GridSearchCV(mlp, hyperparameters, n_jobs=-1, cv=3)\n",
    "clf.fit(X_train, y_train)"
   ]
  },
  {
   "cell_type": "code",
   "execution_count": 51,
   "metadata": {},
   "outputs": [
    {
     "name": "stdout",
     "output_type": "stream",
     "text": [
      "Best parameters found:\n",
      " {'alpha': 0.01, 'batch_size': 300, 'hidden_layer_sizes': (7,), 'learning_rate_init': 0.1}\n",
      "Best accuracy:  92.53333333333333 %\n",
      "               precision    recall  f1-score   support\n",
      "\n",
      "   Çerçevelik       0.92      0.94      0.93       195\n",
      "Ürgüp Sivrisi       0.94      0.91      0.92       180\n",
      "\n",
      "     accuracy                           0.93       375\n",
      "    macro avg       0.93      0.92      0.93       375\n",
      " weighted avg       0.93      0.93      0.93       375\n",
      "\n"
     ]
    }
   ],
   "source": [
    "print('Best parameters found:\\n', clf.best_params_)\n",
    "y_pred = clf.predict(X_val)\n",
    "print(\"Best accuracy: \", (accuracy_score(y_val, y_pred) * 100), \"%\")\n",
    "print(classification_report(y_val, y_pred))"
   ]
  },
  {
   "cell_type": "markdown",
   "metadata": {},
   "source": [
    "The parameter search found that the best values for `alpha`, `batch_size`, `hidden_layer_sizes`, and `learning_rate_init` are 0.01, 300, (7,), and 0.1 respectively. The accuracy of the tuned MLP classifier is 92.53% which is the highest that we have seen thus far among the other models."
   ]
  },
  {
   "cell_type": "markdown",
   "metadata": {},
   "source": [
    "**Hyperparameter tuning using GridSearchCV and Feature Selection using Univariate Selection (SelectKbest + f_classif)**\n",
    "\n"
   ]
  },
  {
   "cell_type": "markdown",
   "metadata": {},
   "source": [
    "Here, we will apply the same univariate feature selection method used in the other two model types. Like the one in LR, this model will start with `k = 5` to reduce the length of time that this code needs to execute."
   ]
  },
  {
   "cell_type": "code",
   "execution_count": 52,
   "metadata": {
    "scrolled": true
   },
   "outputs": [
    {
     "name": "stdout",
     "output_type": "stream",
     "text": [
      "Best grid:  {'alpha': 0.1, 'batch_size': 275, 'hidden_layer_sizes': (7,), 'learning_rate_init': 0.1, 'selected features': array(['Area', 'Perimeter', 'Major_Axis_Length', 'Minor_Axis_Length',\n",
      "       'Eccentricity', 'Solidity', 'Extent', 'Roundness', 'Aspect_Ration',\n",
      "       'Compactness'], dtype=object)}\n",
      "Best accuracy:  92.26666666666667 %\n"
     ]
    }
   ],
   "source": [
    "# Parameter selection\n",
    "\n",
    "hyperparameters = {\n",
    "    'alpha': [0.001, 0.01, 0.1],\n",
    "    \"batch_size\": [275, 300, 325],\n",
    "    \"learning_rate_init\": [0.01, 0.1, 1]\n",
    "}\n",
    "\n",
    "from sklearn.feature_selection import SelectKBest\n",
    "from sklearn.feature_selection import f_classif\n",
    "\n",
    "best_score = 0\n",
    "best_grid = None\n",
    "\n",
    "for k in range(5, pumpkin_seeds_df.shape[1]):\n",
    "    kBest = SelectKBest(score_func = f_classif, k = k)\n",
    "    best_features = kBest.fit(X_train, y_train)\n",
    "    only_keep = best_features.get_feature_names_out()\n",
    "    hidden_layers = int(k * 2 / 3)\n",
    "    hyperparameters['hidden_layer_sizes'] = [(hidden_layers - 1,), (hidden_layers,), (hidden_layers + 1,)]\n",
    "\n",
    "    mlp = MLPClassifier(solver = 'adam', max_iter = 10000, activation = \"relu\", random_state = 2)\n",
    "    clf = GridSearchCV(mlp, hyperparameters, n_jobs=-1, cv=3)\n",
    "    clf.fit(X_train[only_keep], y_train)\n",
    "\n",
    "    pred = clf.predict(X_val[only_keep])\n",
    "    accuracy = accuracy_score(y_val, pred)\n",
    "\n",
    "    if accuracy > best_score:\n",
    "        best_score = accuracy\n",
    "        best_grid = clf.best_params_\n",
    "        best_grid[\"selected features\"] = only_keep\n",
    "\n",
    "print(\"Best grid: \", best_grid)\n",
    "print(\"Best accuracy: \", (best_score * 100), \"%\")"
   ]
  },
  {
   "cell_type": "markdown",
   "metadata": {},
   "source": [
    "Strangely, performing feature selection on the MLP model actually decreased its score by .27%.\n"
   ]
  },
  {
   "cell_type": "markdown",
   "metadata": {},
   "source": [
    "**Earlier Hyperparameter Tuning Testing**"
   ]
  },
  {
   "cell_type": "markdown",
   "metadata": {},
   "source": [
    "```\n",
    "hyperparameters = [\n",
    "    {\n",
    "        'hidden_layer_sizes': [(50,50,50), (50,100,50), (100,)],\n",
    "        'activation': ['tanh', 'relu'],\n",
    "        'solver': ['sgd', 'adam'],\n",
    "        'alpha': [0.0001, 0.05],\n",
    "        'learning_rate': ['constant','adaptive'],\n",
    "        \"random_state\": [2],\n",
    "    }\n",
    "]\n",
    "from sklearn.model_selection import GridSearchCV\n",
    "mlp = MLPClassifier(max_iter=1000)\n",
    "clf = GridSearchCV(mlp, hyperparameters, n_jobs=-1, cv=3)\n",
    "clf.fit(X_train, y_train)\n",
    "# Best parameter set\n",
    "print('Best parameters found:\\n', clf.best_params_)\n",
    "\n",
    "# All results\n",
    "means = clf.cv_results_['mean_test_score']\n",
    "stds = clf.cv_results_['std_test_score']\n",
    "for mean, std, params in zip(means, stds, clf.cv_results_['params']):\n",
    "    print(\"%0.3f (+/-%0.03f) for %r\" % (mean, std * 2, params))\n",
    "y_pred = clf.predict(X_val)\n",
    "print(classification_report(y_val, y_pred))\n",
    "print(compute_accuracy(y_pred, y_val))\n",
    "```"
   ]
  },
  {
   "cell_type": "markdown",
   "metadata": {},
   "source": [
    "**Earlier Hyperparameter Tuning and Feature Selection Method Testing**"
   ]
  },
  {
   "cell_type": "markdown",
   "metadata": {},
   "source": [
    "```\n",
    "# With feature selection\n",
    "hyperparameters = [\n",
    "    {\n",
    "        'activation': ['tanh', 'relu'],\n",
    "        'alpha': [10, 50, 100],\n",
    "        'hidden_layer_sizes': [(50,2), (50,), (100,)],\n",
    "        \"batch_size\": [50, 100, 200, 50],\n",
    "        \"learning_rate_init\": [0.0001, 0.001, 0.01],\n",
    "        \"random_state\": [2],\n",
    "    }\n",
    "]\n",
    "\n",
    "from sklearn.feature_selection import SelectKBest\n",
    "from sklearn.feature_selection import f_classif\n",
    "\n",
    "best_score = 0\n",
    "mlp = MLPClassifier(solver = 'adam', max_iter = 1000)\n",
    "\n",
    "for g in ParameterGrid(hyperparameters):\n",
    "    test = SelectKBest(score_func = f_classif, k = 7)\n",
    "    best_features = test.fit(X_train, y_train)\n",
    "    only_keep = best_features.get_feature_names_out()\n",
    "\n",
    "    mlp.set_params(**{i: g[i] for i in g if i != \"k-features\"})\n",
    "\n",
    "    mlp.fit(X_train[only_keep], y_train)\n",
    "\n",
    "    pred = mlp.predict(X_val[only_keep])\n",
    "    accuracy = accuracy_score(y_val, pred)\n",
    "\n",
    "    if accuracy > best_score:\n",
    "        best_score = accuracy\n",
    "        best_grid = g\n",
    "        best_grid[\"selected features\"] = best_features.get_feature_names_out()\n",
    "\n",
    "print(\"Best accuracy: \", best_score, \"%\")\n",
    "print(\"Best grid: \", best_grid)\n",
    "```"
   ]
  },
  {
   "cell_type": "markdown",
   "metadata": {},
   "source": [
    "## Model Selection\n",
    "\n"
   ]
  },
  {
   "cell_type": "markdown",
   "metadata": {},
   "source": [
    "| ML Models | Default Parameters | Hyperparameter Tuning | Feature Selection & Hyperparameter Tuning |\n",
    "| :------------------------ | :----------------- | :-------------------- | :---------------------------------------- |\n",
    "| kNN | 89.07% | 89.60% | 89.87% |\n",
    "| LR \\(SGDClassifier\\) | 88.00% | \\- | \\- |\n",
    "| LR \\(LogisticRegression\\) | 89.60% | 89.33% | 89.60% |\n",
    "| MLP | 90.13% | 92.53% | 92.27% |\n",
    "\n"
   ]
  },
  {
   "cell_type": "markdown",
   "metadata": {},
   "source": [
    "From the table above, it can be concluded that the MLP model with hyperparameter tuning has the best performance when trained on the training set and evaluated on the validation set. Because of this, it will be the final model that will be used. With the attained best accuracy of each machine learning model through experimentation, comparing to the paper, we have surpassed their accuracy in **k\\-NN \\(87.64% to 89.87%\\)**, **Logistic Regression \\(87.92% to 89.60%\\)**, and **Multilayer Perceptron \\(88.52% to 92.53%\\)**.\n"
   ]
  },
  {
   "cell_type": "code",
   "execution_count": 53,
   "metadata": {
    "scrolled": true
   },
   "outputs": [
    {
     "data": {
      "text/plain": [
       "MLPClassifier(alpha=0.01, batch_size=300, hidden_layer_sizes=(7,),\n",
       "              learning_rate_init=0.1, max_iter=10000, random_state=2)"
      ]
     },
     "execution_count": 53,
     "metadata": {},
     "output_type": "execute_result"
    }
   ],
   "source": [
    "best_params = {\n",
    "    'alpha': 0.01,\n",
    "    'batch_size': 300,\n",
    "    'hidden_layer_sizes': (7,),\n",
    "    'learning_rate_init': 0.1\n",
    "}\n",
    "final_clf = MLPClassifier(solver = 'adam', max_iter = 10000, activation = \"relu\", random_state = 2)\n",
    "final_clf.set_params(**best_params)\n"
   ]
  },
  {
   "cell_type": "markdown",
   "metadata": {},
   "source": [
    "We can combine the testing and validation data into one set to train our model."
   ]
  },
  {
   "cell_type": "code",
   "execution_count": 54,
   "metadata": {},
   "outputs": [],
   "source": [
    "X_train_val = pd.concat([X_train, X_val])\n",
    "y_train_val = np.concatenate((y_train, y_val))"
   ]
  },
  {
   "cell_type": "code",
   "execution_count": 55,
   "metadata": {},
   "outputs": [
    {
     "name": "stdout",
     "output_type": "stream",
     "text": [
      "Best accuracy:  0.8986666666666666 %\n",
      "               precision    recall  f1-score   support\n",
      "\n",
      "   Çerçevelik       0.90      0.91      0.90       195\n",
      "Ürgüp Sivrisi       0.90      0.89      0.89       180\n",
      "\n",
      "     accuracy                           0.90       375\n",
      "    macro avg       0.90      0.90      0.90       375\n",
      " weighted avg       0.90      0.90      0.90       375\n",
      "\n"
     ]
    }
   ],
   "source": [
    "final_clf.fit(X_train_val, y_train_val)\n",
    "\n",
    "y_pred = final_clf.predict(X_test)\n",
    "print(\"Best accuracy: \", accuracy_score(y_test, y_pred), \"%\")\n",
    "print(classification_report(y_test, y_pred))"
   ]
  },
  {
   "cell_type": "markdown",
   "metadata": {},
   "source": [
    "#"
   ]
  }
 ],
 "metadata": {
  "kernelspec": {
   "display_name": "Python 3 (ipykernel)",
   "language": "python",
   "name": "python3"
  },
  "language_info": {
   "codemirror_mode": {
    "name": "ipython",
    "version": 3
   },
   "file_extension": ".py",
   "mimetype": "text/x-python",
   "name": "python",
   "nbconvert_exporter": "python",
   "pygments_lexer": "ipython3",
   "version": "3.8.16"
  }
 },
 "nbformat": 4,
 "nbformat_minor": 4
}
