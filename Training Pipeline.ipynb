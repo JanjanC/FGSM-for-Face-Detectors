{
 "cells": [
  {
   "cell_type": "code",
   "execution_count": null,
   "metadata": {},
   "outputs": [],
   "source": [
    "import numpy as np\n",
    "import pandas as pd\n",
    "import os\n",
    "import joblib"
   ]
  },
  {
   "cell_type": "code",
   "execution_count": null,
   "metadata": {},
   "outputs": [],
   "source": [
    "random_state = 100\n",
    "cv_folds = 5\n",
    "\n",
    "if not os.path.isdir(\"model_dumps\"):\n",
    "    os.makedirs(\"model_dumps\")"
   ]
  },
  {
   "cell_type": "markdown",
   "metadata": {},
   "source": [
    "## Data Loading"
   ]
  },
  {
   "cell_type": "markdown",
   "metadata": {},
   "source": [
    "Set the filename here"
   ]
  },
  {
   "cell_type": "code",
   "execution_count": null,
   "metadata": {
    "scrolled": true
   },
   "outputs": [],
   "source": [
    "CSV_FILENAME = \"final_eda_features.csv\" #<-- update csv name\n",
    "df_features = pd.read_csv(CSV_FILENAME)\n",
    "df_features.head()"
   ]
  },
  {
   "cell_type": "markdown",
   "metadata": {},
   "source": [
    "```\n",
    "df_features = df_features.drop(columns = ['Unnamed: 0', 'path', 'source_w', 'source_h', 'face_index'])\n",
    "df_features = df_features.loc[df_features[\"e_bbox_yf\"] < 3, :]\n",
    "print(df_features.columns)\n",
    "```"
   ]
  },
  {
   "cell_type": "markdown",
   "metadata": {},
   "source": [
    "Change string types to numeric types"
   ]
  },
  {
   "cell_type": "code",
   "execution_count": null,
   "metadata": {},
   "outputs": [],
   "source": [
    "from sklearn.preprocessing import LabelEncoder"
   ]
  },
  {
   "cell_type": "code",
   "execution_count": null,
   "metadata": {},
   "outputs": [],
   "source": [
    "encoder = LabelEncoder()\n",
    "categorical_columns = df_features.select_dtypes(include=[bool, object]).columns\n",
    "encoded_columns = df_features[categorical_columns].apply(encoder.fit_transform)\n",
    "encoded_columns"
   ]
  },
  {
   "cell_type": "code",
   "execution_count": null,
   "metadata": {},
   "outputs": [],
   "source": [
    "df_encoded_features = df_features.copy()\n",
    "df_encoded_features[categorical_columns] = encoded_columns\n",
    "df_encoded_features"
   ]
  },
  {
   "cell_type": "markdown",
   "metadata": {},
   "source": [
    "Split into X and Y"
   ]
  },
  {
   "cell_type": "code",
   "execution_count": null,
   "metadata": {},
   "outputs": [],
   "source": [
    "feat_regions = [\"bbox\", \"mask\"]\n",
    "\n",
    "color_channels = {\n",
    "    \"RGB\": (\"R_BIN_\", \"G_BIN_\", \"B_BIN_\"),\n",
    "    \"HSV\": (\"H_HSV_BIN_\", \"S_HSV_BIN_\", \"V_HSV_BIN_\"),\n",
    "    \"HSL\": (\"H_HSL_BIN_\", \"S_HSL_BIN_\", \"L_HSL_BIN_\"),\n",
    "    \"LAB\": (\"L_LAB_BIN_\", \"A_LAB_BIN_\", \"B_LAB_BIN_\"),\n",
    "    \"YCBCR\": (\"Y_BIN_\", \"CR_BIN_\", \"CB_BIN_\"),\n",
    "}\n",
    "\n",
    "labels = {\"bbox\": \"e_bbox_\", \"mask\": \"e_face_\"}\n",
    "inv_labels = {\"mask\": \"e_bbox_\", \"bbox\": \"e_face_\"} #<-- inverted"
   ]
  },
  {
   "cell_type": "code",
   "execution_count": null,
   "metadata": {},
   "outputs": [],
   "source": [
    "def get_features_and_label(color_space, region, label_model = \"yf\", is_inv = False):\n",
    "    features = [\"w\", \"h\", \"x\", \"y\"]\n",
    "    for color_channel in color_channels[color_space]: \n",
    "        features += [color_channel + region + \"_\" + str(i) for i in range(26)]\n",
    "    features += [\"LBP_BIN_\" + region + \"_\" + str(i) for i in range(26)]\n",
    "    features += [\"SOBELX_BIN_\" + region + \"_\" + str(i) for i in range(20)]\n",
    "    features += [\"SOBELY_BIN_\" + region + \"_\" + str(i) for i in range(20)]\n",
    "    features += [\"SOBEL_BIN_\" + region + \"_\" + str(i) for i in range(20)]\n",
    "    label = (labels[region] if not is_inv else inv_labels[region]) + label_model\n",
    "    return features, label"
   ]
  },
  {
   "cell_type": "code",
   "execution_count": null,
   "metadata": {},
   "outputs": [],
   "source": [
    "ASSIGNED_COLOR_SPACE = \"RGB\" #<-- pick a colorspace\n",
    "LABEL_MODEL = \"yn\""
   ]
  },
  {
   "cell_type": "code",
   "execution_count": null,
   "metadata": {},
   "outputs": [],
   "source": [
    "features, label = get_features_and_label(ASSIGNED_COLOR_SPACE, \"mask\")\n",
    "X_features_mask =  df_encoded_features.loc[:,  features]\n",
    "y_features_mask = df_encoded_features.loc[:, label].values  #<-- pick label\n",
    "\n",
    "features, label = get_features_and_label(ASSIGNED_COLOR_SPACE, \"bbox\")\n",
    "X_features_bbox =  df_encoded_features.loc[:,  features]\n",
    "y_features_bbox = df_encoded_features.loc[:, label].values  #<-- pick label"
   ]
  },
  {
   "cell_type": "code",
   "execution_count": null,
   "metadata": {},
   "outputs": [],
   "source": [
    "from sklearn.model_selection import train_test_split"
   ]
  },
  {
   "cell_type": "code",
   "execution_count": null,
   "metadata": {},
   "outputs": [],
   "source": [
    "X_train_mask, X_test_mask, y_train_mask, y_test_mask = train_test_split(X_features_mask, y_features_mask, test_size = 0.2, random_state=random_state)\n",
    "\n",
    "print(\"Split shapes\")\n",
    "print(\"X_train: \", X_train_mask.shape)\n",
    "print(\"y_train: \", y_train_mask.shape)\n",
    "print(\"X_test: \", X_test_mask.shape)\n",
    "print(\"y_test: \", y_test_mask.shape)"
   ]
  },
  {
   "cell_type": "code",
   "execution_count": null,
   "metadata": {},
   "outputs": [],
   "source": [
    "X_train_bbox, X_test_bbox, y_train_bbox, y_test_bbox = train_test_split(X_features_bbox, y_features_bbox, test_size = 0.2, random_state=random_state)\n",
    "\n",
    "print(\"Split shapes\")\n",
    "print(\"X_train: \", X_train_bbox.shape)\n",
    "print(\"y_train: \", y_train_bbox.shape)\n",
    "print(\"X_test: \", X_test_bbox.shape)\n",
    "print(\"y_test: \", y_test_bbox.shape)"
   ]
  },
  {
   "cell_type": "markdown",
   "metadata": {},
   "source": [
    "## Base Models"
   ]
  },
  {
   "cell_type": "markdown",
   "metadata": {},
   "source": [
    "### Model Evaluation Functions"
   ]
  },
  {
   "cell_type": "code",
   "execution_count": null,
   "metadata": {},
   "outputs": [],
   "source": [
    "from sklearn.ensemble import RandomForestRegressor\n",
    "from sklearn.svm import SVR\n",
    "from sklearn.neural_network import MLPRegressor"
   ]
  },
  {
   "cell_type": "code",
   "execution_count": null,
   "metadata": {},
   "outputs": [],
   "source": [
    "def rmse(predictions, actual):\n",
    "    return np.sqrt(np.mean(np.square(predictions - actual)))"
   ]
  },
  {
   "cell_type": "code",
   "execution_count": null,
   "metadata": {},
   "outputs": [],
   "source": [
    "def mae(predictions, actual):\n",
    "    return np.mean(np.abs(predictions - actual))"
   ]
  },
  {
   "cell_type": "markdown",
   "metadata": {},
   "source": [
    "### Run All Base Models with CV"
   ]
  },
  {
   "cell_type": "code",
   "execution_count": null,
   "metadata": {},
   "outputs": [],
   "source": [
    "from sklearn.ensemble import RandomForestRegressor\n",
    "from sklearn.svm import SVR\n",
    "from sklearn.neural_network import MLPRegressor\n",
    "from sklearn.model_selection import cross_validate\n",
    "\n",
    "models = [(RandomForestRegressor, {\"random_state\": random_state}), (SVR, {}), (MLPRegressor, {\"random_state\": random_state})]\n",
    "is_label_region_inv = [False, True]\n",
    "feature_set_results = pd.DataFrame()\n",
    "\n",
    "for i in feat_regions:\n",
    "    for j in is_label_region_inv:\n",
    "        features, label = get_features_and_label(ASSIGNED_COLOR_SPACE, i, label_model=LABEL_MODEL, is_inv=j)\n",
    "        X = df_encoded_features.loc[:,  features]\n",
    "        y = df_encoded_features.loc[:, label].values\n",
    "        for model, params in models:\n",
    "            row = {}\n",
    "            model = model(**params)\n",
    "            scores = cross_validate(model, X, y, cv=cv_folds, scoring=('r2', 'neg_root_mean_squared_error', 'neg_mean_absolute_error'), return_train_score=True)\n",
    "            row[\"extract_region\"] = i\n",
    "            row[\"perturb_region\"] = label\n",
    "            row[\"model\"] = type(model).__name__\n",
    "            print(i, label, type(model).__name__)\n",
    "            test_names = [\"test_r2\", \"test_neg_root_mean_squared_error\", \"test_neg_mean_absolute_error\", \"train_r2\", \"train_neg_root_mean_squared_error\", \"train_neg_mean_absolute_error\"]\n",
    "            for test_name in test_names:\n",
    "                row[test_name + \"_ave\"] = np.mean(scores[test_name])\n",
    "                row[test_name + \"_std\"] = np.std(scores[test_name])\n",
    "                print('\\tave', test_name, row[test_name + \"_ave\"])\n",
    "                print('\\tstd', test_name, row[test_name + \"_std\"])\n",
    "                for it, val in enumerate(scores[test_name]):\n",
    "                    row[test_name + \"_\" + str(it)] = val\n",
    "            feature_set_results = pd.concat([feature_set_results, pd.DataFrame(row, index=[0])], ignore_index=True)\n",
    "\n",
    "feature_set_results.to_csv(os.path.join(os.getcwd(), \"faceseg-outs\", \"feature_set_results_\" + LABEL_MODEL + \"_\" + ASSIGNED_COLOR_SPACE + \".csv\"))\n",
    "raise Exception(\"STOP\")"
   ]
  },
  {
   "cell_type": "markdown",
   "metadata": {},
   "source": [
    "### Random Forest"
   ]
  },
  {
   "cell_type": "markdown",
   "metadata": {},
   "source": [
    "Train RF model"
   ]
  },
  {
   "cell_type": "markdown",
   "metadata": {},
   "source": [
    "filename = \"model_dumps/rfr_base_mask_\" + ASSIGNED_COLOR_SPACE + \".pkl\"\n",
    "\n",
    "if (os.path.isfile(filename)):\n",
    "    rfr = joblib.load(filename) \n",
    "else:\n",
    "    rfr = RandomForestRegressor(random_state = random_state)\n",
    "    rfr.fit(X_train_mask, y_train_mask)\n",
    "    joblib.dump(rfr, filename) \n",
    "    \n",
    "rfr_pred = rfr.predict(X_test_mask)\n",
    "print(\"RMSE:\", rmse(rfr_pred, y_test_mask))\n",
    "print(\"MAE:\", mae(rfr_pred, y_test_mask))"
   ]
  },
  {
   "cell_type": "markdown",
   "metadata": {},
   "source": [
    "filename = \"model_dumps/rfr_base_bbox_\" + ASSIGNED_COLOR_SPACE + \".pkl\"\n",
    "\n",
    "if (os.path.isfile(filename)):\n",
    "    rfr = joblib.load(filename) \n",
    "else:\n",
    "    rfr = RandomForestRegressor(random_state = random_state)\n",
    "    rfr.fit(X_train_bbox, y_train_bbox)\n",
    "    joblib.dump(rfr, filename) \n",
    "    \n",
    "rfr_pred = rfr.predict(X_test_bbox)\n",
    "print(\"RMSE:\", rmse(rfr_pred, y_test_bbox))\n",
    "print(\"MAE:\", mae(rfr_pred, y_test_bbox))"
   ]
  },
  {
   "cell_type": "markdown",
   "metadata": {},
   "source": [
    "### Support Vector Machine"
   ]
  },
  {
   "cell_type": "markdown",
   "metadata": {},
   "source": [
    "filename = \"model_dumps/svr_base_mask_\" + ASSIGNED_COLOR_SPACE + \".pkl\"\n",
    "if (os.path.isfile(filename)):\n",
    "    svr = joblib.load(filename) \n",
    "else:\n",
    "    svr = SVR()\n",
    "    svr.fit(X_train_mask, y_train_mask)\n",
    "    joblib.dump(svr, filename) \n",
    "    \n",
    "svr_pred = svr.predict(X_test_mask)\n",
    "print(\"RMSE:\", rmse(svr_pred, y_test_mask))\n",
    "print(\"MAE:\", mae(svr_pred, y_test_mask))"
   ]
  },
  {
   "cell_type": "markdown",
   "metadata": {},
   "source": [
    "filename = \"model_dumps/svr_base_bbox_\" + ASSIGNED_COLOR_SPACE + \".pkl\"\n",
    "\n",
    "if (os.path.isfile(filename)):\n",
    "    svr = joblib.load(filename) \n",
    "else:\n",
    "    svr = SVR()\n",
    "    svr.fit(X_train_bbox, y_train_bbox)\n",
    "    joblib.dump(svr, filename)\n",
    "    \n",
    "svr_pred = svr.predict(X_test_bbox)\n",
    "print(\"RMSE:\", rmse(svr_pred, y_test_bbox))\n",
    "print(\"MAE:\", mae(svr_pred, y_test_bbox))"
   ]
  },
  {
   "cell_type": "markdown",
   "metadata": {},
   "source": [
    "### Multilayer Perceptrons\n",
    "\n"
   ]
  },
  {
   "cell_type": "markdown",
   "metadata": {},
   "source": [
    "filename = \"model_dumps/mpr_base_mask_\" + ASSIGNED_COLOR_SPACE + \".pkl\"\n",
    "\n",
    "if (os.path.isfile(filename)):\n",
    "    mpr = joblib.load(filename) \n",
    "else:\n",
    "    mpr = MLPRegressor(random_state = random_state)\n",
    "    mpr.fit(X_train_mask, y_train_mask)\n",
    "    joblib.dump(mpr, filename) \n",
    "    \n",
    "mpr_pred = mpr.predict(X_test_mask)\n",
    "print(\"RMSE:\", rmse(mpr_pred, y_test_mask))\n",
    "print(\"MAE:\", mae(mpr_pred, y_test_mask))"
   ]
  },
  {
   "cell_type": "markdown",
   "metadata": {},
   "source": [
    "filename = \"model_dumps/mpr_base_bbox_e\" + ASSIGNED_COLOR_SPACE + \".pkl\"\n",
    "\n",
    "if (os.path.isfile(filename)):\n",
    "    mpr = joblib.load(filename) \n",
    "else:\n",
    "    mpr = MLPRegressor(random_state = random_state)\n",
    "    mpr.fit(X_train_bbox, y_train_bbox)\n",
    "    joblib.dump(mpr, filename) \n",
    "\n",
    "mpr_pred = mpr.predict(X_test_bbox)\n",
    "print(\"RMSE:\", rmse(mpr_pred, y_test_bbox))\n",
    "print(\"MAE:\", mae(mpr_pred, y_test_bbox))"
   ]
  },
  {
   "cell_type": "markdown",
   "metadata": {},
   "source": [
    "___"
   ]
  },
  {
   "cell_type": "markdown",
   "metadata": {},
   "source": [
    "raise Exception(\"STOP HERE\")"
   ]
  },
  {
   "cell_type": "markdown",
   "metadata": {},
   "source": [
    "## Feature selection and Hyperparameter tuning\n",
    "\n"
   ]
  },
  {
   "cell_type": "code",
   "execution_count": null,
   "metadata": {},
   "outputs": [],
   "source": [
    "CHOSEN_COLOR_SPACE = \"LAB\" #<-- pick a colorspace\n",
    "CHOSEN_REGION = \"bbox\"\n",
    "\n",
    "features, label = get_features_and_label(CHOSEN_COLOR_SPACE, CHOSEN_REGION)\n",
    "label = \"e_bbox_yn\" #\"e_bbox_mp\"  #<-- pick label\n",
    "\n",
    "X_features =  df_encoded_features.loc[:,  features]\n",
    "y_features = df_encoded_features.loc[:, label].values\n",
    "\n",
    "X_train, X_test, y_train, y_test = train_test_split(X_features, y_features, test_size = 0.2, random_state=random_state)"
   ]
  },
  {
   "cell_type": "code",
   "execution_count": null,
   "metadata": {},
   "outputs": [],
   "source": [
    "# from sklearn.model_selection import GridSearchCV\n",
    "from sklearn.metrics import accuracy_score\n",
    "from skopt import BayesSearchCV\n",
    "from skopt.space import Real, Categorical, Integer\n",
    "from sklearn.pipeline import Pipeline\n",
    "from sklearn.feature_selection import SelectKBest, f_regression\n",
    "from sklearn.base import clone as clone_model"
   ]
  },
  {
   "cell_type": "markdown",
   "metadata": {},
   "source": [
    "### Random Forest"
   ]
  },
  {
   "cell_type": "markdown",
   "metadata": {},
   "source": [
    "**Grid Search**"
   ]
  },
  {
   "cell_type": "markdown",
   "metadata": {},
   "source": [
    "```\n",
    "param_space = [\n",
    "    {\n",
    "        \"n_estimators\": list(range(100, 351, 50)),\n",
    "        \"criterion\": [\"squared_error\", \"absolute_error\", \"friedman_mse\", \"poisson\"],\n",
    "        \"max_depth\": [None, 1, 10, 30, 80, 150],\n",
    "        \"min_samples_split\": [2, 4, 8, 16, 32],\n",
    "        \"min_samples_leaf\": [1, 5, 10, 20],\n",
    "        \"max_features\": [None, \"sqrt\", \"log2\", 0.25, 0.5, 0.75],\n",
    "        \"max_leaf_nodes\": [None, 50, 100, 300],\n",
    "        \"min_impurity_decrease\": [0.0, 0.5],\n",
    "        \"bootstrap\": [False, True],\n",
    "        \"ccp_alpha\": [0.0, 0.5, 1.0],\n",
    "    }\n",
    "]\n",
    "```"
   ]
  },
  {
   "cell_type": "markdown",
   "metadata": {},
   "source": [
    "```\n",
    "rfr = RandomForestRegressor()\n",
    "gs_rfr = GridSearchCV(rfr, param_space, n_jobs=-1, cv=cv_folds)\n",
    "gs_rfr.fit(X_train, y_train)\n",
    "```"
   ]
  },
  {
   "cell_type": "markdown",
   "metadata": {},
   "source": [
    "```\n",
    "print('Best parameters found:\\n', gs_svr.best_params_)\n",
    "y_pred = gs_rfr.predict(X_val)\n",
    "print(\"Best accuracy: \", rmse(y_val, y_pred))\n",
    "print(classification_report(y_val, y_pred))\n",
    "```"
   ]
  },
  {
   "cell_type": "markdown",
   "metadata": {},
   "source": [
    "**Bayesian Optimization**"
   ]
  },
  {
   "cell_type": "code",
   "execution_count": null,
   "metadata": {},
   "outputs": [],
   "source": [
    "search_space = {\n",
    "    \"n_estimators\": Integer(100, 350),\n",
    "    \"criterion\": Categorical([\"squared_error\", \"absolute_error\", \"friedman_mse\", \"poisson\"]),\n",
    "    \"max_depth\": Integer(1, 300),\n",
    "    \"min_samples_split\": Integer(2, 32),\n",
    "    \"min_samples_leaf\": Integer(1, 20),\n",
    "    \"max_features\": Categorical([None, \"sqrt\", \"log2\", 0.25, 0.5, 0.75]),\n",
    "    \"max_leaf_nodes\": Integer(50, 300),\n",
    "    \"min_impurity_decrease\": Real(0.0, 2.0),\n",
    "    \"bootstrap\": Categorical([False, True]),\n",
    "    \"ccp_alpha\": Real(0.0, 2.0),\n",
    "}"
   ]
  },
  {
   "cell_type": "code",
   "execution_count": null,
   "metadata": {},
   "outputs": [],
   "source": [
    "rfr = RandomForestRegressor()\n",
    "bo_rfr = BayesSearchCV(rfr, search_space, n_iter=50, n_jobs=-1, cv=cv_folds, random_state=random_state, verbose=2)\n",
    "bo_rfr.fit(X_train, y_train)\n",
    "\n",
    "joblib.dump(bo_rfr, \"model_dumps/rfr_tuned_\" + CHOSEN_COLOR_SPACE + \"_\" + CHOSEN_REGION + \"_\" + label + \".pkl\") "
   ]
  },
  {
   "cell_type": "code",
   "execution_count": null,
   "metadata": {},
   "outputs": [],
   "source": [
    "print('Best parameters found:\\n', bo_rfr.best_params_)\n",
    "\n",
    "print('Test')\n",
    "y_pred = bo_rfr.predict(X_test)\n",
    "print(\"RMSE: \", rmse(y_test, y_pred))\n",
    "print(\"MAE: \", mae(y_test, y_pred))\n",
    "\n",
    "print('Train')\n",
    "y_pred = bo_rfr.predict(X_train)\n",
    "print(\"RMSE: \", rmse(y_train, y_pred))\n",
    "print(\"MAE: \", mae(y_train, y_pred))"
   ]
  },
  {
   "cell_type": "markdown",
   "metadata": {},
   "source": [
    "### Feature Selection"
   ]
  },
  {
   "cell_type": "code",
   "execution_count": null,
   "metadata": {},
   "outputs": [],
   "source": [
    "rfr = RandomForestRegressor()\n",
    "pipe = Pipeline([('selector', SelectKBest(f_regression)), ('rfr', rfr)])\n",
    "\n",
    "search_space = {\n",
    "    \"selector__k\": Integer(X_train.shape[1] // 2, X_train.shape[1] - 1),\n",
    "    \"rfr__n_estimators\": Integer(100, 350),\n",
    "    \"rfr__criterion\": Categorical([\"squared_error\", \"absolute_error\", \"friedman_mse\", \"poisson\"]),\n",
    "    \"rfr__max_depth\": Integer(1, 300),\n",
    "    \"rfr__min_samples_split\": Integer(2, 32),\n",
    "    \"rfr__min_samples_leaf\": Integer(1, 20),\n",
    "    \"rfr__max_features\": Categorical([None, \"sqrt\", \"log2\", 0.25, 0.5, 0.75]),\n",
    "    \"rfr__max_leaf_nodes\": Integer(50, 300),\n",
    "    \"rfr__min_impurity_decrease\": Real(0.0, 2.0),\n",
    "    \"rfr__bootstrap\": Categorical([False, True]),\n",
    "    \"rfr__ccp_alpha\": Real(0.0, 2.0),\n",
    "}\n",
    "\n",
    "bo_rfr = BayesSearchCV(pipe, search_space, n_iter=75, n_jobs=-1, cv=cv_folds, random_state=random_state)\n",
    "bo_rfr.fit(X_train, y_train)\n",
    "joblib.dump(bo_rfr, \"model_dumps/rfr_tunedfs_bo_\" + CHOSEN_COLOR_SPACE + \"_\" + CHOSEN_REGION + \"_\" + label + \".pkl\") \n",
    "\n",
    "selected_feat = bo_rfr.best_estimator_.named_steps[\"selector\"].get_support()\n",
    "best_rfr = clone_model(bo_rfr.best_estimator_)\n",
    "best_rfr.fit(X_train, y_train)\n",
    "joblib.dump(best_rfr, \"model_dumps/rfr_tunedfs_\" + CHOSEN_COLOR_SPACE + \"_\" + CHOSEN_REGION + \"_\" + label + \".pkl\") "
   ]
  },
  {
   "cell_type": "code",
   "execution_count": null,
   "metadata": {
    "scrolled": true
   },
   "outputs": [],
   "source": [
    "print('Best params:\\n', bo_rfr.best_params_)\n",
    "print('Best features found:\\n', X_train.columns[selected_feat])\n",
    "\n",
    "print(\"Test\")\n",
    "y_pred = best_rfr.predict(X_test.loc[:, selected_feat])\n",
    "print(\"RMSE: \", rmse(y_test, y_pred))\n",
    "print(\"MAE: \", mae(y_test, y_pred))\n",
    "\n",
    "print(\"Train\")\n",
    "y_pred = best_rfr.predict(X_train.loc[:, selected_feat])\n",
    "print(\"RMSE: \", rmse(y_train, y_pred))\n",
    "print(\"MAE: \", mae(y_train, y_pred))"
   ]
  },
  {
   "cell_type": "markdown",
   "metadata": {},
   "source": [
    "### Support Vector Machine"
   ]
  },
  {
   "cell_type": "markdown",
   "metadata": {},
   "source": [
    "**Grid Search**"
   ]
  },
  {
   "cell_type": "markdown",
   "metadata": {},
   "source": [
    "```\n",
    "param_space = [\n",
    "    {\n",
    "        \"kernel\": \"poly\",\n",
    "        \"degree\": [3, 5, 10, 15, 20],\n",
    "        \"gamma\": [\"auto\", \"scale\"],\n",
    "        \"coef0\": [0.0, 2.5, 5.0],\n",
    "        \"tol\": [0.0001, 0.001, 0.01, 0.1],\n",
    "        \"C\": [0.0001, 0.01, 1.0, 100.0, 1000.0],\n",
    "        \"epsilon\": [0.05, 0.1, .5],\n",
    "        \"shrinking\": [False, True],\n",
    "        \"max_iter\": [-1, 100, 500, 1000],\n",
    "    },\n",
    "    {\n",
    "        \"kernel\": \"rbf\",\n",
    "        \"gamma\": [\"auto\", \"scale\"],\n",
    "        \"tol\": [0.0001, 0.001, 0.01, 0.1],\n",
    "        \"C\": [0.0001, 0.01, 1.0, 100.0, 1000.0],\n",
    "        \"epsilon\": [0.05, 0.1, .5],\n",
    "        \"shrinking\": [False, True],\n",
    "        \"max_iter\": [-1, 100, 500, 1000],\n",
    "    },\n",
    "    {\n",
    "        \"kernel\": \"sigmoid\",\n",
    "        \"gamma\": [\"auto\", \"scale\"],\n",
    "        \"coef0\": [0.0, 2.5, 5.0],\n",
    "        \"tol\": [0.0001, 0.001, 0.01, 0.1],\n",
    "        \"C\": [0.0001, 0.01, 1.0, 100.0, 1000.0],\n",
    "        \"epsilon\": [0.05, 0.1, .5],\n",
    "        \"shrinking\": [False, True],\n",
    "        \"max_iter\": [-1, 100, 500, 1000],\n",
    "    },\n",
    "    {\n",
    "        \"kernel\": [\"linear\"],\n",
    "        \"tol\": [0.0001, 0.001, 0.01, 0.1],\n",
    "        \"C\": [0.0001, 0.01, 1.0, 100.0, 1000.0],\n",
    "        \"epsilon\": [0.05, 0.1, .5],\n",
    "        \"shrinking\": [False, True],\n",
    "        \"max_iter\": [-1, 100, 500, 1000],\n",
    "    }\n",
    "]\n",
    "```"
   ]
  },
  {
   "cell_type": "markdown",
   "metadata": {},
   "source": [
    "```\n",
    "svr = SVR()\n",
    "gs_svr = GridSearchCV(svr, param_space, n_jobs=-1, cv=cv_folds)\n",
    "gs_svr.fit(X_train, y_train)\n",
    "```"
   ]
  },
  {
   "cell_type": "markdown",
   "metadata": {},
   "source": [
    "```\n",
    "print('Best parameters found:\\n', gs_svr.best_params_)\n",
    "y_pred = gs_svr.predict(X_val)\n",
    "print(\"Best accuracy: \", rmse(y_val, y_pred))\n",
    "print(classification_report(y_val, y_pred))\n",
    "```"
   ]
  },
  {
   "cell_type": "markdown",
   "metadata": {},
   "source": [
    "**Bayesian Optimization**"
   ]
  },
  {
   "cell_type": "code",
   "execution_count": null,
   "metadata": {},
   "outputs": [],
   "source": [
    "search_space = {\n",
    "    \"kernel\": Categorical([\"linear\", \"poly\", \"rbf\", \"sigmoid\"]),\n",
    "    \"degree\": Integer(3, 20),\n",
    "    \"gamma\": Categorical([\"auto\", \"scale\"]),\n",
    "    \"coef0\": Real(0.0, 5.0),\n",
    "    \"tol\": Real(0.0001, 0.1),\n",
    "    \"C\": Real(0.0001, 1000.0),\n",
    "    \"epsilon\": Real(0.05, .5),\n",
    "    \"shrinking\": Categorical([False, True]),\n",
    "    \"max_iter\": Integer(100, 5000),\n",
    "}"
   ]
  },
  {
   "cell_type": "code",
   "execution_count": null,
   "metadata": {},
   "outputs": [],
   "source": [
    "svr = SVR()\n",
    "bo_svr = BayesSearchCV(svr, search_space, n_iter=50, n_jobs=-1, cv=cv_folds, random_state=random_state, verbose=2)\n",
    "bo_svr.fit(X_train, y_train)\n",
    "\n",
    "joblib.dump(bo_svr, \"model_dumps/svr_tuned_\" + CHOSEN_COLOR_SPACE + \"_\" + CHOSEN_REGION + \"_\" + label + \".pkl\") "
   ]
  },
  {
   "cell_type": "code",
   "execution_count": null,
   "metadata": {},
   "outputs": [],
   "source": [
    "print('Best parameters found:\\n', bo_svr.best_params_)\n",
    "\n",
    "print('Test')\n",
    "y_pred = bo_svr.predict(X_test)\n",
    "print(\"RMSE: \", rmse(y_test, y_pred))\n",
    "print(\"MAE: \", mae(y_test, y_pred))\n",
    "\n",
    "print('Train')\n",
    "y_pred = bo_svr.predict(X_train)\n",
    "print(\"RMSE: \", rmse(y_train, y_pred))\n",
    "print(\"MAE: \", mae(y_train, y_pred))"
   ]
  },
  {
   "cell_type": "markdown",
   "metadata": {},
   "source": [
    "### Feature Selection"
   ]
  },
  {
   "cell_type": "code",
   "execution_count": null,
   "metadata": {},
   "outputs": [],
   "source": [
    "svr = SVR()\n",
    "pipe = Pipeline([('selector', SelectKBest(f_regression)), ('svr', svr)])\n",
    "\n",
    "search_space = {\n",
    "    \"selector__k\": Integer(X_train.shape[1] // 2, X_train.shape[1] - 1),\n",
    "    \"svr__kernel\": Categorical([\"linear\", \"poly\", \"rbf\", \"sigmoid\"]),\n",
    "    \"svr__degree\": Integer(3, 20),\n",
    "    \"svr__gamma\": Categorical([\"auto\", \"scale\"]),\n",
    "    \"svr__coef0\": Real(0.0, 5.0),\n",
    "    \"svr__tol\": Real(0.0001, 0.1),\n",
    "    \"svr__C\": Real(0.0001, 1000.0),\n",
    "    \"svr__epsilon\": Real(0.05, .5),\n",
    "    \"svr__shrinking\": Categorical([False, True]),\n",
    "    \"svr__max_iter\": Integer(100, 5000),\n",
    "}\n",
    "\n",
    "bo_svr = BayesSearchCV(pipe, search_space, n_iter=75, n_jobs=-1, cv=cv_folds, random_state=random_state)\n",
    "bo_svr.fit(X_train, y_train)\n",
    "joblib.dump(bo_svr, \"model_dumps/svr_tunedfs_bo_\" + CHOSEN_COLOR_SPACE + \"_\" + CHOSEN_REGION + \"_\" + label + \".pkl\") \n",
    "\n",
    "selected_feat = bo_svr.best_estimator_.named_steps[\"selector\"].get_support()\n",
    "best_svr = clone_model(bo_svr.best_estimator_)\n",
    "best_svr.fit(X_train, y_train)\n",
    "joblib.dump(best_svr, \"model_dumps/svr_tunedfs_\" + CHOSEN_COLOR_SPACE + \"_\" + CHOSEN_REGION + \"_\" + label + \".pkl\") "
   ]
  },
  {
   "cell_type": "code",
   "execution_count": null,
   "metadata": {
    "scrolled": true
   },
   "outputs": [],
   "source": [
    "print('Best params:\\n', bo_svr.best_params_)\n",
    "print('Best features found:\\n', X_train.columns[selected_feat])\n",
    "\n",
    "print(\"Test\")\n",
    "y_pred = best_svr.predict(X_test.loc[:, selected_feat])\n",
    "print(\"RMSE: \", rmse(y_test, y_pred))\n",
    "print(\"MAE: \", mae(y_test, y_pred))\n",
    "\n",
    "print(\"Train\")\n",
    "y_pred = best_svr.predict(X_train.loc[:, selected_feat])\n",
    "print(\"RMSE: \", rmse(y_train, y_pred))\n",
    "print(\"MAE: \", mae(y_train, y_pred))"
   ]
  },
  {
   "cell_type": "markdown",
   "metadata": {},
   "source": [
    "### Multilayer Perceptron"
   ]
  },
  {
   "cell_type": "markdown",
   "metadata": {},
   "source": [
    "**Grid Search**"
   ]
  },
  {
   "cell_type": "markdown",
   "metadata": {},
   "source": [
    "```\n",
    "param_space = [\n",
    "    {\n",
    "        \"solver\": \"lbfgs\",\n",
    "        \"hidden_layer_sizes\": [(100,), (50, 50,), (50, 25, 25,)], # pick better ones\n",
    "        \"activation\": [\"identity\", \"logistic\", \"tanh\", \"relu\"],\n",
    "        \"alpha\": [0.00001, 0.0001, 0.001],\n",
    "        \"max_iter\": [200, 500, 1000],\n",
    "        \"random_state\": random_state,\n",
    "        \"tol\": [0.0001, 0.001, 0.01, 0.1],\n",
    "        \"max_fun\": [10000, 15000],\n",
    "    },\n",
    "    {\n",
    "        \"solver\": \"adam\",\n",
    "        \"hidden_layer_sizes\": [(100,), (50, 50,), (50, 25, 25,)], # pick better ones\n",
    "        \"activation\": [\"identity\", \"logistic\", \"tanh\", \"relu\"],\n",
    "        \"alpha\": [0.00001, 0.0001, 0.001],\n",
    "        \"max_iter\": [200, 500, 1000],\n",
    "        \"random_state\": random_state,\n",
    "        \"tol\": [0.0001, 0.001, 0.01, 0.1],\n",
    "        \"batch_size\": ['auto', n_samples // 5, n_samples // 10],\n",
    "        \"learning_rate_init\": [0.0005, 0.001, 0.005],\n",
    "        \"shuffle\": [False, True],\n",
    "        \"early_stopping\": [False, True],\n",
    "        \"validation_fraction\": [0.1, 0.15],\n",
    "        \"n_iter_no_change\": [10, 15],\n",
    "        # not sure abt these values, should we be changing these?\n",
    "        \"beta_1\": [0.75, 0.9],\n",
    "        \"beta_2\": [0.85, 0.999],\n",
    "        \"epsilon\": [1e-07, 1e-08],\n",
    "    },\n",
    "    {\n",
    "        \"solver\": \"sgd\",\n",
    "        \"hidden_layer_sizes\": [(100,), (50, 50,), (50, 25, 25,)], # pick better ones\n",
    "        \"activation\": [\"identity\", \"logistic\", \"tanh\", \"relu\"],\n",
    "        \"alpha\": [0.00001, 0.0001, 0.001],\n",
    "        \"max_iter\": [200, 500, 1000],\n",
    "        \"random_state\": random_state,\n",
    "        \"tol\": [0.0001, 0.001, 0.01, 0.1],\n",
    "        \"batch_size\": ['auto', n_samples // 5, n_samples // 10],\n",
    "        \"learning_rate_init\": [0.0005, 0.001, 0.005],\n",
    "        \"shuffle\": [False, True],\n",
    "        \"early_stopping\": [False, True],\n",
    "        \"validation_fraction\": [0.1, 0.15],\n",
    "        \"n_iter_no_change\": [10, 15],\n",
    "        \"learning_rate\": [\"constant\", \"invscaling\", \"adaptive\"],\n",
    "        \"momentum\": [0.75, 0.9],\n",
    "        \"nesterovs_momentum\": [False, True],\n",
    "    }\n",
    "]\n",
    "```"
   ]
  },
  {
   "cell_type": "markdown",
   "metadata": {},
   "source": [
    "```\n",
    "mpr = MLPRegressor()\n",
    "gs_mpr = GridSearchCV(mpr, param_space, n_jobs=-1, cv=cv_folds)\n",
    "gs_mpr.fit(X_train, y_train)\n",
    "```"
   ]
  },
  {
   "cell_type": "markdown",
   "metadata": {},
   "source": [
    "```\n",
    "print('Best parameters found:\\n', gs_mpr.best_params_)\n",
    "y_pred = gs_mpr.predict(X_val)\n",
    "print(\"Best accuracy: \", rmse(y_val, y_pred))\n",
    "print(classification_report(y_val, y_pred))\n",
    "```"
   ]
  },
  {
   "cell_type": "markdown",
   "metadata": {},
   "source": [
    "**Bayesian Optimization**"
   ]
  },
  {
   "cell_type": "code",
   "execution_count": null,
   "metadata": {},
   "outputs": [],
   "source": [
    "hidden_sz = X_train.shape[1] * 2 // 3 + 1\n",
    "search_space = {\n",
    "    \"activation\": Categorical([\"identity\", \"logistic\", \"tanh\", \"relu\"]),\n",
    "    \"solver\": Categorical([\"lbfgs\", \"adam\", \"sgd\"]),\n",
    "    \"alpha\": Real(0.00001, 0.001),\n",
    "    \"learning_rate\": Categorical([\"constant\", \"invscaling\", \"adaptive\"]),\n",
    "    \"learning_rate_init\": Real(0.0005, 0.005),\n",
    "    \"max_iter\": Integer(200, 1000),\n",
    "    \"shuffle\": Categorical([False, True]),\n",
    "    \"tol\": Real(0.0001, 0.1),\n",
    "    \"momentum\": Real(0.75, 0.9),\n",
    "    \"nesterovs_momentum\": Categorical([False, True]),\n",
    "    \"early_stopping\": Categorical([False, True]),\n",
    "    \"validation_fraction\": Real(0.1, 0.15),\n",
    "    \"beta_1\": Real(0.75, 0.9),\n",
    "    \"beta_2\": Real(0.85, 0.999),\n",
    "    \"epsilon\": Real(1e-08, 1e-07),\n",
    "    \"n_iter_no_change\": Integer(10, 15),\n",
    "    \"max_fun\": Integer(10000, 15000),\n",
    "}"
   ]
  },
  {
   "cell_type": "code",
   "execution_count": null,
   "metadata": {},
   "outputs": [],
   "source": [
    "mpr = MLPRegressor(random_state=random_state, hidden_layer_sizes=(hidden_sz, hidden_sz * 2 // 3))\n",
    "bo_mpr = BayesSearchCV(mpr, search_space, n_iter=50, n_jobs=-1, cv=cv_folds, random_state=random_state, verbose=2)\n",
    "bo_mpr.fit(X_train, y_train)\n",
    "\n",
    "joblib.dump(bo_mpr, \"model_dumps/mpr_tuned_\" + CHOSEN_COLOR_SPACE + \"_\" + CHOSEN_REGION + \"_\" + label + \".pkl\") "
   ]
  },
  {
   "cell_type": "code",
   "execution_count": null,
   "metadata": {},
   "outputs": [],
   "source": [
    "print('Best parameters found:\\n', bo_mpr.best_params_)\n",
    "\n",
    "print(\"Test\")\n",
    "y_pred = bo_mpr.predict(X_test)\n",
    "print(\"RMSE\", rmse(y_test, y_pred))\n",
    "print(\"MAE\", mae(y_test, y_pred))\n",
    "\n",
    "print(\"Train\")\n",
    "y_pred = bo_mpr.predict(X_train)\n",
    "print(\"RMSE\", rmse(y_train, y_pred))\n",
    "print(\"MAE\", mae(y_train, y_pred))"
   ]
  },
  {
   "cell_type": "markdown",
   "metadata": {},
   "source": [
    "### Feature Selection"
   ]
  },
  {
   "cell_type": "code",
   "execution_count": null,
   "metadata": {},
   "outputs": [],
   "source": [
    "mpr = MLPRegressor(random_state=random_state, hidden_layer_sizes=(hidden_sz, hidden_sz * 2 // 3))\n",
    "pipe = Pipeline([('selector', SelectKBest(f_regression)), ('mpr', mpr)])\n",
    "\n",
    "search_space = {\n",
    "    \"selector__k\": Integer(X_train.shape[1] // 2, X_train.shape[1] - 1),\n",
    "    \"mpr__activation\": Categorical([\"identity\", \"logistic\", \"tanh\", \"relu\"]),\n",
    "    \"mpr__solver\": Categorical([\"lbfgs\", \"adam\", \"sgd\"]),\n",
    "    \"mpr__alpha\": Real(0.00001, 0.001),\n",
    "    \"mpr__learning_rate\": Categorical([\"constant\", \"invscaling\", \"adaptive\"]),\n",
    "    \"mpr__learning_rate_init\": Real(0.0005, 0.005),\n",
    "    \"mpr__max_iter\": Integer(200, 1000),\n",
    "    \"mpr__shuffle\": Categorical([False, True]),\n",
    "    \"mpr__tol\": Real(0.0001, 0.1),\n",
    "    \"mpr__momentum\": Real(0.75, 0.9),\n",
    "    \"mpr__nesterovs_momentum\": Categorical([False, True]),\n",
    "    \"mpr__early_stopping\": Categorical([False, True]),\n",
    "    \"mpr__validation_fraction\": Real(0.1, 0.15),\n",
    "    \"mpr__beta_1\": Real(0.75, 0.9),\n",
    "    \"mpr__beta_2\": Real(0.85, 0.999),\n",
    "    \"mpr__epsilon\": Real(1e-08, 1e-07),\n",
    "    \"mpr__n_iter_no_change\": Integer(10, 15),\n",
    "    \"mpr__max_fun\": Integer(10000, 15000),\n",
    "}\n",
    "\n",
    "bo_mpr = BayesSearchCV(pipe, search_space, n_iter=76, n_jobs=-1, cv=cv_folds, random_state=random_state)\n",
    "bo_mpr.fit(X_train, y_train)\n",
    "joblib.dump(bo_mpr, \"model_dumps/mpr_tunedfs_bo_\" + CHOSEN_COLOR_SPACE + \"_\" + CHOSEN_REGION + \"_\" + label + \".pkl\") \n",
    "\n",
    "selected_feat = bo_mpr.best_estimator_.named_steps[\"selector\"].get_support()\n",
    "best_mpr = clone_model(bo_mpr.best_estimator_)\n",
    "best_mpr.fit(X_train, y_train)\n",
    "joblib.dump(best_mpr, \"model_dumps/mpr_tunedfs_\" + CHOSEN_COLOR_SPACE + \"_\" + CHOSEN_REGION + \"_\" + label + \".pkl\") "
   ]
  },
  {
   "cell_type": "code",
   "execution_count": null,
   "metadata": {
    "scrolled": true
   },
   "outputs": [],
   "source": [
    "print('Best params:\\n', bo_mpr.best_params_)\n",
    "print('Best features found:\\n', X_train.columns[selected_feat])\n",
    "\n",
    "print(\"Test\")\n",
    "y_pred = best_mpr.predict(X_test.loc[:, selected_feat])\n",
    "print(\"RMSE: \", rmse(y_test, y_pred))\n",
    "print(\"MAE: \", mae(y_test, y_pred))\n",
    "\n",
    "print(\"Train\")\n",
    "y_pred = best_mpr.predict(X_train.loc[:, selected_feat])\n",
    "print(\"RMSE: \", rmse(y_train, y_pred))\n",
    "print(\"MAE: \", mae(y_train, y_pred))"
   ]
  },
  {
   "cell_type": "code",
   "execution_count": null,
   "metadata": {},
   "outputs": [],
   "source": []
  },
  {
   "cell_type": "markdown",
   "metadata": {},
   "source": [
    "### Hidden Layer Sizes Experimentation"
   ]
  },
  {
   "cell_type": "markdown",
   "metadata": {},
   "source": [
    "mlp_params = dict([('activation', 'relu'), ('alpha', 0.0006077414104241369), ('beta_1', 0.75), ('beta_2', 0.9174938922030286), ('early_stopping', True), ('epsilon', 1e-08), ('learning_rate', 'invscaling'), ('learning_rate_init', 0.0005), ('max_fun', 10000), ('max_iter', 1000), ('momentum', 0.75), ('n_iter_no_change', 15), ('nesterovs_momentum', True), ('shuffle', False), ('solver', 'adam'), ('tol', 0.0001), ('validation_fraction', 0.15)])"
   ]
  },
  {
   "cell_type": "code",
   "execution_count": null,
   "metadata": {},
   "outputs": [],
   "source": [
    "\"\"\"new_mlp = MLPRegressor(random_state=random_state, **mlp_params)\n",
    "\n",
    "search_space = {\n",
    "    \"selector__k\": Integer(1, X_train.shape[1] - 1),\n",
    "    \"layers__sz0\": Integer(1, X_train.shape[1] * 2 // 3),\n",
    "    \"layers__sz1\": Integer(1, X_train.shape[1] * 4 // 9),\n",
    "    \"layers__sz2\": Integer(1, X_train.shape[1] * 8 // 27),\n",
    "    \"layers__sz3\": Integer(1, X_train.shape[1] * 16 // 81),\n",
    "    \"layers__d\": Integer(1, 4),\n",
    "}\n",
    "\n",
    "from sklearn.base import BaseEstimator, TransformerMixin\n",
    "class Layers(BaseEstimator, TransformerMixin):\n",
    "    def __init__(self, d=4, *args, **kwargs):\n",
    "        for i in range(d):\n",
    "            if i < len(args):\n",
    "                setattr(self, \"sz\" + str(i), args[i])\n",
    "            else:\n",
    "                setattr(self, \"sz\" + str(i), 1)\n",
    "                \n",
    "        self.set_params(**kwargs)\n",
    "        self.d = d\n",
    "    \n",
    "    def get_params(self, deep=False):\n",
    "        sizes = {\"sz\" + str(i): getattr(self, \"sz\" + str(i)) for i in range(self.d)}\n",
    "        sizes[\"d\"] = self.d\n",
    "        return sizes\n",
    "    \n",
    "    def set_params(self, **parameters):\n",
    "        for parameter, value in parameters.items():\n",
    "            setattr(self, parameter, value)\n",
    "    \n",
    "    def fit(self, X, y=None):\n",
    "        return self\n",
    "\n",
    "    def transform(self, X, y=None):\n",
    "        global new_mlp\n",
    "        new_mlp.set_params(hidden_layer_sizes=tuple(getattr(self, \"sz\" + str(i)) for i in range(self.d)))\n",
    "        return X\n",
    "    \n",
    "pipe = Pipeline([('selector', SelectKBest(f_regression)), ('layers', Layers()), ('mpr', new_mlp)])\n",
    "search = BayesSearchCV(pipe, search_space, n_iter=50, n_jobs=-1, cv=cv_folds, random_state=random_state)\"\"\""
   ]
  },
  {
   "cell_type": "markdown",
   "metadata": {},
   "source": [
    "new_mlp = MLPRegressor(random_state=random_state, **mlp_params)\n",
    "\n",
    "search_space = {\n",
    "    \"selector__k\": Integer(X_train.shape[1] // 3, X_train.shape[1] - 1),\n",
    "    \"layers__sz\": Integer(1, X_train.shape[1] - 1),\n",
    "    \"layers__d\": Integer(1, 3),\n",
    "}\n",
    "\n",
    "from sklearn.base import BaseEstimator, TransformerMixin\n",
    "class Layers(BaseEstimator, TransformerMixin):\n",
    "    def __init__(self, d=3, sz=100):\n",
    "        self.d = d\n",
    "        self.sz = sz\n",
    "        \n",
    "    def get_params(self, deep=False):\n",
    "        return {\"sz\": self.sz, \"d\": self.d}\n",
    "    \n",
    "    def set_params(self, **parameters):\n",
    "        for parameter, value in parameters.items():\n",
    "            setattr(self, parameter, value)\n",
    "    \n",
    "    def fit(self, X, y=None):\n",
    "        return self\n",
    "\n",
    "    def transform(self, X, y=None):\n",
    "        global new_mlp\n",
    "        new_mlp.set_params(hidden_layer_sizes=tuple(self.sz for i in range(self.d)))\n",
    "        return X\n",
    "    \n",
    "pipe = Pipeline([('selector', SelectKBest(f_regression)), ('layers', Layers()), ('mpr', new_mlp)])\n",
    "search = BayesSearchCV(pipe, search_space, n_iter=15, n_jobs=-1, cv=cv_folds, random_state=random_state)"
   ]
  },
  {
   "cell_type": "markdown",
   "metadata": {},
   "source": [
    "search.fit(X_train, y_train)\n",
    "selected_feat = search.best_estimator_.named_steps[\"selector\"].get_support()\n",
    "best_mpr = clone_model(search.best_estimator_)\n",
    "best_mpr.fit(X_train.loc[:, selected_feat], y_train)"
   ]
  },
  {
   "cell_type": "markdown",
   "metadata": {},
   "source": [
    "print('Best params:\\n', search.best_params_)\n",
    "print('Best features found:\\n', X_train.columns[selected_feat])\n",
    "\n",
    "print(\"Test\")\n",
    "y_pred = best_mpr.predict(X_test.loc[:, selected_feat])\n",
    "print(\"RMSE: \", rmse(y_test, y_pred))\n",
    "print(\"MAE: \", mae(y_test, y_pred))\n",
    "\n",
    "print(\"Train\")\n",
    "y_pred = best_mpr.predict(X_train.loc[:, selected_feat])\n",
    "print(\"RMSE: \", rmse(y_train, y_pred))\n",
    "print(\"MAE: \", mae(y_train, y_pred))"
   ]
  },
  {
   "cell_type": "markdown",
   "metadata": {},
   "source": [
    "## Evaluation"
   ]
  },
  {
   "cell_type": "markdown",
   "metadata": {},
   "source": [
    "#"
   ]
  }
 ],
 "metadata": {
  "kernelspec": {
   "display_name": "Python 3 (ipykernel)",
   "language": "python",
   "name": "python3"
  },
  "language_info": {
   "codemirror_mode": {
    "name": "ipython",
    "version": 3
   },
   "file_extension": ".py",
   "mimetype": "text/x-python",
   "name": "python",
   "nbconvert_exporter": "python",
   "pygments_lexer": "ipython3",
   "version": "3.8.16"
  }
 },
 "nbformat": 4,
 "nbformat_minor": 4
}
