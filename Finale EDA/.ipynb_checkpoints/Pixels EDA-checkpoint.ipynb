{
 "cells": [
  {
   "cell_type": "code",
   "execution_count": null,
   "id": "2cfa3847-6f54-4785-99f9-31f9ab6578af",
   "metadata": {},
   "outputs": [],
   "source": [
    "import pandas as pd\n",
    "import numpy as np\n",
    "from scipy import stats\n",
    "import matplotlib.pyplot as plt\n",
    "import plotly.express as px\n",
    "import plotly.graph_objects as go\n",
    "from plotly.subplots import make_subplots"
   ]
  },
  {
   "cell_type": "code",
   "execution_count": null,
   "id": "81a1e57d-8475-47a0-bf8e-fdddd4570e73",
   "metadata": {},
   "outputs": [],
   "source": [
    "df_ref = pd.read_csv(\"recompiled_features_dataset.csv\", index_col=0)\n",
    "df_ref.head()"
   ]
  },
  {
   "cell_type": "markdown",
   "id": "7d34d4f3",
   "metadata": {},
   "source": [
    "### Drop scaled scaled"
   ]
  },
  {
   "cell_type": "code",
   "execution_count": null,
   "id": "38065076",
   "metadata": {
    "scrolled": true
   },
   "outputs": [],
   "source": [
    "df_ref = df_ref.drop(df_ref.columns[df_ref.columns.str.startswith(\"scaled_\")], axis = 1)"
   ]
  },
  {
   "cell_type": "markdown",
   "id": "69b1d3e4-7672-434c-a93e-33b4421e54f3",
   "metadata": {
    "tags": []
   },
   "source": [
    "### Surface Level Info\n",
    "The entire DataFrame is composed of 27318 rows (face) and 1049 columns (attributes)"
   ]
  },
  {
   "cell_type": "code",
   "execution_count": null,
   "id": "13751e43-682c-49cd-8923-9a89d3ceeb51",
   "metadata": {},
   "outputs": [],
   "source": [
    "df_ref.shape"
   ]
  },
  {
   "cell_type": "code",
   "execution_count": null,
   "id": "abc101fd-d4bc-440e-8022-a9d21d55fb31",
   "metadata": {},
   "outputs": [],
   "source": [
    "df_ref.info()"
   ]
  },
  {
   "cell_type": "code",
   "execution_count": null,
   "id": "a4ecccbc-7526-45b7-b202-1bbe2bbfbd83",
   "metadata": {},
   "outputs": [],
   "source": [
    "df_ref.describe()"
   ]
  },
  {
   "cell_type": "code",
   "execution_count": null,
   "id": "babfe8bb-ded8-434d-a3a2-b5f53df154fc",
   "metadata": {},
   "outputs": [],
   "source": [
    "df_ref.columns"
   ]
  },
  {
   "cell_type": "markdown",
   "id": "76383e61-b3a4-4eaa-b6f6-745081e4a25a",
   "metadata": {
    "tags": []
   },
   "source": [
    "### Extracting of Necessary Attributes (Pixels)\n",
    "---"
   ]
  },
  {
   "cell_type": "code",
   "execution_count": null,
   "id": "243af47e-6c60-47d5-91f6-ed07158d36c2",
   "metadata": {},
   "outputs": [],
   "source": [
    "# cols = [\"updated_source_h\", \"updated_source_w\", \"face_index\", \"x1\", \"y1\", \"x2\", \"y2\", #\"used_mask\",\n",
    "#         \"pixels\", \"scaled_pixels\", \"bg_pixels\", \"scaled_bg_pixels\", \"scaled_x1\", \"scaled_y1\",\n",
    "#         \"scaled_x2\", \"scaled_y2\", \"bbox_area\", \"scaled_bbox_area\", \"lbbox_area\", \"scaled_lbbox_area\",\n",
    "#         \"e_face_yn\", \"e_face_mp\", \"e_face_yf\", \"e_bg_yn\", \"e_bg_mp\", \"e_bg_yf\", \"e_bbox_yn\",\n",
    "#         \"e_bbox_mp\", \"e_bbox_yf\", \"e_lbbox_yn\", \"e_lbbox_mp\", \"e_lbbox_yf\"]\n",
    "\n",
    "# df = df_ref[cols]\n",
    "# df.info()"
   ]
  },
  {
   "cell_type": "markdown",
   "id": "701ee3f0-1ed7-40f5-b66f-f7ec1b3696e3",
   "metadata": {},
   "source": [
    "**Check for null values - NO NULL VALUES**"
   ]
  },
  {
   "cell_type": "code",
   "execution_count": null,
   "id": "f71a925b-0a23-457c-b511-9f594201ed6f",
   "metadata": {},
   "outputs": [],
   "source": [
    "df = df_ref"
   ]
  },
  {
   "cell_type": "code",
   "execution_count": null,
   "id": "00ae0547-7390-496c-a20f-26a55b5973d2",
   "metadata": {},
   "outputs": [],
   "source": [
    "df.isna().sum()"
   ]
  },
  {
   "cell_type": "code",
   "execution_count": null,
   "id": "f448bb8f-e472-4275-999b-e3c53290334b",
   "metadata": {},
   "outputs": [],
   "source": [
    "df.dtypes"
   ]
  },
  {
   "cell_type": "code",
   "execution_count": null,
   "id": "90c2b75b-1938-4d32-8f4d-505c9833bd72",
   "metadata": {},
   "outputs": [],
   "source": [
    "df.describe()"
   ]
  },
  {
   "cell_type": "markdown",
   "id": "c248b0fd-3595-4bad-b9be-c7b973cf38db",
   "metadata": {},
   "source": [
    "# Data Cleaning\n",
    "1. Pixels Replacement\n",
    "2. Clamping of Epsilon Values\n",
    "---"
   ]
  },
  {
   "cell_type": "markdown",
   "id": "6738b52e-224d-4c27-a0f6-73a853de177b",
   "metadata": {
    "tags": []
   },
   "source": [
    "### Replace Pixels and BG Pixels\n",
    "---"
   ]
  },
  {
   "cell_type": "code",
   "execution_count": null,
   "id": "3c89ee37-faa6-4056-a81f-628ac182b6f6",
   "metadata": {},
   "outputs": [],
   "source": [
    "df"
   ]
  },
  {
   "cell_type": "code",
   "execution_count": null,
   "id": "726296f5-4c06-4f5a-a35a-8e828c386b13",
   "metadata": {},
   "outputs": [],
   "source": [
    "# zero_save_indices = df[\"scaled_pixels\"] == 0\n",
    "# zero_save_indices"
   ]
  },
  {
   "cell_type": "code",
   "execution_count": null,
   "id": "f78c72e1-38d2-4494-982f-f030b7142bda",
   "metadata": {},
   "outputs": [],
   "source": [
    "# no_pixels = df[df[\"pixels\"] != 0]"
   ]
  },
  {
   "cell_type": "code",
   "execution_count": null,
   "id": "4aa2e7be-f81c-4c87-be5a-e9c98a8e768a",
   "metadata": {},
   "outputs": [],
   "source": [
    "df[\"pixels\"] = np.where(df[\"pixels\"] == 0, df[\"bg_pixels\"], df[\"pixels\"])\n",
    "#df[\"scaled_pixels\"] = np.where(df[\"scaled_pixels\"] == 0, df[\"scaled_bg_pixels\"], df[\"scaled_pixels\"])"
   ]
  },
  {
   "cell_type": "markdown",
   "id": "e640fd80-5cf5-4e81-9f08-850f4d07ec39",
   "metadata": {
    "tags": []
   },
   "source": [
    "### Check for outliers\n",
    "---"
   ]
  },
  {
   "cell_type": "code",
   "execution_count": null,
   "id": "581f34e5-8543-4f59-85be-32f8211b8b6d",
   "metadata": {},
   "outputs": [],
   "source": [
    "df"
   ]
  },
  {
   "cell_type": "code",
   "execution_count": null,
   "id": "64ef4927-f7ba-4b63-8577-d2b0c3ee2f03",
   "metadata": {},
   "outputs": [],
   "source": [
    "### All with outliers in at least one column with respect to pixels, source, epsilon, etc.\n",
    "# Need to have no NaN values\n",
    "# outliers = no_pixels[~(np.abs(stats.zscore(no_pixels)) < 3).all(axis=1)]\n",
    "# outliers"
   ]
  },
  {
   "cell_type": "markdown",
   "id": "76c9a540-2182-4940-83a8-ce34ecf52553",
   "metadata": {},
   "source": [
    "### Clamping of Epsilon Values"
   ]
  },
  {
   "cell_type": "code",
   "execution_count": null,
   "id": "679a687d-c2d6-45f8-8597-6aef9cb839fd",
   "metadata": {},
   "outputs": [],
   "source": [
    "eps_cols = [\"e_face_yn\", \"e_face_mp\", \"e_face_yf\", \"e_bg_yn\", \"e_bg_mp\", \"e_bg_yf\", \"e_bbox_yn\",\n",
    "            \"e_bbox_mp\", \"e_bbox_yf\", \"e_lbbox_yn\", \"e_lbbox_mp\", \"e_lbbox_yf\"]\n",
    "\n",
    "df[eps_cols].describe()"
   ]
  },
  {
   "cell_type": "code",
   "execution_count": null,
   "id": "734f29f1-38f7-456c-9752-63b509ce3015",
   "metadata": {},
   "outputs": [],
   "source": [
    "df[eps_cols] = df[eps_cols].clip(upper=3)"
   ]
  },
  {
   "cell_type": "markdown",
   "id": "15828fbc-3383-4a83-8bb9-617b82ad8436",
   "metadata": {
    "tags": []
   },
   "source": [
    "### Dropping the 3 value epsilons instead"
   ]
  },
  {
   "cell_type": "code",
   "execution_count": null,
   "id": "3200239b-7335-4bad-9bf0-d48ccd3f8152",
   "metadata": {},
   "outputs": [],
   "source": [
    "drop_eps_cols = [\"e_face_yn\", \"e_face_mp\", \"e_face_yf\", \n",
    "                 \"e_bbox_yn\",\"e_bbox_mp\", \"e_bbox_yf\", \n",
    "                 \"e_lbbox_yf\"]\n",
    "test_df = df\n",
    "\n",
    "for col in drop_eps_cols:\n",
    "    test_df = test_df[test_df[col] < 3]"
   ]
  },
  {
   "cell_type": "code",
   "execution_count": null,
   "id": "4ae17f50-45ba-47ec-a600-2482c0e5596b",
   "metadata": {},
   "outputs": [],
   "source": [
    "test_df.describe()"
   ]
  },
  {
   "cell_type": "code",
   "execution_count": null,
   "id": "24af6ee6-44d9-4f92-b46d-555aa5d72b7d",
   "metadata": {},
   "outputs": [],
   "source": [
    "df = test_df"
   ]
  },
  {
   "cell_type": "markdown",
   "id": "426bdb63-1f4e-4e7d-9015-3a15fa048d02",
   "metadata": {},
   "source": [
    "## CREATE NEW COLUMNS FOR EACH ROW\n",
    "---\n",
    "x, y, w, h = (row['x1'] + row['x2']) / 2, (row['y1'] + row['y2']) / 2, row['x2'] - row['x1'], row['y2'] - row['y1']"
   ]
  },
  {
   "cell_type": "code",
   "execution_count": null,
   "id": "14bd5ce9-ad69-4c6c-a905-893bdbb606e0",
   "metadata": {
    "tags": []
   },
   "outputs": [],
   "source": [
    "new_x = []\n",
    "new_y = []\n",
    "new_w = []\n",
    "new_h = []\n",
    "\n",
    "for idx, row in df.iterrows():\n",
    "    x, y, w, h = (row['x1'] + row['x2']) / 2, (row['y1'] + row['y2']) / 2, row['x2'] - row['x1'], row['y2'] - row['y1']\n",
    "    new_x.append(x)\n",
    "    new_y.append(y)\n",
    "    new_w.append(w)\n",
    "    new_h.append(h)\n",
    "    \n",
    "df['x'] = new_x\n",
    "df['y'] = new_y\n",
    "df['w'] = new_w\n",
    "df['h'] = new_h"
   ]
  },
  {
   "cell_type": "code",
   "execution_count": null,
   "id": "77caf4fe-18bc-4269-b03f-2e39c464747d",
   "metadata": {
    "scrolled": true
   },
   "outputs": [],
   "source": [
    "df.describe()"
   ]
  },
  {
   "cell_type": "markdown",
   "id": "3477a329-3bfb-4c59-902d-8e8b77ab6f4f",
   "metadata": {},
   "source": [
    "## Normalization of non E values\n",
    "---"
   ]
  },
  {
   "cell_type": "code",
   "execution_count": null,
   "id": "4e7ab3a1",
   "metadata": {
    "scrolled": true
   },
   "outputs": [],
   "source": [
    "area_cols = df.columns[df.columns.str.contains(\"area\")]\n",
    "print(df[area_cols].describe())\n",
    "df[area_cols] = df[area_cols] / (416 * 416)"
   ]
  },
  {
   "cell_type": "code",
   "execution_count": null,
   "id": "a6bf5313",
   "metadata": {
    "scrolled": true
   },
   "outputs": [],
   "source": [
    "pixels_cols = df.columns[df.columns.str.contains(\"pixels\")]\n",
    "print(df[pixels_cols].describe())\n",
    "df[pixels_cols] = df[pixels_cols] / (416 * 416)"
   ]
  },
  {
   "cell_type": "code",
   "execution_count": null,
   "id": "3de8e84a",
   "metadata": {
    "scrolled": false
   },
   "outputs": [],
   "source": [
    "df = df.drop(columns=[\"x1\", \"y1\", \"x2\", \"y2\"])\n",
    "dim_cols = [\"x\", \"y\", \"w\", \"h\"]\n",
    "print(df[dim_cols].describe())\n",
    "df[dim_cols] = df[dim_cols] / 415"
   ]
  },
  {
   "cell_type": "code",
   "execution_count": null,
   "id": "19aff0c9",
   "metadata": {
    "scrolled": true
   },
   "outputs": [],
   "source": [
    "print(df[area_cols].describe())\n",
    "print(df[pixels_cols].describe())\n",
    "print(df[dim_cols].describe())"
   ]
  },
  {
   "cell_type": "code",
   "execution_count": null,
   "id": "cab0ed75",
   "metadata": {},
   "outputs": [],
   "source": [
    "df.columns[~df.columns.str.contains(\"BIN\")]"
   ]
  },
  {
   "cell_type": "code",
   "execution_count": null,
   "id": "029f4fb0-e0f8-40aa-9eca-70c95a6ee73d",
   "metadata": {},
   "outputs": [],
   "source": [
    "save_df = df.copy()\n",
    "save_df"
   ]
  },
  {
   "cell_type": "code",
   "execution_count": null,
   "id": "c78c41a1-1ae9-4ac3-95bc-3481bb541c99",
   "metadata": {},
   "outputs": [],
   "source": [
    "# normalize_cols = [\"updated_source_h\", \"updated_source_w\", \"x1\", \"y1\", \"x2\", \"y2\",\n",
    "#                  \"pixels\", \"scaled_pixels\", \"bg_pixels\", \"scaled_bg_pixels\", \"scaled_x1\",\n",
    "#                  \"scaled_y1\", \"scaled_x2\", \"scaled_y2\", \"bbox_area\", \"scaled_bbox_area\",\n",
    "#                  \"lbbox_area\", \"scaled_lbbox_area\", \"x\", \"y\", \"w\", \"h\"]\n",
    "\n",
    "# for col in normalize_cols:\n",
    "#     df[col] = (df[col] - df[col].min()) / (df[col].max() - df[col].min())   "
   ]
  },
  {
   "cell_type": "code",
   "execution_count": null,
   "id": "b0ab829c-fd15-4ff4-90a9-3afe2066d089",
   "metadata": {},
   "outputs": [],
   "source": [
    "df"
   ]
  },
  {
   "cell_type": "code",
   "execution_count": null,
   "id": "ef450bac-41f2-4b97-95a9-5319f85d069e",
   "metadata": {},
   "outputs": [],
   "source": [
    "df.to_csv('cleaned_eda_features.csv')"
   ]
  },
  {
   "cell_type": "markdown",
   "id": "6b21aa03-9224-41e6-85bf-b4fb14a877a3",
   "metadata": {
    "tags": []
   },
   "source": [
    "# EDA TO:DO\n",
    "---\n",
    "1. Check surface level boxplots for all columns\n",
    "2. Get the Correlation Mapping\n",
    "3. Identify the outliers from the boxplots for each appropriate column and then investigate\n",
    "4. Get the seaborn regplot of pixels, scaled_pixels, bg_pixels, scaled_bg_pixels, bbox_area, scaled_bbox_area, lbbox_area, scaled_lbbox_area corresponding to each appropriate epsilon values\n",
    "5. Standardization of Data if Bell Curve or Evenly Distributed\n",
    "6. Else, Normalization\n",
    "---\n",
    "7. Specific Stuff"
   ]
  },
  {
   "cell_type": "markdown",
   "id": "cacdddd4-feb4-4cbb-9fa3-4bed4f32d526",
   "metadata": {},
   "source": [
    "## Get the subset of columns with int or float values only so you can visualize\n",
    "---"
   ]
  },
  {
   "cell_type": "code",
   "execution_count": null,
   "id": "ddf5d05b-854a-47d7-8526-2c5bbd45ba70",
   "metadata": {},
   "outputs": [],
   "source": [
    "save_df = df.copy()"
   ]
  },
  {
   "cell_type": "code",
   "execution_count": null,
   "id": "adf3a298-de9b-415f-9ccf-611144eca5d3",
   "metadata": {},
   "outputs": [],
   "source": [
    "cols = [\"updated_source_h\", \"updated_source_w\", \"face_index\", \"x1\", \"y1\", \"x2\", \"y2\", \"x\", \"y\", \"w\", \"h\",#\"used_mask\",\n",
    "        \"pixels\", \"scaled_pixels\", \"bg_pixels\", \"scaled_bg_pixels\", \"scaled_x1\", \"scaled_y1\",\n",
    "        \"scaled_x2\", \"scaled_y2\", \"bbox_area\", \"scaled_bbox_area\", \"lbbox_area\", \"scaled_lbbox_area\",\n",
    "        \"e_face_yn\", \"e_face_mp\", \"e_face_yf\", \"e_bg_yn\", \"e_bg_mp\", \"e_bg_yf\", \"e_bbox_yn\",\n",
    "        \"e_bbox_mp\", \"e_bbox_yf\", \"e_lbbox_yn\", \"e_lbbox_mp\", \"e_lbbox_yf\"]\n",
    "\n",
    "cols = [i for i in cols if not i.startswith(\"scaled_\")]\n",
    "\n",
    "df = save_df.copy()[cols]\n",
    "df.info()"
   ]
  },
  {
   "cell_type": "markdown",
   "id": "3a360c70-edc6-4c1a-9d64-24d21ce91649",
   "metadata": {
    "tags": []
   },
   "source": [
    "## 1 - Check Surface Level Box Plots For All Columns"
   ]
  },
  {
   "cell_type": "code",
   "execution_count": null,
   "id": "a32fe506-dcfa-4314-9f8c-1f1febb1c6c6",
   "metadata": {},
   "outputs": [],
   "source": [
    "len(df.columns.tolist())"
   ]
  },
  {
   "cell_type": "code",
   "execution_count": null,
   "id": "7782ba5e-cbe1-4fc2-ac2d-706936e2678a",
   "metadata": {
    "tags": []
   },
   "outputs": [],
   "source": [
    "fig = make_subplots(rows=7, cols=5, subplot_titles=df.columns.tolist())\n",
    "\n",
    "x_count = 1\n",
    "y_count = 1\n",
    "\n",
    "for column in df:           \n",
    "    fig.add_trace(go.Box(y=df[column], name=column), row=x_count, col=y_count)\n",
    "    \n",
    "    if y_count == 5:\n",
    "        x_count += 1\n",
    "        y_count = 1\n",
    "    else:\n",
    "        y_count += 1\n",
    "\n",
    "fig.update_layout(height=3000, width=1200, title_text=\"BoxPlot\")    \n",
    "fig.show()"
   ]
  },
  {
   "cell_type": "markdown",
   "id": "fc5234ab-8ec5-4e68-b171-c3b78949d104",
   "metadata": {
    "tags": []
   },
   "source": [
    "### Confirm the distribution skewness"
   ]
  },
  {
   "cell_type": "code",
   "execution_count": null,
   "id": "bfa133aa-48ce-4f98-bd09-ebe8f70ab993",
   "metadata": {
    "jupyter": {
     "source_hidden": true
    },
    "tags": []
   },
   "outputs": [],
   "source": [
    "fig = make_subplots(rows=7, cols=5, subplot_titles=df.columns.tolist())\n",
    "\n",
    "x_count = 1\n",
    "y_count = 1 \n",
    "\n",
    "for column in df:           \n",
    "    fig.add_trace(go.Histogram(x=df[column], name=column), row=x_count, col=y_count)\n",
    "    \n",
    "    if y_count == 5:\n",
    "        x_count += 1\n",
    "        y_count = 1\n",
    "    else:\n",
    "        y_count += 1\n",
    "\n",
    "fig.update_layout(height=3000, width=1200, title_text=\"Histogram Plot\")    \n",
    "fig.show()"
   ]
  },
  {
   "cell_type": "markdown",
   "id": "277b3b1a-34b0-467d-9619-62191e42ce50",
   "metadata": {},
   "source": [
    "## 2 - Get the Correlation Heatmap"
   ]
  },
  {
   "cell_type": "code",
   "execution_count": null,
   "id": "e094b093-a977-4b03-8ba9-0b0f2c5ffa50",
   "metadata": {
    "jupyter": {
     "source_hidden": true
    },
    "tags": []
   },
   "outputs": [],
   "source": [
    "df_corr = df.corr()\n",
    "fig = go.Figure()\n",
    "fig.add_trace(\n",
    "    go.Heatmap(\n",
    "        x = df_corr.columns,\n",
    "        y = df_corr.index,\n",
    "        z = np.array(df_corr),\n",
    "        text=df_corr.values,\n",
    "        texttemplate='%{text:.2f}'\n",
    "    )\n",
    ")\n",
    "fig.update_layout(height=1080, width=1200, title_text=\"Heatmap\")    \n",
    "fig.show()"
   ]
  },
  {
   "cell_type": "markdown",
   "id": "0c44f535-d373-422e-9baa-173b90693864",
   "metadata": {},
   "source": [
    "The results of the heatmap could identify possible correlations first before heading towards having regression plots"
   ]
  },
  {
   "cell_type": "markdown",
   "id": "606d82c9-d961-481a-a08d-e877825878d3",
   "metadata": {
    "tags": []
   },
   "source": [
    "## 7 - Specific Stuff"
   ]
  },
  {
   "cell_type": "markdown",
   "id": "99a4270c-c988-4b98-b493-6a1ada35ab55",
   "metadata": {},
   "source": [
    "### Face Segment YuNet"
   ]
  },
  {
   "cell_type": "code",
   "execution_count": null,
   "id": "cea6d78d-f5fe-4f26-8ec9-6f37494cb0e3",
   "metadata": {},
   "outputs": [],
   "source": []
  },
  {
   "cell_type": "markdown",
   "id": "a6585e9c-977b-4ec9-934c-9a8d3a0276bd",
   "metadata": {},
   "source": [
    "### Face Segment MediaPipe"
   ]
  },
  {
   "cell_type": "code",
   "execution_count": null,
   "id": "ddb34b9d-525f-41ed-9ac6-ee1a4bb6df76",
   "metadata": {},
   "outputs": [],
   "source": []
  },
  {
   "cell_type": "markdown",
   "id": "01274988-b650-4b0d-a906-25f096339ebe",
   "metadata": {},
   "source": [
    "### Face Segment YoloFace"
   ]
  },
  {
   "cell_type": "code",
   "execution_count": null,
   "id": "e1a1cd56-e06c-4c14-97ab-8f4efd3e9e12",
   "metadata": {},
   "outputs": [],
   "source": []
  },
  {
   "cell_type": "markdown",
   "id": "2136b1a8-9cad-4f50-903d-3c2932f19d9f",
   "metadata": {},
   "source": [
    "### BBOX YuNet"
   ]
  },
  {
   "cell_type": "code",
   "execution_count": null,
   "id": "95988e7d-9096-44b2-adaa-1eae36a4b298",
   "metadata": {},
   "outputs": [],
   "source": []
  },
  {
   "cell_type": "markdown",
   "id": "d2bf2853-2abc-488b-9ec1-388409d14ba9",
   "metadata": {},
   "source": [
    "### BBOX MediaPipe"
   ]
  },
  {
   "cell_type": "code",
   "execution_count": null,
   "id": "add90a6c-509c-4b03-a669-cda740dd0c4e",
   "metadata": {},
   "outputs": [],
   "source": []
  },
  {
   "cell_type": "markdown",
   "id": "d4145b07-f3d5-4bcb-b31e-556a7b4d5d1c",
   "metadata": {
    "tags": []
   },
   "source": [
    "### BBOX YoloFace"
   ]
  },
  {
   "cell_type": "code",
   "execution_count": null,
   "id": "d20727ca-69d6-44f2-b5f8-837342b21317",
   "metadata": {},
   "outputs": [],
   "source": []
  },
  {
   "cell_type": "markdown",
   "id": "1c5a17d0-78dc-4b0a-9ee8-61d08f1a16eb",
   "metadata": {},
   "source": [
    "### BG YuNet"
   ]
  },
  {
   "cell_type": "code",
   "execution_count": null,
   "id": "213b8c99-da5d-4228-ba4d-e1a757cbbce5",
   "metadata": {},
   "outputs": [],
   "source": []
  },
  {
   "cell_type": "markdown",
   "id": "6618865a-1acd-4f75-b615-9fb96a88eb4d",
   "metadata": {},
   "source": [
    "### BG MediaPipe"
   ]
  },
  {
   "cell_type": "code",
   "execution_count": null,
   "id": "0b225c6f-7564-4a3d-a53f-e0a30640af6b",
   "metadata": {},
   "outputs": [],
   "source": []
  },
  {
   "cell_type": "markdown",
   "id": "b74b22c4-928a-413d-b8ee-b3b222df343f",
   "metadata": {},
   "source": [
    "### BG YoloFace"
   ]
  },
  {
   "cell_type": "code",
   "execution_count": null,
   "id": "0f6d42d6-1187-41b5-a9f3-8b4a7c8f9211",
   "metadata": {},
   "outputs": [],
   "source": []
  },
  {
   "cell_type": "markdown",
   "id": "dfd7f115-d05d-4065-856b-9917a0386929",
   "metadata": {},
   "source": [
    "### 2x BG YuNet"
   ]
  },
  {
   "cell_type": "code",
   "execution_count": null,
   "id": "01bba707-7958-49f5-886d-0995fb88fef3",
   "metadata": {},
   "outputs": [],
   "source": []
  },
  {
   "cell_type": "markdown",
   "id": "0cf7791f-9318-4244-ab27-e2316330339c",
   "metadata": {},
   "source": [
    "### 2x BG MediaPipe"
   ]
  },
  {
   "cell_type": "code",
   "execution_count": null,
   "id": "2ce8e482-e53f-4d12-b2fc-e12acc43285e",
   "metadata": {},
   "outputs": [],
   "source": []
  },
  {
   "cell_type": "markdown",
   "id": "a883b7c9-7ad2-45f3-b859-ca7b81414076",
   "metadata": {},
   "source": [
    "### 2x BG YoloFace"
   ]
  },
  {
   "cell_type": "code",
   "execution_count": null,
   "id": "a713ddea-928e-4a3c-967a-924ba24a9594",
   "metadata": {},
   "outputs": [],
   "source": []
  }
 ],
 "metadata": {
  "kernelspec": {
   "display_name": "Python 3 (ipykernel)",
   "language": "python",
   "name": "python3"
  },
  "language_info": {
   "codemirror_mode": {
    "name": "ipython",
    "version": 3
   },
   "file_extension": ".py",
   "mimetype": "text/x-python",
   "name": "python",
   "nbconvert_exporter": "python",
   "pygments_lexer": "ipython3",
   "version": "3.8.16"
  }
 },
 "nbformat": 4,
 "nbformat_minor": 5
}
